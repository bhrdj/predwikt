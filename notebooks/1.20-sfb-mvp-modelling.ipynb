{
 "cells": [
  {
   "cell_type": "markdown",
   "id": "705efa2a-19bf-4d77-b772-16dad7e63a44",
   "metadata": {
    "tags": []
   },
   "source": [
    "# MVP Modeling"
   ]
  },
  {
   "cell_type": "markdown",
   "id": "ba51207f-5d9e-4cdf-bebf-a5035feac965",
   "metadata": {
    "tags": []
   },
   "source": [
    "##### mariadb pass"
   ]
  },
  {
   "cell_type": "raw",
   "id": "d3f13ff9-79c6-486d-ab93-8bd23e67957d",
   "metadata": {},
   "source": [
    "mysql_user = 'bhrdwj'\n",
    "# mysql_pass = input(f'Enter the MySQL password for user {mysql_user}: ')"
   ]
  },
  {
   "cell_type": "markdown",
   "id": "21a133fa-0432-4d8f-bcec-12035a218807",
   "metadata": {
    "tags": []
   },
   "source": [
    "## intro"
   ]
  },
  {
   "cell_type": "markdown",
   "id": "8c2c97a5-5c01-4bae-a70d-a75b91f2f706",
   "metadata": {
    "tags": []
   },
   "source": [
    "### setup"
   ]
  },
  {
   "cell_type": "markdown",
   "id": "b83fe3dd-1b44-4e4a-909a-f4f7cf504f34",
   "metadata": {
    "tags": []
   },
   "source": [
    "#### imports"
   ]
  },
  {
   "cell_type": "markdown",
   "id": "d97c48fd-a081-4b17-acfa-6bd119ee6cb4",
   "metadata": {
    "tags": []
   },
   "source": [
    "###### basic"
   ]
  },
  {
   "cell_type": "code",
   "execution_count": 23,
   "id": "677de1f7-a7fe-4c47-b656-a9afe805bba2",
   "metadata": {
    "tags": []
   },
   "outputs": [],
   "source": [
    "import pandas as pd, numpy as np, os, re, pyperclip, pickle\n",
    "import mysql.connector as mysql, sqlalchemy\n",
    "from datetime import datetime as dt, timedelta\n",
    "import datetime"
   ]
  },
  {
   "cell_type": "markdown",
   "id": "783882e7-65c6-4012-bef8-0b3e2dcb16ff",
   "metadata": {
    "jp-MarkdownHeadingCollapsed": true,
    "tags": []
   },
   "source": [
    "###### fonts"
   ]
  },
  {
   "cell_type": "markdown",
   "id": "23b6f6fd-c7df-4977-99dc-ee6254fc9cdd",
   "metadata": {},
   "source": [
    "https://github.com/linzino7/matplotlibChinesefix"
   ]
  },
  {
   "cell_type": "code",
   "execution_count": 2,
   "id": "b3779530-aca0-4633-9bf7-c28d9cf9d8cb",
   "metadata": {},
   "outputs": [
    {
     "data": {
      "text/plain": [
       "'/home/bhrdwj/anaconda3/envs/py39/lib/python3.9/site-packages/matplotlib/mpl-data/fonts/ttf/DejaVuSans.ttf'"
      ]
     },
     "execution_count": 2,
     "metadata": {},
     "output_type": "execute_result"
    }
   ],
   "source": [
    "from matplotlib.font_manager import findfont, FontProperties  \n",
    "findfont(FontProperties(family=FontProperties().get_family())) "
   ]
  },
  {
   "cell_type": "code",
   "execution_count": 3,
   "id": "1f6f80fb-cd56-4d87-bab1-c4de014241e8",
   "metadata": {},
   "outputs": [
    {
     "data": {
      "text/plain": [
       "'/home/bhrdwj/anaconda3/envs/py39/lib/python3.9/site-packages/matplotlib/mpl-data/matplotlibrc'"
      ]
     },
     "execution_count": 3,
     "metadata": {},
     "output_type": "execute_result"
    }
   ],
   "source": [
    "import matplotlib \n",
    "matplotlib.matplotlib_fname()"
   ]
  },
  {
   "cell_type": "code",
   "execution_count": 4,
   "id": "e728ca7c-0723-4c1d-85e0-726d33de4048",
   "metadata": {},
   "outputs": [],
   "source": [
    "import matplotlib.pyplot as plt \n",
    "plt.rcParams['font.sans-serif'] = ['Noto Sans CJK JP']  \n",
    "plt.rcParams['axes.unicode_minus'] = False "
   ]
  },
  {
   "cell_type": "raw",
   "id": "7466cc2e-9721-48fa-88f1-a0377e90e6d9",
   "metadata": {},
   "source": [
    "plt.plot((1,2,3),(4,3,1)) \n",
    "plt.title(\"聲量圖\") \n",
    "plt.ylabel(\"文章數量\") \n",
    "plt.xlabel(\"時間\")  \n",
    "plt.show()"
   ]
  },
  {
   "cell_type": "markdown",
   "id": "527c891e-ac8a-44aa-9306-87aee56544a8",
   "metadata": {
    "tags": []
   },
   "source": [
    "#### connect to mariadb"
   ]
  },
  {
   "cell_type": "markdown",
   "id": "a87ac73e-be5a-4d41-adfd-bc0fd263cb96",
   "metadata": {
    "tags": []
   },
   "source": [
    "##### connect"
   ]
  },
  {
   "cell_type": "raw",
   "id": "62750d70-da2b-4ee4-bcea-5b90e07fb2b9",
   "metadata": {},
   "source": [
    "def connect_mariadb():\n",
    "    host='localhost'; user=mysql_user; passwd=mysql_pass; dbname='jawiki';\n",
    "    cxn = mysql.connect(host=host,user=user,passwd=passwd, database=dbname)\n",
    "    cur = cxn.cursor()\n",
    "\n",
    "    connection_str = 'mysql+mysqlconnector://'+user+':'+passwd+'@'+host+'/'+dbname  # removed this after host +':'+dbport\n",
    "    try:\n",
    "        engine = sqlalchemy.create_engine(connection_str)\n",
    "        conn = engine.connect()\n",
    "    except Exception as e:\n",
    "        print('Database connection error - check creds')\n",
    "        print(e)\n",
    "    return cxn, cur, engine, conn\n",
    "        \n",
    "cxn, cur, engine, conn = connect_mariadb()"
   ]
  },
  {
   "cell_type": "markdown",
   "id": "8c5c897e-cc03-4879-862a-b856199b03bf",
   "metadata": {
    "tags": []
   },
   "source": [
    "##### test"
   ]
  },
  {
   "cell_type": "raw",
   "id": "6174acd8-ba9b-4374-b9f6-7a5c6568b9ff",
   "metadata": {},
   "source": [
    "metadata = sqlalchemy.MetaData(conn)\n",
    "metadata.reflect()\n",
    "current_tables = list(metadata.tables.keys())\n",
    "current_tables"
   ]
  },
  {
   "cell_type": "markdown",
   "id": "25cc6a93-c1f8-4c94-b1b9-6bc2a6117f01",
   "metadata": {
    "tags": []
   },
   "source": [
    "#### some paths"
   ]
  },
  {
   "cell_type": "code",
   "execution_count": 5,
   "id": "94ed1a0f-1940-4fb2-bd75-0a5aa164c41b",
   "metadata": {},
   "outputs": [],
   "source": [
    "rawdumps_path = '../data/raw/jawiki/dumps_unzipped/'\n",
    "processed_path = '../data/processed/jawiki/'\n",
    "twitter_path = '../data/raw/twitter/'"
   ]
  },
  {
   "cell_type": "markdown",
   "id": "b5a31c43-82e8-4f30-9696-efa38d493879",
   "metadata": {},
   "source": [
    "#### END"
   ]
  },
  {
   "cell_type": "markdown",
   "id": "39bcfbfb-87cf-4861-9b48-fcc21023339b",
   "metadata": {
    "tags": []
   },
   "source": [
    "### functions  \n",
    "<mark>unfinished:</mark>  google translate"
   ]
  },
  {
   "cell_type": "markdown",
   "id": "8a6b6bda-0a5c-4515-9f66-3a9971f6eb7c",
   "metadata": {
    "tags": []
   },
   "source": [
    "#### simple functions to read from MySQL dumpfiles"
   ]
  },
  {
   "cell_type": "markdown",
   "id": "fbeddab8-656f-4321-885e-5d2297f82244",
   "metadata": {
    "tags": []
   },
   "source": [
    "##### function ```jpr_sql``` "
   ]
  },
  {
   "cell_type": "code",
   "execution_count": 17,
   "id": "3115585d-2072-4291-8e03-3850ea64dce0",
   "metadata": {},
   "outputs": [],
   "source": [
    "def jpr_sql(query, conn=conn):\n",
    "    \"\"\"\n",
    "    Super-basic wrapper of SQLAlchemy conn.execute()\n",
    "    Input:\n",
    "        query string\n",
    "        conn SQLAlchemy connection\n",
    "    Output:\n",
    "        list / result of conn.execute().fetchall()\n",
    "    \"\"\"\n",
    "    try: \n",
    "        a = conn.execute(query)\n",
    "    except Exception as e:\n",
    "        print('Printing execute error:')\n",
    "        print(e)\n",
    "        return None\n",
    "    \n",
    "    try:\n",
    "        return a.fetchall()\n",
    "    except Exception as e:\n",
    "        print('Printing results error:')\n",
    "        print(e)\n",
    "        print('Printing result')\n",
    "        return None"
   ]
  },
  {
   "cell_type": "markdown",
   "id": "dcebd78c-ddba-4049-a588-b7755d5ee363",
   "metadata": {
    "jp-MarkdownHeadingCollapsed": true,
    "tags": []
   },
   "source": [
    "##### function ```byte_read_sql```"
   ]
  },
  {
   "cell_type": "raw",
   "id": "f2377dfc-6ab9-47ad-ac62-f6ddec06f52d",
   "metadata": {},
   "source": [
    "def decode_if_it_can(value):\n",
    "    \"\"\"\n",
    "    Tries to decode a possible bytes object with utf-8. \n",
    "    If fails, silently returns input.\n",
    "    INPUTS: object\n",
    "    OUTPUTS: input or decoded string\n",
    "    \"\"\"\n",
    "    try:\n",
    "        value = value.decode('utf-8')\n",
    "    except (UnicodeDecodeError, AttributeError):\n",
    "        pass\n",
    "    finally:\n",
    "        return value\n",
    "\n",
    "def byte_read_sql(query, conn):\n",
    "    \"\"\"\n",
    "    Simple wrapper for pd.read_sql() for mediawiki dumps including byte-like data.\n",
    "    Inputs: \n",
    "            SQL query string\n",
    "            SQLAlchemy connection\n",
    "    Outputs:\n",
    "            Pandas dataframe with some values modified, that is:\n",
    "                values that can be decoded with .decode('utf-8') are thus decoded.\n",
    "    \"\"\"\n",
    "    df = pd.read_sql(query, conn)\n",
    "    return (df.applymap(lambda x: decode_if_it_can(x)))"
   ]
  },
  {
   "cell_type": "markdown",
   "id": "9a872d43-b1d1-42c9-9b8a-29c3c149b300",
   "metadata": {
    "jp-MarkdownHeadingCollapsed": true,
    "tags": []
   },
   "source": [
    "#### google translate / add to cache <mark> UNFINISHED </mark>"
   ]
  },
  {
   "cell_type": "raw",
   "id": "e3893c8e-1a66-4c8e-9c27-1432689be0d7",
   "metadata": {},
   "source": [
    "def translate(trans_dict, trans_csv_path=\"../data/external/jp2en_translations.csv\") -> str:\n",
    "    "
   ]
  },
  {
   "cell_type": "markdown",
   "id": "0ee7622a-4be0-4e02-a2a7-f24db146622c",
   "metadata": {
    "tags": []
   },
   "source": [
    "#### functions to process MySQL dumpfiles"
   ]
  },
  {
   "cell_type": "markdown",
   "id": "5ce46863-1f56-4294-a5cb-9402746ef6ec",
   "metadata": {
    "jp-MarkdownHeadingCollapsed": true,
    "tags": []
   },
   "source": [
    "##### in cross-section"
   ]
  },
  {
   "cell_type": "markdown",
   "id": "4f838817-de44-443f-b25e-95ebc963cbcf",
   "metadata": {
    "jp-MarkdownHeadingCollapsed": true,
    "tags": []
   },
   "source": [
    "###### get_all_descendants_by_namespace"
   ]
  },
  {
   "cell_type": "raw",
   "id": "104d5ed7-3dda-4b07-bbb7-b43f91b51054",
   "metadata": {},
   "source": [
    "def get_all_descendants_by_namespace(cat_page_id:int, namespaces: list[int] = []) -> pd.DataFrame:\n",
    "    \"\"\"\n",
    "    Get all descendant records from cats_to_selfjoin, filtered by namespace.\n",
    "    Inputs:\n",
    "        cat_page_id: parent-category to get descendants of\n",
    "        namespaces: list of namespaces (ints) to select\n",
    "            0: pages\n",
    "            14: category-pages\n",
    "    \"\"\"\n",
    "    \n",
    "    \n",
    "    if namespaces:\n",
    "        namespace_condition = r\"\"\"\n",
    "        where namespace in(\"\"\" + \", \".join(map(str,namespaces)) + r\"\"\")\n",
    "        \"\"\"\n",
    "    else:\n",
    "        namespace_condition = r\" \"\n",
    "    \n",
    "    sql = r\"\"\"\n",
    "    with recursive cte (id, name, type, namespace, parent_cat_id) as (\n",
    "      select     id,\n",
    "                 name,\n",
    "                 type,\n",
    "                 namespace,\n",
    "                 parent_cat_id\n",
    "      from       cats_to_selfjoin\n",
    "      where      parent_cat_id = \"\"\"+str(cat_page_id)+r\"\"\"\n",
    "      union all\n",
    "      select     p.id,\n",
    "                 p.name,\n",
    "                 p.type,\n",
    "                 p.namespace,\n",
    "                 p.parent_cat_id\n",
    "      from       cats_to_selfjoin p\n",
    "      inner join cte\n",
    "              on p.parent_cat_id = cte.id\n",
    "    )\n",
    "    select distinct id, name, type, namespace from cte\n",
    "    \"\"\" + \"\".join(namespace_condition) +\"\"\"\n",
    "    ;\n",
    "    \"\"\"\n",
    "    return byte_read_sql(sql, conn)"
   ]
  },
  {
   "cell_type": "markdown",
   "id": "ff5951ec-a4ec-4b5c-88e8-fed555cde52b",
   "metadata": {
    "jp-MarkdownHeadingCollapsed": true,
    "tags": []
   },
   "source": [
    "###### create_table_where_pageid_in_list"
   ]
  },
  {
   "cell_type": "raw",
   "id": "c2eb5f28-31f2-479a-b251-2453d7fbe9f6",
   "metadata": {},
   "source": [
    "def create_table_where_pageid_in_list(page_ids:list[int], newname:str = 'disaster_cats_and_pages', oldname:str = 'cats_to_selfjoin') -> None:\n",
    "    jpr_sql(r\"\"\"\n",
    "        create table \"\"\"+newname+r\"\"\" as\n",
    "        select * from \"\"\"+oldname+r\"\"\"\n",
    "        where id in(\"\"\"+ \", \".join(page_ids) +r\"\"\")\n",
    "    \"\"\", conn)\n",
    "    return None"
   ]
  },
  {
   "cell_type": "markdown",
   "id": "961e8ad2-de6c-4149-9849-2d5f8c703ad8",
   "metadata": {
    "jp-MarkdownHeadingCollapsed": true,
    "tags": []
   },
   "source": [
    "###### get_all_descendants_content_pageids"
   ]
  },
  {
   "cell_type": "raw",
   "id": "e087ed26-4938-4b4d-a448-767bc0d01dcf",
   "metadata": {},
   "source": [
    "def get_all_descendants_content_pageids(cat_page_id:int, namespaces: list[int] = [0], tablename:str = 'disaster_cats_and_pages') -> list:\n",
    "    \"\"\"\n",
    "    Get all descendant page_id's from tablename, content pages only by-default.\n",
    "    Inputs:\n",
    "        cat_page_id: parent-category to get descendants of\n",
    "        namespaces: list of namespaces (ints) to select\n",
    "            0: pages (DEFAULT)\n",
    "            14: category-pages\n",
    "    Returns:\n",
    "        list of page_ids\n",
    "    \"\"\"\n",
    "    \n",
    "    \n",
    "    if namespaces:\n",
    "        namespace_condition = r\"\"\"\n",
    "        where namespace in(\"\"\" + \", \".join(map(str,namespaces)) + r\"\"\")\n",
    "        \"\"\"\n",
    "    else:\n",
    "        namespace_condition = r\" \"\n",
    "    \n",
    "    sql = r\"\"\"\n",
    "    with recursive cte (id, name, type, namespace, parent_cat_id) as (\n",
    "      select     id,\n",
    "                 name,\n",
    "                 type,\n",
    "                 namespace,\n",
    "                 parent_cat_id\n",
    "      from       \"\"\"+ tablename +\"\"\"\n",
    "      where      parent_cat_id = \"\"\"+str(cat_page_id)+r\"\"\"\n",
    "      union all\n",
    "      select     p.id,\n",
    "                 p.name,\n",
    "                 p.type,\n",
    "                 p.namespace,\n",
    "                 p.parent_cat_id\n",
    "      from       \"\"\"+ tablename +\"\"\" p\n",
    "      inner join cte\n",
    "              on p.parent_cat_id = cte.id\n",
    "    )\n",
    "    select distinct id from cte\n",
    "    \"\"\" + \"\".join(namespace_condition) +\"\"\"\n",
    "    ;\n",
    "    \"\"\"\n",
    "    return jpr_sql(sql, conn)"
   ]
  },
  {
   "cell_type": "markdown",
   "id": "7ff0f71b-1c9e-4084-b998-77a422af32fe",
   "metadata": {
    "jp-MarkdownHeadingCollapsed": true,
    "tags": []
   },
   "source": [
    "##### in time series"
   ]
  },
  {
   "cell_type": "markdown",
   "id": "bfd7d75a-c24c-48b9-9dbc-603304afb7f8",
   "metadata": {
    "tags": []
   },
   "source": [
    "###### function to count all edits to pages in a whole timeseries table"
   ]
  },
  {
   "cell_type": "raw",
   "id": "b8b30803-ffe8-469d-aeec-446344804af9",
   "metadata": {},
   "source": [
    "def count_edits_within_pagelist_in_dumpfile(pagelist:list[int], year:int, conn=conn):\n",
    "        \n",
    "    stringified_pageids = \", \".join(map(str,pagelist))\n",
    "    \n",
    "    sql = r\"\"\"\n",
    "    select\n",
    "        count(row_id) as num_edits\n",
    "    from h\"\"\"+str(year)+r\"\"\"\n",
    "    where\n",
    "        page_id in (\"\"\"+ stringified_pageids +r\"\"\")\n",
    "        and event_entity = 'revision'\n",
    "        and user_is_bot_by IS NULL\n",
    "        and event_user_is_bot_by IS NULL\n",
    "    ;\n",
    "    \"\"\"\n",
    "    \n",
    "    return pd.read_sql(sql,conn).num_edits.sum()"
   ]
  },
  {
   "cell_type": "markdown",
   "id": "addf7c39-1906-4754-aa35-62e8cc614354",
   "metadata": {
    "tags": []
   },
   "source": [
    "###### query to **explore** revisions within subcats by japanese day"
   ]
  },
  {
   "cell_type": "raw",
   "id": "26f66ee2-d91a-4baa-8d86-1c5820193ef9",
   "metadata": {},
   "source": [
    "def explore_revs_in_subcats_daily(subcat_page_ids):\n",
    "    sql = \"\"\"\n",
    "      with formatted_date as (\n",
    "        select\n",
    "            date_tmstp_jp\n",
    "            ,user_id\n",
    "            ,user_text\n",
    "            ,row_id\n",
    "            ,page_id\n",
    "        from h2013\n",
    "        where\n",
    "            page_id in (\"\"\"+ \", \".join(map(str,subcat_page_ids)) +r\"\"\")\n",
    "            and event_entity = 'revision'\n",
    "            and user_is_bot_by IS NULL\n",
    "            and event_user_is_bot_by IS NULL\n",
    "      )\n",
    "      select\n",
    "        date(date_tmstp_jp) as day\n",
    "        ,page_id\n",
    "        ,count(row_id) as num_edits\n",
    "      from formatted_date\n",
    "      group by day,page_id\n",
    "      order by day,page_id\n",
    "      ;\n",
    "    \"\"\"\n",
    "\n",
    "    return pd.read_sql(sql,conn)"
   ]
  },
  {
   "cell_type": "markdown",
   "id": "da969617-587d-4e5e-aaee-0fa4a0d28b84",
   "metadata": {
    "tags": []
   },
   "source": [
    "###### query to **count** revisions within subcats by japanese day"
   ]
  },
  {
   "cell_type": "code",
   "execution_count": 6,
   "id": "1456fc96-7f4d-400a-aefb-2510b47ba8ed",
   "metadata": {},
   "outputs": [],
   "source": [
    "def count_revs_in_subcat_daily(subcat_name, subcat_descendant_ids:list[int], table:str) -> pd.DataFrame:\n",
    "    \"\"\"\n",
    "    Count revision-edits of content-descendants of subcat, by day.\n",
    "    \"\"\"\n",
    "    \n",
    "    sql = \"\"\"\n",
    "    select\n",
    "        date(date_tmstp_jp) as day\n",
    "        ,count(row_id) as \"\"\"+ subcat_name +r\"\"\"\n",
    "    from \n",
    "        \"\"\"+ table +r\"\"\"\n",
    "    where\n",
    "        page_id in (\"\"\"+ \", \".join(map(str,subcat_descendant_ids)) +r\"\"\")\n",
    "        and event_entity = 'revision'\n",
    "        and user_is_bot_by IS NULL\n",
    "        and event_user_is_bot_by IS NULL\n",
    "    group by day\n",
    "    order by day\n",
    "    ;\n",
    "    \"\"\"\n",
    "    return pd.read_sql(sql,conn) #.set_index('day')"
   ]
  },
  {
   "cell_type": "markdown",
   "id": "a94d8b13-dac9-4cab-8b45-529a13aee585",
   "metadata": {
    "jp-MarkdownHeadingCollapsed": true,
    "tags": []
   },
   "source": [
    "#### function to be my simple API: ```revcounts_within_page_id```"
   ]
  },
  {
   "cell_type": "markdown",
   "id": "b667f2ae-6544-4e74-972e-497d00fb10ba",
   "metadata": {
    "tags": []
   },
   "source": [
    "##### function takes page_id of a subcat or page, and returns df of daily edit counts"
   ]
  },
  {
   "cell_type": "raw",
   "id": "78e012c1-2593-4e0b-a47f-30b3d4e79cf1",
   "metadata": {},
   "source": [
    "def revcounts_within_page_id(page_id:int, descendants:list[int]=[], tablename='history') -> pd.DataFrame:\n",
    "    \"\"\"\n",
    "    Wrapper for count_revs_in_subcat_daily\n",
    "    \"\"\"\n",
    "    \n",
    "    [title, namespace] = byte_read_sql(f\"select page_title, page_namespace from page where page_id = {page_id};\",conn).loc[0].tolist()\n",
    "    \n",
    "    if namespace == 0:\n",
    "        return count_revs_in_subcat_daily(title, [page_id], tablename)\n",
    "    elif namespace == 14:\n",
    "        return count_revs_in_subcat_daily(title, descendants, tablename).set_index('day')\n",
    "    "
   ]
  },
  {
   "cell_type": "markdown",
   "id": "506d261b-9cf2-4a8b-b2f9-cff243b90cc1",
   "metadata": {
    "tags": []
   },
   "source": [
    "### unpickle"
   ]
  },
  {
   "cell_type": "markdown",
   "id": "f3f8dc3e-8714-48b6-93a9-5570aa319793",
   "metadata": {
    "tags": []
   },
   "source": [
    "#### load pickled ```disaster_descendants```"
   ]
  },
  {
   "cell_type": "code",
   "execution_count": 7,
   "id": "ca258ca6-3e70-4c9a-9db8-76f23ad5a1f0",
   "metadata": {},
   "outputs": [],
   "source": [
    "with open(processed_path + 'disaster_descendants_raw.pickle', 'rb') as f:\n",
    "    disaster_descendants_raw = pickle.load(f)"
   ]
  },
  {
   "cell_type": "markdown",
   "id": "acfb017b-d2fb-4694-b8a0-c0ccde64d682",
   "metadata": {
    "jp-MarkdownHeadingCollapsed": true,
    "tags": []
   },
   "source": [
    "#### load pickled ```subcat_content_pageids```"
   ]
  },
  {
   "cell_type": "code",
   "execution_count": 8,
   "id": "bab6ec38-aad2-4d9e-babc-080117f37318",
   "metadata": {},
   "outputs": [],
   "source": [
    "with open(processed_path + 'subcat_content_pageids.pickle', 'rb') as f:\n",
    "    subcat_content_pageids = pickle.load(f)"
   ]
  },
  {
   "cell_type": "markdown",
   "id": "b091f841-1ab1-48af-992d-4b0f394263ed",
   "metadata": {
    "jp-MarkdownHeadingCollapsed": true,
    "tags": []
   },
   "source": [
    "#### load pickled ```subcat_edit_counts```"
   ]
  },
  {
   "cell_type": "code",
   "execution_count": 9,
   "id": "986e33c2-26b5-4f1c-a274-e03f7b248ba9",
   "metadata": {},
   "outputs": [],
   "source": [
    "with open(processed_path + 'subcat_edit_counts.pickle', 'rb') as f:\n",
    "    subcat_edit_counts = pickle.load(f)"
   ]
  },
  {
   "cell_type": "markdown",
   "id": "4a0ef53a-d931-4341-a1e2-6c7e7e59e5f0",
   "metadata": {
    "jp-MarkdownHeadingCollapsed": true,
    "tags": []
   },
   "source": [
    "#### load pickled ```bousai``` (official disaster tweets)"
   ]
  },
  {
   "cell_type": "code",
   "execution_count": 10,
   "id": "5d4bfc35-4981-438f-85ce-39e3a07e9a68",
   "metadata": {},
   "outputs": [],
   "source": [
    "with open(twitter_path + 'jma_bousai.pickle', 'rb') as f:\n",
    "    bousai = pickle.load(f)"
   ]
  },
  {
   "cell_type": "markdown",
   "id": "c8b23e8b-8506-42f1-9c4b-5fdfba1f67a8",
   "metadata": {
    "tags": []
   },
   "source": [
    "## get time series df"
   ]
  },
  {
   "cell_type": "markdown",
   "id": "f3523a03-d1bf-4351-a2ae-e75f0bc016df",
   "metadata": {
    "tags": []
   },
   "source": [
    "### build calendar"
   ]
  },
  {
   "cell_type": "markdown",
   "id": "fd5de47b-08f9-46a1-a4f2-8e1e3c984fe5",
   "metadata": {
    "tags": []
   },
   "source": [
    "#### get calendar boundaries"
   ]
  },
  {
   "cell_type": "code",
   "execution_count": 25,
   "id": "113a6690-692e-4a3d-82de-f9ac0f1ec946",
   "metadata": {},
   "outputs": [],
   "source": [
    "first_twitter_date = bousai.index.min()\n",
    "first_twitter_date = dt.date(first_twitter_date)\n",
    "\n",
    "# last_target_date = jpr_sql('select max(date_tmstp_jp) from h2021;')[0][0]\n",
    "# last_target_date = dt.date(last_target_date)\n",
    "last_target_date = datetime.date(2022, 1, 1)"
   ]
  },
  {
   "cell_type": "code",
   "execution_count": null,
   "id": "dce22a5a-f32a-474e-bc04-98c8cb6e533b",
   "metadata": {},
   "outputs": [],
   "source": [
    "first_twitter_date, last_target_date"
   ]
  },
  {
   "cell_type": "code",
   "execution_count": null,
   "id": "a8b4f39b-36e2-4493-b4ba-9bfadf9838e4",
   "metadata": {},
   "outputs": [],
   "source": [
    "first_date = first_twitter_date + timedelta(days=1)\n",
    "last_date = last_target_date - timedelta(days=1)"
   ]
  },
  {
   "cell_type": "markdown",
   "id": "9cabaa42-99cd-4b3f-b1ba-802f39857468",
   "metadata": {
    "jp-MarkdownHeadingCollapsed": true,
    "tags": []
   },
   "source": [
    "#### make blank calendar"
   ]
  },
  {
   "cell_type": "code",
   "execution_count": null,
   "id": "9ee807ac-5c5c-4f6a-9030-799963ab5ca6",
   "metadata": {},
   "outputs": [],
   "source": [
    "dates = pd.date_range(start=first_date, end=last_date, freq='D', tz='Japan')  # .map(lambda x: dt.date(x))"
   ]
  },
  {
   "cell_type": "markdown",
   "id": "7ada1e14-23a9-4d84-8f68-8b732f120a9d",
   "metadata": {
    "jp-MarkdownHeadingCollapsed": true,
    "tags": []
   },
   "source": [
    "### prep and viz twitter features"
   ]
  },
  {
   "cell_type": "markdown",
   "id": "02f30904-0e8d-4012-876f-392f24c194e5",
   "metadata": {
    "tags": []
   },
   "source": [
    "##### get and viz twitter features"
   ]
  },
  {
   "cell_type": "code",
   "execution_count": null,
   "id": "1ce4013d-2fa1-42ee-bd3a-e68831921993",
   "metadata": {},
   "outputs": [],
   "source": [
    "bousai_days = bousai.iloc[:, 6:].resample('D').sum().fillna(0)\n",
    "bousai_days = bousai_days.loc[dates]"
   ]
  },
  {
   "cell_type": "markdown",
   "id": "921e7f10-905f-4f57-9b31-eff3749223e4",
   "metadata": {
    "tags": []
   },
   "source": [
    "#### prep ```mtwtf```, ```satsun```, ```holiday_on_weekday```"
   ]
  },
  {
   "cell_type": "code",
   "execution_count": null,
   "id": "145e5109-0a24-4f78-bf2c-eb858fd9d0b0",
   "metadata": {},
   "outputs": [],
   "source": [
    "bousai_days['mtwtf'] = bousai_days.index.dayofweek.isin([0,1,2,3,4]).astype(int)\n",
    "bousai_days['satsun'] = bousai_days.index.dayofweek.isin([5,6]).astype(int)\n",
    "# bousai_days['holiday_on_weekday'] = bousai_days.index.dayofweek.isin([5,6])"
   ]
  },
  {
   "cell_type": "code",
   "execution_count": null,
   "id": "94f924fc-ca70-4eb0-80bd-669a3f7244ec",
   "metadata": {},
   "outputs": [],
   "source": [
    "from holidays_jp import CountryHolidays   # a little skeptical of these holidays -- will check them later\n",
    "# get japanese holidays in 2015.\n",
    "holidays2019 = CountryHolidays.get('JP', 2019)\n",
    "holidays2020 = CountryHolidays.get('JP', 2020)\n",
    "holidays2021 = CountryHolidays.get('JP', 2021)\n",
    "holiday_list = [holidays2019, holidays2020, holidays2021]\n",
    "holidays = pd.concat(map(pd.DataFrame, holiday_list), axis='rows').set_index(0)"
   ]
  },
  {
   "cell_type": "code",
   "execution_count": null,
   "id": "43c60840-c9d5-466f-8ad7-3bbddec4f246",
   "metadata": {},
   "outputs": [],
   "source": [
    "holidays.index = holidays.index.tz_localize('Japan')\n",
    "holidays = holidays.resample('D').asfreq(' ').rename(columns={1:'holiday_name'})\n",
    "holidays['holiday'] = holidays.holiday_name.map(lambda x: int(x != ' '))"
   ]
  },
  {
   "cell_type": "code",
   "execution_count": null,
   "id": "63562aa4-ce06-4b3d-b66a-1909b73c930f",
   "metadata": {},
   "outputs": [],
   "source": [
    "bousai_days = bousai_days.join(holidays, how='left')\n",
    "bousai_days['holiday_name'] = bousai_days.holiday_name.fillna(' ')\n",
    "bousai_days['holiday'] = bousai_days.holiday.fillna(0).astype(int)\n",
    "bousai_days['holiday_on_weekday'] = bousai_days[['holiday', 'mtwtf']].all(axis='columns').astype(int)"
   ]
  },
  {
   "cell_type": "markdown",
   "id": "1ab2afff-4f5f-45cd-ac01-b586cfac00a5",
   "metadata": {
    "jp-MarkdownHeadingCollapsed": true,
    "tags": []
   },
   "source": [
    "### prep targets"
   ]
  },
  {
   "cell_type": "markdown",
   "id": "5b8fa7fb-1c49-4475-929c-d35627bc82f6",
   "metadata": {
    "jp-MarkdownHeadingCollapsed": true,
    "tags": []
   },
   "source": [
    "#### clean disaster_descendants"
   ]
  },
  {
   "cell_type": "markdown",
   "id": "261407b5-11bb-4f95-8853-fbe0122f9aa7",
   "metadata": {
    "jp-MarkdownHeadingCollapsed": true,
    "tags": []
   },
   "source": [
    "##### some globals"
   ]
  },
  {
   "cell_type": "code",
   "execution_count": null,
   "id": "105403a1-b013-4321-8a69-8049f6d9f4e9",
   "metadata": {},
   "outputs": [],
   "source": [
    "disaster_cat_page_ids = {'火山災害':2390743, '熱帯低気圧':626482, '雪害':2390774, '地震':135264, '津波':765772}  # '自然災害':137069, \n",
    "disasters_english = {'火山災害':'VolcanicDisaster', '熱帯低気圧':'TropicalCyclones', '雪害':'SnowDamage', '地震':'Earthquake', '津波':'Tsunami'}\n",
    "disasters = list(disaster_cat_page_ids.keys())"
   ]
  },
  {
   "cell_type": "markdown",
   "id": "d6307a62-310e-4c32-8f4b-c990bd1e7d55",
   "metadata": {
    "jp-MarkdownHeadingCollapsed": true,
    "tags": []
   },
   "source": [
    "##### drop rows with duplicate category name for the same category page_id"
   ]
  },
  {
   "cell_type": "code",
   "execution_count": null,
   "id": "c6bbaa7e-15a1-422c-9d68-855b5b7a879d",
   "metadata": {},
   "outputs": [],
   "source": [
    "disaster_descendants = {}\n",
    "for i in disaster_descendants_raw:\n",
    "    disaster_descendants[i] = disaster_descendants_raw[i].drop_duplicates(subset='id')\n",
    "    disaster_descendants[i] = disaster_descendants[i][disaster_descendants[i].namespace == 0]"
   ]
  },
  {
   "cell_type": "markdown",
   "id": "3d62645f-6468-4bca-8dd8-cb1601bdb035",
   "metadata": {
    "jp-MarkdownHeadingCollapsed": true,
    "tags": []
   },
   "source": [
    "#### get disaster_daily_edits"
   ]
  },
  {
   "cell_type": "raw",
   "id": "4e44ca9f-7599-4bb2-abc9-8fd90c58f447",
   "metadata": {},
   "source": [
    "d = {}\n",
    "for i in disaster_descendants:\n",
    "    d[i] = (\n",
    "        revcounts_within_page_id(\n",
    "            disaster_cat_page_ids[i], \n",
    "            disaster_descendants[i].id.tolist(),\n",
    "            tablename='history'\n",
    "        )\n",
    "    )\n",
    "    d[i].index = pd.to_datetime(d[i].index).tz_localize('Japan')\n",
    "    d[i] = d[i].resample('D').asfreq(0)\n",
    "\n",
    "\n",
    "disaster_daily_edits = (\n",
    "    pd.concat([d[i] for i in d], axis='columns').fillna(0)\n",
    ")\n",
    "\n",
    "del d\n"
   ]
  },
  {
   "cell_type": "raw",
   "id": "b3470094-24cb-426f-9835-4f108cdefbfd",
   "metadata": {},
   "source": [
    "with open(processed_path + 'disaster_daily_edits.pickle', 'wb') as f:\n",
    "    pickle.dump(disaster_daily_edits, f)"
   ]
  },
  {
   "cell_type": "code",
   "execution_count": null,
   "id": "a5a91a2b-89d5-4e8c-8ac3-d2e4ec8459cb",
   "metadata": {},
   "outputs": [],
   "source": [
    "with open(processed_path + 'disaster_daily_edits.pickle', 'rb') as f:\n",
    "    disaster_daily_edits = pickle.load(f)"
   ]
  },
  {
   "cell_type": "markdown",
   "id": "275d618c-642d-4324-b0b8-09008d5499d5",
   "metadata": {},
   "source": [
    "#### combine & resample targets with features for train-test-split"
   ]
  },
  {
   "cell_type": "code",
   "execution_count": null,
   "id": "5aa55d93-7a75-4be8-9efe-df026d4e9c31",
   "metadata": {},
   "outputs": [],
   "source": [
    "df = bousai_days.join(disaster_daily_edits, how='left')"
   ]
  },
  {
   "cell_type": "markdown",
   "id": "ecd5fd25-1e2b-4ce1-9abc-8cbba1ed5c9a",
   "metadata": {
    "jp-MarkdownHeadingCollapsed": true,
    "tags": []
   },
   "source": [
    "## EDA"
   ]
  },
  {
   "cell_type": "markdown",
   "id": "39ac51a1-b63c-4fa5-aa76-40904fa414a7",
   "metadata": {
    "jp-MarkdownHeadingCollapsed": true,
    "tags": []
   },
   "source": [
    "#### means and std"
   ]
  },
  {
   "cell_type": "code",
   "execution_count": null,
   "id": "4b4c4086-a9fc-4b95-8e98-c3d88ef78c5b",
   "metadata": {},
   "outputs": [],
   "source": [
    "df.describe().T[['std','mean']]"
   ]
  },
  {
   "cell_type": "code",
   "execution_count": null,
   "id": "1342e8d1-6878-46cd-8471-2ec08ce48704",
   "metadata": {},
   "outputs": [],
   "source": [
    "df.describe().T.apply(lambda x: x['std']/x['mean'], axis=1)  #df.shift(-1)"
   ]
  },
  {
   "cell_type": "markdown",
   "id": "b47c6c60-0780-4460-a973-1f7eb70018ce",
   "metadata": {
    "jp-MarkdownHeadingCollapsed": true,
    "tags": []
   },
   "source": [
    "#### plot twitter features"
   ]
  },
  {
   "cell_type": "code",
   "execution_count": null,
   "id": "c027671d-22c5-4dd4-bcf5-d114b08be660",
   "metadata": {},
   "outputs": [],
   "source": [
    "df.iloc[:,:13].plot(figsize=(20,5), cmap='viridis')\n",
    "plt.show()"
   ]
  },
  {
   "cell_type": "markdown",
   "id": "71622b0e-576a-401b-b92c-8b02ed22ba30",
   "metadata": {
    "jp-MarkdownHeadingCollapsed": true,
    "tags": []
   },
   "source": [
    "#### plot targets"
   ]
  },
  {
   "cell_type": "code",
   "execution_count": null,
   "id": "4c0e7d06-6c16-4c7a-b026-a5a8a8d4082b",
   "metadata": {},
   "outputs": [],
   "source": [
    "df[['火山災害','熱帯低気圧','雪害','地震','津波']].plot(figsize=(20,5), cmap='viridis')\n",
    "plt.show()"
   ]
  },
  {
   "cell_type": "markdown",
   "id": "0d033f65-25db-4fdc-96dd-8631bf676389",
   "metadata": {
    "jp-MarkdownHeadingCollapsed": true,
    "tags": []
   },
   "source": [
    "## Prep for regression"
   ]
  },
  {
   "cell_type": "code",
   "execution_count": null,
   "id": "3450b25e-0eef-4588-8c82-31599412f36a",
   "metadata": {},
   "outputs": [],
   "source": [
    "dzs = ['火', '雨', '震', '雪', '津']  # disasters abbreviated\n",
    "target_names = ['火山災害','熱帯低気圧','地震','雪害','津波']\n",
    "calendar_vars = ['mtwtf','satsun','holiday_on_weekday']\n",
    "twitter_feature_names = (\n",
    "    ['火_火山',      '火_噴火警戒レベル1','火_火口周辺規制','火_入山規制', \n",
    "     '雨_警戒レベル5','雨_大雨',          '雨_土砂災害',\n",
    "     '震_地震',      '震_震度5',         '震_震度678',\n",
    "     '雪_大雪',      '雪_路面凍結',\n",
    "     '津_津波']\n",
    ")"
   ]
  },
  {
   "cell_type": "code",
   "execution_count": null,
   "id": "39bdd793-3ce4-4d84-9cc9-a9d10d0e6072",
   "metadata": {},
   "outputs": [],
   "source": [
    "def get_onset_series(ser):\n",
    "    return (\n",
    "        pd.DataFrame((\n",
    "            ser.shift(1)>0, \n",
    "            ser.shift(2)==0\n",
    "        )).T.dropna()\n",
    "        .all(axis=1)\n",
    "        .astype(int)\n",
    "    )"
   ]
  },
  {
   "cell_type": "code",
   "execution_count": null,
   "id": "02e0840d-6af7-4700-8b7a-9655f123a1be",
   "metadata": {},
   "outputs": [],
   "source": [
    "df_lags = df.copy()\n",
    "tw_l1_vars = [i + '_l1' for i in twitter_feature_names]\n",
    "tw_ons_vars =   [i + '_ons' for i in twitter_feature_names] # onset\n",
    "tg_l1_vars = [i + '_l1' for i in target_names]\n",
    "tg_μ7_vars =    [i + '_μ7' for i in target_names] # rolling 7-day mean\n",
    "for i in twitter_feature_names + target_names:\n",
    "    df_lags[i+'_l1'] = df_lags[i].shift(1)\n",
    "for i in twitter_feature_names:\n",
    "    df_lags[i+'_ons'] = get_onset_series(df_lags[i])\n",
    "for i in target_names:\n",
    "    df_lags[i+'_μ7'] = df_lags[i].rolling(window=7, closed=\"left\").mean()\n",
    "df_lags = df_lags.dropna()"
   ]
  },
  {
   "cell_type": "markdown",
   "id": "b04cb7fc-f3b0-4570-87d4-cea6ffc76cbc",
   "metadata": {
    "jp-MarkdownHeadingCollapsed": true,
    "tags": []
   },
   "source": [
    "##### EDA on the rolling average variable"
   ]
  },
  {
   "cell_type": "code",
   "execution_count": null,
   "id": "31013126-9973-45b2-a21c-480f82f3ff29",
   "metadata": {},
   "outputs": [],
   "source": [
    "df_lags[df_lags.columns[df_lags.columns.str.startswith('熱帯低気圧')]].iloc[280:300]"
   ]
  },
  {
   "cell_type": "markdown",
   "id": "38740d83-5fe3-4744-a7e5-116efefa1fa3",
   "metadata": {
    "jp-MarkdownHeadingCollapsed": true,
    "tags": []
   },
   "source": [
    "##### EDA on the onset variable"
   ]
  },
  {
   "cell_type": "code",
   "execution_count": null,
   "id": "0c6f92ee-b20b-43c3-b63d-cca666279888",
   "metadata": {},
   "outputs": [],
   "source": [
    "df_lags[df_lags.columns[df_lags.columns.str.startswith('雨_大雨')]].iloc[280:300]"
   ]
  },
  {
   "cell_type": "markdown",
   "id": "29c9bfaf-5343-4b3e-bd29-2a695a8deec3",
   "metadata": {},
   "source": [
    "#### prep"
   ]
  },
  {
   "cell_type": "code",
   "execution_count": null,
   "id": "7363dc4d-f673-4680-befc-be6ec1111c99",
   "metadata": {},
   "outputs": [],
   "source": [
    "YY = df_lags[target_names]"
   ]
  },
  {
   "cell_type": "code",
   "execution_count": null,
   "id": "67be2b2e-4986-4673-a3e6-2f1a82eb0c6e",
   "metadata": {},
   "outputs": [],
   "source": [
    "XX = df_lags[tw_l1_vars + tw_ons_vars + tg_l1_vars + tg_μ7_vars + calendar_vars]"
   ]
  },
  {
   "cell_type": "code",
   "execution_count": null,
   "id": "f9b2ac58-2b0d-41fc-9c4f-99fb1e1161a1",
   "metadata": {},
   "outputs": [],
   "source": [
    "end_tr = 400\n",
    "end_vl = 500\n",
    "XXtr, YYtr = XX.copy().iloc[:end_tr], YY.iloc[:end_tr]\n",
    "XXte, YYte = XX.copy().iloc[end_tr:end_vl], YY.iloc[end_tr:end_vl]"
   ]
  },
  {
   "cell_type": "code",
   "execution_count": null,
   "id": "f902c204-c4c1-4fc5-ab6d-9479ce4b2882",
   "metadata": {},
   "outputs": [],
   "source": [
    "dzs"
   ]
  },
  {
   "cell_type": "code",
   "execution_count": null,
   "id": "a5c22abd-2528-4a50-92a4-57a330cd5fa4",
   "metadata": {},
   "outputs": [],
   "source": [
    "target_names"
   ]
  },
  {
   "cell_type": "code",
   "execution_count": null,
   "id": "566be370-74c4-4280-b6e1-3b072dcebbbb",
   "metadata": {},
   "outputs": [],
   "source": [
    "Xcols = {}\n",
    "for i,j in zip(dzs, target_names):\n",
    "    Xcols[i] = (XX.columns[XX.columns.str.startswith(i)].tolist() + \n",
    "                   XX.columns[XX.columns.str.startswith(j)].tolist() +\n",
    "                   calendar_vars\n",
    "                 )\n",
    "\n",
    "# Xcols['火'] = XX.columns[XX.columns.str.startswith('火')].tolist() + XX.columns.str.startswith('火山災害').tolist()+calendar_vars\n",
    "# Xcols['雨'] = XX.columns.str.startswith('雨').tolist() + XX.columns.str.startswith('熱帯低気圧').tolist()+calendar_vars\n",
    "# Xcols['震'] = XX.columns.str.startswith('震').tolist() + XX.columns.str.startswith('地震').tolist()+calendar_vars\n",
    "# Xcols['雪'] = XX.columns.str.startswith('雪').tolist() + XX.columns.str.startswith('雪害').tolist()+calendar_vars\n",
    "# Xcols['津'] = XX.columns.str.startswith('津').tolist() + XX.columns.str.startswith('津波').tolist()+calendar_vars\n",
    "# # Xcols['時'] = ['mtwtf','satsun','holiday_on_weekday']\n",
    "\n",
    "ycols = {'火':'火山災害','雨':'熱帯低気圧','震':'地震','雪':'雪害','津':'津波','時':'地震'}"
   ]
  },
  {
   "cell_type": "code",
   "execution_count": null,
   "id": "0ff7182b-ede9-4d2c-852d-7c25ea5747f2",
   "metadata": {},
   "outputs": [],
   "source": [
    "Xtr, Xte = {}, {}\n",
    "ytr, yte = {}, {}\n",
    "for diz in Xcols:\n",
    "    Xtr[diz] = XXtr[Xcols[diz]]\n",
    "    Xte[diz] = XXte[Xcols[diz]]\n",
    "    ytr[diz] = YYtr[ycols[diz]]\n",
    "    yte[diz] = YYte[ycols[diz]]"
   ]
  },
  {
   "cell_type": "markdown",
   "id": "2d5d6f16-e395-497d-91c1-b3267cc6f4ed",
   "metadata": {
    "tags": []
   },
   "source": [
    "## Try Models"
   ]
  },
  {
   "cell_type": "markdown",
   "id": "1319bbf2-bb44-41bb-a7ab-a6bbd22cbbc5",
   "metadata": {},
   "source": [
    "### Linear Regression"
   ]
  },
  {
   "cell_type": "code",
   "execution_count": null,
   "id": "2318af9c-a7ff-4d9c-b671-36b693e07f18",
   "metadata": {},
   "outputs": [],
   "source": [
    "from sklearn.linear_model import LinearRegression"
   ]
  },
  {
   "cell_type": "code",
   "execution_count": null,
   "id": "aba5f8f7-5684-4aa9-9c7a-14d936889d53",
   "metadata": {},
   "outputs": [],
   "source": [
    "ytr.keys(), Xtr.keys()"
   ]
  },
  {
   "cell_type": "code",
   "execution_count": null,
   "id": "d1dd1dbe-bd93-40fd-91a3-b7963df7eccd",
   "metadata": {},
   "outputs": [],
   "source": [
    "lr = {}\n",
    "for diz in Xtr:\n",
    "    lr[diz] = LinearRegression()\n",
    "    lr[diz].fit(Xtr[diz],ytr[diz])\n",
    "    print(lr[diz].score(Xte[diz],yte[diz]))"
   ]
  },
  {
   "cell_type": "markdown",
   "id": "4f012cb1-9514-4f37-830d-8d4d34b14794",
   "metadata": {},
   "source": [
    "### Random Forest"
   ]
  },
  {
   "cell_type": "code",
   "execution_count": null,
   "id": "14cadd2b-2723-4de6-b312-6e4bc8d709bb",
   "metadata": {},
   "outputs": [],
   "source": [
    "from sklearn.ensemble import RandomForestRegressor"
   ]
  },
  {
   "cell_type": "code",
   "execution_count": null,
   "id": "14163f27-2c09-4443-8bd9-6e1c7a8d2851",
   "metadata": {},
   "outputs": [],
   "source": [
    "lr = {}\n",
    "for diz in Xtr:\n",
    "    lr[diz] = RandomForestRegressor(max_depth=4)\n",
    "    lr[diz].fit(Xtr[diz],ytr[diz])\n",
    "    print(lr[diz].score(Xte[diz],yte[diz]))"
   ]
  },
  {
   "cell_type": "markdown",
   "id": "024e186e-87fb-4582-88db-8cdc6d2842ce",
   "metadata": {},
   "source": [
    "### Random Forest"
   ]
  },
  {
   "cell_type": "code",
   "execution_count": null,
   "id": "b3a490ab-cc74-4ed1-ad94-dedd2a5f4c4b",
   "metadata": {},
   "outputs": [],
   "source": [
    "from sklearn.ensemble import RandomForestRegressor"
   ]
  },
  {
   "cell_type": "code",
   "execution_count": null,
   "id": "9b518dff-31bf-4acb-bed0-242bafa1d3f0",
   "metadata": {},
   "outputs": [],
   "source": [
    "lr = {}\n",
    "for diz in dizs:\n",
    "    lr[diz] = RandomForestRegressor(max_depth=1)\n",
    "    lr[diz].fit(Xtr[diz],ytr[diz])\n",
    "    print(lr[diz].score(Xte[diz],yte[diz]))"
   ]
  },
  {
   "cell_type": "code",
   "execution_count": null,
   "id": "804646d0-8dae-4656-a3bb-322cede8ef87",
   "metadata": {},
   "outputs": [],
   "source": []
  },
  {
   "cell_type": "code",
   "execution_count": null,
   "id": "097bcc86-b25d-4d13-a54e-2a4741831063",
   "metadata": {},
   "outputs": [],
   "source": []
  },
  {
   "cell_type": "code",
   "execution_count": null,
   "id": "a944ae76-b6af-408d-a97c-a63cac74531b",
   "metadata": {},
   "outputs": [],
   "source": []
  }
 ],
 "metadata": {
  "kernelspec": {
   "display_name": "Python 3 (ipykernel)",
   "language": "python",
   "name": "python3"
  },
  "language_info": {
   "codemirror_mode": {
    "name": "ipython",
    "version": 3
   },
   "file_extension": ".py",
   "mimetype": "text/x-python",
   "name": "python",
   "nbconvert_exporter": "python",
   "pygments_lexer": "ipython3",
   "version": "3.9.7"
  }
 },
 "nbformat": 4,
 "nbformat_minor": 5
}
