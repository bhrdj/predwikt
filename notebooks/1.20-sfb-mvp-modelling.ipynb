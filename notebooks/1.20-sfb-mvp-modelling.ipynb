{
 "cells": [
  {
   "cell_type": "markdown",
   "id": "705efa2a-19bf-4d77-b772-16dad7e63a44",
   "metadata": {
    "tags": []
   },
   "source": [
    "# MVP Modeling"
   ]
  },
  {
   "cell_type": "markdown",
   "id": "ba51207f-5d9e-4cdf-bebf-a5035feac965",
   "metadata": {
    "tags": []
   },
   "source": [
    "##### mariadb pass"
   ]
  },
  {
   "cell_type": "raw",
   "id": "d3f13ff9-79c6-486d-ab93-8bd23e67957d",
   "metadata": {},
   "source": [
    "mysql_user = 'bhrdwj'\n",
    "# mysql_pass = input(f'Enter the MySQL password for user {mysql_user}: ')"
   ]
  },
  {
   "cell_type": "markdown",
   "id": "21a133fa-0432-4d8f-bcec-12035a218807",
   "metadata": {
    "tags": []
   },
   "source": [
    "## intro"
   ]
  },
  {
   "cell_type": "markdown",
   "id": "8c2c97a5-5c01-4bae-a70d-a75b91f2f706",
   "metadata": {
    "tags": []
   },
   "source": [
    "### setup"
   ]
  },
  {
   "cell_type": "markdown",
   "id": "b83fe3dd-1b44-4e4a-909a-f4f7cf504f34",
   "metadata": {
    "tags": []
   },
   "source": [
    "#### imports"
   ]
  },
  {
   "cell_type": "markdown",
   "id": "d97c48fd-a081-4b17-acfa-6bd119ee6cb4",
   "metadata": {
    "tags": []
   },
   "source": [
    "###### basic"
   ]
  },
  {
   "cell_type": "code",
   "execution_count": 1,
   "id": "677de1f7-a7fe-4c47-b656-a9afe805bba2",
   "metadata": {
    "tags": []
   },
   "outputs": [],
   "source": [
    "import pandas as pd, numpy as np, os, re, pyperclip, pickle\n",
    "import mysql.connector as mysql, sqlalchemy\n",
    "from datetime import datetime as dt, timedelta\n",
    "import datetime"
   ]
  },
  {
   "cell_type": "code",
   "execution_count": 2,
   "id": "2318af9c-a7ff-4d9c-b671-36b693e07f18",
   "metadata": {},
   "outputs": [],
   "source": [
    "from sklearn.linear_model import Ridge\n",
    "from sklearn.model_selection import GridSearchCV"
   ]
  },
  {
   "cell_type": "markdown",
   "id": "783882e7-65c6-4012-bef8-0b3e2dcb16ff",
   "metadata": {
    "jp-MarkdownHeadingCollapsed": true,
    "tags": []
   },
   "source": [
    "###### fonts"
   ]
  },
  {
   "cell_type": "markdown",
   "id": "23b6f6fd-c7df-4977-99dc-ee6254fc9cdd",
   "metadata": {},
   "source": [
    "https://github.com/linzino7/matplotlibChinesefix"
   ]
  },
  {
   "cell_type": "code",
   "execution_count": 3,
   "id": "b3779530-aca0-4633-9bf7-c28d9cf9d8cb",
   "metadata": {},
   "outputs": [
    {
     "data": {
      "text/plain": [
       "'/home/bhrdwj/anaconda3/envs/py39/lib/python3.9/site-packages/matplotlib/mpl-data/fonts/ttf/DejaVuSans.ttf'"
      ]
     },
     "execution_count": 3,
     "metadata": {},
     "output_type": "execute_result"
    }
   ],
   "source": [
    "from matplotlib.font_manager import findfont, FontProperties  \n",
    "findfont(FontProperties(family=FontProperties().get_family())) "
   ]
  },
  {
   "cell_type": "code",
   "execution_count": 4,
   "id": "1f6f80fb-cd56-4d87-bab1-c4de014241e8",
   "metadata": {},
   "outputs": [
    {
     "data": {
      "text/plain": [
       "'/home/bhrdwj/anaconda3/envs/py39/lib/python3.9/site-packages/matplotlib/mpl-data/matplotlibrc'"
      ]
     },
     "execution_count": 4,
     "metadata": {},
     "output_type": "execute_result"
    }
   ],
   "source": [
    "import matplotlib \n",
    "matplotlib.matplotlib_fname()"
   ]
  },
  {
   "cell_type": "code",
   "execution_count": 5,
   "id": "e728ca7c-0723-4c1d-85e0-726d33de4048",
   "metadata": {},
   "outputs": [],
   "source": [
    "import matplotlib.pyplot as plt \n",
    "plt.rcParams['font.sans-serif'] = ['Noto Sans CJK JP']  \n",
    "plt.rcParams['axes.unicode_minus'] = False "
   ]
  },
  {
   "cell_type": "raw",
   "id": "7466cc2e-9721-48fa-88f1-a0377e90e6d9",
   "metadata": {},
   "source": [
    "plt.plot((1,2,3),(4,3,1)) \n",
    "plt.title(\"聲量圖\") \n",
    "plt.ylabel(\"文章數量\") \n",
    "plt.xlabel(\"時間\")  \n",
    "plt.show()"
   ]
  },
  {
   "cell_type": "markdown",
   "id": "527c891e-ac8a-44aa-9306-87aee56544a8",
   "metadata": {
    "jp-MarkdownHeadingCollapsed": true,
    "tags": []
   },
   "source": [
    "#### connect to mariadb"
   ]
  },
  {
   "cell_type": "markdown",
   "id": "a87ac73e-be5a-4d41-adfd-bc0fd263cb96",
   "metadata": {
    "tags": []
   },
   "source": [
    "##### connect"
   ]
  },
  {
   "cell_type": "raw",
   "id": "62750d70-da2b-4ee4-bcea-5b90e07fb2b9",
   "metadata": {},
   "source": [
    "def connect_mariadb():\n",
    "    host='localhost'; user=mysql_user; passwd=mysql_pass; dbname='jawiki';\n",
    "    cxn = mysql.connect(host=host,user=user,passwd=passwd, database=dbname)\n",
    "    cur = cxn.cursor()\n",
    "\n",
    "    connection_str = 'mysql+mysqlconnector://'+user+':'+passwd+'@'+host+'/'+dbname  # removed this after host +':'+dbport\n",
    "    try:\n",
    "        engine = sqlalchemy.create_engine(connection_str)\n",
    "        conn = engine.connect()\n",
    "    except Exception as e:\n",
    "        print('Database connection error - check creds')\n",
    "        print(e)\n",
    "    return cxn, cur, engine, conn\n",
    "        \n",
    "cxn, cur, engine, conn = connect_mariadb()"
   ]
  },
  {
   "cell_type": "markdown",
   "id": "8c5c897e-cc03-4879-862a-b856199b03bf",
   "metadata": {
    "tags": []
   },
   "source": [
    "##### test"
   ]
  },
  {
   "cell_type": "raw",
   "id": "6174acd8-ba9b-4374-b9f6-7a5c6568b9ff",
   "metadata": {},
   "source": [
    "metadata = sqlalchemy.MetaData(conn)\n",
    "metadata.reflect()\n",
    "current_tables = list(metadata.tables.keys())\n",
    "current_tables"
   ]
  },
  {
   "cell_type": "markdown",
   "id": "25cc6a93-c1f8-4c94-b1b9-6bc2a6117f01",
   "metadata": {
    "jp-MarkdownHeadingCollapsed": true,
    "tags": []
   },
   "source": [
    "#### some paths"
   ]
  },
  {
   "cell_type": "code",
   "execution_count": 6,
   "id": "94ed1a0f-1940-4fb2-bd75-0a5aa164c41b",
   "metadata": {},
   "outputs": [],
   "source": [
    "rawdumps_path = '../data/raw/jawiki/dumps_unzipped/'\n",
    "processed_path = '../data/processed/jawiki/'\n",
    "twitter_path = '../data/raw/twitter/'"
   ]
  },
  {
   "cell_type": "markdown",
   "id": "b5a31c43-82e8-4f30-9696-efa38d493879",
   "metadata": {},
   "source": [
    "#### END"
   ]
  },
  {
   "cell_type": "markdown",
   "id": "39bcfbfb-87cf-4861-9b48-fcc21023339b",
   "metadata": {
    "jp-MarkdownHeadingCollapsed": true,
    "tags": []
   },
   "source": [
    "### functions  \n",
    "<mark>unfinished:</mark>  google translate"
   ]
  },
  {
   "cell_type": "markdown",
   "id": "8a6b6bda-0a5c-4515-9f66-3a9971f6eb7c",
   "metadata": {
    "jp-MarkdownHeadingCollapsed": true,
    "tags": []
   },
   "source": [
    "#### simple functions to read from MySQL dumpfiles"
   ]
  },
  {
   "cell_type": "markdown",
   "id": "fbeddab8-656f-4321-885e-5d2297f82244",
   "metadata": {
    "jp-MarkdownHeadingCollapsed": true,
    "tags": []
   },
   "source": [
    "##### function ```jpr_sql``` "
   ]
  },
  {
   "cell_type": "raw",
   "id": "3e4e4ee9-012f-4556-8a55-39d78441cfe8",
   "metadata": {},
   "source": [
    "def jpr_sql(query, conn=conn):\n",
    "    \"\"\"\n",
    "    Super-basic wrapper of SQLAlchemy conn.execute()\n",
    "    Input:\n",
    "        query string\n",
    "        conn SQLAlchemy connection\n",
    "    Output:\n",
    "        list / result of conn.execute().fetchall()\n",
    "    \"\"\"\n",
    "    try: \n",
    "        a = conn.execute(query)\n",
    "    except Exception as e:\n",
    "        print('Printing execute error:')\n",
    "        print(e)\n",
    "        return None\n",
    "    \n",
    "    try:\n",
    "        return a.fetchall()\n",
    "    except Exception as e:\n",
    "        print('Printing results error:')\n",
    "        print(e)\n",
    "        print('Printing result')\n",
    "        return None"
   ]
  },
  {
   "cell_type": "markdown",
   "id": "dcebd78c-ddba-4049-a588-b7755d5ee363",
   "metadata": {
    "jp-MarkdownHeadingCollapsed": true,
    "tags": []
   },
   "source": [
    "##### function ```byte_read_sql```"
   ]
  },
  {
   "cell_type": "raw",
   "id": "f2377dfc-6ab9-47ad-ac62-f6ddec06f52d",
   "metadata": {},
   "source": [
    "def decode_if_it_can(value):\n",
    "    \"\"\"\n",
    "    Tries to decode a possible bytes object with utf-8. \n",
    "    If fails, silently returns input.\n",
    "    INPUTS: object\n",
    "    OUTPUTS: input or decoded string\n",
    "    \"\"\"\n",
    "    try:\n",
    "        value = value.decode('utf-8')\n",
    "    except (UnicodeDecodeError, AttributeError):\n",
    "        pass\n",
    "    finally:\n",
    "        return value\n",
    "\n",
    "def byte_read_sql(query, conn):\n",
    "    \"\"\"\n",
    "    Simple wrapper for pd.read_sql() for mediawiki dumps including byte-like data.\n",
    "    Inputs: \n",
    "            SQL query string\n",
    "            SQLAlchemy connection\n",
    "    Outputs:\n",
    "            Pandas dataframe with some values modified, that is:\n",
    "                values that can be decoded with .decode('utf-8') are thus decoded.\n",
    "    \"\"\"\n",
    "    df = pd.read_sql(query, conn)\n",
    "    return (df.applymap(lambda x: decode_if_it_can(x)))"
   ]
  },
  {
   "cell_type": "markdown",
   "id": "9a872d43-b1d1-42c9-9b8a-29c3c149b300",
   "metadata": {
    "jp-MarkdownHeadingCollapsed": true,
    "tags": []
   },
   "source": [
    "#### google translate / add to cache <mark> UNFINISHED </mark>"
   ]
  },
  {
   "cell_type": "raw",
   "id": "e3893c8e-1a66-4c8e-9c27-1432689be0d7",
   "metadata": {},
   "source": [
    "def translate(trans_dict, trans_csv_path=\"../data/external/jp2en_translations.csv\") -> str:\n",
    "    "
   ]
  },
  {
   "cell_type": "markdown",
   "id": "0ee7622a-4be0-4e02-a2a7-f24db146622c",
   "metadata": {
    "tags": []
   },
   "source": [
    "#### functions to process MySQL dumpfiles"
   ]
  },
  {
   "cell_type": "markdown",
   "id": "5ce46863-1f56-4294-a5cb-9402746ef6ec",
   "metadata": {
    "tags": []
   },
   "source": [
    "##### in cross-section"
   ]
  },
  {
   "cell_type": "markdown",
   "id": "4f838817-de44-443f-b25e-95ebc963cbcf",
   "metadata": {
    "tags": []
   },
   "source": [
    "###### get_all_descendants_by_namespace"
   ]
  },
  {
   "cell_type": "raw",
   "id": "104d5ed7-3dda-4b07-bbb7-b43f91b51054",
   "metadata": {},
   "source": [
    "def get_all_descendants_by_namespace(cat_page_id:int, namespaces: list[int] = []) -> pd.DataFrame:\n",
    "    \"\"\"\n",
    "    Get all descendant records from cats_to_selfjoin, filtered by namespace.\n",
    "    Inputs:\n",
    "        cat_page_id: parent-category to get descendants of\n",
    "        namespaces: list of namespaces (ints) to select\n",
    "            0: pages\n",
    "            14: category-pages\n",
    "    \"\"\"\n",
    "    \n",
    "    \n",
    "    if namespaces:\n",
    "        namespace_condition = r\"\"\"\n",
    "        where namespace in(\"\"\" + \", \".join(map(str,namespaces)) + r\"\"\")\n",
    "        \"\"\"\n",
    "    else:\n",
    "        namespace_condition = r\" \"\n",
    "    \n",
    "    sql = r\"\"\"\n",
    "    with recursive cte (id, name, type, namespace, parent_cat_id) as (\n",
    "      select     id,\n",
    "                 name,\n",
    "                 type,\n",
    "                 namespace,\n",
    "                 parent_cat_id\n",
    "      from       cats_to_selfjoin\n",
    "      where      parent_cat_id = \"\"\"+str(cat_page_id)+r\"\"\"\n",
    "      union all\n",
    "      select     p.id,\n",
    "                 p.name,\n",
    "                 p.type,\n",
    "                 p.namespace,\n",
    "                 p.parent_cat_id\n",
    "      from       cats_to_selfjoin p\n",
    "      inner join cte\n",
    "              on p.parent_cat_id = cte.id\n",
    "    )\n",
    "    select distinct id, name, type, namespace from cte\n",
    "    \"\"\" + \"\".join(namespace_condition) +\"\"\"\n",
    "    ;\n",
    "    \"\"\"\n",
    "    return byte_read_sql(sql, conn)"
   ]
  },
  {
   "cell_type": "markdown",
   "id": "ff5951ec-a4ec-4b5c-88e8-fed555cde52b",
   "metadata": {
    "jp-MarkdownHeadingCollapsed": true,
    "tags": []
   },
   "source": [
    "###### create_table_where_pageid_in_list"
   ]
  },
  {
   "cell_type": "raw",
   "id": "c2eb5f28-31f2-479a-b251-2453d7fbe9f6",
   "metadata": {},
   "source": [
    "def create_table_where_pageid_in_list(page_ids:list[int], newname:str = 'disaster_cats_and_pages', oldname:str = 'cats_to_selfjoin') -> None:\n",
    "    jpr_sql(r\"\"\"\n",
    "        create table \"\"\"+newname+r\"\"\" as\n",
    "        select * from \"\"\"+oldname+r\"\"\"\n",
    "        where id in(\"\"\"+ \", \".join(page_ids) +r\"\"\")\n",
    "    \"\"\", conn)\n",
    "    return None"
   ]
  },
  {
   "cell_type": "markdown",
   "id": "961e8ad2-de6c-4149-9849-2d5f8c703ad8",
   "metadata": {
    "jp-MarkdownHeadingCollapsed": true,
    "tags": []
   },
   "source": [
    "###### get_all_descendants_content_pageids"
   ]
  },
  {
   "cell_type": "raw",
   "id": "e087ed26-4938-4b4d-a448-767bc0d01dcf",
   "metadata": {},
   "source": [
    "def get_all_descendants_content_pageids(cat_page_id:int, namespaces: list[int] = [0], tablename:str = 'disaster_cats_and_pages') -> list:\n",
    "    \"\"\"\n",
    "    Get all descendant page_id's from tablename, content pages only by-default.\n",
    "    Inputs:\n",
    "        cat_page_id: parent-category to get descendants of\n",
    "        namespaces: list of namespaces (ints) to select\n",
    "            0: pages (DEFAULT)\n",
    "            14: category-pages\n",
    "    Returns:\n",
    "        list of page_ids\n",
    "    \"\"\"\n",
    "    \n",
    "    \n",
    "    if namespaces:\n",
    "        namespace_condition = r\"\"\"\n",
    "        where namespace in(\"\"\" + \", \".join(map(str,namespaces)) + r\"\"\")\n",
    "        \"\"\"\n",
    "    else:\n",
    "        namespace_condition = r\" \"\n",
    "    \n",
    "    sql = r\"\"\"\n",
    "    with recursive cte (id, name, type, namespace, parent_cat_id) as (\n",
    "      select     id,\n",
    "                 name,\n",
    "                 type,\n",
    "                 namespace,\n",
    "                 parent_cat_id\n",
    "      from       \"\"\"+ tablename +\"\"\"\n",
    "      where      parent_cat_id = \"\"\"+str(cat_page_id)+r\"\"\"\n",
    "      union all\n",
    "      select     p.id,\n",
    "                 p.name,\n",
    "                 p.type,\n",
    "                 p.namespace,\n",
    "                 p.parent_cat_id\n",
    "      from       \"\"\"+ tablename +\"\"\" p\n",
    "      inner join cte\n",
    "              on p.parent_cat_id = cte.id\n",
    "    )\n",
    "    select distinct id from cte\n",
    "    \"\"\" + \"\".join(namespace_condition) +\"\"\"\n",
    "    ;\n",
    "    \"\"\"\n",
    "    return jpr_sql(sql, conn)"
   ]
  },
  {
   "cell_type": "markdown",
   "id": "7ff0f71b-1c9e-4084-b998-77a422af32fe",
   "metadata": {
    "jp-MarkdownHeadingCollapsed": true,
    "tags": []
   },
   "source": [
    "##### in time series"
   ]
  },
  {
   "cell_type": "markdown",
   "id": "bfd7d75a-c24c-48b9-9dbc-603304afb7f8",
   "metadata": {
    "tags": []
   },
   "source": [
    "###### function to count all edits to pages in a whole timeseries table"
   ]
  },
  {
   "cell_type": "raw",
   "id": "b8b30803-ffe8-469d-aeec-446344804af9",
   "metadata": {},
   "source": [
    "def count_edits_within_pagelist_in_dumpfile(pagelist:list[int], year:int, conn=conn):\n",
    "        \n",
    "    stringified_pageids = \", \".join(map(str,pagelist))\n",
    "    \n",
    "    sql = r\"\"\"\n",
    "    select\n",
    "        count(row_id) as num_edits\n",
    "    from h\"\"\"+str(year)+r\"\"\"\n",
    "    where\n",
    "        page_id in (\"\"\"+ stringified_pageids +r\"\"\")\n",
    "        and event_entity = 'revision'\n",
    "        and user_is_bot_by IS NULL\n",
    "        and event_user_is_bot_by IS NULL\n",
    "    ;\n",
    "    \"\"\"\n",
    "    \n",
    "    return pd.read_sql(sql,conn).num_edits.sum()"
   ]
  },
  {
   "cell_type": "markdown",
   "id": "addf7c39-1906-4754-aa35-62e8cc614354",
   "metadata": {
    "tags": []
   },
   "source": [
    "###### query to **explore** revisions within subcats by japanese day"
   ]
  },
  {
   "cell_type": "raw",
   "id": "26f66ee2-d91a-4baa-8d86-1c5820193ef9",
   "metadata": {},
   "source": [
    "def explore_revs_in_subcats_daily(subcat_page_ids):\n",
    "    sql = \"\"\"\n",
    "      with formatted_date as (\n",
    "        select\n",
    "            date_tmstp_jp\n",
    "            ,user_id\n",
    "            ,user_text\n",
    "            ,row_id\n",
    "            ,page_id\n",
    "        from h2013\n",
    "        where\n",
    "            page_id in (\"\"\"+ \", \".join(map(str,subcat_page_ids)) +r\"\"\")\n",
    "            and event_entity = 'revision'\n",
    "            and user_is_bot_by IS NULL\n",
    "            and event_user_is_bot_by IS NULL\n",
    "      )\n",
    "      select\n",
    "        date(date_tmstp_jp) as day\n",
    "        ,page_id\n",
    "        ,count(row_id) as num_edits\n",
    "      from formatted_date\n",
    "      group by day,page_id\n",
    "      order by day,page_id\n",
    "      ;\n",
    "    \"\"\"\n",
    "\n",
    "    return pd.read_sql(sql,conn)"
   ]
  },
  {
   "cell_type": "markdown",
   "id": "da969617-587d-4e5e-aaee-0fa4a0d28b84",
   "metadata": {
    "tags": []
   },
   "source": [
    "###### query to **count** revisions within subcats by japanese day"
   ]
  },
  {
   "cell_type": "code",
   "execution_count": 7,
   "id": "1456fc96-7f4d-400a-aefb-2510b47ba8ed",
   "metadata": {},
   "outputs": [],
   "source": [
    "def count_revs_in_subcat_daily(subcat_name, subcat_descendant_ids:list[int], table:str) -> pd.DataFrame:\n",
    "    \"\"\"\n",
    "    Count revision-edits of content-descendants of subcat, by day.\n",
    "    \"\"\"\n",
    "    \n",
    "    sql = \"\"\"\n",
    "    select\n",
    "        date(date_tmstp_jp) as day\n",
    "        ,count(row_id) as \"\"\"+ subcat_name +r\"\"\"\n",
    "    from \n",
    "        \"\"\"+ table +r\"\"\"\n",
    "    where\n",
    "        page_id in (\"\"\"+ \", \".join(map(str,subcat_descendant_ids)) +r\"\"\")\n",
    "        and event_entity = 'revision'\n",
    "        and user_is_bot_by IS NULL\n",
    "        and event_user_is_bot_by IS NULL\n",
    "    group by day\n",
    "    order by day\n",
    "    ;\n",
    "    \"\"\"\n",
    "    return pd.read_sql(sql,conn) #.set_index('day')"
   ]
  },
  {
   "cell_type": "markdown",
   "id": "a94d8b13-dac9-4cab-8b45-529a13aee585",
   "metadata": {
    "tags": []
   },
   "source": [
    "#### function to be my simple API: ```revcounts_within_page_id```"
   ]
  },
  {
   "cell_type": "markdown",
   "id": "b667f2ae-6544-4e74-972e-497d00fb10ba",
   "metadata": {
    "tags": []
   },
   "source": [
    "##### function takes page_id of a subcat or page, and returns df of daily edit counts"
   ]
  },
  {
   "cell_type": "raw",
   "id": "78e012c1-2593-4e0b-a47f-30b3d4e79cf1",
   "metadata": {},
   "source": [
    "def revcounts_within_page_id(page_id:int, descendants:list[int]=[], tablename='history') -> pd.DataFrame:\n",
    "    \"\"\"\n",
    "    Wrapper for count_revs_in_subcat_daily\n",
    "    \"\"\"\n",
    "    \n",
    "    [title, namespace] = byte_read_sql(f\"select page_title, page_namespace from page where page_id = {page_id};\",conn).loc[0].tolist()\n",
    "    \n",
    "    if namespace == 0:\n",
    "        return count_revs_in_subcat_daily(title, [page_id], tablename)\n",
    "    elif namespace == 14:\n",
    "        return count_revs_in_subcat_daily(title, descendants, tablename).set_index('day')\n",
    "    "
   ]
  },
  {
   "cell_type": "markdown",
   "id": "506d261b-9cf2-4a8b-b2f9-cff243b90cc1",
   "metadata": {
    "jp-MarkdownHeadingCollapsed": true,
    "tags": []
   },
   "source": [
    "### unpickle"
   ]
  },
  {
   "cell_type": "markdown",
   "id": "f3f8dc3e-8714-48b6-93a9-5570aa319793",
   "metadata": {
    "tags": []
   },
   "source": [
    "#### load pickled ```disaster_descendants_raw```"
   ]
  },
  {
   "cell_type": "code",
   "execution_count": 8,
   "id": "ca258ca6-3e70-4c9a-9db8-76f23ad5a1f0",
   "metadata": {},
   "outputs": [],
   "source": [
    "with open(processed_path + 'disaster_descendants_raw.pickle', 'rb') as f:\n",
    "    disaster_descendants_raw = pickle.load(f)"
   ]
  },
  {
   "cell_type": "markdown",
   "id": "acfb017b-d2fb-4694-b8a0-c0ccde64d682",
   "metadata": {
    "tags": []
   },
   "source": [
    "#### load pickled ```subcat_content_pageids```"
   ]
  },
  {
   "cell_type": "code",
   "execution_count": 9,
   "id": "bab6ec38-aad2-4d9e-babc-080117f37318",
   "metadata": {},
   "outputs": [],
   "source": [
    "with open(processed_path + 'subcat_content_pageids.pickle', 'rb') as f:\n",
    "    subcat_content_pageids = pickle.load(f)"
   ]
  },
  {
   "cell_type": "markdown",
   "id": "b091f841-1ab1-48af-992d-4b0f394263ed",
   "metadata": {
    "tags": []
   },
   "source": [
    "#### load pickled ```subcat_edit_counts```"
   ]
  },
  {
   "cell_type": "code",
   "execution_count": 10,
   "id": "986e33c2-26b5-4f1c-a274-e03f7b248ba9",
   "metadata": {},
   "outputs": [],
   "source": [
    "with open(processed_path + 'subcat_edit_counts.pickle', 'rb') as f:\n",
    "    subcat_edit_counts = pickle.load(f)"
   ]
  },
  {
   "cell_type": "markdown",
   "id": "4a0ef53a-d931-4341-a1e2-6c7e7e59e5f0",
   "metadata": {
    "tags": []
   },
   "source": [
    "#### load pickled ```bousai``` (official disaster tweets)"
   ]
  },
  {
   "cell_type": "code",
   "execution_count": 11,
   "id": "5d4bfc35-4981-438f-85ce-39e3a07e9a68",
   "metadata": {},
   "outputs": [],
   "source": [
    "with open(twitter_path + 'jma_bousai.pickle', 'rb') as f:\n",
    "    bousai = pickle.load(f)"
   ]
  },
  {
   "cell_type": "markdown",
   "id": "c8b23e8b-8506-42f1-9c4b-5fdfba1f67a8",
   "metadata": {
    "jp-MarkdownHeadingCollapsed": true,
    "tags": []
   },
   "source": [
    "## get time series df"
   ]
  },
  {
   "cell_type": "markdown",
   "id": "f3523a03-d1bf-4351-a2ae-e75f0bc016df",
   "metadata": {
    "tags": []
   },
   "source": [
    "### build calendar"
   ]
  },
  {
   "cell_type": "markdown",
   "id": "fd5de47b-08f9-46a1-a4f2-8e1e3c984fe5",
   "metadata": {
    "tags": []
   },
   "source": [
    "#### get calendar boundaries"
   ]
  },
  {
   "cell_type": "code",
   "execution_count": 12,
   "id": "113a6690-692e-4a3d-82de-f9ac0f1ec946",
   "metadata": {},
   "outputs": [],
   "source": [
    "first_twitter_date = bousai.index.min()\n",
    "first_twitter_date = dt.date(first_twitter_date)\n",
    "\n",
    "# last_target_date = jpr_sql('select max(date_tmstp_jp) from h2021;')[0][0]\n",
    "# last_target_date = dt.date(last_target_date)\n",
    "last_target_date = datetime.date(2022, 1, 1)"
   ]
  },
  {
   "cell_type": "code",
   "execution_count": 13,
   "id": "dce22a5a-f32a-474e-bc04-98c8cb6e533b",
   "metadata": {},
   "outputs": [
    {
     "data": {
      "text/plain": [
       "(datetime.date(2019, 10, 4), datetime.date(2022, 1, 1))"
      ]
     },
     "execution_count": 13,
     "metadata": {},
     "output_type": "execute_result"
    }
   ],
   "source": [
    "first_twitter_date, last_target_date"
   ]
  },
  {
   "cell_type": "code",
   "execution_count": 14,
   "id": "a8b4f39b-36e2-4493-b4ba-9bfadf9838e4",
   "metadata": {},
   "outputs": [],
   "source": [
    "first_date = first_twitter_date + timedelta(days=1)\n",
    "last_date = last_target_date - timedelta(days=1)"
   ]
  },
  {
   "cell_type": "markdown",
   "id": "9cabaa42-99cd-4b3f-b1ba-802f39857468",
   "metadata": {
    "tags": []
   },
   "source": [
    "#### make blank calendar"
   ]
  },
  {
   "cell_type": "code",
   "execution_count": 15,
   "id": "9ee807ac-5c5c-4f6a-9030-799963ab5ca6",
   "metadata": {},
   "outputs": [],
   "source": [
    "dates = pd.date_range(start=first_date, end=last_date, freq='D', tz='Japan')  # .map(lambda x: dt.date(x))"
   ]
  },
  {
   "cell_type": "markdown",
   "id": "7ada1e14-23a9-4d84-8f68-8b732f120a9d",
   "metadata": {
    "tags": []
   },
   "source": [
    "### prep and viz twitter features"
   ]
  },
  {
   "cell_type": "markdown",
   "id": "02f30904-0e8d-4012-876f-392f24c194e5",
   "metadata": {
    "tags": []
   },
   "source": [
    "##### get and viz twitter features"
   ]
  },
  {
   "cell_type": "code",
   "execution_count": 16,
   "id": "1ce4013d-2fa1-42ee-bd3a-e68831921993",
   "metadata": {},
   "outputs": [],
   "source": [
    "bousai_days = bousai.iloc[:, 6:].resample('D').sum().fillna(0)\n",
    "bousai_days = bousai_days.loc[dates]"
   ]
  },
  {
   "cell_type": "markdown",
   "id": "921e7f10-905f-4f57-9b31-eff3749223e4",
   "metadata": {
    "tags": []
   },
   "source": [
    "#### prep ```mtwtf```, ```satsun```, ```holiday_on_weekday```"
   ]
  },
  {
   "cell_type": "code",
   "execution_count": 17,
   "id": "145e5109-0a24-4f78-bf2c-eb858fd9d0b0",
   "metadata": {},
   "outputs": [],
   "source": [
    "bousai_days['mtwtf'] = bousai_days.index.dayofweek.isin([0,1,2,3,4]).astype(int)\n",
    "bousai_days['satsun'] = bousai_days.index.dayofweek.isin([5,6]).astype(int)\n",
    "# bousai_days['holiday_on_weekday'] = bousai_days.index.dayofweek.isin([5,6])"
   ]
  },
  {
   "cell_type": "code",
   "execution_count": 18,
   "id": "94f924fc-ca70-4eb0-80bd-669a3f7244ec",
   "metadata": {},
   "outputs": [],
   "source": [
    "from holidays_jp import CountryHolidays   # a little skeptical of these holidays -- will check them later\n",
    "# get japanese holidays in 2015.\n",
    "holidays2019 = CountryHolidays.get('JP', 2019)\n",
    "holidays2020 = CountryHolidays.get('JP', 2020)\n",
    "holidays2021 = CountryHolidays.get('JP', 2021)\n",
    "holiday_list = [holidays2019, holidays2020, holidays2021]\n",
    "holidays = pd.concat(map(pd.DataFrame, holiday_list), axis='rows').set_index(0)"
   ]
  },
  {
   "cell_type": "code",
   "execution_count": 19,
   "id": "43c60840-c9d5-466f-8ad7-3bbddec4f246",
   "metadata": {},
   "outputs": [],
   "source": [
    "holidays.index = holidays.index.tz_localize('Japan')\n",
    "holidays = holidays.resample('D').asfreq(' ').rename(columns={1:'holiday_name'})\n",
    "holidays['holiday'] = holidays.holiday_name.map(lambda x: int(x != ' '))"
   ]
  },
  {
   "cell_type": "code",
   "execution_count": 20,
   "id": "63562aa4-ce06-4b3d-b66a-1909b73c930f",
   "metadata": {},
   "outputs": [],
   "source": [
    "bousai_days = bousai_days.join(holidays, how='left')\n",
    "bousai_days['holiday_name'] = bousai_days.holiday_name.fillna(' ')\n",
    "bousai_days['holiday'] = bousai_days.holiday.fillna(0).astype(int)\n",
    "bousai_days['holiday_on_weekday'] = bousai_days[['holiday', 'mtwtf']].all(axis='columns').astype(int)"
   ]
  },
  {
   "cell_type": "markdown",
   "id": "1ab2afff-4f5f-45cd-ac01-b586cfac00a5",
   "metadata": {
    "tags": []
   },
   "source": [
    "### prep targets"
   ]
  },
  {
   "cell_type": "markdown",
   "id": "5b8fa7fb-1c49-4475-929c-d35627bc82f6",
   "metadata": {
    "tags": []
   },
   "source": [
    "#### clean disaster_descendants"
   ]
  },
  {
   "cell_type": "markdown",
   "id": "261407b5-11bb-4f95-8853-fbe0122f9aa7",
   "metadata": {
    "tags": []
   },
   "source": [
    "##### some globals"
   ]
  },
  {
   "cell_type": "code",
   "execution_count": 21,
   "id": "105403a1-b013-4321-8a69-8049f6d9f4e9",
   "metadata": {},
   "outputs": [],
   "source": [
    "disaster_cat_page_ids = {'火山災害':2390743, '熱帯低気圧':626482, '雪害':2390774, '地震':135264, '津波':765772}  # '自然災害':137069, \n",
    "disasters_english = {'火山災害':'VolcanicDisaster', '熱帯低気圧':'TropicalCyclones', '雪害':'SnowDamage', '地震':'Earthquake', '津波':'Tsunami'}\n",
    "disasters = list(disaster_cat_page_ids.keys())"
   ]
  },
  {
   "cell_type": "markdown",
   "id": "d6307a62-310e-4c32-8f4b-c990bd1e7d55",
   "metadata": {
    "tags": []
   },
   "source": [
    "##### drop rows with duplicate category name for the same category page_id"
   ]
  },
  {
   "cell_type": "code",
   "execution_count": 22,
   "id": "5d11ea95-9b73-45fd-8f3e-4ad3ab57386a",
   "metadata": {},
   "outputs": [],
   "source": [
    "d = {}\n",
    "for i in disaster_descendants_raw:\n",
    "    d[i] = disaster_descendants_raw[i].drop_duplicates(subset='id')\n",
    "    d[i] = d[i][d[i].namespace == 0]\n",
    "disaster_descendants = d\n",
    "del d"
   ]
  },
  {
   "cell_type": "markdown",
   "id": "3d62645f-6468-4bca-8dd8-cb1601bdb035",
   "metadata": {
    "tags": []
   },
   "source": [
    "#### get disaster_daily_edits"
   ]
  },
  {
   "cell_type": "raw",
   "id": "4e44ca9f-7599-4bb2-abc9-8fd90c58f447",
   "metadata": {},
   "source": [
    "d = {}\n",
    "for i in disaster_descendants_raw:\n",
    "    d[i] = (\n",
    "        revcounts_within_page_id(\n",
    "            disaster_cat_page_ids[i], \n",
    "            disaster_descendants[i].id.tolist(),\n",
    "            tablename='history'\n",
    "        )\n",
    "    )\n",
    "    d[i].index = pd.to_datetime(d[i].index).tz_localize('Japan')\n",
    "    d[i] = d[i].resample('D').asfreq(0)\n",
    "\n",
    "\n",
    "disaster_daily_edits = (\n",
    "    pd.concat([d[i] for i in d], axis='columns').fillna(0)\n",
    ")\n",
    "\n",
    "del d\n"
   ]
  },
  {
   "cell_type": "raw",
   "id": "b3470094-24cb-426f-9835-4f108cdefbfd",
   "metadata": {},
   "source": [
    "with open(processed_path + 'disaster_daily_edits.pickle', 'wb') as f:\n",
    "    pickle.dump(disaster_daily_edits, f)"
   ]
  },
  {
   "cell_type": "code",
   "execution_count": 23,
   "id": "a5a91a2b-89d5-4e8c-8ac3-d2e4ec8459cb",
   "metadata": {},
   "outputs": [],
   "source": [
    "with open(processed_path + 'disaster_daily_edits.pickle', 'rb') as f:\n",
    "    disaster_daily_edits = pickle.load(f)"
   ]
  },
  {
   "cell_type": "markdown",
   "id": "275d618c-642d-4324-b0b8-09008d5499d5",
   "metadata": {},
   "source": [
    "#### combine & resample targets with features for train-test-split"
   ]
  },
  {
   "cell_type": "code",
   "execution_count": 24,
   "id": "5aa55d93-7a75-4be8-9efe-df026d4e9c31",
   "metadata": {},
   "outputs": [],
   "source": [
    "df = bousai_days.join(disaster_daily_edits, how='left')"
   ]
  },
  {
   "cell_type": "markdown",
   "id": "ecd5fd25-1e2b-4ce1-9abc-8cbba1ed5c9a",
   "metadata": {
    "jp-MarkdownHeadingCollapsed": true,
    "tags": []
   },
   "source": [
    "## EDA"
   ]
  },
  {
   "cell_type": "markdown",
   "id": "39ac51a1-b63c-4fa5-aa76-40904fa414a7",
   "metadata": {
    "tags": []
   },
   "source": [
    "#### means and std"
   ]
  },
  {
   "cell_type": "code",
   "execution_count": 25,
   "id": "4b4c4086-a9fc-4b95-8e98-c3d88ef78c5b",
   "metadata": {},
   "outputs": [
    {
     "data": {
      "text/html": [
       "<div>\n",
       "<style scoped>\n",
       "    .dataframe tbody tr th:only-of-type {\n",
       "        vertical-align: middle;\n",
       "    }\n",
       "\n",
       "    .dataframe tbody tr th {\n",
       "        vertical-align: top;\n",
       "    }\n",
       "\n",
       "    .dataframe thead th {\n",
       "        text-align: right;\n",
       "    }\n",
       "</style>\n",
       "<table border=\"1\" class=\"dataframe\">\n",
       "  <thead>\n",
       "    <tr style=\"text-align: right;\">\n",
       "      <th></th>\n",
       "      <th>std</th>\n",
       "      <th>mean</th>\n",
       "    </tr>\n",
       "  </thead>\n",
       "  <tbody>\n",
       "    <tr>\n",
       "      <th>火_火山</th>\n",
       "      <td>0.879970</td>\n",
       "      <td>0.166056</td>\n",
       "    </tr>\n",
       "    <tr>\n",
       "      <th>火_噴火警戒レベル1</th>\n",
       "      <td>0.170433</td>\n",
       "      <td>0.017094</td>\n",
       "    </tr>\n",
       "    <tr>\n",
       "      <th>火_火口周辺規制</th>\n",
       "      <td>0.278242</td>\n",
       "      <td>0.045177</td>\n",
       "    </tr>\n",
       "    <tr>\n",
       "      <th>火_入山規制</th>\n",
       "      <td>0.147836</td>\n",
       "      <td>0.012210</td>\n",
       "    </tr>\n",
       "    <tr>\n",
       "      <th>雨_警戒レベル5</th>\n",
       "      <td>0.115802</td>\n",
       "      <td>0.006105</td>\n",
       "    </tr>\n",
       "    <tr>\n",
       "      <th>雨_大雨</th>\n",
       "      <td>1.493568</td>\n",
       "      <td>0.500611</td>\n",
       "    </tr>\n",
       "    <tr>\n",
       "      <th>雨_土砂災害</th>\n",
       "      <td>0.928140</td>\n",
       "      <td>0.224664</td>\n",
       "    </tr>\n",
       "    <tr>\n",
       "      <th>震_地震</th>\n",
       "      <td>1.444671</td>\n",
       "      <td>0.404151</td>\n",
       "    </tr>\n",
       "    <tr>\n",
       "      <th>震_震度5</th>\n",
       "      <td>0.060449</td>\n",
       "      <td>0.003663</td>\n",
       "    </tr>\n",
       "    <tr>\n",
       "      <th>震_震度678</th>\n",
       "      <td>0.049386</td>\n",
       "      <td>0.002442</td>\n",
       "    </tr>\n",
       "    <tr>\n",
       "      <th>雪_大雪</th>\n",
       "      <td>1.206595</td>\n",
       "      <td>0.268620</td>\n",
       "    </tr>\n",
       "    <tr>\n",
       "      <th>雪_路面凍結</th>\n",
       "      <td>0.049386</td>\n",
       "      <td>0.002442</td>\n",
       "    </tr>\n",
       "    <tr>\n",
       "      <th>津_津波</th>\n",
       "      <td>0.852174</td>\n",
       "      <td>0.174603</td>\n",
       "    </tr>\n",
       "    <tr>\n",
       "      <th>mtwtf</th>\n",
       "      <td>0.452030</td>\n",
       "      <td>0.714286</td>\n",
       "    </tr>\n",
       "    <tr>\n",
       "      <th>satsun</th>\n",
       "      <td>0.452030</td>\n",
       "      <td>0.285714</td>\n",
       "    </tr>\n",
       "    <tr>\n",
       "      <th>holiday</th>\n",
       "      <td>0.202383</td>\n",
       "      <td>0.042735</td>\n",
       "    </tr>\n",
       "    <tr>\n",
       "      <th>holiday_on_weekday</th>\n",
       "      <td>0.190953</td>\n",
       "      <td>0.037851</td>\n",
       "    </tr>\n",
       "    <tr>\n",
       "      <th>火山災害</th>\n",
       "      <td>3.128429</td>\n",
       "      <td>1.347985</td>\n",
       "    </tr>\n",
       "    <tr>\n",
       "      <th>熱帯低気圧</th>\n",
       "      <td>31.070523</td>\n",
       "      <td>17.715507</td>\n",
       "    </tr>\n",
       "    <tr>\n",
       "      <th>雪害</th>\n",
       "      <td>1.314476</td>\n",
       "      <td>0.459096</td>\n",
       "    </tr>\n",
       "    <tr>\n",
       "      <th>地震</th>\n",
       "      <td>72.940395</td>\n",
       "      <td>321.710623</td>\n",
       "    </tr>\n",
       "    <tr>\n",
       "      <th>津波</th>\n",
       "      <td>69.357276</td>\n",
       "      <td>304.433455</td>\n",
       "    </tr>\n",
       "  </tbody>\n",
       "</table>\n",
       "</div>"
      ],
      "text/plain": [
       "                          std        mean\n",
       "火_火山                 0.879970    0.166056\n",
       "火_噴火警戒レベル1           0.170433    0.017094\n",
       "火_火口周辺規制             0.278242    0.045177\n",
       "火_入山規制               0.147836    0.012210\n",
       "雨_警戒レベル5             0.115802    0.006105\n",
       "雨_大雨                 1.493568    0.500611\n",
       "雨_土砂災害               0.928140    0.224664\n",
       "震_地震                 1.444671    0.404151\n",
       "震_震度5                0.060449    0.003663\n",
       "震_震度678              0.049386    0.002442\n",
       "雪_大雪                 1.206595    0.268620\n",
       "雪_路面凍結               0.049386    0.002442\n",
       "津_津波                 0.852174    0.174603\n",
       "mtwtf                0.452030    0.714286\n",
       "satsun               0.452030    0.285714\n",
       "holiday              0.202383    0.042735\n",
       "holiday_on_weekday   0.190953    0.037851\n",
       "火山災害                 3.128429    1.347985\n",
       "熱帯低気圧               31.070523   17.715507\n",
       "雪害                   1.314476    0.459096\n",
       "地震                  72.940395  321.710623\n",
       "津波                  69.357276  304.433455"
      ]
     },
     "execution_count": 25,
     "metadata": {},
     "output_type": "execute_result"
    }
   ],
   "source": [
    "df.describe().T[['std','mean']]"
   ]
  },
  {
   "cell_type": "code",
   "execution_count": 26,
   "id": "1342e8d1-6878-46cd-8471-2ec08ce48704",
   "metadata": {},
   "outputs": [
    {
     "data": {
      "text/plain": [
       "火_火山                   5.299233\n",
       "火_噴火警戒レベル1             9.970310\n",
       "火_火口周辺規制               6.158926\n",
       "火_入山規制                12.107807\n",
       "雨_警戒レベル5              18.968377\n",
       "雨_大雨                   2.983493\n",
       "雨_土砂災害                 4.131234\n",
       "震_地震                   3.574578\n",
       "震_震度5                 16.502500\n",
       "震_震度678               20.223733\n",
       "雪_大雪                   4.491825\n",
       "雪_路面凍結                20.223733\n",
       "津_津波                   4.880632\n",
       "mtwtf                  0.632842\n",
       "satsun                 1.582105\n",
       "holiday                4.735756\n",
       "holiday_on_weekday     5.044842\n",
       "火山災害                   2.320819\n",
       "熱帯低気圧                  1.753860\n",
       "雪害                     2.863181\n",
       "地震                     0.226727\n",
       "津波                     0.227824\n",
       "dtype: float64"
      ]
     },
     "execution_count": 26,
     "metadata": {},
     "output_type": "execute_result"
    }
   ],
   "source": [
    "df.describe().T.apply(lambda x: x['std']/x['mean'], axis=1)  #df.shift(-1)"
   ]
  },
  {
   "cell_type": "markdown",
   "id": "b47c6c60-0780-4460-a973-1f7eb70018ce",
   "metadata": {
    "tags": []
   },
   "source": [
    "#### plot twitter features"
   ]
  },
  {
   "cell_type": "code",
   "execution_count": 27,
   "id": "c027671d-22c5-4dd4-bcf5-d114b08be660",
   "metadata": {},
   "outputs": [
    {
     "data": {
      "image/png": "[encoded data removed]",
      "text/plain": [
       "<Figure size 1440x360 with 1 Axes>"
      ]
     },
     "metadata": {
      "needs_background": "light"
     },
     "output_type": "display_data"
    }
   ],
   "source": [
    "df.iloc[:,:13].plot(figsize=(20,5), cmap='viridis')\n",
    "plt.show()"
   ]
  },
  {
   "cell_type": "markdown",
   "id": "71622b0e-576a-401b-b92c-8b02ed22ba30",
   "metadata": {
    "tags": []
   },
   "source": [
    "#### plot targets"
   ]
  },
  {
   "cell_type": "code",
   "execution_count": 28,
   "id": "4c0e7d06-6c16-4c7a-b026-a5a8a8d4082b",
   "metadata": {},
   "outputs": [
    {
     "data": {
      "image/png": "[encoded data removed]",
      "text/plain": [
       "<Figure size 1440x360 with 1 Axes>"
      ]
     },
     "metadata": {
      "needs_background": "light"
     },
     "output_type": "display_data"
    }
   ],
   "source": [
    "df[['火山災害','熱帯低気圧','雪害','地震','津波']].plot(figsize=(20,5), cmap='viridis')\n",
    "plt.show()"
   ]
  },
  {
   "cell_type": "markdown",
   "id": "0d033f65-25db-4fdc-96dd-8631bf676389",
   "metadata": {
    "tags": []
   },
   "source": [
    "## Prep for regression"
   ]
  },
  {
   "cell_type": "markdown",
   "id": "5ca2a7f0-b2b4-45ed-9ccb-c1fd8c4e8d71",
   "metadata": {
    "tags": []
   },
   "source": [
    "### names of indices"
   ]
  },
  {
   "cell_type": "code",
   "execution_count": 29,
   "id": "3450b25e-0eef-4588-8c82-31599412f36a",
   "metadata": {},
   "outputs": [],
   "source": [
    "dzs = ['火', '雨', '震', '雪', '津']  # disasters abbreviated\n",
    "target_names = ['火山災害','熱帯低気圧','地震','雪害','津波']\n",
    "calendar_vars = ['mtwtf','satsun','holiday_on_weekday']\n",
    "twitter_feature_names = (\n",
    "    ['火_火山',      '火_噴火警戒レベル1','火_火口周辺規制','火_入山規制', \n",
    "     '雨_警戒レベル5','雨_大雨',          '雨_土砂災害',\n",
    "     '震_地震',      '震_震度5',         '震_震度678',\n",
    "     '雪_大雪',      '雪_路面凍結',\n",
    "     '津_津波']\n",
    ")"
   ]
  },
  {
   "cell_type": "markdown",
   "id": "51248d75-5c32-4e5b-a4da-106f730b743c",
   "metadata": {
    "tags": []
   },
   "source": [
    "### function ```get_onset_series```"
   ]
  },
  {
   "cell_type": "code",
   "execution_count": 30,
   "id": "39bdd793-3ce4-4d84-9cc9-a9d10d0e6072",
   "metadata": {},
   "outputs": [],
   "source": [
    "def get_onset_series(ser):\n",
    "    return (\n",
    "        pd.DataFrame((\n",
    "            ser.shift(1)>0, \n",
    "            ser.shift(2)==0\n",
    "        )).T.dropna()\n",
    "        .all(axis=1)\n",
    "        .astype(int)\n",
    "    )"
   ]
  },
  {
   "cell_type": "markdown",
   "id": "5dc99748-193a-414e-a972-be999c39bbb4",
   "metadata": {},
   "source": [
    "### make lagged features to assess impulse response"
   ]
  },
  {
   "cell_type": "code",
   "execution_count": 31,
   "id": "6c781b47-e7f9-4ec6-9f31-5cc6b9ad08ed",
   "metadata": {},
   "outputs": [],
   "source": [
    "df_lags = df[df.columns.difference(['holiday_name'])].copy()\n",
    "\n",
    "tg_lag_vars, tg_μ_vars = [], []\n",
    "for i in target_names:\n",
    "    for j in [1,2,3]:\n",
    "        df_lags[f\"{i}_l{j}\"] = df_lags[i].shift(j)\n",
    "        tg_lag_vars.append(f\"{i}_l{j}\")\n",
    "    for j in [7]:\n",
    "        df_lags[f\"{i}_μ{j}\"] = df_lags[i].rolling(window=j, closed=\"left\").mean()\n",
    "        tg_μ_vars.append(f\"{i}_μ{j}\")\n",
    "        \n",
    "tw_lag_vars, tw_ons_vars = [], []\n",
    "for i in twitter_feature_names:\n",
    "    for j in [1,2,3]:\n",
    "        df_lags[f\"{i}_l{j}\"] = df_lags[i].shift(j)\n",
    "        tw_lag_vars.append(f\"{i}_l{j}\")\n",
    "    ons = get_onset_series(df_lags[i])\n",
    "    for j in [1,2,3]:\n",
    "        df_lags[f\"{i}_ons{j}\"] = ons.shift(j)\n",
    "        tw_ons_vars.append(f\"{i}_ons{j}\")\n",
    "\n",
    "df_lags = df_lags.dropna()"
   ]
  },
  {
   "cell_type": "markdown",
   "id": "29c9bfaf-5343-4b3e-bd29-2a695a8deec3",
   "metadata": {
    "tags": []
   },
   "source": [
    "#### prep"
   ]
  },
  {
   "cell_type": "code",
   "execution_count": 32,
   "id": "09035f73-3cfa-44d3-9859-cf0ece5ae617",
   "metadata": {},
   "outputs": [],
   "source": [
    "XX = df_lags[tg_μ_vars + tg_lag_vars + calendar_vars]\n",
    "YY = df_lags[target_names]\n",
    "\n",
    "start_tr = 0\n",
    "end_tr = 550\n",
    "end_vl = 700\n",
    "XXtr, YYtr = XX.copy().iloc[start_tr:end_tr], YY.iloc[start_tr:end_tr]\n",
    "XXvl, YYvl = XX.copy().iloc[end_tr:end_vl], YY.iloc[end_tr:end_vl]"
   ]
  },
  {
   "cell_type": "code",
   "execution_count": 33,
   "id": "566be370-74c4-4280-b6e1-3b072dcebbbb",
   "metadata": {},
   "outputs": [],
   "source": [
    "Xcols = {}\n",
    "for i,j in zip(dzs, target_names):\n",
    "    l = (XX.columns[XX.columns.str.startswith(i)].tolist() + \n",
    "                   XX.columns[XX.columns.str.startswith(j)].tolist() +\n",
    "                   calendar_vars)\n",
    "    l = list(set(l))\n",
    "    Xcols[i] = l\n",
    "\n",
    "ycols = {'火':'火山災害','雨':'熱帯低気圧','震':'地震','雪':'雪害','津':'津波'}\n",
    "\n",
    "Xtr, Xvl = {}, {}\n",
    "ytr, yvl = {}, {}\n",
    "for diz in Xcols:\n",
    "    Xtr[diz] = XXtr[Xcols[diz]]\n",
    "    Xvl[diz] = XXvl[Xcols[diz]]\n",
    "    ytr[diz] = YYtr[ycols[diz]]\n",
    "    yvl[diz] = YYvl[ycols[diz]]"
   ]
  },
  {
   "cell_type": "markdown",
   "id": "2d5d6f16-e395-497d-91c1-b3267cc6f4ed",
   "metadata": {
    "tags": []
   },
   "source": [
    "## Linear Regression Runs"
   ]
  },
  {
   "cell_type": "markdown",
   "id": "1319bbf2-bb44-41bb-a7ab-a6bbd22cbbc5",
   "metadata": {
    "tags": []
   },
   "source": [
    "### Linear Regression (Ridge regularization penalty)"
   ]
  },
  {
   "cell_type": "code",
   "execution_count": 291,
   "id": "83743aac-c7ff-405d-b40b-5b388059f583",
   "metadata": {
    "tags": []
   },
   "outputs": [
    {
     "name": "stderr",
     "output_type": "stream",
     "text": [
      "/home/bhrdwj/anaconda3/envs/py39/lib/python3.9/site-packages/sklearn/linear_model/_ridge.py:156: LinAlgWarning: Ill-conditioned matrix (rcond=2.783e-18): result may not be accurate.\n",
      "  return linalg.solve(A, Xy, sym_pos=True, overwrite_a=True).T\n",
      "/home/bhrdwj/anaconda3/envs/py39/lib/python3.9/site-packages/sklearn/linear_model/_ridge.py:156: LinAlgWarning: Ill-conditioned matrix (rcond=3.22741e-18): result may not be accurate.\n",
      "  return linalg.solve(A, Xy, sym_pos=True, overwrite_a=True).T\n",
      "/home/bhrdwj/anaconda3/envs/py39/lib/python3.9/site-packages/sklearn/linear_model/_ridge.py:156: LinAlgWarning: Ill-conditioned matrix (rcond=6.25606e-21): result may not be accurate.\n",
      "  return linalg.solve(A, Xy, sym_pos=True, overwrite_a=True).T\n",
      "/home/bhrdwj/anaconda3/envs/py39/lib/python3.9/site-packages/sklearn/linear_model/_ridge.py:156: LinAlgWarning: Ill-conditioned matrix (rcond=3.07795e-21): result may not be accurate.\n",
      "  return linalg.solve(A, Xy, sym_pos=True, overwrite_a=True).T\n"
     ]
    },
    {
     "name": "stdout",
     "output_type": "stream",
     "text": [
      "('火', -0.00501189142264713, {'alpha': 100})\n",
      "('雨', -0.14062301177958214, {'alpha': 100})\n"
     ]
    },
    {
     "name": "stderr",
     "output_type": "stream",
     "text": [
      "/home/bhrdwj/anaconda3/envs/py39/lib/python3.9/site-packages/sklearn/linear_model/_ridge.py:156: LinAlgWarning: Ill-conditioned matrix (rcond=1.90852e-21): result may not be accurate.\n",
      "  return linalg.solve(A, Xy, sym_pos=True, overwrite_a=True).T\n",
      "/home/bhrdwj/anaconda3/envs/py39/lib/python3.9/site-packages/sklearn/linear_model/_ridge.py:156: LinAlgWarning: Ill-conditioned matrix (rcond=1.74294e-21): result may not be accurate.\n",
      "  return linalg.solve(A, Xy, sym_pos=True, overwrite_a=True).T\n",
      "/home/bhrdwj/anaconda3/envs/py39/lib/python3.9/site-packages/sklearn/linear_model/_ridge.py:156: LinAlgWarning: Ill-conditioned matrix (rcond=1.14581e-21): result may not be accurate.\n",
      "  return linalg.solve(A, Xy, sym_pos=True, overwrite_a=True).T\n",
      "/home/bhrdwj/anaconda3/envs/py39/lib/python3.9/site-packages/sklearn/linear_model/_ridge.py:156: LinAlgWarning: Ill-conditioned matrix (rcond=4.26071e-18): result may not be accurate.\n",
      "  return linalg.solve(A, Xy, sym_pos=True, overwrite_a=True).T\n",
      "/home/bhrdwj/anaconda3/envs/py39/lib/python3.9/site-packages/sklearn/linear_model/_ridge.py:156: LinAlgWarning: Ill-conditioned matrix (rcond=7.96624e-18): result may not be accurate.\n",
      "  return linalg.solve(A, Xy, sym_pos=True, overwrite_a=True).T\n"
     ]
    },
    {
     "name": "stdout",
     "output_type": "stream",
     "text": [
      "('震', 0.15299630451648127, {'alpha': 10})\n",
      "('雪', -0.05724765176189428, {'alpha': 100})\n",
      "('津', 0.1285041908777883, {'alpha': 10})\n"
     ]
    },
    {
     "name": "stderr",
     "output_type": "stream",
     "text": [
      "/home/bhrdwj/anaconda3/envs/py39/lib/python3.9/site-packages/sklearn/linear_model/_ridge.py:156: LinAlgWarning: Ill-conditioned matrix (rcond=1.61758e-21): result may not be accurate.\n",
      "  return linalg.solve(A, Xy, sym_pos=True, overwrite_a=True).T\n",
      "/home/bhrdwj/anaconda3/envs/py39/lib/python3.9/site-packages/sklearn/linear_model/_ridge.py:156: LinAlgWarning: Ill-conditioned matrix (rcond=2.02237e-21): result may not be accurate.\n",
      "  return linalg.solve(A, Xy, sym_pos=True, overwrite_a=True).T\n"
     ]
    }
   ],
   "source": [
    "ri, gs_ri = {}, {}\n",
    "for diz in Xtr:\n",
    "    ri[diz] = Ridge()\n",
    "    gs_ri[diz] = GridSearchCV(ri[diz], {'alpha': [-100,-10,0,10,100]})\n",
    "    gs_ri[diz].fit(Xtr[diz],ytr[diz])\n",
    "    print((diz, gs_ri[diz].score(Xvl[diz],yvl[diz]), gs_ri[diz].best_params_))"
   ]
  },
  {
   "cell_type": "markdown",
   "id": "0fc0b08b-6253-4370-bb77-be70a2670a48",
   "metadata": {},
   "source": [
    "#### Check coeffs"
   ]
  },
  {
   "cell_type": "code",
   "execution_count": 282,
   "id": "65cad53b-41b0-437f-98c6-f1fe68aaccc7",
   "metadata": {},
   "outputs": [
    {
     "data": {
      "text/html": [
       "<div>\n",
       "<style scoped>\n",
       "    .dataframe tbody tr th:only-of-type {\n",
       "        vertical-align: middle;\n",
       "    }\n",
       "\n",
       "    .dataframe tbody tr th {\n",
       "        vertical-align: top;\n",
       "    }\n",
       "\n",
       "    .dataframe thead th {\n",
       "        text-align: right;\n",
       "    }\n",
       "</style>\n",
       "<table border=\"1\" class=\"dataframe\">\n",
       "  <thead>\n",
       "    <tr style=\"text-align: right;\">\n",
       "      <th></th>\n",
       "      <th>coeffs</th>\n",
       "      <th>mean</th>\n",
       "      <th>std</th>\n",
       "      <th>coeff_x_std</th>\n",
       "    </tr>\n",
       "    <tr>\n",
       "      <th>feat</th>\n",
       "      <th></th>\n",
       "      <th></th>\n",
       "      <th></th>\n",
       "      <th></th>\n",
       "    </tr>\n",
       "  </thead>\n",
       "  <tbody>\n",
       "    <tr>\n",
       "      <th>地震_l1</th>\n",
       "      <td>0.285504</td>\n",
       "      <td>322.245074</td>\n",
       "      <td>72.829330</td>\n",
       "      <td>20.793058</td>\n",
       "    </tr>\n",
       "    <tr>\n",
       "      <th>地震_μ7</th>\n",
       "      <td>0.376833</td>\n",
       "      <td>321.836383</td>\n",
       "      <td>52.176317</td>\n",
       "      <td>19.661742</td>\n",
       "    </tr>\n",
       "    <tr>\n",
       "      <th>satsun</th>\n",
       "      <td>16.592276</td>\n",
       "      <td>0.285714</td>\n",
       "      <td>0.452032</td>\n",
       "      <td>7.500246</td>\n",
       "    </tr>\n",
       "    <tr>\n",
       "      <th>mtwtf</th>\n",
       "      <td>-16.592276</td>\n",
       "      <td>0.714286</td>\n",
       "      <td>0.452032</td>\n",
       "      <td>-7.500246</td>\n",
       "    </tr>\n",
       "    <tr>\n",
       "      <th>holiday_on_weekday</th>\n",
       "      <td>34.330584</td>\n",
       "      <td>0.038177</td>\n",
       "      <td>0.191742</td>\n",
       "      <td>6.582625</td>\n",
       "    </tr>\n",
       "    <tr>\n",
       "      <th>地震_l3</th>\n",
       "      <td>0.052123</td>\n",
       "      <td>321.971675</td>\n",
       "      <td>72.952955</td>\n",
       "      <td>3.802514</td>\n",
       "    </tr>\n",
       "    <tr>\n",
       "      <th>地震_l2</th>\n",
       "      <td>0.018227</td>\n",
       "      <td>322.066502</td>\n",
       "      <td>72.953581</td>\n",
       "      <td>1.329734</td>\n",
       "    </tr>\n",
       "  </tbody>\n",
       "</table>\n",
       "</div>"
      ],
      "text/plain": [
       "                       coeffs        mean        std  coeff_x_std\n",
       "feat                                                             \n",
       "地震_l1                0.285504  322.245074  72.829330    20.793058\n",
       "地震_μ7                0.376833  321.836383  52.176317    19.661742\n",
       "satsun              16.592276    0.285714   0.452032     7.500246\n",
       "mtwtf              -16.592276    0.714286   0.452032    -7.500246\n",
       "holiday_on_weekday  34.330584    0.038177   0.191742     6.582625\n",
       "地震_l3                0.052123  321.971675  72.952955     3.802514\n",
       "地震_l2                0.018227  322.066502  72.953581     1.329734"
      ]
     },
     "execution_count": 282,
     "metadata": {},
     "output_type": "execute_result"
    }
   ],
   "source": [
    "i = dzs[2]\n",
    "(pd.DataFrame({\n",
    "    'feat': Xcols[i],\n",
    "    'coeffs': gs_ri[i].best_estimator_.coef_.tolist(), \n",
    "    'mean': XX[Xcols[i]].mean().tolist(),\n",
    "    'std': XX[Xcols[i]].std().values.tolist()\n",
    "})\n",
    " .set_index('feat')\n",
    " .assign(coeff_x_std=lambda x: x['coeffs'] * x['std'])\n",
    " .sort_values(by='coeff_x_std', key=abs, ascending=False)\n",
    " \n",
    ")"
   ]
  },
  {
   "cell_type": "markdown",
   "id": "032c4b9e-034c-445d-b23f-fd8a8180b2a4",
   "metadata": {
    "jp-MarkdownHeadingCollapsed": true,
    "tags": []
   },
   "source": [
    "## Unused models"
   ]
  },
  {
   "cell_type": "markdown",
   "id": "04fa2c5a-04bf-4914-a182-730c230bad70",
   "metadata": {
    "tags": []
   },
   "source": [
    "### unused code for linear regression"
   ]
  },
  {
   "cell_type": "markdown",
   "id": "31512c99-6e47-4a42-af5e-bec488ffbeb1",
   "metadata": {
    "tags": []
   },
   "source": [
    "##### old feats"
   ]
  },
  {
   "cell_type": "raw",
   "id": "d46f8441-8b12-4c77-8e5c-2d17892ded09",
   "metadata": {},
   "source": [
    "df_lags = df[df.columns.difference(['holiday_name'])].copy()\n",
    "tw_l1_vars = [i + '_l1' for i in twitter_feature_names]\n",
    "tw_l2_vars = [i + '_l2' for i in twitter_feature_names]\n",
    "tw_l3_vars = [i + '_l3' for i in twitter_feature_names]\n",
    "tw_l4_vars = [i + '_l4' for i in twitter_feature_names]\n",
    "tw_l5_vars = [i + '_l5' for i in twitter_feature_names]\n",
    "tw_l6_vars = [i + '_l6' for i in twitter_feature_names]\n",
    "tw_l_vars = [i + '_l' + str(j) for i in twitter_feature_names for j in range(1,7)]\n",
    "\n",
    "tw_ons_l1 = [i + '_ons_l1' for i in twitter_feature_names] # onset\n",
    "tw_ons_l2 = [i + '_ons_l2' for i in twitter_feature_names] # onset\n",
    "tw_ons_l3 = [i + '_ons_l3' for i in twitter_feature_names] # onset\n",
    "tw_ons_l4 = [i + '_ons_l4' for i in twitter_feature_names] # onset\n",
    "tw_ons_l5 = [i + '_ons_l5' for i in twitter_feature_names] # onset\n",
    "tw_ons_l6 = [i + '_ons_l6' for i in twitter_feature_names] # onset\n",
    "tw_ons_vars = [i + '_ons_l' + str(j) for i in twitter_feature_names for j in range(1,7)]\n",
    "# tw_ons_vars = tw_ons_l1 + tw_ons_l2\n",
    "\n",
    "tg_l1_vars = [i + '_l1' for i in target_names]\n",
    "tg_l2_vars = [i + '_l2' for i in target_names]\n",
    "tg_l3_vars = [i + '_l3' for i in target_names]\n",
    "tg_l4_vars = [i + '_l4' for i in target_names]\n",
    "tg_l5_vars = [i + '_l5' for i in target_names]\n",
    "tg_l6_vars = [i + '_l6' for i in target_names]\n",
    "tg_l_vars = [i + '_l' + str(j) for i in target_names for j in range(1,7)]\n",
    "\n",
    "tg_μ3_vars = [i + '_μ3' for i in target_names] # rolling 3-day mean\n",
    "tg_μ7_vars = [i + '_μ7' for i in target_names] # rolling 7-day mean\n",
    "tg_μ14_vars = [i + '_μ14' for i in target_names] # rolling 14-day mean\n",
    "\n",
    "for i in target_names:\n",
    "    \n",
    "    \n",
    "    df_lags[i+'_l1'] = df_lags[i].shift(1)\n",
    "    df_lags[i+'_l2'] = df_lags[i].shift(2)\n",
    "    df_lags[i+'_l3'] = df_lags[i].shift(3)\n",
    "    df_lags[i+'_l4'] = df_lags[i].shift(4)\n",
    "    df_lags[i+'_l5'] = df_lags[i].shift(5)\n",
    "    df_lags[i+'_l6'] = df_lags[i].shift(6)\n",
    "for i in twitter_feature_names:\n",
    "    df_lags[i+'_ons_l1'] = get_onset_series(df_lags[i])\n",
    "    df_lags[i+'_ons_l2'] = df_lags[i+'_ons_l1'].shift(1)\n",
    "for i in target_names:\n",
    "    df_lags[i+'_μ3'] = df_lags[i].rolling(window=3, closed=\"left\").mean()\n",
    "for i in target_names:\n",
    "    df_lags[i+'_μ7'] = df_lags[i].rolling(window=7, closed=\"left\").mean()\n",
    "for i in target_names:\n",
    "    df_lags[i+'_μ14'] = df_lags[i].rolling(window=14, closed=\"left\").mean()\n",
    "df_lags = df_lags.dropna()"
   ]
  },
  {
   "cell_type": "code",
   "execution_count": 31,
   "id": "76311c2f-4242-4e53-89a9-9f600c57b5b6",
   "metadata": {},
   "outputs": [],
   "source": [
    "# from sklearn.preprocessing import StandardScaler\n",
    "# ss = StandardScaler()\n",
    "# x = df_lags.copy()\n",
    "# x = ss.fit_transform(x)\n",
    "# x = pd.DataFrame(x, index = df_lags.index, columns=df_lags.columns)\n",
    "# df_lags = x.copy()\n",
    "# del x"
   ]
  },
  {
   "cell_type": "markdown",
   "id": "4f012cb1-9514-4f37-830d-8d4d34b14794",
   "metadata": {
    "jp-MarkdownHeadingCollapsed": true,
    "tags": []
   },
   "source": [
    "### Random Forest"
   ]
  },
  {
   "cell_type": "code",
   "execution_count": 43,
   "id": "14cadd2b-2723-4de6-b312-6e4bc8d709bb",
   "metadata": {},
   "outputs": [],
   "source": [
    "from sklearn.ensemble import RandomForestRegressor"
   ]
  },
  {
   "cell_type": "code",
   "execution_count": 44,
   "id": "14163f27-2c09-4443-8bd9-6e1c7a8d2851",
   "metadata": {},
   "outputs": [
    {
     "name": "stdout",
     "output_type": "stream",
     "text": [
      "('火', -0.006572360487464124, {'max_depth': 2})\n",
      "('雨', -0.06786225536105284, {'max_depth': 4})\n",
      "('震', 0.09573665331625714, {'max_depth': 4})\n",
      "('雪', -0.004690366252751543, {'max_depth': 2})\n",
      "('津', 0.09262411878891985, {'max_depth': 4})\n"
     ]
    }
   ],
   "source": [
    "rf, gs_rf = {}, {}\n",
    "for diz in Xtr:\n",
    "    rf[diz] = RandomForestRegressor(max_depth=4)\n",
    "    gs_rf[diz] = GridSearchCV(rf[diz], {'max_depth': [2,4,6,8]})\n",
    "    gs_rf[diz].fit(Xtr[diz],ytr[diz])\n",
    "    print((diz, gs_rf[diz].score(Xte[diz],yte[diz]), gs_rf[diz].best_params_))"
   ]
  },
  {
   "cell_type": "markdown",
   "id": "024e186e-87fb-4582-88db-8cdc6d2842ce",
   "metadata": {
    "jp-MarkdownHeadingCollapsed": true,
    "tags": []
   },
   "source": [
    "### SVR"
   ]
  },
  {
   "cell_type": "code",
   "execution_count": 45,
   "id": "b3a490ab-cc74-4ed1-ad94-dedd2a5f4c4b",
   "metadata": {},
   "outputs": [],
   "source": [
    "from sklearn.svm import SVR"
   ]
  },
  {
   "cell_type": "code",
   "execution_count": 46,
   "id": "e5193173-d703-4917-9b33-6c07929a2ee3",
   "metadata": {},
   "outputs": [
    {
     "name": "stderr",
     "output_type": "stream",
     "text": [
      "/home/bhrdwj/anaconda3/envs/py39/lib/python3.9/site-packages/sklearn/model_selection/_validation.py:372: FitFailedWarning: \n",
      "45 fits failed out of a total of 75.\n",
      "The score on these train-test partitions for these parameters will be set to nan.\n",
      "If these failures are not expected, you can try to debug them by setting error_score='raise'.\n",
      "\n",
      "Below are more details about the failures:\n",
      "--------------------------------------------------------------------------------\n",
      "45 fits failed with the following error:\n",
      "Traceback (most recent call last):\n",
      "  File \"/home/bhrdwj/anaconda3/envs/py39/lib/python3.9/site-packages/sklearn/model_selection/_validation.py\", line 681, in _fit_and_score\n",
      "    estimator.fit(X_train, y_train, **fit_params)\n",
      "  File \"/home/bhrdwj/anaconda3/envs/py39/lib/python3.9/site-packages/sklearn/svm/_base.py\", line 255, in fit\n",
      "    fit(X, y, sample_weight, solver_type, kernel, random_seed=seed)\n",
      "  File \"/home/bhrdwj/anaconda3/envs/py39/lib/python3.9/site-packages/sklearn/svm/_base.py\", line 315, in _dense_fit\n",
      "    ) = libsvm.fit(\n",
      "  File \"sklearn/svm/_libsvm.pyx\", line 192, in sklearn.svm._libsvm.fit\n",
      "ValueError: C <= 0\n",
      "\n",
      "  warnings.warn(some_fits_failed_message, FitFailedWarning)\n",
      "/home/bhrdwj/anaconda3/envs/py39/lib/python3.9/site-packages/sklearn/model_selection/_search.py:969: UserWarning: One or more of the test scores are non-finite: [        nan         nan         nan         nan         nan         nan\n",
      "         nan         nan         nan -0.13255061 -0.11533126 -0.09983526\n",
      " -0.35009231 -0.3270207  -0.30381789]\n",
      "  warnings.warn(\n"
     ]
    },
    {
     "name": "stdout",
     "output_type": "stream",
     "text": [
      "('火', -0.12399029054535537, {'C': 10, 'epsilon': 0.15})\n"
     ]
    },
    {
     "name": "stderr",
     "output_type": "stream",
     "text": [
      "/home/bhrdwj/anaconda3/envs/py39/lib/python3.9/site-packages/sklearn/model_selection/_validation.py:372: FitFailedWarning: \n",
      "45 fits failed out of a total of 75.\n",
      "The score on these train-test partitions for these parameters will be set to nan.\n",
      "If these failures are not expected, you can try to debug them by setting error_score='raise'.\n",
      "\n",
      "Below are more details about the failures:\n",
      "--------------------------------------------------------------------------------\n",
      "45 fits failed with the following error:\n",
      "Traceback (most recent call last):\n",
      "  File \"/home/bhrdwj/anaconda3/envs/py39/lib/python3.9/site-packages/sklearn/model_selection/_validation.py\", line 681, in _fit_and_score\n",
      "    estimator.fit(X_train, y_train, **fit_params)\n",
      "  File \"/home/bhrdwj/anaconda3/envs/py39/lib/python3.9/site-packages/sklearn/svm/_base.py\", line 255, in fit\n",
      "    fit(X, y, sample_weight, solver_type, kernel, random_seed=seed)\n",
      "  File \"/home/bhrdwj/anaconda3/envs/py39/lib/python3.9/site-packages/sklearn/svm/_base.py\", line 315, in _dense_fit\n",
      "    ) = libsvm.fit(\n",
      "  File \"sklearn/svm/_libsvm.pyx\", line 192, in sklearn.svm._libsvm.fit\n",
      "ValueError: C <= 0\n",
      "\n",
      "  warnings.warn(some_fits_failed_message, FitFailedWarning)\n",
      "/home/bhrdwj/anaconda3/envs/py39/lib/python3.9/site-packages/sklearn/model_selection/_search.py:969: UserWarning: One or more of the test scores are non-finite: [       nan        nan        nan        nan        nan        nan\n",
      "        nan        nan        nan 0.1320258  0.1324209  0.1332522\n",
      " 0.20873737 0.20916865 0.21099825]\n",
      "  warnings.warn(\n"
     ]
    },
    {
     "name": "stdout",
     "output_type": "stream",
     "text": [
      "('雨', -0.024478679160186978, {'C': 100, 'epsilon': 0.15})\n"
     ]
    },
    {
     "name": "stderr",
     "output_type": "stream",
     "text": [
      "/home/bhrdwj/anaconda3/envs/py39/lib/python3.9/site-packages/sklearn/model_selection/_validation.py:372: FitFailedWarning: \n",
      "45 fits failed out of a total of 75.\n",
      "The score on these train-test partitions for these parameters will be set to nan.\n",
      "If these failures are not expected, you can try to debug them by setting error_score='raise'.\n",
      "\n",
      "Below are more details about the failures:\n",
      "--------------------------------------------------------------------------------\n",
      "45 fits failed with the following error:\n",
      "Traceback (most recent call last):\n",
      "  File \"/home/bhrdwj/anaconda3/envs/py39/lib/python3.9/site-packages/sklearn/model_selection/_validation.py\", line 681, in _fit_and_score\n",
      "    estimator.fit(X_train, y_train, **fit_params)\n",
      "  File \"/home/bhrdwj/anaconda3/envs/py39/lib/python3.9/site-packages/sklearn/svm/_base.py\", line 255, in fit\n",
      "    fit(X, y, sample_weight, solver_type, kernel, random_seed=seed)\n",
      "  File \"/home/bhrdwj/anaconda3/envs/py39/lib/python3.9/site-packages/sklearn/svm/_base.py\", line 315, in _dense_fit\n",
      "    ) = libsvm.fit(\n",
      "  File \"sklearn/svm/_libsvm.pyx\", line 192, in sklearn.svm._libsvm.fit\n",
      "ValueError: C <= 0\n",
      "\n",
      "  warnings.warn(some_fits_failed_message, FitFailedWarning)\n",
      "/home/bhrdwj/anaconda3/envs/py39/lib/python3.9/site-packages/sklearn/model_selection/_search.py:969: UserWarning: One or more of the test scores are non-finite: [       nan        nan        nan        nan        nan        nan\n",
      "        nan        nan        nan 0.04740597 0.04754959 0.04767908\n",
      " 0.08013813 0.07978032 0.07957269]\n",
      "  warnings.warn(\n"
     ]
    },
    {
     "name": "stdout",
     "output_type": "stream",
     "text": [
      "('震', 0.034543211327605405, {'C': 100, 'epsilon': 0.05})\n"
     ]
    },
    {
     "name": "stderr",
     "output_type": "stream",
     "text": [
      "/home/bhrdwj/anaconda3/envs/py39/lib/python3.9/site-packages/sklearn/model_selection/_validation.py:372: FitFailedWarning: \n",
      "45 fits failed out of a total of 75.\n",
      "The score on these train-test partitions for these parameters will be set to nan.\n",
      "If these failures are not expected, you can try to debug them by setting error_score='raise'.\n",
      "\n",
      "Below are more details about the failures:\n",
      "--------------------------------------------------------------------------------\n",
      "45 fits failed with the following error:\n",
      "Traceback (most recent call last):\n",
      "  File \"/home/bhrdwj/anaconda3/envs/py39/lib/python3.9/site-packages/sklearn/model_selection/_validation.py\", line 681, in _fit_and_score\n",
      "    estimator.fit(X_train, y_train, **fit_params)\n",
      "  File \"/home/bhrdwj/anaconda3/envs/py39/lib/python3.9/site-packages/sklearn/svm/_base.py\", line 255, in fit\n",
      "    fit(X, y, sample_weight, solver_type, kernel, random_seed=seed)\n",
      "  File \"/home/bhrdwj/anaconda3/envs/py39/lib/python3.9/site-packages/sklearn/svm/_base.py\", line 315, in _dense_fit\n",
      "    ) = libsvm.fit(\n",
      "  File \"sklearn/svm/_libsvm.pyx\", line 192, in sklearn.svm._libsvm.fit\n",
      "ValueError: C <= 0\n",
      "\n",
      "  warnings.warn(some_fits_failed_message, FitFailedWarning)\n",
      "/home/bhrdwj/anaconda3/envs/py39/lib/python3.9/site-packages/sklearn/model_selection/_search.py:969: UserWarning: One or more of the test scores are non-finite: [        nan         nan         nan         nan         nan         nan\n",
      "         nan         nan         nan -0.21396593 -0.1833136  -0.15632562\n",
      " -0.57206793 -0.54031059 -0.50786697]\n",
      "  warnings.warn(\n"
     ]
    },
    {
     "name": "stdout",
     "output_type": "stream",
     "text": [
      "('雪', -0.05732660081524199, {'C': 10, 'epsilon': 0.15})\n"
     ]
    },
    {
     "ename": "KeyboardInterrupt",
     "evalue": "",
     "output_type": "error",
     "traceback": [
      "\u001b[0;31m---------------------------------------------------------------------------\u001b[0m",
      "\u001b[0;31mKeyboardInterrupt\u001b[0m                         Traceback (most recent call last)",
      "\u001b[0;32m/tmp/ipykernel_626574/2974841725.py\u001b[0m in \u001b[0;36m<module>\u001b[0;34m\u001b[0m\n\u001b[1;32m      3\u001b[0m     \u001b[0msv\u001b[0m\u001b[0;34m[\u001b[0m\u001b[0mdiz\u001b[0m\u001b[0;34m]\u001b[0m \u001b[0;34m=\u001b[0m \u001b[0mSVR\u001b[0m\u001b[0;34m(\u001b[0m\u001b[0;34m)\u001b[0m\u001b[0;34m\u001b[0m\u001b[0;34m\u001b[0m\u001b[0m\n\u001b[1;32m      4\u001b[0m     \u001b[0mgs_sv\u001b[0m\u001b[0;34m[\u001b[0m\u001b[0mdiz\u001b[0m\u001b[0;34m]\u001b[0m \u001b[0;34m=\u001b[0m \u001b[0mGridSearchCV\u001b[0m\u001b[0;34m(\u001b[0m\u001b[0msv\u001b[0m\u001b[0;34m[\u001b[0m\u001b[0mdiz\u001b[0m\u001b[0;34m]\u001b[0m\u001b[0;34m,\u001b[0m \u001b[0;34m{\u001b[0m\u001b[0;34m'C'\u001b[0m\u001b[0;34m:\u001b[0m \u001b[0;34m[\u001b[0m\u001b[0;34m-\u001b[0m\u001b[0;36m100\u001b[0m\u001b[0;34m,\u001b[0m\u001b[0;34m-\u001b[0m\u001b[0;36m10\u001b[0m\u001b[0;34m,\u001b[0m\u001b[0;36m0\u001b[0m\u001b[0;34m,\u001b[0m\u001b[0;36m10\u001b[0m\u001b[0;34m,\u001b[0m\u001b[0;36m100\u001b[0m\u001b[0;34m]\u001b[0m\u001b[0;34m,\u001b[0m \u001b[0;34m'epsilon'\u001b[0m\u001b[0;34m:\u001b[0m\u001b[0;34m[\u001b[0m\u001b[0;36m.05\u001b[0m\u001b[0;34m,\u001b[0m\u001b[0;36m.1\u001b[0m\u001b[0;34m,\u001b[0m\u001b[0;36m.15\u001b[0m\u001b[0;34m]\u001b[0m\u001b[0;34m}\u001b[0m\u001b[0;34m)\u001b[0m\u001b[0;34m\u001b[0m\u001b[0;34m\u001b[0m\u001b[0m\n\u001b[0;32m----> 5\u001b[0;31m     \u001b[0mgs_sv\u001b[0m\u001b[0;34m[\u001b[0m\u001b[0mdiz\u001b[0m\u001b[0;34m]\u001b[0m\u001b[0;34m.\u001b[0m\u001b[0mfit\u001b[0m\u001b[0;34m(\u001b[0m\u001b[0mXtr\u001b[0m\u001b[0;34m[\u001b[0m\u001b[0mdiz\u001b[0m\u001b[0;34m]\u001b[0m\u001b[0;34m,\u001b[0m\u001b[0mytr\u001b[0m\u001b[0;34m[\u001b[0m\u001b[0mdiz\u001b[0m\u001b[0;34m]\u001b[0m\u001b[0;34m)\u001b[0m\u001b[0;34m\u001b[0m\u001b[0;34m\u001b[0m\u001b[0m\n\u001b[0m\u001b[1;32m      6\u001b[0m     \u001b[0mprint\u001b[0m\u001b[0;34m(\u001b[0m\u001b[0;34m(\u001b[0m\u001b[0mdiz\u001b[0m\u001b[0;34m,\u001b[0m \u001b[0mgs_sv\u001b[0m\u001b[0;34m[\u001b[0m\u001b[0mdiz\u001b[0m\u001b[0;34m]\u001b[0m\u001b[0;34m.\u001b[0m\u001b[0mscore\u001b[0m\u001b[0;34m(\u001b[0m\u001b[0mXte\u001b[0m\u001b[0;34m[\u001b[0m\u001b[0mdiz\u001b[0m\u001b[0;34m]\u001b[0m\u001b[0;34m,\u001b[0m\u001b[0myte\u001b[0m\u001b[0;34m[\u001b[0m\u001b[0mdiz\u001b[0m\u001b[0;34m]\u001b[0m\u001b[0;34m)\u001b[0m\u001b[0;34m,\u001b[0m \u001b[0mgs_sv\u001b[0m\u001b[0;34m[\u001b[0m\u001b[0mdiz\u001b[0m\u001b[0;34m]\u001b[0m\u001b[0;34m.\u001b[0m\u001b[0mbest_params_\u001b[0m\u001b[0;34m)\u001b[0m\u001b[0;34m)\u001b[0m\u001b[0;34m\u001b[0m\u001b[0;34m\u001b[0m\u001b[0m\n",
      "\u001b[0;32m~/anaconda3/envs/py39/lib/python3.9/site-packages/sklearn/model_selection/_search.py\u001b[0m in \u001b[0;36mfit\u001b[0;34m(self, X, y, groups, **fit_params)\u001b[0m\n\u001b[1;32m    889\u001b[0m                 \u001b[0;32mreturn\u001b[0m \u001b[0mresults\u001b[0m\u001b[0;34m\u001b[0m\u001b[0;34m\u001b[0m\u001b[0m\n\u001b[1;32m    890\u001b[0m \u001b[0;34m\u001b[0m\u001b[0m\n\u001b[0;32m--> 891\u001b[0;31m             \u001b[0mself\u001b[0m\u001b[0;34m.\u001b[0m\u001b[0m_run_search\u001b[0m\u001b[0;34m(\u001b[0m\u001b[0mevaluate_candidates\u001b[0m\u001b[0;34m)\u001b[0m\u001b[0;34m\u001b[0m\u001b[0;34m\u001b[0m\u001b[0m\n\u001b[0m\u001b[1;32m    892\u001b[0m \u001b[0;34m\u001b[0m\u001b[0m\n\u001b[1;32m    893\u001b[0m             \u001b[0;31m# multimetric is determined here because in the case of a callable\u001b[0m\u001b[0;34m\u001b[0m\u001b[0;34m\u001b[0m\u001b[0m\n",
      "\u001b[0;32m~/anaconda3/envs/py39/lib/python3.9/site-packages/sklearn/model_selection/_search.py\u001b[0m in \u001b[0;36m_run_search\u001b[0;34m(self, evaluate_candidates)\u001b[0m\n\u001b[1;32m   1390\u001b[0m     \u001b[0;32mdef\u001b[0m \u001b[0m_run_search\u001b[0m\u001b[0;34m(\u001b[0m\u001b[0mself\u001b[0m\u001b[0;34m,\u001b[0m \u001b[0mevaluate_candidates\u001b[0m\u001b[0;34m)\u001b[0m\u001b[0;34m:\u001b[0m\u001b[0;34m\u001b[0m\u001b[0;34m\u001b[0m\u001b[0m\n\u001b[1;32m   1391\u001b[0m         \u001b[0;34m\"\"\"Search all candidates in param_grid\"\"\"\u001b[0m\u001b[0;34m\u001b[0m\u001b[0;34m\u001b[0m\u001b[0m\n\u001b[0;32m-> 1392\u001b[0;31m         \u001b[0mevaluate_candidates\u001b[0m\u001b[0;34m(\u001b[0m\u001b[0mParameterGrid\u001b[0m\u001b[0;34m(\u001b[0m\u001b[0mself\u001b[0m\u001b[0;34m.\u001b[0m\u001b[0mparam_grid\u001b[0m\u001b[0;34m)\u001b[0m\u001b[0;34m)\u001b[0m\u001b[0;34m\u001b[0m\u001b[0;34m\u001b[0m\u001b[0m\n\u001b[0m\u001b[1;32m   1393\u001b[0m \u001b[0;34m\u001b[0m\u001b[0m\n\u001b[1;32m   1394\u001b[0m \u001b[0;34m\u001b[0m\u001b[0m\n",
      "\u001b[0;32m~/anaconda3/envs/py39/lib/python3.9/site-packages/sklearn/model_selection/_search.py\u001b[0m in \u001b[0;36mevaluate_candidates\u001b[0;34m(candidate_params, cv, more_results)\u001b[0m\n\u001b[1;32m    836\u001b[0m                     )\n\u001b[1;32m    837\u001b[0m \u001b[0;34m\u001b[0m\u001b[0m\n\u001b[0;32m--> 838\u001b[0;31m                 out = parallel(\n\u001b[0m\u001b[1;32m    839\u001b[0m                     delayed(_fit_and_score)(\n\u001b[1;32m    840\u001b[0m                         \u001b[0mclone\u001b[0m\u001b[0;34m(\u001b[0m\u001b[0mbase_estimator\u001b[0m\u001b[0;34m)\u001b[0m\u001b[0;34m,\u001b[0m\u001b[0;34m\u001b[0m\u001b[0;34m\u001b[0m\u001b[0m\n",
      "\u001b[0;32m~/anaconda3/envs/py39/lib/python3.9/site-packages/joblib/parallel.py\u001b[0m in \u001b[0;36m__call__\u001b[0;34m(self, iterable)\u001b[0m\n\u001b[1;32m   1044\u001b[0m                 \u001b[0mself\u001b[0m\u001b[0;34m.\u001b[0m\u001b[0m_iterating\u001b[0m \u001b[0;34m=\u001b[0m \u001b[0mself\u001b[0m\u001b[0;34m.\u001b[0m\u001b[0m_original_iterator\u001b[0m \u001b[0;32mis\u001b[0m \u001b[0;32mnot\u001b[0m \u001b[0;32mNone\u001b[0m\u001b[0;34m\u001b[0m\u001b[0;34m\u001b[0m\u001b[0m\n\u001b[1;32m   1045\u001b[0m \u001b[0;34m\u001b[0m\u001b[0m\n\u001b[0;32m-> 1046\u001b[0;31m             \u001b[0;32mwhile\u001b[0m \u001b[0mself\u001b[0m\u001b[0;34m.\u001b[0m\u001b[0mdispatch_one_batch\u001b[0m\u001b[0;34m(\u001b[0m\u001b[0miterator\u001b[0m\u001b[0;34m)\u001b[0m\u001b[0;34m:\u001b[0m\u001b[0;34m\u001b[0m\u001b[0;34m\u001b[0m\u001b[0m\n\u001b[0m\u001b[1;32m   1047\u001b[0m                 \u001b[0;32mpass\u001b[0m\u001b[0;34m\u001b[0m\u001b[0;34m\u001b[0m\u001b[0m\n\u001b[1;32m   1048\u001b[0m \u001b[0;34m\u001b[0m\u001b[0m\n",
      "\u001b[0;32m~/anaconda3/envs/py39/lib/python3.9/site-packages/joblib/parallel.py\u001b[0m in \u001b[0;36mdispatch_one_batch\u001b[0;34m(self, iterator)\u001b[0m\n\u001b[1;32m    859\u001b[0m                 \u001b[0;32mreturn\u001b[0m \u001b[0;32mFalse\u001b[0m\u001b[0;34m\u001b[0m\u001b[0;34m\u001b[0m\u001b[0m\n\u001b[1;32m    860\u001b[0m             \u001b[0;32melse\u001b[0m\u001b[0;34m:\u001b[0m\u001b[0;34m\u001b[0m\u001b[0;34m\u001b[0m\u001b[0m\n\u001b[0;32m--> 861\u001b[0;31m                 \u001b[0mself\u001b[0m\u001b[0;34m.\u001b[0m\u001b[0m_dispatch\u001b[0m\u001b[0;34m(\u001b[0m\u001b[0mtasks\u001b[0m\u001b[0;34m)\u001b[0m\u001b[0;34m\u001b[0m\u001b[0;34m\u001b[0m\u001b[0m\n\u001b[0m\u001b[1;32m    862\u001b[0m                 \u001b[0;32mreturn\u001b[0m \u001b[0;32mTrue\u001b[0m\u001b[0;34m\u001b[0m\u001b[0;34m\u001b[0m\u001b[0m\n\u001b[1;32m    863\u001b[0m \u001b[0;34m\u001b[0m\u001b[0m\n",
      "\u001b[0;32m~/anaconda3/envs/py39/lib/python3.9/site-packages/joblib/parallel.py\u001b[0m in \u001b[0;36m_dispatch\u001b[0;34m(self, batch)\u001b[0m\n\u001b[1;32m    777\u001b[0m         \u001b[0;32mwith\u001b[0m \u001b[0mself\u001b[0m\u001b[0;34m.\u001b[0m\u001b[0m_lock\u001b[0m\u001b[0;34m:\u001b[0m\u001b[0;34m\u001b[0m\u001b[0;34m\u001b[0m\u001b[0m\n\u001b[1;32m    778\u001b[0m             \u001b[0mjob_idx\u001b[0m \u001b[0;34m=\u001b[0m \u001b[0mlen\u001b[0m\u001b[0;34m(\u001b[0m\u001b[0mself\u001b[0m\u001b[0;34m.\u001b[0m\u001b[0m_jobs\u001b[0m\u001b[0;34m)\u001b[0m\u001b[0;34m\u001b[0m\u001b[0;34m\u001b[0m\u001b[0m\n\u001b[0;32m--> 779\u001b[0;31m             \u001b[0mjob\u001b[0m \u001b[0;34m=\u001b[0m \u001b[0mself\u001b[0m\u001b[0;34m.\u001b[0m\u001b[0m_backend\u001b[0m\u001b[0;34m.\u001b[0m\u001b[0mapply_async\u001b[0m\u001b[0;34m(\u001b[0m\u001b[0mbatch\u001b[0m\u001b[0;34m,\u001b[0m \u001b[0mcallback\u001b[0m\u001b[0;34m=\u001b[0m\u001b[0mcb\u001b[0m\u001b[0;34m)\u001b[0m\u001b[0;34m\u001b[0m\u001b[0;34m\u001b[0m\u001b[0m\n\u001b[0m\u001b[1;32m    780\u001b[0m             \u001b[0;31m# A job can complete so quickly than its callback is\u001b[0m\u001b[0;34m\u001b[0m\u001b[0;34m\u001b[0m\u001b[0m\n\u001b[1;32m    781\u001b[0m             \u001b[0;31m# called before we get here, causing self._jobs to\u001b[0m\u001b[0;34m\u001b[0m\u001b[0;34m\u001b[0m\u001b[0m\n",
      "\u001b[0;32m~/anaconda3/envs/py39/lib/python3.9/site-packages/joblib/_parallel_backends.py\u001b[0m in \u001b[0;36mapply_async\u001b[0;34m(self, func, callback)\u001b[0m\n\u001b[1;32m    206\u001b[0m     \u001b[0;32mdef\u001b[0m \u001b[0mapply_async\u001b[0m\u001b[0;34m(\u001b[0m\u001b[0mself\u001b[0m\u001b[0;34m,\u001b[0m \u001b[0mfunc\u001b[0m\u001b[0;34m,\u001b[0m \u001b[0mcallback\u001b[0m\u001b[0;34m=\u001b[0m\u001b[0;32mNone\u001b[0m\u001b[0;34m)\u001b[0m\u001b[0;34m:\u001b[0m\u001b[0;34m\u001b[0m\u001b[0;34m\u001b[0m\u001b[0m\n\u001b[1;32m    207\u001b[0m         \u001b[0;34m\"\"\"Schedule a func to be run\"\"\"\u001b[0m\u001b[0;34m\u001b[0m\u001b[0;34m\u001b[0m\u001b[0m\n\u001b[0;32m--> 208\u001b[0;31m         \u001b[0mresult\u001b[0m \u001b[0;34m=\u001b[0m \u001b[0mImmediateResult\u001b[0m\u001b[0;34m(\u001b[0m\u001b[0mfunc\u001b[0m\u001b[0;34m)\u001b[0m\u001b[0;34m\u001b[0m\u001b[0;34m\u001b[0m\u001b[0m\n\u001b[0m\u001b[1;32m    209\u001b[0m         \u001b[0;32mif\u001b[0m \u001b[0mcallback\u001b[0m\u001b[0;34m:\u001b[0m\u001b[0;34m\u001b[0m\u001b[0;34m\u001b[0m\u001b[0m\n\u001b[1;32m    210\u001b[0m             \u001b[0mcallback\u001b[0m\u001b[0;34m(\u001b[0m\u001b[0mresult\u001b[0m\u001b[0;34m)\u001b[0m\u001b[0;34m\u001b[0m\u001b[0;34m\u001b[0m\u001b[0m\n",
      "\u001b[0;32m~/anaconda3/envs/py39/lib/python3.9/site-packages/joblib/_parallel_backends.py\u001b[0m in \u001b[0;36m__init__\u001b[0;34m(self, batch)\u001b[0m\n\u001b[1;32m    570\u001b[0m         \u001b[0;31m# Don't delay the application, to avoid keeping the input\u001b[0m\u001b[0;34m\u001b[0m\u001b[0;34m\u001b[0m\u001b[0m\n\u001b[1;32m    571\u001b[0m         \u001b[0;31m# arguments in memory\u001b[0m\u001b[0;34m\u001b[0m\u001b[0;34m\u001b[0m\u001b[0m\n\u001b[0;32m--> 572\u001b[0;31m         \u001b[0mself\u001b[0m\u001b[0;34m.\u001b[0m\u001b[0mresults\u001b[0m \u001b[0;34m=\u001b[0m \u001b[0mbatch\u001b[0m\u001b[0;34m(\u001b[0m\u001b[0;34m)\u001b[0m\u001b[0;34m\u001b[0m\u001b[0;34m\u001b[0m\u001b[0m\n\u001b[0m\u001b[1;32m    573\u001b[0m \u001b[0;34m\u001b[0m\u001b[0m\n\u001b[1;32m    574\u001b[0m     \u001b[0;32mdef\u001b[0m \u001b[0mget\u001b[0m\u001b[0;34m(\u001b[0m\u001b[0mself\u001b[0m\u001b[0;34m)\u001b[0m\u001b[0;34m:\u001b[0m\u001b[0;34m\u001b[0m\u001b[0;34m\u001b[0m\u001b[0m\n",
      "\u001b[0;32m~/anaconda3/envs/py39/lib/python3.9/site-packages/joblib/parallel.py\u001b[0m in \u001b[0;36m__call__\u001b[0;34m(self)\u001b[0m\n\u001b[1;32m    260\u001b[0m         \u001b[0;31m# change the default number of processes to -1\u001b[0m\u001b[0;34m\u001b[0m\u001b[0;34m\u001b[0m\u001b[0m\n\u001b[1;32m    261\u001b[0m         \u001b[0;32mwith\u001b[0m \u001b[0mparallel_backend\u001b[0m\u001b[0;34m(\u001b[0m\u001b[0mself\u001b[0m\u001b[0;34m.\u001b[0m\u001b[0m_backend\u001b[0m\u001b[0;34m,\u001b[0m \u001b[0mn_jobs\u001b[0m\u001b[0;34m=\u001b[0m\u001b[0mself\u001b[0m\u001b[0;34m.\u001b[0m\u001b[0m_n_jobs\u001b[0m\u001b[0;34m)\u001b[0m\u001b[0;34m:\u001b[0m\u001b[0;34m\u001b[0m\u001b[0;34m\u001b[0m\u001b[0m\n\u001b[0;32m--> 262\u001b[0;31m             return [func(*args, **kwargs)\n\u001b[0m\u001b[1;32m    263\u001b[0m                     for func, args, kwargs in self.items]\n\u001b[1;32m    264\u001b[0m \u001b[0;34m\u001b[0m\u001b[0m\n",
      "\u001b[0;32m~/anaconda3/envs/py39/lib/python3.9/site-packages/joblib/parallel.py\u001b[0m in \u001b[0;36m<listcomp>\u001b[0;34m(.0)\u001b[0m\n\u001b[1;32m    260\u001b[0m         \u001b[0;31m# change the default number of processes to -1\u001b[0m\u001b[0;34m\u001b[0m\u001b[0;34m\u001b[0m\u001b[0m\n\u001b[1;32m    261\u001b[0m         \u001b[0;32mwith\u001b[0m \u001b[0mparallel_backend\u001b[0m\u001b[0;34m(\u001b[0m\u001b[0mself\u001b[0m\u001b[0;34m.\u001b[0m\u001b[0m_backend\u001b[0m\u001b[0;34m,\u001b[0m \u001b[0mn_jobs\u001b[0m\u001b[0;34m=\u001b[0m\u001b[0mself\u001b[0m\u001b[0;34m.\u001b[0m\u001b[0m_n_jobs\u001b[0m\u001b[0;34m)\u001b[0m\u001b[0;34m:\u001b[0m\u001b[0;34m\u001b[0m\u001b[0;34m\u001b[0m\u001b[0m\n\u001b[0;32m--> 262\u001b[0;31m             return [func(*args, **kwargs)\n\u001b[0m\u001b[1;32m    263\u001b[0m                     for func, args, kwargs in self.items]\n\u001b[1;32m    264\u001b[0m \u001b[0;34m\u001b[0m\u001b[0m\n",
      "\u001b[0;32m~/anaconda3/envs/py39/lib/python3.9/site-packages/sklearn/utils/fixes.py\u001b[0m in \u001b[0;36m__call__\u001b[0;34m(self, *args, **kwargs)\u001b[0m\n\u001b[1;32m    209\u001b[0m     \u001b[0;32mdef\u001b[0m \u001b[0m__call__\u001b[0m\u001b[0;34m(\u001b[0m\u001b[0mself\u001b[0m\u001b[0;34m,\u001b[0m \u001b[0;34m*\u001b[0m\u001b[0margs\u001b[0m\u001b[0;34m,\u001b[0m \u001b[0;34m**\u001b[0m\u001b[0mkwargs\u001b[0m\u001b[0;34m)\u001b[0m\u001b[0;34m:\u001b[0m\u001b[0;34m\u001b[0m\u001b[0;34m\u001b[0m\u001b[0m\n\u001b[1;32m    210\u001b[0m         \u001b[0;32mwith\u001b[0m \u001b[0mconfig_context\u001b[0m\u001b[0;34m(\u001b[0m\u001b[0;34m**\u001b[0m\u001b[0mself\u001b[0m\u001b[0;34m.\u001b[0m\u001b[0mconfig\u001b[0m\u001b[0;34m)\u001b[0m\u001b[0;34m:\u001b[0m\u001b[0;34m\u001b[0m\u001b[0;34m\u001b[0m\u001b[0m\n\u001b[0;32m--> 211\u001b[0;31m             \u001b[0;32mreturn\u001b[0m \u001b[0mself\u001b[0m\u001b[0;34m.\u001b[0m\u001b[0mfunction\u001b[0m\u001b[0;34m(\u001b[0m\u001b[0;34m*\u001b[0m\u001b[0margs\u001b[0m\u001b[0;34m,\u001b[0m \u001b[0;34m**\u001b[0m\u001b[0mkwargs\u001b[0m\u001b[0;34m)\u001b[0m\u001b[0;34m\u001b[0m\u001b[0;34m\u001b[0m\u001b[0m\n\u001b[0m\u001b[1;32m    212\u001b[0m \u001b[0;34m\u001b[0m\u001b[0m\n\u001b[1;32m    213\u001b[0m \u001b[0;34m\u001b[0m\u001b[0m\n",
      "\u001b[0;32m~/anaconda3/envs/py39/lib/python3.9/site-packages/sklearn/model_selection/_validation.py\u001b[0m in \u001b[0;36m_fit_and_score\u001b[0;34m(estimator, X, y, scorer, train, test, verbose, parameters, fit_params, return_train_score, return_parameters, return_n_test_samples, return_times, return_estimator, split_progress, candidate_progress, error_score)\u001b[0m\n\u001b[1;32m    679\u001b[0m             \u001b[0mestimator\u001b[0m\u001b[0;34m.\u001b[0m\u001b[0mfit\u001b[0m\u001b[0;34m(\u001b[0m\u001b[0mX_train\u001b[0m\u001b[0;34m,\u001b[0m \u001b[0;34m**\u001b[0m\u001b[0mfit_params\u001b[0m\u001b[0;34m)\u001b[0m\u001b[0;34m\u001b[0m\u001b[0;34m\u001b[0m\u001b[0m\n\u001b[1;32m    680\u001b[0m         \u001b[0;32melse\u001b[0m\u001b[0;34m:\u001b[0m\u001b[0;34m\u001b[0m\u001b[0;34m\u001b[0m\u001b[0m\n\u001b[0;32m--> 681\u001b[0;31m             \u001b[0mestimator\u001b[0m\u001b[0;34m.\u001b[0m\u001b[0mfit\u001b[0m\u001b[0;34m(\u001b[0m\u001b[0mX_train\u001b[0m\u001b[0;34m,\u001b[0m \u001b[0my_train\u001b[0m\u001b[0;34m,\u001b[0m \u001b[0;34m**\u001b[0m\u001b[0mfit_params\u001b[0m\u001b[0;34m)\u001b[0m\u001b[0;34m\u001b[0m\u001b[0;34m\u001b[0m\u001b[0m\n\u001b[0m\u001b[1;32m    682\u001b[0m \u001b[0;34m\u001b[0m\u001b[0m\n\u001b[1;32m    683\u001b[0m     \u001b[0;32mexcept\u001b[0m \u001b[0mException\u001b[0m\u001b[0;34m:\u001b[0m\u001b[0;34m\u001b[0m\u001b[0;34m\u001b[0m\u001b[0m\n",
      "\u001b[0;32m~/anaconda3/envs/py39/lib/python3.9/site-packages/sklearn/svm/_base.py\u001b[0m in \u001b[0;36mfit\u001b[0;34m(self, X, y, sample_weight)\u001b[0m\n\u001b[1;32m    188\u001b[0m             \u001b[0mcheck_consistent_length\u001b[0m\u001b[0;34m(\u001b[0m\u001b[0mX\u001b[0m\u001b[0;34m,\u001b[0m \u001b[0my\u001b[0m\u001b[0;34m)\u001b[0m\u001b[0;34m\u001b[0m\u001b[0;34m\u001b[0m\u001b[0m\n\u001b[1;32m    189\u001b[0m         \u001b[0;32melse\u001b[0m\u001b[0;34m:\u001b[0m\u001b[0;34m\u001b[0m\u001b[0;34m\u001b[0m\u001b[0m\n\u001b[0;32m--> 190\u001b[0;31m             X, y = self._validate_data(\n\u001b[0m\u001b[1;32m    191\u001b[0m                 \u001b[0mX\u001b[0m\u001b[0;34m,\u001b[0m\u001b[0;34m\u001b[0m\u001b[0;34m\u001b[0m\u001b[0m\n\u001b[1;32m    192\u001b[0m                 \u001b[0my\u001b[0m\u001b[0;34m,\u001b[0m\u001b[0;34m\u001b[0m\u001b[0;34m\u001b[0m\u001b[0m\n",
      "\u001b[0;32m~/anaconda3/envs/py39/lib/python3.9/site-packages/sklearn/base.py\u001b[0m in \u001b[0;36m_validate_data\u001b[0;34m(self, X, y, reset, validate_separately, **check_params)\u001b[0m\n\u001b[1;32m    574\u001b[0m                 \u001b[0my\u001b[0m \u001b[0;34m=\u001b[0m \u001b[0mcheck_array\u001b[0m\u001b[0;34m(\u001b[0m\u001b[0my\u001b[0m\u001b[0;34m,\u001b[0m \u001b[0;34m**\u001b[0m\u001b[0mcheck_y_params\u001b[0m\u001b[0;34m)\u001b[0m\u001b[0;34m\u001b[0m\u001b[0;34m\u001b[0m\u001b[0m\n\u001b[1;32m    575\u001b[0m             \u001b[0;32melse\u001b[0m\u001b[0;34m:\u001b[0m\u001b[0;34m\u001b[0m\u001b[0;34m\u001b[0m\u001b[0m\n\u001b[0;32m--> 576\u001b[0;31m                 \u001b[0mX\u001b[0m\u001b[0;34m,\u001b[0m \u001b[0my\u001b[0m \u001b[0;34m=\u001b[0m \u001b[0mcheck_X_y\u001b[0m\u001b[0;34m(\u001b[0m\u001b[0mX\u001b[0m\u001b[0;34m,\u001b[0m \u001b[0my\u001b[0m\u001b[0;34m,\u001b[0m \u001b[0;34m**\u001b[0m\u001b[0mcheck_params\u001b[0m\u001b[0;34m)\u001b[0m\u001b[0;34m\u001b[0m\u001b[0;34m\u001b[0m\u001b[0m\n\u001b[0m\u001b[1;32m    577\u001b[0m             \u001b[0mout\u001b[0m \u001b[0;34m=\u001b[0m \u001b[0mX\u001b[0m\u001b[0;34m,\u001b[0m \u001b[0my\u001b[0m\u001b[0;34m\u001b[0m\u001b[0;34m\u001b[0m\u001b[0m\n\u001b[1;32m    578\u001b[0m \u001b[0;34m\u001b[0m\u001b[0m\n",
      "\u001b[0;32m~/anaconda3/envs/py39/lib/python3.9/site-packages/sklearn/utils/validation.py\u001b[0m in \u001b[0;36mcheck_X_y\u001b[0;34m(X, y, accept_sparse, accept_large_sparse, dtype, order, copy, force_all_finite, ensure_2d, allow_nd, multi_output, ensure_min_samples, ensure_min_features, y_numeric, estimator)\u001b[0m\n\u001b[1;32m    954\u001b[0m         \u001b[0;32mraise\u001b[0m \u001b[0mValueError\u001b[0m\u001b[0;34m(\u001b[0m\u001b[0;34m\"y cannot be None\"\u001b[0m\u001b[0;34m)\u001b[0m\u001b[0;34m\u001b[0m\u001b[0;34m\u001b[0m\u001b[0m\n\u001b[1;32m    955\u001b[0m \u001b[0;34m\u001b[0m\u001b[0m\n\u001b[0;32m--> 956\u001b[0;31m     X = check_array(\n\u001b[0m\u001b[1;32m    957\u001b[0m         \u001b[0mX\u001b[0m\u001b[0;34m,\u001b[0m\u001b[0;34m\u001b[0m\u001b[0;34m\u001b[0m\u001b[0m\n\u001b[1;32m    958\u001b[0m         \u001b[0maccept_sparse\u001b[0m\u001b[0;34m=\u001b[0m\u001b[0maccept_sparse\u001b[0m\u001b[0;34m,\u001b[0m\u001b[0;34m\u001b[0m\u001b[0;34m\u001b[0m\u001b[0m\n",
      "\u001b[0;32m~/anaconda3/envs/py39/lib/python3.9/site-packages/sklearn/utils/validation.py\u001b[0m in \u001b[0;36mcheck_array\u001b[0;34m(array, accept_sparse, accept_large_sparse, dtype, order, copy, force_all_finite, ensure_2d, allow_nd, ensure_min_samples, ensure_min_features, estimator)\u001b[0m\n\u001b[1;32m    613\u001b[0m             \u001b[0;32mfrom\u001b[0m \u001b[0mpandas\u001b[0m\u001b[0;34m.\u001b[0m\u001b[0mapi\u001b[0m\u001b[0;34m.\u001b[0m\u001b[0mtypes\u001b[0m \u001b[0;32mimport\u001b[0m \u001b[0mis_sparse\u001b[0m\u001b[0;34m\u001b[0m\u001b[0;34m\u001b[0m\u001b[0m\n\u001b[1;32m    614\u001b[0m \u001b[0;34m\u001b[0m\u001b[0m\n\u001b[0;32m--> 615\u001b[0;31m             \u001b[0;32mif\u001b[0m \u001b[0;32mnot\u001b[0m \u001b[0mhasattr\u001b[0m\u001b[0;34m(\u001b[0m\u001b[0marray\u001b[0m\u001b[0;34m,\u001b[0m \u001b[0;34m\"sparse\"\u001b[0m\u001b[0;34m)\u001b[0m \u001b[0;32mand\u001b[0m \u001b[0marray\u001b[0m\u001b[0;34m.\u001b[0m\u001b[0mdtypes\u001b[0m\u001b[0;34m.\u001b[0m\u001b[0mapply\u001b[0m\u001b[0;34m(\u001b[0m\u001b[0mis_sparse\u001b[0m\u001b[0;34m)\u001b[0m\u001b[0;34m.\u001b[0m\u001b[0many\u001b[0m\u001b[0;34m(\u001b[0m\u001b[0;34m)\u001b[0m\u001b[0;34m:\u001b[0m\u001b[0;34m\u001b[0m\u001b[0;34m\u001b[0m\u001b[0m\n\u001b[0m\u001b[1;32m    616\u001b[0m                 warnings.warn(\n\u001b[1;32m    617\u001b[0m                     \u001b[0;34m\"pandas.DataFrame with sparse columns found.\"\u001b[0m\u001b[0;34m\u001b[0m\u001b[0;34m\u001b[0m\u001b[0m\n",
      "\u001b[0;32m~/anaconda3/envs/py39/lib/python3.9/site-packages/pandas/core/accessor.py\u001b[0m in \u001b[0;36m__get__\u001b[0;34m(self, obj, cls)\u001b[0m\n\u001b[1;32m    178\u001b[0m             \u001b[0;31m# we're accessing the attribute of the class, i.e., Dataset.geo\u001b[0m\u001b[0;34m\u001b[0m\u001b[0;34m\u001b[0m\u001b[0m\n\u001b[1;32m    179\u001b[0m             \u001b[0;32mreturn\u001b[0m \u001b[0mself\u001b[0m\u001b[0;34m.\u001b[0m\u001b[0m_accessor\u001b[0m\u001b[0;34m\u001b[0m\u001b[0;34m\u001b[0m\u001b[0m\n\u001b[0;32m--> 180\u001b[0;31m         \u001b[0maccessor_obj\u001b[0m \u001b[0;34m=\u001b[0m \u001b[0mself\u001b[0m\u001b[0;34m.\u001b[0m\u001b[0m_accessor\u001b[0m\u001b[0;34m(\u001b[0m\u001b[0mobj\u001b[0m\u001b[0;34m)\u001b[0m\u001b[0;34m\u001b[0m\u001b[0;34m\u001b[0m\u001b[0m\n\u001b[0m\u001b[1;32m    181\u001b[0m         \u001b[0;31m# Replace the property with the accessor object. Inspired by:\u001b[0m\u001b[0;34m\u001b[0m\u001b[0;34m\u001b[0m\u001b[0m\n\u001b[1;32m    182\u001b[0m         \u001b[0;31m# https://www.pydanny.com/cached-property.html\u001b[0m\u001b[0;34m\u001b[0m\u001b[0;34m\u001b[0m\u001b[0m\n",
      "\u001b[0;32m~/anaconda3/envs/py39/lib/python3.9/site-packages/pandas/core/arrays/sparse/accessor.py\u001b[0m in \u001b[0;36m__init__\u001b[0;34m(self, data)\u001b[0m\n\u001b[1;32m     17\u001b[0m     \u001b[0;32mdef\u001b[0m \u001b[0m__init__\u001b[0m\u001b[0;34m(\u001b[0m\u001b[0mself\u001b[0m\u001b[0;34m,\u001b[0m \u001b[0mdata\u001b[0m\u001b[0;34m=\u001b[0m\u001b[0;32mNone\u001b[0m\u001b[0;34m)\u001b[0m\u001b[0;34m:\u001b[0m\u001b[0;34m\u001b[0m\u001b[0;34m\u001b[0m\u001b[0m\n\u001b[1;32m     18\u001b[0m         \u001b[0mself\u001b[0m\u001b[0;34m.\u001b[0m\u001b[0m_parent\u001b[0m \u001b[0;34m=\u001b[0m \u001b[0mdata\u001b[0m\u001b[0;34m\u001b[0m\u001b[0;34m\u001b[0m\u001b[0m\n\u001b[0;32m---> 19\u001b[0;31m         \u001b[0mself\u001b[0m\u001b[0;34m.\u001b[0m\u001b[0m_validate\u001b[0m\u001b[0;34m(\u001b[0m\u001b[0mdata\u001b[0m\u001b[0;34m)\u001b[0m\u001b[0;34m\u001b[0m\u001b[0;34m\u001b[0m\u001b[0m\n\u001b[0m\u001b[1;32m     20\u001b[0m \u001b[0;34m\u001b[0m\u001b[0m\n\u001b[1;32m     21\u001b[0m     \u001b[0;32mdef\u001b[0m \u001b[0m_validate\u001b[0m\u001b[0;34m(\u001b[0m\u001b[0mself\u001b[0m\u001b[0;34m,\u001b[0m \u001b[0mdata\u001b[0m\u001b[0;34m)\u001b[0m\u001b[0;34m:\u001b[0m\u001b[0;34m\u001b[0m\u001b[0;34m\u001b[0m\u001b[0m\n",
      "\u001b[0;32m~/anaconda3/envs/py39/lib/python3.9/site-packages/pandas/core/arrays/sparse/accessor.py\u001b[0m in \u001b[0;36m_validate\u001b[0;34m(self, data)\u001b[0m\n\u001b[1;32m    219\u001b[0m \u001b[0;34m\u001b[0m\u001b[0m\n\u001b[1;32m    220\u001b[0m     \u001b[0;32mdef\u001b[0m \u001b[0m_validate\u001b[0m\u001b[0;34m(\u001b[0m\u001b[0mself\u001b[0m\u001b[0;34m,\u001b[0m \u001b[0mdata\u001b[0m\u001b[0;34m)\u001b[0m\u001b[0;34m:\u001b[0m\u001b[0;34m\u001b[0m\u001b[0;34m\u001b[0m\u001b[0m\n\u001b[0;32m--> 221\u001b[0;31m         \u001b[0mdtypes\u001b[0m \u001b[0;34m=\u001b[0m \u001b[0mdata\u001b[0m\u001b[0;34m.\u001b[0m\u001b[0mdtypes\u001b[0m\u001b[0;34m\u001b[0m\u001b[0;34m\u001b[0m\u001b[0m\n\u001b[0m\u001b[1;32m    222\u001b[0m         \u001b[0;32mif\u001b[0m \u001b[0;32mnot\u001b[0m \u001b[0mall\u001b[0m\u001b[0;34m(\u001b[0m\u001b[0misinstance\u001b[0m\u001b[0;34m(\u001b[0m\u001b[0mt\u001b[0m\u001b[0;34m,\u001b[0m \u001b[0mSparseDtype\u001b[0m\u001b[0;34m)\u001b[0m \u001b[0;32mfor\u001b[0m \u001b[0mt\u001b[0m \u001b[0;32min\u001b[0m \u001b[0mdtypes\u001b[0m\u001b[0;34m)\u001b[0m\u001b[0;34m:\u001b[0m\u001b[0;34m\u001b[0m\u001b[0;34m\u001b[0m\u001b[0m\n\u001b[1;32m    223\u001b[0m             \u001b[0;32mraise\u001b[0m \u001b[0mAttributeError\u001b[0m\u001b[0;34m(\u001b[0m\u001b[0mself\u001b[0m\u001b[0;34m.\u001b[0m\u001b[0m_validation_msg\u001b[0m\u001b[0;34m)\u001b[0m\u001b[0;34m\u001b[0m\u001b[0;34m\u001b[0m\u001b[0m\n",
      "\u001b[0;32m~/anaconda3/envs/py39/lib/python3.9/site-packages/pandas/core/generic.py\u001b[0m in \u001b[0;36mdtypes\u001b[0;34m(self)\u001b[0m\n\u001b[1;32m   5706\u001b[0m         \u001b[0mdtype\u001b[0m\u001b[0;34m:\u001b[0m \u001b[0mobject\u001b[0m\u001b[0;34m\u001b[0m\u001b[0;34m\u001b[0m\u001b[0m\n\u001b[1;32m   5707\u001b[0m         \"\"\"\n\u001b[0;32m-> 5708\u001b[0;31m         \u001b[0mdata\u001b[0m \u001b[0;34m=\u001b[0m \u001b[0mself\u001b[0m\u001b[0;34m.\u001b[0m\u001b[0m_mgr\u001b[0m\u001b[0;34m.\u001b[0m\u001b[0mget_dtypes\u001b[0m\u001b[0;34m(\u001b[0m\u001b[0;34m)\u001b[0m\u001b[0;34m\u001b[0m\u001b[0;34m\u001b[0m\u001b[0m\n\u001b[0m\u001b[1;32m   5709\u001b[0m         \u001b[0;32mreturn\u001b[0m \u001b[0mself\u001b[0m\u001b[0;34m.\u001b[0m\u001b[0m_constructor_sliced\u001b[0m\u001b[0;34m(\u001b[0m\u001b[0mdata\u001b[0m\u001b[0;34m,\u001b[0m \u001b[0mindex\u001b[0m\u001b[0;34m=\u001b[0m\u001b[0mself\u001b[0m\u001b[0;34m.\u001b[0m\u001b[0m_info_axis\u001b[0m\u001b[0;34m,\u001b[0m \u001b[0mdtype\u001b[0m\u001b[0;34m=\u001b[0m\u001b[0mnp\u001b[0m\u001b[0;34m.\u001b[0m\u001b[0mobject_\u001b[0m\u001b[0;34m)\u001b[0m\u001b[0;34m\u001b[0m\u001b[0;34m\u001b[0m\u001b[0m\n\u001b[1;32m   5710\u001b[0m \u001b[0;34m\u001b[0m\u001b[0m\n",
      "\u001b[0;32m~/anaconda3/envs/py39/lib/python3.9/site-packages/pandas/core/internals/managers.py\u001b[0m in \u001b[0;36mget_dtypes\u001b[0;34m(self)\u001b[0m\n\u001b[1;32m    257\u001b[0m     \u001b[0;32mdef\u001b[0m \u001b[0mget_dtypes\u001b[0m\u001b[0;34m(\u001b[0m\u001b[0mself\u001b[0m\u001b[0;34m)\u001b[0m\u001b[0;34m:\u001b[0m\u001b[0;34m\u001b[0m\u001b[0;34m\u001b[0m\u001b[0m\n\u001b[1;32m    258\u001b[0m         \u001b[0mdtypes\u001b[0m \u001b[0;34m=\u001b[0m \u001b[0mnp\u001b[0m\u001b[0;34m.\u001b[0m\u001b[0marray\u001b[0m\u001b[0;34m(\u001b[0m\u001b[0;34m[\u001b[0m\u001b[0mblk\u001b[0m\u001b[0;34m.\u001b[0m\u001b[0mdtype\u001b[0m \u001b[0;32mfor\u001b[0m \u001b[0mblk\u001b[0m \u001b[0;32min\u001b[0m \u001b[0mself\u001b[0m\u001b[0;34m.\u001b[0m\u001b[0mblocks\u001b[0m\u001b[0;34m]\u001b[0m\u001b[0;34m)\u001b[0m\u001b[0;34m\u001b[0m\u001b[0;34m\u001b[0m\u001b[0m\n\u001b[0;32m--> 259\u001b[0;31m         \u001b[0;32mreturn\u001b[0m \u001b[0malgos\u001b[0m\u001b[0;34m.\u001b[0m\u001b[0mtake_1d\u001b[0m\u001b[0;34m(\u001b[0m\u001b[0mdtypes\u001b[0m\u001b[0;34m,\u001b[0m \u001b[0mself\u001b[0m\u001b[0;34m.\u001b[0m\u001b[0mblknos\u001b[0m\u001b[0;34m,\u001b[0m \u001b[0mallow_fill\u001b[0m\u001b[0;34m=\u001b[0m\u001b[0;32mFalse\u001b[0m\u001b[0;34m)\u001b[0m\u001b[0;34m\u001b[0m\u001b[0;34m\u001b[0m\u001b[0m\n\u001b[0m\u001b[1;32m    260\u001b[0m \u001b[0;34m\u001b[0m\u001b[0m\n\u001b[1;32m    261\u001b[0m     \u001b[0;32mdef\u001b[0m \u001b[0m__getstate__\u001b[0m\u001b[0;34m(\u001b[0m\u001b[0mself\u001b[0m\u001b[0;34m)\u001b[0m\u001b[0;34m:\u001b[0m\u001b[0;34m\u001b[0m\u001b[0;34m\u001b[0m\u001b[0m\n",
      "\u001b[0;32m~/anaconda3/envs/py39/lib/python3.9/site-packages/pandas/core/algorithms.py\u001b[0m in \u001b[0;36mtake_nd\u001b[0;34m(arr, indexer, axis, out, fill_value, allow_fill)\u001b[0m\n\u001b[1;32m   1750\u001b[0m             \u001b[0;31m# (s.t. df.values is c-contiguous and df._mgr.blocks[0] is its\u001b[0m\u001b[0;34m\u001b[0m\u001b[0;34m\u001b[0m\u001b[0m\n\u001b[1;32m   1751\u001b[0m             \u001b[0;31m# f-contiguous transpose)\u001b[0m\u001b[0;34m\u001b[0m\u001b[0;34m\u001b[0m\u001b[0m\n\u001b[0;32m-> 1752\u001b[0;31m             \u001b[0mout\u001b[0m \u001b[0;34m=\u001b[0m \u001b[0mnp\u001b[0m\u001b[0;34m.\u001b[0m\u001b[0mempty\u001b[0m\u001b[0;34m(\u001b[0m\u001b[0mout_shape\u001b[0m\u001b[0;34m,\u001b[0m \u001b[0mdtype\u001b[0m\u001b[0;34m=\u001b[0m\u001b[0mdtype\u001b[0m\u001b[0;34m,\u001b[0m \u001b[0morder\u001b[0m\u001b[0;34m=\u001b[0m\u001b[0;34m\"F\"\u001b[0m\u001b[0;34m)\u001b[0m\u001b[0;34m\u001b[0m\u001b[0;34m\u001b[0m\u001b[0m\n\u001b[0m\u001b[1;32m   1753\u001b[0m         \u001b[0;32melse\u001b[0m\u001b[0;34m:\u001b[0m\u001b[0;34m\u001b[0m\u001b[0;34m\u001b[0m\u001b[0m\n\u001b[1;32m   1754\u001b[0m             \u001b[0mout\u001b[0m \u001b[0;34m=\u001b[0m \u001b[0mnp\u001b[0m\u001b[0;34m.\u001b[0m\u001b[0mempty\u001b[0m\u001b[0;34m(\u001b[0m\u001b[0mout_shape\u001b[0m\u001b[0;34m,\u001b[0m \u001b[0mdtype\u001b[0m\u001b[0;34m=\u001b[0m\u001b[0mdtype\u001b[0m\u001b[0;34m)\u001b[0m\u001b[0;34m\u001b[0m\u001b[0;34m\u001b[0m\u001b[0m\n",
      "\u001b[0;31mKeyboardInterrupt\u001b[0m: "
     ]
    }
   ],
   "source": [
    "sv, gs_sv = {}, {}\n",
    "for diz in Xtr:\n",
    "    sv[diz] = SVR()\n",
    "    gs_sv[diz] = GridSearchCV(sv[diz], {'C': [-100,-10,0,10,100], 'epsilon':[.05,.1,.15]})\n",
    "    gs_sv[diz].fit(Xtr[diz],ytr[diz])\n",
    "    print((diz, gs_sv[diz].score(Xte[diz],yte[diz]), gs_sv[diz].best_params_))"
   ]
  },
  {
   "cell_type": "markdown",
   "id": "3ef8634b-c0a1-4a17-913d-3e8fb83003d2",
   "metadata": {
    "tags": []
   },
   "source": [
    "### ARIMA"
   ]
  },
  {
   "cell_type": "code",
   "execution_count": null,
   "id": "3614b78d-ec11-4422-b45b-69883a92c170",
   "metadata": {},
   "outputs": [],
   "source": []
  },
  {
   "cell_type": "code",
   "execution_count": null,
   "id": "fa64a12c-0df3-4a45-9d8e-2a8256ad74fb",
   "metadata": {},
   "outputs": [],
   "source": [
    "pf_ma1 = pf.ARIMA(data=data.dropna().unemp_diff.values, ar=0, ma=1, family=pf.Normal())\n",
    "pf_ma1_results = pf_ma1.fit(\"MLE\")\n",
    "pf_ma1_results.summary()"
   ]
  },
  {
   "cell_type": "code",
   "execution_count": null,
   "id": "6a5c4328-9ded-4937-92a4-726e0897cfeb",
   "metadata": {},
   "outputs": [],
   "source": [
    "pf_ma1.plot_predict_is(h=50, figsize=(12,5))"
   ]
  },
  {
   "cell_type": "code",
   "execution_count": null,
   "id": "ea7af8ab-e67f-42df-9df2-0a1121484188",
   "metadata": {},
   "outputs": [],
   "source": [
    "pf_ma1.plot_predict(h=15,past_values=20,figsize=(12,5))"
   ]
  },
  {
   "cell_type": "code",
   "execution_count": null,
   "id": "e02c1618-0871-4402-8f38-185293bbae05",
   "metadata": {},
   "outputs": [],
   "source": []
  },
  {
   "cell_type": "code",
   "execution_count": null,
   "id": "d1da4634-3200-46da-85e1-78ff9a4c6946",
   "metadata": {},
   "outputs": [],
   "source": []
  },
  {
   "cell_type": "code",
   "execution_count": null,
   "id": "57afc296-4536-4884-9664-a61681904973",
   "metadata": {},
   "outputs": [],
   "source": []
  },
  {
   "cell_type": "code",
   "execution_count": null,
   "id": "df5be782-9925-4753-a34f-3c2fcfcc154c",
   "metadata": {},
   "outputs": [],
   "source": []
  },
  {
   "cell_type": "code",
   "execution_count": null,
   "id": "bf38938d-e46e-4424-9bb6-619c5252a8c3",
   "metadata": {},
   "outputs": [],
   "source": []
  }
 ],
 "metadata": {
  "kernelspec": {
   "display_name": "Python 3 (ipykernel)",
   "language": "python",
   "name": "python3"
  },
  "language_info": {
   "codemirror_mode": {
    "name": "ipython",
    "version": 3
   },
   "file_extension": ".py",
   "mimetype": "text/x-python",
   "name": "python",
   "nbconvert_exporter": "python",
   "pygments_lexer": "ipython3",
   "version": "3.9.7"
  }
 },
 "nbformat": 4,
 "nbformat_minor": 5
}
