{
 "cells": [
  {
   "cell_type": "markdown",
   "id": "56140668-fa5d-4af9-8a97-44102d65da9f",
   "metadata": {},
   "source": [
    "# Try MediaWiki's RecentChanges API"
   ]
  },
  {
   "cell_type": "markdown",
   "id": "3f3ba624-4764-47c7-9185-8b28992c0afc",
   "metadata": {
    "jp-MarkdownHeadingCollapsed": true,
    "tags": []
   },
   "source": [
    "## Setup"
   ]
  },
  {
   "cell_type": "markdown",
   "id": "df59a167-b33f-436f-91b5-d830c7d3d1ae",
   "metadata": {
    "jp-MarkdownHeadingCollapsed": true,
    "tags": []
   },
   "source": [
    "### imports"
   ]
  },
  {
   "cell_type": "code",
   "execution_count": 23,
   "id": "7e61f3c2-b089-49c1-a7b4-a75cf689a968",
   "metadata": {},
   "outputs": [],
   "source": [
    "import pandas as pd, dateutil.parser as dp\n",
    "import os, requests, datetime, time, json\n",
    "from sseclient import SSEClient as EventSource"
   ]
  },
  {
   "cell_type": "markdown",
   "id": "f4d5336b-7e19-41ec-b866-d77980e5c09f",
   "metadata": {
    "jp-MarkdownHeadingCollapsed": true,
    "tags": []
   },
   "source": [
    "### define function ```get_rc```"
   ]
  },
  {
   "cell_type": "code",
   "execution_count": 8,
   "id": "8fa49687-efc8-4815-ae2f-0514e1d3919f",
   "metadata": {},
   "outputs": [],
   "source": [
    "def get_rc(rc_list:list, params:dict, url: str, sesh) -> str:\n",
    "    '''\n",
    "    Inputs:  rc_list: list to be populated with recentchanges jsons\n",
    "             params: dictionary of parameters for the API request\n",
    "                 this fn expects at least these parameters:\n",
    "                    'rcprop' : 'timestamp|ids', (more is okay)\n",
    "                    'action' : 'query',\n",
    "                    'rcdir'  : 'newer',\n",
    "                    'format' : 'json',\n",
    "                    'list'   : 'recentchanges',\n",
    "             url: API url (designates which wiki)\n",
    "             sesh: requests session\n",
    "    Outputs: timestamp of latest  \n",
    "    '''\n",
    "    raw_output= sesh.get(url=url, params=params)\n",
    "    json_data = raw_output.json()\n",
    "    recent_changes = json_data['query']['recentchanges']\n",
    "    rc_list.append(recent_changes)\n",
    "    timestamps = [rc['timestamp'] for rc in recent_changes]\n",
    "    timestamps = sorted(map(dp.isoparse, timestamps))\n",
    "    ts = timestamps[-3]\n",
    "    return ts.strftime('%Y-%m-%dT%H:%M:%SZ')\n"
   ]
  },
  {
   "cell_type": "markdown",
   "id": "ba68cb17-7e5f-4c2f-b750-af2d21c37cd1",
   "metadata": {
    "jp-MarkdownHeadingCollapsed": true,
    "tags": []
   },
   "source": [
    "## Collect 500 recent changes"
   ]
  },
  {
   "cell_type": "markdown",
   "id": "9780c640-7d53-4b54-a5a4-85ba57689e64",
   "metadata": {
    "jp-MarkdownHeadingCollapsed": true,
    "tags": []
   },
   "source": [
    "### get ```rc_list```"
   ]
  },
  {
   "cell_type": "markdown",
   "id": "670ca806-e351-49c3-aeca-e1844f303a64",
   "metadata": {
    "jp-MarkdownHeadingCollapsed": true,
    "tags": []
   },
   "source": [
    "#### initialize requests session"
   ]
  },
  {
   "cell_type": "code",
   "execution_count": null,
   "id": "734c5b52-b0d0-459d-a2aa-453338ac4b0b",
   "metadata": {},
   "outputs": [],
   "source": [
    "sesh = requests.Session()"
   ]
  },
  {
   "cell_type": "markdown",
   "id": "16f25771-f2e7-44f3-b29b-6ddbe6ec2a0f",
   "metadata": {
    "jp-MarkdownHeadingCollapsed": true,
    "tags": []
   },
   "source": [
    "#### set parameters"
   ]
  },
  {
   "cell_type": "code",
   "execution_count": 9,
   "id": "fc252cf5-3855-432f-bebd-39ab9ff729d0",
   "metadata": {},
   "outputs": [],
   "source": [
    "rc_list=[]\n",
    "url = 'https://en.wikipedia.org/w/api.php'\n",
    "params = {\n",
    "    'rcstart'     : '2021-10-20T00:30:01Z',\n",
    "    'rcnamespace' : '0',\n",
    "    'rcshow'      : '!bot',\n",
    "    'rclimit'     : '50',\n",
    "    \n",
    "    'rcprop': 'user|userid|timestamp|title|ids|sizes',\n",
    "    \n",
    "    'action'      : 'query',\n",
    "    'rcdir'       : 'newer',\n",
    "    'format'      : 'json',\n",
    "    'list'        : 'recentchanges',\n",
    "}\n",
    "\n",
    "# Dictionary keys that output from these parameters:\n",
    "['timestamp', 'type', 'title', 'anon', 'rcid', 'ns', 'revid', 'pageid', 'user', 'userid', 'oldlen', 'old_revid', 'newlen'];"
   ]
  },
  {
   "cell_type": "markdown",
   "id": "ff40e6d4-6b64-4fde-8a1e-9c6b9d0cebb4",
   "metadata": {
    "jp-MarkdownHeadingCollapsed": true,
    "tags": []
   },
   "source": [
    "#### populate rc_list"
   ]
  },
  {
   "cell_type": "code",
   "execution_count": 14,
   "id": "e4ed4385-ce09-4116-9fa5-5630460ec72f",
   "metadata": {},
   "outputs": [
    {
     "name": "stdout",
     "output_type": "stream",
     "text": [
      "0 2022-01-29T11:08:54Z\n",
      "1 2022-01-29T11:09:35Z\n",
      "2 2022-01-29T11:10:19Z\n",
      "3 2022-01-29T11:10:59Z\n",
      "4 2022-01-29T11:11:42Z\n",
      "5 2022-01-29T11:12:29Z\n",
      "6 2022-01-29T11:13:16Z\n",
      "7 2022-01-29T11:13:58Z\n",
      "8 2022-01-29T11:14:22Z\n",
      "9 2022-01-29T11:14:36Z\n"
     ]
    }
   ],
   "source": [
    "for i in range(10):\n",
    "    latest_timestamp = get_rc(rc_list, params, url, sesh)\n",
    "    params['rcstart'] = latest_timestamp\n",
    "    print(f'{i} {latest_timestamp}')\n",
    "    time.sleep(.5)"
   ]
  },
  {
   "cell_type": "markdown",
   "id": "21ecabdc-6a34-4023-a40c-e4a551fb3332",
   "metadata": {
    "jp-MarkdownHeadingCollapsed": true,
    "tags": []
   },
   "source": [
    "### peek at ```rc_list```"
   ]
  },
  {
   "cell_type": "markdown",
   "id": "3fbf9aab-a8ef-4cc1-a5a6-dfd2a1af428e",
   "metadata": {
    "jp-MarkdownHeadingCollapsed": true,
    "tags": []
   },
   "source": [
    "#### check dimensions of nested list"
   ]
  },
  {
   "cell_type": "code",
   "execution_count": 29,
   "id": "3a30f699-2496-4e95-8d70-c32f4404dad0",
   "metadata": {},
   "outputs": [
    {
     "data": {
      "text/plain": [
       "(10, 50, 13)"
      ]
     },
     "execution_count": 29,
     "metadata": {},
     "output_type": "execute_result"
    }
   ],
   "source": [
    "len(rc_list), len(rc_list[0]), len(rc_list[0][0])"
   ]
  },
  {
   "cell_type": "markdown",
   "id": "b61ed21d-f90c-4c71-ae4e-06784c2f652a",
   "metadata": {
    "jp-MarkdownHeadingCollapsed": true,
    "tags": []
   },
   "source": [
    "#### look at one JSON element of nested list"
   ]
  },
  {
   "cell_type": "code",
   "execution_count": 30,
   "id": "ee9ba808-8340-4f93-ba59-81b8264fdffc",
   "metadata": {},
   "outputs": [
    {
     "data": {
      "text/plain": [
       "{'type': 'edit',\n",
       " 'ns': 0,\n",
       " 'title': 'Graham Smorgon',\n",
       " 'pageid': 4862734,\n",
       " 'revid': 1068608616,\n",
       " 'old_revid': 1068608597,\n",
       " 'rcid': 1468648083,\n",
       " 'user': '138.88.70.179',\n",
       " 'userid': 0,\n",
       " 'anon': '',\n",
       " 'oldlen': 3638,\n",
       " 'newlen': 3841,\n",
       " 'timestamp': '2022-01-29T11:08:15Z'}"
      ]
     },
     "execution_count": 30,
     "metadata": {},
     "output_type": "execute_result"
    }
   ],
   "source": [
    "rc_list[0][0]"
   ]
  },
  {
   "cell_type": "markdown",
   "id": "ed81e5e0-777e-4d28-8a7e-434f2d05e502",
   "metadata": {
    "jp-MarkdownHeadingCollapsed": true,
    "tags": []
   },
   "source": [
    "#### timestamp of latest recentchanges record"
   ]
  },
  {
   "cell_type": "code",
   "execution_count": 17,
   "id": "a18a65e9-2a20-4fab-baf1-698192da4eea",
   "metadata": {},
   "outputs": [
    {
     "data": {
      "text/plain": [
       "'2022-01-29T11:14:36Z'"
      ]
     },
     "execution_count": 17,
     "metadata": {},
     "output_type": "execute_result"
    }
   ],
   "source": [
    "latest_timestamp"
   ]
  },
  {
   "cell_type": "markdown",
   "id": "d87fa390-f3da-4572-b4c6-d3c9020364da",
   "metadata": {
    "jp-MarkdownHeadingCollapsed": true,
    "tags": []
   },
   "source": [
    "### flatten rc_list to get unique_jsons"
   ]
  },
  {
   "cell_type": "markdown",
   "id": "709649ec-6e4f-44ab-aede-438b87718e9f",
   "metadata": {
    "jp-MarkdownHeadingCollapsed": true,
    "tags": []
   },
   "source": [
    "#### flatten"
   ]
  },
  {
   "cell_type": "code",
   "execution_count": 31,
   "id": "b327adfa-76de-4f86-9115-2898e8facece",
   "metadata": {},
   "outputs": [],
   "source": [
    "# flatten the jsons\n",
    "all_jsons = [item for sublist in rc_list for item in sublist]\n",
    "# remove jsons with duplicate rcid's\n",
    "all_rcids = {j['rcid']:i for i,j in enumerate(all_jsons)}\n",
    "unique_jsons = [all_jsons[i] for i in all_rcids.values()]"
   ]
  },
  {
   "cell_type": "markdown",
   "id": "56e9c1f1-5ece-4ae4-915d-13eb00a3a7b3",
   "metadata": {
    "jp-MarkdownHeadingCollapsed": true,
    "tags": []
   },
   "source": [
    "#### make dataframe"
   ]
  },
  {
   "cell_type": "code",
   "execution_count": 37,
   "id": "cdcf017b-8454-447b-a72d-8d039ac93a31",
   "metadata": {},
   "outputs": [],
   "source": [
    "df = pd.DataFrame.from_records(unique_jsons)"
   ]
  },
  {
   "cell_type": "markdown",
   "id": "fe89578d-746a-4667-8ac4-f2b5e3fc0978",
   "metadata": {
    "jp-MarkdownHeadingCollapsed": true,
    "tags": []
   },
   "source": [
    "#### peek at jsons as dataframe"
   ]
  },
  {
   "cell_type": "code",
   "execution_count": 38,
   "id": "6275482b-7094-422c-b255-1a2650eeb33e",
   "metadata": {},
   "outputs": [
    {
     "data": {
      "text/html": [
       "<div>\n",
       "<style scoped>\n",
       "    .dataframe tbody tr th:only-of-type {\n",
       "        vertical-align: middle;\n",
       "    }\n",
       "\n",
       "    .dataframe tbody tr th {\n",
       "        vertical-align: top;\n",
       "    }\n",
       "\n",
       "    .dataframe thead th {\n",
       "        text-align: right;\n",
       "    }\n",
       "</style>\n",
       "<table border=\"1\" class=\"dataframe\">\n",
       "  <thead>\n",
       "    <tr style=\"text-align: right;\">\n",
       "      <th></th>\n",
       "      <th>type</th>\n",
       "      <th>ns</th>\n",
       "      <th>title</th>\n",
       "      <th>pageid</th>\n",
       "      <th>revid</th>\n",
       "      <th>old_revid</th>\n",
       "      <th>rcid</th>\n",
       "      <th>user</th>\n",
       "      <th>userid</th>\n",
       "      <th>anon</th>\n",
       "      <th>oldlen</th>\n",
       "      <th>newlen</th>\n",
       "      <th>timestamp</th>\n",
       "    </tr>\n",
       "  </thead>\n",
       "  <tbody>\n",
       "    <tr>\n",
       "      <th>0</th>\n",
       "      <td>edit</td>\n",
       "      <td>0</td>\n",
       "      <td>Graham Smorgon</td>\n",
       "      <td>4862734</td>\n",
       "      <td>1068608616</td>\n",
       "      <td>1068608597</td>\n",
       "      <td>1468648083</td>\n",
       "      <td>138.88.70.179</td>\n",
       "      <td>0</td>\n",
       "      <td></td>\n",
       "      <td>3638</td>\n",
       "      <td>3841</td>\n",
       "      <td>2022-01-29T11:08:15Z</td>\n",
       "    </tr>\n",
       "    <tr>\n",
       "      <th>1</th>\n",
       "      <td>edit</td>\n",
       "      <td>0</td>\n",
       "      <td>Ashleigh Barty</td>\n",
       "      <td>32296594</td>\n",
       "      <td>1068608622</td>\n",
       "      <td>1068606873</td>\n",
       "      <td>1468648089</td>\n",
       "      <td>Dddenilson</td>\n",
       "      <td>31482225</td>\n",
       "      <td>NaN</td>\n",
       "      <td>126917</td>\n",
       "      <td>127005</td>\n",
       "      <td>2022-01-29T11:08:15Z</td>\n",
       "    </tr>\n",
       "    <tr>\n",
       "      <th>2</th>\n",
       "      <td>edit</td>\n",
       "      <td>0</td>\n",
       "      <td>List of concept albums</td>\n",
       "      <td>20331466</td>\n",
       "      <td>1068608625</td>\n",
       "      <td>1068596286</td>\n",
       "      <td>1468648094</td>\n",
       "      <td>Swiftiekaghorl?13</td>\n",
       "      <td>40871152</td>\n",
       "      <td>NaN</td>\n",
       "      <td>186520</td>\n",
       "      <td>186456</td>\n",
       "      <td>2022-01-29T11:08:15Z</td>\n",
       "    </tr>\n",
       "    <tr>\n",
       "      <th>3</th>\n",
       "      <td>edit</td>\n",
       "      <td>0</td>\n",
       "      <td>2022 Formula 4 UAE Championship</td>\n",
       "      <td>68600642</td>\n",
       "      <td>1068608617</td>\n",
       "      <td>1068608567</td>\n",
       "      <td>1468648084</td>\n",
       "      <td>81.38.222.220</td>\n",
       "      <td>0</td>\n",
       "      <td></td>\n",
       "      <td>30039</td>\n",
       "      <td>30040</td>\n",
       "      <td>2022-01-29T11:08:16Z</td>\n",
       "    </tr>\n",
       "    <tr>\n",
       "      <th>4</th>\n",
       "      <td>edit</td>\n",
       "      <td>0</td>\n",
       "      <td>Domestic roof construction</td>\n",
       "      <td>4635477</td>\n",
       "      <td>1068608620</td>\n",
       "      <td>1060518900</td>\n",
       "      <td>1468648090</td>\n",
       "      <td>Prestigeroofingguttering</td>\n",
       "      <td>43279559</td>\n",
       "      <td>NaN</td>\n",
       "      <td>13720</td>\n",
       "      <td>23173</td>\n",
       "      <td>2022-01-29T11:08:17Z</td>\n",
       "    </tr>\n",
       "    <tr>\n",
       "      <th>...</th>\n",
       "      <td>...</td>\n",
       "      <td>...</td>\n",
       "      <td>...</td>\n",
       "      <td>...</td>\n",
       "      <td>...</td>\n",
       "      <td>...</td>\n",
       "      <td>...</td>\n",
       "      <td>...</td>\n",
       "      <td>...</td>\n",
       "      <td>...</td>\n",
       "      <td>...</td>\n",
       "      <td>...</td>\n",
       "      <td>...</td>\n",
       "    </tr>\n",
       "    <tr>\n",
       "      <th>464</th>\n",
       "      <td>log</td>\n",
       "      <td>0</td>\n",
       "      <td>Index of Sri Lanka-related articles (W-X)</td>\n",
       "      <td>56168730</td>\n",
       "      <td>0</td>\n",
       "      <td>0</td>\n",
       "      <td>1468649482</td>\n",
       "      <td>Premeditated Chaos</td>\n",
       "      <td>31530</td>\n",
       "      <td>NaN</td>\n",
       "      <td>0</td>\n",
       "      <td>0</td>\n",
       "      <td>2022-01-29T11:14:36Z</td>\n",
       "    </tr>\n",
       "    <tr>\n",
       "      <th>465</th>\n",
       "      <td>log</td>\n",
       "      <td>0</td>\n",
       "      <td>Index of Sri Lanka-related articles (Q-R)</td>\n",
       "      <td>56168715</td>\n",
       "      <td>0</td>\n",
       "      <td>0</td>\n",
       "      <td>1468649485</td>\n",
       "      <td>Premeditated Chaos</td>\n",
       "      <td>31530</td>\n",
       "      <td>NaN</td>\n",
       "      <td>0</td>\n",
       "      <td>0</td>\n",
       "      <td>2022-01-29T11:14:36Z</td>\n",
       "    </tr>\n",
       "    <tr>\n",
       "      <th>466</th>\n",
       "      <td>log</td>\n",
       "      <td>0</td>\n",
       "      <td>Index of Sri Lanka-related articles (U-V)</td>\n",
       "      <td>56168707</td>\n",
       "      <td>0</td>\n",
       "      <td>0</td>\n",
       "      <td>1468649486</td>\n",
       "      <td>Premeditated Chaos</td>\n",
       "      <td>31530</td>\n",
       "      <td>NaN</td>\n",
       "      <td>0</td>\n",
       "      <td>0</td>\n",
       "      <td>2022-01-29T11:14:36Z</td>\n",
       "    </tr>\n",
       "    <tr>\n",
       "      <th>467</th>\n",
       "      <td>edit</td>\n",
       "      <td>0</td>\n",
       "      <td>Japan eNational football team</td>\n",
       "      <td>69608853</td>\n",
       "      <td>1068609240</td>\n",
       "      <td>1068608739</td>\n",
       "      <td>1468649494</td>\n",
       "      <td>BRICK93</td>\n",
       "      <td>29032402</td>\n",
       "      <td>NaN</td>\n",
       "      <td>10328</td>\n",
       "      <td>10318</td>\n",
       "      <td>2022-01-29T11:14:36Z</td>\n",
       "    </tr>\n",
       "    <tr>\n",
       "      <th>468</th>\n",
       "      <td>edit</td>\n",
       "      <td>0</td>\n",
       "      <td>Teal (disambiguation)</td>\n",
       "      <td>28602939</td>\n",
       "      <td>1068609239</td>\n",
       "      <td>1068590978</td>\n",
       "      <td>1468649493</td>\n",
       "      <td>Shhhnotsoloud</td>\n",
       "      <td>11521989</td>\n",
       "      <td>NaN</td>\n",
       "      <td>4252</td>\n",
       "      <td>4217</td>\n",
       "      <td>2022-01-29T11:14:37Z</td>\n",
       "    </tr>\n",
       "  </tbody>\n",
       "</table>\n",
       "<p>469 rows × 13 columns</p>\n",
       "</div>"
      ],
      "text/plain": [
       "     type  ns                                      title    pageid  \\\n",
       "0    edit   0                             Graham Smorgon   4862734   \n",
       "1    edit   0                             Ashleigh Barty  32296594   \n",
       "2    edit   0                     List of concept albums  20331466   \n",
       "3    edit   0            2022 Formula 4 UAE Championship  68600642   \n",
       "4    edit   0                 Domestic roof construction   4635477   \n",
       "..    ...  ..                                        ...       ...   \n",
       "464   log   0  Index of Sri Lanka-related articles (W-X)  56168730   \n",
       "465   log   0  Index of Sri Lanka-related articles (Q-R)  56168715   \n",
       "466   log   0  Index of Sri Lanka-related articles (U-V)  56168707   \n",
       "467  edit   0              Japan eNational football team  69608853   \n",
       "468  edit   0                      Teal (disambiguation)  28602939   \n",
       "\n",
       "          revid   old_revid        rcid                      user    userid  \\\n",
       "0    1068608616  1068608597  1468648083             138.88.70.179         0   \n",
       "1    1068608622  1068606873  1468648089                Dddenilson  31482225   \n",
       "2    1068608625  1068596286  1468648094         Swiftiekaghorl?13  40871152   \n",
       "3    1068608617  1068608567  1468648084             81.38.222.220         0   \n",
       "4    1068608620  1060518900  1468648090  Prestigeroofingguttering  43279559   \n",
       "..          ...         ...         ...                       ...       ...   \n",
       "464           0           0  1468649482        Premeditated Chaos     31530   \n",
       "465           0           0  1468649485        Premeditated Chaos     31530   \n",
       "466           0           0  1468649486        Premeditated Chaos     31530   \n",
       "467  1068609240  1068608739  1468649494                   BRICK93  29032402   \n",
       "468  1068609239  1068590978  1468649493             Shhhnotsoloud  11521989   \n",
       "\n",
       "    anon  oldlen  newlen             timestamp  \n",
       "0           3638    3841  2022-01-29T11:08:15Z  \n",
       "1    NaN  126917  127005  2022-01-29T11:08:15Z  \n",
       "2    NaN  186520  186456  2022-01-29T11:08:15Z  \n",
       "3          30039   30040  2022-01-29T11:08:16Z  \n",
       "4    NaN   13720   23173  2022-01-29T11:08:17Z  \n",
       "..   ...     ...     ...                   ...  \n",
       "464  NaN       0       0  2022-01-29T11:14:36Z  \n",
       "465  NaN       0       0  2022-01-29T11:14:36Z  \n",
       "466  NaN       0       0  2022-01-29T11:14:36Z  \n",
       "467  NaN   10328   10318  2022-01-29T11:14:36Z  \n",
       "468  NaN    4252    4217  2022-01-29T11:14:37Z  \n",
       "\n",
       "[469 rows x 13 columns]"
      ]
     },
     "execution_count": 38,
     "metadata": {},
     "output_type": "execute_result"
    }
   ],
   "source": [
    "df"
   ]
  },
  {
   "cell_type": "code",
   "execution_count": 14,
   "id": "9aa95c86-e879-45a6-bc13-073d83a52ba7",
   "metadata": {},
   "outputs": [],
   "source": [
    "# df.to_csv('../data/interim/2021-10-20T00:30:01Z_2021-10-20T01:39:40Z.csv')"
   ]
  },
  {
   "cell_type": "markdown",
   "id": "a8622bf7-74fb-425f-a10c-09b2d78db3cf",
   "metadata": {
    "jp-MarkdownHeadingCollapsed": true,
    "tags": []
   },
   "source": [
    "## Build SQL schema for import into database"
   ]
  },
  {
   "cell_type": "markdown",
   "id": "a88c45e1-44b3-48f8-9d27-8e9b7b1eb929",
   "metadata": {
    "jp-MarkdownHeadingCollapsed": true,
    "tags": []
   },
   "source": [
    "### This is for postgreSQL; <mark>(Update for MySQL)</mark>"
   ]
  },
  {
   "cell_type": "markdown",
   "id": "b02edeb5-e70d-4e4e-8984-14800a32b4a5",
   "metadata": {
    "tags": []
   },
   "source": [
    "#### make \"create table\" query"
   ]
  },
  {
   "cell_type": "raw",
   "id": "3857b6e0-4fc5-4a59-b232-e6c02e45fe03",
   "metadata": {},
   "source": [
    "sql_create_table = \"\"\"\n",
    "DROP TABLE IF EXISTS data_raw;\n",
    "\n",
    "CREATE TABLE data_raw(\n",
    "    row_index SERIAL,\n",
    "    time_string char varying(25),\n",
    "    unix_time bigint,\n",
    "    instance char varying(35),\n",
    "    product char varying(5),\n",
    "    username char varying(35),\n",
    "    event char varying(100),\n",
    "    attributes text\n",
    ");\n",
    "\"\"\""
   ]
  },
  {
   "cell_type": "markdown",
   "id": "2ba5ce40-3504-4314-a602-6fc7c88e1122",
   "metadata": {},
   "source": [
    "#### connect to database"
   ]
  },
  {
   "cell_type": "raw",
   "id": "e9b19c2c-7371-4af8-ae7d-1cd9e4c05b70",
   "metadata": {},
   "source": [
    "try:\n",
    "    conn = psycopg2.connect(\"host=\"+dbhost+\" dbname=\"+dbname+\" user=\"+dbuname+\" password=\"+dbpassword)\n",
    "    cur = conn.cursor()\n",
    "except:\n",
    "    print('Database connection error - check creds')"
   ]
  },
  {
   "cell_type": "markdown",
   "id": "dfdc6816-1abf-477e-a66e-188c096a3cf3",
   "metadata": {},
   "source": [
    "#### create table and import data"
   ]
  },
  {
   "cell_type": "raw",
   "id": "c84ff7ca-85a0-46d8-bffe-c5749540cc10",
   "metadata": {},
   "source": [
    "cur.execute(sql_create_table)\n",
    "sql_import = \"COPY data_raw(time_string,unix_time,instance,product,username,event,attributes) FROM STDIN DELIMITER E'\\t';\"\n",
    "cur.copy_expert(sql_import, open('jira_clean.tsv', \"r\",encoding=\"utf8\"))\n",
    "conn.commit()"
   ]
  },
  {
   "cell_type": "markdown",
   "id": "a7914c01-af0e-4c52-9551-cd4f6d08af38",
   "metadata": {
    "jp-MarkdownHeadingCollapsed": true,
    "tags": []
   },
   "source": [
    "#### update table to have date "
   ]
  },
  {
   "cell_type": "raw",
   "id": "6eac074f-30ef-4248-b382-1f2a0f6703f1",
   "metadata": {},
   "source": [
    "sql_calc_table = \"\"\"\n",
    "DROP TABLE IF EXISTS data_prep;\n",
    "\n",
    "CREATE TABLE data_prep as (\n",
    "    select \n",
    "        row_index\n",
    "        , to_timestamp(time_string,'YYYY-MM-DD HH24:MI,MS')::timestamp without time zone as time_parsed\n",
    "        , unix_time\n",
    "        , instance\n",
    "        , username\n",
    "        , event\n",
    "        , attributes\n",
    "    from\n",
    "        data_raw\n",
    ");\n",
    "\"\"\"\n",
    "cur.execute(sql_calc_table)\n",
    "conn.commit()"
   ]
  },
  {
   "cell_type": "markdown",
   "id": "1e800589-2d97-4037-b209-cba0a8cb7d6d",
   "metadata": {
    "jp-MarkdownHeadingCollapsed": true,
    "tags": []
   },
   "source": [
    "#### SQLAlchemy"
   ]
  },
  {
   "cell_type": "raw",
   "id": "94aff9f8-64c1-49c7-aff5-37b4450601ee",
   "metadata": {},
   "source": [
    "# Finally, let's instantiate a SQL alchemy engine, so we can pass results sets into pandas and evaluate them here \n",
    "connection_str = 'postgresql+psycopg2://'+dbuname+':'+dbpassword+'@'+dbhost+':'+dbport+'/'+dbname\n",
    "try:\n",
    "    engine1 = sqlalchemy.create_engine(connection_str)\n",
    "    conn1 = engine1.connect()\n",
    "except:\n",
    "    print('Database connection error - check creds')\n",
    "engine1.table_names() # Confirm connection and tables are present as expect"
   ]
  },
  {
   "cell_type": "markdown",
   "id": "5445694f-e8a2-4bc0-83e6-612f10f12207",
   "metadata": {
    "jp-MarkdownHeadingCollapsed": true,
    "tags": []
   },
   "source": [
    "#### More detailed requests from wikipedia"
   ]
  },
  {
   "cell_type": "raw",
   "id": "dcdaa866-127d-432e-b5a5-c68433952bd9",
   "metadata": {},
   "source": [
    "import requests\n",
    "requests_session = requests.Session()\n",
    "url = 'https://en.wikipedia.org/w/api.php'\n",
    "params = {\n",
    "    'rcstart'     : '2021-10-20T00:30:01Z',\n",
    "    'rcdir'       : 'newer',\n",
    "    'rcnamespace' : '0',\n",
    "    'format'      : 'json',\n",
    "    'rcprop': 'user|userid|comment|flags|timestamp|title|ids|sizes|redirect|tags|loginfo',\n",
    "    'list'        : 'recentchanges',\n",
    "    'action'      : 'query',\n",
    "    'rclimit'     : '50',\n",
    "    'rcshow'      : '!bot'\n",
    "}"
   ]
  },
  {
   "cell_type": "raw",
   "id": "41b6302f-ea15-4bcb-bbec-89a947598b56",
   "metadata": {},
   "source": [
    "fields = ['anon', 'comment', 'logaction', 'logid', 'logparams', \n",
    "          'logtype', 'minor', 'new', 'newlen', 'ns', \n",
    "          'old_revid', 'oldlen', 'pageid', 'rcid', 'redirect', \n",
    "          'revid', 'tags', 'tagstags', 'timestamp', 'title', \n",
    "          'type', 'user', 'userid']\n",
    "len(fields);"
   ]
  },
  {
   "cell_type": "raw",
   "id": "edafe1e7-5d9d-4451-bebc-6918d7f08f88",
   "metadata": {},
   "source": [
    "# List of wikipedias is used to filter wikipedia edits out from other wiki projects\n",
    "wkps = pd.read_csv('../data/external/wikipedias.csv').assign(code=lambda x: x.abbrev + 'wiki')\n",
    "wkps.columns"
   ]
  }
 ],
 "metadata": {
  "kernelspec": {
   "display_name": "Python 3 (ipykernel)",
   "language": "python",
   "name": "python3"
  },
  "language_info": {
   "codemirror_mode": {
    "name": "ipython",
    "version": 3
   },
   "file_extension": ".py",
   "mimetype": "text/x-python",
   "name": "python",
   "nbconvert_exporter": "python",
   "pygments_lexer": "ipython3",
   "version": "3.9.7"
  }
 },
 "nbformat": 4,
 "nbformat_minor": 5
}
