{
 "cells": [
  {
   "cell_type": "markdown",
   "id": "2e99ade3-22e9-4aec-b23e-8bd5716ef3da",
   "metadata": {},
   "source": [
    "# predict hoax (pairs kept in same groups)"
   ]
  },
  {
   "cell_type": "markdown",
   "id": "5eaf489a-93a2-4808-ba88-48268e5d9252",
   "metadata": {},
   "source": [
    "## exploration controls"
   ]
  },
  {
   "cell_type": "code",
   "execution_count": 26,
   "id": "969e891f-4e7a-44a4-b46b-70f897e646ff",
   "metadata": {},
   "outputs": [],
   "source": [
    "random_seed = 0"
   ]
  },
  {
   "cell_type": "markdown",
   "id": "8ab5a693-1c3e-4bc6-bfed-39e393685db5",
   "metadata": {},
   "source": [
    "## get data"
   ]
  },
  {
   "cell_type": "markdown",
   "id": "29340b0f-2514-4b24-ac8e-71bfa0afca07",
   "metadata": {
    "tags": []
   },
   "source": [
    "### imports"
   ]
  },
  {
   "cell_type": "code",
   "execution_count": 28,
   "id": "01308bb7-61d5-4c6d-b1f4-39a462b0719a",
   "metadata": {},
   "outputs": [],
   "source": [
    "import os, re, patsy\n",
    "import pandas as pd, numpy as np\n",
    "from sklearn.linear_model import LogisticRegression, LogisticRegressionCV\n",
    "from sklearn.model_selection import train_test_split\n",
    "from sklearn.feature_selection import SelectKBest\n",
    "from sklearn.preprocessing import StandardScaler\n",
    "path = '/home/bhrdwj/git/predwikt/data/raw/wiki_reliability/unzipped/'"
   ]
  },
  {
   "cell_type": "code",
   "execution_count": 2,
   "id": "571bc49c-3cad-49ef-9f60-2e0391216b33",
   "metadata": {},
   "outputs": [],
   "source": [
    "fea = (pd.read_csv(path+'hoax_features.csv', usecols=lambda x: x not in ['Unnamed: 0'])\n",
    "       .rename(columns={'headings_by_level(2)':'headings_by_level_2', 'revision_id.key':'revision_id_key'}))"
   ]
  },
  {
   "cell_type": "markdown",
   "id": "5f4cc891-f2ed-4010-bffc-b68f8c74db38",
   "metadata": {
    "tags": []
   },
   "source": [
    "### train test split"
   ]
  },
  {
   "cell_type": "markdown",
   "id": "d13b6a58-17b1-45ae-87d1-7ecf6df66ce7",
   "metadata": {},
   "source": [
    "#### Make series of negative revisions and their revision keys, and vice versa"
   ]
  },
  {
   "cell_type": "code",
   "execution_count": 3,
   "id": "273aefc0-b38d-4261-afc4-8b942562b900",
   "metadata": {},
   "outputs": [
    {
     "data": {
      "text/plain": [
       "(1390,)"
      ]
     },
     "execution_count": 3,
     "metadata": {},
     "output_type": "execute_result"
    }
   ],
   "source": [
    "neg_revs = fea[['revision_id', 'revision_id_key', 'has_template']]\n",
    "neg_revs = neg_revs.loc[neg_revs.has_template==0].set_index('revision_id')['revision_id_key']\n",
    "pos_revs = fea[['revision_id', 'revision_id_key', 'has_template']]\n",
    "pos_revs = pos_revs.loc[pos_revs.has_template==1].set_index('revision_id')['revision_id_key']\n",
    "\n",
    "neg_revs.shape #, pos_revs.shape"
   ]
  },
  {
   "cell_type": "markdown",
   "id": "6a270277-1fc3-4dfe-b818-fe638ff373e2",
   "metadata": {},
   "source": [
    "#### Test-train split the neg_revs, and form dfte and dftr"
   ]
  },
  {
   "cell_type": "code",
   "execution_count": 4,
   "id": "d74c26c4-8cb7-475d-979c-b588830b3934",
   "metadata": {},
   "outputs": [],
   "source": [
    "neg_revs_tr, neg_revs_te = train_test_split(neg_revs, test_size=.2, random_state=0)\n",
    "pos_revs_tr = pos_revs[neg_revs_tr.values]\n",
    "pos_revs_te = pos_revs[neg_revs_te.values]"
   ]
  },
  {
   "cell_type": "code",
   "execution_count": 5,
   "id": "e8f7d5fc-0ae4-463f-aafe-154e4705069c",
   "metadata": {},
   "outputs": [],
   "source": [
    "revs_tr = pd.concat((neg_revs_tr, pos_revs_tr))\n",
    "revs_te = pd.concat((neg_revs_te, pos_revs_te))"
   ]
  },
  {
   "cell_type": "code",
   "execution_count": 6,
   "id": "62d9aea1-95f9-4184-9f0f-e02f504195cb",
   "metadata": {},
   "outputs": [],
   "source": [
    "fea_rev = fea.set_index('revision_id')\n",
    "dftr = fea_rev.loc[revs_tr.index].dropna()\n",
    "dfte = fea_rev.loc[revs_te.index].dropna()"
   ]
  },
  {
   "cell_type": "code",
   "execution_count": 7,
   "id": "40adeaf3-46bd-4f5f-a61d-af1078552209",
   "metadata": {},
   "outputs": [],
   "source": [
    "del neg_revs, pos_revs, neg_revs_tr, pos_revs_tr, neg_revs_te, pos_revs_te, revs_tr, revs_te, fea_rev"
   ]
  },
  {
   "cell_type": "code",
   "execution_count": 8,
   "id": "fed0a514-873e-4e1e-8bc2-ba2153f3b67f",
   "metadata": {},
   "outputs": [],
   "source": [
    "dftr[dftr.columns.difference(['page_id','revision_id_key','has_template'])].describe().T.sort_values(by='mean');"
   ]
  },
  {
   "cell_type": "markdown",
   "id": "694fe3ff-e76e-4b9a-9d4c-227b7330c6ae",
   "metadata": {},
   "source": [
    "### prep"
   ]
  },
  {
   "cell_type": "code",
   "execution_count": 27,
   "id": "b9c15701-0051-4569-a946-e551bd6a9f0b",
   "metadata": {},
   "outputs": [],
   "source": [
    "# remove non-features; dummify categoricals\n",
    "ytr = dftr.has_template\n",
    "Xtr = dftr[dftr.columns.difference(['page_id','revision_id_key','has_template'])]\n",
    "Xtr = patsy.dmatrix('~ '+' + '.join(Xtr.columns), data=Xtr, NA_action='drop', return_type='dataframe')\n",
    "\n",
    "yte = dfte.has_template\n",
    "Xte = dfte[dfte.columns.difference(['page_id','revision_id_key','has_template'])]\n",
    "Xte = patsy.dmatrix('~ '+' + '.join(Xte.columns), data=Xte, NA_action='drop', return_type='dataframe')\n",
    "\n",
    "# make complete list of columns in case the test set doesn't include any of a rare class\n",
    "Xcols = list(\n",
    "    set(Xtr.columns.tolist())\n",
    "    .union(set(Xte.columns.tolist()))\n",
    ")\n",
    "\n",
    "for col in Xcols:\n",
    "    if col not in Xte:\n",
    "        Xte[col] = 0\n",
    "    if col not in Xtr:\n",
    "        Xtr[col] = 0"
   ]
  },
  {
   "cell_type": "markdown",
   "id": "4e72ffdf-bde6-4eaa-9840-f551bb5d5ff4",
   "metadata": {},
   "source": [
    "### to scale or not to scale"
   ]
  },
  {
   "cell_type": "code",
   "execution_count": 13,
   "id": "a27915a6-d674-429b-a528-319634d7950d",
   "metadata": {},
   "outputs": [],
   "source": [
    "# scaler = StandardScaler()\n",
    "# def scale_reindex(df):\n",
    "#     matrix = scaler.fit_transform(df)\n",
    "#     return pd.DataFrame(data=matrix, index=df.index, columns=df.columns)\n",
    "\n",
    "# [Xtr,Xte] = map(scale_reindex, [Xtr,Xte])"
   ]
  },
  {
   "cell_type": "markdown",
   "id": "912474cf-4ecc-42a0-be84-8b6a98ff4513",
   "metadata": {},
   "source": [
    "## run model"
   ]
  },
  {
   "cell_type": "markdown",
   "id": "4e2d30d2-7b68-4ce4-a239-c8e2482852fb",
   "metadata": {},
   "source": [
    "### feature selection (keep all features)"
   ]
  },
  {
   "cell_type": "code",
   "execution_count": 25,
   "id": "c1e3da94-15df-4431-8fb1-5a851dec96e8",
   "metadata": {},
   "outputs": [],
   "source": [
    "feats1 = Xtr.columns\n",
    "feats1 = [i for i in feats1.tolist() if not i.find('page_id') > -1]"
   ]
  },
  {
   "cell_type": "markdown",
   "id": "e559acc6-c9ed-4aa6-9248-eef54b4c530e",
   "metadata": {
    "tags": []
   },
   "source": [
    "### initialize and fit"
   ]
  },
  {
   "cell_type": "code",
   "execution_count": 16,
   "id": "46b997f1-7116-43e6-8bda-545908f1ed9f",
   "metadata": {},
   "outputs": [],
   "source": [
    "# Cs = sorted(list(np.logspace(-7,7,num=10)) + [2,4,6,8,10,12,14,16])"
   ]
  },
  {
   "cell_type": "code",
   "execution_count": 69,
   "id": "13971096-7889-4570-a2bf-0cf2a121739d",
   "metadata": {},
   "outputs": [
    {
     "data": {
      "text/plain": [
       "LogisticRegression(C=0.1, fit_intercept=False, max_iter=10000)"
      ]
     },
     "execution_count": 69,
     "metadata": {},
     "output_type": "execute_result"
    }
   ],
   "source": [
    "lr = LogisticRegression(penalty='l2', C=.1, max_iter=10000, fit_intercept=False)\n",
    "lr.fit(Xtr[feats1], ytr)  # "
   ]
  },
  {
   "cell_type": "markdown",
   "id": "8754a5a3-cb40-4e29-911c-a1074bfc3e9e",
   "metadata": {
    "tags": []
   },
   "source": [
    "#### check results"
   ]
  },
  {
   "cell_type": "code",
   "execution_count": 70,
   "id": "8c2d9e2e-1e47-41f9-b9c1-42a787f7a089",
   "metadata": {},
   "outputs": [
    {
     "name": "stdout",
     "output_type": "stream",
     "text": [
      "Training accuracy 0.6226924808644755\n",
      "Testing accuracy 0.6241007194244604\n",
      "Baseline accuracy 0.5\n"
     ]
    }
   ],
   "source": [
    "print(f'Training accuracy {lr.score(Xtr, ytr)}')\n",
    "print(f'Testing accuracy {lr.score(Xte[feats1], yte)}')\n",
    "print(f'Baseline accuracy {yte.mean()}')"
   ]
  },
  {
   "cell_type": "markdown",
   "id": "6e84bcfe-0b01-42dd-83b8-31e5ad092a1b",
   "metadata": {
    "tags": []
   },
   "source": [
    "#### review fitted coefficients"
   ]
  },
  {
   "cell_type": "code",
   "execution_count": 66,
   "id": "f57b01b9-3840-41c6-9a2c-9f1038fee1cc",
   "metadata": {},
   "outputs": [
    {
     "data": {
      "text/plain": [
       "stems_length                     -8.507907e-01\n",
       "revision_content_chars            6.645483e-01\n",
       "revision_words                   -3.587407e-01\n",
       "revision_templates                2.976267e-01\n",
       "words_to_watch_matches            2.669328e-01\n",
       "external_links                   -2.473405e-01\n",
       "revision_chars                    1.695734e-01\n",
       "revision_text_bytes               1.651557e-01\n",
       "paragraphs_without_refs           1.188092e-01\n",
       "cite_templates                    8.367468e-02\n",
       "revision_wikilinks               -3.812286e-02\n",
       "headings_by_level_2              -3.580977e-02\n",
       "ref_tags                          3.250125e-02\n",
       "cn_templates                      1.288976e-02\n",
       "images_in_tags                    2.677053e-03\n",
       "category_links                    1.898543e-03\n",
       "article_quality_score[T.Start]   -1.261452e-03\n",
       "article_quality_score[T.Stub]    -1.046499e-03\n",
       "infobox_templates                 6.902527e-04\n",
       "shortened_footnote_templates     -3.972120e-04\n",
       "article_quality_score[T.C]        3.911911e-04\n",
       "who_templates                     1.341718e-04\n",
       "article_quality_score[T.FA]      -2.452647e-06\n",
       "article_quality_score[T.GA]      -3.282052e-07\n",
       "Intercept                        -0.000000e+00\n",
       "dtype: float64"
      ]
     },
     "execution_count": 66,
     "metadata": {},
     "output_type": "execute_result"
    }
   ],
   "source": [
    "# feats_from_unscaled\n",
    "(coeffs * Xtr[feats1].std()).sort_values(ascending=False, key=abs)"
   ]
  }
 ],
 "metadata": {
  "kernelspec": {
   "display_name": "Python 3 (ipykernel)",
   "language": "python",
   "name": "python3"
  },
  "language_info": {
   "codemirror_mode": {
    "name": "ipython",
    "version": 3
   },
   "file_extension": ".py",
   "mimetype": "text/x-python",
   "name": "python",
   "nbconvert_exporter": "python",
   "pygments_lexer": "ipython3",
   "version": "3.9.7"
  }
 },
 "nbformat": 4,
 "nbformat_minor": 5
}
