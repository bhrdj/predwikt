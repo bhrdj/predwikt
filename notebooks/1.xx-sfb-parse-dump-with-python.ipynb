{
 "cells": [
  {
   "cell_type": "markdown",
   "id": "4eff8e63-2d78-4f5e-9091-bc1bc255b173",
   "metadata": {},
   "source": [
    "Parse sql dump with Python"
   ]
  },
  {
   "cell_type": "markdown",
   "id": "4e6a20dd-73ac-4027-8b71-00c20dc3357d",
   "metadata": {},
   "source": [
    "# Get some sql lines"
   ]
  },
  {
   "cell_type": "markdown",
   "id": "feb4f8be-a7a4-4dcc-8ad5-f38662be13fe",
   "metadata": {
    "jp-MarkdownHeadingCollapsed": true,
    "tags": []
   },
   "source": [
    "### Imports and Paths"
   ]
  },
  {
   "cell_type": "code",
   "execution_count": 4,
   "id": "fd61721f-e40c-4540-8947-af9fe76c131d",
   "metadata": {},
   "outputs": [],
   "source": [
    "import os, re\n",
    "from pathlib import Path\n",
    "import pandas as pd\n",
    "import matplotlib.pyplot as plt"
   ]
  },
  {
   "cell_type": "code",
   "execution_count": 12,
   "id": "ea30cf2f-8cc2-402d-a1ae-8bd5877e321a",
   "metadata": {},
   "outputs": [],
   "source": [
    "home_path = str(Path.home())\n",
    "os.chdir(home_path + '/git/predwikt/notebooks')\n",
    "dump_url = '../data/raw/2021-10.jawiki.2020.tsv'"
   ]
  },
  {
   "cell_type": "markdown",
   "id": "91b4db26-9379-4cdb-aafd-2f2d821b63b8",
   "metadata": {
    "tags": []
   },
   "source": [
    "### Functions"
   ]
  },
  {
   "cell_type": "markdown",
   "id": "f80bdfae-512a-419a-b190-96cf38f6aa26",
   "metadata": {
    "jp-MarkdownHeadingCollapsed": true,
    "tags": []
   },
   "source": [
    "#### Function to open a dump"
   ]
  },
  {
   "cell_type": "code",
   "execution_count": null,
   "id": "4d77e34d-1f72-4d91-bc92-3dea03d46e0e",
   "metadata": {},
   "outputs": [],
   "source": [
    "def open_dump(url):\n",
    "    return open(url, mode='r', encoding='UTF_8', errors='backslashreplace')"
   ]
  },
  {
   "cell_type": "markdown",
   "id": "ea4892c1-9a98-4bad-a864-0b940aa1c79e",
   "metadata": {},
   "source": [
    "#### Define a function to get line lengths"
   ]
  },
  {
   "cell_type": "code",
   "execution_count": null,
   "id": "c0bc5602-4e30-41cd-a6de-f27370b75abf",
   "metadata": {},
   "outputs": [],
   "source": [
    "def get_line_lengths(dump_url):\n",
    "    line_lengths = []\n",
    "    with open_dump(dump_url) as f:\n",
    "        for line in f:\n",
    "            line_lengths.append(len(line))\n",
    "    return line_lengths"
   ]
  },
  {
   "cell_type": "markdown",
   "id": "945463ea-3f8a-4301-bd08-6bfea04bac9a",
   "metadata": {},
   "source": [
    "#### Define a function to plot line lengths"
   ]
  },
  {
   "cell_type": "code",
   "execution_count": null,
   "id": "8f8f5bd4-61ab-4a7c-b7e1-1092daf3903d",
   "metadata": {},
   "outputs": [],
   "source": [
    "def plot_line_lengths(ll):\n",
    "    s = pd.Series(ll, name='line_lengths')\n",
    "    fig = plt.figure(figsize=(6,3))\n",
    "    ax = plt.gca()\n",
    "    s.plot(ax=ax)\n",
    "    ax.set_xticks([0, len(line_lengths)])\n",
    "    ax.set_xlabel('rows of file')\n",
    "    ax.set_ylabel('line length')\n",
    "    plt.show()"
   ]
  },
  {
   "cell_type": "markdown",
   "id": "da07f24c-3817-42c4-94e9-bab9ef61f6e2",
   "metadata": {},
   "source": [
    "#### Define a function to get a contiguous slice of rows of dump file"
   ]
  },
  {
   "cell_type": "code",
   "execution_count": null,
   "id": "3972ec5f-81e9-4d42-a925-87858a4ab820",
   "metadata": {},
   "outputs": [],
   "source": [
    "def get_those_rows(start, end, dump_url):\n",
    "    those_rows = []\n",
    "    with open_dump(dump_url) as f:\n",
    "        for i in range(end):\n",
    "            if i < start:\n",
    "                f.readline()\n",
    "            elif i >= start:\n",
    "                those_rows.append(f.readline())\n",
    "            else:\n",
    "                break\n",
    "    return those_rows"
   ]
  },
  {
   "cell_type": "markdown",
   "id": "b6908b83-860a-4376-8ba7-5755a7a8ed7a",
   "metadata": {},
   "source": [
    "### Get a line"
   ]
  },
  {
   "cell_type": "code",
   "execution_count": null,
   "id": "4d984a11-144e-43d7-9877-11ef3c9e5c66",
   "metadata": {},
   "outputs": [
    {
     "data": {
      "text/plain": [
       "['jawiki\\trevision\\tcreate\\t2020-01-01 00:00:02.0\\t[[WP:AES|←]]新しいページ: 「{{神社 |名称   = 夜明稲荷神社 |画像   = [[画像:Torii at Yoake Inari Shrine, Tatebayashi.jpg|270px]]<br/>宵稲荷神社 参道 |所在地 = […」\\t854231\\tKochizufan\\tKochizufan\\t\\t\\t\\textendedconfirmed\\t\\t\\ttrue\\tfalse\\tfalse\\tfalse\\t2014-07-13 09:46:27.0\\t2014-07-13 09:46:29.0\\t2014-07-13 11:10:24.0\\t2662\\t97\\t4057210\\t夜明稲荷神社\\t夜明稲荷神社\\t0\\ttrue\\t0\\ttrue\\tfalse\\tfalse\\t2020-01-01 00:00:02.0\\t2020-01-01 00:00:02.0\\t1\\t\\t\\t\\t\\t\\t\\t\\t\\t\\t\\t\\t\\t\\t\\t\\t\\t\\t75578158\\t0\\tfalse\\t\\tfalse\\t2668\\t2668\\td9jf7vsvwds85x2gr3xkye36jugipmw\\t\\t\\tfalse\\t\\tfalse\\t\\t\\tfalse\\tfalse\\tvisualeditor-wikitext\\n']"
      ]
     },
     "execution_count": 13,
     "metadata": {},
     "output_type": "execute_result"
    }
   ],
   "source": [
    "get_those_rows("
   ]
  }
 ],
 "metadata": {
  "kernelspec": {
   "display_name": "Python 3 (ipykernel)",
   "language": "python",
   "name": "python3"
  },
  "language_info": {
   "codemirror_mode": {
    "name": "ipython",
    "version": 3
   },
   "file_extension": ".py",
   "mimetype": "text/x-python",
   "name": "python",
   "nbconvert_exporter": "python",
   "pygments_lexer": "ipython3",
   "version": "3.9.6"
  }
 },
 "nbformat": 4,
 "nbformat_minor": 5
}
