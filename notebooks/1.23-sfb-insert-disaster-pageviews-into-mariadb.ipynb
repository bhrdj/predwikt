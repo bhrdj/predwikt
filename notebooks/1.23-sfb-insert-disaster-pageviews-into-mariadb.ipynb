{
 "cells": [
  {
   "cell_type": "markdown",
   "id": "48660241-8117-4a73-b0b4-df969997b4ec",
   "metadata": {},
   "source": [
    "# insert disaster pageviews into mariadb"
   ]
  },
  {
   "cell_type": "markdown",
   "id": "0d99b2b5",
   "metadata": {
    "heading_collapsed": true
   },
   "source": [
    "## password, imports, mariadb_login"
   ]
  },
  {
   "cell_type": "markdown",
   "id": "b3755d68",
   "metadata": {
    "heading_collapsed": true,
    "hidden": true
   },
   "source": [
    "###### password"
   ]
  },
  {
   "cell_type": "code",
   "execution_count": 2,
   "id": "19abd44c",
   "metadata": {
    "hidden": true
   },
   "outputs": [
    {
     "name": "stdout",
     "output_type": "stream",
     "text": [
      "Enter the MySQL password for user ubuntu: mariadb394\n"
     ]
    }
   ],
   "source": [
    "mysql_user = 'ubuntu'\n",
    "mysql_pass = input(f'Enter the MySQL password for user {mysql_user}: ')"
   ]
  },
  {
   "cell_type": "markdown",
   "id": "4bcd000e",
   "metadata": {
    "heading_collapsed": true,
    "hidden": true
   },
   "source": [
    "###### imports"
   ]
  },
  {
   "cell_type": "code",
   "execution_count": 32,
   "id": "17eba2f0-f33b-40f6-ae44-30c348ca5a6c",
   "metadata": {
    "hidden": true
   },
   "outputs": [],
   "source": [
    "import os, requests, gzip, pickle, io, logging, inspect, functools, string, re\n",
    "from IPython.display import clear_output\n",
    "import pandas as pd, datetime as dt\n",
    "import mysql.connector as mysql, sqlalchemy"
   ]
  },
  {
   "cell_type": "markdown",
   "id": "8e4293d3",
   "metadata": {
    "heading_collapsed": true,
    "hidden": true
   },
   "source": [
    "###### login to mariadb"
   ]
  },
  {
   "cell_type": "code",
   "execution_count": 4,
   "id": "0bfb36a0",
   "metadata": {
    "code_folding": [
     0
    ],
    "hidden": true
   },
   "outputs": [],
   "source": [
    "def connect_mariadb(host='localhost', user=mysql_user, passwd=mysql_pass, dbname='jawiki'):\n",
    "    \"\"\"\n",
    "    connect to mariadb and return: \n",
    "        cxn, cur, engine, conn\n",
    "    \"\"\"\n",
    "    cxn = mysql.connect(host=host,user=user,passwd=passwd, database=dbname)\n",
    "    cur = cxn.cursor()\n",
    "\n",
    "    connection_str = 'mysql+mysqlconnector://'+user+':'+passwd+'@'+host+'/'+dbname  # removed this after host +':'+dbport\n",
    "    try:\n",
    "        engine = sqlalchemy.create_engine(connection_str)\n",
    "        conn = engine.connect()\n",
    "    except Exception as e:\n",
    "        print('Database connection error - check creds')\n",
    "        print(e)\n",
    "    return cxn, cur, engine, conn\n",
    "\n",
    "cxn, cur, engine, conn = connect_mariadb()"
   ]
  },
  {
   "cell_type": "markdown",
   "id": "8f2abe8c",
   "metadata": {
    "heading_collapsed": true
   },
   "source": [
    "## get page_titles and page_ids"
   ]
  },
  {
   "cell_type": "markdown",
   "id": "76935b99",
   "metadata": {
    "heading_collapsed": true,
    "hidden": true
   },
   "source": [
    "##### unpickle list of disaster pageids (diz_pageids)"
   ]
  },
  {
   "cell_type": "code",
   "execution_count": 58,
   "id": "31253407",
   "metadata": {
    "code_folding": [
     0,
     7
    ],
    "hidden": true
   },
   "outputs": [],
   "source": [
    "def failed_decode(a):\n",
    "    try:\n",
    "        a.decode('utf-8')\n",
    "    except UnicodeDecodeError:\n",
    "        return True\n",
    "    return False\n",
    "\n",
    "def bytearray_to_str(a:bytearray, encoding='utf-8') -> str:\n",
    "    if type(a) != bytearray:\n",
    "        return a        \n",
    "    while failed_decode(a):\n",
    "        a = a[:-1]\n",
    "    return str(a.decode(encoding))"
   ]
  },
  {
   "cell_type": "code",
   "execution_count": 59,
   "id": "da558220",
   "metadata": {
    "hidden": true
   },
   "outputs": [],
   "source": [
    "with open('../data/processed/jawiki/' + 'disaster_descendants_raw.pickle', 'rb') as f:\n",
    "    disaster_descendants_raw = pickle.load(f)"
   ]
  },
  {
   "cell_type": "code",
   "execution_count": 60,
   "id": "f2cfc7fc",
   "metadata": {
    "hidden": true
   },
   "outputs": [],
   "source": [
    "disaster_cat_page_ids = {'火山災害':2390743, '熱帯低気圧':626482, '雪害':2390774, '地震':135264, '津波':765772}  # '自然災害':137069, \n",
    "disasters_english = {'火山災害':'VolcanicDisaster', '熱帯低気圧':'TropicalCyclones', '雪害':'SnowDamage', '地震':'Earthquake', '津波':'Tsunami'}\n",
    "disasters = list(disaster_cat_page_ids.keys())"
   ]
  },
  {
   "cell_type": "code",
   "execution_count": 61,
   "id": "f4821135",
   "metadata": {
    "hidden": true
   },
   "outputs": [],
   "source": [
    "d = {}\n",
    "for i in disaster_descendants_raw:\n",
    "    d[i] = (disaster_descendants_raw[i]\n",
    "            .drop_duplicates(subset='id')\n",
    "            .applymap(bytearray_to_str)\n",
    "           )\n",
    "    d[i] = d[i][d[i].namespace == 0]\n",
    "    d[i]['page_title'] = d[i].name.map(lambda x: str(x).split(sep='\\n')[-1])\n",
    "disaster_descendants = d\n",
    "del d, disaster_descendants_raw"
   ]
  },
  {
   "cell_type": "code",
   "execution_count": 62,
   "id": "049f6e07",
   "metadata": {
    "hidden": true
   },
   "outputs": [
    {
     "data": {
      "text/plain": [
       "Index(['id', 'name', 'type', 'namespace', 'page_title'], dtype='object')"
      ]
     },
     "execution_count": 62,
     "metadata": {},
     "output_type": "execute_result"
    }
   ],
   "source": [
    "disaster_descendants['火山災害'].columns"
   ]
  },
  {
   "cell_type": "code",
   "execution_count": 63,
   "id": "f5acb587",
   "metadata": {
    "hidden": true
   },
   "outputs": [],
   "source": [
    "diz_pageids = [j for i in disaster_descendants for j in disaster_descendants[i].id]"
   ]
  },
  {
   "cell_type": "markdown",
   "id": "4ee994dc",
   "metadata": {},
   "source": [
    "## function trees"
   ]
  },
  {
   "cell_type": "markdown",
   "id": "8a7581a4",
   "metadata": {},
   "source": [
    "### main_program"
   ]
  },
  {
   "cell_type": "code",
   "execution_count": null,
   "id": "c6ace9f3",
   "metadata": {},
   "outputs": [
    {
     "name": "stdout",
     "output_type": "stream",
     "text": [
      "started 2016,\n",
      "completed 20160223,\n",
      "continuing until end of 2016\n"
     ]
    }
   ],
   "source": [
    "start = dt.datetime.now()\n",
    "years = [2016,2017,2018]\n",
    "for year in years:\n",
    "    df = get_utc_hourlycounts_by_pageids_and_years(diz_pageids, [year])\n",
    "    df = df.apply(tz_shift_hourly_views_utc2ja)\n",
    "    df = df.apply(get_daily_views_from_hourly_views)\n",
    "    df.to_csv(f'../data/processed/jawiki/diz_daily/{year}.csv')\n",
    "end = dt.datetime.now()\n",
    "elapsed = end-start"
   ]
  },
  {
   "cell_type": "code",
   "execution_count": 106,
   "id": "355dfd83",
   "metadata": {
    "scrolled": true
   },
   "outputs": [],
   "source": [
    "df = pd.read_csv(f'../data/processed/jawiki/diz_daily/{2016}.csv')\n",
    "df = df.rename(columns={'Unnamed: 0': 'date_ja'}).set_index('date_ja')"
   ]
  },
  {
   "cell_type": "code",
   "execution_count": 118,
   "id": "e3397d0e",
   "metadata": {},
   "outputs": [
    {
     "data": {
      "text/plain": [
       "618048_mobile-web     4849281\n",
       "1788300_mobile-web    2836290\n",
       "1361153_mobile-web    2504520\n",
       "618048_desktop        1595399\n",
       "2917062_mobile-web    1316362\n",
       "3028514_mobile-web    1247657\n",
       "1361153_desktop       1216225\n",
       "2781002_mobile-web    1206546\n",
       "719740_mobile-web     1192299\n",
       "2697410_mobile-web    1153765\n",
       "dtype: int64"
      ]
     },
     "execution_count": 118,
     "metadata": {},
     "output_type": "execute_result"
    }
   ],
   "source": [
    "df.sum().sort_values(ascending=False).head(10)"
   ]
  },
  {
   "cell_type": "markdown",
   "id": "1c884ffb",
   "metadata": {
    "heading_collapsed": true
   },
   "source": [
    "#### get_utc_hourlycounts_by_pageids_and_years"
   ]
  },
  {
   "cell_type": "code",
   "execution_count": 98,
   "id": "d9d9fa08",
   "metadata": {
    "code_folding": [
     2
    ],
    "hidden": true
   },
   "outputs": [],
   "source": [
    "def get_utc_hourlycounts_by_pageids_and_years(\n",
    "    pids_of_interest:list[int], years:[int]) -> pd.DataFrame:\n",
    "    \"\"\"\n",
    "        INPUTS: \n",
    "        pid_of_interest: pageid to return\n",
    "        years: list of years to include\n",
    "        OUTPUTS: \n",
    "        pd.DataFrame where:\n",
    "            index: utc_date in yyyymmdd\n",
    "            columns: 'mobile', 'desktop', 'app'\n",
    "            values: encoded hourly counts (see note below)\n",
    "            name: pageid\n",
    "        NOTE:\n",
    "        hourly counts are encoded with letters as hours, and numbers as counts\n",
    "        for example, 'C2' means 2 pageviews between 02:00 and 02:59\n",
    "    \"\"\"\n",
    "    paths = []\n",
    "    for year in years:\n",
    "        paths = paths + get_all_paths_in_year(year)\n",
    "    pageid_filter = make_pageid_filter(pids_of_interest)\n",
    "    diz_views = {}\n",
    "    for path in paths: #[:10]: # uncomment for debugging\n",
    "        diz_views, yyyymmdd = get_hour_counts_for_pid_matches(path, diz_views, pageid_filter)\n",
    "        clear_output(wait=True)\n",
    "        print(f\"started {min(years)},\\ncompleted {yyyymmdd},\\ncontinuing until end of {max(years)}\")\n",
    "    return pd.DataFrame(diz_views).T"
   ]
  },
  {
   "cell_type": "markdown",
   "id": "b162050a",
   "metadata": {
    "heading_collapsed": true,
    "hidden": true
   },
   "source": [
    "##### get_all_paths_in_year"
   ]
  },
  {
   "cell_type": "code",
   "execution_count": 99,
   "id": "c38e6fd2",
   "metadata": {
    "hidden": true
   },
   "outputs": [],
   "source": [
    "def get_all_paths_in_year(year:int) -> list[str]:\n",
    "    gen = os.walk(f'../data/temp/jawiki_pageviews/{year}/')\n",
    "    filepaths = []\n",
    "    for tup in gen: # iterate through each directory/subdir\n",
    "        for f in tup[2]: # iterate through each file in dir\n",
    "            filepaths.append(tup[0]+'/'+f)\n",
    "    filepaths.sort()\n",
    "    return filepaths"
   ]
  },
  {
   "cell_type": "markdown",
   "id": "96694b77",
   "metadata": {
    "heading_collapsed": true,
    "hidden": true
   },
   "source": [
    "##### make_pageid_filter "
   ]
  },
  {
   "cell_type": "code",
   "execution_count": 100,
   "id": "623aabf0",
   "metadata": {
    "code_folding": [
     1
    ],
    "hidden": true
   },
   "outputs": [],
   "source": [
    "def make_pageid_filter(pid_allowlist:list[int], con=conn) -> dict:\n",
    "    \"\"\"\n",
    "        INPUTS:\n",
    "            pid_allowlist: list of allowed page_id's\n",
    "            con: SQLAlchemy connection\n",
    "        OUTPUT: dict\n",
    "            keys: all pageids in jawiki  \n",
    "            values: disaster 1, not-disaster 0\n",
    "    \"\"\"\n",
    "    ct = 0\n",
    "    sql = \"select distinct page_id from page;\"\n",
    "    all_pageids = pd.read_sql(sql, conn).squeeze().to_list()\n",
    "    d = {i:0 for i in all_pageids}\n",
    "    for i in pid_allowlist:\n",
    "        d[i] = 1\n",
    "    return d"
   ]
  },
  {
   "cell_type": "markdown",
   "id": "63421557",
   "metadata": {
    "heading_collapsed": true,
    "hidden": true
   },
   "source": [
    "##### get_hour_counts_for_pid_matches"
   ]
  },
  {
   "cell_type": "code",
   "execution_count": 101,
   "id": "8bf13039",
   "metadata": {
    "code_folding": [],
    "hidden": true
   },
   "outputs": [],
   "source": [
    "def get_hour_counts_for_pid_matches(path:str, diz_views:dict, pageid_filter:dict=pageid_filter) -> tuple[dict, str]:\n",
    "    \"\"\"\n",
    "        INPUTS:\n",
    "            path: bz2 pageviews_complete daily-file filepath\n",
    "            diz_views: accumulated filtered pageviews data\n",
    "            pageid_filter: dict mapping all jawiki pageids to 1's if \"disaster\" page, 0 otherwise\n",
    "        OUTPUTS:\n",
    "            diz_views: updated filtered pageviews data\n",
    "            yyyymmdd: date as string-num\n",
    "    \"\"\"\n",
    "    yyyymmdd = path.split('/')[-1].split('-')[1]\n",
    "    with open(path) as f:\n",
    "        try: # check if a dict has been assigned for this date yet\n",
    "            diz_views[yyyymmdd]\n",
    "        except KeyError: # make one if it isn't there yet\n",
    "            diz_views[yyyymmdd] = {}\n",
    "        \n",
    "        while (line := f.readline()):\n",
    "            line_split = line.split()\n",
    "            \n",
    "            if len(line_split) < 6: # discard abnormal records missing fields \n",
    "                continue\n",
    "            \n",
    "            pid_str = line_split[2]\n",
    "            try: # redundant check, ignoring pageviews of redirects etc that don't have page_id\n",
    "                pid = int(pid_str)\n",
    "            except ValueError:\n",
    "                continue \n",
    "            \n",
    "            try: # check if page_id is in the list\n",
    "                (ps:=pageid_filter[pid])\n",
    "            except KeyError:\n",
    "                continue\n",
    "            \n",
    "            if ps==1:\n",
    "                access_method = line_split[3]\n",
    "                hour_counts = line_split[5]\n",
    "                diz_views[yyyymmdd][pid_str+'_'+access_method] = hour_counts\n",
    "    return (diz_views, yyyymmdd)"
   ]
  },
  {
   "cell_type": "markdown",
   "id": "ccdbfaff",
   "metadata": {
    "heading_collapsed": true,
    "hidden": true
   },
   "source": [
    "##### ---------------------------------------------------"
   ]
  },
  {
   "cell_type": "markdown",
   "id": "b51debd0",
   "metadata": {
    "heading_collapsed": true
   },
   "source": [
    "#### tz_shift_hourly_views_utc2ja"
   ]
  },
  {
   "cell_type": "code",
   "execution_count": 80,
   "id": "12fa9288",
   "metadata": {
    "hidden": true
   },
   "outputs": [
    {
     "data": {
      "text/plain": [
       "('P', 15)"
      ]
     },
     "execution_count": 80,
     "metadata": {},
     "output_type": "execute_result"
    }
   ],
   "source": [
    "AZ[15], 24-9"
   ]
  },
  {
   "cell_type": "code",
   "execution_count": 102,
   "id": "8bc942c1",
   "metadata": {
    "code_folding": [],
    "hidden": true
   },
   "outputs": [],
   "source": [
    "def tz_shift_hourly_views_utc2ja(ser:pd.Series) -> pd.Series:\n",
    "    \"\"\"\n",
    "    Timezone Shift compressed hourly files:\n",
    "        - Take any letters P-X (15:00 thru 23:59) and their counts, \n",
    "        lag it one calendar day, and call that series \"a\".\n",
    "        - Take any letters A-P (00:00 thru 14:59) and their counts, \n",
    "        and call that series \"b\".\n",
    "        - Concatenate a and b, and re-map all letter-hours \n",
    "    \"\"\"\n",
    "    AZ = string.ascii_uppercase\n",
    "    ja_tz_map = {i:j for i,j in zip(AZ[15:24]+AZ[:15], AZ[:15]+AZ[15:24])}\n",
    "    ja_tz_map = AZ.maketrans(ja_tz_map)\n",
    "    a = ser.str.extract('([R-Z].*$)').shift(1).fillna('')\n",
    "    b = ser.str.extract('((?:[A-Q][0-9]*)*)').fillna('')\n",
    "    c = (a+b).squeeze().str.translate(ja_tz_map)\n",
    "    return c"
   ]
  },
  {
   "cell_type": "markdown",
   "id": "7e7ddb0c",
   "metadata": {
    "heading_collapsed": true
   },
   "source": [
    "#### get_daily_views_from_hourly_views"
   ]
  },
  {
   "cell_type": "code",
   "execution_count": 103,
   "id": "52c654a2",
   "metadata": {
    "hidden": true
   },
   "outputs": [],
   "source": [
    "def get_daily_views_from_hourly_views(pd_obj):\n",
    "    if isinstance(pd_obj, pd.core.frame.DataFrame):\n",
    "        return pd_obj.applymap(lambda x: sum((int(i) for i in re.findall(r\"[A-Z]([0-9]*)\", x))))\n",
    "    if isinstance(pd_obj, pd.core.series.Series):\n",
    "        return pd_obj.map(lambda x: sum((int(i) for i in re.findall(r\"[A-Z]([0-9]*)\", x))))"
   ]
  },
  {
   "cell_type": "markdown",
   "id": "712da32f",
   "metadata": {
    "heading_collapsed": true
   },
   "source": [
    "#### something"
   ]
  },
  {
   "cell_type": "code",
   "execution_count": null,
   "id": "4686ff85",
   "metadata": {
    "hidden": true
   },
   "outputs": [],
   "source": [
    "    if not does_table_exist('pageviews'):\n",
    "        create_pageviews_table(con)\n",
    "\n",
    "    pageviews.to_sql(name='pageviews',con=con, if_exists='append', index=False)\n"
   ]
  },
  {
   "cell_type": "markdown",
   "id": "f552cfbe",
   "metadata": {
    "heading_collapsed": true,
    "hidden": true
   },
   "source": [
    "###### does_table_exist"
   ]
  },
  {
   "cell_type": "code",
   "execution_count": null,
   "id": "8cf7fa03",
   "metadata": {
    "hidden": true
   },
   "outputs": [],
   "source": [
    "def does_table_exist(tablename:str, dbname:str='jawiki', con=conn) -> bool:\n",
    "    \"\"\"\n",
    "    run SQL query to look for tablename, return boolean\n",
    "    \"\"\"\n",
    "    sql = f\"\"\"\n",
    "    SELECT * \n",
    "        FROM information_schema.tables\n",
    "    WHERE table_schema = '{dbname}' \n",
    "        AND table_name = '{tablename}'\n",
    "    LIMIT 1;\n",
    "    \"\"\"\n",
    "    return bool(pd.read_sql(sql, con).shape[0])"
   ]
  },
  {
   "cell_type": "markdown",
   "id": "f8b5254e",
   "metadata": {
    "heading_collapsed": true,
    "hidden": true
   },
   "source": [
    "###### create_pageviews_table"
   ]
  },
  {
   "cell_type": "code",
   "execution_count": null,
   "id": "fe8e2441",
   "metadata": {
    "hidden": true
   },
   "outputs": [],
   "source": [
    "def create_pageviews_table(con=conn):\n",
    "    \"\"\"\n",
    "    run SQL code to create pageviews table\n",
    "    \"\"\"\n",
    "    \n",
    "    sql = \"\"\"\n",
    "    CREATE TABLE pageviews (\n",
    "        row_id BIGINT(20) AUTO_INCREMENT PRIMARY KEY\n",
    "        ,page_id BIGINT(20)\n",
    "        ,utc_date DATE\n",
    "        ,utc_hourly_count TEXT\n",
    "    )\n",
    "    ;\n",
    "    \"\"\"\n",
    "    conn.execute(sql)"
   ]
  },
  {
   "cell_type": "markdown",
   "id": "a1cbae30",
   "metadata": {},
   "source": [
    "## main program"
   ]
  },
  {
   "cell_type": "code",
   "execution_count": null,
   "id": "bac90f1f",
   "metadata": {},
   "outputs": [],
   "source": [
    "df_utc = get_pageviews_by_pageids_and_years([1051, 18508], [2016])"
   ]
  },
  {
   "cell_type": "code",
   "execution_count": 33,
   "id": "9f728341",
   "metadata": {},
   "outputs": [],
   "source": [
    "df_ja = df.apply(tz_shift_hourly_views_utc2ja)"
   ]
  },
  {
   "cell_type": "code",
   "execution_count": 52,
   "id": "29d6d2a8",
   "metadata": {},
   "outputs": [
    {
     "data": {
      "text/plain": [
       "True"
      ]
     },
     "execution_count": 52,
     "metadata": {},
     "output_type": "execute_result"
    }
   ],
   "source": []
  },
  {
   "cell_type": "code",
   "execution_count": null,
   "id": "742fbaa9",
   "metadata": {},
   "outputs": [],
   "source": [
    "df_ja.to_sql('test1', conn)"
   ]
  },
  {
   "cell_type": "code",
   "execution_count": 17,
   "id": "5aebf25b",
   "metadata": {},
   "outputs": [],
   "source": [
    "earthquake_pids = [18508, 159816, 1051, 2339185, 1516544]"
   ]
  },
  {
   "cell_type": "code",
   "execution_count": null,
   "id": "f1c61e0b",
   "metadata": {},
   "outputs": [],
   "source": []
  },
  {
   "cell_type": "markdown",
   "id": "20e06f71",
   "metadata": {},
   "source": [
    "---"
   ]
  },
  {
   "cell_type": "markdown",
   "id": "4e22fabd",
   "metadata": {},
   "source": [
    "final program should look like:"
   ]
  },
  {
   "cell_type": "markdown",
   "id": "6a751400",
   "metadata": {},
   "source": [
    "etl_pageviews_by_years_and_projects([2016,2017,2018,2019,2020,2021], all_titles)"
   ]
  },
  {
   "cell_type": "markdown",
   "id": "765d2dc3",
   "metadata": {},
   "source": [
    "---"
   ]
  },
  {
   "cell_type": "markdown",
   "id": "323c341e",
   "metadata": {},
   "source": [
    "### probably won't need this concept, should probably be in ja time anyways"
   ]
  },
  {
   "cell_type": "markdown",
   "id": "876f3b99",
   "metadata": {},
   "source": [
    "###### function tosql_utcdate_pageid_hourlycount_accessmethod"
   ]
  },
  {
   "cell_type": "code",
   "execution_count": null,
   "id": "97cfccd7",
   "metadata": {},
   "outputs": [],
   "source": [
    "def populate_pageviews_utc(paths:list[str]):\n",
    "    # bz2 fields: wiki_code, article_title, page_id, daily_total, hourly_counts\n",
    "    # sql fields: utc_date, page_id, hourly_count, access_method\n",
    "    \n",
    "    # check the line starts with \"ja.wikipedia\"\n",
    "    # split the line\n",
    "    # skip record if the list is too short\n",
    "    # skip record if there's no integer pageid\n",
    "    # convert access_method to integer:\n",
    "        # 'mobile': 1, 'desktop': 2, 'app': 3\n",
    "    # insert record to sql    \n",
    "    pass\n"
   ]
  }
 ],
 "metadata": {
  "kernelspec": {
   "display_name": "Python 3 (ipykernel)",
   "language": "python",
   "name": "python3"
  },
  "language_info": {
   "codemirror_mode": {
    "name": "ipython",
    "version": 3
   },
   "file_extension": ".py",
   "mimetype": "text/x-python",
   "name": "python",
   "nbconvert_exporter": "python",
   "pygments_lexer": "ipython3",
   "version": "3.9.7"
  }
 },
 "nbformat": 4,
 "nbformat_minor": 5
}
