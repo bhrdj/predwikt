{
 "cells": [
  {
   "cell_type": "markdown",
   "id": "141b401c-852e-4224-a432-6c4ed654e52e",
   "metadata": {
    "slideshow": {
     "slide_type": "slide"
    },
    "tags": []
   },
   "source": [
    "# predwikt\n",
    "## Predicting Wikipedia Category Edit Counts\n",
    "### Steven Bhardwaj\n",
    "#### GA data science capstone presentation"
   ]
  },
  {
   "cell_type": "markdown",
   "id": "c8814490-eed0-40fe-9563-63ea64869e44",
   "metadata": {
    "jp-MarkdownHeadingCollapsed": true,
    "slideshow": {
     "slide_type": "slide"
    },
    "tags": []
   },
   "source": [
    "# Table of contents\n",
    "1. Executive Summary\n",
    "2. Data Flow\n",
    "3. Predictive Model\n",
    "4. Next Steps"
   ]
  },
  {
   "cell_type": "markdown",
   "id": "02d4a045-b1fe-40c8-94ec-ffd2449cb418",
   "metadata": {
    "slideshow": {
     "slide_type": "slide"
    }
   },
   "source": [
    "#### Executive Summary\n",
    "x  \n",
    "x  \n",
    "x  \n",
    "x  \n",
    "x  "
   ]
  },
  {
   "cell_type": "markdown",
   "id": "b1887ed3-ff08-4492-a207-7df89cc46b0f",
   "metadata": {
    "slideshow": {
     "slide_type": "slide"
    }
   },
   "source": [
    "#### Wikipedia Data Flow\n",
    "1. **Downloaded normalized Wikipedia archives as sql dumps and tsv files:**\n",
    "    - [Cross-section](https://dumps.wikimedia.org/jawiki/20220301/): ```page.sql```, ```categorylinks.sql```\n",
    "    - Edit-history [time series](https://dumps.wikimedia.org/other/mediawiki_history/readme.html): ```jawiki.2021.tsv```, ```jawiki.2020.tsv``` ...\n",
    "    - 23 GB total\n",
    "2. **ETL with MariaDB**\n",
    "    - MariaDB command-line interface\n",
    "    - SQLAlchemy and mysql.connect in Python / JupyterLab\n",
    "        - Recursive self-join to collect all descendant articles in a \"category\"\n",
    "        - Count edits for articles within categories, grouped by date (JA timezone)\n",
    "    - Output edit-count time-series to pandas dataframe\n",
    "4. **Analysis dataset**\n",
    "    - Categories: Volcano, Blizzard, Tropical Cyclone, Earthquake, Tsunami\n",
    "    - Daily edit counts\n",
    "    - Count of references from official disaster tweets"
   ]
  },
  {
   "cell_type": "markdown",
   "id": "b40fa0ca-c8d3-4747-b20a-a65323fbed52",
   "metadata": {
    "slideshow": {
     "slide_type": "slide"
    }
   },
   "source": [
    "#### Additional features added for analysis\n",
    "1.  **Calendar**\n",
    "    - One-hot features identifying weekends/weekdays, and official Japanese holidays\n",
    "    - Github repo of holiday dates: [mokejp/holidays_jp](https://github.com/mokejp/holidays_jp)\n",
    "2. **Japanese Meterological Agency disaster forecasts**\n",
    "    - Disaster-warning twitter feed [@JMA_bousai](https://twitter.com/jma_bousai)\n",
    "    - Per-day counts of references to particular disasters"
   ]
  },
  {
   "cell_type": "code",
   "execution_count": null,
   "id": "85b5c6ce-ab6f-4c92-9c7a-bc50df4b7b1c",
   "metadata": {},
   "outputs": [],
   "source": []
  }
 ],
 "metadata": {
  "celltoolbar": "Slideshow",
  "kernelspec": {
   "display_name": "Python 3 (ipykernel)",
   "language": "python",
   "name": "python3"
  },
  "language_info": {
   "codemirror_mode": {
    "name": "ipython",
    "version": 3
   },
   "file_extension": ".py",
   "mimetype": "text/x-python",
   "name": "python",
   "nbconvert_exporter": "python",
   "pygments_lexer": "ipython3",
   "version": "3.9.7"
  }
 },
 "nbformat": 4,
 "nbformat_minor": 5
}
