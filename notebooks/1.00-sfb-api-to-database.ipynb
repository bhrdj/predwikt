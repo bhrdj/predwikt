{
 "cells": [
  {
   "cell_type": "markdown",
   "id": "56140668-fa5d-4af9-8a97-44102d65da9f",
   "metadata": {},
   "source": [
    "# Data: API➔Database"
   ]
  },
  {
   "cell_type": "markdown",
   "id": "3f3ba624-4764-47c7-9185-8b28992c0afc",
   "metadata": {
    "tags": []
   },
   "source": [
    "### Headings and Library Imports"
   ]
  },
  {
   "cell_type": "code",
   "execution_count": 1,
   "id": "02f1e185-05a1-4bdb-96c5-fa7f64c9791f",
   "metadata": {
    "tags": []
   },
   "outputs": [],
   "source": [
    "#!/usr/bin/python3\n",
    "\"\"\"\n",
    "    get_recent_changes.py\n",
    "\n",
    "    MediaWiki API Demos\n",
    "    Demo of `RecentChanges` module: Get the three most recent changes with\n",
    "    sizes and flags\n",
    "\n",
    "    MIT License\n",
    "\"\"\";"
   ]
  },
  {
   "cell_type": "code",
   "execution_count": 32,
   "id": "7e61f3c2-b089-49c1-a7b4-a75cf689a968",
   "metadata": {},
   "outputs": [],
   "source": [
    "import requests\n",
    "import pandas as pd\n",
    "import os\n",
    "import datetime\n",
    "import dateutil.parser as dp\n",
    "import json\n",
    "import time\n",
    "from sseclient import SSEClient as EventSource\n",
    "\n",
    "os.chdir('/home/bhrdwj/git/predwikt/notebooks/')"
   ]
  },
  {
   "cell_type": "markdown",
   "id": "4ed746f5-cccb-46d4-b6cb-f46417c7d001",
   "metadata": {},
   "source": [
    "### Get Data"
   ]
  },
  {
   "cell_type": "code",
   "execution_count": 3,
   "id": "a5b53271-f382-4ac9-89a9-f7fe9657e8fa",
   "metadata": {},
   "outputs": [],
   "source": [
    "import requests\n",
    "sesh = requests.Session()"
   ]
  },
  {
   "cell_type": "code",
   "execution_count": 13,
   "id": "8fa49687-efc8-4815-ae2f-0514e1d3919f",
   "metadata": {},
   "outputs": [],
   "source": [
    "def get_rc(rc_list:list, params:dict, url: str, sesh) -> str:\n",
    "    '''\n",
    "    Inputs:  rc_list: list to be populated with recentchanges jsons\n",
    "             params: dictionary of parameters for the API request\n",
    "                 this fn expects at least these parameters:\n",
    "                    'rcprop' : 'timestamp|ids', (more is okay)\n",
    "                    'action' : 'query',\n",
    "                    'rcdir'  : 'newer',\n",
    "                    'format' : 'json',\n",
    "                    'list'   : 'recentchanges',\n",
    "             url: API url (designates which wiki)\n",
    "             sesh: requests session\n",
    "    Outputs: timestamp of latest  \n",
    "    '''\n",
    "    raw_output= sesh.get(url=url, params=params)\n",
    "    json_data = raw_output.json()\n",
    "    recent_changes = json_data['query']['recentchanges']\n",
    "    rc_list.append(recent_changes)\n",
    "    timestamps = [rc['timestamp'] for rc in recent_changes]\n",
    "    timestamps = sorted(map(dp.isoparse, timestamps))\n",
    "    ts = timestamps[-3]\n",
    "    return ts.strftime('%Y-%m-%dT%H:%M:%SZ')\n"
   ]
  },
  {
   "cell_type": "code",
   "execution_count": 44,
   "id": "fc252cf5-3855-432f-bebd-39ab9ff729d0",
   "metadata": {},
   "outputs": [],
   "source": [
    "rc_list=[]\n",
    "url = 'https://en.wikipedia.org/w/api.php'\n",
    "params = {\n",
    "    'rcstart'     : '2021-10-20T00:30:01Z',\n",
    "    'rcnamespace' : '0',\n",
    "    'rcshow'      : '!bot',\n",
    "    'rclimit'     : '50',\n",
    "    \n",
    "    'rcprop': 'user|userid|timestamp|title|ids|sizes',\n",
    "    \n",
    "    'action'      : 'query',\n",
    "    'rcdir'       : 'newer',\n",
    "    'format'      : 'json',\n",
    "    'list'        : 'recentchanges',\n",
    "}\n",
    "\n",
    "# Dictionary keys that output from these parameters:\n",
    "['timestamp', 'type', 'title', 'anon', 'rcid', 'ns', 'revid', 'pageid', 'user', 'userid', 'oldlen', 'old_revid', 'newlen'];"
   ]
  },
  {
   "cell_type": "code",
   "execution_count": 37,
   "id": "e4ed4385-ce09-4116-9fa5-5630460ec72f",
   "metadata": {},
   "outputs": [],
   "source": [
    "for i in range(100):\n",
    "    latest_timestamp = get_rc(rc_list, params, url, sesh)\n",
    "    params['rcstart'] = latest_timestamp\n",
    "    print(f'{i} {latest_timestamp}')\n",
    "    time.sleep(.5)"
   ]
  },
  {
   "cell_type": "code",
   "execution_count": 38,
   "id": "b327adfa-76de-4f86-9115-2898e8facece",
   "metadata": {},
   "outputs": [],
   "source": [
    "# flatten the jsons\n",
    "all_jsons = [item for sublist in rc_list for item in sublist]\n",
    "# remove jsons with duplicate rcid's\n",
    "all_rcids = {j['rcid']:i for i,j in enumerate(all_jsons)}\n",
    "unique_jsons = [all_jsons[i] for i in all_rcids.values()]"
   ]
  },
  {
   "cell_type": "code",
   "execution_count": 39,
   "id": "0be8e0ec-68a0-415d-abb5-d404aa42d576",
   "metadata": {},
   "outputs": [
    {
     "data": {
      "text/plain": [
       "4639"
      ]
     },
     "execution_count": 39,
     "metadata": {},
     "output_type": "execute_result"
    }
   ],
   "source": [
    "len(unique_jsons)"
   ]
  },
  {
   "cell_type": "code",
   "execution_count": 40,
   "id": "a18a65e9-2a20-4fab-baf1-698192da4eea",
   "metadata": {},
   "outputs": [
    {
     "data": {
      "text/plain": [
       "'2021-10-20T01:39:40Z'"
      ]
     },
     "execution_count": 40,
     "metadata": {},
     "output_type": "execute_result"
    }
   ],
   "source": [
    "latest_timestamp"
   ]
  },
  {
   "cell_type": "code",
   "execution_count": 42,
   "id": "4062dda0-67ea-4b03-bdc2-21d333cee44a",
   "metadata": {},
   "outputs": [
    {
     "name": "stdout",
     "output_type": "stream",
     "text": [
      "['timestamp', 'type', 'title', 'anon', 'rcid', 'ns', 'revid', 'pageid', 'user', 'userid', 'oldlen', 'old_revid', 'newlen']\n"
     ]
    }
   ],
   "source": [
    "print(list(set([k for j in unique_jsons for k in list(j.keys())])))"
   ]
  },
  {
   "cell_type": "code",
   "execution_count": 45,
   "id": "fae7e8b4-d1fd-4d93-8746-4c793e3e777f",
   "metadata": {},
   "outputs": [],
   "source": [
    "f = open('../data/raw/2021-10-20T00:30:01Z_2021-10-20T01:39:40Z', mode='w')"
   ]
  },
  {
   "cell_type": "code",
   "execution_count": 50,
   "id": "8a0c12f5-a067-4651-8b9d-53bb6a347585",
   "metadata": {},
   "outputs": [],
   "source": [
    "f.close()"
   ]
  },
  {
   "cell_type": "code",
   "execution_count": 51,
   "id": "cdcf017b-8454-447b-a72d-8d039ac93a31",
   "metadata": {},
   "outputs": [],
   "source": [
    "df = pd.DataFrame.from_records(unique_jsons[0:5]);"
   ]
  },
  {
   "cell_type": "code",
   "execution_count": 52,
   "id": "9aa95c86-e879-45a6-bc13-073d83a52ba7",
   "metadata": {},
   "outputs": [],
   "source": [
    "df.to_csv('../data/raw/2021-10-20T00:30:01Z_2021-10-20T01:39:40Z')"
   ]
  },
  {
   "cell_type": "markdown",
   "id": "a8622bf7-74fb-425f-a10c-09b2d78db3cf",
   "metadata": {
    "jp-MarkdownHeadingCollapsed": true,
    "tags": []
   },
   "source": [
    "### SQL Goal: Get the schema such that:"
   ]
  },
  {
   "cell_type": "markdown",
   "id": "3df5abc1-0c79-4d9a-bcb6-15d824e03a3f",
   "metadata": {},
   "source": [
    "- such that:\n",
    "    - all data from this sample \"l\"\n",
    "    - will fit into the database"
   ]
  },
  {
   "cell_type": "markdown",
   "id": "a88c45e1-44b3-48f8-9d27-8e9b7b1eb929",
   "metadata": {
    "jp-MarkdownHeadingCollapsed": true,
    "tags": []
   },
   "source": [
    "### Geoff's notebook with SQL in it"
   ]
  },
  {
   "cell_type": "code",
   "execution_count": null,
   "id": "b8799556-99da-46d7-8007-da885d2e90c5",
   "metadata": {},
   "outputs": [],
   "source": [
    "# Define Schema\n",
    "sql_create_table = \"\"\"\n",
    "DROP TABLE IF EXISTS data_raw;\n",
    "\n",
    "CREATE TABLE data_raw(\n",
    "    row_index SERIAL,\n",
    "    time_string char varying(25),\n",
    "    unix_time bigint,\n",
    "    instance char varying(35),\n",
    "    product char varying(5),\n",
    "    username char varying(35),\n",
    "    event char varying(100),\n",
    "    attributes text\n",
    ");\n",
    "\"\"\""
   ]
  },
  {
   "cell_type": "code",
   "execution_count": null,
   "id": "6a95ba34-0014-4689-84ab-70eeecd82e98",
   "metadata": {},
   "outputs": [],
   "source": [
    "# connect to database\n",
    "try:\n",
    "    conn = psycopg2.connect(\"host=\"+dbhost+\" dbname=\"+dbname+\" user=\"+dbuname+\" password=\"+dbpassword)\n",
    "    cur = conn.cursor()\n",
    "except:\n",
    "    print('Database connection error - check creds')"
   ]
  },
  {
   "cell_type": "code",
   "execution_count": null,
   "id": "73bcc848-c3fb-473e-92b8-d96bf1eb5841",
   "metadata": {},
   "outputs": [],
   "source": [
    "%%time\n",
    "# Create table and import data\n",
    "cur.execute(sql_create_table)\n",
    "sql_import = \"COPY data_raw(time_string,unix_time,instance,product,username,event,attributes) FROM STDIN DELIMITER E'\\t';\"\n",
    "cur.copy_expert(sql_import, open('jira_clean.tsv', \"r\",encoding=\"utf8\"))\n",
    "conn.commit()"
   ]
  },
  {
   "cell_type": "code",
   "execution_count": null,
   "id": "a900e675-f0c8-480a-b478-ce704a22332e",
   "metadata": {},
   "outputs": [],
   "source": [
    "# update table to have date \n",
    "sql_calc_table = \"\"\"\n",
    "DROP TABLE IF EXISTS data_prep;\n",
    "\n",
    "CREATE TABLE data_prep as (\n",
    "    select \n",
    "        row_index\n",
    "        , to_timestamp(time_string,'YYYY-MM-DD HH24:MI,MS')::timestamp without time zone as time_parsed\n",
    "        , unix_time\n",
    "        , instance\n",
    "        , username\n",
    "        , event\n",
    "        , attributes\n",
    "    from\n",
    "        data_raw\n",
    ");\n",
    "\"\"\"\n",
    "cur.execute(sql_calc_table)\n",
    "conn.commit()"
   ]
  },
  {
   "cell_type": "code",
   "execution_count": null,
   "id": "f6ef598f-c335-4e9d-a942-3abe4953897a",
   "metadata": {},
   "outputs": [],
   "source": [
    "# Finally, let's instantiate a SQL alchemy engine, so we can pass results sets into pandas and evaluate them here \n",
    "connection_str = 'postgresql+psycopg2://'+dbuname+':'+dbpassword+'@'+dbhost+':'+dbport+'/'+dbname\n",
    "try:\n",
    "    engine1 = sqlalchemy.create_engine(connection_str)\n",
    "    conn1 = engine1.connect()\n",
    "except:\n",
    "    print('Database connection error - check creds')\n",
    "engine1.table_names() # Confirm connection and tables are present as expect"
   ]
  },
  {
   "cell_type": "markdown",
   "id": "5445694f-e8a2-4bc0-83e6-612f10f12207",
   "metadata": {
    "jp-MarkdownHeadingCollapsed": true,
    "tags": []
   },
   "source": [
    "### More detailed requests from wikipedia"
   ]
  },
  {
   "cell_type": "code",
   "execution_count": null,
   "id": "f6f4d3f7-1c1f-4227-9913-8c86292276d9",
   "metadata": {},
   "outputs": [],
   "source": [
    "import requests\n",
    "requests_session = requests.Session()\n",
    "url = 'https://en.wikipedia.org/w/api.php'\n",
    "params = {\n",
    "    'rcstart'     : '2021-10-20T00:30:01Z',\n",
    "    'rcdir'       : 'newer',\n",
    "    'rcnamespace' : '0',\n",
    "    'format'      : 'json',\n",
    "    'rcprop': 'user|userid|comment|flags|timestamp|title|ids|sizes|redirect|tags|loginfo',\n",
    "    'list'        : 'recentchanges',\n",
    "    'action'      : 'query',\n",
    "    'rclimit'     : '50',\n",
    "    'rcshow'      : '!bot'\n",
    "}"
   ]
  },
  {
   "cell_type": "code",
   "execution_count": null,
   "id": "346d3e1e-9f4d-470d-9969-9a29ec13f6ba",
   "metadata": {},
   "outputs": [],
   "source": [
    "fields = ['anon', 'comment', 'logaction', 'logid', 'logparams', \n",
    "          'logtype', 'minor', 'new', 'newlen', 'ns', \n",
    "          'old_revid', 'oldlen', 'pageid', 'rcid', 'redirect', \n",
    "          'revid', 'tags', 'tagstags', 'timestamp', 'title', \n",
    "          'type', 'user', 'userid']\n",
    "len(fields);"
   ]
  },
  {
   "cell_type": "code",
   "execution_count": null,
   "id": "1e563390-892c-4545-ae5b-687c808971d2",
   "metadata": {},
   "outputs": [],
   "source": [
    "# List of wikipedias is used to filter wikipedia edits out from other wiki projects\n",
    "wkps = pd.read_csv('../data/external/wikipedias.csv').assign(code=lambda x: x.abbrev + 'wiki')\n",
    "wkps.columns"
   ]
  },
  {
   "cell_type": "markdown",
   "id": "9a6aefdb-cfe2-40e0-9369-eaa8f36a978d",
   "metadata": {},
   "source": [
    "###"
   ]
  },
  {
   "cell_type": "markdown",
   "id": "a6a30062-0307-46a1-9f5b-597b2dd6359f",
   "metadata": {
    "jp-MarkdownHeadingCollapsed": true,
    "tags": []
   },
   "source": [
    "### Checking out what's in the json... (method deeply flawed lol)"
   ]
  },
  {
   "cell_type": "code",
   "execution_count": null,
   "id": "9d23921b-6643-4114-b7b4-2d77254231e7",
   "metadata": {},
   "outputs": [],
   "source": [
    "for i in l:\n",
    "    for j in i:\n",
    "        if hasattr(j, \"__len__\") and not isinstance(j, str):\n",
    "            print(j) "
   ]
  },
  {
   "cell_type": "code",
   "execution_count": null,
   "id": "50dab181-fbe3-4dbb-a7df-4c4830391073",
   "metadata": {},
   "outputs": [],
   "source": [
    "set_keys = set()\n",
    "for i in recent_changes:\n",
    "    set_keys.update(list(i.keys()))\n",
    "set_keys;"
   ]
  },
  {
   "cell_type": "code",
   "execution_count": null,
   "id": "2513d0c8-4155-4d14-aadf-5c141301989e",
   "metadata": {},
   "outputs": [],
   "source": [
    "set_keys.update(fields)\n",
    "print(sorted(list(set_keys)))\n",
    "len(set_keys)"
   ]
  }
 ],
 "metadata": {
  "kernelspec": {
   "display_name": "Python 3 (ipykernel)",
   "language": "python",
   "name": "python3"
  },
  "language_info": {
   "codemirror_mode": {
    "name": "ipython",
    "version": 3
   },
   "file_extension": ".py",
   "mimetype": "text/x-python",
   "name": "python",
   "nbconvert_exporter": "python",
   "pygments_lexer": "ipython3",
   "version": "3.9.7"
  }
 },
 "nbformat": 4,
 "nbformat_minor": 5
}
