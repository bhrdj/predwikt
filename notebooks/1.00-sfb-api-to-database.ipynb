{
 "cells": [
  {
   "cell_type": "markdown",
   "id": "56140668-fa5d-4af9-8a97-44102d65da9f",
   "metadata": {},
   "source": [
    "# Data: API➔Database"
   ]
  },
  {
   "cell_type": "markdown",
   "id": "3f3ba624-4764-47c7-9185-8b28992c0afc",
   "metadata": {},
   "source": [
    "Source file headings"
   ]
  },
  {
   "cell_type": "code",
   "execution_count": 6,
   "id": "02f1e185-05a1-4bdb-96c5-fa7f64c9791f",
   "metadata": {
    "tags": []
   },
   "outputs": [],
   "source": [
    "#!/usr/bin/python3\n",
    "\"\"\"\n",
    "    get_recent_changes.py\n",
    "\n",
    "    MediaWiki API Demos\n",
    "    Demo of `RecentChanges` module: Get the three most recent changes with\n",
    "    sizes and flags\n",
    "\n",
    "    MIT License\n",
    "\"\"\";"
   ]
  },
  {
   "cell_type": "code",
   "execution_count": 8,
   "id": "7e61f3c2-b089-49c1-a7b4-a75cf689a968",
   "metadata": {},
   "outputs": [],
   "source": [
    "import requests\n",
    "import pandas as pd\n",
    "import os\n",
    "import datetime\n",
    "import json\n",
    "from sseclient import SSEClient as EventSource\n",
    "\n",
    "os.chdir('/home/bhrdwj/git/predwikt/notebooks/')"
   ]
  },
  {
   "cell_type": "code",
   "execution_count": 100,
   "id": "346d3e1e-9f4d-470d-9969-9a29ec13f6ba",
   "metadata": {},
   "outputs": [],
   "source": [
    "fields = (\n",
    "    ['logid', 'logaction', 'minor', 'userid', 'user', \n",
    "     'logparams', 'rcid', 'pageid', 'old_revid', 'new', \n",
    "     'newlen', 'comment', 'ns', 'timestamp', 'tagstags', \n",
    "     'type', 'title', 'revid', 'logtype', 'oldlen', \n",
    "     'anon']\n",
    ")\n",
    "# print(set(fields))"
   ]
  },
  {
   "cell_type": "code",
   "execution_count": 87,
   "id": "a5b53271-f382-4ac9-89a9-f7fe9657e8fa",
   "metadata": {},
   "outputs": [],
   "source": [
    "import requests\n",
    "\n",
    "S = requests.Session()\n",
    "\n",
    "URL = \"https://en.wikipedia.org/w/api.php\"\n",
    "\n",
    "PARAMS = {\n",
    "    \"rcstart\" :   '2021-11-01T00:10:01Z',\n",
    "    \"rcend\"   :   '2021-11-01T00:20:01Z',\n",
    "    \"rcdir\"   :   'newer',\n",
    "    \"format\": \"json\",\n",
    "    \"rcprop\": \"user|userid|comment|flags|timestamp|title|ids|sizes|redirect|tags|loginfo\",\n",
    "    \"list\": \"recentchanges\",\n",
    "    \"action\": \"query\",\n",
    "    \"rclimit\": \"50\",\n",
    "    \"rcshow\": \"!bot\"\n",
    "}"
   ]
  },
  {
   "cell_type": "code",
   "execution_count": 49,
   "id": "1e563390-892c-4545-ae5b-687c808971d2",
   "metadata": {},
   "outputs": [
    {
     "data": {
      "text/plain": [
       "Index(['lang_EN', 'language', 'abbrev', 'code'], dtype='object')"
      ]
     },
     "execution_count": 49,
     "metadata": {},
     "output_type": "execute_result"
    }
   ],
   "source": [
    "# List of wikipedias is used to filter wikipedia edits out from other wiki projects\n",
    "wkps = pd.read_csv('../data/external/wikipedias.csv').assign(code=lambda x: x.abbrev + 'wiki')\n",
    "wkps.columns"
   ]
  },
  {
   "cell_type": "code",
   "execution_count": 88,
   "id": "8fa49687-efc8-4815-ae2f-0514e1d3919f",
   "metadata": {},
   "outputs": [],
   "source": [
    "# Initialize empty list\n",
    "l=[]\n",
    "raw_output= S.get(url=URL, params=PARAMS)\n",
    "json_data = raw_output.json()\n",
    "recent_changes = json_data['query']['recentchanges']"
   ]
  },
  {
   "cell_type": "code",
   "execution_count": 89,
   "id": "9d23921b-6643-4114-b7b4-2d77254231e7",
   "metadata": {},
   "outputs": [],
   "source": [
    "s = set()\n",
    "for i in recent_changes:\n",
    "    for j in i:\n",
    "        if hasattr(j, \"__len__\") and not isinstance(j, str):\n",
    "            print(j) "
   ]
  },
  {
   "cell_type": "code",
   "execution_count": 90,
   "id": "50dab181-fbe3-4dbb-a7df-4c4830391073",
   "metadata": {},
   "outputs": [
    {
     "data": {
      "text/plain": [
       "{'anon',\n",
       " 'comment',\n",
       " 'logaction',\n",
       " 'logid',\n",
       " 'logparams',\n",
       " 'logtype',\n",
       " 'minor',\n",
       " 'new',\n",
       " 'newlen',\n",
       " 'ns',\n",
       " 'old_revid',\n",
       " 'oldlen',\n",
       " 'pageid',\n",
       " 'rcid',\n",
       " 'revid',\n",
       " 'tags',\n",
       " 'timestamp',\n",
       " 'title',\n",
       " 'type',\n",
       " 'user',\n",
       " 'userid'}"
      ]
     },
     "execution_count": 90,
     "metadata": {},
     "output_type": "execute_result"
    }
   ],
   "source": [
    "s = set()\n",
    "for i in recent_changes:\n",
    "    s.update(list(i.keys()))\n",
    "s"
   ]
  },
  {
   "cell_type": "code",
   "execution_count": 94,
   "id": "2513d0c8-4155-4d14-aadf-5c141301989e",
   "metadata": {},
   "outputs": [
    {
     "name": "stdout",
     "output_type": "stream",
     "text": [
      "['anon', 'comment', 'logaction', 'logid', 'logparams', 'logtype', 'minor', 'new', 'newlen', 'ns', 'old_revid', 'oldlen', 'pageid', 'rcid', 'revid', 'tags', 'timestamp', 'title', 'type', 'user', 'userid']\n"
     ]
    }
   ],
   "source": [
    "s.update(fields)\n",
    "print(sorted(list(s)))"
   ]
  },
  {
   "cell_type": "markdown",
   "id": "a8622bf7-74fb-425f-a10c-09b2d78db3cf",
   "metadata": {},
   "source": [
    "### Get the schema\n",
    "- such that:\n",
    "    - all data from this sample \"l\"\n",
    "    - will fit into the database"
   ]
  },
  {
   "cell_type": "code",
   "execution_count": null,
   "id": "a287119e-67ea-4fdb-9679-83a8f5f80f59",
   "metadata": {},
   "outputs": [],
   "source": []
  },
  {
   "cell_type": "code",
   "execution_count": null,
   "id": "fe280b67-ed00-420e-bd4f-4432d321ce11",
   "metadata": {},
   "outputs": [],
   "source": []
  },
  {
   "cell_type": "code",
   "execution_count": null,
   "id": "2acb4db2-cbc3-474f-8f47-fc1462035ae4",
   "metadata": {},
   "outputs": [],
   "source": []
  },
  {
   "cell_type": "code",
   "execution_count": null,
   "id": "b8799556-99da-46d7-8007-da885d2e90c5",
   "metadata": {},
   "outputs": [],
   "source": [
    "# Define Schema\n",
    "sql_create_table = \"\"\"\n",
    "DROP TABLE IF EXISTS data_raw;\n",
    "\n",
    "CREATE TABLE data_raw(\n",
    "    row_index SERIAL,\n",
    "    time_string char varying(25),\n",
    "    unix_time bigint,\n",
    "    instance char varying(35),\n",
    "    product char varying(5),\n",
    "    username char varying(35),\n",
    "    event char varying(100),\n",
    "    attributes text\n",
    ");\n",
    "\"\"\""
   ]
  },
  {
   "cell_type": "code",
   "execution_count": null,
   "id": "6a95ba34-0014-4689-84ab-70eeecd82e98",
   "metadata": {},
   "outputs": [],
   "source": [
    "# connect to database\n",
    "try:\n",
    "    conn = psycopg2.connect(\"host=\"+dbhost+\" dbname=\"+dbname+\" user=\"+dbuname+\" password=\"+dbpassword)\n",
    "    cur = conn.cursor()\n",
    "except:\n",
    "    print('Database connection error - check creds')"
   ]
  },
  {
   "cell_type": "code",
   "execution_count": null,
   "id": "73bcc848-c3fb-473e-92b8-d96bf1eb5841",
   "metadata": {},
   "outputs": [],
   "source": [
    "%%time\n",
    "# Create table and import data\n",
    "cur.execute(sql_create_table)\n",
    "sql_import = \"COPY data_raw(time_string,unix_time,instance,product,username,event,attributes) FROM STDIN DELIMITER E'\\t';\"\n",
    "cur.copy_expert(sql_import, open('jira_clean.tsv', \"r\",encoding=\"utf8\"))\n",
    "conn.commit()"
   ]
  },
  {
   "cell_type": "code",
   "execution_count": null,
   "id": "a900e675-f0c8-480a-b478-ce704a22332e",
   "metadata": {},
   "outputs": [],
   "source": [
    "# update table to have date \n",
    "sql_calc_table = \"\"\"\n",
    "DROP TABLE IF EXISTS data_prep;\n",
    "\n",
    "CREATE TABLE data_prep as (\n",
    "    select \n",
    "        row_index\n",
    "        , to_timestamp(time_string,'YYYY-MM-DD HH24:MI,MS')::timestamp without time zone as time_parsed\n",
    "        , unix_time\n",
    "        , instance\n",
    "        , username\n",
    "        , event\n",
    "        , attributes\n",
    "    from\n",
    "        data_raw\n",
    ");\n",
    "\"\"\"\n",
    "cur.execute(sql_calc_table)\n",
    "conn.commit()"
   ]
  },
  {
   "cell_type": "code",
   "execution_count": null,
   "id": "f6ef598f-c335-4e9d-a942-3abe4953897a",
   "metadata": {},
   "outputs": [],
   "source": [
    "# Finally, let's instantiate a SQL alchemy engine, so we can pass results sets into pandas and evaluate them here \n",
    "connection_str = 'postgresql+psycopg2://'+dbuname+':'+dbpassword+'@'+dbhost+':'+dbport+'/'+dbname\n",
    "try:\n",
    "    engine1 = sqlalchemy.create_engine(connection_str)\n",
    "    conn1 = engine1.connect()\n",
    "except:\n",
    "    print('Database connection error - check creds')\n",
    "engine1.table_names() # Confirm connection and tables are present as expect"
   ]
  },
  {
   "cell_type": "code",
   "execution_count": null,
   "id": "25e97e02-97cc-4946-b93d-51c7006896b0",
   "metadata": {},
   "outputs": [],
   "source": []
  },
  {
   "cell_type": "code",
   "execution_count": null,
   "id": "3fe64e0b-58ed-4c49-bff6-ae9e86a75707",
   "metadata": {},
   "outputs": [],
   "source": []
  },
  {
   "cell_type": "code",
   "execution_count": null,
   "id": "75e492c8-13ae-497c-a951-47fe351f3289",
   "metadata": {},
   "outputs": [],
   "source": []
  },
  {
   "cell_type": "code",
   "execution_count": 70,
   "id": "f6f4d3f7-1c1f-4227-9913-8c86292276d9",
   "metadata": {},
   "outputs": [
    {
     "name": "stdout",
     "output_type": "stream",
     "text": [
      "2011-11-01 00:00:01\n",
      "2011-11-01T00:00:01Z\n"
     ]
    }
   ],
   "source": [
    "start_date_datetime = datetime.datetime.fromisoformat('2011-11-01T00:00:01')\n",
    "print(start_date_datetime)\n",
    "start_date_string = start_date_datetime.strftime('%Y-%m-%dT%H:%M:%SZ')\n",
    "print(start_date_string)"
   ]
  }
 ],
 "metadata": {
  "kernelspec": {
   "display_name": "Python 3 (ipykernel)",
   "language": "python",
   "name": "python3"
  },
  "language_info": {
   "codemirror_mode": {
    "name": "ipython",
    "version": 3
   },
   "file_extension": ".py",
   "mimetype": "text/x-python",
   "name": "python",
   "nbconvert_exporter": "python",
   "pygments_lexer": "ipython3",
   "version": "3.9.7"
  }
 },
 "nbformat": 4,
 "nbformat_minor": 5
}
