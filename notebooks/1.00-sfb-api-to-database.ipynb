{
 "cells": [
  {
   "cell_type": "markdown",
   "id": "56140668-fa5d-4af9-8a97-44102d65da9f",
   "metadata": {},
   "source": [
    "# Data: API➔Database"
   ]
  },
  {
   "cell_type": "markdown",
   "id": "3f3ba624-4764-47c7-9185-8b28992c0afc",
   "metadata": {},
   "source": [
    "Source file headings"
   ]
  },
  {
   "cell_type": "code",
   "execution_count": 2,
   "id": "02f1e185-05a1-4bdb-96c5-fa7f64c9791f",
   "metadata": {
    "tags": []
   },
   "outputs": [],
   "source": [
    "#!/usr/bin/python3\n",
    "\"\"\"\n",
    "    get_recent_changes.py\n",
    "\n",
    "    MediaWiki API Demos\n",
    "    Demo of `RecentChanges` module: Get the three most recent changes with\n",
    "    sizes and flags\n",
    "\n",
    "    MIT License\n",
    "\"\"\";"
   ]
  },
  {
   "cell_type": "code",
   "execution_count": 46,
   "id": "7e61f3c2-b089-49c1-a7b4-a75cf689a968",
   "metadata": {},
   "outputs": [],
   "source": [
    "import requests\n",
    "import pandas as pd\n",
    "import os\n",
    "import datetime\n",
    "import json\n",
    "from sseclient import SSEClient as EventSource"
   ]
  },
  {
   "cell_type": "code",
   "execution_count": null,
   "id": "a5b53271-f382-4ac9-89a9-f7fe9657e8fa",
   "metadata": {},
   "outputs": [],
   "source": [
    "import requests\n",
    "\n",
    "S = requests.Session()\n",
    "\n",
    "URL = \"https://en.wikipedia.org/w/api.php\"\n",
    "\n",
    "PARAMS = {\n",
    "    \"rcstart\" : '2021-11-01T00:00:01Z',\n",
    "    \"format\": \"json\",\n",
    "    \"rcprop\": \"title|ids|sizes|flags|user\",\n",
    "    \"list\": \"recentchanges\",\n",
    "    \"action\": \"query\",\n",
    "    \"rclimit\": \"50\"\n",
    "}"
   ]
  },
  {
   "cell_type": "code",
   "execution_count": 71,
   "id": "1e563390-892c-4545-ae5b-687c808971d2",
   "metadata": {},
   "outputs": [
    {
     "data": {
      "text/plain": [
       "Index(['lang_EN', 'language', 'abbrev', 'code'], dtype='object')"
      ]
     },
     "execution_count": 71,
     "metadata": {},
     "output_type": "execute_result"
    }
   ],
   "source": [
    "# List of wikipedias is used to filter wikipedia edits out from other wiki projects\n",
    "wkps = pd.read_csv('../data/wikipedias.csv').assign(code=lambda x: x.abbrev + 'wiki')\n",
    "wkps.columns"
   ]
  },
  {
   "cell_type": "code",
   "execution_count": null,
   "id": "b35bf06e-42ae-4ff4-aeb6-42f00e74388b",
   "metadata": {},
   "outputs": [],
   "source": []
  },
  {
   "cell_type": "code",
   "execution_count": 86,
   "id": "8fa49687-efc8-4815-ae2f-0514e1d3919f",
   "metadata": {},
   "outputs": [
    {
     "name": "stdout",
     "output_type": "stream",
     "text": [
      "on frwiki, LeFit edited Catégorie:Article contenant un appel à traduction en allemand: unknown # of chars.\n",
      "on bgwiki, Rartat edited Иван Панфилов: 567 chars.\n",
      "on viwiki, Nguyenquanghai19 edited Danh sách trò chơi Game Boy Color: -73 chars.\n",
      "on idwiki, Radit Jibril Irawan edited Kategori:Semua artikel rintisan November 2021: unknown # of chars.\n",
      "on enwiki, Gerda Arendt edited Template:Did you know nominations/Reginald Green (economist): 790 chars.\n",
      "on trwiki, Blue800 edited Aziz (dizi): 0 chars.\n",
      "on frwiki, Martin-78 edited Discussion utilisateur:84.226.190.202: unknown # of chars.\n",
      "on jawiki, Iceandsnow7 edited Netflixオリジナル映画の一覧: -294 chars.\n",
      "on idwiki, Radit Jibril Irawan edited Kategori:Semua artikel rintisan Oktober 2021: unknown # of chars.\n",
      "on mywiki, Dr Lotus Black edited မဟာဗောဓိညောင်ပင်: 113 chars.\n",
      "on eswiki, Copydays edited Conflicto de Baluchistán: 134 chars.\n",
      "on hrwiki, Bibliotekacs edited Suradnik:Bibliotekacs/OER: 61 chars.\n",
      "on enwiki, Gardenkur edited Abhayapuri South (Vidhan Sabha constituency): 4 chars.\n",
      "on mywiki, Dr Lotus Black edited ကဏ္ဍ:ဗုဒ္ဓဘာသာ ကျမ်းစာများရှိ အပင်များ: unknown # of chars.\n",
      "on hrwiki, 86.32.35.206 edited Gradski stadion Poljud: -183 chars.\n",
      "on eswiki, Términus edited Ofensiva Leópolis-Sandomierz: -29 chars.\n",
      "on enwiki, Nigej edited Pierfrancesco Garzia: 35 chars.\n",
      "on frwiki, Martin-78 edited Matrix Resurrections: 2 chars.\n",
      "on enwiki, Masato.harada edited Mona Lisa (1986 film): 43 chars.\n",
      "on eswiki, Copydays edited Categoría:Relaciones Afganistán-Irán: unknown # of chars.\n",
      "on eswiki, Copydays edited Categoría:Relaciones Afganistán-Pakistán: unknown # of chars.\n",
      "on eswiki, Copydays edited Categoría:Relaciones Irán-Pakistán: unknown # of chars.\n",
      "on thwiki, Ahcuna edited แม่แบบ:Taxonomy/Diphyllocalyx: unknown # of chars.\n",
      "on enwiki, Stbobos edited User:Stbobos: unknown # of chars.\n",
      "on enwiki, Nigej edited Category:Orphaned articles from November 2021: unknown # of chars.\n",
      "on enwiki, Nigej edited Category:All orphaned articles: unknown # of chars.\n",
      "on dewiki, Gial Ackbar edited Wikipedia:Meinungsbilder/Verbot von Auftragsarbeiten durch PR-Dienstleister: 195 chars.\n",
      "on enwiki, 2601:648:8900:3B10:42F:1ACC:22E8:DF27 edited 2021 Las Vegas Raiders season: 0 chars.\n",
      "on thwiki, Ahcuna edited หมวดหมู่:หน้าที่ไม่มีดัชนี: unknown # of chars.\n",
      "on thwiki, Ahcuna edited หมวดหมู่:แม่แบบอนุกรมวิธาน: unknown # of chars.\n",
      "on thwiki, Ahcuna edited หมวดหมู่:แม่แบบอนุกรมวิธานยังไม่ได้เชื่อมต่อกับวิกิสนเทศ: unknown # of chars.\n",
      "on svwiki, Kitayama edited Jar-e Takhrabat: unknown # of chars.\n",
      "on enwiki, Dux Falco edited User:Dux Falco: unknown # of chars.\n",
      "on thwiki, TUTCHAI SIRISUMPAN edited ผู้ใช้:Eddie SIRISUMPAN: unknown # of chars.\n",
      "on jawiki, ソラとユキ edited 恋する寄生虫: 613 chars.\n",
      "on enwiki, ShelfSkewed edited Arben Kucana: 16 chars.\n",
      "on enwiki, Yakme edited Milan: -723 chars.\n",
      "on itwiki, Facquis edited Milano: -880 chars.\n",
      "on enwiki, Nigej edited Quinten Hann: -39 chars.\n",
      "on dawiki, 85.27.186.166 edited Dansk jul: unknown # of chars.\n",
      "on rowiki, Lucian GAVRILA edited Discuție:Muze: unknown # of chars.\n",
      "on dawiki, 85.27.186.166 edited Dansk jul: 16 chars.\n",
      "on siwiki, Mili977 edited ත්‍රිපුර සුන්දරී: 1817 chars.\n",
      "on enwiki, Polyamorph edited List of Nobel laureates affiliated with Cornell University: unknown # of chars.\n",
      "on crhwiki, VolnyiLev edited Şablon:Jıtomır vilâyetindeki meskün yerler: -363 chars.\n",
      "on ukwiki, Chickensaurus edited After Forever (пісня): 0 chars.\n",
      "on bgwiki, Alexander.D.Hristov edited Аврора (бронепалубен крайцер, 1900): 7 chars.\n",
      "on plwiki, 2A02:A315:6239:9780:C160:A924:A1F7:C10E edited Mali Einsteini: -171 chars.\n",
      "on svwiki, Kitayama edited Jar-e Takhrabāț: unknown # of chars.\n",
      "on dewiki, YourEyesOnly edited Strukturpolitik: -7 chars.\n",
      "on frwiki, Martin-78 edited Discussion utilisateur:BoxeFrance9393: 1383 chars.\n",
      "on viwiki, Nguyenmy2302 edited Lâm Thủy: unknown # of chars.\n",
      "on frwiki, Arhtas01 edited Jacky (animateur): 0 chars.\n",
      "on enwiki, Usedtobecool edited List of Lok Sabha members from Karnataka: unknown # of chars.\n",
      "on enwiki, Usedtobecool edited List of Lok Sabha members from Karnataka: unknown # of chars.\n",
      "on ruwiki, Ульяна 9 edited Дмитренко, Алексей Леонидович: 493 chars.\n",
      "on srwiki, 178.149.64.246 edited Келти: -4 chars.\n",
      "on frwiki, 41.97.69.80 edited Jeunesse Sportive Madinet Tlemcen: 1 chars.\n",
      "on enwiki, 41.168.8.36 edited PnL Explained: 1 chars.\n",
      "on enwiki, 45.115.73.58 edited Oecusse Airport: 147 chars.\n",
      "on arwiki, Maher27777 edited روبن هود (توضيح): 75 chars.\n",
      "on enwiki, Simeon edited Orrin Holt: 56 chars.\n",
      "on dewiki, 109.40.242.103 edited Gary Gilmore: 92 chars.\n",
      "on kowiki, 2001:E60:3169:2BD5:A752:F11A:CD58:6212 edited 모범택시: 3 chars.\n",
      "on fiwiki, 62.197.165.146 edited Oraakkeliluukirjoitukset: unknown # of chars.\n",
      "on fiwiki, 62.197.165.146 edited Oraakkeliluukirjoitukset: unknown # of chars.\n",
      "on bgwiki, Svetko2203 edited Свищов: -6 chars.\n",
      "on enwiki, 68.99.185.251 edited List of IMAX venues: 707 chars.\n",
      "on enwiki, Simeon edited Category:Articles with short description: unknown # of chars.\n",
      "on enwiki, Simeon edited Category:Short description is different from Wikidata: unknown # of chars.\n",
      "on frwiki, Martin-78 edited Youssef SLIMANE: unknown # of chars.\n",
      "on dewiki, John Red edited Arnošt Muka: 19 chars.\n",
      "on enwiki, 176.251.182.31 edited Intercooler: 0 chars.\n",
      "on enwiki, Nigej edited R Umadevi Nagaraj: -42 chars.\n",
      "on fiwiki, 91.154.178.183 edited Kanellapuut: 1 chars.\n",
      "on zhwiki, Wwoo22 edited 小河公主: 0 chars.\n",
      "on bgwiki, Rumensz edited Мис таен агент 2: Въоръжена и прекрасна: 5 chars.\n",
      "on tewiki, Ch Maheswara Raju edited దృశ్యం 2: 49 chars.\n",
      "on enwiki, Usedtobecool edited List of Lok Sabha members from Karnataka: 38 chars.\n",
      "on fiwiki, 91.154.178.183 edited Luokka:Small-elementtiä käyttävät tietolaatikot: unknown # of chars.\n",
      "on enwiki, Usedtobecool edited List of Lok Sabha members from Karnataka: unknown # of chars.\n",
      "on dewiki, John Red edited Kategorie:Korrespondierendes Mitglied der Russischen Akademie der Wissenschaften: unknown # of chars.\n",
      "on dewiki, John Red edited Kategorie:Mitglied der Russischen Akademie der Wissenschaften: unknown # of chars.\n",
      "on ruwiki, QBA-II-bot edited Википедия:Страницы с похожими названиями/12 ноября 2021: 21125 chars.\n",
      "on enwiki, Marcocapelle edited History of narcissism: 12 chars.\n"
     ]
    }
   ],
   "source": [
    "# Set a start and end time to timebox data catching\n",
    "now = datetime.datetime.now()\n",
    "stop = now + datetime.timedelta(0,20)\n",
    "\n",
    "# Initialize empty list\n",
    "l=[]\n",
    "\n",
    "url = 'https://stream.wikimedia.org/v2/stream/recentchange'\n",
    "for event in EventSource(url):\n",
    "    if datetime.datetime.now() > stop:\n",
    "        break\n",
    "    if event.event == 'message':\n",
    "        try: \n",
    "            change = json.loads(event.data)\n",
    "        except ValueError: \n",
    "            pass\n",
    "        else:\n",
    "            if (change['bot']==False) and (change['wiki'] in wkps.code.values):\n",
    "                l.append(change)\n",
    "                try:\n",
    "                    chars_changed = change['length']['new'] - change['length']['old']\n",
    "                except KeyError:\n",
    "                    chars_changed = 'unknown # of'\n",
    "                print('on {wiki}, {user} edited {title}: '.format(**change) +\n",
    "                      f'{chars_changed} chars.')\n",
    "                "
   ]
  },
  {
   "cell_type": "markdown",
   "id": "a8622bf7-74fb-425f-a10c-09b2d78db3cf",
   "metadata": {},
   "source": [
    "### Get the schema\n",
    "- such that:\n",
    "    - all data from this sample \"l\"\n",
    "    - will fit into the database"
   ]
  },
  {
   "cell_type": "code",
   "execution_count": 93,
   "id": "40a29002-78a4-4d27-9597-4ba64cdbf595",
   "metadata": {},
   "outputs": [
    {
     "data": {
      "text/plain": [
       "{'$schema': '/mediawiki/recentchange/1.0.0',\n",
       " 'meta': {'uri': 'https://fr.wikipedia.org/wiki/Cat%C3%A9gorie:Article_contenant_un_appel_%C3%A0_traduction_en_allemand',\n",
       "  'request_id': '1b6212ee-e650-41fe-a014-08cf840d565a',\n",
       "  'id': '50028f1f-96ba-4af8-8376-ab8a6f059c90',\n",
       "  'dt': '2021-11-12T08:13:52Z',\n",
       "  'domain': 'fr.wikipedia.org',\n",
       "  'stream': 'mediawiki.recentchange',\n",
       "  'topic': 'eqiad.mediawiki.recentchange',\n",
       "  'partition': 0,\n",
       "  'offset': 3428064477},\n",
       " 'id': 452932834,\n",
       " 'type': 'categorize',\n",
       " 'namespace': 14,\n",
       " 'title': 'Catégorie:Article contenant un appel à traduction en allemand',\n",
       " 'comment': '[[:Orsten Groom]] ajoutée à la catégorie',\n",
       " 'timestamp': 1636704832,\n",
       " 'user': 'LeFit',\n",
       " 'bot': False,\n",
       " 'server_url': 'https://fr.wikipedia.org',\n",
       " 'server_name': 'fr.wikipedia.org',\n",
       " 'server_script_path': '/w',\n",
       " 'wiki': 'frwiki',\n",
       " 'parsedcomment': '<a href=\"/wiki/Orsten_Groom\" title=\"Orsten Groom\">Orsten Groom</a> ajoutée à la catégorie'}"
      ]
     },
     "execution_count": 93,
     "metadata": {},
     "output_type": "execute_result"
    }
   ],
   "source": [
    "l[0]"
   ]
  },
  {
   "cell_type": "code",
   "execution_count": null,
   "id": "a287119e-67ea-4fdb-9679-83a8f5f80f59",
   "metadata": {},
   "outputs": [],
   "source": []
  },
  {
   "cell_type": "code",
   "execution_count": null,
   "id": "fe280b67-ed00-420e-bd4f-4432d321ce11",
   "metadata": {},
   "outputs": [],
   "source": []
  },
  {
   "cell_type": "code",
   "execution_count": null,
   "id": "2acb4db2-cbc3-474f-8f47-fc1462035ae4",
   "metadata": {},
   "outputs": [],
   "source": []
  },
  {
   "cell_type": "code",
   "execution_count": null,
   "id": "b8799556-99da-46d7-8007-da885d2e90c5",
   "metadata": {},
   "outputs": [],
   "source": [
    "# Define Schema\n",
    "sql_create_table = \"\"\"\n",
    "DROP TABLE IF EXISTS data_raw;\n",
    "\n",
    "CREATE TABLE data_raw(\n",
    "    row_index SERIAL,\n",
    "    time_string char varying(25),\n",
    "    unix_time bigint,\n",
    "    instance char varying(35),\n",
    "    product char varying(5),\n",
    "    username char varying(35),\n",
    "    event char varying(100),\n",
    "    attributes text\n",
    ");\n",
    "\"\"\""
   ]
  },
  {
   "cell_type": "code",
   "execution_count": null,
   "id": "6a95ba34-0014-4689-84ab-70eeecd82e98",
   "metadata": {},
   "outputs": [],
   "source": [
    "# connect to database\n",
    "try:\n",
    "    conn = psycopg2.connect(\"host=\"+dbhost+\" dbname=\"+dbname+\" user=\"+dbuname+\" password=\"+dbpassword)\n",
    "    cur = conn.cursor()\n",
    "except:\n",
    "    print('Database connection error - check creds')"
   ]
  },
  {
   "cell_type": "code",
   "execution_count": null,
   "id": "73bcc848-c3fb-473e-92b8-d96bf1eb5841",
   "metadata": {},
   "outputs": [],
   "source": [
    "%%time\n",
    "# Create table and import data\n",
    "cur.execute(sql_create_table)\n",
    "sql_import = \"COPY data_raw(time_string,unix_time,instance,product,username,event,attributes) FROM STDIN DELIMITER E'\\t';\"\n",
    "cur.copy_expert(sql_import, open('jira_clean.tsv', \"r\",encoding=\"utf8\"))\n",
    "conn.commit()"
   ]
  },
  {
   "cell_type": "code",
   "execution_count": null,
   "id": "a900e675-f0c8-480a-b478-ce704a22332e",
   "metadata": {},
   "outputs": [],
   "source": [
    "# update table to have date \n",
    "sql_calc_table = \"\"\"\n",
    "DROP TABLE IF EXISTS data_prep;\n",
    "\n",
    "CREATE TABLE data_prep as (\n",
    "    select \n",
    "        row_index\n",
    "        , to_timestamp(time_string,'YYYY-MM-DD HH24:MI,MS')::timestamp without time zone as time_parsed\n",
    "        , unix_time\n",
    "        , instance\n",
    "        , username\n",
    "        , event\n",
    "        , attributes\n",
    "    from\n",
    "        data_raw\n",
    ");\n",
    "\"\"\"\n",
    "cur.execute(sql_calc_table)\n",
    "conn.commit()"
   ]
  },
  {
   "cell_type": "code",
   "execution_count": null,
   "id": "f6ef598f-c335-4e9d-a942-3abe4953897a",
   "metadata": {},
   "outputs": [],
   "source": [
    "# Finally, let's instantiate a SQL alchemy engine, so we can pass results sets into pandas and evaluate them here \n",
    "connection_str = 'postgresql+psycopg2://'+dbuname+':'+dbpassword+'@'+dbhost+':'+dbport+'/'+dbname\n",
    "try:\n",
    "    engine1 = sqlalchemy.create_engine(connection_str)\n",
    "    conn1 = engine1.connect()\n",
    "except:\n",
    "    print('Database connection error - check creds')\n",
    "engine1.table_names() # Confirm connection and tables are present as expect"
   ]
  },
  {
   "cell_type": "code",
   "execution_count": null,
   "id": "25e97e02-97cc-4946-b93d-51c7006896b0",
   "metadata": {},
   "outputs": [],
   "source": []
  },
  {
   "cell_type": "code",
   "execution_count": null,
   "id": "3fe64e0b-58ed-4c49-bff6-ae9e86a75707",
   "metadata": {},
   "outputs": [],
   "source": []
  },
  {
   "cell_type": "code",
   "execution_count": null,
   "id": "75e492c8-13ae-497c-a951-47fe351f3289",
   "metadata": {},
   "outputs": [],
   "source": []
  },
  {
   "cell_type": "code",
   "execution_count": 70,
   "id": "f6f4d3f7-1c1f-4227-9913-8c86292276d9",
   "metadata": {},
   "outputs": [
    {
     "name": "stdout",
     "output_type": "stream",
     "text": [
      "2011-11-01 00:00:01\n",
      "2011-11-01T00:00:01Z\n"
     ]
    }
   ],
   "source": [
    "start_date_datetime = datetime.datetime.fromisoformat('2011-11-01T00:00:01')\n",
    "print(start_date_datetime)\n",
    "start_date_string = start_date_datetime.strftime('%Y-%m-%dT%H:%M:%SZ')\n",
    "print(start_date_string)"
   ]
  }
 ],
 "metadata": {
  "kernelspec": {
   "display_name": "Python 3 (ipykernel)",
   "language": "python",
   "name": "python3"
  },
  "language_info": {
   "codemirror_mode": {
    "name": "ipython",
    "version": 3
   },
   "file_extension": ".py",
   "mimetype": "text/x-python",
   "name": "python",
   "nbconvert_exporter": "python",
   "pygments_lexer": "ipython3",
   "version": "3.9.7"
  }
 },
 "nbformat": 4,
 "nbformat_minor": 5
}
