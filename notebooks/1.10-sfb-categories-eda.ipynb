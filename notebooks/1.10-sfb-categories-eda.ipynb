{
 "cells": [
  {
   "cell_type": "markdown",
   "id": "edb8774d-9f81-4127-8ebc-7408180ebd4b",
   "metadata": {},
   "source": [
    "# Get categories"
   ]
  },
  {
   "cell_type": "markdown",
   "id": "60c9e05b-e678-4ba3-acfa-020270c32a35",
   "metadata": {
    "tags": []
   },
   "source": [
    "## Setup"
   ]
  },
  {
   "cell_type": "markdown",
   "id": "0b20650e-6b3d-41f9-9fa7-b8c82e21442e",
   "metadata": {
    "tags": []
   },
   "source": [
    "### Imports"
   ]
  },
  {
   "cell_type": "code",
   "execution_count": 5,
   "id": "90739fb0-0501-4999-9a1b-3410d26f98f2",
   "metadata": {},
   "outputs": [],
   "source": [
    "import os\n",
    "from pathlib import Path\n",
    "import pandas as pd\n",
    "import psycopg2\n",
    "import mysql.connector as mysql\n",
    "\n",
    "import subprocess"
   ]
  },
  {
   "cell_type": "code",
   "execution_count": 6,
   "id": "fc9bc41e-704a-4724-a222-c1a963faa3a9",
   "metadata": {},
   "outputs": [],
   "source": [
    "home_path = str(Path.home())\n",
    "os.chdir(home_path + '/git/predwikt/notebooks')"
   ]
  },
  {
   "cell_type": "markdown",
   "id": "4595a095-5d44-41a0-93d8-a74f914bd195",
   "metadata": {
    "tags": []
   },
   "source": [
    "### Initialize in bash"
   ]
  },
  {
   "cell_type": "markdown",
   "id": "95edc2a8-4538-4ffc-9a2f-3dc487a15308",
   "metadata": {
    "tags": []
   },
   "source": [
    "#### Initialize mysql manually in bash"
   ]
  },
  {
   "cell_type": "markdown",
   "id": "fad6e179-87b4-41cd-bc26-7404e65f8f41",
   "metadata": {},
   "source": [
    "**bash**\n",
    "```bash\n",
    "sudo service mysqld stop\n",
    "\n",
    "sudo service mysqld start\n",
    "```\n",
    "(I had to use mysqld not mysql: [link](https://stackoverflow.com/questions/11990708/error-cant-connect-to-local-mysql-server-through-socket-var-run-mysqld-mysq))"
   ]
  },
  {
   "cell_type": "markdown",
   "id": "1b9d4af0-b89f-4889-b6f7-780c295a2f1b",
   "metadata": {
    "tags": []
   },
   "source": [
    "#### Check sql is running"
   ]
  },
  {
   "cell_type": "markdown",
   "id": "d45fbf5f-39f1-4901-9445-bea394591c23",
   "metadata": {},
   "source": [
    "**bash**\n",
    "```bash\n",
    "netstat -lnp | grep mysql\n",
    "```"
   ]
  },
  {
   "cell_type": "markdown",
   "id": "6203b48d-0dd2-42af-a55f-57b93b96620f",
   "metadata": {
    "tags": []
   },
   "source": [
    "### Starting mysql.connect"
   ]
  },
  {
   "cell_type": "markdown",
   "id": "126cd2bb-63f4-478a-9488-e35c16dc820c",
   "metadata": {
    "tags": []
   },
   "source": [
    "#### Get passwords for mysql.connect"
   ]
  },
  {
   "cell_type": "code",
   "execution_count": 3,
   "id": "d3ab41d7-ef60-41ac-a094-246fa6ea1715",
   "metadata": {},
   "outputs": [],
   "source": [
    "mysql_superuser = 'root'\n",
    "# mysql_su_pass = input(f'Enter the MySQL password for user {mysql_superuser}: ')"
   ]
  },
  {
   "cell_type": "code",
   "execution_count": 66,
   "id": "61fdfb8a-866d-496e-9f2d-30e7c6f732c0",
   "metadata": {},
   "outputs": [],
   "source": [
    "pg_superuser = 'postgres'\n",
    "# pg_su_pass = input(f'Enter the PostgreSQL password for user {pg_superuser}: ')"
   ]
  },
  {
   "cell_type": "code",
   "execution_count": 90,
   "id": "009a2472-b5cd-45bf-b976-7446e614d11d",
   "metadata": {},
   "outputs": [],
   "source": [
    "mysql_defaultuser = 'bhrdwj'\n",
    "# mysql_def_pass = input(f'Enter the MySQL password for user {mysql_defaultuser}: ')\n",
    "pg_defaultuser = 'bhrdwj'\n",
    "# pg_def_pass = input(f'Enter the PostgreSQL password for user {pg_defaultuser}: ')"
   ]
  },
  {
   "cell_type": "markdown",
   "id": "c85f3f63-3296-4ccd-a538-f3bb2c2873b3",
   "metadata": {
    "tags": []
   },
   "source": [
    "#### Connect mysql.connect to mysql"
   ]
  },
  {
   "cell_type": "code",
   "execution_count": 26,
   "id": "6527dec4-9490-4ac3-9bd9-a04144a24344",
   "metadata": {},
   "outputs": [],
   "source": [
    "db_mysql = mysql.connect(\n",
    "    host = \"localhost\",\n",
    "    user = \"root\",\n",
    "    passwd = mysql_su_pass,\n",
    "    database='latest_categorylinks' # not the first time around\n",
    ")"
   ]
  },
  {
   "cell_type": "markdown",
   "id": "5224f09b-15bf-43b8-ad99-35efd7b6b90a",
   "metadata": {
    "tags": []
   },
   "source": [
    "#### Initialize a cursor"
   ]
  },
  {
   "cell_type": "code",
   "execution_count": 27,
   "id": "e89fe306-3823-4cc7-bb38-707837ec524f",
   "metadata": {},
   "outputs": [],
   "source": [
    "cur_mysql = db_mysql.cursor()"
   ]
  },
  {
   "cell_type": "markdown",
   "id": "be555853-8964-40e0-8cba-0d0064a29566",
   "metadata": {
    "tags": []
   },
   "source": [
    "#### Check current user"
   ]
  },
  {
   "cell_type": "code",
   "execution_count": 15,
   "id": "d7ee6af5-5698-416a-9f79-687a9c9afc9d",
   "metadata": {},
   "outputs": [
    {
     "data": {
      "text/plain": [
       "[('root@localhost',)]"
      ]
     },
     "execution_count": 15,
     "metadata": {},
     "output_type": "execute_result"
    }
   ],
   "source": [
    "cur_mysql.execute('select user();')\n",
    "cur_mysql.fetchall()"
   ]
  },
  {
   "cell_type": "code",
   "execution_count": 16,
   "id": "72a35b6a-2ae9-44c6-8011-ef19e5907c04",
   "metadata": {},
   "outputs": [
    {
     "data": {
      "text/plain": [
       "[('latest_categorylinks',)]"
      ]
     },
     "execution_count": 16,
     "metadata": {},
     "output_type": "execute_result"
    }
   ],
   "source": [
    "cur_mysql.execute('select database();')\n",
    "cur_mysql.fetchall()"
   ]
  },
  {
   "cell_type": "code",
   "execution_count": 17,
   "id": "959ac4dd-3d43-48a8-bdfb-ac9452e14a4f",
   "metadata": {},
   "outputs": [
    {
     "data": {
      "text/plain": [
       "[('categorylinks',)]"
      ]
     },
     "execution_count": 17,
     "metadata": {},
     "output_type": "execute_result"
    }
   ],
   "source": [
    "cur_mysql.execute('show tables;')\n",
    "cur_mysql.fetchall()"
   ]
  },
  {
   "cell_type": "code",
   "execution_count": 18,
   "id": "c11840db-1e0e-4f02-a848-79af9b653928",
   "metadata": {},
   "outputs": [],
   "source": [
    "cur_mysql.execute('DESCRIBE categorylinks;')\n",
    "schema = pd.DataFrame(cur_mysql.fetchall(), columns=['Field','Type','Null','Key','Default','Extra'])"
   ]
  },
  {
   "cell_type": "code",
   "execution_count": 19,
   "id": "2927d5ae-e707-43f2-b536-464f3502d7cb",
   "metadata": {},
   "outputs": [],
   "source": [
    "# schema.to_csv('../data/raw/schemas/schema_enwiki-categorylinks.csv')"
   ]
  },
  {
   "cell_type": "code",
   "execution_count": 20,
   "id": "a2f16684-562c-460d-9ebb-1cf5c186fdf8",
   "metadata": {},
   "outputs": [
    {
     "data": {
      "text/html": [
       "<div>\n",
       "<style scoped>\n",
       "    .dataframe tbody tr th:only-of-type {\n",
       "        vertical-align: middle;\n",
       "    }\n",
       "\n",
       "    .dataframe tbody tr th {\n",
       "        vertical-align: top;\n",
       "    }\n",
       "\n",
       "    .dataframe thead th {\n",
       "        text-align: right;\n",
       "    }\n",
       "</style>\n",
       "<table border=\"1\" class=\"dataframe\">\n",
       "  <thead>\n",
       "    <tr style=\"text-align: right;\">\n",
       "      <th></th>\n",
       "      <th>Field</th>\n",
       "      <th>Type</th>\n",
       "      <th>Null</th>\n",
       "      <th>Key</th>\n",
       "      <th>Default</th>\n",
       "      <th>Extra</th>\n",
       "    </tr>\n",
       "  </thead>\n",
       "  <tbody>\n",
       "    <tr>\n",
       "      <th>0</th>\n",
       "      <td>cl_from</td>\n",
       "      <td>int(8) unsigned</td>\n",
       "      <td>NO</td>\n",
       "      <td>PRI</td>\n",
       "      <td>0</td>\n",
       "      <td></td>\n",
       "    </tr>\n",
       "    <tr>\n",
       "      <th>1</th>\n",
       "      <td>cl_to</td>\n",
       "      <td>varbinary(255)</td>\n",
       "      <td>NO</td>\n",
       "      <td>PRI</td>\n",
       "      <td></td>\n",
       "      <td></td>\n",
       "    </tr>\n",
       "    <tr>\n",
       "      <th>2</th>\n",
       "      <td>cl_sortkey</td>\n",
       "      <td>varbinary(230)</td>\n",
       "      <td>NO</td>\n",
       "      <td></td>\n",
       "      <td></td>\n",
       "      <td></td>\n",
       "    </tr>\n",
       "    <tr>\n",
       "      <th>3</th>\n",
       "      <td>cl_timestamp</td>\n",
       "      <td>timestamp</td>\n",
       "      <td>NO</td>\n",
       "      <td></td>\n",
       "      <td>current_timestamp()</td>\n",
       "      <td>on update current_timestamp()</td>\n",
       "    </tr>\n",
       "    <tr>\n",
       "      <th>4</th>\n",
       "      <td>cl_sortkey_prefix</td>\n",
       "      <td>varbinary(255)</td>\n",
       "      <td>NO</td>\n",
       "      <td></td>\n",
       "      <td></td>\n",
       "      <td></td>\n",
       "    </tr>\n",
       "    <tr>\n",
       "      <th>5</th>\n",
       "      <td>cl_collation</td>\n",
       "      <td>varbinary(32)</td>\n",
       "      <td>NO</td>\n",
       "      <td>MUL</td>\n",
       "      <td></td>\n",
       "      <td></td>\n",
       "    </tr>\n",
       "    <tr>\n",
       "      <th>6</th>\n",
       "      <td>cl_type</td>\n",
       "      <td>enum('page','subcat','file')</td>\n",
       "      <td>NO</td>\n",
       "      <td></td>\n",
       "      <td>page</td>\n",
       "      <td></td>\n",
       "    </tr>\n",
       "  </tbody>\n",
       "</table>\n",
       "</div>"
      ],
      "text/plain": [
       "               Field                          Type Null  Key  \\\n",
       "0            cl_from               int(8) unsigned   NO  PRI   \n",
       "1              cl_to                varbinary(255)   NO  PRI   \n",
       "2         cl_sortkey                varbinary(230)   NO        \n",
       "3       cl_timestamp                     timestamp   NO        \n",
       "4  cl_sortkey_prefix                varbinary(255)   NO        \n",
       "5       cl_collation                 varbinary(32)   NO  MUL   \n",
       "6            cl_type  enum('page','subcat','file')   NO        \n",
       "\n",
       "               Default                          Extra  \n",
       "0                    0                                 \n",
       "1                                                      \n",
       "2                                                      \n",
       "3  current_timestamp()  on update current_timestamp()  \n",
       "4                                                      \n",
       "5                                                      \n",
       "6                 page                                 "
      ]
     },
     "execution_count": 20,
     "metadata": {},
     "output_type": "execute_result"
    }
   ],
   "source": [
    "schema"
   ]
  },
  {
   "cell_type": "markdown",
   "id": "fc7a53f9-52a3-4df9-8768-e91c1c177ada",
   "metadata": {},
   "source": [
    "## categorylinks EDA"
   ]
  },
  {
   "cell_type": "code",
   "execution_count": 28,
   "id": "c1f4ee5a-e51c-4302-b607-f4c06d517c24",
   "metadata": {},
   "outputs": [
    {
     "data": {
      "text/plain": [
       "[(10,\n",
       "  bytearray(b'Redirects_from_moves'),\n",
       "  bytearray(b'*..2NN:,@2.FBHRP:D6\\x01\\x17\\x01\\xdc\\xbd\\xdc\\x0c'),\n",
       "  datetime.datetime(2014, 10, 26, 12, 50, 23),\n",
       "  bytearray(b''),\n",
       "  bytearray(b'uca-default-u-kn'),\n",
       "  bytearray(b'page')),\n",
       " (10,\n",
       "  bytearray(b'Redirects_with_old_history'),\n",
       "  bytearray(b'*..2NN:,@2.FBHRP:D6\\x01\\x17\\x01\\xdc\\xbd\\xdc\\x0c'),\n",
       "  datetime.datetime(2010, 8, 27, 6, 38, 36),\n",
       "  bytearray(b''),\n",
       "  bytearray(b'uca-default-u-kn'),\n",
       "  bytearray(b'page')),\n",
       " (10,\n",
       "  bytearray(b'Unprintworthy_redirects'),\n",
       "  bytearray(b'*..2NN:,@2.FBHRP:D6\\x01\\x17\\x01\\xdc\\xbd\\xdc\\x0c'),\n",
       "  datetime.datetime(2010, 8, 27, 6, 38, 36),\n",
       "  bytearray(b''),\n",
       "  bytearray(b'uca-default-u-kn'),\n",
       "  bytearray(b'page')),\n",
       " (12,\n",
       "  bytearray(b'All_articles_lacking_reliable_references'),\n",
       "  bytearray(b'*D*L.8:NB\\x01\\r\\x01\\xdc\\x0c'),\n",
       "  datetime.datetime(2021, 8, 12, 10, 6, 39),\n",
       "  bytearray(b''),\n",
       "  bytearray(b'uca-default-u-kn'),\n",
       "  bytearray(b'page')),\n",
       " (12,\n",
       "  bytearray(b'Anarchism'),\n",
       "  bytearray(b'\\x04\\x03\\x06*D*L.8:NB\\x01\\x0f\\x01\\xc4\\xdc\\x0c'),\n",
       "  datetime.datetime(2020, 1, 23, 21, 27, 44),\n",
       "  bytearray(b' '),\n",
       "  bytearray(b'uca-default-u-kn'),\n",
       "  bytearray(b'page'))]"
      ]
     },
     "execution_count": 28,
     "metadata": {},
     "output_type": "execute_result"
    }
   ],
   "source": [
    "cur_mysql.execute('SELECT * FROM categorylinks LIMIT 5;')\n",
    "cur_mysql.fetchall()"
   ]
  }
 ],
 "metadata": {
  "kernelspec": {
   "display_name": "Python 3 (ipykernel)",
   "language": "python",
   "name": "python3"
  },
  "language_info": {
   "codemirror_mode": {
    "name": "ipython",
    "version": 3
   },
   "file_extension": ".py",
   "mimetype": "text/x-python",
   "name": "python",
   "nbconvert_exporter": "python",
   "pygments_lexer": "ipython3",
   "version": "3.9.7"
  }
 },
 "nbformat": 4,
 "nbformat_minor": 5
}
