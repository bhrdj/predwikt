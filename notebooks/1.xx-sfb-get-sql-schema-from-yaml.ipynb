{
 "cells": [
  {
   "cell_type": "code",
   "execution_count": 46,
   "id": "c816bdf9-6706-4116-ac2e-c18177f7fdbc",
   "metadata": {},
   "outputs": [],
   "source": [
    "# import sqlathanor\n",
    "import pandas as pd\n",
    "import os\n",
    "import json\n",
    "\n",
    "os.chdir('/home/bhrdwj/git/predwikt/notebooks/')"
   ]
  },
  {
   "cell_type": "code",
   "execution_count": null,
   "id": "d788e0a4-4060-44ba-8dd4-660fa6f45e5f",
   "metadata": {},
   "outputs": [],
   "source": [
    "# my_table = sqlathanor.Table.from_yaml(\n",
    "#     yaml_path, 'my_table_name', metadata, primary_key='id'\n",
    "# )"
   ]
  },
  {
   "cell_type": "code",
   "execution_count": 59,
   "id": "ef313615-03ed-44d4-b249-e5a14d160b19",
   "metadata": {},
   "outputs": [],
   "source": [
    "# print(yaml_str)"
   ]
  },
  {
   "cell_type": "code",
   "execution_count": 41,
   "id": "e39cf092-81b0-4f44-8ae2-778460c75c53",
   "metadata": {},
   "outputs": [],
   "source": [
    "yaml_path = '../data/external/schema_rc_eventstream.yaml'\n",
    "yaml_str_file = open(yaml_path)\n",
    "\n",
    "# yaml_str = yaml_str_file.read()\n",
    "# yaml_str_file.close()"
   ]
  },
  {
   "cell_type": "code",
   "execution_count": 55,
   "id": "2beffa3f-a042-40d8-b5a7-19ea88ef68fb",
   "metadata": {},
   "outputs": [],
   "source": [
    "d = {'uri': 'https://fr.wikipedia.org/wiki/Jean-Pierre_Pernaut',\n",
    "   'request_id': '2f4b29ae-09ff-484a-b1f6-b5735e710ae0',\n",
    "   'id': 'f2af960f-bb9d-4f5c-a54a-f29eee0bfe40',\n",
    "   'dt': '2021-11-09T09:33:11Z',\n",
    "   'domain': 'fr.wikipedia.org',\n",
    "   'stream': 'mediawiki.recentchange',\n",
    "   'topic': 'eqiad.mediawiki.recentchange',\n",
    "   'partition': 0,\n",
    "   'offset': 3422522589}"
   ]
  },
  {
   "cell_type": "code",
   "execution_count": 57,
   "id": "41feadea-fce9-4497-b866-b0f830fcd0e0",
   "metadata": {},
   "outputs": [],
   "source": [
    "d2 = {'$schema': '/mediawiki/recentchange/1.0.0',\n",
    " 'meta': {'uri': 'https://fr.wikipedia.org/wiki/Cat%C3%A9gorie:Article_contenant_un_appel_%C3%A0_traduction_en_allemand',\n",
    "  'request_id': '1b6212ee-e650-41fe-a014-08cf840d565a',\n",
    "  'id': '50028f1f-96ba-4af8-8376-ab8a6f059c90',\n",
    "  'dt': '2021-11-12T08:13:52Z',\n",
    "  'domain': 'fr.wikipedia.org',\n",
    "  'stream': 'mediawiki.recentchange',\n",
    "  'topic': 'eqiad.mediawiki.recentchange',\n",
    "  'partition': 0,\n",
    "  'offset': 3428064477},\n",
    " 'id': 452932834,\n",
    " 'type': 'categorize',\n",
    " 'namespace': 14,\n",
    " 'title': 'Catégorie:Article contenant un appel à traduction en allemand',\n",
    " 'comment': '[[:Orsten Groom]] ajoutée à la catégorie',\n",
    " 'timestamp': 1636704832,\n",
    " 'user': 'LeFit',\n",
    " 'bot': False,\n",
    " 'server_url': 'https://fr.wikipedia.org',\n",
    " 'server_name': 'fr.wikipedia.org',\n",
    " 'server_script_path': '/w',\n",
    " 'wiki': 'frwiki',\n",
    " 'parsedcomment': '<a href=\"/wiki/Orsten_Groom\" title=\"Orsten Groom\">Orsten Groom</a> ajoutée à la catégorie'}"
   ]
  },
  {
   "cell_type": "code",
   "execution_count": 58,
   "id": "bfcefe03-f8bd-4c02-984c-1b266702cb04",
   "metadata": {},
   "outputs": [
    {
     "data": {
      "text/plain": [
       "{'$schema': '/mediawiki/recentchange/1.0.0',\n",
       " 'meta': {'uri': 'https://fr.wikipedia.org/wiki/Cat%C3%A9gorie:Article_contenant_un_appel_%C3%A0_traduction_en_allemand',\n",
       "  'request_id': '1b6212ee-e650-41fe-a014-08cf840d565a',\n",
       "  'id': '50028f1f-96ba-4af8-8376-ab8a6f059c90',\n",
       "  'dt': '2021-11-12T08:13:52Z',\n",
       "  'domain': 'fr.wikipedia.org',\n",
       "  'stream': 'mediawiki.recentchange',\n",
       "  'topic': 'eqiad.mediawiki.recentchange',\n",
       "  'partition': 0,\n",
       "  'offset': 3428064477},\n",
       " 'id': 452932834,\n",
       " 'type': 'categorize',\n",
       " 'namespace': 14,\n",
       " 'title': 'Catégorie:Article contenant un appel à traduction en allemand',\n",
       " 'comment': '[[:Orsten Groom]] ajoutée à la catégorie',\n",
       " 'timestamp': 1636704832,\n",
       " 'user': 'LeFit',\n",
       " 'bot': False,\n",
       " 'server_url': 'https://fr.wikipedia.org',\n",
       " 'server_name': 'fr.wikipedia.org',\n",
       " 'server_script_path': '/w',\n",
       " 'wiki': 'frwiki',\n",
       " 'parsedcomment': '<a href=\"/wiki/Orsten_Groom\" title=\"Orsten Groom\">Orsten Groom</a> ajoutée à la catégorie'}"
      ]
     },
     "execution_count": 58,
     "metadata": {},
     "output_type": "execute_result"
    }
   ],
   "source": [
    "d2"
   ]
  }
 ],
 "metadata": {
  "kernelspec": {
   "display_name": "Python 3 (ipykernel)",
   "language": "python",
   "name": "python3"
  },
  "language_info": {
   "codemirror_mode": {
    "name": "ipython",
    "version": 3
   },
   "file_extension": ".py",
   "mimetype": "text/x-python",
   "name": "python",
   "nbconvert_exporter": "python",
   "pygments_lexer": "ipython3",
   "version": "3.9.7"
  }
 },
 "nbformat": 4,
 "nbformat_minor": 5
}
