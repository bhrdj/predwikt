{
 "cells": [
  {
   "cell_type": "markdown",
   "id": "16eca3cf-fb1d-4d0a-b6a9-4815e3e13910",
   "metadata": {
    "tags": []
   },
   "source": [
    "# EDA: Check if jawiki edits correlate with time:\n",
    "(Weekends, time of day, Japanese holidays, lagged edits.)"
   ]
  },
  {
   "cell_type": "markdown",
   "id": "1b13be4e-5f85-41c7-b552-a8c23dd78d00",
   "metadata": {
    "tags": []
   },
   "source": [
    "## Import and Clean"
   ]
  },
  {
   "cell_type": "markdown",
   "id": "78ddbe57-bcf1-4f1d-8bd5-8200604323c4",
   "metadata": {
    "tags": []
   },
   "source": [
    "### Imports and working directory"
   ]
  },
  {
   "cell_type": "code",
   "execution_count": 1,
   "id": "5d51ffa7-f6b2-467f-b49c-ffdde570ba58",
   "metadata": {},
   "outputs": [],
   "source": [
    "import os\n",
    "import pandas as pd\n",
    "import numpy as np\n",
    "import matplotlib.pyplot as plt\n",
    "from pathlib import Path\n",
    "import datetime\n",
    "from zoneinfo import ZoneInfo\n",
    "from dateutil.tz import gettz\n",
    "from dateutil.parser import isoparse"
   ]
  },
  {
   "cell_type": "code",
   "execution_count": 2,
   "id": "8646b4ec-af17-403c-840e-4adc82bc27ad",
   "metadata": {},
   "outputs": [],
   "source": [
    "# Use the notebooks directory containing this notebook as working directory\n",
    "home_path = str(Path.home())\n",
    "os.chdir(home_path + '/git/predwikt/notebooks')"
   ]
  },
  {
   "cell_type": "markdown",
   "id": "33d39c18-7bf6-46d0-82a6-029a6b7174af",
   "metadata": {
    "tags": []
   },
   "source": [
    "### Get the wiki data in pandas"
   ]
  },
  {
   "cell_type": "code",
   "execution_count": 3,
   "id": "c35372d8-7736-42c2-b1a4-1404c2ba9f4b",
   "metadata": {
    "tags": []
   },
   "outputs": [
    {
     "ename": "FileNotFoundError",
     "evalue": "[Errno 2] No such file or directory: '../data/external/mediawiki_history_schema.tsv'",
     "output_type": "error",
     "traceback": [
      "\u001b[0;31m---------------------------------------------------------------------------\u001b[0m",
      "\u001b[0;31mFileNotFoundError\u001b[0m                         Traceback (most recent call last)",
      "\u001b[0;32m/tmp/ipykernel_4396/1114721238.py\u001b[0m in \u001b[0;36m<module>\u001b[0;34m\u001b[0m\n\u001b[1;32m      1\u001b[0m \u001b[0;31m# Get the schema description & column names (see 1.02 for more detail)\u001b[0m\u001b[0;34m\u001b[0m\u001b[0;34m\u001b[0m\u001b[0;34m\u001b[0m\u001b[0m\n\u001b[0;32m----> 2\u001b[0;31m \u001b[0mschema_df\u001b[0m \u001b[0;34m=\u001b[0m \u001b[0mpd\u001b[0m\u001b[0;34m.\u001b[0m\u001b[0mread_csv\u001b[0m\u001b[0;34m(\u001b[0m\u001b[0;34m'../data/external/mediawiki_history_schema.tsv'\u001b[0m\u001b[0;34m,\u001b[0m \u001b[0mdelimiter\u001b[0m\u001b[0;34m=\u001b[0m\u001b[0;34m'\\t'\u001b[0m\u001b[0;34m)\u001b[0m\u001b[0;34m\u001b[0m\u001b[0;34m\u001b[0m\u001b[0m\n\u001b[0m\u001b[1;32m      3\u001b[0m \u001b[0mmw_hist_colnames\u001b[0m \u001b[0;34m=\u001b[0m \u001b[0mlist\u001b[0m\u001b[0;34m(\u001b[0m\u001b[0mschema_df\u001b[0m\u001b[0;34m.\u001b[0m\u001b[0mcol_name\u001b[0m\u001b[0;34m)\u001b[0m\u001b[0;34m[\u001b[0m\u001b[0;34m:\u001b[0m\u001b[0;34m-\u001b[0m\u001b[0;36m1\u001b[0m\u001b[0;34m]\u001b[0m\u001b[0;34m\u001b[0m\u001b[0;34m\u001b[0m\u001b[0m\n\u001b[1;32m      4\u001b[0m usecols = ['event_entity', 'event_timestamp', \n\u001b[1;32m      5\u001b[0m            'event_user_is_bot_by_historical', 'revision_id']\n",
      "\u001b[0;32m~/anaconda3/envs/learnPy/lib/python3.9/site-packages/pandas/util/_decorators.py\u001b[0m in \u001b[0;36mwrapper\u001b[0;34m(*args, **kwargs)\u001b[0m\n\u001b[1;32m    309\u001b[0m                     \u001b[0mstacklevel\u001b[0m\u001b[0;34m=\u001b[0m\u001b[0mstacklevel\u001b[0m\u001b[0;34m,\u001b[0m\u001b[0;34m\u001b[0m\u001b[0;34m\u001b[0m\u001b[0m\n\u001b[1;32m    310\u001b[0m                 )\n\u001b[0;32m--> 311\u001b[0;31m             \u001b[0;32mreturn\u001b[0m \u001b[0mfunc\u001b[0m\u001b[0;34m(\u001b[0m\u001b[0;34m*\u001b[0m\u001b[0margs\u001b[0m\u001b[0;34m,\u001b[0m \u001b[0;34m**\u001b[0m\u001b[0mkwargs\u001b[0m\u001b[0;34m)\u001b[0m\u001b[0;34m\u001b[0m\u001b[0;34m\u001b[0m\u001b[0m\n\u001b[0m\u001b[1;32m    312\u001b[0m \u001b[0;34m\u001b[0m\u001b[0m\n\u001b[1;32m    313\u001b[0m         \u001b[0;32mreturn\u001b[0m \u001b[0mwrapper\u001b[0m\u001b[0;34m\u001b[0m\u001b[0;34m\u001b[0m\u001b[0m\n",
      "\u001b[0;32m~/anaconda3/envs/learnPy/lib/python3.9/site-packages/pandas/io/parsers/readers.py\u001b[0m in \u001b[0;36mread_csv\u001b[0;34m(filepath_or_buffer, sep, delimiter, header, names, index_col, usecols, squeeze, prefix, mangle_dupe_cols, dtype, engine, converters, true_values, false_values, skipinitialspace, skiprows, skipfooter, nrows, na_values, keep_default_na, na_filter, verbose, skip_blank_lines, parse_dates, infer_datetime_format, keep_date_col, date_parser, dayfirst, cache_dates, iterator, chunksize, compression, thousands, decimal, lineterminator, quotechar, quoting, doublequote, escapechar, comment, encoding, encoding_errors, dialect, error_bad_lines, warn_bad_lines, on_bad_lines, delim_whitespace, low_memory, memory_map, float_precision, storage_options)\u001b[0m\n\u001b[1;32m    584\u001b[0m     \u001b[0mkwds\u001b[0m\u001b[0;34m.\u001b[0m\u001b[0mupdate\u001b[0m\u001b[0;34m(\u001b[0m\u001b[0mkwds_defaults\u001b[0m\u001b[0;34m)\u001b[0m\u001b[0;34m\u001b[0m\u001b[0;34m\u001b[0m\u001b[0m\n\u001b[1;32m    585\u001b[0m \u001b[0;34m\u001b[0m\u001b[0m\n\u001b[0;32m--> 586\u001b[0;31m     \u001b[0;32mreturn\u001b[0m \u001b[0m_read\u001b[0m\u001b[0;34m(\u001b[0m\u001b[0mfilepath_or_buffer\u001b[0m\u001b[0;34m,\u001b[0m \u001b[0mkwds\u001b[0m\u001b[0;34m)\u001b[0m\u001b[0;34m\u001b[0m\u001b[0;34m\u001b[0m\u001b[0m\n\u001b[0m\u001b[1;32m    587\u001b[0m \u001b[0;34m\u001b[0m\u001b[0m\n\u001b[1;32m    588\u001b[0m \u001b[0;34m\u001b[0m\u001b[0m\n",
      "\u001b[0;32m~/anaconda3/envs/learnPy/lib/python3.9/site-packages/pandas/io/parsers/readers.py\u001b[0m in \u001b[0;36m_read\u001b[0;34m(filepath_or_buffer, kwds)\u001b[0m\n\u001b[1;32m    480\u001b[0m \u001b[0;34m\u001b[0m\u001b[0m\n\u001b[1;32m    481\u001b[0m     \u001b[0;31m# Create the parser.\u001b[0m\u001b[0;34m\u001b[0m\u001b[0;34m\u001b[0m\u001b[0;34m\u001b[0m\u001b[0m\n\u001b[0;32m--> 482\u001b[0;31m     \u001b[0mparser\u001b[0m \u001b[0;34m=\u001b[0m \u001b[0mTextFileReader\u001b[0m\u001b[0;34m(\u001b[0m\u001b[0mfilepath_or_buffer\u001b[0m\u001b[0;34m,\u001b[0m \u001b[0;34m**\u001b[0m\u001b[0mkwds\u001b[0m\u001b[0;34m)\u001b[0m\u001b[0;34m\u001b[0m\u001b[0;34m\u001b[0m\u001b[0m\n\u001b[0m\u001b[1;32m    483\u001b[0m \u001b[0;34m\u001b[0m\u001b[0m\n\u001b[1;32m    484\u001b[0m     \u001b[0;32mif\u001b[0m \u001b[0mchunksize\u001b[0m \u001b[0;32mor\u001b[0m \u001b[0miterator\u001b[0m\u001b[0;34m:\u001b[0m\u001b[0;34m\u001b[0m\u001b[0;34m\u001b[0m\u001b[0m\n",
      "\u001b[0;32m~/anaconda3/envs/learnPy/lib/python3.9/site-packages/pandas/io/parsers/readers.py\u001b[0m in \u001b[0;36m__init__\u001b[0;34m(self, f, engine, **kwds)\u001b[0m\n\u001b[1;32m    809\u001b[0m             \u001b[0mself\u001b[0m\u001b[0;34m.\u001b[0m\u001b[0moptions\u001b[0m\u001b[0;34m[\u001b[0m\u001b[0;34m\"has_index_names\"\u001b[0m\u001b[0;34m]\u001b[0m \u001b[0;34m=\u001b[0m \u001b[0mkwds\u001b[0m\u001b[0;34m[\u001b[0m\u001b[0;34m\"has_index_names\"\u001b[0m\u001b[0;34m]\u001b[0m\u001b[0;34m\u001b[0m\u001b[0;34m\u001b[0m\u001b[0m\n\u001b[1;32m    810\u001b[0m \u001b[0;34m\u001b[0m\u001b[0m\n\u001b[0;32m--> 811\u001b[0;31m         \u001b[0mself\u001b[0m\u001b[0;34m.\u001b[0m\u001b[0m_engine\u001b[0m \u001b[0;34m=\u001b[0m \u001b[0mself\u001b[0m\u001b[0;34m.\u001b[0m\u001b[0m_make_engine\u001b[0m\u001b[0;34m(\u001b[0m\u001b[0mself\u001b[0m\u001b[0;34m.\u001b[0m\u001b[0mengine\u001b[0m\u001b[0;34m)\u001b[0m\u001b[0;34m\u001b[0m\u001b[0;34m\u001b[0m\u001b[0m\n\u001b[0m\u001b[1;32m    812\u001b[0m \u001b[0;34m\u001b[0m\u001b[0m\n\u001b[1;32m    813\u001b[0m     \u001b[0;32mdef\u001b[0m \u001b[0mclose\u001b[0m\u001b[0;34m(\u001b[0m\u001b[0mself\u001b[0m\u001b[0;34m)\u001b[0m\u001b[0;34m:\u001b[0m\u001b[0;34m\u001b[0m\u001b[0;34m\u001b[0m\u001b[0m\n",
      "\u001b[0;32m~/anaconda3/envs/learnPy/lib/python3.9/site-packages/pandas/io/parsers/readers.py\u001b[0m in \u001b[0;36m_make_engine\u001b[0;34m(self, engine)\u001b[0m\n\u001b[1;32m   1038\u001b[0m             )\n\u001b[1;32m   1039\u001b[0m         \u001b[0;31m# error: Too many arguments for \"ParserBase\"\u001b[0m\u001b[0;34m\u001b[0m\u001b[0;34m\u001b[0m\u001b[0;34m\u001b[0m\u001b[0m\n\u001b[0;32m-> 1040\u001b[0;31m         \u001b[0;32mreturn\u001b[0m \u001b[0mmapping\u001b[0m\u001b[0;34m[\u001b[0m\u001b[0mengine\u001b[0m\u001b[0;34m]\u001b[0m\u001b[0;34m(\u001b[0m\u001b[0mself\u001b[0m\u001b[0;34m.\u001b[0m\u001b[0mf\u001b[0m\u001b[0;34m,\u001b[0m \u001b[0;34m**\u001b[0m\u001b[0mself\u001b[0m\u001b[0;34m.\u001b[0m\u001b[0moptions\u001b[0m\u001b[0;34m)\u001b[0m  \u001b[0;31m# type: ignore[call-arg]\u001b[0m\u001b[0;34m\u001b[0m\u001b[0;34m\u001b[0m\u001b[0m\n\u001b[0m\u001b[1;32m   1041\u001b[0m \u001b[0;34m\u001b[0m\u001b[0m\n\u001b[1;32m   1042\u001b[0m     \u001b[0;32mdef\u001b[0m \u001b[0m_failover_to_python\u001b[0m\u001b[0;34m(\u001b[0m\u001b[0mself\u001b[0m\u001b[0;34m)\u001b[0m\u001b[0;34m:\u001b[0m\u001b[0;34m\u001b[0m\u001b[0;34m\u001b[0m\u001b[0m\n",
      "\u001b[0;32m~/anaconda3/envs/learnPy/lib/python3.9/site-packages/pandas/io/parsers/c_parser_wrapper.py\u001b[0m in \u001b[0;36m__init__\u001b[0;34m(self, src, **kwds)\u001b[0m\n\u001b[1;32m     49\u001b[0m \u001b[0;34m\u001b[0m\u001b[0m\n\u001b[1;32m     50\u001b[0m         \u001b[0;31m# open handles\u001b[0m\u001b[0;34m\u001b[0m\u001b[0;34m\u001b[0m\u001b[0;34m\u001b[0m\u001b[0m\n\u001b[0;32m---> 51\u001b[0;31m         \u001b[0mself\u001b[0m\u001b[0;34m.\u001b[0m\u001b[0m_open_handles\u001b[0m\u001b[0;34m(\u001b[0m\u001b[0msrc\u001b[0m\u001b[0;34m,\u001b[0m \u001b[0mkwds\u001b[0m\u001b[0;34m)\u001b[0m\u001b[0;34m\u001b[0m\u001b[0;34m\u001b[0m\u001b[0m\n\u001b[0m\u001b[1;32m     52\u001b[0m         \u001b[0;32massert\u001b[0m \u001b[0mself\u001b[0m\u001b[0;34m.\u001b[0m\u001b[0mhandles\u001b[0m \u001b[0;32mis\u001b[0m \u001b[0;32mnot\u001b[0m \u001b[0;32mNone\u001b[0m\u001b[0;34m\u001b[0m\u001b[0;34m\u001b[0m\u001b[0m\n\u001b[1;32m     53\u001b[0m \u001b[0;34m\u001b[0m\u001b[0m\n",
      "\u001b[0;32m~/anaconda3/envs/learnPy/lib/python3.9/site-packages/pandas/io/parsers/base_parser.py\u001b[0m in \u001b[0;36m_open_handles\u001b[0;34m(self, src, kwds)\u001b[0m\n\u001b[1;32m    220\u001b[0m         \u001b[0mLet\u001b[0m \u001b[0mthe\u001b[0m \u001b[0mreaders\u001b[0m \u001b[0mopen\u001b[0m \u001b[0mIOHandles\u001b[0m \u001b[0mafter\u001b[0m \u001b[0mthey\u001b[0m \u001b[0mare\u001b[0m \u001b[0mdone\u001b[0m \u001b[0;32mwith\u001b[0m \u001b[0mtheir\u001b[0m \u001b[0mpotential\u001b[0m \u001b[0mraises\u001b[0m\u001b[0;34m.\u001b[0m\u001b[0;34m\u001b[0m\u001b[0;34m\u001b[0m\u001b[0m\n\u001b[1;32m    221\u001b[0m         \"\"\"\n\u001b[0;32m--> 222\u001b[0;31m         self.handles = get_handle(\n\u001b[0m\u001b[1;32m    223\u001b[0m             \u001b[0msrc\u001b[0m\u001b[0;34m,\u001b[0m\u001b[0;34m\u001b[0m\u001b[0;34m\u001b[0m\u001b[0m\n\u001b[1;32m    224\u001b[0m             \u001b[0;34m\"r\"\u001b[0m\u001b[0;34m,\u001b[0m\u001b[0;34m\u001b[0m\u001b[0;34m\u001b[0m\u001b[0m\n",
      "\u001b[0;32m~/anaconda3/envs/learnPy/lib/python3.9/site-packages/pandas/io/common.py\u001b[0m in \u001b[0;36mget_handle\u001b[0;34m(path_or_buf, mode, encoding, compression, memory_map, is_text, errors, storage_options)\u001b[0m\n\u001b[1;32m    699\u001b[0m         \u001b[0;32mif\u001b[0m \u001b[0mioargs\u001b[0m\u001b[0;34m.\u001b[0m\u001b[0mencoding\u001b[0m \u001b[0;32mand\u001b[0m \u001b[0;34m\"b\"\u001b[0m \u001b[0;32mnot\u001b[0m \u001b[0;32min\u001b[0m \u001b[0mioargs\u001b[0m\u001b[0;34m.\u001b[0m\u001b[0mmode\u001b[0m\u001b[0;34m:\u001b[0m\u001b[0;34m\u001b[0m\u001b[0;34m\u001b[0m\u001b[0m\n\u001b[1;32m    700\u001b[0m             \u001b[0;31m# Encoding\u001b[0m\u001b[0;34m\u001b[0m\u001b[0;34m\u001b[0m\u001b[0;34m\u001b[0m\u001b[0m\n\u001b[0;32m--> 701\u001b[0;31m             handle = open(\n\u001b[0m\u001b[1;32m    702\u001b[0m                 \u001b[0mhandle\u001b[0m\u001b[0;34m,\u001b[0m\u001b[0;34m\u001b[0m\u001b[0;34m\u001b[0m\u001b[0m\n\u001b[1;32m    703\u001b[0m                 \u001b[0mioargs\u001b[0m\u001b[0;34m.\u001b[0m\u001b[0mmode\u001b[0m\u001b[0;34m,\u001b[0m\u001b[0;34m\u001b[0m\u001b[0;34m\u001b[0m\u001b[0m\n",
      "\u001b[0;31mFileNotFoundError\u001b[0m: [Errno 2] No such file or directory: '../data/external/mediawiki_history_schema.tsv'"
     ]
    }
   ],
   "source": [
    "# Get the schema description & column names (see 1.02 for more detail)\n",
    "schema_df = pd.read_csv('../data/external/mediawiki_history_schema.tsv', delimiter='\\t')\n",
    "mw_hist_colnames = list(schema_df.col_name)[:-1]\n",
    "usecols = ['event_entity', 'event_timestamp', \n",
    "           'event_user_is_bot_by_historical', 'revision_id']"
   ]
  },
  {
   "cell_type": "markdown",
   "id": "a6b95ec7-5e66-40c8-afc0-11573a558d91",
   "metadata": {},
   "source": [
    "**Selection of columns:**\n",
    "- Only picked the necessary columns to:\n",
    "    - Drop bot edits (event_user_is_bot_by_historical)\n",
    "    - Select only \"revision-type\" edits (event_entity)\n",
    "    - Keep a meaningful index (revision_id)\n",
    "    - Timestamp (event_timestamp)"
   ]
  },
  {
   "cell_type": "code",
   "execution_count": null,
   "id": "cbe44232-f15f-4880-81b5-a3840e92358c",
   "metadata": {},
   "outputs": [],
   "source": [
    "# Get Data\n",
    "df = pd.read_csv('../data/raw/2021-10.jawiki.2021.tsv', \n",
    "                 delimiter='\\t', names=mw_hist_colnames, header=None, usecols=usecols\n",
    "                 ,nrows=1000000) # \n",
    "# Remove bot records\n",
    "df = df[df.event_user_is_bot_by_historical.isna()]\n",
    "# Keep only 'revision' edits\n",
    "df = df[df.event_entity.isin(['revision'])]\n",
    "# Set index as revision_id\n",
    "df = df.set_index('revision_id')"
   ]
  },
  {
   "cell_type": "markdown",
   "id": "1e93ee4c-02da-4458-ba19-8ce34af42a39",
   "metadata": {
    "jp-MarkdownHeadingCollapsed": true,
    "tags": []
   },
   "source": [
    "### Convert to Japanese timezone"
   ]
  },
  {
   "cell_type": "code",
   "execution_count": null,
   "id": "b9ed6169-cc0a-48aa-b8fb-be48c26c8532",
   "metadata": {
    "tags": []
   },
   "outputs": [],
   "source": [
    "df['t_ja'] = df.event_timestamp.map(isoparse).dt.tz_localize('UTC').dt.tz_convert('Asia/Tokyo')"
   ]
  },
  {
   "cell_type": "markdown",
   "id": "96c08123-337f-41dd-b4df-4412ab41578d",
   "metadata": {
    "tags": []
   },
   "source": [
    "### Turn weekdays into dummy variables, add to df"
   ]
  },
  {
   "cell_type": "code",
   "execution_count": null,
   "id": "fd2fd10c-af4e-44c7-8cde-84f36ebfaec1",
   "metadata": {},
   "outputs": [],
   "source": [
    "weekdays_dict = {0:'Mon',1:'Tue',2:'Wed',3:'Thu',4:'Fri',5:'Sat',6:'Sun'}\n",
    "weekdays_str = df.t_ja.dt.weekday.map(weekdays_dict)\n",
    "df = df.join(pd.get_dummies(weekdays_str))"
   ]
  },
  {
   "cell_type": "markdown",
   "id": "55ec2787-cfeb-44ea-8563-a47452e630c0",
   "metadata": {
    "tags": []
   },
   "source": [
    "## Count and Plot by Day, Weekday, Holidays"
   ]
  },
  {
   "cell_type": "markdown",
   "id": "320337c4-c200-447f-ae3e-ec9993a2250a",
   "metadata": {
    "tags": []
   },
   "source": [
    "### Count edits by Day, Weekday"
   ]
  },
  {
   "cell_type": "code",
   "execution_count": null,
   "id": "8c976a9d-794b-4c33-a9fb-806a783ee6a4",
   "metadata": {},
   "outputs": [],
   "source": [
    "df['ymd'] = df.t_ja.dt.date\n",
    "day_data = df.groupby('ymd').sum().sort_index()"
   ]
  },
  {
   "cell_type": "code",
   "execution_count": null,
   "id": "286989c1-bb7a-4a75-861d-f25eaae07f00",
   "metadata": {},
   "outputs": [],
   "source": [
    "day_data['each_day'] = (\n",
    "    day_data[['Mon','Tue','Wed','Thu','Fri','Sat','Sun']]\n",
    "    .sum(axis=1)\n",
    ")"
   ]
  },
  {
   "cell_type": "code",
   "execution_count": null,
   "id": "fd534759-cf60-4776-9487-7dd7a7832f13",
   "metadata": {},
   "outputs": [],
   "source": [
    "day_data.to_csv('../data/interim/ja_day_data.csv')"
   ]
  },
  {
   "cell_type": "markdown",
   "id": "21947934-a4b0-4fce-94af-7309b6a159b4",
   "metadata": {
    "jp-MarkdownHeadingCollapsed": true,
    "tags": []
   },
   "source": [
    "### Plot Edits by Day, Weekday"
   ]
  },
  {
   "cell_type": "code",
   "execution_count": null,
   "id": "f7d5e2cd-3e73-4cdd-9a27-c72bc889cf2b",
   "metadata": {},
   "outputs": [],
   "source": [
    "day_data['each_day'].iloc[1:-1].plot()\n",
    "plt.xticks(rotation=90)\n",
    "plt.title('Daily jawiki non-bot revision-type edit counts over 2021 to-date.')\n",
    "plt.xlabel('\\n\\n'\n",
    "           'No obvious long-term trend in 2021.\\n'\n",
    "           'Seasonal trends are very modest.')\n",
    "plt.ylabel('Daily edit count')\n",
    "plt.ylim(0,)\n",
    "plt.show()"
   ]
  },
  {
   "cell_type": "code",
   "execution_count": null,
   "id": "2d2cb8e7-95bb-4cdd-8bb1-d84589d9a263",
   "metadata": {},
   "outputs": [],
   "source": [
    "(day_data\n",
    " [['Mon','Tue','Wed','Thu','Fri','Sat','Sun']]\n",
    " .iloc[1:-1]\n",
    " .replace(0, np.nan)\n",
    " .boxplot()\n",
    ")\n",
    "plt.title('Daily jawiki non-bot edit counts by day of week')\n",
    "plt.xlabel('\\n\\n'\n",
    "           'Edit count is quite stable.\\n'\n",
    "           'Day-of-week accounts for much day-to-day variation.')\n",
    "plt.ylabel('Daily edit count')\n",
    "plt.ylim(0,)\n",
    "plt.show()"
   ]
  },
  {
   "cell_type": "markdown",
   "id": "05860ffc-0a5f-450a-b780-70510ef9522e",
   "metadata": {
    "tags": []
   },
   "source": [
    "### Count Edits by Hour, Weekday"
   ]
  },
  {
   "cell_type": "code",
   "execution_count": null,
   "id": "b10830ed-c744-4e7a-aed4-b8c50b0650d3",
   "metadata": {},
   "outputs": [],
   "source": [
    "df['hour'] = df.t_ja.dt.hour"
   ]
  },
  {
   "cell_type": "code",
   "execution_count": null,
   "id": "1cd47c15-8bc7-45f7-8aff-b5dc886d9921",
   "metadata": {},
   "outputs": [],
   "source": [
    "total_days = (df.ymd.max() - df.ymd.min()).days #305\n",
    "hour_data = (\n",
    "    df.groupby('hour')\n",
    "    .sum()\n",
    "    .sort_index()\n",
    "    [['Mon','Tue','Wed','Thu','Fri','Sat','Sun']]\n",
    "    .divide(total_days/7)\n",
    ")"
   ]
  },
  {
   "cell_type": "markdown",
   "id": "23b1cd4b-5fd4-4332-8491-1d1c6c594583",
   "metadata": {
    "jp-MarkdownHeadingCollapsed": true,
    "tags": []
   },
   "source": [
    "### Plot edits by Hour, Weekday"
   ]
  },
  {
   "cell_type": "code",
   "execution_count": null,
   "id": "15887fc0-4f8d-4d50-b34b-0cb06ffeb2b8",
   "metadata": {},
   "outputs": [],
   "source": [
    "hour_data.plot()\n",
    "plt.title('Hourly jawiki non-bot revision-type edits, by weekday')\n",
    "plt.xlabel('Hour of day\\n'\n",
    "           '\\n'\n",
    "           'Consistently low traffic from 2am-6am suggests\\n'\n",
    "           'that jawiki editors are mostly located in Japan.')\n",
    "plt.ylabel('Average hourly edit count')\n",
    "plt.ylim(0,)\n",
    "plt.show()"
   ]
  },
  {
   "cell_type": "markdown",
   "id": "51ee9184-d80d-4f1c-a48a-d0ea451f72dc",
   "metadata": {
    "tags": []
   },
   "source": [
    "### Get Japan's holidays"
   ]
  },
  {
   "cell_type": "code",
   "execution_count": null,
   "id": "774debcb-bd33-4078-abfb-289d5af433e9",
   "metadata": {
    "tags": []
   },
   "outputs": [],
   "source": [
    "holidays = pd.read_csv(\n",
    "    home_path + '/git/predwikt/data/external/Japan_holidays.tsv', \n",
    "    delimiter='\\t', usecols = ['Date', 'Name', 'Type'])\n",
    "holidays['Date'] = (\n",
    "    holidays.Date\n",
    "    .apply(lambda x: pd.to_datetime(x, format='%d %b'))\n",
    "    .apply(lambda x: x.replace(year = 2021))\n",
    ")\n",
    "holidays['Weekday'] = holidays.Date.dt.weekday.map(weekdays_dict)\n",
    "holidays['Date'] = holidays.Date.dt.date\n",
    "holidays = holidays.rename(columns={'Name':'holiday_name'})"
   ]
  },
  {
   "cell_type": "code",
   "execution_count": null,
   "id": "ad17b7e5-2694-40b2-a697-7ab91b3f90da",
   "metadata": {},
   "outputs": [],
   "source": [
    "df['Date'] = df.t_ja.dt.date"
   ]
  },
  {
   "cell_type": "code",
   "execution_count": null,
   "id": "4415be20-7afe-4446-8fb3-107a72cc6b15",
   "metadata": {},
   "outputs": [],
   "source": [
    "df = df.join(holidays.loc[holidays.Type == 'National holiday']\n",
    "        .loc[:, ['Date','holiday_name']]\n",
    "        .set_index('Date'),\n",
    "        on='Date')\n",
    "df['holiday'] = df.holiday_name.notnull()"
   ]
  },
  {
   "cell_type": "code",
   "execution_count": null,
   "id": "36e9000f-0e90-42a0-a6ab-e100c31f8e2c",
   "metadata": {},
   "outputs": [],
   "source": [
    "num_holidays = df[['Date', 'holiday']].loc[df.holiday == True].drop_duplicates().count()[0]"
   ]
  },
  {
   "cell_type": "code",
   "execution_count": null,
   "id": "bdb788ff-fea0-4b72-b7a6-69b2fd991d77",
   "metadata": {},
   "outputs": [],
   "source": [
    "hour_data_holidays = (\n",
    "    df.loc[df.holiday]\n",
    "    .groupby('hour')\n",
    "    .sum()\n",
    "    .loc[:,'holiday']\n",
    "    .sort_index()\n",
    "    .divide(num_holidays)\n",
    ")\n",
    "# hour_data = hour_data.join(hour_data_holidays)"
   ]
  },
  {
   "cell_type": "markdown",
   "id": "57cf44a9-70cf-4663-9ade-308e1e187c46",
   "metadata": {
    "tags": []
   },
   "source": [
    "### Plot Edits on Holidays"
   ]
  },
  {
   "cell_type": "markdown",
   "id": "5b7b8889-b9f6-481c-a45b-498cea79c248",
   "metadata": {},
   "source": [
    "<mark>I tried to edit the hour_data_holidays as a separate plot command so it can be given a different linestyle.</mark>"
   ]
  },
  {
   "cell_type": "code",
   "execution_count": null,
   "id": "c7302b6a-1538-4ad5-8f17-12f12f69395d",
   "metadata": {},
   "outputs": [],
   "source": [
    "fig = plt.figure()\n",
    "ax = fig.gca()\n",
    "hour_data.plot(ax=ax)\n",
    "hour_data_holidays.plot(ax=ax)  # new untested edit\n",
    "ax.set_title('Hourly jawiki non-bot revision-type edits, by weekday or holiday')\n",
    "ax.set_xlabel('Hour of day\\n'\n",
    "              '\\n'\n",
    "              'Consistently low traffic from 2am-6am suggests\\n'\n",
    "              'that jawiki editors are mostly located in Japan.')\n",
    "ax.set_label('Average hourly edit count')\n",
    "ax.set_ylim(0,)\n",
    "plt.show()"
   ]
  },
  {
   "cell_type": "markdown",
   "id": "922a77a5-d731-401d-a014-58c9617c6472",
   "metadata": {
    "tags": []
   },
   "source": [
    "## Check correlation with lagged edits"
   ]
  },
  {
   "cell_type": "markdown",
   "id": "fe0fc9cb-b68a-4aa2-950e-e53c9b57501b",
   "metadata": {},
   "source": [
    "<mark>unchecked</mark>"
   ]
  },
  {
   "cell_type": "code",
   "execution_count": null,
   "id": "3ad37f09-16d4-409c-85fe-11141a80fbdf",
   "metadata": {},
   "outputs": [],
   "source": [
    "day_data['ymd_lag'] = "
   ]
  }
 ],
 "metadata": {
  "kernelspec": {
   "display_name": "Python 3 (ipykernel)",
   "language": "python",
   "name": "python3"
  },
  "language_info": {
   "codemirror_mode": {
    "name": "ipython",
    "version": 3
   },
   "file_extension": ".py",
   "mimetype": "text/x-python",
   "name": "python",
   "nbconvert_exporter": "python",
   "pygments_lexer": "ipython3",
   "version": "3.9.6"
  }
 },
 "nbformat": 4,
 "nbformat_minor": 5
}
