{
 "cells": [
  {
   "cell_type": "markdown",
   "id": "9c4bf126-6b3b-4ff8-b0df-b7267c8311e0",
   "metadata": {
    "tags": []
   },
   "source": [
    "# Try Google Translate API"
   ]
  },
  {
   "cell_type": "markdown",
   "id": "62fe2262-1cee-4da8-97ce-50d0556a2683",
   "metadata": {
    "jp-MarkdownHeadingCollapsed": true,
    "tags": []
   },
   "source": [
    "## Setup"
   ]
  },
  {
   "cell_type": "markdown",
   "id": "61f78f67-a6c8-42f8-b6f5-b7aa0c0f00b6",
   "metadata": {
    "jp-MarkdownHeadingCollapsed": true,
    "tags": []
   },
   "source": [
    "### imports"
   ]
  },
  {
   "cell_type": "code",
   "execution_count": 7,
   "id": "4d495680-be12-429b-8bdb-effb6eb21091",
   "metadata": {},
   "outputs": [],
   "source": [
    "import pandas as pd, numpy as np, seaborn as sns, mysql.connector as mysql\n",
    "import os, re, sqlalchemy, datetime\n",
    "import pickle"
   ]
  },
  {
   "cell_type": "code",
   "execution_count": 8,
   "id": "e43b89a7-37a3-44ad-bdfa-ca887b6e0fde",
   "metadata": {},
   "outputs": [],
   "source": [
    "import mysql.connector as mysql\n",
    "import sqlalchemy"
   ]
  },
  {
   "cell_type": "code",
   "execution_count": 15,
   "id": "dfd50856-32bc-44a1-adf9-f0875289b265",
   "metadata": {},
   "outputs": [],
   "source": [
    "import os, six\n",
    "from google.cloud import translate_v2 as translate"
   ]
  },
  {
   "cell_type": "markdown",
   "id": "43ccff37-1cd6-4ecf-a276-afbfbb0e1b73",
   "metadata": {
    "jp-MarkdownHeadingCollapsed": true,
    "tags": []
   },
   "source": [
    "### login"
   ]
  },
  {
   "cell_type": "markdown",
   "id": "34151532-a9e8-4069-8e9b-af26f09a03ac",
   "metadata": {
    "jp-MarkdownHeadingCollapsed": true,
    "tags": []
   },
   "source": [
    "#### get credentials into notebook"
   ]
  },
  {
   "cell_type": "code",
   "execution_count": 10,
   "id": "7ccabd6d-c07f-4fc7-a420-f89045e92798",
   "metadata": {},
   "outputs": [],
   "source": [
    "mysql_user = 'bhrdwj'\n",
    "# mysql_pass = input(f'Enter the MySQL password for user {mysql_user}: ')"
   ]
  },
  {
   "cell_type": "markdown",
   "id": "3f10be84-5ebd-43cd-bab3-e11ac0a282ce",
   "metadata": {
    "jp-MarkdownHeadingCollapsed": true,
    "tags": []
   },
   "source": [
    "#### connect to database"
   ]
  },
  {
   "cell_type": "code",
   "execution_count": 12,
   "id": "b1e09a10-8c45-4067-93af-77ee60b859a9",
   "metadata": {},
   "outputs": [],
   "source": [
    "def connect_mariadb():\n",
    "    host='localhost'; user=mysql_user; passwd=mysql_pass; dbname='jawiki';\n",
    "    cxn = mysql.connect(host=host,user=user,passwd=passwd, database=dbname)\n",
    "    cur = cxn.cursor()\n",
    "\n",
    "    connection_str = 'mysql+mysqlconnector://'+user+':'+passwd+'@'+host+'/'+dbname  # removed this after host +':'+dbport\n",
    "    try:\n",
    "        engine = sqlalchemy.create_engine(connection_str)\n",
    "        conn = engine.connect()\n",
    "    except Exception as e:\n",
    "        print('Database connection error - check creds')\n",
    "        print(e)\n",
    "    return cxn, cur, engine, conn\n",
    "        \n",
    "cxn, cur, engine, conn = connect_mariadb()"
   ]
  },
  {
   "cell_type": "markdown",
   "id": "3e06449d-8479-4514-a38c-94ac436ecd98",
   "metadata": {
    "jp-MarkdownHeadingCollapsed": true,
    "tags": []
   },
   "source": [
    "#### get ```tablenames```"
   ]
  },
  {
   "cell_type": "code",
   "execution_count": 14,
   "id": "564f46c4-0b29-4025-8689-a502aee1daf3",
   "metadata": {},
   "outputs": [],
   "source": [
    "metadata = sqlalchemy.MetaData(conn)\n",
    "metadata.reflect()\n",
    "current_tables = list(metadata.tables.keys())\n",
    "current_tables;"
   ]
  },
  {
   "cell_type": "code",
   "execution_count": null,
   "id": "a042a924-9e6d-4c71-b35b-1effe159ccdb",
   "metadata": {},
   "outputs": [],
   "source": []
  },
  {
   "cell_type": "markdown",
   "id": "8dfc4d68-a6d2-4f11-ab22-8fcb10c9a1f2",
   "metadata": {
    "tags": []
   },
   "source": [
    "## translate: ja2en_txt, ja2en_ser"
   ]
  },
  {
   "cell_type": "markdown",
   "id": "597fc6b3-992d-4a58-b062-736287eebe66",
   "metadata": {
    "jp-MarkdownHeadingCollapsed": true,
    "tags": []
   },
   "source": [
    "### get gcloud credentials"
   ]
  },
  {
   "cell_type": "code",
   "execution_count": 16,
   "id": "fe14b8b8-72a6-48f2-9684-3f7f0fc3b4eb",
   "metadata": {},
   "outputs": [],
   "source": [
    "os.environ['GOOGLE_APPLICATION_CREDENTIALS'] = '/home/bhrdwj/git/.my-translation-sa_keys.json'\n",
    "bq_client = translate.Client()"
   ]
  },
  {
   "cell_type": "markdown",
   "id": "48c9be0e-4988-4eb4-9b2c-a49351a79ff6",
   "metadata": {
    "jp-MarkdownHeadingCollapsed": true,
    "tags": []
   },
   "source": [
    "### functions for translation"
   ]
  },
  {
   "cell_type": "code",
   "execution_count": 17,
   "id": "963a2f0f-0089-4cf9-b5e3-bdc681648ad0",
   "metadata": {},
   "outputs": [],
   "source": [
    "translate_client = translate.Client()\n",
    "\n",
    "def ja2en_txt(el):\n",
    "    \"\"\"Translates text into the target language.\n",
    "    Target must be an ISO 639-1 language code.\n",
    "    See https://g.co/cloud/translate/v2/translate-reference#supported_languages\n",
    "    \"\"\"\n",
    "    # import six\n",
    "    # from google.cloud import translate_v2 as translate\n",
    "    translate_client = translate.Client()\n",
    "    \n",
    "    if isinstance(el, six.binary_type):\n",
    "        el = el.decode(\"utf-8\")\n",
    "    if not isinstance(el, str):\n",
    "        return el\n",
    "    \n",
    "    text = el\n",
    "    return translate_client.translate(\n",
    "        text, target_language='EN', source_language='JA'\n",
    "    )['translatedText']\n",
    "\n",
    "\n",
    "def ja2en_ser(ser):\n",
    "    \"\"\"\n",
    "    Maps each element of a series with ja2en_txt, only if the type is string\n",
    "    \"\"\"\n",
    "    assert isinstance(ser,pd.Series)\n",
    "    if pd.api.types.is_object_dtype(ser):\n",
    "        return ser.map(lambda x: translate_client.translate(x, target_language='EN', source_language='JA')['translatedText'])    \n",
    "    else:\n",
    "        return ser"
   ]
  },
  {
   "cell_type": "markdown",
   "id": "73be3dd0-4a8c-4e6d-8209-6c34ae754f40",
   "metadata": {
    "jp-MarkdownHeadingCollapsed": true,
    "tags": []
   },
   "source": [
    "### test"
   ]
  },
  {
   "cell_type": "markdown",
   "id": "82400845-e41c-4762-8996-a99ab5060616",
   "metadata": {},
   "source": [
    "#### test ja2en_txt"
   ]
  },
  {
   "cell_type": "code",
   "execution_count": 18,
   "id": "6d989917-05b9-45fd-8898-f393e6d44bab",
   "metadata": {},
   "outputs": [
    {
     "data": {
      "text/plain": [
       "'Tropical cyclone'"
      ]
     },
     "execution_count": 18,
     "metadata": {},
     "output_type": "execute_result"
    }
   ],
   "source": [
    "ja2en_txt('熱帯低気圧')"
   ]
  },
  {
   "cell_type": "markdown",
   "id": "6b146745-dacb-43b1-90c1-d5c111f0d84e",
   "metadata": {},
   "source": [
    "#### test ja2en_ser"
   ]
  },
  {
   "cell_type": "markdown",
   "id": "2ea6a9a6-d172-4425-a163-3dc59d1301ad",
   "metadata": {
    "jp-MarkdownHeadingCollapsed": true,
    "tags": []
   },
   "source": [
    "##### get series"
   ]
  },
  {
   "cell_type": "code",
   "execution_count": 20,
   "id": "c1ef6399-eedc-4a67-9eff-9c86783c714d",
   "metadata": {},
   "outputs": [],
   "source": [
    "jp_ser = pd.Series(\n",
    "    [\"こりおりのちから\",\n",
    "    \"コリオリの力\",\n",
    "    \"たいふう\",\n",
    "    \"台風\",\n",
    "    \"さいくろん\",\n",
    "    \"サイクロン\",\n",
    "    \"熱帯低気圧\",\n",
    "    \"せきらんうん\",\n",
    "    \"積乱雲\",\n",
    "    \"はりけん\",\n",
    "    \"ハリケーン\",\n",
    "    \"ういりういり\",\n",
    "    \"ウィリー・ウィリー\",\n",
    "    \"たいふう\",\n",
    "    \"台風\",\n",
    "    \"ふしわらのこうか\",\n",
    "    \"藤原の効果\",\n",
    "    \"はりけん\",\n",
    "    \"ハリケーン\"\n",
    "    ]\n",
    ")"
   ]
  },
  {
   "cell_type": "markdown",
   "id": "d6e1c751-eb55-4eb1-a8da-08b4f2f7c4ec",
   "metadata": {
    "jp-MarkdownHeadingCollapsed": true,
    "tags": []
   },
   "source": [
    "##### test"
   ]
  },
  {
   "cell_type": "code",
   "execution_count": 23,
   "id": "bfc3aea4-fd3d-49e0-99bc-bf0b7f2b68ab",
   "metadata": {},
   "outputs": [
    {
     "data": {
      "text/html": [
       "<div>\n",
       "<style scoped>\n",
       "    .dataframe tbody tr th:only-of-type {\n",
       "        vertical-align: middle;\n",
       "    }\n",
       "\n",
       "    .dataframe tbody tr th {\n",
       "        vertical-align: top;\n",
       "    }\n",
       "\n",
       "    .dataframe thead th {\n",
       "        text-align: right;\n",
       "    }\n",
       "</style>\n",
       "<table border=\"1\" class=\"dataframe\">\n",
       "  <thead>\n",
       "    <tr style=\"text-align: right;\">\n",
       "      <th></th>\n",
       "      <th>0</th>\n",
       "      <th>0</th>\n",
       "    </tr>\n",
       "  </thead>\n",
       "  <tbody>\n",
       "    <tr>\n",
       "      <th>0</th>\n",
       "      <td>こりおりのちから</td>\n",
       "      <td>The power of Coriolis</td>\n",
       "    </tr>\n",
       "    <tr>\n",
       "      <th>1</th>\n",
       "      <td>コリオリの力</td>\n",
       "      <td>Coriolis force</td>\n",
       "    </tr>\n",
       "    <tr>\n",
       "      <th>2</th>\n",
       "      <td>たいふう</td>\n",
       "      <td>Typhoon</td>\n",
       "    </tr>\n",
       "    <tr>\n",
       "      <th>3</th>\n",
       "      <td>台風</td>\n",
       "      <td>Typhoon</td>\n",
       "    </tr>\n",
       "    <tr>\n",
       "      <th>4</th>\n",
       "      <td>さいくろん</td>\n",
       "      <td>Cyclone</td>\n",
       "    </tr>\n",
       "    <tr>\n",
       "      <th>5</th>\n",
       "      <td>サイクロン</td>\n",
       "      <td>Cyclone</td>\n",
       "    </tr>\n",
       "    <tr>\n",
       "      <th>6</th>\n",
       "      <td>熱帯低気圧</td>\n",
       "      <td>Tropical cyclone</td>\n",
       "    </tr>\n",
       "    <tr>\n",
       "      <th>7</th>\n",
       "      <td>せきらんうん</td>\n",
       "      <td>Cumulonimbus</td>\n",
       "    </tr>\n",
       "    <tr>\n",
       "      <th>8</th>\n",
       "      <td>積乱雲</td>\n",
       "      <td>Cumulonimbus</td>\n",
       "    </tr>\n",
       "    <tr>\n",
       "      <th>9</th>\n",
       "      <td>はりけん</td>\n",
       "      <td>Hariken</td>\n",
       "    </tr>\n",
       "    <tr>\n",
       "      <th>10</th>\n",
       "      <td>ハリケーン</td>\n",
       "      <td>Hurricane</td>\n",
       "    </tr>\n",
       "    <tr>\n",
       "      <th>11</th>\n",
       "      <td>ういりういり</td>\n",
       "      <td>Uiri Uiri</td>\n",
       "    </tr>\n",
       "    <tr>\n",
       "      <th>12</th>\n",
       "      <td>ウィリー・ウィリー</td>\n",
       "      <td>Willy willy</td>\n",
       "    </tr>\n",
       "    <tr>\n",
       "      <th>13</th>\n",
       "      <td>たいふう</td>\n",
       "      <td>Typhoon</td>\n",
       "    </tr>\n",
       "    <tr>\n",
       "      <th>14</th>\n",
       "      <td>台風</td>\n",
       "      <td>Typhoon</td>\n",
       "    </tr>\n",
       "    <tr>\n",
       "      <th>15</th>\n",
       "      <td>ふしわらのこうか</td>\n",
       "      <td>This is the straw</td>\n",
       "    </tr>\n",
       "    <tr>\n",
       "      <th>16</th>\n",
       "      <td>藤原の効果</td>\n",
       "      <td>Fujiwhara effect</td>\n",
       "    </tr>\n",
       "    <tr>\n",
       "      <th>17</th>\n",
       "      <td>はりけん</td>\n",
       "      <td>Hariken</td>\n",
       "    </tr>\n",
       "    <tr>\n",
       "      <th>18</th>\n",
       "      <td>ハリケーン</td>\n",
       "      <td>Hurricane</td>\n",
       "    </tr>\n",
       "  </tbody>\n",
       "</table>\n",
       "</div>"
      ],
      "text/plain": [
       "            0                      0\n",
       "0    こりおりのちから  The power of Coriolis\n",
       "1      コリオリの力         Coriolis force\n",
       "2        たいふう                Typhoon\n",
       "3          台風                Typhoon\n",
       "4       さいくろん                Cyclone\n",
       "5       サイクロン                Cyclone\n",
       "6       熱帯低気圧       Tropical cyclone\n",
       "7      せきらんうん           Cumulonimbus\n",
       "8         積乱雲           Cumulonimbus\n",
       "9        はりけん                Hariken\n",
       "10      ハリケーン              Hurricane\n",
       "11     ういりういり              Uiri Uiri\n",
       "12  ウィリー・ウィリー            Willy willy\n",
       "13       たいふう                Typhoon\n",
       "14         台風                Typhoon\n",
       "15   ふしわらのこうか      This is the straw\n",
       "16      藤原の効果       Fujiwhara effect\n",
       "17       はりけん                Hariken\n",
       "18      ハリケーン              Hurricane"
      ]
     },
     "execution_count": 23,
     "metadata": {},
     "output_type": "execute_result"
    }
   ],
   "source": [
    "pd.concat((jp_ser.to_frame(), ja2en_ser(jp_ser).to_frame()), axis=\"columns\")"
   ]
  },
  {
   "cell_type": "markdown",
   "id": "a4eb7ac5-8469-43de-ae0f-69eca43e5510",
   "metadata": {},
   "source": [
    "# END"
   ]
  }
 ],
 "metadata": {
  "kernelspec": {
   "display_name": "Python 3 (ipykernel)",
   "language": "python",
   "name": "python3"
  },
  "language_info": {
   "codemirror_mode": {
    "name": "ipython",
    "version": 3
   },
   "file_extension": ".py",
   "mimetype": "text/x-python",
   "name": "python",
   "nbconvert_exporter": "python",
   "pygments_lexer": "ipython3",
   "version": "3.9.7"
  }
 },
 "nbformat": 4,
 "nbformat_minor": 5
}
