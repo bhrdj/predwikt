{
 "cells": [
  {
   "cell_type": "markdown",
   "id": "f0fd9382-246d-409b-8e88-3bf16ae76c3f",
   "metadata": {
    "tags": []
   },
   "source": [
    "# Explore text of enwiki SQL dump .sql files\n",
    "(uncollapse for detailed code)"
   ]
  },
  {
   "cell_type": "markdown",
   "id": "fa273b40-630c-4cdf-a258-6bdd4d96708d",
   "metadata": {
    "jp-MarkdownHeadingCollapsed": true,
    "tags": []
   },
   "source": [
    "## setup"
   ]
  },
  {
   "cell_type": "markdown",
   "id": "92e72fa0-0e84-443a-a656-617ed2645e7e",
   "metadata": {
    "jp-MarkdownHeadingCollapsed": true,
    "tags": []
   },
   "source": [
    "### libraries"
   ]
  },
  {
   "cell_type": "code",
   "execution_count": 90,
   "id": "42ace840-19e2-4226-8fda-1b557bcfcd6a",
   "metadata": {},
   "outputs": [],
   "source": [
    "import pandas as pd\n",
    "import matplotlib.pyplot as plt\n",
    "from file_read_backwards import FileReadBackwards"
   ]
  },
  {
   "cell_type": "markdown",
   "id": "a4ecde51-f79d-484a-b586-dbffbd4d105b",
   "metadata": {
    "jp-MarkdownHeadingCollapsed": true,
    "tags": []
   },
   "source": [
    "### paths"
   ]
  },
  {
   "cell_type": "code",
   "execution_count": 69,
   "id": "df69451f-9154-4c65-aac3-7c5a87fa6be8",
   "metadata": {},
   "outputs": [],
   "source": [
    "dir_path = '../data/raw/enwiki/'\n",
    "category_path = '../data/raw/enwiki/enwiki-latest-category.sql'\n",
    "page_path = '../data/raw/enwiki/enwiki-latest-page.sql'\n",
    "categorylinks_path = '../data/raw/enwiki/enwiki-latest-categorylinks.sql'\n",
    "paths = [category_path, page_path, categorylinks_path]\n",
    "filenames = [path.split(sep='/')[-1] for path in paths]"
   ]
  },
  {
   "cell_type": "markdown",
   "id": "3d97378a-d23f-47e5-934d-5d95f14674d9",
   "metadata": {
    "tags": []
   },
   "source": [
    "### functions"
   ]
  },
  {
   "cell_type": "markdown",
   "id": "1739e067-0d4d-4d72-88eb-42d84b8a01ab",
   "metadata": {
    "jp-MarkdownHeadingCollapsed": true,
    "tags": []
   },
   "source": [
    "#### function to open a dumpfile"
   ]
  },
  {
   "cell_type": "code",
   "execution_count": 110,
   "id": "d5cb8fc2-ebcd-436d-99ce-3eb2e78343ab",
   "metadata": {},
   "outputs": [],
   "source": [
    "def open_dump(url):\n",
    "    \"\"\"\n",
    "    Open a mysql dumpfile for reading its text.\n",
    "    \"\"\"\n",
    "    return open(url, mode='r', encoding='UTF_8', errors='backslashreplace')"
   ]
  },
  {
   "cell_type": "markdown",
   "id": "baa40e26-2f16-4fed-9486-3ee74fa70a38",
   "metadata": {
    "jp-MarkdownHeadingCollapsed": true,
    "tags": []
   },
   "source": [
    "#### function to get lengths of each line in the sql files"
   ]
  },
  {
   "cell_type": "code",
   "execution_count": 116,
   "id": "5d223c9e-3330-402e-8c51-dc463833f212",
   "metadata": {},
   "outputs": [],
   "source": [
    "def get_line_lengths(path:str, encoding:str='UTF_8', errors='backslashreplace', mode='r') -> pd.Series:\n",
    "    \"\"\"\n",
    "    Get line lengths from a potentially-large text file.\n",
    "    Input:  filepath of text file\n",
    "    Output: pd.Series of integer line-lengths,\n",
    "                index is line-number\n",
    "    \"\"\"\n",
    "    \n",
    "    d = {}\n",
    "    i = 0\n",
    "    \n",
    "    with open(\n",
    "        path, \n",
    "        mode=mode, \n",
    "        encoding=encoding, \n",
    "        errors=errors\n",
    "    ) as f:\n",
    "        while (x := f.readline()):\n",
    "            d[i] = len(x)\n",
    "            i += 1\n",
    "\n",
    "    return pd.Series(d, name='line_lengths')"
   ]
  },
  {
   "cell_type": "markdown",
   "id": "23619f5d-6b20-460d-9f23-1e193f9d454e",
   "metadata": {
    "jp-MarkdownHeadingCollapsed": true,
    "tags": []
   },
   "source": [
    "#### function read_footer"
   ]
  },
  {
   "cell_type": "code",
   "execution_count": 112,
   "id": "d3634293-b89f-480f-a8cd-e8f0fee43d02",
   "metadata": {},
   "outputs": [],
   "source": [
    "def read_footer(path):\n",
    "    \"\"\"\n",
    "    Leverage the module: 'file_read_backwards' to read the last lines of\n",
    "        a dumpfile, up until the lines are longer than 200 chars.\n",
    "    \"\"\"\n",
    "    lines = []\n",
    "    with FileReadBackwards(path, encoding='utf-8') as frb:\n",
    "        while len(l := frb.readline()) < 200 :\n",
    "            if not l:\n",
    "                break\n",
    "            lines.append(l)\n",
    "    return list(reversed(lines))"
   ]
  },
  {
   "cell_type": "markdown",
   "id": "893269c7-0967-4800-80d4-4cad90a14496",
   "metadata": {
    "tags": []
   },
   "source": [
    "## check line lengths"
   ]
  },
  {
   "cell_type": "markdown",
   "id": "f306f758-3e18-4e64-9a03-5fe01ef85415",
   "metadata": {
    "tags": []
   },
   "source": [
    "#### store line-length series for each file in a dict"
   ]
  },
  {
   "cell_type": "code",
   "execution_count": 117,
   "id": "37e5dcc6-ab9c-448f-bc78-4ab173c3f81c",
   "metadata": {},
   "outputs": [],
   "source": [
    "dict_of_length_series = {}\n",
    "for filename, path in zip(filenames, paths):\n",
    "    dict_of_length_series[filename] = get_line_lengths(path)"
   ]
  },
  {
   "cell_type": "markdown",
   "id": "8531f9bd-827f-4205-bcac-7b197ff8a32c",
   "metadata": {
    "tags": []
   },
   "source": [
    "#### generate tables"
   ]
  },
  {
   "cell_type": "markdown",
   "id": "3c4182a8-1a1b-4189-b11a-4a6d3c692ad7",
   "metadata": {
    "jp-MarkdownHeadingCollapsed": true,
    "tags": []
   },
   "source": [
    "##### line counts"
   ]
  },
  {
   "cell_type": "code",
   "execution_count": 56,
   "id": "a6fdbda2-1fbb-4042-8e64-0ebd59ba5330",
   "metadata": {},
   "outputs": [
    {
     "data": {
      "text/html": [
       "<div>\n",
       "<style scoped>\n",
       "    .dataframe tbody tr th:only-of-type {\n",
       "        vertical-align: middle;\n",
       "    }\n",
       "\n",
       "    .dataframe tbody tr th {\n",
       "        vertical-align: top;\n",
       "    }\n",
       "\n",
       "    .dataframe thead th {\n",
       "        text-align: right;\n",
       "    }\n",
       "</style>\n",
       "<table border=\"1\" class=\"dataframe\">\n",
       "  <thead>\n",
       "    <tr style=\"text-align: right;\">\n",
       "      <th></th>\n",
       "      <th>line counts</th>\n",
       "    </tr>\n",
       "  </thead>\n",
       "  <tbody>\n",
       "    <tr>\n",
       "      <th>enwiki-latest-category.sql</th>\n",
       "      <td>164</td>\n",
       "    </tr>\n",
       "    <tr>\n",
       "      <th>enwiki-latest-page.sql</th>\n",
       "      <td>6471</td>\n",
       "    </tr>\n",
       "    <tr>\n",
       "      <th>enwiki-latest-categorylinks.sql</th>\n",
       "      <td>24429</td>\n",
       "    </tr>\n",
       "  </tbody>\n",
       "</table>\n",
       "</div>"
      ],
      "text/plain": [
       "                                 line counts\n",
       "enwiki-latest-category.sql               164\n",
       "enwiki-latest-page.sql                  6471\n",
       "enwiki-latest-categorylinks.sql        24429"
      ]
     },
     "execution_count": 56,
     "metadata": {},
     "output_type": "execute_result"
    }
   ],
   "source": [
    "line_counts = pd.concat(\n",
    "    (pd.Series({i: len(dict_of_length_series[i])}) for i in dict_of_length_series),\n",
    "    axis = 0\n",
    ").rename('line counts').to_frame()\n",
    "line_counts"
   ]
  },
  {
   "cell_type": "markdown",
   "id": "08fbf942-7bde-43fc-bbe1-66fd517f9c28",
   "metadata": {
    "jp-MarkdownHeadingCollapsed": true,
    "tags": []
   },
   "source": [
    "##### first few line lengths"
   ]
  },
  {
   "cell_type": "code",
   "execution_count": 57,
   "id": "a34f91db-d0ea-48ef-a190-9553cdb8378f",
   "metadata": {},
   "outputs": [
    {
     "data": {
      "text/html": [
       "<div>\n",
       "<style scoped>\n",
       "    .dataframe tbody tr th:only-of-type {\n",
       "        vertical-align: middle;\n",
       "    }\n",
       "\n",
       "    .dataframe tbody tr th {\n",
       "        vertical-align: top;\n",
       "    }\n",
       "\n",
       "    .dataframe thead th {\n",
       "        text-align: right;\n",
       "    }\n",
       "</style>\n",
       "<table border=\"1\" class=\"dataframe\">\n",
       "  <thead>\n",
       "    <tr style=\"text-align: right;\">\n",
       "      <th></th>\n",
       "      <th>1</th>\n",
       "      <th>2</th>\n",
       "      <th>3</th>\n",
       "      <th>4</th>\n",
       "      <th>5</th>\n",
       "      <th>6</th>\n",
       "      <th>7</th>\n",
       "      <th>8</th>\n",
       "      <th>9</th>\n",
       "      <th>10</th>\n",
       "      <th>...</th>\n",
       "      <th>36</th>\n",
       "      <th>37</th>\n",
       "      <th>38</th>\n",
       "      <th>39</th>\n",
       "      <th>40</th>\n",
       "      <th>41</th>\n",
       "      <th>42</th>\n",
       "      <th>43</th>\n",
       "      <th>44</th>\n",
       "      <th>45</th>\n",
       "    </tr>\n",
       "    <tr>\n",
       "      <th>line-lengths</th>\n",
       "      <th></th>\n",
       "      <th></th>\n",
       "      <th></th>\n",
       "      <th></th>\n",
       "      <th></th>\n",
       "      <th></th>\n",
       "      <th></th>\n",
       "      <th></th>\n",
       "      <th></th>\n",
       "      <th></th>\n",
       "      <th></th>\n",
       "      <th></th>\n",
       "      <th></th>\n",
       "      <th></th>\n",
       "      <th></th>\n",
       "      <th></th>\n",
       "      <th></th>\n",
       "      <th></th>\n",
       "      <th></th>\n",
       "      <th></th>\n",
       "      <th></th>\n",
       "    </tr>\n",
       "  </thead>\n",
       "  <tbody>\n",
       "    <tr>\n",
       "      <th>enwiki-latest-category.sql</th>\n",
       "      <td>76</td>\n",
       "      <td>3</td>\n",
       "      <td>41</td>\n",
       "      <td>58</td>\n",
       "      <td>38</td>\n",
       "      <td>1</td>\n",
       "      <td>66</td>\n",
       "      <td>68</td>\n",
       "      <td>66</td>\n",
       "      <td>31</td>\n",
       "      <td>...</td>\n",
       "      <td>1</td>\n",
       "      <td>3</td>\n",
       "      <td>37</td>\n",
       "      <td>3</td>\n",
       "      <td>1</td>\n",
       "      <td>49</td>\n",
       "      <td>1016485</td>\n",
       "      <td>1020907</td>\n",
       "      <td>1022071</td>\n",
       "      <td>1021962</td>\n",
       "    </tr>\n",
       "    <tr>\n",
       "      <th>enwiki-latest-page.sql</th>\n",
       "      <td>76</td>\n",
       "      <td>3</td>\n",
       "      <td>41</td>\n",
       "      <td>58</td>\n",
       "      <td>38</td>\n",
       "      <td>1</td>\n",
       "      <td>66</td>\n",
       "      <td>68</td>\n",
       "      <td>66</td>\n",
       "      <td>31</td>\n",
       "      <td>...</td>\n",
       "      <td>49</td>\n",
       "      <td>51</td>\n",
       "      <td>42</td>\n",
       "      <td>27</td>\n",
       "      <td>64</td>\n",
       "      <td>37</td>\n",
       "      <td>31</td>\n",
       "      <td>85</td>\n",
       "      <td>86</td>\n",
       "      <td>57</td>\n",
       "    </tr>\n",
       "    <tr>\n",
       "      <th>enwiki-latest-categorylinks.sql</th>\n",
       "      <td>76</td>\n",
       "      <td>3</td>\n",
       "      <td>41</td>\n",
       "      <td>58</td>\n",
       "      <td>38</td>\n",
       "      <td>1</td>\n",
       "      <td>66</td>\n",
       "      <td>68</td>\n",
       "      <td>66</td>\n",
       "      <td>31</td>\n",
       "      <td>...</td>\n",
       "      <td>70</td>\n",
       "      <td>62</td>\n",
       "      <td>57</td>\n",
       "      <td>1</td>\n",
       "      <td>3</td>\n",
       "      <td>42</td>\n",
       "      <td>3</td>\n",
       "      <td>1</td>\n",
       "      <td>54</td>\n",
       "      <td>1106336</td>\n",
       "    </tr>\n",
       "  </tbody>\n",
       "</table>\n",
       "<p>3 rows × 45 columns</p>\n",
       "</div>"
      ],
      "text/plain": [
       "                                 1   2   3   4   5   6   7   8   9   10  ...  \\\n",
       "line-lengths                                                             ...   \n",
       "enwiki-latest-category.sql       76   3  41  58  38   1  66  68  66  31  ...   \n",
       "enwiki-latest-page.sql           76   3  41  58  38   1  66  68  66  31  ...   \n",
       "enwiki-latest-categorylinks.sql  76   3  41  58  38   1  66  68  66  31  ...   \n",
       "\n",
       "                                 36  37  38  39  40  41       42       43  \\\n",
       "line-lengths                                                                \n",
       "enwiki-latest-category.sql        1   3  37   3   1  49  1016485  1020907   \n",
       "enwiki-latest-page.sql           49  51  42  27  64  37       31       85   \n",
       "enwiki-latest-categorylinks.sql  70  62  57   1   3  42        3        1   \n",
       "\n",
       "                                      44       45  \n",
       "line-lengths                                       \n",
       "enwiki-latest-category.sql       1022071  1021962  \n",
       "enwiki-latest-page.sql                86       57  \n",
       "enwiki-latest-categorylinks.sql       54  1106336  \n",
       "\n",
       "[3 rows x 45 columns]"
      ]
     },
     "execution_count": 57,
     "metadata": {},
     "output_type": "execute_result"
    }
   ],
   "source": [
    "head = pd.concat(\n",
    "    (dict_of_length_series[i].head(45).rename(i).to_frame() for i in dict_of_length_series),\n",
    "    axis = 1\n",
    ").T.rename_axis('line-lengths')\n",
    "head"
   ]
  },
  {
   "cell_type": "markdown",
   "id": "c4b336d1-3b00-4546-9af7-fd852b7e5a04",
   "metadata": {
    "jp-MarkdownHeadingCollapsed": true,
    "tags": []
   },
   "source": [
    "##### last few line lengths"
   ]
  },
  {
   "cell_type": "code",
   "execution_count": 58,
   "id": "1985064a-11d3-4bb4-a922-205365163c23",
   "metadata": {},
   "outputs": [
    {
     "data": {
      "text/html": [
       "<div>\n",
       "<style scoped>\n",
       "    .dataframe tbody tr th:only-of-type {\n",
       "        vertical-align: middle;\n",
       "    }\n",
       "\n",
       "    .dataframe tbody tr th {\n",
       "        vertical-align: top;\n",
       "    }\n",
       "\n",
       "    .dataframe thead th {\n",
       "        text-align: right;\n",
       "    }\n",
       "</style>\n",
       "<table border=\"1\" class=\"dataframe\">\n",
       "  <thead>\n",
       "    <tr style=\"text-align: right;\">\n",
       "      <th></th>\n",
       "      <th>-45</th>\n",
       "      <th>-44</th>\n",
       "      <th>-43</th>\n",
       "      <th>-42</th>\n",
       "      <th>-41</th>\n",
       "      <th>-40</th>\n",
       "      <th>-39</th>\n",
       "      <th>-38</th>\n",
       "      <th>-37</th>\n",
       "      <th>-36</th>\n",
       "      <th>...</th>\n",
       "      <th>-10</th>\n",
       "      <th>-9</th>\n",
       "      <th>-8</th>\n",
       "      <th>-7</th>\n",
       "      <th>-6</th>\n",
       "      <th>-5</th>\n",
       "      <th>-4</th>\n",
       "      <th>-3</th>\n",
       "      <th>-2</th>\n",
       "      <th>-1</th>\n",
       "    </tr>\n",
       "    <tr>\n",
       "      <th>line-lengths</th>\n",
       "      <th></th>\n",
       "      <th></th>\n",
       "      <th></th>\n",
       "      <th></th>\n",
       "      <th></th>\n",
       "      <th></th>\n",
       "      <th></th>\n",
       "      <th></th>\n",
       "      <th></th>\n",
       "      <th></th>\n",
       "      <th></th>\n",
       "      <th></th>\n",
       "      <th></th>\n",
       "      <th></th>\n",
       "      <th></th>\n",
       "      <th></th>\n",
       "      <th></th>\n",
       "      <th></th>\n",
       "      <th></th>\n",
       "      <th></th>\n",
       "      <th></th>\n",
       "    </tr>\n",
       "  </thead>\n",
       "  <tbody>\n",
       "    <tr>\n",
       "      <th>enwiki-latest-category.sql</th>\n",
       "      <td>1026192</td>\n",
       "      <td>1026203</td>\n",
       "      <td>1025312</td>\n",
       "      <td>1025496</td>\n",
       "      <td>1026336</td>\n",
       "      <td>1017999</td>\n",
       "      <td>1026331</td>\n",
       "      <td>1027685</td>\n",
       "      <td>1025438</td>\n",
       "      <td>1026809</td>\n",
       "      <td>...</td>\n",
       "      <td>1</td>\n",
       "      <td>40</td>\n",
       "      <td>60</td>\n",
       "      <td>50</td>\n",
       "      <td>64</td>\n",
       "      <td>66</td>\n",
       "      <td>64</td>\n",
       "      <td>42</td>\n",
       "      <td>1</td>\n",
       "      <td>41</td>\n",
       "    </tr>\n",
       "    <tr>\n",
       "      <th>enwiki-latest-page.sql</th>\n",
       "      <td>1036239</td>\n",
       "      <td>1037387</td>\n",
       "      <td>1037318</td>\n",
       "      <td>1037146</td>\n",
       "      <td>1037498</td>\n",
       "      <td>1037314</td>\n",
       "      <td>1038536</td>\n",
       "      <td>1037706</td>\n",
       "      <td>1038308</td>\n",
       "      <td>1038421</td>\n",
       "      <td>...</td>\n",
       "      <td>1</td>\n",
       "      <td>40</td>\n",
       "      <td>60</td>\n",
       "      <td>50</td>\n",
       "      <td>64</td>\n",
       "      <td>66</td>\n",
       "      <td>64</td>\n",
       "      <td>42</td>\n",
       "      <td>1</td>\n",
       "      <td>41</td>\n",
       "    </tr>\n",
       "    <tr>\n",
       "      <th>enwiki-latest-categorylinks.sql</th>\n",
       "      <td>1121145</td>\n",
       "      <td>1124708</td>\n",
       "      <td>1123446</td>\n",
       "      <td>1123851</td>\n",
       "      <td>1121403</td>\n",
       "      <td>1121555</td>\n",
       "      <td>1113303</td>\n",
       "      <td>1120170</td>\n",
       "      <td>1119324</td>\n",
       "      <td>1123942</td>\n",
       "      <td>...</td>\n",
       "      <td>1</td>\n",
       "      <td>40</td>\n",
       "      <td>60</td>\n",
       "      <td>50</td>\n",
       "      <td>64</td>\n",
       "      <td>66</td>\n",
       "      <td>64</td>\n",
       "      <td>42</td>\n",
       "      <td>1</td>\n",
       "      <td>41</td>\n",
       "    </tr>\n",
       "  </tbody>\n",
       "</table>\n",
       "<p>3 rows × 45 columns</p>\n",
       "</div>"
      ],
      "text/plain": [
       "                                     -45      -44      -43      -42      -41  \\\n",
       "line-lengths                                                                   \n",
       "enwiki-latest-category.sql       1026192  1026203  1025312  1025496  1026336   \n",
       "enwiki-latest-page.sql           1036239  1037387  1037318  1037146  1037498   \n",
       "enwiki-latest-categorylinks.sql  1121145  1124708  1123446  1123851  1121403   \n",
       "\n",
       "                                     -40      -39      -38      -37      -36  \\\n",
       "line-lengths                                                                   \n",
       "enwiki-latest-category.sql       1017999  1026331  1027685  1025438  1026809   \n",
       "enwiki-latest-page.sql           1037314  1038536  1037706  1038308  1038421   \n",
       "enwiki-latest-categorylinks.sql  1121555  1113303  1120170  1119324  1123942   \n",
       "\n",
       "                                 ...  -10  -9   -8   -7   -6   -5   -4   -3   \\\n",
       "line-lengths                     ...                                           \n",
       "enwiki-latest-category.sql       ...    1   40   60   50   64   66   64   42   \n",
       "enwiki-latest-page.sql           ...    1   40   60   50   64   66   64   42   \n",
       "enwiki-latest-categorylinks.sql  ...    1   40   60   50   64   66   64   42   \n",
       "\n",
       "                                 -2   -1   \n",
       "line-lengths                               \n",
       "enwiki-latest-category.sql         1   41  \n",
       "enwiki-latest-page.sql             1   41  \n",
       "enwiki-latest-categorylinks.sql    1   41  \n",
       "\n",
       "[3 rows x 45 columns]"
      ]
     },
     "execution_count": 58,
     "metadata": {},
     "output_type": "execute_result"
    }
   ],
   "source": [
    "tail = pd.concat(\n",
    "    (dict_of_length_series[i].tail(45).reset_index(drop=True).rename(i).to_frame() for i in dict_of_length_series),\n",
    "    axis=1\n",
    ")\n",
    "tail.index = range(-45,0)\n",
    "tail = tail.T.rename_axis('line-lengths')\n",
    "tail"
   ]
  },
  {
   "cell_type": "markdown",
   "id": "32519df5-83fc-423c-a012-075b61bd9625",
   "metadata": {
    "jp-MarkdownHeadingCollapsed": true,
    "tags": []
   },
   "source": [
    "#### generate plots"
   ]
  },
  {
   "cell_type": "code",
   "execution_count": 53,
   "id": "855b6743-a263-44ca-895d-14d137610225",
   "metadata": {},
   "outputs": [
    {
     "data": {
      "image/png": "[encoded data removed]",
      "text/plain": [
       "<Figure size 432x288 with 1 Axes>"
      ]
     },
     "metadata": {
      "needs_background": "light"
     },
     "output_type": "display_data"
    },
    {
     "data": {
      "image/png": "[encoded data removed]",
      "text/plain": [
       "<Figure size 432x288 with 1 Axes>"
      ]
     },
     "metadata": {
      "needs_background": "light"
     },
     "output_type": "display_data"
    },
    {
     "data": {
      "image/png": "[encoded data removed]",
      "text/plain": [
       "<Figure size 432x288 with 1 Axes>"
      ]
     },
     "metadata": {
      "needs_background": "light"
     },
     "output_type": "display_data"
    }
   ],
   "source": [
    "figs = {}; axes = {}\n",
    "for i in filenames:\n",
    "    figs[i] = plt.figure()\n",
    "    axes[i] = figs[i].gca()\n",
    "    dict_of_length_series[i].plot(ax=axes[i])\n",
    "    axes[i].set_xticks([])\n",
    "    axes[i].set_xlabel(f'rows of file: 1 to {len(dict_of_length_series[i])}')\n",
    "    axes[i].set_ylabel('line length')\n",
    "    axes[i].set_title(i)\n",
    "    plt.show()"
   ]
  },
  {
   "cell_type": "markdown",
   "id": "b26e00a4-b474-483c-bb25-3b05c54c6284",
   "metadata": {},
   "source": [
    "## peek at text of dumpfiles"
   ]
  },
  {
   "cell_type": "markdown",
   "id": "60053c2f-e0ae-419c-b295-10deeb7d861e",
   "metadata": {},
   "source": [
    "#### get ```start_insert_nums``` and ```start_footer_nums``` from line lengths"
   ]
  },
  {
   "cell_type": "code",
   "execution_count": 127,
   "id": "e9d07cf2-cb90-4bd2-b05a-e0d7a5362e6a",
   "metadata": {},
   "outputs": [],
   "source": [
    "def get_first(lambda_boolean_condition:str, ser:pd.Series):\n",
    "    \"\"\"\n",
    "    WARNING: USES pd.Series.eval()\n",
    "    Returns index of the first element of a pd.Series that satisfies a lambda boolean condition\n",
    "    Inputs:\n",
    "        lambda_boolean_condition (str): lambda boolean condition as string\n",
    "        ser (pd.Series): series to to find the first of\n",
    "    \"\"\"\n",
    "    for i in ser.index:\n",
    "        try:\n",
    "            if ser.eval(condition):\n",
    "                return i\n",
    "            else:\n",
    "                continue\n",
    "        except:\n",
    "            continue"
   ]
  },
  {
   "cell_type": "code",
   "execution_count": 140,
   "id": "f962e554-778c-4cca-82ee-cee804b8ee2f",
   "metadata": {},
   "outputs": [],
   "source": [
    "start_insert_nums = {}\n",
    "start_footer_nums = {}\n",
    "for i in filenames:\n",
    "    insert_indices = dict_of_length_series[i].to_frame().query('line_lengths > 200').index\n",
    "    start_insert_nums[i] = insert_indices[0]\n",
    "    start_footer_nums[i] = insert_indices[-1] + 1"
   ]
  },
  {
   "cell_type": "code",
   "execution_count": 144,
   "id": "f966bb54-b292-49cc-90ef-1c4294f1e1cf",
   "metadata": {},
   "outputs": [
    {
     "ename": "KeyboardInterrupt",
     "evalue": "",
     "output_type": "error",
     "traceback": [
      "\u001b[0;31m---------------------------------------------------------------------------\u001b[0m",
      "\u001b[0;31mKeyboardInterrupt\u001b[0m                         Traceback (most recent call last)",
      "\u001b[0;32m/tmp/ipykernel_286865/754186258.py\u001b[0m in \u001b[0;36m<module>\u001b[0;34m\u001b[0m\n\u001b[1;32m      8\u001b[0m             \u001b[0mct\u001b[0m \u001b[0;34m+=\u001b[0m \u001b[0;36m1\u001b[0m\u001b[0;34m\u001b[0m\u001b[0;34m\u001b[0m\u001b[0m\n\u001b[1;32m      9\u001b[0m         \u001b[0;32mwhile\u001b[0m \u001b[0mct\u001b[0m \u001b[0;34m<\u001b[0m \u001b[0mstart_footer_nums\u001b[0m\u001b[0;34m[\u001b[0m\u001b[0mname\u001b[0m\u001b[0;34m]\u001b[0m\u001b[0;34m:\u001b[0m\u001b[0;34m\u001b[0m\u001b[0;34m\u001b[0m\u001b[0m\n\u001b[0;32m---> 10\u001b[0;31m             \u001b[0mf\u001b[0m\u001b[0;34m.\u001b[0m\u001b[0mreadline\u001b[0m\u001b[0;34m(\u001b[0m\u001b[0;34m)\u001b[0m\u001b[0;34m\u001b[0m\u001b[0;34m\u001b[0m\u001b[0m\n\u001b[0m\u001b[1;32m     11\u001b[0m             \u001b[0mct\u001b[0m \u001b[0;34m+=\u001b[0m \u001b[0;36m1\u001b[0m\u001b[0;34m\u001b[0m\u001b[0;34m\u001b[0m\u001b[0m\n\u001b[1;32m     12\u001b[0m         \u001b[0;32mwhile\u001b[0m \u001b[0;34m(\u001b[0m\u001b[0mline\u001b[0m \u001b[0;34m:=\u001b[0m \u001b[0mf\u001b[0m\u001b[0;34m.\u001b[0m\u001b[0mreadline\u001b[0m\u001b[0;34m(\u001b[0m\u001b[0;34m)\u001b[0m\u001b[0;34m)\u001b[0m\u001b[0;34m:\u001b[0m\u001b[0;34m\u001b[0m\u001b[0;34m\u001b[0m\u001b[0m\n",
      "\u001b[0;32m~/anaconda3/envs/py39/lib/python3.9/codecs.py\u001b[0m in \u001b[0;36mdecode\u001b[0;34m(self, input, final)\u001b[0m\n\u001b[1;32m    320\u001b[0m         \u001b[0;31m# decode input (taking the buffer into account)\u001b[0m\u001b[0;34m\u001b[0m\u001b[0;34m\u001b[0m\u001b[0m\n\u001b[1;32m    321\u001b[0m         \u001b[0mdata\u001b[0m \u001b[0;34m=\u001b[0m \u001b[0mself\u001b[0m\u001b[0;34m.\u001b[0m\u001b[0mbuffer\u001b[0m \u001b[0;34m+\u001b[0m \u001b[0minput\u001b[0m\u001b[0;34m\u001b[0m\u001b[0;34m\u001b[0m\u001b[0m\n\u001b[0;32m--> 322\u001b[0;31m         \u001b[0;34m(\u001b[0m\u001b[0mresult\u001b[0m\u001b[0;34m,\u001b[0m \u001b[0mconsumed\u001b[0m\u001b[0;34m)\u001b[0m \u001b[0;34m=\u001b[0m \u001b[0mself\u001b[0m\u001b[0;34m.\u001b[0m\u001b[0m_buffer_decode\u001b[0m\u001b[0;34m(\u001b[0m\u001b[0mdata\u001b[0m\u001b[0;34m,\u001b[0m \u001b[0mself\u001b[0m\u001b[0;34m.\u001b[0m\u001b[0merrors\u001b[0m\u001b[0;34m,\u001b[0m \u001b[0mfinal\u001b[0m\u001b[0;34m)\u001b[0m\u001b[0;34m\u001b[0m\u001b[0;34m\u001b[0m\u001b[0m\n\u001b[0m\u001b[1;32m    323\u001b[0m         \u001b[0;31m# keep undecoded input until the next call\u001b[0m\u001b[0;34m\u001b[0m\u001b[0;34m\u001b[0m\u001b[0m\n\u001b[1;32m    324\u001b[0m         \u001b[0mself\u001b[0m\u001b[0;34m.\u001b[0m\u001b[0mbuffer\u001b[0m \u001b[0;34m=\u001b[0m \u001b[0mdata\u001b[0m\u001b[0;34m[\u001b[0m\u001b[0mconsumed\u001b[0m\u001b[0;34m:\u001b[0m\u001b[0;34m]\u001b[0m\u001b[0;34m\u001b[0m\u001b[0;34m\u001b[0m\u001b[0m\n",
      "\u001b[0;31mKeyboardInterrupt\u001b[0m: "
     ]
    }
   ],
   "source": [
    "dict_header_rows, dict_footer_rows = {}, {}\n",
    "for name in filenames:\n",
    "    with open_dump(dir_path + name) as f:\n",
    "        header_rows, footer_rows = [], []\n",
    "        ct = 0\n",
    "        while ct < start_insert_nums[name]:\n",
    "            header_rows.append(f.readline())\n",
    "            ct += 1\n",
    "        while ct < start_footer_nums[name]:\n",
    "            f.readline()\n",
    "            ct += 1\n",
    "        while (line := f.readline()):\n",
    "            footer_rows.append(f.readline())\n",
    "        dict_header_rows[name] = header_rows\n",
    "        dict_footer_rows[name] = footer_rows"
   ]
  },
  {
   "cell_type": "code",
   "execution_count": 89,
   "id": "020a6e2a-3dab-4e36-911c-37756a8ee5f2",
   "metadata": {},
   "outputs": [
    {
     "name": "stdout",
     "output_type": "stream",
     "text": [
      "-- MySQL dump 10.19  Distrib 10.3.31-MariaDB, for debian-linux-gnu (x86_64)\n",
      "\n",
      "--\n",
      "\n",
      "-- Host: 10.64.48.13    Database: enwiki\n",
      "\n",
      "-- ------------------------------------------------------\n",
      "\n",
      "-- Server version\t10.4.21-MariaDB-log\n",
      "\n",
      "\n",
      "\n",
      "/*!40101 SET @OLD_CHARACTER_SET_CLIENT=@@CHARACTER_SET_CLIENT */;\n",
      "\n",
      "/*!40101 SET @OLD_CHARACTER_SET_RESULTS=@@CHARACTER_SET_RESULTS */;\n",
      "\n",
      "/*!40101 SET @OLD_COLLATION_CONNECTION=@@COLLATION_CONNECTION */;\n",
      "\n",
      "/*!40101 SET NAMES utf8mb4 */;\n",
      "\n",
      "/*!40103 SET @OLD_TIME_ZONE=@@TIME_ZONE */;\n",
      "\n",
      "/*!40103 SET TIME_ZONE='+00:00' */;\n",
      "\n",
      "/*!40014 SET @OLD_UNIQUE_CHECKS=@@UNIQUE_CHECKS, UNIQUE_CHECKS=0 */;\n",
      "\n",
      "/*!40014 SET @OLD_FOREIGN_KEY_CHECKS=@@FOREIGN_KEY_CHECKS, FOREIGN_KEY_CHECKS=0 */;\n",
      "\n",
      "/*!40101 SET @OLD_SQL_MODE=@@SQL_MODE, SQL_MODE='NO_AUTO_VALUE_ON_ZERO' */;\n",
      "\n",
      "/*!40111 SET @OLD_SQL_NOTES=@@SQL_NOTES, SQL_NOTES=0 */;\n",
      "\n",
      "\n",
      "\n",
      "--\n",
      "\n",
      "-- Table structure for table `category`\n",
      "\n",
      "--\n",
      "\n",
      "\n",
      "\n",
      "DROP TABLE IF EXISTS `category`;\n",
      "\n",
      "/*!40101 SET @saved_cs_client     = @@character_set_client */;\n",
      "\n",
      "/*!40101 SET character_set_client = utf8 */;\n",
      "\n",
      "CREATE TABLE `category` (\n",
      "\n",
      "  `cat_id` int(10) unsigned NOT NULL AUTO_INCREMENT,\n",
      "\n",
      "  `cat_title` varbinary(255) NOT NULL DEFAULT '',\n",
      "\n",
      "  `cat_pages` int(11) NOT NULL DEFAULT 0,\n",
      "\n",
      "  `cat_subcats` int(11) NOT NULL DEFAULT 0,\n",
      "\n",
      "  `cat_files` int(11) NOT NULL DEFAULT 0,\n",
      "\n",
      "  PRIMARY KEY (`cat_id`),\n",
      "\n",
      "  UNIQUE KEY `cat_title` (`cat_title`),\n",
      "\n",
      "  KEY `cat_pages` (`cat_pages`)\n",
      "\n",
      ") ENGINE=InnoDB AUTO_INCREMENT=248633369 DEFAULT CHARSET=binary ROW_FORMAT=COMPRESSED;\n",
      "\n",
      "/*!40101 SET character_set_client = @saved_cs_client */;\n",
      "\n",
      "\n",
      "\n",
      "--\n",
      "\n",
      "-- Dumping data for table `category`\n",
      "\n",
      "--\n",
      "\n",
      "\n",
      "\n",
      "/*!40000 ALTER TABLE `category` DISABLE KEYS */;\n",
      "\n"
     ]
    }
   ],
   "source": [
    "print('\\n'.join(dict_header_rows[filenames[0]]))"
   ]
  },
  {
   "cell_type": "code",
   "execution_count": null,
   "id": "457eebd8-179c-43a6-9726-1e7791ea30b5",
   "metadata": {},
   "outputs": [],
   "source": [
    "print('\\n'.join(footer_rows))"
   ]
  },
  {
   "cell_type": "markdown",
   "id": "057ccb70-9880-4133-8083-3fa0764a3865",
   "metadata": {},
   "source": [
    "### peek at headers"
   ]
  },
  {
   "cell_type": "code",
   "execution_count": null,
   "id": "11cac93b-626d-416f-993e-9c1d5d682177",
   "metadata": {},
   "outputs": [],
   "source": []
  },
  {
   "cell_type": "markdown",
   "id": "7110a40f-9e34-46d8-8385-2bfac6a37423",
   "metadata": {
    "tags": []
   },
   "source": [
    "### peek at footers"
   ]
  },
  {
   "cell_type": "code",
   "execution_count": null,
   "id": "4fdc5f62-16cc-4c98-9a89-7237825d5337",
   "metadata": {},
   "outputs": [],
   "source": []
  },
  {
   "cell_type": "markdown",
   "id": "df057fa3-6d60-469e-8858-9d586e6731c2",
   "metadata": {
    "jp-MarkdownHeadingCollapsed": true,
    "tags": []
   },
   "source": [
    "### peek at an interior row"
   ]
  },
  {
   "cell_type": "markdown",
   "id": "1fbea77e-68a2-4ad0-961b-aaefc2af4d28",
   "metadata": {
    "jp-MarkdownHeadingCollapsed": true,
    "tags": []
   },
   "source": [
    "#### get first 240 characters of line 60 in each dumpfile"
   ]
  },
  {
   "cell_type": "code",
   "execution_count": 81,
   "id": "b42e41f9-baec-41f0-886a-ea5ae9f4efac",
   "metadata": {},
   "outputs": [],
   "source": [
    "line_num = 60\n",
    "dict_line60 = {}\n",
    "for i in filenames:\n",
    "    with open_dump(dir_path + i) as f:\n",
    "        for j in range(line_num):\n",
    "            f.readline()\n",
    "        dict_line60[i] = [f.readline()[:80], f.readline()[80:160], f.readline()[160:240]]"
   ]
  },
  {
   "cell_type": "markdown",
   "id": "2df0eb74-928b-49e0-9fdc-ae3f519d8b6a",
   "metadata": {
    "jp-MarkdownHeadingCollapsed": true,
    "tags": []
   },
   "source": [
    "#### print the first 240 characters of line 60 of each dumpfile"
   ]
  },
  {
   "cell_type": "code",
   "execution_count": 82,
   "id": "d8f7cd14-1993-434c-9ee7-93b2e6d507e5",
   "metadata": {},
   "outputs": [
    {
     "name": "stdout",
     "output_type": "stream",
     "text": [
      "enwiki-latest-category.sql\n",
      "INSERT INTO `category` VALUES (773529,'People_from_Fort_Worth',0,0,0),(773531,'C\n",
      "\t1,0),(824007,'Pequot_War',27,0,0),(824009,'Cities_and_towns_in_Fatehgarh_Sahib_d\n",
      "\tlms',0,0,0),(6585460,'B-Class_Saint_Lucia_articles',3,0,0),(6585574,'Subgroup_se\n",
      "\n",
      "enwiki-latest-page.sql\n",
      "INSERT INTO `page` VALUES (101540,1,'Susquehanna_County,_Pennsylvania','',0,0,0.\n",
      "\t,'20211029153637','20211029183623',973939179,12667,'wikitext',NULL),(110842,0,'N\n",
      "\tikitext',NULL),(119449,0,'Lammers_Township,_Beltrami_County,_Minnesota','',0,0,0\n",
      "\n",
      "enwiki-latest-categorylinks.sql\n",
      "INSERT INTO `categorylinks` VALUES (9701,'Wikipedia_Version_1.0_articles','2LFN:\n",
      "\t 03:01:42',' ','uca-default-u-kn','page'),(10191,'Edo_period','20F\u0001\u0007\u0001\\xdc\u0006','201\n",
      "\t3,'CS1_German-language_sources_(de)','8:NPFLZ\u0004F4\u00044:@B\u0001\u0013\u0001\\xdc\u0012','2021-04-20 13:57\n",
      "\n"
     ]
    }
   ],
   "source": [
    "for name in filenames:\n",
    "    print(name)\n",
    "    print('\\n\\t'.join(dict_line60[name]))\n",
    "    print()"
   ]
  },
  {
   "cell_type": "markdown",
   "id": "1fa7d3f7-b9a5-4e83-ab18-3effb1b84ab5",
   "metadata": {
    "tags": []
   },
   "source": [
    "# TL;DR"
   ]
  },
  {
   "cell_type": "markdown",
   "id": "186f623e-5b3f-47a2-ac3e-4450abe206e9",
   "metadata": {
    "tags": []
   },
   "source": [
    "### Summary of file structure"
   ]
  },
  {
   "cell_type": "markdown",
   "id": "66d3c273-b555-41f1-b11b-09feddf21bc4",
   "metadata": {},
   "source": [
    "- **Headers and schema:**\n",
    "    - from beginning of file to approx 41st row\n",
    "- **Data:**\n",
    "    - formatted as sql INSERT commands\n",
    "    - each INSERT row has ~10^6 characters\n",
    "    - until the footers\n",
    "- **Footers:**\n",
    "    - some footers"
   ]
  },
  {
   "cell_type": "markdown",
   "id": "a22a58c0-7f7d-4945-9b64-ba4ddc40198d",
   "metadata": {
    "tags": []
   },
   "source": [
    "## display tables and plots"
   ]
  },
  {
   "cell_type": "markdown",
   "id": "4a30ab3b-243a-4149-b625-be7588bc769f",
   "metadata": {
    "jp-MarkdownHeadingCollapsed": true,
    "tags": []
   },
   "source": [
    "#### display tables of line-counts, line-lengths"
   ]
  },
  {
   "cell_type": "code",
   "execution_count": 46,
   "id": "8c78bbd5-b902-4fcd-b2cd-52cec509e4c7",
   "metadata": {},
   "outputs": [
    {
     "data": {
      "text/html": [
       "<div>\n",
       "<style scoped>\n",
       "    .dataframe tbody tr th:only-of-type {\n",
       "        vertical-align: middle;\n",
       "    }\n",
       "\n",
       "    .dataframe tbody tr th {\n",
       "        vertical-align: top;\n",
       "    }\n",
       "\n",
       "    .dataframe thead th {\n",
       "        text-align: right;\n",
       "    }\n",
       "</style>\n",
       "<table border=\"1\" class=\"dataframe\">\n",
       "  <thead>\n",
       "    <tr style=\"text-align: right;\">\n",
       "      <th></th>\n",
       "      <th>line counts</th>\n",
       "    </tr>\n",
       "  </thead>\n",
       "  <tbody>\n",
       "    <tr>\n",
       "      <th>enwiki-latest-category.sql</th>\n",
       "      <td>164</td>\n",
       "    </tr>\n",
       "    <tr>\n",
       "      <th>enwiki-latest-page.sql</th>\n",
       "      <td>6471</td>\n",
       "    </tr>\n",
       "    <tr>\n",
       "      <th>enwiki-latest-categorylinks.sql</th>\n",
       "      <td>24429</td>\n",
       "    </tr>\n",
       "  </tbody>\n",
       "</table>\n",
       "</div>"
      ],
      "text/plain": [
       "                                 line counts\n",
       "enwiki-latest-category.sql               164\n",
       "enwiki-latest-page.sql                  6471\n",
       "enwiki-latest-categorylinks.sql        24429"
      ]
     },
     "metadata": {},
     "output_type": "display_data"
    },
    {
     "data": {
      "text/html": [
       "<div>\n",
       "<style scoped>\n",
       "    .dataframe tbody tr th:only-of-type {\n",
       "        vertical-align: middle;\n",
       "    }\n",
       "\n",
       "    .dataframe tbody tr th {\n",
       "        vertical-align: top;\n",
       "    }\n",
       "\n",
       "    .dataframe thead th {\n",
       "        text-align: right;\n",
       "    }\n",
       "</style>\n",
       "<table border=\"1\" class=\"dataframe\">\n",
       "  <thead>\n",
       "    <tr style=\"text-align: right;\">\n",
       "      <th></th>\n",
       "      <th>1</th>\n",
       "      <th>2</th>\n",
       "      <th>3</th>\n",
       "      <th>4</th>\n",
       "      <th>5</th>\n",
       "      <th>6</th>\n",
       "      <th>7</th>\n",
       "      <th>8</th>\n",
       "      <th>9</th>\n",
       "      <th>10</th>\n",
       "      <th>...</th>\n",
       "      <th>36</th>\n",
       "      <th>37</th>\n",
       "      <th>38</th>\n",
       "      <th>39</th>\n",
       "      <th>40</th>\n",
       "      <th>41</th>\n",
       "      <th>42</th>\n",
       "      <th>43</th>\n",
       "      <th>44</th>\n",
       "      <th>45</th>\n",
       "    </tr>\n",
       "    <tr>\n",
       "      <th>line-lengths</th>\n",
       "      <th></th>\n",
       "      <th></th>\n",
       "      <th></th>\n",
       "      <th></th>\n",
       "      <th></th>\n",
       "      <th></th>\n",
       "      <th></th>\n",
       "      <th></th>\n",
       "      <th></th>\n",
       "      <th></th>\n",
       "      <th></th>\n",
       "      <th></th>\n",
       "      <th></th>\n",
       "      <th></th>\n",
       "      <th></th>\n",
       "      <th></th>\n",
       "      <th></th>\n",
       "      <th></th>\n",
       "      <th></th>\n",
       "      <th></th>\n",
       "      <th></th>\n",
       "    </tr>\n",
       "  </thead>\n",
       "  <tbody>\n",
       "    <tr>\n",
       "      <th>enwiki-latest-category.sql</th>\n",
       "      <td>76</td>\n",
       "      <td>3</td>\n",
       "      <td>41</td>\n",
       "      <td>58</td>\n",
       "      <td>38</td>\n",
       "      <td>1</td>\n",
       "      <td>66</td>\n",
       "      <td>68</td>\n",
       "      <td>66</td>\n",
       "      <td>31</td>\n",
       "      <td>...</td>\n",
       "      <td>1</td>\n",
       "      <td>3</td>\n",
       "      <td>37</td>\n",
       "      <td>3</td>\n",
       "      <td>1</td>\n",
       "      <td>49</td>\n",
       "      <td>1016485</td>\n",
       "      <td>1020907</td>\n",
       "      <td>1022071</td>\n",
       "      <td>1021962</td>\n",
       "    </tr>\n",
       "    <tr>\n",
       "      <th>enwiki-latest-page.sql</th>\n",
       "      <td>76</td>\n",
       "      <td>3</td>\n",
       "      <td>41</td>\n",
       "      <td>58</td>\n",
       "      <td>38</td>\n",
       "      <td>1</td>\n",
       "      <td>66</td>\n",
       "      <td>68</td>\n",
       "      <td>66</td>\n",
       "      <td>31</td>\n",
       "      <td>...</td>\n",
       "      <td>49</td>\n",
       "      <td>51</td>\n",
       "      <td>42</td>\n",
       "      <td>27</td>\n",
       "      <td>64</td>\n",
       "      <td>37</td>\n",
       "      <td>31</td>\n",
       "      <td>85</td>\n",
       "      <td>86</td>\n",
       "      <td>57</td>\n",
       "    </tr>\n",
       "    <tr>\n",
       "      <th>enwiki-latest-categorylinks.sql</th>\n",
       "      <td>76</td>\n",
       "      <td>3</td>\n",
       "      <td>41</td>\n",
       "      <td>58</td>\n",
       "      <td>38</td>\n",
       "      <td>1</td>\n",
       "      <td>66</td>\n",
       "      <td>68</td>\n",
       "      <td>66</td>\n",
       "      <td>31</td>\n",
       "      <td>...</td>\n",
       "      <td>70</td>\n",
       "      <td>62</td>\n",
       "      <td>57</td>\n",
       "      <td>1</td>\n",
       "      <td>3</td>\n",
       "      <td>42</td>\n",
       "      <td>3</td>\n",
       "      <td>1</td>\n",
       "      <td>54</td>\n",
       "      <td>1106336</td>\n",
       "    </tr>\n",
       "  </tbody>\n",
       "</table>\n",
       "<p>3 rows × 45 columns</p>\n",
       "</div>"
      ],
      "text/plain": [
       "                                 1   2   3   4   5   6   7   8   9   10  ...  \\\n",
       "line-lengths                                                             ...   \n",
       "enwiki-latest-category.sql       76   3  41  58  38   1  66  68  66  31  ...   \n",
       "enwiki-latest-page.sql           76   3  41  58  38   1  66  68  66  31  ...   \n",
       "enwiki-latest-categorylinks.sql  76   3  41  58  38   1  66  68  66  31  ...   \n",
       "\n",
       "                                 36  37  38  39  40  41       42       43  \\\n",
       "line-lengths                                                                \n",
       "enwiki-latest-category.sql        1   3  37   3   1  49  1016485  1020907   \n",
       "enwiki-latest-page.sql           49  51  42  27  64  37       31       85   \n",
       "enwiki-latest-categorylinks.sql  70  62  57   1   3  42        3        1   \n",
       "\n",
       "                                      44       45  \n",
       "line-lengths                                       \n",
       "enwiki-latest-category.sql       1022071  1021962  \n",
       "enwiki-latest-page.sql                86       57  \n",
       "enwiki-latest-categorylinks.sql       54  1106336  \n",
       "\n",
       "[3 rows x 45 columns]"
      ]
     },
     "metadata": {},
     "output_type": "display_data"
    },
    {
     "data": {
      "text/html": [
       "<div>\n",
       "<style scoped>\n",
       "    .dataframe tbody tr th:only-of-type {\n",
       "        vertical-align: middle;\n",
       "    }\n",
       "\n",
       "    .dataframe tbody tr th {\n",
       "        vertical-align: top;\n",
       "    }\n",
       "\n",
       "    .dataframe thead th {\n",
       "        text-align: right;\n",
       "    }\n",
       "</style>\n",
       "<table border=\"1\" class=\"dataframe\">\n",
       "  <thead>\n",
       "    <tr style=\"text-align: right;\">\n",
       "      <th></th>\n",
       "      <th>-45</th>\n",
       "      <th>-44</th>\n",
       "      <th>-43</th>\n",
       "      <th>-42</th>\n",
       "      <th>-41</th>\n",
       "      <th>-40</th>\n",
       "      <th>-39</th>\n",
       "      <th>-38</th>\n",
       "      <th>-37</th>\n",
       "      <th>-36</th>\n",
       "      <th>...</th>\n",
       "      <th>-10</th>\n",
       "      <th>-9</th>\n",
       "      <th>-8</th>\n",
       "      <th>-7</th>\n",
       "      <th>-6</th>\n",
       "      <th>-5</th>\n",
       "      <th>-4</th>\n",
       "      <th>-3</th>\n",
       "      <th>-2</th>\n",
       "      <th>-1</th>\n",
       "    </tr>\n",
       "  </thead>\n",
       "  <tbody>\n",
       "    <tr>\n",
       "      <th>enwiki-latest-category.sql</th>\n",
       "      <td>1026192</td>\n",
       "      <td>1026203</td>\n",
       "      <td>1025312</td>\n",
       "      <td>1025496</td>\n",
       "      <td>1026336</td>\n",
       "      <td>1017999</td>\n",
       "      <td>1026331</td>\n",
       "      <td>1027685</td>\n",
       "      <td>1025438</td>\n",
       "      <td>1026809</td>\n",
       "      <td>...</td>\n",
       "      <td>1</td>\n",
       "      <td>40</td>\n",
       "      <td>60</td>\n",
       "      <td>50</td>\n",
       "      <td>64</td>\n",
       "      <td>66</td>\n",
       "      <td>64</td>\n",
       "      <td>42</td>\n",
       "      <td>1</td>\n",
       "      <td>41</td>\n",
       "    </tr>\n",
       "    <tr>\n",
       "      <th>enwiki-latest-page.sql</th>\n",
       "      <td>1036239</td>\n",
       "      <td>1037387</td>\n",
       "      <td>1037318</td>\n",
       "      <td>1037146</td>\n",
       "      <td>1037498</td>\n",
       "      <td>1037314</td>\n",
       "      <td>1038536</td>\n",
       "      <td>1037706</td>\n",
       "      <td>1038308</td>\n",
       "      <td>1038421</td>\n",
       "      <td>...</td>\n",
       "      <td>1</td>\n",
       "      <td>40</td>\n",
       "      <td>60</td>\n",
       "      <td>50</td>\n",
       "      <td>64</td>\n",
       "      <td>66</td>\n",
       "      <td>64</td>\n",
       "      <td>42</td>\n",
       "      <td>1</td>\n",
       "      <td>41</td>\n",
       "    </tr>\n",
       "    <tr>\n",
       "      <th>enwiki-latest-categorylinks.sql</th>\n",
       "      <td>1121145</td>\n",
       "      <td>1124708</td>\n",
       "      <td>1123446</td>\n",
       "      <td>1123851</td>\n",
       "      <td>1121403</td>\n",
       "      <td>1121555</td>\n",
       "      <td>1113303</td>\n",
       "      <td>1120170</td>\n",
       "      <td>1119324</td>\n",
       "      <td>1123942</td>\n",
       "      <td>...</td>\n",
       "      <td>1</td>\n",
       "      <td>40</td>\n",
       "      <td>60</td>\n",
       "      <td>50</td>\n",
       "      <td>64</td>\n",
       "      <td>66</td>\n",
       "      <td>64</td>\n",
       "      <td>42</td>\n",
       "      <td>1</td>\n",
       "      <td>41</td>\n",
       "    </tr>\n",
       "  </tbody>\n",
       "</table>\n",
       "<p>3 rows × 45 columns</p>\n",
       "</div>"
      ],
      "text/plain": [
       "                                     -45      -44      -43      -42      -41  \\\n",
       "enwiki-latest-category.sql       1026192  1026203  1025312  1025496  1026336   \n",
       "enwiki-latest-page.sql           1036239  1037387  1037318  1037146  1037498   \n",
       "enwiki-latest-categorylinks.sql  1121145  1124708  1123446  1123851  1121403   \n",
       "\n",
       "                                     -40      -39      -38      -37      -36  \\\n",
       "enwiki-latest-category.sql       1017999  1026331  1027685  1025438  1026809   \n",
       "enwiki-latest-page.sql           1037314  1038536  1037706  1038308  1038421   \n",
       "enwiki-latest-categorylinks.sql  1121555  1113303  1120170  1119324  1123942   \n",
       "\n",
       "                                 ...  -10  -9   -8   -7   -6   -5   -4   -3   \\\n",
       "enwiki-latest-category.sql       ...    1   40   60   50   64   66   64   42   \n",
       "enwiki-latest-page.sql           ...    1   40   60   50   64   66   64   42   \n",
       "enwiki-latest-categorylinks.sql  ...    1   40   60   50   64   66   64   42   \n",
       "\n",
       "                                 -2   -1   \n",
       "enwiki-latest-category.sql         1   41  \n",
       "enwiki-latest-page.sql             1   41  \n",
       "enwiki-latest-categorylinks.sql    1   41  \n",
       "\n",
       "[3 rows x 45 columns]"
      ]
     },
     "metadata": {},
     "output_type": "display_data"
    }
   ],
   "source": [
    "display(line_counts, head, tail)"
   ]
  },
  {
   "cell_type": "markdown",
   "id": "ad27236b-9447-4d7c-8c67-fc78271e1c7a",
   "metadata": {
    "jp-MarkdownHeadingCollapsed": true,
    "tags": []
   },
   "source": [
    "#### display plots of the line lengths"
   ]
  },
  {
   "cell_type": "code",
   "execution_count": 64,
   "id": "a6373da6-624e-44d1-8ebd-217062abb4de",
   "metadata": {},
   "outputs": [
    {
     "data": {
      "image/png": "[encoded data removed]",
      "text/plain": [
       "<Figure size 432x288 with 1 Axes>"
      ]
     },
     "metadata": {},
     "output_type": "display_data"
    },
    {
     "data": {
      "image/png": "[encoded data removed]",
      "text/plain": [
       "<Figure size 432x288 with 1 Axes>"
      ]
     },
     "metadata": {},
     "output_type": "display_data"
    },
    {
     "data": {
      "image/png": "[encoded data removed]",
      "text/plain": [
       "<Figure size 432x288 with 1 Axes>"
      ]
     },
     "metadata": {},
     "output_type": "display_data"
    }
   ],
   "source": [
    "for i in figs: display(figs[i])"
   ]
  },
  {
   "cell_type": "code",
   "execution_count": null,
   "id": "a736dd01-c396-4dbe-af1e-5bd7c2975dfe",
   "metadata": {},
   "outputs": [],
   "source": []
  }
 ],
 "metadata": {
  "kernelspec": {
   "display_name": "Python 3 (ipykernel)",
   "language": "python",
   "name": "python3"
  },
  "language_info": {
   "codemirror_mode": {
    "name": "ipython",
    "version": 3
   },
   "file_extension": ".py",
   "mimetype": "text/x-python",
   "name": "python",
   "nbconvert_exporter": "python",
   "pygments_lexer": "ipython3",
   "version": "3.9.7"
  }
 },
 "nbformat": 4,
 "nbformat_minor": 5
}
