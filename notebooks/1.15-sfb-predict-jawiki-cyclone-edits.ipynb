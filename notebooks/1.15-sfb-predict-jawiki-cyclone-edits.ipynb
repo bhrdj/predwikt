{
 "cells": [
  {
   "cell_type": "markdown",
   "id": "9c4bf126-6b3b-4ff8-b0df-b7267c8311e0",
   "metadata": {},
   "source": [
    "# Predict edits to articles in the Tropical Cyclones category"
   ]
  },
  {
   "cell_type": "markdown",
   "id": "29eefdee-358d-49a8-ac83-dece541567e4",
   "metadata": {
    "jp-MarkdownHeadingCollapsed": true,
    "tags": []
   },
   "source": [
    "## Goals & Plans"
   ]
  },
  {
   "cell_type": "markdown",
   "id": "222800d2-e734-4d00-a406-d97cea02435b",
   "metadata": {},
   "source": [
    "Predict daily edits to pages in jawiki category: Tropical Cyclones (熱帯低気圧)"
   ]
  },
  {
   "cell_type": "markdown",
   "id": "aa7c9527-dbc3-434c-9460-221ba3d477f3",
   "metadata": {
    "jp-MarkdownHeadingCollapsed": true,
    "tags": []
   },
   "source": [
    "### Steps"
   ]
  },
  {
   "cell_type": "markdown",
   "id": "1d57d304-ae60-4042-b466-1922750e4611",
   "metadata": {},
   "source": [
    "#### ETL to get processed-input dataframes:"
   ]
  },
  {
   "cell_type": "markdown",
   "id": "4b862f77-0409-4ca3-aec6-321a71b8775f",
   "metadata": {},
   "source": [
    "- tcyc_page_ids_and_names  (data dump or https://ja.wikipedia.org/wiki/Category:%E7%86%B1%E5%B8%AF%E4%BD%8E%E6%B0%97%E5%9C%A7)\n",
    "- target_dayseries (edit counts)  (data dump or https://wikimedia.org/api/rest_v1/#/)  (timezone?)\n",
    "- target_dayseries (pageviews) https://wikimedia.org/api/rest_v1/#/Pageviews_data/get_metrics_pageviews\n",
    "- jp_cyc (landfall data etc)"
   ]
  },
  {
   "cell_type": "markdown",
   "id": "8def49fe-0653-437a-8eb9-e31f07d59d74",
   "metadata": {},
   "source": [
    "#### Quant Analysis"
   ]
  },
  {
   "cell_type": "markdown",
   "id": "7ce9bc08-695d-432c-90a6-1a0ce4e0d3bc",
   "metadata": {},
   "source": [
    "- overall lags\n",
    "    - Estimate mean/median/mode lags of edits around a tcyc versus landfall\n",
    "    - T-test (?) of mean lag for each of m/m/m lag to check if it's different from zero\n",
    "- proportions of edits by time category\n",
    "    - time categories\n",
    "        - reactive edits\n",
    "        - in-season edits\n",
    "        - off-season edits\n",
    "    - cross reference time-categories with user-categories\n",
    "        - weather-specialist editors\n",
    "        - frequent editors\n",
    "        - infrequent registered editors\n",
    "        - IP editors (by location?)\n",
    "    - cross-reference time-categories with different subcategories\n",
    "        - tcyc in Japan versus storms in other particular continents\n",
    "        - tcyc-science articles versus tcyc-storm articles\n",
    "        - compare edit counts b/o damages, storm strength"
   ]
  },
  {
   "cell_type": "markdown",
   "id": "9d3282ed-731c-4e25-86cd-a2dca7f47869",
   "metadata": {},
   "source": [
    "#### Predict"
   ]
  },
  {
   "cell_type": "markdown",
   "id": "93a7777d-51dc-4860-92b2-7ef75bacefe4",
   "metadata": {},
   "source": [
    "- baseline preds by day\n",
    "    - get residuals from raw values\n",
    "    - values could be:\n",
    "        - editcounts\n",
    "        - residuals\n",
    "        - reverted-edits\n",
    "- predict residual pageviews & edits based on landfall, landfall-severity, lagged vars (including self)\n",
    "    - plot edit-spread around landfall and predictions\n",
    "- predict non-tcyc edits\n",
    "    - with similar features\n",
    "- interesting questions:\n",
    "    - Are non-tcyc edits \"diverted\" to tcyc's?\n",
    "    - Are edits during crises less/more likely to get quickly reverted?\n",
    "        - Are users whose first edit occurs during a crisis more or less likely to become long-term contributors?"
   ]
  },
  {
   "cell_type": "markdown",
   "id": "d3434122-346f-4e82-af10-70df2674196f",
   "metadata": {
    "jp-MarkdownHeadingCollapsed": true,
    "tags": []
   },
   "source": [
    "### Details of processed-input dataframes"
   ]
  },
  {
   "cell_type": "markdown",
   "id": "a26fd6fd-5ae6-4f79-822d-870b0598521a",
   "metadata": {},
   "source": [
    "- Table **tcyc_page_ids_and_names:**\n",
    "    - Purpose: Help generate the target_dayseries\n",
    "    - Includes: One row for each page_id / page name combo in wikiproject\n",
    "    - Primary key (2-col pk): page_id, page name\n",
    "    - Other columns: none\n",
    "    - Sorting: By page_id, then by page name"
   ]
  },
  {
   "cell_type": "markdown",
   "id": "581941de-4411-4d7f-9f47-84a9726f6b32",
   "metadata": {},
   "source": [
    "- Table **target_dayseries:**\n",
    "    - Purpose: hold raw targets, baseline predictions, and deltas for-analysis\n",
    "    - Includes: One row for every day during period\n",
    "    - Primary key: edit_day (datetime)\n",
    "    - Other columns:  \n",
    "```\n",
    "editcount_all_raw,        editcount_cat_raw,  \n",
    "editcount_all_basepreds,     editcount_cat_basepreds,  \n",
    "delta_all_actual_basepreds,  delta_cat_actual_basepreds,\n",
    "```"
   ]
  },
  {
   "cell_type": "markdown",
   "id": "480d24a2-8b35-425c-b152-d8e1ab104d40",
   "metadata": {
    "jp-MarkdownHeadingCollapsed": true,
    "tags": []
   },
   "source": [
    "### Sources"
   ]
  },
  {
   "cell_type": "markdown",
   "id": "b88b2acd-082e-4d3a-b99e-8330aa8a6655",
   "metadata": {},
   "source": [
    "- Articles in the Tropical Cyclones category: ([jawiki categories](https://ja.wikipedia.org/wiki/Category:%E7%86%B1%E5%B8%AF%E4%BD%8E%E6%B0%97%E5%9C%A7))  \n",
    "- Articles to exclude: \n",
    "    - People who died in tcyc's ([jawiki categories](https://ja.wikipedia.org/wiki/Category:%E6%B4%9E%E7%88%BA%E4%B8%B8%E4%BA%8B%E6%95%85%E3%81%AE%E7%8A%A0%E7%89%B2%E8%80%85))\n",
    "    - English-name-articles for names that got assigned to tcyc's: ([jawiki categories](https://ja.wikipedia.org/wiki/Category:%E5%8F%B0%E9%A2%A8%E3%81%AE%E8%8B%B1%E5%90%8D))\n",
    "- Pageviews:\n",
    "    - 熱帯低気圧 ([jawiki page](https://ja.wikipedia.org/wiki/%E7%86%B1%E5%B8%AF%E4%BD%8E%E6%B0%97%E5%9C%A7)) ([data source](https://pageviews.toolforge.org/?project=ja.wikipedia.org&platform=all-access&agent=user&redirects=0&range=all-time&pages=%E7%86%B1%E5%B8%AF%E4%BD%8E%E6%B0%97%E5%9C%A7))"
   ]
  },
  {
   "cell_type": "markdown",
   "id": "7b201527-0a39-40e8-ab0c-82bc339ce2b4",
   "metadata": {
    "tags": []
   },
   "source": [
    "## Next-steps"
   ]
  },
  {
   "cell_type": "markdown",
   "id": "ad603b5a-be10-44e1-8dd8-c8a071f56c8b",
   "metadata": {},
   "source": [
    "### imports"
   ]
  },
  {
   "cell_type": "code",
   "execution_count": 216,
   "id": "4d495680-be12-429b-8bdb-effb6eb21091",
   "metadata": {},
   "outputs": [],
   "source": [
    "import pandas as pd, numpy as np, seaborn as sns, mysql.connector as mysql\n",
    "import os, psycopg2, sqlalchemy\n",
    "from pathlib import Path"
   ]
  },
  {
   "cell_type": "markdown",
   "id": "d6f1ed0c-1476-4d51-a7e2-346a91874344",
   "metadata": {
    "jp-MarkdownHeadingCollapsed": true,
    "tags": []
   },
   "source": [
    "### read prepped data"
   ]
  },
  {
   "cell_type": "code",
   "execution_count": 83,
   "id": "72040788-f5a8-4388-8d8d-3acf13443259",
   "metadata": {},
   "outputs": [],
   "source": [
    "damage = pd.read_csv('../data/raw/weather/japan_nii/damage.tsv', sep='\\t')\n",
    "landfall = pd.read_csv('../data/raw/weather/japan_nii/landfall.tsv', sep='\\t')"
   ]
  },
  {
   "cell_type": "markdown",
   "id": "b26d0a21-620a-4fcc-b84a-90b112a8c7e8",
   "metadata": {
    "tags": []
   },
   "source": [
    "### Get sql data"
   ]
  },
  {
   "cell_type": "markdown",
   "id": "921af51f-a461-4f12-94af-cf8b00afc876",
   "metadata": {
    "jp-MarkdownHeadingCollapsed": true,
    "tags": []
   },
   "source": [
    "#### turn on sql in bash"
   ]
  },
  {
   "cell_type": "markdown",
   "id": "32279fc5-e061-4ffd-ade5-de9f93785685",
   "metadata": {},
   "source": [
    "```bash\n",
    "sudo service mysqld start\n",
    "netstat -lnp | grep mysql\n",
    "```"
   ]
  },
  {
   "cell_type": "code",
   "execution_count": 160,
   "id": "ab080f70-7953-404b-b90c-d393fda9d72a",
   "metadata": {},
   "outputs": [],
   "source": [
    "mysql_superuser = 'root'\n",
    "# mysql_su_pass = input(f'Enter the MySQL password for user {mysql_superuser}: ')"
   ]
  },
  {
   "cell_type": "markdown",
   "id": "52437445-8ce5-406a-96b9-7164bf2d7172",
   "metadata": {
    "jp-MarkdownHeadingCollapsed": true,
    "tags": []
   },
   "source": [
    "#### Initialize a connection and cursor"
   ]
  },
  {
   "cell_type": "code",
   "execution_count": 236,
   "id": "376e7f1f-9d6a-4c57-bf2b-b50fda963fe6",
   "metadata": {},
   "outputs": [],
   "source": [
    "host='localhost'; user=mysql_superuser; passwd=mysql_su_pass;\n",
    "cxn = mysql.connect(host=host,user=user,passwd=passwd) # database='latest_categorylinks' # not the first time around\n",
    "cur = cxn.cursor()"
   ]
  },
  {
   "cell_type": "markdown",
   "id": "d8c62494-d64f-4779-9c86-6ba574b5d4ce",
   "metadata": {
    "jp-MarkdownHeadingCollapsed": true,
    "tags": []
   },
   "source": [
    "#### Check what's in mysql, pick a database, pick a table"
   ]
  },
  {
   "cell_type": "code",
   "execution_count": 237,
   "id": "56b1f728-8398-4c96-908a-064096c0b542",
   "metadata": {},
   "outputs": [
    {
     "name": "stdout",
     "output_type": "stream",
     "text": [
      "[('root@localhost',)]\n",
      "[('information_schema',), ('latest_categ',), ('latest_categorylinks',), ('latest_page',), ('mysql',), ('performance_schema',)]\n"
     ]
    }
   ],
   "source": [
    "cur.execute('select user();');       print(cur.fetchall())\n",
    "cur.execute('show databases;');      print(cur.fetchall())"
   ]
  },
  {
   "cell_type": "code",
   "execution_count": 238,
   "id": "abe3a3bd-1f30-43ad-ba01-cf25da179623",
   "metadata": {},
   "outputs": [
    {
     "name": "stdout",
     "output_type": "stream",
     "text": [
      "[('latest_categorylinks',)]\n",
      "[('categorylinks',)]\n"
     ]
    }
   ],
   "source": [
    "dbname = 'latest_categorylinks'\n",
    "cur.execute(f'use {dbname};')\n",
    "cur.execute('select database();');   print(cur.fetchall())\n",
    "cur.execute('show tables;');         print(cur.fetchall())"
   ]
  },
  {
   "cell_type": "code",
   "execution_count": 244,
   "id": "5d66bbba-6798-4221-8a9d-d546a5fda6db",
   "metadata": {},
   "outputs": [],
   "source": [
    "tblname = 'categorylinks'\n",
    "cur.execute(f'DESCRIBE {tblname};')\n",
    "schema_categorylinks = pd.DataFrame(cur.fetchall(), columns=['Field','Type','Null','Key','Default','Extra'])\n",
    "schema_categorylinks;"
   ]
  },
  {
   "cell_type": "code",
   "execution_count": 243,
   "id": "f3173dae-6372-40fb-a687-042ca3c1b180",
   "metadata": {},
   "outputs": [],
   "source": [
    "cur.execute(f'select * from {tblname} limit 10;');   \n",
    "firstfew = cur.fetchall();   firstfew;"
   ]
  },
  {
   "cell_type": "markdown",
   "id": "edf75336-8619-446e-89fb-bee45190a33d",
   "metadata": {},
   "source": [
    "#### Initialize an engine"
   ]
  },
  {
   "cell_type": "code",
   "execution_count": 245,
   "id": "ff58564f-7f4b-45ed-b6c1-9b887d6fd775",
   "metadata": {},
   "outputs": [
    {
     "data": {
      "text/plain": [
       "dict_keys(['categorylinks'])"
      ]
     },
     "execution_count": 245,
     "metadata": {},
     "output_type": "execute_result"
    }
   ],
   "source": [
    "# Finally, let's instantiate a SQL alchemy engine, so we can pass results sets into pandas and evaluate them here \n",
    "connection_str = 'mysql+mysqlconnector://'+user+':'+passwd+'@'+host+'/'+dbname  # removed this after host +':'+dbport\n",
    "try:\n",
    "    engine1 = sqlalchemy.create_engine(connection_str)\n",
    "    conn1 = engine1.connect()\n",
    "except:\n",
    "    print('Database connection error - check creds')\n",
    "metadata = sqlalchemy.MetaData(conn1)\n",
    "metadata.reflect()\n",
    "metadata.tables.keys()"
   ]
  },
  {
   "cell_type": "code",
   "execution_count": null,
   "id": "1a91de3e-4b6e-4580-bf80-b6c4c5aa83dd",
   "metadata": {},
   "outputs": [],
   "source": [
    "# group by\n",
    "#     event\n",
    "# order by\n",
    "#     count(distinct username) desc\n"
   ]
  },
  {
   "cell_type": "code",
   "execution_count": 249,
   "id": "4c44fbf1-7b4d-4b15-9407-a0678071dd66",
   "metadata": {},
   "outputs": [
    {
     "data": {
      "text/html": [
       "<div>\n",
       "<style scoped>\n",
       "    .dataframe tbody tr th:only-of-type {\n",
       "        vertical-align: middle;\n",
       "    }\n",
       "\n",
       "    .dataframe tbody tr th {\n",
       "        vertical-align: top;\n",
       "    }\n",
       "\n",
       "    .dataframe thead th {\n",
       "        text-align: right;\n",
       "    }\n",
       "</style>\n",
       "<table border=\"1\" class=\"dataframe\">\n",
       "  <thead>\n",
       "    <tr style=\"text-align: right;\">\n",
       "      <th></th>\n",
       "      <th>count(*)</th>\n",
       "    </tr>\n",
       "  </thead>\n",
       "  <tbody>\n",
       "    <tr>\n",
       "      <th>0</th>\n",
       "      <td>171083519</td>\n",
       "    </tr>\n",
       "  </tbody>\n",
       "</table>\n",
       "</div>"
      ],
      "text/plain": [
       "    count(*)\n",
       "0  171083519"
      ]
     },
     "execution_count": 249,
     "metadata": {},
     "output_type": "execute_result"
    }
   ],
   "source": [
    "sql_eda2 = \"\"\"\n",
    "select\n",
    "    count(*)\n",
    "from\n",
    "    categorylinks\n",
    ";\n",
    "\"\"\"\n",
    "pd.read_sql(sql_eda2,engine1)"
   ]
  },
  {
   "cell_type": "markdown",
   "id": "db48e283-c498-44e3-956b-d1abb2b90d37",
   "metadata": {},
   "source": [
    "## something"
   ]
  },
  {
   "cell_type": "markdown",
   "id": "9297bac4-31bc-4a7e-9ad4-d70765871548",
   "metadata": {},
   "source": [
    "https://stackoverflow.com/questions/21782410/finding-subcategories-of-a-wikipedia-category-using-category-and-categorylinks-t"
   ]
  },
  {
   "cell_type": "code",
   "execution_count": null,
   "id": "4e2a8c6a-1298-4d0f-ab41-2fa612f99766",
   "metadata": {},
   "outputs": [],
   "source": []
  },
  {
   "cell_type": "code",
   "execution_count": null,
   "id": "8713f7fc-5ac1-4838-9d5f-a68af1d308dc",
   "metadata": {},
   "outputs": [],
   "source": []
  },
  {
   "cell_type": "markdown",
   "id": "6646c77f-01d6-4de7-afc7-449b51fc13f5",
   "metadata": {
    "jp-MarkdownHeadingCollapsed": true,
    "tags": []
   },
   "source": [
    "# Failed methods"
   ]
  },
  {
   "cell_type": "markdown",
   "id": "86da7305-b0e6-49fb-952a-47dfae75c1c1",
   "metadata": {
    "tags": []
   },
   "source": [
    "## scrape page information"
   ]
  },
  {
   "cell_type": "markdown",
   "id": "d4055f8b-9d52-44cd-818c-0fece11e113c",
   "metadata": {},
   "source": [
    "Failed because wikipedia's [Extension: CategoryTree](https://www.mediawiki.org/wiki/Extension:CategoryTree) uses AJAX and might require selenium to scrape carefully."
   ]
  },
  {
   "cell_type": "markdown",
   "id": "c1f2dbef-8876-41f8-89d4-1e8dc836a912",
   "metadata": {
    "tags": []
   },
   "source": [
    "### scrape page identifiers"
   ]
  },
  {
   "cell_type": "code",
   "execution_count": 140,
   "id": "52153887-00b7-4c0f-8246-c1652a9b542e",
   "metadata": {},
   "outputs": [],
   "source": [
    "import requests\n",
    "from bs4 import BeautifulSoup"
   ]
  },
  {
   "cell_type": "code",
   "execution_count": 85,
   "id": "3f189d05-58c5-4af3-af7b-b1cbdc06fb70",
   "metadata": {},
   "outputs": [],
   "source": [
    "req = requests.get('https://ja.wikipedia.org/wiki/Category:%E7%86%B1%E5%B8%AF%E4%BD%8E%E6%B0%97%E5%9C%A7')\n",
    "bs = BeautifulSoup(req.content, features='html.parser')"
   ]
  },
  {
   "cell_type": "markdown",
   "id": "d2eefe69-4e0a-4c67-ac63-c2b606afd222",
   "metadata": {},
   "source": [
    "#### get pages"
   ]
  },
  {
   "cell_type": "code",
   "execution_count": 133,
   "id": "893a759d-0893-4533-bb9e-19a70ac050c3",
   "metadata": {},
   "outputs": [],
   "source": [
    "pages_in_TropicalCyclones_htmlchunk = bs.find('body').find('div',{'id':'mw-pages'}).find('div',{'class':'mw-category'}).find_all('li')"
   ]
  },
  {
   "cell_type": "code",
   "execution_count": 138,
   "id": "7dc1c706-de0d-4910-a5a9-7d372d95cc66",
   "metadata": {},
   "outputs": [],
   "source": [
    "pages_in_TropicalCyclones = {}\n",
    "for li in pages_in_TropicalCyclones_htmlchunk:\n",
    "    pages_in_TropicalCyclones[\n",
    "            li.find('a').attrs['href']\n",
    "        ] = li.find('a').attrs['title']"
   ]
  },
  {
   "cell_type": "code",
   "execution_count": 139,
   "id": "a0a1a54c-339c-40a3-b920-b7b5bbcc9a4e",
   "metadata": {},
   "outputs": [
    {
     "data": {
      "text/plain": [
       "{'/wiki/%E7%86%B1%E5%B8%AF%E4%BD%8E%E6%B0%97%E5%9C%A7': '熱帯低気圧',\n",
       " '/wiki/%E3%82%A6%E3%82%A3%E3%83%AA%E3%83%BC%E3%83%BB%E3%82%A6%E3%82%A3%E3%83%AA%E3%83%BC': 'ウィリー・ウィリー',\n",
       " '/wiki/%E3%82%B3%E3%83%AA%E3%82%AA%E3%83%AA%E3%81%AE%E5%8A%9B': 'コリオリの力',\n",
       " '/wiki/%E3%82%B5%E3%82%A4%E3%82%AF%E3%83%AD%E3%83%B3': 'サイクロン',\n",
       " '/wiki/%E7%A9%8D%E4%B9%B1%E9%9B%B2': '積乱雲',\n",
       " '/wiki/%E5%8F%B0%E9%A2%A8': '台風',\n",
       " '/wiki/%E5%9C%9F%E7%94%A8%E6%B3%A2': '土用波',\n",
       " '/wiki/%E7%86%B1%E5%B8%AF%E6%B3%A2': '熱帯波',\n",
       " '/wiki/%E3%83%8F%E3%83%AA%E3%82%B1%E3%83%BC%E3%83%B3': 'ハリケーン',\n",
       " '/wiki/%E3%83%8F%E3%83%AA%E3%82%B1%E3%83%BC%E3%83%B3%E3%83%BB%E3%83%8F%E3%83%B3%E3%82%BF%E3%83%BC': 'ハリケーン・ハンター',\n",
       " '/wiki/%E8%97%A4%E5%8E%9F%E3%81%AE%E5%8A%B9%E6%9E%9C': '藤原の効果',\n",
       " '/wiki/%E5%8F%B0%E9%A2%A8%E3%81%AE%E7%9B%AE': '台風の目',\n",
       " '/wiki/%E7%86%B1%E5%B8%AF%E4%BD%8E%E6%B0%97%E5%9C%A7%E3%81%AE%E5%91%BD%E5%90%8D': '熱帯低気圧の命名'}"
      ]
     },
     "execution_count": 139,
     "metadata": {},
     "output_type": "execute_result"
    }
   ],
   "source": [
    "pages_in_TropicalCyclones"
   ]
  },
  {
   "cell_type": "markdown",
   "id": "458f29fa-d1b1-45e3-b427-3b13dc673f7c",
   "metadata": {
    "tags": []
   },
   "source": [
    "### get categories "
   ]
  },
  {
   "cell_type": "code",
   "execution_count": 152,
   "id": "5c803d94-bc2d-421a-93d1-cc21d3105bad",
   "metadata": {},
   "outputs": [],
   "source": [
    "subcats_in_TropicalCyclones_htmlchunk = bs.find('body').find('div',{'id':'mw-subcategories'}).find_all('div',{'class':'CategoryTreeItem'})"
   ]
  },
  {
   "cell_type": "code",
   "execution_count": 153,
   "id": "4d861692-88e3-4a7e-80c3-92520eba3974",
   "metadata": {},
   "outputs": [],
   "source": [
    "subcats_in_TropicalCyclones = {}\n",
    "for li in subcats_in_TropicalCyclones_htmlchunk:\n",
    "    subcats_in_TropicalCyclones[\n",
    "            li.find('a').attrs['href']\n",
    "        ] = li.find('a').attrs['title']"
   ]
  },
  {
   "cell_type": "code",
   "execution_count": 155,
   "id": "b7022e62-a315-4c23-8dc9-25d6ce1772b6",
   "metadata": {},
   "outputs": [
    {
     "data": {
      "text/plain": [
       "<div id=\"mw-subcategories\">\n",
       "<h2>下位カテゴリ</h2>\n",
       "<p>このカテゴリには下位カテゴリ 4 件が含まれており、そのうち以下の 4 件を表示しています。\n",
       "</p><div class=\"mw-content-ltr\" dir=\"ltr\" lang=\"ja\"><h3>*</h3>\n",
       "<ul><li><div class=\"CategoryTreeSection\"><div class=\"CategoryTreeItem\"><span class=\"CategoryTreeBullet\"><span class=\"CategoryTreeToggle\" data-ct-state=\"collapsed\" data-ct-title=\"地域別の熱帯低気圧\"></span> </span> <a href=\"/wiki/Category:%E5%9C%B0%E5%9F%9F%E5%88%A5%E3%81%AE%E7%86%B1%E5%B8%AF%E4%BD%8E%E6%B0%97%E5%9C%A7\" title=\"Category:地域別の熱帯低気圧\">地域別の熱帯低気圧</a>‎ <span dir=\"ltr\" title=\"下位カテゴリ 4 件、ページ 0 件、ファイル 0 件を含んでいます\">（4サブカテゴリ）</span></div><div class=\"CategoryTreeChildren\" style=\"display:none\"></div></div></li></ul><h3>さ</h3>\n",
       "<ul><li><div class=\"CategoryTreeSection\"><div class=\"CategoryTreeItem\"><span class=\"CategoryTreeBullet\"><span class=\"CategoryTreeToggle\" data-ct-state=\"collapsed\" data-ct-title=\"サイクロン\"></span> </span> <a href=\"/wiki/Category:%E3%82%B5%E3%82%A4%E3%82%AF%E3%83%AD%E3%83%B3\" title=\"Category:サイクロン\">サイクロン</a>‎ <span dir=\"ltr\" title=\"下位カテゴリ 5 件、ページ 5 件、ファイル 0 件を含んでいます\">（5サブカテゴリ、5ページ）</span></div><div class=\"CategoryTreeChildren\" style=\"display:none\"></div></div></li></ul><h3>た</h3>\n",
       "<ul><li><div class=\"CategoryTreeSection\"><div class=\"CategoryTreeItem\"><span class=\"CategoryTreeBullet\"><span class=\"CategoryTreeToggle\" data-ct-state=\"collapsed\" data-ct-title=\"台風\"></span> </span> <a href=\"/wiki/Category:%E5%8F%B0%E9%A2%A8\" title=\"Category:台風\">台風</a>‎ <span dir=\"ltr\" title=\"下位カテゴリ 19 件、ページ 29 件、ファイル 0 件を含んでいます\">（19サブカテゴリ、29ページ）</span></div><div class=\"CategoryTreeChildren\" style=\"display:none\"></div></div></li></ul><h3>は</h3>\n",
       "<ul><li><div class=\"CategoryTreeSection\"><div class=\"CategoryTreeItem\"><span class=\"CategoryTreeBullet\"><span class=\"CategoryTreeToggle\" data-ct-state=\"collapsed\" data-ct-title=\"ハリケーン\"></span> </span> <a href=\"/wiki/Category:%E3%83%8F%E3%83%AA%E3%82%B1%E3%83%BC%E3%83%B3\" title=\"Category:ハリケーン\">ハリケーン</a>‎ <span dir=\"ltr\" title=\"下位カテゴリ 2 件、ページ 23 件、ファイル 0 件を含んでいます\">（2サブカテゴリ、23ページ）</span></div><div class=\"CategoryTreeChildren\" style=\"display:none\"></div></div></li></ul></div>\n",
       "</div>"
      ]
     },
     "execution_count": 155,
     "metadata": {},
     "output_type": "execute_result"
    }
   ],
   "source": [
    "bs.find('body').find('div',{'id':'mw-subcategories'})"
   ]
  },
  {
   "cell_type": "code",
   "execution_count": 154,
   "id": "035f0229-fb26-415d-8bd0-74a9cdba5c07",
   "metadata": {},
   "outputs": [
    {
     "data": {
      "text/plain": [
       "[<div class=\"CategoryTreeItem\"><span class=\"CategoryTreeBullet\"><span class=\"CategoryTreeToggle\" data-ct-state=\"collapsed\" data-ct-title=\"地域別の熱帯低気圧\"></span> </span> <a href=\"/wiki/Category:%E5%9C%B0%E5%9F%9F%E5%88%A5%E3%81%AE%E7%86%B1%E5%B8%AF%E4%BD%8E%E6%B0%97%E5%9C%A7\" title=\"Category:地域別の熱帯低気圧\">地域別の熱帯低気圧</a>‎ <span dir=\"ltr\" title=\"下位カテゴリ 4 件、ページ 0 件、ファイル 0 件を含んでいます\">（4サブカテゴリ）</span></div>,\n",
       " <div class=\"CategoryTreeItem\"><span class=\"CategoryTreeBullet\"><span class=\"CategoryTreeToggle\" data-ct-state=\"collapsed\" data-ct-title=\"サイクロン\"></span> </span> <a href=\"/wiki/Category:%E3%82%B5%E3%82%A4%E3%82%AF%E3%83%AD%E3%83%B3\" title=\"Category:サイクロン\">サイクロン</a>‎ <span dir=\"ltr\" title=\"下位カテゴリ 5 件、ページ 5 件、ファイル 0 件を含んでいます\">（5サブカテゴリ、5ページ）</span></div>,\n",
       " <div class=\"CategoryTreeItem\"><span class=\"CategoryTreeBullet\"><span class=\"CategoryTreeToggle\" data-ct-state=\"collapsed\" data-ct-title=\"台風\"></span> </span> <a href=\"/wiki/Category:%E5%8F%B0%E9%A2%A8\" title=\"Category:台風\">台風</a>‎ <span dir=\"ltr\" title=\"下位カテゴリ 19 件、ページ 29 件、ファイル 0 件を含んでいます\">（19サブカテゴリ、29ページ）</span></div>,\n",
       " <div class=\"CategoryTreeItem\"><span class=\"CategoryTreeBullet\"><span class=\"CategoryTreeToggle\" data-ct-state=\"collapsed\" data-ct-title=\"ハリケーン\"></span> </span> <a href=\"/wiki/Category:%E3%83%8F%E3%83%AA%E3%82%B1%E3%83%BC%E3%83%B3\" title=\"Category:ハリケーン\">ハリケーン</a>‎ <span dir=\"ltr\" title=\"下位カテゴリ 2 件、ページ 23 件、ファイル 0 件を含んでいます\">（2サブカテゴリ、23ページ）</span></div>]"
      ]
     },
     "execution_count": 154,
     "metadata": {},
     "output_type": "execute_result"
    }
   ],
   "source": [
    "subcats_in_TropicalCyclones_htmlchunk"
   ]
  }
 ],
 "metadata": {
  "kernelspec": {
   "display_name": "Python 3 (ipykernel)",
   "language": "python",
   "name": "python3"
  },
  "language_info": {
   "codemirror_mode": {
    "name": "ipython",
    "version": 3
   },
   "file_extension": ".py",
   "mimetype": "text/x-python",
   "name": "python",
   "nbconvert_exporter": "python",
   "pygments_lexer": "ipython3",
   "version": "3.9.7"
  }
 },
 "nbformat": 4,
 "nbformat_minor": 5
}
