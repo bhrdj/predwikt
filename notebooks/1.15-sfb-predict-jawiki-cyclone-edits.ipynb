{
 "cells": [
  {
   "cell_type": "markdown",
   "id": "9c4bf126-6b3b-4ff8-b0df-b7267c8311e0",
   "metadata": {},
   "source": [
    "# Predict edits to articles in the Tropical Cyclones category"
   ]
  },
  {
   "cell_type": "markdown",
   "id": "29eefdee-358d-49a8-ac83-dece541567e4",
   "metadata": {
    "jp-MarkdownHeadingCollapsed": true,
    "tags": []
   },
   "source": [
    "## Goals & Plans"
   ]
  },
  {
   "cell_type": "markdown",
   "id": "222800d2-e734-4d00-a406-d97cea02435b",
   "metadata": {},
   "source": [
    "Predict daily edits to pages in jawiki category: Tropical Cyclones (熱帯低気圧)"
   ]
  },
  {
   "cell_type": "markdown",
   "id": "aa7c9527-dbc3-434c-9460-221ba3d477f3",
   "metadata": {
    "jp-MarkdownHeadingCollapsed": true,
    "tags": []
   },
   "source": [
    "### Steps"
   ]
  },
  {
   "cell_type": "markdown",
   "id": "1d57d304-ae60-4042-b466-1922750e4611",
   "metadata": {},
   "source": [
    "#### ETL to get processed-input dataframes:"
   ]
  },
  {
   "cell_type": "markdown",
   "id": "4b862f77-0409-4ca3-aec6-321a71b8775f",
   "metadata": {},
   "source": [
    "- tcyc_page_ids_and_names  (data dump or https://ja.wikipedia.org/wiki/Category:%E7%86%B1%E5%B8%AF%E4%BD%8E%E6%B0%97%E5%9C%A7)\n",
    "- target_dayseries (edit counts)  (data dump or https://wikimedia.org/api/rest_v1/#/)  (timezone?)\n",
    "- target_dayseries (pageviews) https://wikimedia.org/api/rest_v1/#/Pageviews_data/get_metrics_pageviews\n",
    "- jp_cyc (landfall data etc)"
   ]
  },
  {
   "cell_type": "markdown",
   "id": "8def49fe-0653-437a-8eb9-e31f07d59d74",
   "metadata": {},
   "source": [
    "#### Quant Analysis"
   ]
  },
  {
   "cell_type": "markdown",
   "id": "7ce9bc08-695d-432c-90a6-1a0ce4e0d3bc",
   "metadata": {},
   "source": [
    "- overall lags\n",
    "    - Estimate mean/median/mode lags of edits around a tcyc versus landfall\n",
    "    - T-test (?) of mean lag for each of m/m/m lag to check if it's different from zero\n",
    "- proportions of edits by time category\n",
    "    - time categories\n",
    "        - reactive edits\n",
    "        - in-season edits\n",
    "        - off-season edits\n",
    "    - cross reference time-categories with user-categories\n",
    "        - weather-specialist editors\n",
    "        - frequent editors\n",
    "        - infrequent registered editors\n",
    "        - IP editors (by location?)\n",
    "    - cross-reference time-categories with different subcategories\n",
    "        - tcyc in Japan versus storms in other particular continents\n",
    "        - tcyc-science articles versus tcyc-storm articles\n",
    "        - compare edit counts b/o damages, storm strength"
   ]
  },
  {
   "cell_type": "markdown",
   "id": "9d3282ed-731c-4e25-86cd-a2dca7f47869",
   "metadata": {},
   "source": [
    "#### Predict"
   ]
  },
  {
   "cell_type": "markdown",
   "id": "93a7777d-51dc-4860-92b2-7ef75bacefe4",
   "metadata": {},
   "source": [
    "- baseline preds by day\n",
    "    - get residuals from raw values\n",
    "    - values could be:\n",
    "        - editcounts\n",
    "        - residuals\n",
    "        - reverted-edits\n",
    "- predict residual pageviews & edits based on landfall, landfall-severity, lagged vars (including self)\n",
    "    - plot edit-spread around landfall and predictions\n",
    "- predict non-tcyc edits\n",
    "    - with similar features\n",
    "- interesting questions:\n",
    "    - Are non-tcyc edits \"diverted\" to tcyc's?\n",
    "    - Are edits during crises less/more likely to get quickly reverted?\n",
    "        - Are users whose first edit occurs during a crisis more or less likely to become long-term contributors?"
   ]
  },
  {
   "cell_type": "markdown",
   "id": "d3434122-346f-4e82-af10-70df2674196f",
   "metadata": {
    "jp-MarkdownHeadingCollapsed": true,
    "tags": []
   },
   "source": [
    "### Details of processed-input dataframes"
   ]
  },
  {
   "cell_type": "markdown",
   "id": "a26fd6fd-5ae6-4f79-822d-870b0598521a",
   "metadata": {},
   "source": [
    "- Table **tcyc_page_ids_and_names:**\n",
    "    - Purpose: Help generate the target_dayseries\n",
    "    - Includes: One row for each page_id / page name combo in wikiproject\n",
    "    - Primary key (2-col pk): page_id, page name\n",
    "    - Other columns: none\n",
    "    - Sorting: By page_id, then by page name"
   ]
  },
  {
   "cell_type": "markdown",
   "id": "581941de-4411-4d7f-9f47-84a9726f6b32",
   "metadata": {},
   "source": [
    "- Table **target_dayseries:**\n",
    "    - Purpose: hold raw targets, baseline predictions, and deltas for-analysis\n",
    "    - Includes: One row for every day during period\n",
    "    - Primary key: edit_day (datetime)\n",
    "    - Other columns:  \n",
    "```\n",
    "editcount_all_raw,        editcount_cat_raw,  \n",
    "editcount_all_basepreds,     editcount_cat_basepreds,  \n",
    "delta_all_actual_basepreds,  delta_cat_actual_basepreds,\n",
    "```"
   ]
  },
  {
   "cell_type": "markdown",
   "id": "480d24a2-8b35-425c-b152-d8e1ab104d40",
   "metadata": {
    "jp-MarkdownHeadingCollapsed": true,
    "tags": []
   },
   "source": [
    "### Sources"
   ]
  },
  {
   "cell_type": "markdown",
   "id": "b88b2acd-082e-4d3a-b99e-8330aa8a6655",
   "metadata": {},
   "source": [
    "- Articles in the Tropical Cyclones category: ([jawiki categories](https://ja.wikipedia.org/wiki/Category:%E7%86%B1%E5%B8%AF%E4%BD%8E%E6%B0%97%E5%9C%A7))  \n",
    "- Articles to exclude: \n",
    "    - People who died in tcyc's ([jawiki categories](https://ja.wikipedia.org/wiki/Category:%E6%B4%9E%E7%88%BA%E4%B8%B8%E4%BA%8B%E6%95%85%E3%81%AE%E7%8A%A0%E7%89%B2%E8%80%85))\n",
    "    - English-name-articles for names that got assigned to tcyc's: ([jawiki categories](https://ja.wikipedia.org/wiki/Category:%E5%8F%B0%E9%A2%A8%E3%81%AE%E8%8B%B1%E5%90%8D))\n",
    "- Pageviews:\n",
    "    - 熱帯低気圧 ([jawiki page](https://ja.wikipedia.org/wiki/%E7%86%B1%E5%B8%AF%E4%BD%8E%E6%B0%97%E5%9C%A7)) ([data source](https://pageviews.toolforge.org/?project=ja.wikipedia.org&platform=all-access&agent=user&redirects=0&range=all-time&pages=%E7%86%B1%E5%B8%AF%E4%BD%8E%E6%B0%97%E5%9C%A7))"
   ]
  },
  {
   "cell_type": "markdown",
   "id": "7b201527-0a39-40e8-ab0c-82bc339ce2b4",
   "metadata": {
    "tags": []
   },
   "source": [
    "## Next-steps"
   ]
  },
  {
   "cell_type": "markdown",
   "id": "ad603b5a-be10-44e1-8dd8-c8a071f56c8b",
   "metadata": {},
   "source": [
    "### imports"
   ]
  },
  {
   "cell_type": "code",
   "execution_count": 88,
   "id": "4d495680-be12-429b-8bdb-effb6eb21091",
   "metadata": {},
   "outputs": [],
   "source": [
    "import pandas as pd, numpy as np, seaborn as sns, mysql.connector as mysql\n",
    "import os, re, sqlalchemy, datetime\n",
    "from pathlib import Path"
   ]
  },
  {
   "cell_type": "markdown",
   "id": "d6f1ed0c-1476-4d51-a7e2-346a91874344",
   "metadata": {
    "tags": []
   },
   "source": [
    "### read prepped data"
   ]
  },
  {
   "cell_type": "code",
   "execution_count": 2,
   "id": "72040788-f5a8-4388-8d8d-3acf13443259",
   "metadata": {},
   "outputs": [],
   "source": [
    "damage = pd.read_csv('../data/raw/weather/japan_nii/damage.tsv', sep='\\t')\n",
    "landfall = pd.read_csv('../data/raw/weather/japan_nii/landfall.tsv', sep='\\t')"
   ]
  },
  {
   "cell_type": "markdown",
   "id": "178be615-6785-4dfa-bdfe-f8b2fe0edc24",
   "metadata": {},
   "source": [
    "### Import jawiki: {category, categorylinks, page}"
   ]
  },
  {
   "cell_type": "markdown",
   "id": "d4eba0cd-7c53-4418-93be-37854ab284d3",
   "metadata": {},
   "source": [
    "Import these tables into a single MySQL database: \"jawiki\""
   ]
  },
  {
   "cell_type": "markdown",
   "id": "3e440b79-ddcd-4e19-9140-8cf2e36094ec",
   "metadata": {},
   "source": [
    "```bash\n",
    "mysql --user=root --password=XXXXXXXX\n",
    "```\n",
    "\n",
    "```SQL\n",
    "CREATE DATABASE jawiki CHARACTER SET utf8 COLLATE utf8_bin;\n",
    "USE jawiki;\n",
    "GRANT ALL PRIVILEGES ON jawiki TO bhrdwj@localhost IDENTIFIED BY XXXXXXX;\n",
    "GRANT ALL PRIVILEGES ON jawiki.* TO bhrdwj@localhost IDENTIFIED BY XXXXXXX;\n",
    "EXIT\n",
    "```\n",
    "\n",
    "```bash\n",
    "mysql --user=bhrdwj --password=XXXXXXX jawiki < jawiki-20211220-category.sql > output.tab\n",
    "mysql --user=bhrdwj --password=XXXXXXX jawiki < jawiki-20211220-page.sql > output2.tab\n",
    "mysql --user=bhrdwj --password=XXXXXXX jawiki < jawiki-20211220-categorylinks.sql > output3.tab\n",
    "\n",
    "```"
   ]
  },
  {
   "cell_type": "markdown",
   "id": "b26d0a21-620a-4fcc-b84a-90b112a8c7e8",
   "metadata": {
    "tags": []
   },
   "source": [
    "### Get sql data"
   ]
  },
  {
   "cell_type": "markdown",
   "id": "921af51f-a461-4f12-94af-cf8b00afc876",
   "metadata": {
    "tags": []
   },
   "source": [
    "#### turn on sql in bash"
   ]
  },
  {
   "cell_type": "markdown",
   "id": "32279fc5-e061-4ffd-ade5-de9f93785685",
   "metadata": {},
   "source": [
    "```bash\n",
    "sudo service mysqld start\n",
    "netstat -lnp | grep mysql\n",
    "```"
   ]
  },
  {
   "cell_type": "code",
   "execution_count": 14,
   "id": "ab080f70-7953-404b-b90c-d393fda9d72a",
   "metadata": {},
   "outputs": [],
   "source": [
    "mysql_superuser = 'root'\n",
    "# mysql_su_pass = input(f'Enter the MySQL password for user {mysql_superuser}: ')"
   ]
  },
  {
   "cell_type": "markdown",
   "id": "52437445-8ce5-406a-96b9-7164bf2d7172",
   "metadata": {
    "tags": []
   },
   "source": [
    "#### Initialize a connection and cursor"
   ]
  },
  {
   "cell_type": "code",
   "execution_count": 71,
   "id": "376e7f1f-9d6a-4c57-bf2b-b50fda963fe6",
   "metadata": {},
   "outputs": [],
   "source": [
    "host='localhost'; user=mysql_superuser; passwd=mysql_su_pass; dbname='jawiki';\n",
    "cxn = mysql.connect(host=host,user=user,passwd=passwd, database=dbname) # not the first time around\n",
    "cur = cxn.cursor()"
   ]
  },
  {
   "cell_type": "markdown",
   "id": "d8c62494-d64f-4779-9c86-6ba574b5d4ce",
   "metadata": {
    "jp-MarkdownHeadingCollapsed": true,
    "tags": []
   },
   "source": [
    "#### Check what's in mysql, pick a database ***(Unnecessary after raw tables fully loaded)***"
   ]
  },
  {
   "cell_type": "raw",
   "id": "9892b6ef-4c7e-4cdb-9655-8727476a10ab",
   "metadata": {},
   "source": [
    "cur.execute('select user();');       print(cur.fetchall())\n",
    "cur.execute('show databases;');      print(cur.fetchall())"
   ]
  },
  {
   "cell_type": "raw",
   "id": "8054a240-e19c-4d52-8d2a-fd4def806d03",
   "metadata": {},
   "source": [
    "dbname = 'jawiki'\n",
    "cur.execute(f'use {dbname};')\n",
    "cur.execute('select database();');   print(cur.fetchall())\n",
    "cur.execute('show tables;');         print(cur.fetchall())"
   ]
  },
  {
   "cell_type": "markdown",
   "id": "edf75336-8619-446e-89fb-bee45190a33d",
   "metadata": {},
   "source": [
    "#### Initialize an engine"
   ]
  },
  {
   "cell_type": "code",
   "execution_count": 72,
   "id": "ff58564f-7f4b-45ed-b6c1-9b887d6fd775",
   "metadata": {},
   "outputs": [
    {
     "data": {
      "text/plain": [
       "dict_keys(['category', 'categorylinks', 'page'])"
      ]
     },
     "execution_count": 72,
     "metadata": {},
     "output_type": "execute_result"
    }
   ],
   "source": [
    "# Finally, let's instantiate a SQL alchemy engine, so we can pass results sets into pandas and evaluate them here \n",
    "connection_str = 'mysql+mysqlconnector://'+user+':'+passwd+'@'+host+'/'+dbname  # removed this after host +':'+dbport\n",
    "try:\n",
    "    engine1 = sqlalchemy.create_engine(connection_str)\n",
    "    conn1 = engine1.connect()\n",
    "except:\n",
    "    print('Database connection error - check creds')\n",
    "metadata = sqlalchemy.MetaData(conn1)\n",
    "metadata.reflect()\n",
    "metadata.tables.keys()"
   ]
  },
  {
   "cell_type": "markdown",
   "id": "cb556651-127a-4e42-9790-d07fdfe1b2b2",
   "metadata": {
    "jp-MarkdownHeadingCollapsed": true,
    "tags": []
   },
   "source": [
    "#### Count rows in a table"
   ]
  },
  {
   "cell_type": "raw",
   "id": "eb13e6f6-c3ad-4502-9385-0375971d56a3",
   "metadata": {},
   "source": [
    "sql_eda2 = f'select count(*) from {tblname};'\n",
    "print(datetime.datetime.now())\n",
    "sql_rows = pd.read_sql(sql_eda2,engine1)\n",
    "print(sql_rows)\n",
    "print(datetime.datetime.now())"
   ]
  },
  {
   "cell_type": "markdown",
   "id": "0dd8e0b6-1500-4c38-9d2f-54ab581f6628",
   "metadata": {},
   "source": [
    "#### Check a table's head and schema"
   ]
  },
  {
   "cell_type": "code",
   "execution_count": null,
   "id": "e28c65cd-3bf1-4051-bb6c-42d38ffd289a",
   "metadata": {},
   "outputs": [],
   "source": [
    "tblname = 'categorylinks'\n",
    "cur.execute(f'SELECT * FROM {tblname} LIMIT 10;');   \n",
    "firstfew = cur.fetchall();   firstfew;"
   ]
  },
  {
   "cell_type": "code",
   "execution_count": 173,
   "id": "415d5bc6-3896-4044-930a-ac0afee2606c",
   "metadata": {},
   "outputs": [
    {
     "data": {
      "text/html": [
       "<div>\n",
       "<style scoped>\n",
       "    .dataframe tbody tr th:only-of-type {\n",
       "        vertical-align: middle;\n",
       "    }\n",
       "\n",
       "    .dataframe tbody tr th {\n",
       "        vertical-align: top;\n",
       "    }\n",
       "\n",
       "    .dataframe thead th {\n",
       "        text-align: right;\n",
       "    }\n",
       "</style>\n",
       "<table border=\"1\" class=\"dataframe\">\n",
       "  <thead>\n",
       "    <tr style=\"text-align: right;\">\n",
       "      <th></th>\n",
       "      <th>Field</th>\n",
       "      <th>Type</th>\n",
       "      <th>Null</th>\n",
       "      <th>Key</th>\n",
       "      <th>Default</th>\n",
       "      <th>Extra</th>\n",
       "    </tr>\n",
       "  </thead>\n",
       "  <tbody>\n",
       "    <tr>\n",
       "      <th>0</th>\n",
       "      <td>cl_from</td>\n",
       "      <td>int(8) unsigned</td>\n",
       "      <td>NO</td>\n",
       "      <td>PRI</td>\n",
       "      <td>0</td>\n",
       "      <td></td>\n",
       "    </tr>\n",
       "    <tr>\n",
       "      <th>1</th>\n",
       "      <td>cl_to</td>\n",
       "      <td>varbinary(255)</td>\n",
       "      <td>NO</td>\n",
       "      <td>PRI</td>\n",
       "      <td></td>\n",
       "      <td></td>\n",
       "    </tr>\n",
       "    <tr>\n",
       "      <th>2</th>\n",
       "      <td>cl_sortkey</td>\n",
       "      <td>varbinary(230)</td>\n",
       "      <td>NO</td>\n",
       "      <td></td>\n",
       "      <td></td>\n",
       "      <td></td>\n",
       "    </tr>\n",
       "    <tr>\n",
       "      <th>3</th>\n",
       "      <td>cl_timestamp</td>\n",
       "      <td>timestamp</td>\n",
       "      <td>NO</td>\n",
       "      <td></td>\n",
       "      <td>current_timestamp()</td>\n",
       "      <td>on update current_timestamp()</td>\n",
       "    </tr>\n",
       "    <tr>\n",
       "      <th>4</th>\n",
       "      <td>cl_sortkey_prefix</td>\n",
       "      <td>varbinary(255)</td>\n",
       "      <td>NO</td>\n",
       "      <td></td>\n",
       "      <td></td>\n",
       "      <td></td>\n",
       "    </tr>\n",
       "    <tr>\n",
       "      <th>5</th>\n",
       "      <td>cl_collation</td>\n",
       "      <td>varbinary(32)</td>\n",
       "      <td>NO</td>\n",
       "      <td>MUL</td>\n",
       "      <td></td>\n",
       "      <td></td>\n",
       "    </tr>\n",
       "    <tr>\n",
       "      <th>6</th>\n",
       "      <td>cl_type</td>\n",
       "      <td>enum('page','subcat','file')</td>\n",
       "      <td>NO</td>\n",
       "      <td></td>\n",
       "      <td>page</td>\n",
       "      <td></td>\n",
       "    </tr>\n",
       "  </tbody>\n",
       "</table>\n",
       "</div>"
      ],
      "text/plain": [
       "               Field                          Type Null  Key  \\\n",
       "0            cl_from               int(8) unsigned   NO  PRI   \n",
       "1              cl_to                varbinary(255)   NO  PRI   \n",
       "2         cl_sortkey                varbinary(230)   NO        \n",
       "3       cl_timestamp                     timestamp   NO        \n",
       "4  cl_sortkey_prefix                varbinary(255)   NO        \n",
       "5       cl_collation                 varbinary(32)   NO  MUL   \n",
       "6            cl_type  enum('page','subcat','file')   NO        \n",
       "\n",
       "               Default                          Extra  \n",
       "0                    0                                 \n",
       "1                                                      \n",
       "2                                                      \n",
       "3  current_timestamp()  on update current_timestamp()  \n",
       "4                                                      \n",
       "5                                                      \n",
       "6                 page                                 "
      ]
     },
     "execution_count": 173,
     "metadata": {},
     "output_type": "execute_result"
    }
   ],
   "source": [
    "tblname = 'categorylinks'\n",
    "schema = pd.read_sql(f'DESCRIBE {tblname};', engine1)\n",
    "schema"
   ]
  },
  {
   "cell_type": "markdown",
   "id": "db48e283-c498-44e3-956b-d1abb2b90d37",
   "metadata": {},
   "source": [
    "## get list of pages in category: 熱帯低気圧"
   ]
  },
  {
   "cell_type": "markdown",
   "id": "9297bac4-31bc-4a7e-9ad4-d70765871548",
   "metadata": {},
   "source": [
    "https://stackoverflow.com/questions/21782410/finding-subcategories-of-a-wikipedia-category-using-category-and-categorylinks-t"
   ]
  },
  {
   "cell_type": "markdown",
   "id": "400fb9c8-b775-45cb-a58b-28c30a47d87f",
   "metadata": {
    "jp-MarkdownHeadingCollapsed": true,
    "tags": []
   },
   "source": [
    "### define function for simple sql queries"
   ]
  },
  {
   "cell_type": "code",
   "execution_count": 188,
   "id": "1eb51b24-7d79-4572-98ab-e51856a6482a",
   "metadata": {},
   "outputs": [],
   "source": [
    "def sql_loc(val, colname, tblname, engine=engine1):\n",
    "    \"\"\"\n",
    "    Simple query for a SQL table like pandas \"loc\".\n",
    "    Returns tuple: (df, query)\n",
    "    \"\"\"\n",
    "    # query\n",
    "    get_row_by_val = f'SELECT * FROM {tblname} WHERE {colname}=(_BINARY \"{search_val}\");'\n",
    "    selected_rows = pd.read_sql(get_row_by_val, engine)\n",
    "    \n",
    "    # decode bytearrays for display in pandas\n",
    "    str_df = selected_rows.select_dtypes(['object'])       # get list of columns that need decoding\n",
    "    str_df = str_df.stack().str.decode('utf-8').unstack()   # decode those columms\n",
    "    for col in str_df:\n",
    "        selected_rows[col] = str_df[col]                   # replace in original df\n",
    "    return selected_rows, get_row_by_val"
   ]
  },
  {
   "cell_type": "markdown",
   "id": "716d6a8e-7948-46d6-8781-c3f536ef12cb",
   "metadata": {},
   "source": [
    "### get pages from page database with title \"熱帯低気圧\""
   ]
  },
  {
   "cell_type": "code",
   "execution_count": 189,
   "id": "19565e23-5750-489a-b3c5-d0f95869c96d",
   "metadata": {},
   "outputs": [
    {
     "name": "stdout",
     "output_type": "stream",
     "text": [
      "SELECT * FROM page WHERE page_title=(_BINARY \"熱帯低気圧\");\n"
     ]
    },
    {
     "data": {
      "text/html": [
       "<div>\n",
       "<style scoped>\n",
       "    .dataframe tbody tr th:only-of-type {\n",
       "        vertical-align: middle;\n",
       "    }\n",
       "\n",
       "    .dataframe tbody tr th {\n",
       "        vertical-align: top;\n",
       "    }\n",
       "\n",
       "    .dataframe thead th {\n",
       "        text-align: right;\n",
       "    }\n",
       "</style>\n",
       "<table border=\"1\" class=\"dataframe\">\n",
       "  <thead>\n",
       "    <tr style=\"text-align: right;\">\n",
       "      <th></th>\n",
       "      <th>page_id</th>\n",
       "      <th>page_namespace</th>\n",
       "      <th>page_title</th>\n",
       "      <th>page_restrictions</th>\n",
       "      <th>page_is_redirect</th>\n",
       "      <th>page_is_new</th>\n",
       "      <th>page_random</th>\n",
       "      <th>page_touched</th>\n",
       "      <th>page_links_updated</th>\n",
       "      <th>page_latest</th>\n",
       "      <th>page_len</th>\n",
       "      <th>page_content_model</th>\n",
       "      <th>page_lang</th>\n",
       "    </tr>\n",
       "  </thead>\n",
       "  <tbody>\n",
       "    <tr>\n",
       "      <th>0</th>\n",
       "      <td>31168</td>\n",
       "      <td>0</td>\n",
       "      <td>熱帯低気圧</td>\n",
       "      <td></td>\n",
       "      <td>0</td>\n",
       "      <td>0</td>\n",
       "      <td>0.467697</td>\n",
       "      <td>20211218082619</td>\n",
       "      <td>20211218082615</td>\n",
       "      <td>87074895</td>\n",
       "      <td>78092</td>\n",
       "      <td>wikitext</td>\n",
       "      <td>None</td>\n",
       "    </tr>\n",
       "    <tr>\n",
       "      <th>1</th>\n",
       "      <td>626482</td>\n",
       "      <td>14</td>\n",
       "      <td>熱帯低気圧</td>\n",
       "      <td></td>\n",
       "      <td>0</td>\n",
       "      <td>0</td>\n",
       "      <td>0.919185</td>\n",
       "      <td>20210831034053</td>\n",
       "      <td>20210831034134</td>\n",
       "      <td>79263384</td>\n",
       "      <td>303</td>\n",
       "      <td>wikitext</td>\n",
       "      <td>None</td>\n",
       "    </tr>\n",
       "    <tr>\n",
       "      <th>2</th>\n",
       "      <td>669114</td>\n",
       "      <td>1</td>\n",
       "      <td>熱帯低気圧</td>\n",
       "      <td></td>\n",
       "      <td>0</td>\n",
       "      <td>0</td>\n",
       "      <td>0.275103</td>\n",
       "      <td>20210913090002</td>\n",
       "      <td>20210804091932</td>\n",
       "      <td>84859939</td>\n",
       "      <td>3527</td>\n",
       "      <td>wikitext</td>\n",
       "      <td>None</td>\n",
       "    </tr>\n",
       "    <tr>\n",
       "      <th>3</th>\n",
       "      <td>761911</td>\n",
       "      <td>10</td>\n",
       "      <td>熱帯低気圧</td>\n",
       "      <td></td>\n",
       "      <td>0</td>\n",
       "      <td>0</td>\n",
       "      <td>0.868552</td>\n",
       "      <td>20210808233839</td>\n",
       "      <td>20210808233839</td>\n",
       "      <td>84947664</td>\n",
       "      <td>1006</td>\n",
       "      <td>wikitext</td>\n",
       "      <td>None</td>\n",
       "    </tr>\n",
       "  </tbody>\n",
       "</table>\n",
       "</div>"
      ],
      "text/plain": [
       "   page_id  page_namespace page_title page_restrictions  page_is_redirect  \\\n",
       "0    31168               0      熱帯低気圧                                   0   \n",
       "1   626482              14      熱帯低気圧                                   0   \n",
       "2   669114               1      熱帯低気圧                                   0   \n",
       "3   761911              10      熱帯低気圧                                   0   \n",
       "\n",
       "   page_is_new  page_random    page_touched page_links_updated  page_latest  \\\n",
       "0            0     0.467697  20211218082619     20211218082615     87074895   \n",
       "1            0     0.919185  20210831034053     20210831034134     79263384   \n",
       "2            0     0.275103  20210913090002     20210804091932     84859939   \n",
       "3            0     0.868552  20210808233839     20210808233839     84947664   \n",
       "\n",
       "   page_len page_content_model page_lang  \n",
       "0     78092           wikitext      None  \n",
       "1       303           wikitext      None  \n",
       "2      3527           wikitext      None  \n",
       "3      1006           wikitext      None  "
      ]
     },
     "execution_count": 189,
     "metadata": {},
     "output_type": "execute_result"
    }
   ],
   "source": [
    "selection, query = sql_loc(val='熱帯低気圧', colname='page_title', tblname='page', engine=engine1)\n",
    "print(query); selection"
   ]
  },
  {
   "cell_type": "markdown",
   "id": "3d36f870-f2ca-406b-9b3a-9e256b900a31",
   "metadata": {},
   "source": [
    "### get categories named 熱帯低気圧 from category table"
   ]
  },
  {
   "cell_type": "code",
   "execution_count": 190,
   "id": "ff95756b-e209-469c-b8cc-719c524f871c",
   "metadata": {},
   "outputs": [
    {
     "name": "stdout",
     "output_type": "stream",
     "text": [
      "SELECT * FROM category WHERE cat_title=(_BINARY \"熱帯低気圧\");\n"
     ]
    },
    {
     "data": {
      "text/html": [
       "<div>\n",
       "<style scoped>\n",
       "    .dataframe tbody tr th:only-of-type {\n",
       "        vertical-align: middle;\n",
       "    }\n",
       "\n",
       "    .dataframe tbody tr th {\n",
       "        vertical-align: top;\n",
       "    }\n",
       "\n",
       "    .dataframe thead th {\n",
       "        text-align: right;\n",
       "    }\n",
       "</style>\n",
       "<table border=\"1\" class=\"dataframe\">\n",
       "  <thead>\n",
       "    <tr style=\"text-align: right;\">\n",
       "      <th></th>\n",
       "      <th>cat_id</th>\n",
       "      <th>cat_title</th>\n",
       "      <th>cat_pages</th>\n",
       "      <th>cat_subcats</th>\n",
       "      <th>cat_files</th>\n",
       "    </tr>\n",
       "  </thead>\n",
       "  <tbody>\n",
       "    <tr>\n",
       "      <th>0</th>\n",
       "      <td>43024</td>\n",
       "      <td>熱帯低気圧</td>\n",
       "      <td>17</td>\n",
       "      <td>4</td>\n",
       "      <td>0</td>\n",
       "    </tr>\n",
       "  </tbody>\n",
       "</table>\n",
       "</div>"
      ],
      "text/plain": [
       "   cat_id cat_title  cat_pages  cat_subcats  cat_files\n",
       "0   43024     熱帯低気圧         17            4          0"
      ]
     },
     "execution_count": 190,
     "metadata": {},
     "output_type": "execute_result"
    }
   ],
   "source": [
    "selection, query = sql_loc(val='熱帯低気圧', colname='cat_title', tblname='category', engine=engine1)\n",
    "print(query); selection"
   ]
  },
  {
   "cell_type": "markdown",
   "id": "28743789-0b1a-404c-a37e-4062cb1e39aa",
   "metadata": {},
   "source": [
    "### get subcategories and member-pages of category 熱帯低気圧"
   ]
  },
  {
   "cell_type": "code",
   "execution_count": 192,
   "id": "220840e7-1919-40b8-ac1f-e267166d7759",
   "metadata": {},
   "outputs": [
    {
     "name": "stdout",
     "output_type": "stream",
     "text": [
      "SELECT * FROM categorylinks WHERE cl_to=(_BINARY \"熱帯低気圧\");\n"
     ]
    },
    {
     "data": {
      "text/html": [
       "<div>\n",
       "<style scoped>\n",
       "    .dataframe tbody tr th:only-of-type {\n",
       "        vertical-align: middle;\n",
       "    }\n",
       "\n",
       "    .dataframe tbody tr th {\n",
       "        vertical-align: top;\n",
       "    }\n",
       "\n",
       "    .dataframe thead th {\n",
       "        text-align: right;\n",
       "    }\n",
       "</style>\n",
       "<table border=\"1\" class=\"dataframe\">\n",
       "  <thead>\n",
       "    <tr style=\"text-align: right;\">\n",
       "      <th></th>\n",
       "      <th>cl_from</th>\n",
       "      <th>cl_to</th>\n",
       "      <th>cl_sortkey</th>\n",
       "      <th>cl_timestamp</th>\n",
       "      <th>cl_sortkey_prefix</th>\n",
       "      <th>cl_collation</th>\n",
       "      <th>cl_type</th>\n",
       "    </tr>\n",
       "  </thead>\n",
       "  <tbody>\n",
       "    <tr>\n",
       "      <th>0</th>\n",
       "      <td>26863</td>\n",
       "      <td>熱帯低気圧</td>\n",
       "      <td>さいくろん\\nサイクロン</td>\n",
       "      <td>2006-08-02 15:43:31</td>\n",
       "      <td>さいくろん</td>\n",
       "      <td>uppercase</td>\n",
       "      <td>page</td>\n",
       "    </tr>\n",
       "    <tr>\n",
       "      <th>1</th>\n",
       "      <td>94451</td>\n",
       "      <td>熱帯低気圧</td>\n",
       "      <td>はりけん\\nハリケーン</td>\n",
       "      <td>2006-08-02 15:44:30</td>\n",
       "      <td>はりけん</td>\n",
       "      <td>uppercase</td>\n",
       "      <td>page</td>\n",
       "    </tr>\n",
       "    <tr>\n",
       "      <th>2</th>\n",
       "      <td>159919</td>\n",
       "      <td>熱帯低気圧</td>\n",
       "      <td>たいふう\\n台風</td>\n",
       "      <td>2006-08-02 15:50:18</td>\n",
       "      <td>たいふう</td>\n",
       "      <td>uppercase</td>\n",
       "      <td>subcat</td>\n",
       "    </tr>\n",
       "    <tr>\n",
       "      <th>3</th>\n",
       "      <td>626534</td>\n",
       "      <td>熱帯低気圧</td>\n",
       "      <td>さいくろん\\nサイクロン</td>\n",
       "      <td>2006-08-02 16:25:55</td>\n",
       "      <td>さいくろん</td>\n",
       "      <td>uppercase</td>\n",
       "      <td>subcat</td>\n",
       "    </tr>\n",
       "    <tr>\n",
       "      <th>4</th>\n",
       "      <td>527125</td>\n",
       "      <td>熱帯低気圧</td>\n",
       "      <td>ふしわらのこうか\\n藤原の効果</td>\n",
       "      <td>2006-08-02 16:42:54</td>\n",
       "      <td>ふしわらのこうか</td>\n",
       "      <td>uppercase</td>\n",
       "      <td>page</td>\n",
       "    </tr>\n",
       "    <tr>\n",
       "      <th>5</th>\n",
       "      <td>36650</td>\n",
       "      <td>熱帯低気圧</td>\n",
       "      <td>せきらんうん\\n積乱雲</td>\n",
       "      <td>2006-09-07 10:39:53</td>\n",
       "      <td>せきらんうん</td>\n",
       "      <td>uppercase</td>\n",
       "      <td>page</td>\n",
       "    </tr>\n",
       "    <tr>\n",
       "      <th>6</th>\n",
       "      <td>147548</td>\n",
       "      <td>熱帯低気圧</td>\n",
       "      <td>ういりういり\\nウィリー・ウィリー</td>\n",
       "      <td>2007-09-15 14:34:59</td>\n",
       "      <td>ういりういり</td>\n",
       "      <td>uppercase</td>\n",
       "      <td>page</td>\n",
       "    </tr>\n",
       "    <tr>\n",
       "      <th>7</th>\n",
       "      <td>15090</td>\n",
       "      <td>熱帯低気圧</td>\n",
       "      <td>たいふう\\n台風</td>\n",
       "      <td>2008-07-25 16:55:05</td>\n",
       "      <td>たいふう</td>\n",
       "      <td>uppercase</td>\n",
       "      <td>page</td>\n",
       "    </tr>\n",
       "    <tr>\n",
       "      <th>8</th>\n",
       "      <td>31168</td>\n",
       "      <td>熱帯低気圧</td>\n",
       "      <td>*\\n熱帯低気圧</td>\n",
       "      <td>2008-12-27 13:15:02</td>\n",
       "      <td>*</td>\n",
       "      <td>uppercase</td>\n",
       "      <td>page</td>\n",
       "    </tr>\n",
       "    <tr>\n",
       "      <th>9</th>\n",
       "      <td>1682974</td>\n",
       "      <td>熱帯低気圧</td>\n",
       "      <td>はりけんはんた\\nハリケーン・ハンター</td>\n",
       "      <td>2009-02-07 05:48:43</td>\n",
       "      <td>はりけんはんた</td>\n",
       "      <td>uppercase</td>\n",
       "      <td>page</td>\n",
       "    </tr>\n",
       "    <tr>\n",
       "      <th>10</th>\n",
       "      <td>1832981</td>\n",
       "      <td>熱帯低気圧</td>\n",
       "      <td>ねつたいは\\n熱帯波</td>\n",
       "      <td>2009-07-19 18:56:10</td>\n",
       "      <td>ねつたいは</td>\n",
       "      <td>uppercase</td>\n",
       "      <td>page</td>\n",
       "    </tr>\n",
       "    <tr>\n",
       "      <th>11</th>\n",
       "      <td>1079083</td>\n",
       "      <td>熱帯低気圧</td>\n",
       "      <td>め\\n台風の目</td>\n",
       "      <td>2009-08-24 16:33:33</td>\n",
       "      <td>め</td>\n",
       "      <td>uppercase</td>\n",
       "      <td>page</td>\n",
       "    </tr>\n",
       "    <tr>\n",
       "      <th>12</th>\n",
       "      <td>626516</td>\n",
       "      <td>熱帯低気圧</td>\n",
       "      <td>はりけん\\nハリケーン</td>\n",
       "      <td>2009-09-26 19:08:07</td>\n",
       "      <td>はりけん</td>\n",
       "      <td>uppercase</td>\n",
       "      <td>subcat</td>\n",
       "    </tr>\n",
       "    <tr>\n",
       "      <th>13</th>\n",
       "      <td>2017783</td>\n",
       "      <td>熱帯低気圧</td>\n",
       "      <td>とようなみ\\n土用波</td>\n",
       "      <td>2010-02-28 06:03:07</td>\n",
       "      <td>とようなみ</td>\n",
       "      <td>uppercase</td>\n",
       "      <td>page</td>\n",
       "    </tr>\n",
       "    <tr>\n",
       "      <th>14</th>\n",
       "      <td>10245</td>\n",
       "      <td>熱帯低気圧</td>\n",
       "      <td>こりおりのちから\\nコリオリの力</td>\n",
       "      <td>2013-05-27 16:24:18</td>\n",
       "      <td>こりおりのちから</td>\n",
       "      <td>uppercase</td>\n",
       "      <td>page</td>\n",
       "    </tr>\n",
       "    <tr>\n",
       "      <th>15</th>\n",
       "      <td>2923547</td>\n",
       "      <td>熱帯低気圧</td>\n",
       "      <td>*ちいき\\n地域別の熱帯低気圧</td>\n",
       "      <td>2014-02-02 23:02:14</td>\n",
       "      <td>*ちいき</td>\n",
       "      <td>uppercase</td>\n",
       "      <td>subcat</td>\n",
       "    </tr>\n",
       "    <tr>\n",
       "      <th>16</th>\n",
       "      <td>4184902</td>\n",
       "      <td>熱帯低気圧</td>\n",
       "      <td>めいめい\\n熱帯低気圧の命名</td>\n",
       "      <td>2020-07-29 17:00:51</td>\n",
       "      <td>めいめい</td>\n",
       "      <td>uppercase</td>\n",
       "      <td>page</td>\n",
       "    </tr>\n",
       "  </tbody>\n",
       "</table>\n",
       "</div>"
      ],
      "text/plain": [
       "    cl_from  cl_to           cl_sortkey        cl_timestamp cl_sortkey_prefix  \\\n",
       "0     26863  熱帯低気圧         さいくろん\\nサイクロン 2006-08-02 15:43:31             さいくろん   \n",
       "1     94451  熱帯低気圧          はりけん\\nハリケーン 2006-08-02 15:44:30              はりけん   \n",
       "2    159919  熱帯低気圧             たいふう\\n台風 2006-08-02 15:50:18              たいふう   \n",
       "3    626534  熱帯低気圧         さいくろん\\nサイクロン 2006-08-02 16:25:55             さいくろん   \n",
       "4    527125  熱帯低気圧      ふしわらのこうか\\n藤原の効果 2006-08-02 16:42:54          ふしわらのこうか   \n",
       "5     36650  熱帯低気圧          せきらんうん\\n積乱雲 2006-09-07 10:39:53            せきらんうん   \n",
       "6    147548  熱帯低気圧    ういりういり\\nウィリー・ウィリー 2007-09-15 14:34:59            ういりういり   \n",
       "7     15090  熱帯低気圧             たいふう\\n台風 2008-07-25 16:55:05              たいふう   \n",
       "8     31168  熱帯低気圧             *\\n熱帯低気圧 2008-12-27 13:15:02                 *   \n",
       "9   1682974  熱帯低気圧  はりけんはんた\\nハリケーン・ハンター 2009-02-07 05:48:43           はりけんはんた   \n",
       "10  1832981  熱帯低気圧           ねつたいは\\n熱帯波 2009-07-19 18:56:10             ねつたいは   \n",
       "11  1079083  熱帯低気圧              め\\n台風の目 2009-08-24 16:33:33                 め   \n",
       "12   626516  熱帯低気圧          はりけん\\nハリケーン 2009-09-26 19:08:07              はりけん   \n",
       "13  2017783  熱帯低気圧           とようなみ\\n土用波 2010-02-28 06:03:07             とようなみ   \n",
       "14    10245  熱帯低気圧     こりおりのちから\\nコリオリの力 2013-05-27 16:24:18          こりおりのちから   \n",
       "15  2923547  熱帯低気圧      *ちいき\\n地域別の熱帯低気圧 2014-02-02 23:02:14              *ちいき   \n",
       "16  4184902  熱帯低気圧       めいめい\\n熱帯低気圧の命名 2020-07-29 17:00:51              めいめい   \n",
       "\n",
       "   cl_collation cl_type  \n",
       "0     uppercase    page  \n",
       "1     uppercase    page  \n",
       "2     uppercase  subcat  \n",
       "3     uppercase  subcat  \n",
       "4     uppercase    page  \n",
       "5     uppercase    page  \n",
       "6     uppercase    page  \n",
       "7     uppercase    page  \n",
       "8     uppercase    page  \n",
       "9     uppercase    page  \n",
       "10    uppercase    page  \n",
       "11    uppercase    page  \n",
       "12    uppercase  subcat  \n",
       "13    uppercase    page  \n",
       "14    uppercase    page  \n",
       "15    uppercase  subcat  \n",
       "16    uppercase    page  "
      ]
     },
     "execution_count": 192,
     "metadata": {},
     "output_type": "execute_result"
    }
   ],
   "source": [
    "selection, query = sql_loc(val='熱帯低気圧', colname='cl_to', tblname='categorylinks', engine=engine1)\n",
    "print(query); selection"
   ]
  },
  {
   "cell_type": "markdown",
   "id": "76fe2f6c-9f13-44bf-b6ba-ea46d8d6800b",
   "metadata": {},
   "source": [
    "# GET NESTED CATEGORIES AND MEMBER-PAGES!!!!   😼"
   ]
  },
  {
   "cell_type": "markdown",
   "id": "6646c77f-01d6-4de7-afc7-449b51fc13f5",
   "metadata": {
    "jp-MarkdownHeadingCollapsed": true,
    "tags": []
   },
   "source": [
    "# Failed methods"
   ]
  },
  {
   "cell_type": "markdown",
   "id": "86da7305-b0e6-49fb-952a-47dfae75c1c1",
   "metadata": {
    "tags": []
   },
   "source": [
    "## scrape page information"
   ]
  },
  {
   "cell_type": "markdown",
   "id": "d4055f8b-9d52-44cd-818c-0fece11e113c",
   "metadata": {},
   "source": [
    "Failed because wikipedia's [Extension: CategoryTree](https://www.mediawiki.org/wiki/Extension:CategoryTree) uses AJAX and might require selenium to scrape carefully."
   ]
  },
  {
   "cell_type": "markdown",
   "id": "c1f2dbef-8876-41f8-89d4-1e8dc836a912",
   "metadata": {
    "tags": []
   },
   "source": [
    "### scrape page identifiers"
   ]
  },
  {
   "cell_type": "code",
   "execution_count": null,
   "id": "52153887-00b7-4c0f-8246-c1652a9b542e",
   "metadata": {},
   "outputs": [],
   "source": [
    "import requests\n",
    "from bs4 import BeautifulSoup"
   ]
  },
  {
   "cell_type": "code",
   "execution_count": null,
   "id": "3f189d05-58c5-4af3-af7b-b1cbdc06fb70",
   "metadata": {},
   "outputs": [],
   "source": [
    "req = requests.get('https://ja.wikipedia.org/wiki/Category:%E7%86%B1%E5%B8%AF%E4%BD%8E%E6%B0%97%E5%9C%A7')\n",
    "bs = BeautifulSoup(req.content, features='html.parser')"
   ]
  },
  {
   "cell_type": "markdown",
   "id": "d2eefe69-4e0a-4c67-ac63-c2b606afd222",
   "metadata": {},
   "source": [
    "#### get pages"
   ]
  },
  {
   "cell_type": "code",
   "execution_count": null,
   "id": "893a759d-0893-4533-bb9e-19a70ac050c3",
   "metadata": {},
   "outputs": [],
   "source": [
    "pages_in_TropicalCyclones_htmlchunk = bs.find('body').find('div',{'id':'mw-pages'}).find('div',{'class':'mw-category'}).find_all('li')"
   ]
  },
  {
   "cell_type": "code",
   "execution_count": null,
   "id": "7dc1c706-de0d-4910-a5a9-7d372d95cc66",
   "metadata": {},
   "outputs": [],
   "source": [
    "pages_in_TropicalCyclones = {}\n",
    "for li in pages_in_TropicalCyclones_htmlchunk:\n",
    "    pages_in_TropicalCyclones[\n",
    "            li.find('a').attrs['href']\n",
    "        ] = li.find('a').attrs['title']"
   ]
  },
  {
   "cell_type": "code",
   "execution_count": null,
   "id": "a0a1a54c-339c-40a3-b920-b7b5bbcc9a4e",
   "metadata": {},
   "outputs": [],
   "source": [
    "pages_in_TropicalCyclones"
   ]
  },
  {
   "cell_type": "markdown",
   "id": "458f29fa-d1b1-45e3-b427-3b13dc673f7c",
   "metadata": {
    "tags": []
   },
   "source": [
    "### get categories "
   ]
  },
  {
   "cell_type": "code",
   "execution_count": null,
   "id": "5c803d94-bc2d-421a-93d1-cc21d3105bad",
   "metadata": {},
   "outputs": [],
   "source": [
    "subcats_in_TropicalCyclones_htmlchunk = bs.find('body').find('div',{'id':'mw-subcategories'}).find_all('div',{'class':'CategoryTreeItem'})"
   ]
  },
  {
   "cell_type": "code",
   "execution_count": null,
   "id": "4d861692-88e3-4a7e-80c3-92520eba3974",
   "metadata": {},
   "outputs": [],
   "source": [
    "subcats_in_TropicalCyclones = {}\n",
    "for li in subcats_in_TropicalCyclones_htmlchunk:\n",
    "    subcats_in_TropicalCyclones[\n",
    "            li.find('a').attrs['href']\n",
    "        ] = li.find('a').attrs['title']"
   ]
  },
  {
   "cell_type": "code",
   "execution_count": null,
   "id": "b7022e62-a315-4c23-8dc9-25d6ce1772b6",
   "metadata": {},
   "outputs": [],
   "source": [
    "bs.find('body').find('div',{'id':'mw-subcategories'})"
   ]
  },
  {
   "cell_type": "code",
   "execution_count": null,
   "id": "035f0229-fb26-415d-8bd0-74a9cdba5c07",
   "metadata": {},
   "outputs": [],
   "source": [
    "subcats_in_TropicalCyclones_htmlchunk"
   ]
  }
 ],
 "metadata": {
  "kernelspec": {
   "display_name": "Python 3 (ipykernel)",
   "language": "python",
   "name": "python3"
  },
  "language_info": {
   "codemirror_mode": {
    "name": "ipython",
    "version": 3
   },
   "file_extension": ".py",
   "mimetype": "text/x-python",
   "name": "python",
   "nbconvert_exporter": "python",
   "pygments_lexer": "ipython3",
   "version": "3.9.7"
  }
 },
 "nbformat": 4,
 "nbformat_minor": 5
}
