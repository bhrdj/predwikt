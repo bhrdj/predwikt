{
 "cells": [
  {
   "cell_type": "markdown",
   "id": "568ad928",
   "metadata": {},
   "source": [
    "# analyze pageviews timeseries"
   ]
  },
  {
   "cell_type": "markdown",
   "id": "99f8866c",
   "metadata": {},
   "source": [
    "### plan"
   ]
  },
  {
   "cell_type": "code",
   "execution_count": null,
   "id": "f7cdd151",
   "metadata": {},
   "outputs": [],
   "source": []
  },
  {
   "cell_type": "markdown",
   "id": "3beeb7b7",
   "metadata": {},
   "source": [
    "## setup"
   ]
  },
  {
   "cell_type": "markdown",
   "id": "a080bcde",
   "metadata": {},
   "source": [
    "## model"
   ]
  }
 ],
 "metadata": {
  "kernelspec": {
   "display_name": "Python 3 (ipykernel)",
   "language": "python",
   "name": "python3"
  },
  "language_info": {
   "codemirror_mode": {
    "name": "ipython",
    "version": 3
   },
   "file_extension": ".py",
   "mimetype": "text/x-python",
   "name": "python",
   "nbconvert_exporter": "python",
   "pygments_lexer": "ipython3",
   "version": "3.9.7"
  }
 },
 "nbformat": 4,
 "nbformat_minor": 5
}
