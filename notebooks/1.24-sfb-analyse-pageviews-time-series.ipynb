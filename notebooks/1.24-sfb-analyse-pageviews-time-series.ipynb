{
 "cells": [
  {
   "cell_type": "markdown",
   "id": "e7bfe980-65cb-4d87-b360-ccd906c72f8e",
   "metadata": {},
   "source": [
    "# Prelim ARIMA Retro. Analysis"
   ]
  },
  {
   "cell_type": "markdown",
   "id": "a5914dea-8892-4278-997d-c8557970d5f8",
   "metadata": {},
   "source": [
    "## notes"
   ]
  },
  {
   "cell_type": "markdown",
   "id": "3c326009-e212-4033-983e-c94066397d71",
   "metadata": {},
   "source": [
    "###### **pageviews only:**"
   ]
  },
  {
   "cell_type": "markdown",
   "id": "51fb2e4b-ff55-4a9b-b1da-ae32e8bed5d0",
   "metadata": {},
   "source": [
    "- pick pageid(s)\n",
    "- get daily views series for 2 years\n",
    "- regress pageviews ~ weekends, holidays, linear trend:\n",
    "    - get residuals RS_VIEWS\n",
    "- lag RS_VIEWS to get RS_VIEWS_L!, L2, etc.\n",
    "- regress RS_VIEWS on:\n",
    "    - a naive moving average of RS_VIEWS lags\n",
    "    - and some AR lags of RS_VIEWS\n",
    "- do ARIMA analysis of pageviews to compare"
   ]
  },
  {
   "cell_type": "markdown",
   "id": "cb28b3d9-9b03-4e6e-b296-11aecd0f16d3",
   "metadata": {},
   "source": [
    "#### later"
   ]
  },
  {
   "cell_type": "markdown",
   "id": "fa9b9556-4821-4859-a56c-d9e09b714cdb",
   "metadata": {},
   "source": [
    "###### **edits only:**"
   ]
  },
  {
   "cell_type": "markdown",
   "id": "155da6eb-8a5a-467e-a652-c689c454eb4b",
   "metadata": {},
   "source": [
    "same thing"
   ]
  },
  {
   "cell_type": "markdown",
   "id": "fbfbbdfa-5f6b-4ab5-84bf-fb3008fbaf14",
   "metadata": {},
   "source": [
    "###### **pageviews and edits:**"
   ]
  },
  {
   "cell_type": "markdown",
   "id": "17540a65-89a5-4025-8c63-c2d9ecb40987",
   "metadata": {},
   "source": [
    "- regress RS_EDITS on RS_VIEWS_L1\n",
    "- regress RS_EDITS on RS_EDITS_LX and RS_VIEWS_LX"
   ]
  },
  {
   "cell_type": "code",
   "execution_count": null,
   "id": "f7cdd151",
   "metadata": {},
   "outputs": [],
   "source": []
  },
  {
   "cell_type": "markdown",
   "id": "3beeb7b7",
   "metadata": {},
   "source": [
    "## setup"
   ]
  },
  {
   "cell_type": "code",
   "execution_count": null,
   "id": "16d27387-da6b-454f-97e5-efa605ab84df",
   "metadata": {},
   "outputs": [],
   "source": []
  },
  {
   "cell_type": "markdown",
   "id": "ef08b2ac-aa79-4e8d-8f93-fed98c56ef78",
   "metadata": {},
   "source": [
    "## get data"
   ]
  },
  {
   "cell_type": "markdown",
   "id": "d7b8ba15-6753-41b5-b297-b9845faab7c7",
   "metadata": {
    "tags": []
   },
   "source": [
    "##### pass"
   ]
  },
  {
   "cell_type": "code",
   "execution_count": 5,
   "id": "a834b36b-87be-4276-9c41-5420c8c5e3ca",
   "metadata": {},
   "outputs": [],
   "source": [
    "mysql_user = 'bhrdwj'\n",
    "# mysql_pass = input(f'Enter the MySQL password for user {mysql_user}: ')"
   ]
  },
  {
   "cell_type": "markdown",
   "id": "d8992454-df5a-4be6-9115-42c45cc81c51",
   "metadata": {
    "tags": []
   },
   "source": [
    "##### connect"
   ]
  },
  {
   "cell_type": "code",
   "execution_count": null,
   "id": "8fa3e17f-52a9-4799-9dff-89464175782e",
   "metadata": {},
   "outputs": [],
   "source": [
    "def connect_mariadb():\n",
    "    host='localhost'; user=mysql_user; passwd=mysql_pass; dbname='jawiki';\n",
    "    cxn = mysql.connect(host=host,user=user,passwd=passwd, database=dbname)\n",
    "    cur = cxn.cursor()\n",
    "\n",
    "    connection_str = 'mysql+mysqlconnector://'+user+':'+passwd+'@'+host+'/'+dbname  # removed this after host +':'+dbport\n",
    "    try:\n",
    "        engine = sqlalchemy.create_engine(connection_str)\n",
    "        conn = engine.connect()\n",
    "    except Exception as e:\n",
    "        print('Database connection error - check creds')\n",
    "        print(e)\n",
    "    return cxn, cur, engine, conn\n",
    "        \n",
    "cxn, cur, engine, conn = connect_mariadb()"
   ]
  },
  {
   "cell_type": "code",
   "execution_count": null,
   "id": "9a2fdb09-1bd2-4a89-af8f-a2f140bf96ba",
   "metadata": {},
   "outputs": [],
   "source": []
  },
  {
   "cell_type": "markdown",
   "id": "a080bcde",
   "metadata": {},
   "source": [
    "## model"
   ]
  }
 ],
 "metadata": {
  "kernelspec": {
   "display_name": "Python 3 (ipykernel)",
   "language": "python",
   "name": "python3"
  },
  "language_info": {
   "codemirror_mode": {
    "name": "ipython",
    "version": 3
   },
   "file_extension": ".py",
   "mimetype": "text/x-python",
   "name": "python",
   "nbconvert_exporter": "python",
   "pygments_lexer": "ipython3",
   "version": "3.9.7"
  }
 },
 "nbformat": 4,
 "nbformat_minor": 5
}
