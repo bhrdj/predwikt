{
 "cells": [
  {
   "cell_type": "markdown",
   "id": "315e258b-7258-48f2-b5ee-548258bd6456",
   "metadata": {},
   "source": [
    "# Predict hoax using scaled features"
   ]
  },
  {
   "cell_type": "markdown",
   "id": "110011f9-0aaa-4b6c-9024-c1d2e7ac0bb6",
   "metadata": {},
   "source": [
    "Goal: Match or surpass the $R^2$ achieved with unscaled features"
   ]
  },
  {
   "cell_type": "markdown",
   "id": "8c439bdc-bf74-483e-b15f-a1d0fc6fba51",
   "metadata": {
    "jp-MarkdownHeadingCollapsed": true,
    "tags": []
   },
   "source": [
    "### notes"
   ]
  },
  {
   "cell_type": "markdown",
   "id": "6d1b27b7-f7c9-4360-a8d8-b01a017c3bea",
   "metadata": {
    "jp-MarkdownHeadingCollapsed": true,
    "tags": []
   },
   "source": [
    "#### ➜ Fewer coefficients present without scaling. Why?"
   ]
  },
  {
   "cell_type": "markdown",
   "id": "aa641e40-2262-43b5-a05b-e2b97513c29e",
   "metadata": {},
   "source": [
    "- There was a typo and a feature slipped through that wasn't supposed to\n",
    "    - ➜ fixed\n",
    "    - The sets are the same now, but the phenomenon is remaining.\n",
    "- Maybe it's because the intercept was scaled to zero?  \n",
    "    - ➜ Try only scaling the original floats.\n",
    "    - Score improved to .54/.5 , but unscaled remains .6\n",
    "- Look at (unscaled_coeff / $\\sigma$) to understand feature importance\n",
    "    - ➜ Try repeating the regression with these features only\n",
    "    - Score improved to .55/.5 , and unscaled remains .58\n",
    "- Checked Lasso (with all features)\n",
    "    - ➜ same results as Ridge: .54/.5\n",
    "- Relaxed my limitation of C,\n",
    "    - ➜ improved to .57/.5 with C=6\n",
    "- Ran logistic regression on unscaled features with no regularization\n",
    "    - ➜ improved to .61/.5\n",
    "    - Far out-performed the paper-author's models\n",
    "- Let's try SFS with scaled features\n",
    "    - Success!"
   ]
  },
  {
   "cell_type": "markdown",
   "id": "b6d97848-f734-4c4d-9512-b28f1965ade5",
   "metadata": {
    "tags": []
   },
   "source": [
    "## exploration controls"
   ]
  },
  {
   "cell_type": "code",
   "execution_count": 1,
   "id": "ff9a7a36-c1b5-4f81-8651-f50ac3fdeb11",
   "metadata": {},
   "outputs": [],
   "source": [
    "random_seed = 0"
   ]
  },
  {
   "cell_type": "markdown",
   "id": "69cf4c59-546e-453f-9aef-cce814551a91",
   "metadata": {
    "tags": []
   },
   "source": [
    "## get data"
   ]
  },
  {
   "cell_type": "markdown",
   "id": "36311d5e-beb7-471f-a963-ed1f57c60242",
   "metadata": {
    "tags": []
   },
   "source": [
    "### imports"
   ]
  },
  {
   "cell_type": "code",
   "execution_count": 2,
   "id": "522dd10f-5501-4d60-b29c-3a857f23ba1e",
   "metadata": {},
   "outputs": [],
   "source": [
    "import os, re, patsy\n",
    "import pandas as pd, numpy as np\n",
    "from sklearn.linear_model import LogisticRegression, LogisticRegressionCV\n",
    "from sklearn.model_selection import train_test_split\n",
    "from sklearn.feature_selection import SequentialFeatureSelector, RFE, RFECV\n",
    "from sklearn.preprocessing import StandardScaler\n",
    "path = '/home/bhrdwj/git/predwikt/data/raw/wiki_reliability/unzipped/'"
   ]
  },
  {
   "cell_type": "code",
   "execution_count": 3,
   "id": "c93dfd55-0405-4534-ad2d-db33b0b1de8d",
   "metadata": {},
   "outputs": [],
   "source": [
    "fea = (pd.read_csv(path+'hoax_features.csv', usecols=lambda x: x not in ['Unnamed: 0'])\n",
    "       .rename(columns={'headings_by_level(2)':'headings_by_level_2', 'revision_id.key':'revision_id_key'}))"
   ]
  },
  {
   "cell_type": "markdown",
   "id": "8d507d75-7553-4319-9c39-d80baea4166f",
   "metadata": {
    "jp-MarkdownHeadingCollapsed": true,
    "tags": []
   },
   "source": [
    "### train test split"
   ]
  },
  {
   "cell_type": "markdown",
   "id": "78f4b2da-0012-4cba-b7cb-d0f56e092dac",
   "metadata": {},
   "source": [
    "#### Make series of negative revisions and their revision keys, and vice versa"
   ]
  },
  {
   "cell_type": "code",
   "execution_count": 4,
   "id": "35f30aaf-6d36-4c06-a857-6b6b717e8514",
   "metadata": {},
   "outputs": [
    {
     "data": {
      "text/plain": [
       "(1390,)"
      ]
     },
     "execution_count": 4,
     "metadata": {},
     "output_type": "execute_result"
    }
   ],
   "source": [
    "neg_revs = fea[['revision_id', 'revision_id_key', 'has_template']]\n",
    "neg_revs = neg_revs.loc[neg_revs.has_template==0].set_index('revision_id')['revision_id_key']\n",
    "pos_revs = fea[['revision_id', 'revision_id_key', 'has_template']]\n",
    "pos_revs = pos_revs.loc[pos_revs.has_template==1].set_index('revision_id')['revision_id_key']\n",
    "\n",
    "neg_revs.shape #, pos_revs.shape"
   ]
  },
  {
   "cell_type": "markdown",
   "id": "af9cacc0-02a2-4289-938b-4777886cad99",
   "metadata": {},
   "source": [
    "#### Test-train split the neg_revs, and form dfte and dftr"
   ]
  },
  {
   "cell_type": "code",
   "execution_count": 5,
   "id": "1cfa337d-351a-4842-9968-ba52d362d8b4",
   "metadata": {},
   "outputs": [],
   "source": [
    "neg_revs_tr, neg_revs_te = train_test_split(neg_revs, test_size=.2, random_state=0)\n",
    "pos_revs_tr = pos_revs[neg_revs_tr.values]\n",
    "pos_revs_te = pos_revs[neg_revs_te.values]"
   ]
  },
  {
   "cell_type": "code",
   "execution_count": 6,
   "id": "b6eed864-538d-45d7-a0e2-9b28d0f39c43",
   "metadata": {},
   "outputs": [],
   "source": [
    "revs_tr = pd.concat((neg_revs_tr, pos_revs_tr))\n",
    "revs_te = pd.concat((neg_revs_te, pos_revs_te))"
   ]
  },
  {
   "cell_type": "code",
   "execution_count": 7,
   "id": "e863c433-eeda-44de-ac19-daffddb6e753",
   "metadata": {},
   "outputs": [],
   "source": [
    "fea_rev = fea.set_index('revision_id')\n",
    "dftr = fea_rev.loc[revs_tr.index].dropna()\n",
    "dfte = fea_rev.loc[revs_te.index].dropna()"
   ]
  },
  {
   "cell_type": "code",
   "execution_count": 8,
   "id": "1e831562-e1a0-449a-9a6d-7c29055d1e13",
   "metadata": {},
   "outputs": [],
   "source": [
    "del neg_revs, pos_revs, neg_revs_tr, pos_revs_tr, neg_revs_te, pos_revs_te, revs_tr, revs_te, fea_rev"
   ]
  },
  {
   "cell_type": "code",
   "execution_count": 9,
   "id": "af05ed3d-dc88-46c9-8feb-54ceedd01393",
   "metadata": {},
   "outputs": [],
   "source": [
    "dftr[dftr.columns.difference(['page_id','revision_id_key','has_template'])].describe().T.sort_values(by='mean');"
   ]
  },
  {
   "cell_type": "markdown",
   "id": "3d3973ad-4155-410f-96d4-2cf48761841f",
   "metadata": {},
   "source": [
    "### prep"
   ]
  },
  {
   "cell_type": "code",
   "execution_count": 10,
   "id": "8cd82483-08e1-4b76-887e-0204310cddbe",
   "metadata": {},
   "outputs": [],
   "source": [
    "# remove non-features; dummify categoricals\n",
    "ytr = dftr.has_template\n",
    "Xtr = dftr[dftr.columns.difference(['page_id','revision_id_key','has_template'])]\n",
    "Xtr = patsy.dmatrix('~ '+' + '.join(Xtr.columns), data=Xtr, NA_action='drop', return_type='dataframe')\n",
    "\n",
    "yte = dfte.has_template\n",
    "Xte = dfte[dfte.columns.difference(['page_id','revision_id_key','has_template'])]\n",
    "Xte = patsy.dmatrix('~ '+' + '.join(Xte.columns), data=Xte, NA_action='drop', return_type='dataframe')\n",
    "\n",
    "# make complete list of columns in case the test set doesn't include any of a rare class\n",
    "Xcols = list(\n",
    "    set(Xtr.columns.tolist())\n",
    "    .union(set(Xte.columns.tolist()))\n",
    ")\n",
    "\n",
    "for col in Xcols:\n",
    "    if col not in Xte:\n",
    "        Xte[col] = 0\n",
    "    if col not in Xtr:\n",
    "        Xtr[col] = 0"
   ]
  },
  {
   "cell_type": "markdown",
   "id": "893fb3ce-ee8b-412f-af7b-a4c377546872",
   "metadata": {},
   "source": [
    "### to scale or not to scale"
   ]
  },
  {
   "cell_type": "code",
   "execution_count": 11,
   "id": "2ed8b594-ba96-4b8a-ba76-90a159774aaa",
   "metadata": {},
   "outputs": [],
   "source": [
    "scaler = StandardScaler()\n",
    "def scale_reindex(df):\n",
    "    matrix = scaler.fit_transform(df)\n",
    "    return pd.DataFrame(data=matrix, index=df.index, columns=df.columns)\n",
    "\n",
    "[Xtr,Xte] = map(scale_reindex, [Xtr,Xte])"
   ]
  },
  {
   "cell_type": "markdown",
   "id": "bbd76b29-52c8-4905-96fb-14809084fbe2",
   "metadata": {},
   "source": [
    "## SFS Logistic Regression"
   ]
  },
  {
   "cell_type": "markdown",
   "id": "506a0df4-9c10-451d-86fd-fdbeec73dce8",
   "metadata": {},
   "source": [
    "### feature selection (keep 2/3 of features)"
   ]
  },
  {
   "cell_type": "code",
   "execution_count": 12,
   "id": "d53e035e-596d-467a-8a28-ba6f031e663d",
   "metadata": {
    "tags": []
   },
   "outputs": [
    {
     "data": {
      "text/plain": [
       "SequentialFeatureSelector(estimator=LogisticRegression(C=0.1,\n",
       "                                                       fit_intercept=False,\n",
       "                                                       max_iter=10000),\n",
       "                          n_features_to_select=8)"
      ]
     },
     "execution_count": 12,
     "metadata": {},
     "output_type": "execute_result"
    }
   ],
   "source": [
    "estimator = LogisticRegression(penalty='l2', C=.1, max_iter=10000, fit_intercept=False)\n",
    "sfs = SequentialFeatureSelector(estimator=estimator, n_features_to_select=8)\n",
    "sfs.fit(Xtr, ytr)"
   ]
  },
  {
   "cell_type": "code",
   "execution_count": 13,
   "id": "a9a9e8a0-e1d8-4138-bc13-72fcfe42c050",
   "metadata": {},
   "outputs": [],
   "source": [
    "feats1 = Xtr.columns[sfs.get_support()].tolist()\n",
    "feats1 = [i for i in feats1 if not i.find('page_id') > -1]"
   ]
  },
  {
   "cell_type": "code",
   "execution_count": 14,
   "id": "a9c05ee0-fd89-424e-bc40-b7f94ce83169",
   "metadata": {},
   "outputs": [
    {
     "data": {
      "text/plain": [
       "8"
      ]
     },
     "execution_count": 14,
     "metadata": {},
     "output_type": "execute_result"
    }
   ],
   "source": [
    "len(feats1)"
   ]
  },
  {
   "cell_type": "markdown",
   "id": "1b0d1569-78e1-4025-8d02-28cc242d8a4d",
   "metadata": {
    "tags": []
   },
   "source": [
    "### initialize and fit"
   ]
  },
  {
   "cell_type": "code",
   "execution_count": 15,
   "id": "d73ceaca-fdde-4b48-bfa1-fcfdbfeb42d5",
   "metadata": {},
   "outputs": [
    {
     "data": {
      "text/plain": [
       "LogisticRegression(C=0.1, max_iter=10000)"
      ]
     },
     "execution_count": 15,
     "metadata": {},
     "output_type": "execute_result"
    }
   ],
   "source": [
    "lr = LogisticRegression(penalty='l2', C=.1, max_iter=10000, fit_intercept=True)\n",
    "lr.fit(Xtr[feats1], ytr)"
   ]
  },
  {
   "cell_type": "markdown",
   "id": "8588aa04-733b-4cbd-af69-217c25724fb9",
   "metadata": {
    "tags": []
   },
   "source": [
    "#### check results"
   ]
  },
  {
   "cell_type": "code",
   "execution_count": 16,
   "id": "e1b34c21-b37a-44dd-8548-0fddcf8bc0dc",
   "metadata": {},
   "outputs": [
    {
     "name": "stdout",
     "output_type": "stream",
     "text": [
      "Training accuracy 0.6033318325078794\n",
      "Testing accuracy 0.6151079136690647\n",
      "Baseline accuracy 0.5\n"
     ]
    }
   ],
   "source": [
    "print(f'Training accuracy {lr.score(Xtr[feats1], ytr)}')\n",
    "print(f'Testing accuracy {lr.score(Xte[feats1], yte)}')\n",
    "print(f'Baseline accuracy {yte.mean()}')"
   ]
  },
  {
   "cell_type": "markdown",
   "id": "2e0a38b2-0868-44f7-8d70-2a0ec059353b",
   "metadata": {
    "tags": []
   },
   "source": [
    "#### review fitted coefficients"
   ]
  },
  {
   "cell_type": "code",
   "execution_count": 17,
   "id": "26f9579a-47b4-45f2-b67f-83bde64e362f",
   "metadata": {},
   "outputs": [],
   "source": [
    "coeffs = pd.Series(np.ravel(lr.coef_), index=feats1, name='coeffs')"
   ]
  },
  {
   "cell_type": "code",
   "execution_count": 18,
   "id": "76960707-a438-4770-96f2-55fb47e7a8db",
   "metadata": {},
   "outputs": [
    {
     "data": {
      "text/plain": [
       "external_links                   -0.132272\n",
       "words_to_watch_matches            0.119113\n",
       "paragraphs_without_refs           0.113074\n",
       "shortened_footnote_templates     -0.085422\n",
       "revision_templates                0.077559\n",
       "headings_by_level_2              -0.060653\n",
       "article_quality_score[T.Start]   -0.017786\n",
       "article_quality_score[T.Stub]     0.003022\n",
       "Name: coeffs, dtype: float64"
      ]
     },
     "execution_count": 18,
     "metadata": {},
     "output_type": "execute_result"
    }
   ],
   "source": [
    "coeffs.sort_values(ascending=False, key=abs)"
   ]
  }
 ],
 "metadata": {
  "kernelspec": {
   "display_name": "Python 3 (ipykernel)",
   "language": "python",
   "name": "python3"
  },
  "language_info": {
   "codemirror_mode": {
    "name": "ipython",
    "version": 3
   },
   "file_extension": ".py",
   "mimetype": "text/x-python",
   "name": "python",
   "nbconvert_exporter": "python",
   "pygments_lexer": "ipython3",
   "version": "3.9.7"
  }
 },
 "nbformat": 4,
 "nbformat_minor": 5
}
