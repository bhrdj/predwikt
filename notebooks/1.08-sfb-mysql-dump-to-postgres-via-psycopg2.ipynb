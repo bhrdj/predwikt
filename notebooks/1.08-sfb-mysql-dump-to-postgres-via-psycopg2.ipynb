{
 "cells": [
  {
   "cell_type": "markdown",
   "id": "5fbcc848-aa72-4971-9082-1576ccbd036f",
   "metadata": {},
   "source": [
    "# import mysql dump to postgres via psycopg2"
   ]
  },
  {
   "cell_type": "code",
   "execution_count": 10,
   "id": "df9f9026-4699-4296-88a0-64eeea1217db",
   "metadata": {},
   "outputs": [],
   "source": [
    "import os\n",
    "from pathlib import Path\n",
    "import pandas as pd\n",
    "import psycopg2\n",
    "import subprocess\n",
    "import mysql.connector as mysql\n",
    "# import sqlalchemy"
   ]
  },
  {
   "cell_type": "code",
   "execution_count": 109,
   "id": "7a73d24e-eb5d-4fce-a09f-dd438824d7fc",
   "metadata": {},
   "outputs": [],
   "source": [
    "home_path = str(Path.home())\n",
    "os.chdir(home_path + '/git/predwikt/notebooks')"
   ]
  },
  {
   "cell_type": "markdown",
   "id": "842938fb-e596-4d1a-bcc9-54b6e98237fe",
   "metadata": {
    "jp-MarkdownHeadingCollapsed": true,
    "tags": []
   },
   "source": [
    "#### Ignore these probably"
   ]
  },
  {
   "cell_type": "markdown",
   "id": "648717d4-8bae-4404-9944-fd18d5651d0c",
   "metadata": {},
   "source": [
    "**bash**\n",
    "\n",
    "```bash\n",
    "sudo service mysql start & disown\n",
    "mysql --user=root --password=XXXXXX\n",
    "```\n",
    "\n",
    "**mysql**\n",
    "\n",
    "```sql\n",
    "USE latest_categ;\n",
    "CREATE USER bhrdwj@localhost IDENTIFIED BY 'password';\n",
    "```"
   ]
  },
  {
   "cell_type": "markdown",
   "id": "1c43db35-e873-4c2c-8a16-364e0ca34281",
   "metadata": {
    "tags": []
   },
   "source": [
    "#### Working on this one now"
   ]
  },
  {
   "cell_type": "raw",
   "id": "d7efad95-3487-4e63-b967-1c4c4496c422",
   "metadata": {},
   "source": [
    "---------\n",
    "BASH\n",
    "---------\n",
    "mysql --user=bhrdwj --password=XXXXXXXX latest_categ < enwiki-latest-category.sql > output.tab\n",
    "\n",
    "---------\n",
    "MySQL\n",
    "---------\n",
    "show tables;\n",
    "show columns from category;\n",
    "select count(*) from category;"
   ]
  },
  {
   "cell_type": "markdown",
   "id": "6396e751-d89c-41b7-ade1-ac99f813ecf4",
   "metadata": {
    "tags": []
   },
   "source": [
    "## Import dump into MySQL"
   ]
  },
  {
   "cell_type": "code",
   "execution_count": null,
   "id": "7326422c-85db-4039-83c3-d623717b192e",
   "metadata": {},
   "outputs": [],
   "source": []
  },
  {
   "cell_type": "markdown",
   "id": "92cb24da-9bc2-4443-9989-02cc9af8c10b",
   "metadata": {
    "jp-MarkdownHeadingCollapsed": true,
    "tags": []
   },
   "source": [
    "#### Get input data"
   ]
  },
  {
   "cell_type": "code",
   "execution_count": 65,
   "id": "8fd80b26-8280-4280-ba93-c2cb9dc25f20",
   "metadata": {},
   "outputs": [],
   "source": [
    "mysql_superuser = 'root'\n",
    "# mysql_su_pass = input(f'Enter the MySQL password for user {mysql_superuser}: ')"
   ]
  },
  {
   "cell_type": "code",
   "execution_count": 66,
   "id": "1110a6b5-a170-46a6-9fc8-e8af64528069",
   "metadata": {},
   "outputs": [],
   "source": [
    "pg_superuser = 'postgres'\n",
    "# pg_su_pass = input(f'Enter the PostgreSQL password for user {pg_superuser}: ')"
   ]
  },
  {
   "cell_type": "code",
   "execution_count": 67,
   "id": "0b0f5e12-7bf8-4e7d-8000-d2a4d02fe2ce",
   "metadata": {},
   "outputs": [],
   "source": [
    "mysql_defaultuser = 'bhrdwj'\n",
    "# mysql_def_pass = input(f'Enter the MySQL password for user {mysql_defaultuser}: ')"
   ]
  },
  {
   "cell_type": "code",
   "execution_count": 68,
   "id": "c9e1680f-244d-4b70-b408-db329e1ac3d4",
   "metadata": {},
   "outputs": [],
   "source": [
    "pg_defaultuser = 'bhrdwj'\n",
    "# pg_def_pass = input(f'Enter the PostgreSQL password for user {pg_superuser}: ')"
   ]
  },
  {
   "cell_type": "markdown",
   "id": "719ff0fd-f4d5-4cec-8a60-a649f6f7e7f2",
   "metadata": {
    "jp-MarkdownHeadingCollapsed": true,
    "tags": []
   },
   "source": [
    "#### Initialize mysql manually in bash"
   ]
  },
  {
   "cell_type": "markdown",
   "id": "3f5f970d-171c-48b8-b784-9e525bc9362a",
   "metadata": {},
   "source": [
    "**bash**\n",
    "```bash\n",
    "sudo service mysqld stop\n",
    "\n",
    "sudo service mysqld start & disown\n",
    "```\n",
    "(I had to use mysqld not mysql: [link](https://stackoverflow.com/questions/11990708/error-cant-connect-to-local-mysql-server-through-socket-var-run-mysqld-mysq))"
   ]
  },
  {
   "cell_type": "code",
   "execution_count": null,
   "id": "064a6c0a-d763-4102-80ed-a495d1eef64a",
   "metadata": {},
   "outputs": [],
   "source": []
  },
  {
   "cell_type": "code",
   "execution_count": 27,
   "id": "bc14f391-2d83-4186-b6fc-0d7e27b44b8d",
   "metadata": {},
   "outputs": [],
   "source": [
    "# the following isn't working :p\n",
    "\n",
    "# subprocess.call(['sudo', 'service', '/usr/bin/mysql', 'start'], \n",
    "#                     shell=True, \n",
    "#                     stdin=subprocess.PIPE,\n",
    "#                     stdout=subprocess.PIPE,\n",
    "#                     stderr=subprocess.PIPE)"
   ]
  },
  {
   "cell_type": "markdown",
   "id": "8b05a9ee-0acd-461e-897d-1ee9b783b96e",
   "metadata": {
    "tags": []
   },
   "source": [
    "#### Connect mysql.connect to mysql as root"
   ]
  },
  {
   "cell_type": "code",
   "execution_count": 154,
   "id": "2a49120f-16c3-47ba-a40f-4d3a5eceb80f",
   "metadata": {},
   "outputs": [],
   "source": [
    "db_mysql = mysql.connect(\n",
    "    host = \"localhost\",\n",
    "    user = \"root\",\n",
    "    passwd = mysql_su_pass,\n",
    "    database='latest_page' # not the first time around\n",
    ")"
   ]
  },
  {
   "cell_type": "markdown",
   "id": "31dfc033-d5a7-4636-a96e-80dac09571f0",
   "metadata": {
    "tags": []
   },
   "source": [
    "#### Initialize a cursor"
   ]
  },
  {
   "cell_type": "code",
   "execution_count": 156,
   "id": "de7fa08e-ef48-4225-9f3e-52fbbdc23001",
   "metadata": {},
   "outputs": [],
   "source": [
    "cur_mysql = db_mysql.cursor()"
   ]
  },
  {
   "cell_type": "markdown",
   "id": "223bf412-60ea-448c-bd2e-ed2f3b7f8a5a",
   "metadata": {
    "tags": []
   },
   "source": [
    "#### Create the database"
   ]
  },
  {
   "cell_type": "code",
   "execution_count": 36,
   "id": "73b1d6bc-5447-474a-b7c6-1600f2dba9fd",
   "metadata": {},
   "outputs": [],
   "source": [
    "cur_mysql.execute(\"CREATE DATABASE latest_page CHARACTER SET utf8 COLLATE utf8_bin;\")"
   ]
  },
  {
   "cell_type": "markdown",
   "id": "3f444703-1599-4bb2-af45-9ddec9e791a0",
   "metadata": {
    "jp-MarkdownHeadingCollapsed": true,
    "tags": []
   },
   "source": [
    "#### Grant privileges to default user"
   ]
  },
  {
   "cell_type": "code",
   "execution_count": 103,
   "id": "bfec8d83-c6b6-4b7a-a464-e54b7aad2fef",
   "metadata": {},
   "outputs": [],
   "source": [
    "cur_mysql.execute(f\"GRANT ALL PRIVILEGES ON latest_page.* TO 'bhrdwj'@'localhost' IDENTIFIED BY '{mysql_def_pass}';\")"
   ]
  },
  {
   "cell_type": "code",
   "execution_count": 104,
   "id": "6efc5a0b-38ca-4ae5-b35b-a8371c8990b7",
   "metadata": {},
   "outputs": [],
   "source": [
    "cur_mysql.execute(\"FLUSH PRIVILEGES;\")"
   ]
  },
  {
   "cell_type": "code",
   "execution_count": 105,
   "id": "d39096a9-073d-4d57-be3a-a4a2852c0686",
   "metadata": {},
   "outputs": [
    {
     "data": {
      "text/plain": [
       "[(\"GRANT USAGE ON *.* TO `bhrdwj`@`localhost` IDENTIFIED BY PASSWORD '*E5A65FB8301633C6247EC1EC461B78429C14BD14'\",),\n",
       " ('GRANT ALL PRIVILEGES ON `latest_categ`.* TO `bhrdwj`@`localhost`',),\n",
       " ('GRANT ALL PRIVILEGES ON `latest_page`.* TO `bhrdwj`@`localhost`',)]"
      ]
     },
     "execution_count": 105,
     "metadata": {},
     "output_type": "execute_result"
    }
   ],
   "source": [
    "cur_mysql.execute(\"SHOW GRANTS FOR 'bhrdwj'@'localhost';\")\n",
    "cur_mysql.fetchall()"
   ]
  },
  {
   "cell_type": "markdown",
   "id": "00d7df1a-18cb-4188-b13f-223593cda790",
   "metadata": {
    "jp-MarkdownHeadingCollapsed": true,
    "tags": []
   },
   "source": [
    "#### Bash command to check sql is running"
   ]
  },
  {
   "cell_type": "markdown",
   "id": "39f4880d-9e98-44fd-adff-4b391ee73239",
   "metadata": {},
   "source": [
    "```bash\n",
    "netstat -lnp | grep mysql\n",
    "```"
   ]
  },
  {
   "cell_type": "markdown",
   "id": "42dec69e-79c7-4024-80c4-45dc609585a7",
   "metadata": {
    "tags": []
   },
   "source": [
    "#### Check current user"
   ]
  },
  {
   "cell_type": "code",
   "execution_count": 157,
   "id": "bc976494-3ca2-4b6d-a1ac-4270ea7e908c",
   "metadata": {},
   "outputs": [
    {
     "data": {
      "text/plain": [
       "[('bhrdwj@localhost',)]"
      ]
     },
     "execution_count": 157,
     "metadata": {},
     "output_type": "execute_result"
    }
   ],
   "source": [
    "cur_mysql.execute('select user();')\n",
    "cur_mysql.fetchall()"
   ]
  },
  {
   "cell_type": "code",
   "execution_count": 162,
   "id": "2d62c0e0-5228-48a8-8603-999974debdf7",
   "metadata": {},
   "outputs": [
    {
     "data": {
      "text/plain": [
       "[('latest_page',)]"
      ]
     },
     "execution_count": 162,
     "metadata": {},
     "output_type": "execute_result"
    }
   ],
   "source": [
    "cur_mysql.execute('select database();')\n",
    "cur_mysql.fetchall()"
   ]
  },
  {
   "cell_type": "code",
   "execution_count": 161,
   "id": "017cfc01-7c51-495b-bbbf-6ce621c0f983",
   "metadata": {},
   "outputs": [
    {
     "data": {
      "text/plain": [
       "[]"
      ]
     },
     "execution_count": 161,
     "metadata": {},
     "output_type": "execute_result"
    }
   ],
   "source": [
    "cur_mysql.execute('show tables;')\n",
    "cur_mysql.fetchall()"
   ]
  },
  {
   "cell_type": "markdown",
   "id": "89fed234-b4e7-4130-93b4-20da8016b15d",
   "metadata": {
    "tags": []
   },
   "source": [
    "#### Try switching users"
   ]
  },
  {
   "cell_type": "code",
   "execution_count": 155,
   "id": "8b6aba01-9685-43c1-ae2f-d8b3f6650253",
   "metadata": {},
   "outputs": [],
   "source": [
    "db_mysql.cmd_change_user(username=mysql_defaultuser, \n",
    "                         password=mysql_def_pass,\n",
    "                         database='latest_page'\n",
    "                        )"
   ]
  },
  {
   "cell_type": "markdown",
   "id": "b7e89278-5ac1-4b2b-a09c-1a41f4b0edf9",
   "metadata": {},
   "source": [
    "#### <mark>COULDN'T GET THESE TO WORK :(</mark>"
   ]
  },
  {
   "cell_type": "code",
   "execution_count": 160,
   "id": "291d406c-44e4-4b29-abdc-c2c99bb7d32f",
   "metadata": {},
   "outputs": [],
   "source": [
    "with open('../data/raw/enwiki-latest-page.sql', 'r') as f:\n",
    "    for line in f:\n",
    "        cur_mysql.execute(line, multi=True)\n",
    "        db_mysql.commit()"
   ]
  },
  {
   "cell_type": "code",
   "execution_count": 153,
   "id": "b64a0ced-7098-4231-889d-ace919bbf460",
   "metadata": {},
   "outputs": [
    {
     "ename": "MemoryError",
     "evalue": "",
     "output_type": "error",
     "traceback": [
      "\u001b[0;31m---------------------------------------------------------------------------\u001b[0m",
      "\u001b[0;31mMemoryError\u001b[0m                               Traceback (most recent call last)",
      "\u001b[0;32m/tmp/ipykernel_9729/619133348.py\u001b[0m in \u001b[0;36m<module>\u001b[0;34m\u001b[0m\n\u001b[1;32m      1\u001b[0m \u001b[0;32mwith\u001b[0m \u001b[0mopen\u001b[0m\u001b[0;34m(\u001b[0m\u001b[0;34m'../data/raw/enwiki-latest-page.sql'\u001b[0m\u001b[0;34m,\u001b[0m \u001b[0;34m'r'\u001b[0m\u001b[0;34m)\u001b[0m \u001b[0;32mas\u001b[0m \u001b[0mf\u001b[0m\u001b[0;34m:\u001b[0m\u001b[0;34m\u001b[0m\u001b[0;34m\u001b[0m\u001b[0m\n\u001b[0;32m----> 2\u001b[0;31m     \u001b[0mcur_mysql\u001b[0m\u001b[0;34m.\u001b[0m\u001b[0mexecute\u001b[0m\u001b[0;34m(\u001b[0m\u001b[0mf\u001b[0m\u001b[0;34m.\u001b[0m\u001b[0mread\u001b[0m\u001b[0;34m(\u001b[0m\u001b[0;34m)\u001b[0m\u001b[0;34m,\u001b[0m \u001b[0mmulti\u001b[0m\u001b[0;34m=\u001b[0m\u001b[0;32mTrue\u001b[0m\u001b[0;34m)\u001b[0m\u001b[0;34m\u001b[0m\u001b[0;34m\u001b[0m\u001b[0m\n\u001b[0m\u001b[1;32m      3\u001b[0m     \u001b[0mdb_mysql\u001b[0m\u001b[0;34m.\u001b[0m\u001b[0mcommit\u001b[0m\u001b[0;34m(\u001b[0m\u001b[0;34m)\u001b[0m\u001b[0;34m\u001b[0m\u001b[0;34m\u001b[0m\u001b[0m\n",
      "\u001b[0;32m~/anaconda3/envs/py39/lib/python3.9/codecs.py\u001b[0m in \u001b[0;36mdecode\u001b[0;34m(self, input, final)\u001b[0m\n\u001b[1;32m    320\u001b[0m         \u001b[0;31m# decode input (taking the buffer into account)\u001b[0m\u001b[0;34m\u001b[0m\u001b[0;34m\u001b[0m\u001b[0m\n\u001b[1;32m    321\u001b[0m         \u001b[0mdata\u001b[0m \u001b[0;34m=\u001b[0m \u001b[0mself\u001b[0m\u001b[0;34m.\u001b[0m\u001b[0mbuffer\u001b[0m \u001b[0;34m+\u001b[0m \u001b[0minput\u001b[0m\u001b[0;34m\u001b[0m\u001b[0;34m\u001b[0m\u001b[0m\n\u001b[0;32m--> 322\u001b[0;31m         \u001b[0;34m(\u001b[0m\u001b[0mresult\u001b[0m\u001b[0;34m,\u001b[0m \u001b[0mconsumed\u001b[0m\u001b[0;34m)\u001b[0m \u001b[0;34m=\u001b[0m \u001b[0mself\u001b[0m\u001b[0;34m.\u001b[0m\u001b[0m_buffer_decode\u001b[0m\u001b[0;34m(\u001b[0m\u001b[0mdata\u001b[0m\u001b[0;34m,\u001b[0m \u001b[0mself\u001b[0m\u001b[0;34m.\u001b[0m\u001b[0merrors\u001b[0m\u001b[0;34m,\u001b[0m \u001b[0mfinal\u001b[0m\u001b[0;34m)\u001b[0m\u001b[0;34m\u001b[0m\u001b[0;34m\u001b[0m\u001b[0m\n\u001b[0m\u001b[1;32m    323\u001b[0m         \u001b[0;31m# keep undecoded input until the next call\u001b[0m\u001b[0;34m\u001b[0m\u001b[0;34m\u001b[0m\u001b[0m\n\u001b[1;32m    324\u001b[0m         \u001b[0mself\u001b[0m\u001b[0;34m.\u001b[0m\u001b[0mbuffer\u001b[0m \u001b[0;34m=\u001b[0m \u001b[0mdata\u001b[0m\u001b[0;34m[\u001b[0m\u001b[0mconsumed\u001b[0m\u001b[0;34m:\u001b[0m\u001b[0;34m]\u001b[0m\u001b[0;34m\u001b[0m\u001b[0;34m\u001b[0m\u001b[0m\n",
      "\u001b[0;31mMemoryError\u001b[0m: "
     ]
    }
   ],
   "source": [
    "with open('../data/raw/enwiki-latest-page.sql', 'r') as f:\n",
    "    cur_mysql.execute(f.read(), multi=True)\n",
    "    db_mysql.commit()"
   ]
  },
  {
   "cell_type": "code",
   "execution_count": 110,
   "id": "0c74d94b-b8fc-4a56-aff3-ad74459ed9c1",
   "metadata": {},
   "outputs": [
    {
     "data": {
      "text/plain": [
       "['__abstractmethods__',\n",
       " '__class__',\n",
       " '__delattr__',\n",
       " '__dict__',\n",
       " '__dir__',\n",
       " '__doc__',\n",
       " '__eq__',\n",
       " '__format__',\n",
       " '__ge__',\n",
       " '__getattribute__',\n",
       " '__gt__',\n",
       " '__hash__',\n",
       " '__init__',\n",
       " '__init_subclass__',\n",
       " '__iter__',\n",
       " '__le__',\n",
       " '__lt__',\n",
       " '__module__',\n",
       " '__ne__',\n",
       " '__new__',\n",
       " '__next__',\n",
       " '__reduce__',\n",
       " '__reduce_ex__',\n",
       " '__repr__',\n",
       " '__setattr__',\n",
       " '__sizeof__',\n",
       " '__str__',\n",
       " '__subclasshook__',\n",
       " '__weakref__',\n",
       " '_abc_impl',\n",
       " '_batch_insert',\n",
       " '_binary',\n",
       " '_connection',\n",
       " '_description',\n",
       " '_execute_iter',\n",
       " '_executed',\n",
       " '_executed_list',\n",
       " '_fetch_row',\n",
       " '_fetch_warnings',\n",
       " '_handle_eof',\n",
       " '_handle_noresultset',\n",
       " '_handle_result',\n",
       " '_handle_resultset',\n",
       " '_handle_warnings',\n",
       " '_have_unread_result',\n",
       " '_last_insert_id',\n",
       " '_nextrow',\n",
       " '_process_params',\n",
       " '_process_params_dict',\n",
       " '_raw',\n",
       " '_reset_result',\n",
       " '_rowcount',\n",
       " '_set_connection',\n",
       " '_stored_results',\n",
       " '_warning_count',\n",
       " '_warnings',\n",
       " 'arraysize',\n",
       " 'callproc',\n",
       " 'close',\n",
       " 'column_names',\n",
       " 'description',\n",
       " 'execute',\n",
       " 'executemany',\n",
       " 'fetchall',\n",
       " 'fetchmany',\n",
       " 'fetchone',\n",
       " 'fetchwarnings',\n",
       " 'getlastrowid',\n",
       " 'lastrowid',\n",
       " 'next',\n",
       " 'nextset',\n",
       " 'reset',\n",
       " 'rowcount',\n",
       " 'setinputsizes',\n",
       " 'setoutputsize',\n",
       " 'statement',\n",
       " 'stored_results',\n",
       " 'with_rows']"
      ]
     },
     "execution_count": 110,
     "metadata": {},
     "output_type": "execute_result"
    }
   ],
   "source": [
    "dir(cur_mysql)"
   ]
  },
  {
   "cell_type": "code",
   "execution_count": null,
   "id": "4d97773f-cdd0-4416-8b04-c148e8e70064",
   "metadata": {},
   "outputs": [],
   "source": []
  },
  {
   "cell_type": "markdown",
   "id": "18a8bd89-b7b9-4922-a510-c9e69e300658",
   "metadata": {},
   "source": [
    "## Fix how mariadb keeps dying"
   ]
  },
  {
   "cell_type": "markdown",
   "id": "04dd1d95-77e3-482a-b386-68411fe9f423",
   "metadata": {},
   "source": [
    "https://askubuntu.com/questions/750604/why-does-mariadb-keep-dying-how-do-i-stop-it"
   ]
  }
 ],
 "metadata": {
  "kernelspec": {
   "display_name": "Python 3 (ipykernel)",
   "language": "python",
   "name": "python3"
  },
  "language_info": {
   "codemirror_mode": {
    "name": "ipython",
    "version": 3
   },
   "file_extension": ".py",
   "mimetype": "text/x-python",
   "name": "python",
   "nbconvert_exporter": "python",
   "pygments_lexer": "ipython3",
   "version": "3.9.7"
  }
 },
 "nbformat": 4,
 "nbformat_minor": 5
}
