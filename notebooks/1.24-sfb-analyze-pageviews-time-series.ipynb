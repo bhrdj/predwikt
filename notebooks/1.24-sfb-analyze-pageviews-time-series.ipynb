{
 "cells": [
  {
   "cell_type": "markdown",
   "id": "e7bfe980-65cb-4d87-b360-ccd906c72f8e",
   "metadata": {},
   "source": [
    "# Prelim ARIMA Retro. Analysis"
   ]
  },
  {
   "cell_type": "markdown",
   "id": "a5914dea-8892-4278-997d-c8557970d5f8",
   "metadata": {},
   "source": [
    "## notes"
   ]
  },
  {
   "cell_type": "markdown",
   "id": "3c326009-e212-4033-983e-c94066397d71",
   "metadata": {},
   "source": [
    "###### **pageviews only:**"
   ]
  },
  {
   "cell_type": "markdown",
   "id": "51fb2e4b-ff55-4a9b-b1da-ae32e8bed5d0",
   "metadata": {},
   "source": [
    "- pick pageid(s)\n",
    "- get daily views series for 2 years\n",
    "- regress pageviews ~ weekends, holidays, linear trend:\n",
    "    - get residuals RS_VIEWS\n",
    "- lag RS_VIEWS to get RS_VIEWS_L!, L2, etc.\n",
    "- regress RS_VIEWS on:\n",
    "    - a naive moving average of RS_VIEWS lags\n",
    "    - and some AR lags of RS_VIEWS\n",
    "- do ARIMA analysis of pageviews to compare"
   ]
  },
  {
   "cell_type": "markdown",
   "id": "cb28b3d9-9b03-4e6e-b296-11aecd0f16d3",
   "metadata": {},
   "source": [
    "#### later"
   ]
  },
  {
   "cell_type": "markdown",
   "id": "fa9b9556-4821-4859-a56c-d9e09b714cdb",
   "metadata": {},
   "source": [
    "###### **edits only:**"
   ]
  },
  {
   "cell_type": "markdown",
   "id": "155da6eb-8a5a-467e-a652-c689c454eb4b",
   "metadata": {},
   "source": [
    "same thing"
   ]
  },
  {
   "cell_type": "markdown",
   "id": "fbfbbdfa-5f6b-4ab5-84bf-fb3008fbaf14",
   "metadata": {},
   "source": [
    "###### **pageviews and edits:**"
   ]
  },
  {
   "cell_type": "markdown",
   "id": "17540a65-89a5-4025-8c63-c2d9ecb40987",
   "metadata": {},
   "source": [
    "- regress RS_EDITS on RS_VIEWS_L1\n",
    "- regress RS_EDITS on RS_EDITS_LX and RS_VIEWS_LX"
   ]
  },
  {
   "cell_type": "markdown",
   "id": "3beeb7b7",
   "metadata": {
    "tags": []
   },
   "source": [
    "## setup"
   ]
  },
  {
   "cell_type": "markdown",
   "id": "db98c14c-7cbc-4c25-a120-e0498a2908a2",
   "metadata": {
    "jp-MarkdownHeadingCollapsed": true,
    "tags": []
   },
   "source": [
    "#### initial"
   ]
  },
  {
   "cell_type": "markdown",
   "id": "20ca7e14-9dd5-40f4-820a-03e1801d69ec",
   "metadata": {
    "jp-MarkdownHeadingCollapsed": true,
    "tags": []
   },
   "source": [
    "##### imports"
   ]
  },
  {
   "cell_type": "code",
   "execution_count": 4,
   "id": "16d27387-da6b-454f-97e5-efa605ab84df",
   "metadata": {},
   "outputs": [],
   "source": [
    "import pandas as pd, matplotlib.pyplot as plt, numpy as np\n",
    "import os"
   ]
  },
  {
   "cell_type": "markdown",
   "id": "eb5d6a93-7ccb-4659-a6f1-083797ce600e",
   "metadata": {
    "jp-MarkdownHeadingCollapsed": true,
    "tags": []
   },
   "source": [
    "##### mariadb"
   ]
  },
  {
   "cell_type": "markdown",
   "id": "c8adb377-746e-4b09-ace8-be2c4b8fd7c6",
   "metadata": {
    "jp-MarkdownHeadingCollapsed": true,
    "tags": []
   },
   "source": [
    "###### pass"
   ]
  },
  {
   "cell_type": "raw",
   "id": "7f5ae98b-1e1c-4c14-9253-d20858349044",
   "metadata": {},
   "source": [
    "mysql_user = 'bhrdwj'\n",
    "# mysql_pass = input(f'Enter the MySQL password for user {mysql_user}: ')"
   ]
  },
  {
   "cell_type": "markdown",
   "id": "05df30c3-c804-4c3e-870b-83e71d1d8d90",
   "metadata": {
    "jp-MarkdownHeadingCollapsed": true,
    "tags": []
   },
   "source": [
    "###### connect"
   ]
  },
  {
   "cell_type": "raw",
   "id": "0cc172ef-9472-4eea-85f9-c96515222298",
   "metadata": {},
   "source": [
    "def connect_mariadb():\n",
    "    host='localhost'; user=mysql_user; passwd=mysql_pass; dbname='jawiki';\n",
    "    cxn = mysql.connect(host=host,user=user,passwd=passwd, database=dbname)\n",
    "    cur = cxn.cursor()\n",
    "\n",
    "    connection_str = 'mysql+mysqlconnector://'+user+':'+passwd+'@'+host+'/'+dbname  # removed this after host +':'+dbport\n",
    "    try:\n",
    "        engine = sqlalchemy.create_engine(connection_str)\n",
    "        conn = engine.connect()\n",
    "    except Exception as e:\n",
    "        print('Database connection error - check creds')\n",
    "        print(e)\n",
    "    return cxn, cur, engine, conn\n",
    "        \n",
    "cxn, cur, engine, conn = connect_mariadb()"
   ]
  },
  {
   "cell_type": "markdown",
   "id": "d023fa5e-048d-440d-93d0-17f82491a5d6",
   "metadata": {
    "jp-MarkdownHeadingCollapsed": true,
    "tags": []
   },
   "source": [
    "#### get and clean data"
   ]
  },
  {
   "cell_type": "markdown",
   "id": "c8555639-9d7f-40ea-b039-df8c8b46ec3b",
   "metadata": {
    "jp-MarkdownHeadingCollapsed": true,
    "tags": []
   },
   "source": [
    "##### get edits, views"
   ]
  },
  {
   "cell_type": "markdown",
   "id": "ae8ba218-68ba-4632-80f1-5a8e839926a0",
   "metadata": {
    "jp-MarkdownHeadingCollapsed": true,
    "tags": []
   },
   "source": [
    "###### paths"
   ]
  },
  {
   "cell_type": "code",
   "execution_count": 5,
   "id": "c1b860a9-19a0-4518-9bd5-4d6b40b3c595",
   "metadata": {},
   "outputs": [],
   "source": [
    "jawiki_path = '../data/processed/jawiki/'"
   ]
  },
  {
   "cell_type": "markdown",
   "id": "a78167ce-c2ad-4d9b-85eb-6c0712bea1aa",
   "metadata": {
    "jp-MarkdownHeadingCollapsed": true,
    "tags": []
   },
   "source": [
    "###### get and clean edits"
   ]
  },
  {
   "cell_type": "code",
   "execution_count": 6,
   "id": "5aeba166-58cf-4aaf-a91c-2e936b9ab69b",
   "metadata": {},
   "outputs": [],
   "source": [
    "# get edits\n",
    "edits = pd.read_csv(f'{jawiki_path}disaster_allpageids_daily_edits.tsv', \n",
    "                 sep='\\t', usecols=['day', 'page_id', 'edits'])\n",
    "# create multiindex\n",
    "edits.set_index(['day', 'page_id'], inplace=True)\n",
    "# pivot multiindex wide and replace NaN with 0\n",
    "edits = edits.unstack().fillna(0)\n",
    "# drop a vestigial multiindex (non-informative)\n",
    "edits.columns = edits.columns.droplevel(0)\n",
    "# sort columns\n",
    "edits.sort_index(axis=1, inplace=True)\n",
    "# convert date-string index to DatetimeIndex\n",
    "edits.index = pd.DatetimeIndex(edits.index)"
   ]
  },
  {
   "cell_type": "markdown",
   "id": "a5d599ba-d4d3-4a79-b8c3-b8418deccc0b",
   "metadata": {
    "jp-MarkdownHeadingCollapsed": true,
    "tags": []
   },
   "source": [
    "###### get and clean views"
   ]
  },
  {
   "cell_type": "code",
   "execution_count": 7,
   "id": "1b5c8434-26a9-44e1-bde2-91ca581a6bd7",
   "metadata": {
    "tags": []
   },
   "outputs": [],
   "source": [
    "dfs = []\n",
    "# Do all files in folder. Each file is a year.\n",
    "for i in os.listdir(f'{jawiki_path}views/'): \n",
    "    # read csv\n",
    "    df = pd.read_csv(f'{jawiki_path}views/{i}', sep=',')\n",
    "    # parse date, drop unparsed date, set date as index\n",
    "    df['date'] = pd.to_datetime(df['Unnamed: 0'], format='%Y%m%d')\n",
    "    df.drop(columns='Unnamed: 0', inplace=True)\n",
    "    df.set_index('date', inplace=True, drop=True)\n",
    "    # create multiindex for columns\n",
    "    df_columns = df.columns.str.split('_', expand=True)\n",
    "    # df_columns[]\n",
    "    df.columns = df_columns\n",
    "    # sort multiindex (maybe unnecessary, but clarifies process)\n",
    "    df.sort_index(axis=1, inplace=True)\n",
    "    # aggregate (sum) pageviews from different platforms (mobile/desktop)\n",
    "    df = df.groupby(axis=1, level=0).sum()\n",
    "    # convert column-index to integers\n",
    "    df.columns = df.columns.astype(int)\n",
    "    # append to list\n",
    "    dfs.append(df)\n",
    "\n",
    "views = pd.concat(dfs, axis=0).fillna(0)\n",
    "del dfs, df, df_columns\n",
    "\n",
    "# edits[edits.page_id.apply(lambda x: x in busy_pageids)]"
   ]
  },
  {
   "cell_type": "markdown",
   "id": "fd59c734-24a3-4861-888f-0436d1aa092e",
   "metadata": {
    "jp-MarkdownHeadingCollapsed": true,
    "tags": []
   },
   "source": [
    "##### clean and interact edits, views"
   ]
  },
  {
   "cell_type": "markdown",
   "id": "d87c790f-98a6-45c8-b345-fe20a46eeec9",
   "metadata": {
    "jp-MarkdownHeadingCollapsed": true,
    "tags": []
   },
   "source": [
    "###### drop the years in edits where I don't have pageviews data yet"
   ]
  },
  {
   "cell_type": "code",
   "execution_count": 8,
   "id": "6fe7494e-3f7f-4e27-b80a-b80b458b920c",
   "metadata": {},
   "outputs": [],
   "source": [
    "edits = edits[edits.index >= min(views.index)]\n",
    "edits = edits[edits.index <= max(views.index)]"
   ]
  },
  {
   "cell_type": "markdown",
   "id": "97bd7854-fdb0-4bcb-a197-7ce44e965679",
   "metadata": {
    "jp-MarkdownHeadingCollapsed": true,
    "tags": []
   },
   "source": [
    "###### drop the outersection of pageids between views & edits"
   ]
  },
  {
   "cell_type": "code",
   "execution_count": 9,
   "id": "829745e8-47da-4fdd-b9a6-c5742f179577",
   "metadata": {},
   "outputs": [],
   "source": [
    "intersection_pageids = set(edits.columns).intersection(set(views.columns))"
   ]
  },
  {
   "cell_type": "code",
   "execution_count": 10,
   "id": "23feed8a-763a-4749-bc0a-d22983fc190e",
   "metadata": {},
   "outputs": [
    {
     "data": {
      "text/plain": [
       "((1096, 18185), (1096, 14555))"
      ]
     },
     "execution_count": 10,
     "metadata": {},
     "output_type": "execute_result"
    }
   ],
   "source": [
    "edits.shape, views.shape"
   ]
  },
  {
   "cell_type": "code",
   "execution_count": 11,
   "id": "b4b89e61-2b96-401f-94f9-66c45796bf52",
   "metadata": {},
   "outputs": [],
   "source": [
    "edits = edits[intersection_pageids]\n",
    "views = views[intersection_pageids]"
   ]
  },
  {
   "cell_type": "markdown",
   "id": "bf3c0980-72e7-4b03-846b-e0f74c4309ea",
   "metadata": {
    "jp-MarkdownHeadingCollapsed": true,
    "tags": []
   },
   "source": [
    "###### check for dates where there were no edits recorded (there are none)"
   ]
  },
  {
   "cell_type": "code",
   "execution_count": 12,
   "id": "1d1c9535-bff9-4408-9d56-6c9eb86851c0",
   "metadata": {},
   "outputs": [],
   "source": [
    "date_range = pd.date_range(min(views.index), max(views.index))"
   ]
  },
  {
   "cell_type": "code",
   "execution_count": 13,
   "id": "f68701ad-8da6-48a2-901f-08fa80ec9004",
   "metadata": {},
   "outputs": [
    {
     "data": {
      "text/plain": [
       "set()"
      ]
     },
     "execution_count": 13,
     "metadata": {},
     "output_type": "execute_result"
    }
   ],
   "source": [
    "set(views.index).difference(edits.index)\n",
    "\n",
    "# edits = edits.reindex(date_range)\n",
    "# views = views.reindex(date_range)\n",
    "\n",
    "# views.isna().sum(axis=1).sort_values()\n",
    "# edits.isna().sum(axis=1).sort_values()"
   ]
  },
  {
   "cell_type": "markdown",
   "id": "a303c450-3216-4ee2-8ecb-e1469a8ed10f",
   "metadata": {},
   "source": [
    "#### filter to shortlist of pageids:  (edits_busy, views_busy)"
   ]
  },
  {
   "cell_type": "code",
   "execution_count": 50,
   "id": "619ee146-479d-45fb-8341-56d13b7c6f5c",
   "metadata": {},
   "outputs": [],
   "source": [
    "edit_freq = (edits > 0).sum(axis=0).sort_values(ascending=False)\n",
    "busy_pageids = edit_freq[edit_freq>100].index.to_list() # 203 busy_pageids\n",
    "e = edits[busy_pageids]\n",
    "v = views[busy_pageids]\n",
    "del edit_freq"
   ]
  },
  {
   "cell_type": "markdown",
   "id": "ef08b2ac-aa79-4e8d-8f93-fed98c56ef78",
   "metadata": {
    "jp-MarkdownHeadingCollapsed": true,
    "tags": []
   },
   "source": [
    "## EDA"
   ]
  },
  {
   "cell_type": "code",
   "execution_count": 14,
   "id": "0f4a82f6-796b-443d-b320-10edd4f1ed8b",
   "metadata": {},
   "outputs": [
    {
     "data": {
      "text/plain": [
       "((1096, 14432), (1096, 14432))"
      ]
     },
     "execution_count": 14,
     "metadata": {},
     "output_type": "execute_result"
    }
   ],
   "source": [
    "edits.shape, views.shape"
   ]
  },
  {
   "cell_type": "markdown",
   "id": "d726ce4c-268a-4f75-bfe2-ecc9634ecb74",
   "metadata": {
    "tags": []
   },
   "source": [
    "##### viz distributions"
   ]
  },
  {
   "cell_type": "markdown",
   "id": "2fe188c6-081d-49da-9e88-c681d4d2b339",
   "metadata": {
    "jp-MarkdownHeadingCollapsed": true,
    "tags": []
   },
   "source": [
    "###### days where there was at least one edit (compared with days with at least one view) across articles"
   ]
  },
  {
   "cell_type": "code",
   "execution_count": 28,
   "id": "de75558a-a7ea-44c3-8685-ecaf8ce97251",
   "metadata": {
    "tags": []
   },
   "outputs": [
    {
     "data": {
      "image/png": "[encoded data removed]",
      "text/plain": [
       "<Figure size 720x432 with 1 Axes>"
      ]
     },
     "metadata": {
      "needs_background": "light"
     },
     "output_type": "display_data"
    }
   ],
   "source": [
    "fig, ax = plt.subplots(nrows=1, ncols=1)\n",
    "(edits > 0).sum(axis=0).sort_values().reset_index(drop=True).rename('edit days').plot(figsize=(10,6), ax=ax)\n",
    "(views > 0).sum(axis=0).sort_values().reset_index(drop=True).rename('view days').plot(figsize=(10,6), ax=ax)\n",
    "# views.\n",
    "# ax.set_yscale('log')\n",
    "ax.set_ylabel('total days with edits or views')\n",
    "ax.set_xlabel('articles')\n",
    "ax.set_title('Distributions of days-with-edits and days-with-pageviews')\n",
    "ax.legend()\n",
    "plt.show()"
   ]
  },
  {
   "cell_type": "markdown",
   "id": "fc3c299a-b699-4843-85e6-974ce0ad6941",
   "metadata": {
    "jp-MarkdownHeadingCollapsed": true,
    "tags": []
   },
   "source": [
    "###### total edits compared to total views across articles"
   ]
  },
  {
   "cell_type": "code",
   "execution_count": 33,
   "id": "22386f58-ff01-47a9-b129-9fe052da9b17",
   "metadata": {},
   "outputs": [
    {
     "data": {
      "image/png": "[encoded data removed]",
      "text/plain": [
       "<Figure size 720x432 with 2 Axes>"
      ]
     },
     "metadata": {
      "needs_background": "light"
     },
     "output_type": "display_data"
    }
   ],
   "source": [
    "fig, axes = plt.subplots(nrows=2, ncols=1)\n",
    "edits.sum(axis=0).sort_values().reset_index(drop=True).rename('total edits').plot(figsize=(10,6), ax=axes[0])\n",
    "views.sum(axis=0).sort_values().reset_index(drop=True).rename('total views').plot(figsize=(10,6), ax=axes[1])\n",
    "for ax in axes:    \n",
    "    ax.legend()\n",
    "    ax.set_yscale('log')\n",
    "\n",
    "plt.show()"
   ]
  },
  {
   "cell_type": "markdown",
   "id": "a080bcde",
   "metadata": {
    "tags": []
   },
   "source": [
    "## model"
   ]
  },
  {
   "cell_type": "code",
   "execution_count": 54,
   "id": "928953fa-e6f7-496c-8833-ca52ce9983bb",
   "metadata": {},
   "outputs": [
    {
     "data": {
      "text/plain": [
       "Int64Index([2062156, 3386415, 3293162, 3301755, 2852452, 1529557,  719740,\n",
       "            1862799, 1986518, 2345302,\n",
       "            ...\n",
       "            3565966, 3504755, 1581400, 3089084,   42861,  443586,   16042,\n",
       "            1875030, 2368599, 2937710],\n",
       "           dtype='int64', name='page_id', length=203)"
      ]
     },
     "execution_count": 54,
     "metadata": {},
     "output_type": "execute_result"
    }
   ],
   "source": [
    "e.columns"
   ]
  },
  {
   "cell_type": "code",
   "execution_count": 55,
   "id": "9fbb3c58-c41b-4df6-abec-ac5ce378fa88",
   "metadata": {},
   "outputs": [
    {
     "data": {
      "text/plain": [
       "Int64Index([2062156, 3386415, 3293162, 3301755, 2852452, 1529557,  719740,\n",
       "            1862799, 1986518, 2345302,\n",
       "            ...\n",
       "            3565966, 3504755, 1581400, 3089084,   42861,  443586,   16042,\n",
       "            1875030, 2368599, 2937710],\n",
       "           dtype='int64', length=203)"
      ]
     },
     "execution_count": 55,
     "metadata": {},
     "output_type": "execute_result"
    }
   ],
   "source": [
    "v.columns"
   ]
  },
  {
   "cell_type": "code",
   "execution_count": null,
   "id": "4c9a4b3b-214b-4b86-a9bc-d08ff0b34a13",
   "metadata": {},
   "outputs": [],
   "source": []
  },
  {
   "cell_type": "code",
   "execution_count": null,
   "id": "10aa70aa-032a-4fda-b8e6-05a1e9153e23",
   "metadata": {},
   "outputs": [],
   "source": []
  }
 ],
 "metadata": {
  "kernelspec": {
   "display_name": "Python 3 (ipykernel)",
   "language": "python",
   "name": "python3"
  },
  "language_info": {
   "codemirror_mode": {
    "name": "ipython",
    "version": 3
   },
   "file_extension": ".py",
   "mimetype": "text/x-python",
   "name": "python",
   "nbconvert_exporter": "python",
   "pygments_lexer": "ipython3",
   "version": "3.9.7"
  }
 },
 "nbformat": 4,
 "nbformat_minor": 5
}
