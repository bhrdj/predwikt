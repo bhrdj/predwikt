{
 "cells": [
  {
   "cell_type": "code",
   "execution_count": 15,
   "id": "3f9e7918-f5cb-41c0-8e5e-f95f6a4ebe35",
   "metadata": {},
   "outputs": [],
   "source": [
    "from pathlib import Path\n",
    "home_path = str(Path.home())\n",
    "os.chdir(home_path + '/git/predwikt/notebooks')"
   ]
  },
  {
   "cell_type": "code",
   "execution_count": 9,
   "id": "5adfa1b0-563b-4a86-a91f-afe744c8bb97",
   "metadata": {},
   "outputs": [],
   "source": [
    "import os\n",
    "import pandas as pd"
   ]
  },
  {
   "cell_type": "code",
   "execution_count": 22,
   "id": "4f3bb5de-5e51-4740-bacf-c3da7d15ffa1",
   "metadata": {},
   "outputs": [],
   "source": [
    "# os.listdir('../data/raw/')\n",
    "df = pd.read_csv('../data/raw/2021-10-20T00:30:01Z_2021-10-20T01:39:40Z.csv')"
   ]
  },
  {
   "cell_type": "markdown",
   "id": "c3bb7364-a904-43ed-8a98-33441ff49eda",
   "metadata": {},
   "source": [
    "### Confirm that the json fields are the same as the dataframe columns"
   ]
  },
  {
   "cell_type": "code",
   "execution_count": 32,
   "id": "2f5cdaa2-12b4-4af1-adb4-76b9c4c37ca8",
   "metadata": {},
   "outputs": [
    {
     "data": {
      "text/plain": [
       "0          0\n",
       "1          1\n",
       "2          2\n",
       "3          3\n",
       "4          4\n",
       "        ... \n",
       "4634    4634\n",
       "4635    4635\n",
       "4636    4636\n",
       "4637    4637\n",
       "4638    4638\n",
       "Name: Unnamed: 0, Length: 4639, dtype: int64"
      ]
     },
     "execution_count": 32,
     "metadata": {},
     "output_type": "execute_result"
    }
   ],
   "source": [
    "df['Unnamed: 0']"
   ]
  },
  {
   "cell_type": "code",
   "execution_count": 25,
   "id": "6ad48e0f-e2c5-4b69-9fe3-3162b8539c73",
   "metadata": {},
   "outputs": [],
   "source": [
    "x = ['old_revid', 'timestamp', 'ns', 'oldlen', 'rcid', 'anon', 'revid', 'newlen', 'pageid', 'user', 'title', 'userid', 'type']"
   ]
  },
  {
   "cell_type": "code",
   "execution_count": 27,
   "id": "49208e7c-7ecf-459f-a3b5-45bf52977854",
   "metadata": {},
   "outputs": [],
   "source": [
    "y = list(df.columns)"
   ]
  },
  {
   "cell_type": "code",
   "execution_count": 31,
   "id": "f758c248-14bb-47f4-8d07-69da464a1594",
   "metadata": {},
   "outputs": [
    {
     "data": {
      "text/plain": [
       "['Unnamed: 0']"
      ]
     },
     "execution_count": 31,
     "metadata": {},
     "output_type": "execute_result"
    }
   ],
   "source": [
    "[i for i in set(y) if i not in set(x)]"
   ]
  },
  {
   "cell_type": "markdown",
   "id": "28d82021-cc09-4fc5-b24a-b820c6cbdd65",
   "metadata": {},
   "source": [
    "✅  Only the extra copy of the index 'Unnamed: 0' is an extra column."
   ]
  },
  {
   "cell_type": "markdown",
   "id": "b6372d44-5808-4722-8cf1-3ebf51c56e84",
   "metadata": {
    "tags": []
   },
   "source": [
    "### Make the CREATE TABLE postgresql string to recreate the recent_changes table schema"
   ]
  },
  {
   "cell_type": "markdown",
   "id": "fb220d5b-180a-4f79-bcb3-59c678e97b8f",
   "metadata": {},
   "source": [
    "https://www.mediawiki.org/wiki/Manual:Recentchanges_table"
   ]
  },
  {
   "cell_type": "markdown",
   "id": "fa173950-8c61-4763-9dbc-b3a8f547eb07",
   "metadata": {},
   "source": [
    "```\n",
    "+---------------+---------------------+------+-----+---------+----------------+\n",
    "| Field         | Type                | Null | Key | Default | Extra          |\n",
    "+---------------+---------------------+------+-----+---------+----------------+\n",
    "| rc_id         | int(10) unsigned    | NO   | PRI | NULL    | auto_increment |\n",
    "| rc_timestamp  | binary(14)          | NO   | MUL | NULL    |                |\n",
    "| rc_actor      | bigint(20) unsigned | NO   | MUL | NULL    |                |\n",
    "| rc_namespace  | int(11)             | NO   | MUL | 0       |                |\n",
    "| rc_title      | varbinary(255)      | NO   |     |         |                |\n",
    "| rc_comment_id | bigint(20) unsigned | NO   |     | NULL    |                |\n",
    "| rc_minor      | tinyint(3) unsigned | NO   |     | 0       |                |\n",
    "| rc_bot        | tinyint(3) unsigned | NO   |     | 0       |                |\n",
    "| rc_new        | tinyint(3) unsigned | NO   | MUL | 0       |                |\n",
    "| rc_cur_id     | int(10) unsigned    | NO   | MUL | 0       |                |\n",
    "| rc_this_oldid | int(10) unsigned    | NO   | MUL | 0       |                |\n",
    "| rc_last_oldid | int(10) unsigned    | NO   |     | 0       |                |\n",
    "| rc_type       | tinyint(3) unsigned | NO   |     | 0       |                |\n",
    "| rc_source     | varbinary(16)       | NO   |     |         |                |\n",
    "| rc_patrolled  | tinyint(3) unsigned | NO   |     | 0       |                |\n",
    "| rc_ip         | varbinary(40)       | NO   | MUL |         |                |\n",
    "| rc_old_len    | int(11)             | YES  |     | NULL    |                |\n",
    "| rc_new_len    | int(11)             | YES  |     | NULL    |                |\n",
    "| rc_deleted    | tinyint(3) unsigned | NO   |     | 0       |                |\n",
    "| rc_logid      | int(10) unsigned    | NO   |     | 0       |                |\n",
    "| rc_log_type   | varbinary(255)      | YES  |     | NULL    |                |\n",
    "| rc_log_action | varbinary(255)      | YES  |     | NULL    |                |\n",
    "| rc_params     | blob                | YES  |     | NULL    |                |\n",
    "+---------------+---------------------+------+-----+---------+----------------+\n",
    "```"
   ]
  },
  {
   "cell_type": "code",
   "execution_count": null,
   "id": "8a21fece-f13d-493e-9de7-5e3d58964483",
   "metadata": {},
   "outputs": [],
   "source": [
    "# Define Schema\n",
    "sql_create_table = \"\"\"\n",
    "DROP TABLE IF EXISTS rc_00001;\n",
    "\n",
    "CREATE TABLE data_raw(\n",
    "    rcid SERIAL,\n",
    "    time_string char varying(25),\n",
    "    unix_time bigint,\n",
    "    instance char varying(35),\n",
    "    product char varying(5),\n",
    "    username char varying(35),\n",
    "    event char varying(100),\n",
    "    attributes text\n",
    ");\n",
    "\"\"\""
   ]
  },
  {
   "cell_type": "code",
   "execution_count": null,
   "id": "a4bd410d-a829-4a23-9df7-b54822fa5e65",
   "metadata": {},
   "outputs": [],
   "source": []
  },
  {
   "cell_type": "markdown",
   "id": "74d7cc3b-9ba5-4ddc-86af-f3f8b852597f",
   "metadata": {
    "jp-MarkdownHeadingCollapsed": true,
    "tags": []
   },
   "source": [
    "### Template code from Geoff Pidcock (General Assembly / AU)"
   ]
  },
  {
   "cell_type": "code",
   "execution_count": null,
   "id": "b7db4be9-8c74-461d-b795-eb740ec75754",
   "metadata": {},
   "outputs": [],
   "source": [
    "# Define Schema\n",
    "sql_create_table = \"\"\"\n",
    "DROP TABLE IF EXISTS data_raw;\n",
    "\n",
    "CREATE TABLE data_raw(\n",
    "    row_index SERIAL,\n",
    "    time_string char varying(25),\n",
    "    unix_time bigint,\n",
    "    instance char varying(35),\n",
    "    product char varying(5),\n",
    "    username char varying(35),\n",
    "    event char varying(100),\n",
    "    attributes text\n",
    ");\n",
    "\"\"\""
   ]
  }
 ],
 "metadata": {
  "kernelspec": {
   "display_name": "Python 3 (ipykernel)",
   "language": "python",
   "name": "python3"
  },
  "language_info": {
   "codemirror_mode": {
    "name": "ipython",
    "version": 3
   },
   "file_extension": ".py",
   "mimetype": "text/x-python",
   "name": "python",
   "nbconvert_exporter": "python",
   "pygments_lexer": "ipython3",
   "version": "3.9.7"
  }
 },
 "nbformat": 4,
 "nbformat_minor": 5
}
