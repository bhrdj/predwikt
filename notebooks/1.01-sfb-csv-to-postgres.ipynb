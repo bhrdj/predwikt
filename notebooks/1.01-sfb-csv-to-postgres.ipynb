{
 "cells": [
  {
   "cell_type": "code",
   "execution_count": 2,
   "id": "5adfa1b0-563b-4a86-a91f-afe744c8bb97",
   "metadata": {},
   "outputs": [],
   "source": [
    "import os\n",
    "import pandas as pd"
   ]
  },
  {
   "cell_type": "code",
   "execution_count": 3,
   "id": "3f9e7918-f5cb-41c0-8e5e-f95f6a4ebe35",
   "metadata": {},
   "outputs": [],
   "source": [
    "from pathlib import Path\n",
    "home_path = str(Path.home())\n",
    "os.chdir(home_path + '/git/predwikt/notebooks')"
   ]
  },
  {
   "cell_type": "code",
   "execution_count": 13,
   "id": "4f3bb5de-5e51-4740-bacf-c3da7d15ffa1",
   "metadata": {},
   "outputs": [],
   "source": [
    "# os.listdir('../data/raw/')\n",
    "df = pd.read_csv('../data/interim/2021-10-20T00:30:01Z_2021-10-20T01:39:40Z.csv')\n",
    "# df['Unnamed: 0']; it was a duplicate of the index\n",
    "df = df.drop(columns=['Unnamed: 0'])"
   ]
  },
  {
   "cell_type": "code",
   "execution_count": 14,
   "id": "86df8b85-a431-43bd-9b2f-984886cbe875",
   "metadata": {},
   "outputs": [
    {
     "data": {
      "text/plain": [
       "rcid   revid\n",
       "False  False    4639\n",
       "dtype: int64"
      ]
     },
     "execution_count": 14,
     "metadata": {},
     "output_type": "execute_result"
    }
   ],
   "source": [
    "df[['rcid','revid']].isnull().value_counts()"
   ]
  },
  {
   "cell_type": "code",
   "execution_count": null,
   "id": "951f9d56-1653-4dee-bff4-43a33506d525",
   "metadata": {},
   "outputs": [],
   "source": []
  },
  {
   "cell_type": "markdown",
   "id": "b6372d44-5808-4722-8cf1-3ebf51c56e84",
   "metadata": {
    "tags": []
   },
   "source": [
    "### CREATE TABLE in postgresql:\n",
    "- **Roughly** recreate the recent_changes table schema\n",
    "    - adjusting Types for convenience\n",
    "    - not all fields are available"
   ]
  },
  {
   "cell_type": "markdown",
   "id": "fb220d5b-180a-4f79-bcb3-59c678e97b8f",
   "metadata": {},
   "source": [
    "https://www.mediawiki.org/wiki/Manual:Recentchanges_table"
   ]
  },
  {
   "cell_type": "markdown",
   "id": "fa173950-8c61-4763-9dbc-b3a8f547eb07",
   "metadata": {},
   "source": [
    "```\n",
    "+---------------+---------------------+------+-----+---------+----------------+\n",
    "| Field         | Type                | Null | Key | Default | Extra          |\n",
    "+---------------+---------------------+------+-----+---------+----------------+\n",
    "| rc_id         | int(10) unsigned    | NO   | PRI | NULL    | auto_increment |\n",
    "| rc_timestamp  | binary(14)          | NO   | MUL | NULL    |                |\n",
    "| rc_actor      | bigint(20) unsigned | NO   | MUL | NULL    |                |\n",
    "| rc_namespace  | int(11)             | NO   | MUL | 0       |                |\n",
    "| rc_title      | varbinary(255)      | NO   |     |         |                |\n",
    "| rc_comment_id | bigint(20) unsigned | NO   |     | NULL    |                |\n",
    "| rc_minor      | tinyint(3) unsigned | NO   |     | 0       |                |\n",
    "| rc_bot        | tinyint(3) unsigned | NO   |     | 0       |                |\n",
    "| rc_new        | tinyint(3) unsigned | NO   | MUL | 0       |                |\n",
    "| rc_cur_id     | int(10) unsigned    | NO   | MUL | 0       |                |\n",
    "| rc_this_oldid | int(10) unsigned    | NO   | MUL | 0       |                |\n",
    "| rc_last_oldid | int(10) unsigned    | NO   |     | 0       |                |\n",
    "| rc_type       | tinyint(3) unsigned | NO   |     | 0       |                |\n",
    "| rc_source     | varbinary(16)       | NO   |     |         |                |\n",
    "| rc_patrolled  | tinyint(3) unsigned | NO   |     | 0       |                |\n",
    "| rc_ip         | varbinary(40)       | NO   | MUL |         |                |\n",
    "| rc_old_len    | int(11)             | YES  |     | NULL    |                |\n",
    "| rc_new_len    | int(11)             | YES  |     | NULL    |                |\n",
    "| rc_deleted    | tinyint(3) unsigned | NO   |     | 0       |                |\n",
    "| rc_logid      | int(10) unsigned    | NO   |     | 0       |                |\n",
    "| rc_log_type   | varbinary(255)      | YES  |     | NULL    |                |\n",
    "| rc_log_action | varbinary(255)      | YES  |     | NULL    |                |\n",
    "| rc_params     | blob                | YES  |     | NULL    |                |\n",
    "+---------------+---------------------+------+-----+---------+----------------+\n",
    "```"
   ]
  },
  {
   "cell_type": "code",
   "execution_count": null,
   "id": "4be389cd-815f-4dbf-9cbe-6069f47dc1a9",
   "metadata": {},
   "outputs": [],
   "source": []
  },
  {
   "cell_type": "code",
   "execution_count": null,
   "id": "8a21fece-f13d-493e-9de7-5e3d58964483",
   "metadata": {},
   "outputs": [],
   "source": [
    "# Define Schema\n",
    "sql_create_table = \"\"\"\n",
    "DROP TABLE IF EXISTS wiki02;\n",
    "\n",
    "CREATE TABLE wiki02(\n",
    "    rc_id BIGINT CONSTRAINT rc_id_constr PRIMARY KEY,\n",
    "    rev_id BIGINT\n",
    ");\n",
    "\"\"\""
   ]
  },
  {
   "cell_type": "code",
   "execution_count": null,
   "id": "a4bd410d-a829-4a23-9df7-b54822fa5e65",
   "metadata": {},
   "outputs": [],
   "source": []
  },
  {
   "cell_type": "code",
   "execution_count": null,
   "id": "d8c066dd-d659-4b47-85b6-d2664a2037e1",
   "metadata": {},
   "outputs": [],
   "source": []
  },
  {
   "cell_type": "code",
   "execution_count": null,
   "id": "ffabde07-d912-4710-a67f-4e270db7a3cc",
   "metadata": {},
   "outputs": [],
   "source": []
  },
  {
   "cell_type": "markdown",
   "id": "74d7cc3b-9ba5-4ddc-86af-f3f8b852597f",
   "metadata": {
    "tags": []
   },
   "source": [
    "### Template code from Geoff Pidcock (General Assembly / AU)"
   ]
  },
  {
   "cell_type": "code",
   "execution_count": null,
   "id": "0559f768-62da-42bd-a2f0-239fd80c2ea1",
   "metadata": {},
   "outputs": [],
   "source": [
    "# Define Schema\n",
    "sql_create_table = \"\"\"\n",
    "DROP TABLE IF EXISTS data_raw;\n",
    "\n",
    "CREATE TABLE data_raw(\n",
    "    row_index SERIAL,\n",
    "    time_string char varying(25),\n",
    "    unix_time bigint,\n",
    "    instance char varying(35),\n",
    "    product char varying(5),\n",
    "    username char varying(35),\n",
    "    event char varying(100),\n",
    "    attributes text\n",
    ");\n",
    "\"\"\""
   ]
  },
  {
   "cell_type": "code",
   "execution_count": null,
   "id": "c19cec92-3f69-40f3-a69f-8e4db5e4f637",
   "metadata": {},
   "outputs": [],
   "source": [
    "# connect to database\n",
    "try:\n",
    "    conn = psycopg2.connect(\"host=\"+dbhost+\" dbname=\"+dbname+\" user=\"+dbuname+\" password=\"+dbpassword)\n",
    "    cur = conn.cursor()\n",
    "except:\n",
    "    print('Database connection error - check creds')"
   ]
  },
  {
   "cell_type": "code",
   "execution_count": null,
   "id": "0b908e75-e366-45a4-a818-3d2f83c7b98f",
   "metadata": {},
   "outputs": [],
   "source": [
    "%%time\n",
    "# Create table and import data\n",
    "cur.execute(sql_create_table)\n",
    "sql_import = \"COPY data_raw(time_string,unix_time,instance,product,username,event,attributes) FROM STDIN DELIMITER E'\\t';\"\n",
    "cur.copy_expert(sql_import, open('jira_clean.tsv', \"r\",encoding=\"utf8\"))\n",
    "conn.commit()"
   ]
  },
  {
   "cell_type": "code",
   "execution_count": null,
   "id": "8c2d5401-1959-4918-9b35-83b0bc7e7e07",
   "metadata": {},
   "outputs": [],
   "source": [
    "# update table to have date \n",
    "sql_calc_table = \"\"\"\n",
    "DROP TABLE IF EXISTS data_prep;\n",
    "\n",
    "CREATE TABLE data_prep as (\n",
    "    select \n",
    "        row_index\n",
    "        , to_timestamp(time_string,'YYYY-MM-DD HH24:MI,MS')::timestamp without time zone as time_parsed\n",
    "        , unix_time\n",
    "        , instance\n",
    "        , username\n",
    "        , event\n",
    "        , attributes\n",
    "    from\n",
    "        data_raw\n",
    ");\n",
    "\"\"\"\n",
    "cur.execute(sql_calc_table)\n",
    "conn.commit()"
   ]
  },
  {
   "cell_type": "code",
   "execution_count": null,
   "id": "474430d8-e831-4aca-96fe-663880db2a8d",
   "metadata": {},
   "outputs": [],
   "source": [
    "# Finally, let's instantiate a SQL alchemy engine, so we can pass results sets into pandas and evaluate them here \n",
    "connection_str = 'postgresql+psycopg2://'+dbuname+':'+dbpassword+'@'+dbhost+':'+dbport+'/'+dbname\n",
    "try:\n",
    "    engine1 = sqlalchemy.create_engine(connection_str)\n",
    "    conn1 = engine1.connect()\n",
    "except:\n",
    "    print('Database connection error - check creds')\n",
    "engine1.table_names() # Confirm connection and tables are present as expect"
   ]
  },
  {
   "cell_type": "code",
   "execution_count": null,
   "id": "72f02813-9250-4a43-81cd-a7debe8f8c64",
   "metadata": {},
   "outputs": [],
   "source": []
  }
 ],
 "metadata": {
  "kernelspec": {
   "display_name": "Python 3 (ipykernel)",
   "language": "python",
   "name": "python3"
  },
  "language_info": {
   "codemirror_mode": {
    "name": "ipython",
    "version": 3
   },
   "file_extension": ".py",
   "mimetype": "text/x-python",
   "name": "python",
   "nbconvert_exporter": "python",
   "pygments_lexer": "ipython3",
   "version": "3.9.7"
  }
 },
 "nbformat": 4,
 "nbformat_minor": 5
}
