{
 "cells": [
  {
   "cell_type": "markdown",
   "id": "f1e39d18",
   "metadata": {},
   "source": [
    "# Download bz2 by year"
   ]
  },
  {
   "cell_type": "code",
   "execution_count": 106,
   "id": "0b8aff8c",
   "metadata": {},
   "outputs": [],
   "source": [
    "import wget, os, bz2\n",
    "import pandas as pd, datetime as dt\n",
    "from functools import wraps"
   ]
  },
  {
   "cell_type": "code",
   "execution_count": 99,
   "id": "a99e11f0",
   "metadata": {},
   "outputs": [],
   "source": [
    "def get_pageview_complete_urls_by_year(year:int) -> list[str]:\n",
    "    \"\"\"\n",
    "    Programmatically generate urls for daily pageviews_complete.\n",
    "    INPUT: year as integer\n",
    "    OUTPUT: list of urls to all the day-files for that year\n",
    "    NOTE: filepaths are formatted as:\n",
    "    https://dumps.wikimedia.org/other/pageview_complete/\n",
    "        2021/2021-01/pageviews-20210101-user.bz2 \n",
    "        i.e.\n",
    "        'yyyy/yyyy-mm/pageviews-yyyymmdd-user.bz2'\n",
    "    \"\"\"\n",
    "    dates = pd.date_range(dt.datetime(year,1,1), \n",
    "                          end=dt.datetime(year+1,1,1), \n",
    "                          freq='D') # each date in the year\n",
    "    base_url = 'https://dumps.wikimedia.org/other/pageview_complete/'\n",
    "    urls = [f'{base_url}{d.year}/{d.year}-{str(d.month).zfill(2)}'\n",
    "            f'/pageviews-{d.year}{str(d.month).zfill(2)}{str(d.day).zfill(2)}-user.bz2'\n",
    "            for d in dates]\n",
    "    return urls"
   ]
  },
  {
   "cell_type": "code",
   "execution_count": 100,
   "id": "b32b1e8d",
   "metadata": {},
   "outputs": [],
   "source": [
    "def outpath_from_url(url:str) -> str:\n",
    "    baseurl = '../data/temp/jawiki_pageviews/'\n",
    "    yym = '/'.join(url.split('/')[-3:-1])+'/'\n",
    "    filename = url.split('/')[-1].split('.')[0]\n",
    "    return baseurl+yym+filename"
   ]
  },
  {
   "cell_type": "code",
   "execution_count": 101,
   "id": "a79e4890",
   "metadata": {},
   "outputs": [],
   "source": [
    "def extract_jawiki_from_pageviews_complete(bz2path, outpath):\n",
    "    with open(outpath, 'w+') as f:\n",
    "        f.write('')\n",
    "    ct = 0\n",
    "    with bz2.open(bz2path) as f_bz:\n",
    "        with open(outpath, 'a+') as f_out:\n",
    "            while ct<37000000:\n",
    "                x = f_bz.readline().decode('utf-8')\n",
    "                ct += 1\n",
    "                if ord(x[0]) < 105: # 105 is 'i'\n",
    "                    for i in range(10**5):\n",
    "                        f_bz.readline()\n",
    "                    ct+=10**5\n",
    "                    continue\n",
    "                if x[0] == 'i' and ord(x[1]) < 117: # 117 is 'u'\n",
    "                    for i in range(50):\n",
    "                        f_bz.readline()\n",
    "                    ct+=50\n",
    "                    continue\n",
    "                if x[:12] == 'ja.wikipedia':\n",
    "                    f_out.write(x)\n",
    "                    continue\n",
    "                if x[0] == 'j' and ord(x[1]) > 97: # 97 is 'a'\n",
    "                    break\n",
    "                if ord(x[0]) > 106: # 106 is 'j'\n",
    "                    break"
   ]
  },
  {
   "cell_type": "code",
   "execution_count": 110,
   "id": "85d84923",
   "metadata": {},
   "outputs": [],
   "source": [
    "year = 2016\n",
    "raw_dirpath = '../data/temp/raw_bz2/'\n",
    "urls = get_pageview_complete_urls_by_year(year)\n",
    "rawpaths = [raw_dirpath+url.split('/')[-1] for url in urls]\n",
    "outpaths = [outpath_from_url(url) for url in urls]"
   ]
  },
  {
   "cell_type": "code",
   "execution_count": null,
   "id": "81c31bb3",
   "metadata": {},
   "outputs": [],
   "source": [
    "# COMMENT OUT WHEN TESTING\n",
    "# urls = urls[:2]\n",
    "# rawpaths = rawpaths[:2]\n",
    "# outpaths = outpaths[:2]"
   ]
  },
  {
   "cell_type": "code",
   "execution_count": null,
   "id": "baab0c82",
   "metadata": {},
   "outputs": [],
   "source": []
  },
  {
   "cell_type": "code",
   "execution_count": null,
   "id": "6655cafb",
   "metadata": {},
   "outputs": [],
   "source": [
    "start = dt.datetime.now()\n",
    "os.makedirs(os.path.dirname(raw_dirpath), exist_ok=True)\n",
    "for url, rawpath, outpath in zip(urls, rawpaths, outpaths):\n",
    "    wget.download(url, rawpath)\n",
    "    os.makedirs(os.path.dirname(outpath), exist_ok=True)\n",
    "    extract_jawiki_from_pageviews_complete(rawpath, outpath)\n",
    "    os.remove(rawpath)\n",
    "end = dt.datetime.now()\n",
    "end-start"
   ]
  },
  {
   "cell_type": "markdown",
   "id": "bbaa3f0a",
   "metadata": {},
   "source": [
    "---"
   ]
  },
  {
   "cell_type": "markdown",
   "id": "79e85488",
   "metadata": {},
   "source": [
    "---"
   ]
  },
  {
   "cell_type": "markdown",
   "id": "c7475b47",
   "metadata": {},
   "source": [
    "---"
   ]
  },
  {
   "cell_type": "raw",
   "id": "dd5f28b9",
   "metadata": {},
   "source": [
    "def while_wait_check_do(func):\n",
    "    @wraps(func)\n",
    "    def with_checking_waiting(*args, **kwargs):\n",
    "        \n",
    "        while True:\n",
    "            if len(os.listdir('../data/temp/')) < 7:\n",
    "                func(*args, **kwargs)\n",
    "            else:\n",
    "                time.sleep(10)\n",
    "        \n",
    "        return func(*args, **kwargs)\n",
    "    return with_checking_waiting"
   ]
  }
 ],
 "metadata": {
  "kernelspec": {
   "display_name": "Python 3 (ipykernel)",
   "language": "python",
   "name": "python3"
  },
  "language_info": {
   "codemirror_mode": {
    "name": "ipython",
    "version": 3
   },
   "file_extension": ".py",
   "mimetype": "text/x-python",
   "name": "python",
   "nbconvert_exporter": "python",
   "pygments_lexer": "ipython3",
   "version": "3.9.7"
  }
 },
 "nbformat": 4,
 "nbformat_minor": 5
}
