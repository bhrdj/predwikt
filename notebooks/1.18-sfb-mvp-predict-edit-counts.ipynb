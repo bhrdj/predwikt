{
 "cells": [
  {
   "cell_type": "markdown",
   "id": "c273b2a5-253d-4745-bd36-994582da7c17",
   "metadata": {},
   "source": [
    "# mvp-eda-edit-count-correlations"
   ]
  },
  {
   "cell_type": "markdown",
   "id": "ee53a75e-3b11-487c-bef1-a8ae051fc6b4",
   "metadata": {
    "jp-MarkdownHeadingCollapsed": true,
    "tags": []
   },
   "source": [
    "## intro"
   ]
  },
  {
   "cell_type": "markdown",
   "id": "b4bf4397-c2c5-4eda-9c9e-c3124c4f6b88",
   "metadata": {
    "jp-MarkdownHeadingCollapsed": true,
    "tags": []
   },
   "source": [
    "#### plan"
   ]
  },
  {
   "cell_type": "markdown",
   "id": "de86e346-5caa-40a7-9cc8-d17f003bc49e",
   "metadata": {},
   "source": [
    "- Use lags of edits in some categories to predict edits in other categories\n",
    "    1. get first row of pearson's correlation matrix among:\n",
    "        - edit-counts in a target category by day\n",
    "        - 1d-lagged-edit-counts of many other categories\n",
    "    2. present treating each category as target and the others as features\n",
    "    3. do this with 2013-2015. then train multi-v linreg with 2013-2015 and predict 2016."
   ]
  },
  {
   "cell_type": "markdown",
   "id": "3255c4e0-3597-440a-8f6c-a78773e1f1ad",
   "metadata": {
    "jp-MarkdownHeadingCollapsed": true,
    "tags": []
   },
   "source": [
    "#### imports"
   ]
  },
  {
   "cell_type": "code",
   "execution_count": 55,
   "id": "55ceda2a-d5ea-4e2a-8d4f-3a8456ddc2bd",
   "metadata": {},
   "outputs": [],
   "source": [
    "import pandas as pd, numpy as np, os, re, pyperclip, pickle\n",
    "import mysql.connector as mysql, sqlalchemy\n",
    "from datetime import datetime as dt"
   ]
  },
  {
   "cell_type": "markdown",
   "id": "38427c9f-23a9-4bc9-ac9c-60050ea677b2",
   "metadata": {
    "jp-MarkdownHeadingCollapsed": true,
    "tags": []
   },
   "source": [
    "#### connect to mariadb"
   ]
  },
  {
   "cell_type": "markdown",
   "id": "8278d4d9-636b-41f1-972b-d0652fb891b4",
   "metadata": {
    "jp-MarkdownHeadingCollapsed": true,
    "tags": []
   },
   "source": [
    "##### pass"
   ]
  },
  {
   "cell_type": "code",
   "execution_count": 6,
   "id": "e33a8f7c-9a27-45ca-8842-861415eb89dd",
   "metadata": {},
   "outputs": [],
   "source": [
    "mysql_user = 'bhrdwj'\n",
    "# mysql_pass = input(f'Enter the MySQL password for user {mysql_user}: ')"
   ]
  },
  {
   "cell_type": "markdown",
   "id": "6037d51b-6450-4fc4-ae9f-e915a3f14d12",
   "metadata": {
    "jp-MarkdownHeadingCollapsed": true,
    "tags": []
   },
   "source": [
    "##### connect"
   ]
  },
  {
   "cell_type": "code",
   "execution_count": 69,
   "id": "4303ce26-ced2-46bd-9dca-c0db7f78ce04",
   "metadata": {},
   "outputs": [],
   "source": [
    "def connect_mariadb():\n",
    "    host='localhost'; user=mysql_user; passwd=mysql_pass; dbname='jawiki';\n",
    "    cxn = mysql.connect(host=host,user=user,passwd=passwd, database=dbname)\n",
    "    cur = cxn.cursor()\n",
    "\n",
    "    connection_str = 'mysql+mysqlconnector://'+user+':'+passwd+'@'+host+'/'+dbname  # removed this after host +':'+dbport\n",
    "    try:\n",
    "        engine = sqlalchemy.create_engine(connection_str)\n",
    "        conn = engine.connect()\n",
    "    except Exception as e:\n",
    "        print('Database connection error - check creds')\n",
    "        print(e)\n",
    "    return cxn, cur, engine, conn\n",
    "        \n",
    "cxn, cur, engine, conn = connect_mariadb()"
   ]
  },
  {
   "cell_type": "markdown",
   "id": "99c6d9b0-2fb6-4b3f-bd44-0639e043e81c",
   "metadata": {
    "jp-MarkdownHeadingCollapsed": true,
    "tags": []
   },
   "source": [
    "##### test"
   ]
  },
  {
   "cell_type": "code",
   "execution_count": 18,
   "id": "be3bfcce-2887-47b5-91ea-7bdb609afd34",
   "metadata": {},
   "outputs": [
    {
     "data": {
      "text/plain": [
       "['category',\n",
       " 'categorylinks',\n",
       " 'cats_to_selfjoin',\n",
       " 'h2013',\n",
       " 'h2014',\n",
       " 'h2015',\n",
       " 'h2016',\n",
       " 'h2017',\n",
       " 'h2018',\n",
       " 'h2019',\n",
       " 'h2020',\n",
       " 'h2021',\n",
       " 'history',\n",
       " 'page',\n",
       " 't2013',\n",
       " 't2014',\n",
       " 't2015',\n",
       " 't2016',\n",
       " 't2017',\n",
       " 't2018',\n",
       " 't2019',\n",
       " 't2020',\n",
       " 't2021',\n",
       " 'warn_rows']"
      ]
     },
     "execution_count": 18,
     "metadata": {},
     "output_type": "execute_result"
    }
   ],
   "source": [
    "metadata = sqlalchemy.MetaData(conn)\n",
    "metadata.reflect()\n",
    "current_tables = list(metadata.tables.keys())\n",
    "current_tables"
   ]
  },
  {
   "cell_type": "markdown",
   "id": "0c19006e-5238-4827-91cf-d46b089cea5e",
   "metadata": {
    "jp-MarkdownHeadingCollapsed": true,
    "tags": []
   },
   "source": [
    "#### some paths"
   ]
  },
  {
   "cell_type": "code",
   "execution_count": 19,
   "id": "b214d21d-0a9a-4a1a-9c19-9bee7f5f968a",
   "metadata": {},
   "outputs": [],
   "source": [
    "rawdumps_path = '../data/raw/jawiki/dumps_unzipped/'\n",
    "processed_path = '../data/processed/jawiki/'"
   ]
  },
  {
   "cell_type": "markdown",
   "id": "4d2d9502-d5cf-4b0b-83d8-a6a893f6e05e",
   "metadata": {
    "jp-MarkdownHeadingCollapsed": true,
    "tags": []
   },
   "source": [
    "#### functions to read from MySQL dumpfiles"
   ]
  },
  {
   "cell_type": "markdown",
   "id": "a7666c74-2656-4bc9-b131-4ff13874ff1a",
   "metadata": {
    "jp-MarkdownHeadingCollapsed": true,
    "tags": []
   },
   "source": [
    "##### function ```jpr_sql``` "
   ]
  },
  {
   "cell_type": "code",
   "execution_count": 20,
   "id": "21ac6d6b-54a0-445b-8380-7856ed88562e",
   "metadata": {},
   "outputs": [],
   "source": [
    "def jpr_sql(query, conn=conn):\n",
    "    \"\"\"\n",
    "    Super-basic wrapper of SQLAlchemy conn.execute()\n",
    "    Input:\n",
    "        query string\n",
    "        conn SQLAlchemy connection\n",
    "    Output:\n",
    "        list / result of conn.execute().fetchall()\n",
    "    \"\"\"\n",
    "    try: \n",
    "        a = conn.execute(query)\n",
    "    except Exception as e:\n",
    "        print('Printing execute error:')\n",
    "        print(e)\n",
    "        return None\n",
    "    \n",
    "    try:\n",
    "        return a.fetchall()\n",
    "    except Exception as e:\n",
    "        print('Printing results error:')\n",
    "        print(e)\n",
    "        print('Printing result')\n",
    "        return None"
   ]
  },
  {
   "cell_type": "markdown",
   "id": "e34c1f59-d355-482e-87a4-406461fb7e95",
   "metadata": {
    "jp-MarkdownHeadingCollapsed": true,
    "tags": []
   },
   "source": [
    "##### function ```byte_read_sql```"
   ]
  },
  {
   "cell_type": "code",
   "execution_count": 74,
   "id": "3106c564-5602-4338-8c8a-596dcc4eb52c",
   "metadata": {},
   "outputs": [],
   "source": [
    "def decode_if_it_can(value):\n",
    "    \"\"\"\n",
    "    Tries to decode a possible bytes object with utf-8. \n",
    "    If fails, silently returns input.\n",
    "    INPUTS: object\n",
    "    OUTPUTS: input or decoded string\n",
    "    \"\"\"\n",
    "    try:\n",
    "        value = value.decode('utf-8')\n",
    "    except (UnicodeDecodeError, AttributeError):\n",
    "        pass\n",
    "    finally:\n",
    "        return value\n",
    "\n",
    "def byte_read_sql(query, conn):\n",
    "    \"\"\"\n",
    "    Simple wrapper for pd.read_sql() for mediawiki dumps including byte-like data.\n",
    "    Inputs: \n",
    "            SQL query string\n",
    "            SQLAlchemy connection\n",
    "    Outputs:\n",
    "            Pandas dataframe with some values modified, that is:\n",
    "                values that can be decoded with .decode('utf-8') are thus decoded.\n",
    "    \"\"\"\n",
    "    df = pd.read_sql(query, conn)\n",
    "    return (df.applymap(lambda x: decode_if_it_can(x)))"
   ]
  },
  {
   "cell_type": "markdown",
   "id": "724fcccc-3886-4700-926c-35a27b99de6f",
   "metadata": {
    "jp-MarkdownHeadingCollapsed": true,
    "tags": []
   },
   "source": [
    "#### load pickled ```disaster_descendants```"
   ]
  },
  {
   "cell_type": "code",
   "execution_count": 207,
   "id": "839e6012-25fe-48eb-8b01-91cc0ac0b433",
   "metadata": {},
   "outputs": [],
   "source": [
    "with open(processed_path + 'disaster_descendants.pickle', 'rb') as f:\n",
    "    disaster_descendants = pickle.load(f)"
   ]
  },
  {
   "cell_type": "markdown",
   "id": "258bf27c-fc77-47b5-b146-6f7a94a21935",
   "metadata": {},
   "source": [
    "## define function count_edits_in_all_descendant_pages"
   ]
  },
  {
   "cell_type": "markdown",
   "id": "cc59bdf5-c50b-4062-8918-53d4612e7075",
   "metadata": {
    "tags": []
   },
   "source": [
    "##### setup for count"
   ]
  },
  {
   "cell_type": "code",
   "execution_count": 208,
   "id": "9cca9b58-cfdf-4057-bbee-1c3849937b8e",
   "metadata": {},
   "outputs": [],
   "source": [
    "cxn, cur, engine, conn = connect_mariadb()"
   ]
  },
  {
   "cell_type": "code",
   "execution_count": 241,
   "id": "324220f2-d76e-474a-b607-82aadb09d550",
   "metadata": {},
   "outputs": [],
   "source": [
    "disaster_cat_page_ids = {'火山災害':2390743, '熱帯低気圧':626482, '雪害':2390774, '地震':135264, '津波':765772}  # '自然災害':137069, \n",
    "disasters_english = {'火山災害':'VolcanicDisaster', '熱帯低気圧':'TropicalCyclones', '雪害':'SnowDamage', '地震':'Earthquake', '津波':'Tsunami'}\n",
    "disasters = list(disaster_cat_page_ids.keys())\n",
    "\n",
    "disaster_subcats = {}\n",
    "for i in disaster_descendants:\n",
    "    disaster_subcats[i] = (\n",
    "        disaster_descendants[i]\n",
    "            [lambda x: x.type == 'subcat']\n",
    "            .set_index('name').id.drop_duplicates()\n",
    "            .to_frame().reset_index().set_index('id', drop=True)\n",
    "    )"
   ]
  },
  {
   "cell_type": "code",
   "execution_count": 242,
   "id": "ba04c778-db9e-4546-ae55-bade6c4d6b95",
   "metadata": {},
   "outputs": [],
   "source": [
    "gen = (i for i in disaster_subcats)"
   ]
  },
  {
   "cell_type": "code",
   "execution_count": null,
   "id": "3f50343c-fde1-4c75-b2ad-ca61bc456f4a",
   "metadata": {},
   "outputs": [
    {
     "ename": "StopIteration",
     "evalue": "",
     "output_type": "error",
     "traceback": [
      "\u001b[0;31m---------------------------------------------------------------------------\u001b[0m",
      "\u001b[0;31mStopIteration\u001b[0m                             Traceback (most recent call last)",
      "\u001b[0;32m/tmp/ipykernel_339240/1653125827.py\u001b[0m in \u001b[0;36m<module>\u001b[0;34m\u001b[0m\n\u001b[0;32m----> 1\u001b[0;31m \u001b[0mdisaster_subcats\u001b[0m\u001b[0;34m[\u001b[0m\u001b[0mnext\u001b[0m\u001b[0;34m(\u001b[0m\u001b[0mgen\u001b[0m\u001b[0;34m)\u001b[0m\u001b[0;34m]\u001b[0m\u001b[0;34m\u001b[0m\u001b[0;34m\u001b[0m\u001b[0m\n\u001b[0m",
      "\u001b[0;31mStopIteration\u001b[0m: "
     ]
    }
   ],
   "source": [
    "disaster_subcats[next(gen)]"
   ]
  },
  {
   "cell_type": "code",
   "execution_count": null,
   "id": "b3829e21-6700-4bc2-af5d-44821a0f6a0c",
   "metadata": {},
   "outputs": [],
   "source": [
    "dupes.reset_index().name.unique()"
   ]
  },
  {
   "cell_type": "markdown",
   "id": "f69c2c48-f394-47bb-bcd8-656643110f9d",
   "metadata": {},
   "source": [
    "##### try this"
   ]
  },
  {
   "cell_type": "markdown",
   "id": "421e2829-db47-4bfb-ae49-5354a5cff13b",
   "metadata": {},
   "source": [
    "##### create temporary table for a kind of disaster"
   ]
  },
  {
   "cell_type": "code",
   "execution_count": null,
   "id": "fc0eb423-f9da-4370-8137-c52f8e9fd8f9",
   "metadata": {},
   "outputs": [],
   "source": [
    "byte_read_sql(\"\"\"\n",
    "select * \n",
    "from cats_to_selfjoin\n",
    "where id in (2390743)\n",
    ";\n",
    "\"\"\", conn)"
   ]
  },
  {
   "cell_type": "code",
   "execution_count": 71,
   "id": "1338e47e-9576-4d26-a965-409546641aab",
   "metadata": {},
   "outputs": [
    {
     "data": {
      "text/plain": [
       "[('id', 'int(8) unsigned', 'NO', 'PRI', '0', ''),\n",
       " ('name', 'varbinary(230)', 'NO', '', '', ''),\n",
       " ('type', \"enum('page','subcat','file')\", 'NO', '', 'page', ''),\n",
       " ('namespace', 'int(11)', 'NO', '', '0', ''),\n",
       " ('parent_cat_id', 'int(8) unsigned', 'NO', 'PRI', '0', ''),\n",
       " ('parent_cat_name', 'varbinary(255)', 'NO', '', '', '')]"
      ]
     },
     "execution_count": 71,
     "metadata": {},
     "output_type": "execute_result"
    }
   ],
   "source": [
    "jpr_sql(\"\"\"\n",
    "desc cats_to_selfjoin\n",
    ";\n",
    "\"\"\")"
   ]
  },
  {
   "cell_type": "markdown",
   "id": "2f21cf82-05fa-4f91-926e-d30b40ef0377",
   "metadata": {},
   "source": [
    "##### count edits to pages"
   ]
  },
  {
   "cell_type": "code",
   "execution_count": null,
   "id": "8db90a36-eefb-4de7-a172-de7ad4f1408f",
   "metadata": {},
   "outputs": [],
   "source": [
    "def count_edits_to_pages(pages:list[int], year:int, conn=conn):\n",
    "        \n",
    "    stringified = \", \".join(map(str,pages))\n",
    "    \n",
    "    _pageidssql = r\"\"\"\n",
    "    select\n",
    "        count(row_id) as num_edits\n",
    "    from h\"\"\"+str(year)+r\"\"\"\n",
    "    where\n",
    "        page_id in (\"\"\"+ stringified_pageids +r\"\"\")\n",
    "        and event_entity = 'revision'\n",
    "        and user_is_bot_by IS NULL\n",
    "        and event_user_is_bot_by IS NULL\n",
    "\n",
    "    ;\n",
    "    \"\"\"\n",
    "    \n",
    "    return pd.read_sql(sql,conn).num_edits.sum()"
   ]
  },
  {
   "cell_type": "code",
   "execution_count": null,
   "id": "ce1b8028-c51c-4ae2-8a19-dd13dd0177b2",
   "metadata": {},
   "outputs": [
    {
     "data": {
      "text/plain": [
       "41827"
      ]
     },
     "execution_count": 53,
     "metadata": {},
     "output_type": "execute_result"
    }
   ],
   "source": [
    "disaster_edit_counts = {}\n",
    "for i in disasters:\n",
    "    disaster_edit_counts[i] = count_edits_to_pages(disaster_descendants[i].index.to_list(), 2013)\n",
    "pd.Series(disaster_edit_counts)"
   ]
  },
  {
   "cell_type": "markdown",
   "id": "dd914177-7228-49ae-b0b4-3e3adfc2e1bf",
   "metadata": {},
   "source": [
    "##### and this"
   ]
  },
  {
   "cell_type": "code",
   "execution_count": null,
   "id": "ad647faf-1269-4a4d-8b94-6cdda032ed8a",
   "metadata": {},
   "outputs": [],
   "source": [
    "pd.read_sql(\n",
    "    \"\"\"\n",
    "    select\n",
    "        count(row_id) as num_edits\n",
    "    where\n",
    "        page_id in (id, name, type, namespace)\n",
    "        and event_entity = 'revision'\n",
    "        and user_is_bot_by IS NULL\n",
    "        and event_user_is_bot_by IS NULL\n",
    "\n",
    "    from h2013\n",
    "    ;\n",
    "    \"\"\"\n",
    "    ,conn\n",
    ")"
   ]
  },
  {
   "cell_type": "code",
   "execution_count": null,
   "id": "d37ef11e-dacc-4c86-a6df-8dae0305f98a",
   "metadata": {},
   "outputs": [],
   "source": [
    "pyperclip.copy(count_edits_in_all_descendant_pages(626482,2013))"
   ]
  },
  {
   "cell_type": "markdown",
   "id": "d6e904e7-6f24-45dd-8455-921c36f203d4",
   "metadata": {},
   "source": [
    "```sql\n",
    "select\n",
    "    count(row_id) as num_edits\n",
    "where\n",
    "    page_id in (id, name, type, namespace)\n",
    "    and event_entity = 'revision'\n",
    "    and user_is_bot_by IS NULL\n",
    "    and event_user_is_bot_by IS NULL\n",
    "\n",
    "from h2013\n",
    ";\n",
    "```"
   ]
  },
  {
   "cell_type": "code",
   "execution_count": null,
   "id": "e2e2970c-dee7-474e-985f-d2eda8da0e88",
   "metadata": {},
   "outputs": [],
   "source": [
    "count_edits_in_all_descendant_pages(626482,2013)"
   ]
  },
  {
   "cell_type": "code",
   "execution_count": null,
   "id": "a6d8dff3-bde5-4ba8-b31b-7946db870c41",
   "metadata": {},
   "outputs": [],
   "source": [
    "import inspect\n",
    "print(inspect.getsource(count_edits_in_all_descendant_pages))"
   ]
  },
  {
   "cell_type": "markdown",
   "id": "8dcd97b1-9ac6-444d-b2ca-75aa07967b29",
   "metadata": {},
   "source": [
    "##### want to get here"
   ]
  },
  {
   "cell_type": "code",
   "execution_count": null,
   "id": "fb1d304e-a78d-4530-b9da-1e555fa4d31e",
   "metadata": {},
   "outputs": [],
   "source": [
    "# count_edits_in_each_descendant_cat\n",
    "熱帯低気圧2013_descendant_edit_counts = count_edits_in_all_descendant_pages(626482,2013)"
   ]
  },
  {
   "cell_type": "code",
   "execution_count": null,
   "id": "da529018-7684-4de2-acfe-489b9a0f66d1",
   "metadata": {},
   "outputs": [],
   "source": []
  },
  {
   "cell_type": "markdown",
   "id": "d997bc34-2d46-4c27-a752-73c95ed862cd",
   "metadata": {},
   "source": [
    "### end section"
   ]
  },
  {
   "cell_type": "markdown",
   "id": "ccb52d0e-2707-455a-9be2-4c7cdb3760e3",
   "metadata": {},
   "source": [
    "## pick subcategories to predict category"
   ]
  },
  {
   "cell_type": "markdown",
   "id": "a3e073b9-0d04-414f-b653-da5cf092706d",
   "metadata": {},
   "source": [
    "### get annual edit counts"
   ]
  },
  {
   "cell_type": "markdown",
   "id": "3f46bbaf-c5c8-4998-9018-460c648d217b",
   "metadata": {},
   "source": [
    "# END"
   ]
  }
 ],
 "metadata": {
  "kernelspec": {
   "display_name": "Python 3 (ipykernel)",
   "language": "python",
   "name": "python3"
  },
  "language_info": {
   "codemirror_mode": {
    "name": "ipython",
    "version": 3
   },
   "file_extension": ".py",
   "mimetype": "text/x-python",
   "name": "python",
   "nbconvert_exporter": "python",
   "pygments_lexer": "ipython3",
   "version": "3.9.7"
  }
 },
 "nbformat": 4,
 "nbformat_minor": 5
}
