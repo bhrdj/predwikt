{
 "cells": [
  {
   "cell_type": "markdown",
   "id": "019f44b4-dc38-4890-b35f-86553ee18b43",
   "metadata": {},
   "source": [
    "# Import dump into MySQL with Python"
   ]
  },
  {
   "cell_type": "markdown",
   "id": "5c0e0ec7-7d15-4dc0-9e31-3b5c6b1b5b94",
   "metadata": {
    "jp-MarkdownHeadingCollapsed": true,
    "tags": []
   },
   "source": [
    "## Imports and paths"
   ]
  },
  {
   "cell_type": "code",
   "execution_count": 5,
   "id": "034cb61b-c902-49b9-8834-f9afddafdd41",
   "metadata": {},
   "outputs": [],
   "source": [
    "import os\n",
    "from pathlib import Path\n",
    "import re\n",
    "import pandas as pd\n",
    "import mysql.connector as mysql\n",
    "import matplotlib.pyplot as plt"
   ]
  },
  {
   "cell_type": "code",
   "execution_count": 2,
   "id": "9f89d54c-2e0b-48c1-ba8d-c82d474bd74a",
   "metadata": {},
   "outputs": [],
   "source": [
    "home_path = str(Path.home())\n",
    "os.chdir(home_path + '/git/predwikt/notebooks')"
   ]
  },
  {
   "cell_type": "code",
   "execution_count": 9,
   "id": "268f090c-81c6-40c6-aa2e-a83f08475e60",
   "metadata": {},
   "outputs": [],
   "source": [
    "dump_url = '../data/raw/enwiki-latest-categorylinks.sql'\n",
    "db_name = 'latest_categorylinks'"
   ]
  },
  {
   "cell_type": "markdown",
   "id": "8b030263-cd5e-410d-988b-96b593d12e5b",
   "metadata": {
    "tags": []
   },
   "source": [
    "## Starting / Restarting MariaDB after it dies:"
   ]
  },
  {
   "cell_type": "markdown",
   "id": "35ecd90e-bf91-413f-b318-ad49dac38f44",
   "metadata": {
    "tags": []
   },
   "source": [
    "### Initialize in bash"
   ]
  },
  {
   "cell_type": "markdown",
   "id": "9c9b4ffe-9061-4ad8-9388-80c1a9e8c0c9",
   "metadata": {},
   "source": [
    "**bash**\n",
    "```bash\n",
    "service mysqld start\n",
    "netstat -lnp | grep mysql\n",
    "```\n",
    "(I had to use mysqld not mysql: [link](https://stackoverflow.com/questions/11990708/error-cant-connect-to-local-mysql-server-through-socket-var-run-mysqld-mysq))"
   ]
  },
  {
   "cell_type": "markdown",
   "id": "a5344106-5a4b-47b2-b693-30d5ce519609",
   "metadata": {
    "tags": []
   },
   "source": [
    "### ***If no db:*** Drop the incomplete table and put back schema"
   ]
  },
  {
   "cell_type": "markdown",
   "id": "222ae4e7-55b1-438c-a9ea-7b1aa1b824cb",
   "metadata": {
    "tags": []
   },
   "source": [
    "#### Drop the incomplete table"
   ]
  },
  {
   "cell_type": "raw",
   "id": "a132c6d1-a408-4d77-aa32-1663fd65a196",
   "metadata": {},
   "source": [
    "cur_mysql.execute(f\"DROP TABLE IF EXISTS `{db_name}`;\")\n",
    "# cur_mysql.fetchall()"
   ]
  },
  {
   "cell_type": "raw",
   "id": "6c803df0-9831-4f7e-836e-1865123d49a5",
   "metadata": {},
   "source": [
    "cur_mysql.execute(f\"CREATE DATABASE latest_categorylinks CHARACTER SET utf8 COLLATE utf8_bin;\")"
   ]
  },
  {
   "cell_type": "raw",
   "id": "1c26c6b7-1b61-4046-8742-a40d425f6703",
   "metadata": {},
   "source": [
    "cur_mysql.execute(f\"GRANT ALL PRIVILEGES ON latest_categorylinks.* TO bhrdwj@localhost IDENTIFIED BY 'XXXXXXX';\")"
   ]
  },
  {
   "cell_type": "raw",
   "id": "49292cfb-f965-49b0-a30e-54e72766dd40",
   "metadata": {},
   "source": [
    "cur_mysql.execute(f\"USE latest_categorylinks;\")"
   ]
  },
  {
   "cell_type": "markdown",
   "id": "58b7dd0a-1e12-4f75-b4bd-debe45dc7cee",
   "metadata": {
    "tags": []
   },
   "source": [
    "#### Put create_table_str into memory"
   ]
  },
  {
   "cell_type": "raw",
   "id": "f22f605a-a94c-4b8c-aace-0dc9617f5715",
   "metadata": {},
   "source": [
    "create_table_str = '''\n",
    "CREATE TABLE `categorylinks` (\n",
    "  `cl_from` int(8) unsigned NOT NULL DEFAULT 0,\n",
    "  `cl_to` varbinary(255) NOT NULL DEFAULT '',\n",
    "  `cl_sortkey` varbinary(230) NOT NULL DEFAULT '',\n",
    "  `cl_timestamp` timestamp NOT NULL DEFAULT current_timestamp() ON UPDATE current_timestamp(),\n",
    "  `cl_sortkey_prefix` varbinary(255) NOT NULL DEFAULT '',\n",
    "  `cl_collation` varbinary(32) NOT NULL DEFAULT '',\n",
    "  `cl_type` enum('page','subcat','file') NOT NULL DEFAULT 'page',\n",
    "  PRIMARY KEY (`cl_from`,`cl_to`),\n",
    "  KEY `cl_timestamp` (`cl_to`,`cl_timestamp`),\n",
    "  KEY `cl_sortkey` (`cl_to`,`cl_type`,`cl_sortkey`,`cl_from`),\n",
    "  KEY `cl_collation_ext` (`cl_collation`,`cl_to`,`cl_type`,`cl_from`)\n",
    ") ENGINE=InnoDB DEFAULT CHARSET=binary ROW_FORMAT=COMPRESSED;\n",
    "'''"
   ]
  },
  {
   "cell_type": "markdown",
   "id": "106419e4-769d-410d-930e-47e6a4e96a2b",
   "metadata": {
    "tags": []
   },
   "source": [
    "#### Recreate the table schema"
   ]
  },
  {
   "cell_type": "raw",
   "id": "eb27c61a-c526-4dfe-9c8c-ed926a037c47",
   "metadata": {},
   "source": [
    "cur_mysql.execute(create_table_str)"
   ]
  },
  {
   "cell_type": "markdown",
   "id": "0d0557c2-7c12-42d3-8483-9da847e31cd7",
   "metadata": {
    "tags": []
   },
   "source": [
    "### Starting mysql.connect"
   ]
  },
  {
   "cell_type": "markdown",
   "id": "20e32094-0e07-4620-91c4-55a572fa90ef",
   "metadata": {
    "tags": []
   },
   "source": [
    "#### Get passwords for mysql.connect"
   ]
  },
  {
   "cell_type": "code",
   "execution_count": 3,
   "id": "4acd9365-5cfa-4bc4-abe2-eaaf5d57653a",
   "metadata": {},
   "outputs": [],
   "source": [
    "mysql_superuser = 'root'\n",
    "# mysql_su_pass = input(f'Enter the MySQL password for user {mysql_superuser}: ')\n",
    "mysql_defaultuser = 'bhrdwj'\n",
    "# mysql_def_pass = input(f'Enter the MySQL password for user {mysql_defaultuser}: ')"
   ]
  },
  {
   "cell_type": "markdown",
   "id": "dcfca6ec-2349-4d7f-89a4-0c6a82a37c4f",
   "metadata": {
    "tags": []
   },
   "source": [
    "#### Connect mysql.connect and initialize cursor"
   ]
  },
  {
   "cell_type": "code",
   "execution_count": 42,
   "id": "b13dba65-9982-41be-a143-c5f80e50ad96",
   "metadata": {},
   "outputs": [],
   "source": [
    "db_mysql = mysql.connect(\n",
    "    host = \"localhost\",\n",
    "    user = \"root\",\n",
    "    passwd = mysql_su_pass,\n",
    "    #database='latest_page' # not the first time around\n",
    ")\n",
    "cur_mysql = db_mysql.cursor()"
   ]
  },
  {
   "cell_type": "markdown",
   "id": "788713df-a75e-4477-bae2-4dc0123e3eb0",
   "metadata": {
    "tags": []
   },
   "source": [
    "#### Close connection"
   ]
  },
  {
   "cell_type": "raw",
   "id": "237cd258-aa59-42fb-9647-376b4be8df7e",
   "metadata": {},
   "source": [
    "db_mysql.close()"
   ]
  },
  {
   "cell_type": "markdown",
   "id": "a4b6ed92-e316-4f35-876d-e9e5d41e84bb",
   "metadata": {
    "tags": []
   },
   "source": [
    "### Check connection"
   ]
  },
  {
   "cell_type": "markdown",
   "id": "8285f4a0-0ec0-4614-9fb8-7db8a53ca37d",
   "metadata": {
    "tags": []
   },
   "source": [
    "#### Check current user and schema"
   ]
  },
  {
   "cell_type": "code",
   "execution_count": 47,
   "id": "e8ff6eae-9bc6-42ba-a640-a652e32bdeff",
   "metadata": {},
   "outputs": [
    {
     "name": "stdout",
     "output_type": "stream",
     "text": [
      "[('root@localhost',)]\n",
      "[('latest_categorylinks',)]\n",
      "[('categorylinks',)]\n"
     ]
    }
   ],
   "source": [
    "cur_mysql.execute('select user();')\n",
    "print(cur_mysql.fetchall())\n",
    "cur_mysql.execute('select database();')\n",
    "print(cur_mysql.fetchall())\n",
    "cur_mysql.execute('show tables;')\n",
    "print(cur_mysql.fetchall())"
   ]
  },
  {
   "cell_type": "code",
   "execution_count": 49,
   "id": "19c75711-7e2a-42e3-8de4-5cf0b091da89",
   "metadata": {},
   "outputs": [
    {
     "data": {
      "text/html": [
       "<div>\n",
       "<style scoped>\n",
       "    .dataframe tbody tr th:only-of-type {\n",
       "        vertical-align: middle;\n",
       "    }\n",
       "\n",
       "    .dataframe tbody tr th {\n",
       "        vertical-align: top;\n",
       "    }\n",
       "\n",
       "    .dataframe thead th {\n",
       "        text-align: right;\n",
       "    }\n",
       "</style>\n",
       "<table border=\"1\" class=\"dataframe\">\n",
       "  <thead>\n",
       "    <tr style=\"text-align: right;\">\n",
       "      <th></th>\n",
       "      <th>Field</th>\n",
       "      <th>Type</th>\n",
       "      <th>Null</th>\n",
       "      <th>Key</th>\n",
       "      <th>Default</th>\n",
       "      <th>Extra</th>\n",
       "    </tr>\n",
       "  </thead>\n",
       "  <tbody>\n",
       "    <tr>\n",
       "      <th>0</th>\n",
       "      <td>cl_from</td>\n",
       "      <td>int(8) unsigned</td>\n",
       "      <td>NO</td>\n",
       "      <td>PRI</td>\n",
       "      <td>0</td>\n",
       "      <td></td>\n",
       "    </tr>\n",
       "    <tr>\n",
       "      <th>1</th>\n",
       "      <td>cl_to</td>\n",
       "      <td>varbinary(255)</td>\n",
       "      <td>NO</td>\n",
       "      <td>PRI</td>\n",
       "      <td></td>\n",
       "      <td></td>\n",
       "    </tr>\n",
       "    <tr>\n",
       "      <th>2</th>\n",
       "      <td>cl_sortkey</td>\n",
       "      <td>varbinary(230)</td>\n",
       "      <td>NO</td>\n",
       "      <td></td>\n",
       "      <td></td>\n",
       "      <td></td>\n",
       "    </tr>\n",
       "    <tr>\n",
       "      <th>3</th>\n",
       "      <td>cl_timestamp</td>\n",
       "      <td>timestamp</td>\n",
       "      <td>NO</td>\n",
       "      <td></td>\n",
       "      <td>current_timestamp()</td>\n",
       "      <td>on update current_timestamp()</td>\n",
       "    </tr>\n",
       "    <tr>\n",
       "      <th>4</th>\n",
       "      <td>cl_sortkey_prefix</td>\n",
       "      <td>varbinary(255)</td>\n",
       "      <td>NO</td>\n",
       "      <td></td>\n",
       "      <td></td>\n",
       "      <td></td>\n",
       "    </tr>\n",
       "    <tr>\n",
       "      <th>5</th>\n",
       "      <td>cl_collation</td>\n",
       "      <td>varbinary(32)</td>\n",
       "      <td>NO</td>\n",
       "      <td>MUL</td>\n",
       "      <td></td>\n",
       "      <td></td>\n",
       "    </tr>\n",
       "    <tr>\n",
       "      <th>6</th>\n",
       "      <td>cl_type</td>\n",
       "      <td>enum('page','subcat','file')</td>\n",
       "      <td>NO</td>\n",
       "      <td></td>\n",
       "      <td>page</td>\n",
       "      <td></td>\n",
       "    </tr>\n",
       "  </tbody>\n",
       "</table>\n",
       "</div>"
      ],
      "text/plain": [
       "               Field                          Type Null  Key  \\\n",
       "0            cl_from               int(8) unsigned   NO  PRI   \n",
       "1              cl_to                varbinary(255)   NO  PRI   \n",
       "2         cl_sortkey                varbinary(230)   NO        \n",
       "3       cl_timestamp                     timestamp   NO        \n",
       "4  cl_sortkey_prefix                varbinary(255)   NO        \n",
       "5       cl_collation                 varbinary(32)   NO  MUL   \n",
       "6            cl_type  enum('page','subcat','file')   NO        \n",
       "\n",
       "               Default                          Extra  \n",
       "0                    0                                 \n",
       "1                                                      \n",
       "2                                                      \n",
       "3  current_timestamp()  on update current_timestamp()  \n",
       "4                                                      \n",
       "5                                                      \n",
       "6                 page                                 "
      ]
     },
     "execution_count": 49,
     "metadata": {},
     "output_type": "execute_result"
    }
   ],
   "source": [
    "cur_mysql.execute('DESCRIBE categorylinks;')\n",
    "schema = pd.DataFrame(cur_mysql.fetchall(), columns=['Field','Type','Null','Key','Default','Extra'])\n",
    "schema"
   ]
  },
  {
   "cell_type": "markdown",
   "id": "78167784-e6b6-414f-9eb2-c6febbe33ef8",
   "metadata": {
    "tags": []
   },
   "source": [
    "#### Check if table is empty"
   ]
  },
  {
   "cell_type": "code",
   "execution_count": 51,
   "id": "2b7e854d-69af-471e-abf5-9cfbbb75ab56",
   "metadata": {},
   "outputs": [
    {
     "data": {
      "text/plain": [
       "[(0,)]"
      ]
     },
     "execution_count": 51,
     "metadata": {},
     "output_type": "execute_result"
    }
   ],
   "source": [
    "cur_mysql.execute('SELECT EXISTS(SELECT 1 FROM categorylinks);')\n",
    "cur_mysql.fetchall()"
   ]
  },
  {
   "cell_type": "markdown",
   "id": "5944a203-433c-4816-824c-9ab52cb678d3",
   "metadata": {
    "tags": []
   },
   "source": [
    "## Get params of sql dump"
   ]
  },
  {
   "cell_type": "markdown",
   "id": "101670e9-98e7-497b-b006-ba204216c283",
   "metadata": {
    "tags": []
   },
   "source": [
    "### Define EDA functions"
   ]
  },
  {
   "cell_type": "markdown",
   "id": "7a349469-c894-4fc0-85aa-fdc38ecd6aec",
   "metadata": {
    "tags": []
   },
   "source": [
    "#### Function to open a dump"
   ]
  },
  {
   "cell_type": "markdown",
   "id": "b6299a3c-1315-4236-af73-66259c270241",
   "metadata": {},
   "source": [
    "- ***ONLY USE THIS IN*** ```with open_dump(dump_url) as f:``` ***CONTEXT***\n",
    "- (as is done in function `get_line_lengths`)\n"
   ]
  },
  {
   "cell_type": "code",
   "execution_count": 10,
   "id": "a7c00bc2-d65f-4262-8f54-1f236dc9acd1",
   "metadata": {},
   "outputs": [],
   "source": [
    "def open_dump(url):\n",
    "    return open(url, mode='r', encoding='UTF_8', errors='backslashreplace')"
   ]
  },
  {
   "cell_type": "markdown",
   "id": "7971b4ae-2a19-46e3-a312-4d26cb9c5b16",
   "metadata": {
    "tags": []
   },
   "source": [
    "#### Define a function to get line lengths"
   ]
  },
  {
   "cell_type": "code",
   "execution_count": 11,
   "id": "9c6f91fa-b0e0-4320-bdb3-d8f086978460",
   "metadata": {},
   "outputs": [],
   "source": [
    "def get_line_lengths(dump_url):\n",
    "    line_lengths = []\n",
    "    with open_dump(dump_url) as f:\n",
    "        for line in f:\n",
    "            line_lengths.append(len(line))\n",
    "    return line_lengths"
   ]
  },
  {
   "cell_type": "markdown",
   "id": "70f011f5-825d-40dc-a1df-b400847fa9b3",
   "metadata": {
    "tags": []
   },
   "source": [
    "#### Define a function to plot line lengths"
   ]
  },
  {
   "cell_type": "code",
   "execution_count": 15,
   "id": "a8092d95-adae-4bf6-b88a-90a9b60ac580",
   "metadata": {},
   "outputs": [],
   "source": [
    "def plot_line_lengths(ll):\n",
    "    s = pd.Series(ll, name='line_lengths')\n",
    "    fig = plt.figure(figsize=(6,3))\n",
    "    ax = plt.gca()\n",
    "    s.plot(ax=ax)\n",
    "    ax.set_xticks([0, len(line_lengths)])\n",
    "    ax.set_xlabel('rows of file')\n",
    "    ax.set_ylabel('line length')\n",
    "    plt.show()"
   ]
  },
  {
   "cell_type": "markdown",
   "id": "5cdfd6ae-bf2b-4c19-9913-a791e58771ae",
   "metadata": {
    "tags": []
   },
   "source": [
    "#### Define a function to get a contiguous slice of rows of dump file"
   ]
  },
  {
   "cell_type": "code",
   "execution_count": 22,
   "id": "bfce5f40-75c2-474d-b439-4508d8c4ee4b",
   "metadata": {},
   "outputs": [],
   "source": [
    "def get_those_rows(start, end, dump_url):\n",
    "    those_rows = []\n",
    "    with open_dump(dump_url) as f:\n",
    "        for i in range(end):\n",
    "            if i < start:\n",
    "                f.readline()\n",
    "            elif i >= start:\n",
    "                those_rows.append(f.readline())\n",
    "            else:\n",
    "                break\n",
    "    return those_rows"
   ]
  },
  {
   "cell_type": "markdown",
   "id": "004c3f50-37e8-41dd-9474-4d1bcece423a",
   "metadata": {
    "tags": []
   },
   "source": [
    "### Check dump params"
   ]
  },
  {
   "cell_type": "markdown",
   "id": "6554b5e5-de3e-4ad3-ae9f-1f1a4bf93d8c",
   "metadata": {
    "tags": []
   },
   "source": [
    "#### Get line lengths and dump length"
   ]
  },
  {
   "cell_type": "code",
   "execution_count": 13,
   "id": "d5e2befc-602b-4fe7-bf3f-9d6082d02c35",
   "metadata": {},
   "outputs": [],
   "source": [
    "line_lengths = get_line_lengths(dump_url)\n",
    "dump_length = len(line_lengths)"
   ]
  },
  {
   "cell_type": "markdown",
   "id": "7e6cfd42-1c7c-4670-b270-a2b95577a274",
   "metadata": {
    "tags": []
   },
   "source": [
    "#### Plot line lengths"
   ]
  },
  {
   "cell_type": "code",
   "execution_count": 16,
   "id": "d0079e24-d6b0-4c95-8d9a-092416d0727e",
   "metadata": {},
   "outputs": [
    {
     "data": {
      "image/png": "[encoded data removed]",
      "text/plain": [
       "<Figure size 432x216 with 1 Axes>"
      ]
     },
     "metadata": {
      "needs_background": "light"
     },
     "output_type": "display_data"
    }
   ],
   "source": [
    "plot_line_lengths(line_lengths)"
   ]
  },
  {
   "cell_type": "markdown",
   "id": "4758575a-52f7-4718-abc9-4362fbb3e662",
   "metadata": {
    "tags": []
   },
   "source": [
    "#### Get start/end row numbers for headers, data, footers"
   ]
  },
  {
   "cell_type": "code",
   "execution_count": 17,
   "id": "2253f471-19b9-44f6-8e4c-12aee8591f18",
   "metadata": {},
   "outputs": [],
   "source": [
    "i=0\n",
    "while line_lengths[i] < 10**4: i+=1\n",
    "head_last_rownum = i-1\n",
    "data_first_rownum = i"
   ]
  },
  {
   "cell_type": "code",
   "execution_count": 18,
   "id": "f3aa5e5f-f6ad-4ec5-909f-efcf66b70753",
   "metadata": {},
   "outputs": [],
   "source": [
    "i=dump_length-100\n",
    "while line_lengths[i] > 10**4: i+=1\n",
    "data_last_rownum = i-1\n",
    "foot_first_rownum = i"
   ]
  },
  {
   "cell_type": "markdown",
   "id": "5071f119-e588-4391-87fe-f927445c57b1",
   "metadata": {
    "tags": []
   },
   "source": [
    "### Show dumpfile metadata"
   ]
  },
  {
   "cell_type": "markdown",
   "id": "3a592cb0-e821-448a-99bc-dfb6754d3018",
   "metadata": {
    "tags": []
   },
   "source": [
    "#### Key line numbers"
   ]
  },
  {
   "cell_type": "code",
   "execution_count": 26,
   "id": "04bfdd48-55c9-4090-95f7-742b566e0fda",
   "metadata": {},
   "outputs": [
    {
     "data": {
      "text/plain": [
       "(0, 43, 44, 24416, 24417, 24429)"
      ]
     },
     "execution_count": 26,
     "metadata": {},
     "output_type": "execute_result"
    }
   ],
   "source": [
    "(0, head_last_rownum, data_first_rownum, \n",
    "    data_last_rownum, foot_first_rownum, dump_length)"
   ]
  },
  {
   "cell_type": "markdown",
   "id": "0d3e93b0-17aa-45bb-8c0b-df35189d1fa2",
   "metadata": {
    "tags": []
   },
   "source": [
    "#### Headers"
   ]
  },
  {
   "cell_type": "code",
   "execution_count": 24,
   "id": "edf22ad4-0152-48e4-bd52-708c7993d59c",
   "metadata": {},
   "outputs": [
    {
     "name": "stdout",
     "output_type": "stream",
     "text": [
      "-- MySQL dump 10.19  Distrib 10.3.31-MariaDB, for debian-linux-gnu (x86_64)\n",
      "--\n",
      "-- Host: 10.64.48.13    Database: enwiki\n",
      "-- ------------------------------------------------------\n",
      "-- Server version\t10.4.21-MariaDB-log\n",
      "\n",
      "/*!40101 SET @OLD_CHARACTER_SET_CLIENT=@@CHARACTER_SET_CLIENT */;\n",
      "/*!40101 SET @OLD_CHARACTER_SET_RESULTS=@@CHARACTER_SET_RESULTS */;\n",
      "/*!40101 SET @OLD_COLLATION_CONNECTION=@@COLLATION_CONNECTION */;\n",
      "/*!40101 SET NAMES utf8mb4 */;\n",
      "/*!40103 SET @OLD_TIME_ZONE=@@TIME_ZONE */;\n",
      "/*!40103 SET TIME_ZONE='+00:00' */;\n",
      "/*!40014 SET @OLD_UNIQUE_CHECKS=@@UNIQUE_CHECKS, UNIQUE_CHECKS=0 */;\n",
      "/*!40014 SET @OLD_FOREIGN_KEY_CHECKS=@@FOREIGN_KEY_CHECKS, FOREIGN_KEY_CHECKS=0 */;\n",
      "/*!40101 SET @OLD_SQL_MODE=@@SQL_MODE, SQL_MODE='NO_AUTO_VALUE_ON_ZERO' */;\n",
      "/*!40111 SET @OLD_SQL_NOTES=@@SQL_NOTES, SQL_NOTES=0 */;\n",
      "\n",
      "--\n",
      "-- Table structure for table `categorylinks`\n",
      "--\n",
      "\n",
      "DROP TABLE IF EXISTS `categorylinks`;\n",
      "/*!40101 SET @saved_cs_client     = @@character_set_client */;\n",
      "/*!40101 SET character_set_client = utf8 */;\n",
      "CREATE TABLE `categorylinks` (\n",
      "  `cl_from` int(8) unsigned NOT NULL DEFAULT 0,\n",
      "  `cl_to` varbinary(255) NOT NULL DEFAULT '',\n",
      "  `cl_sortkey` varbinary(230) NOT NULL DEFAULT '',\n",
      "  `cl_timestamp` timestamp NOT NULL DEFAULT current_timestamp() ON UPDATE current_timestamp(),\n",
      "  `cl_sortkey_prefix` varbinary(255) NOT NULL DEFAULT '',\n",
      "  `cl_collation` varbinary(32) NOT NULL DEFAULT '',\n",
      "  `cl_type` enum('page','subcat','file') NOT NULL DEFAULT 'page',\n",
      "  PRIMARY KEY (`cl_from`,`cl_to`),\n",
      "  KEY `cl_timestamp` (`cl_to`,`cl_timestamp`),\n",
      "  KEY `cl_sortkey` (`cl_to`,`cl_type`,`cl_sortkey`,`cl_from`),\n",
      "  KEY `cl_collation_ext` (`cl_collation`,`cl_to`,`cl_type`,`cl_from`)\n",
      ") ENGINE=InnoDB DEFAULT CHARSET=binary ROW_FORMAT=COMPRESSED;\n",
      "/*!40101 SET character_set_client = @saved_cs_client */;\n",
      "\n",
      "--\n",
      "-- Dumping data for table `categorylinks`\n",
      "--\n",
      "\n",
      "/*!40000 ALTER TABLE `categorylinks` DISABLE KEYS */;\n",
      "\n"
     ]
    }
   ],
   "source": [
    "headers = ''.join(get_those_rows(0, head_last_rownum+1, dump_url))\n",
    "print(headers)"
   ]
  },
  {
   "cell_type": "markdown",
   "id": "a1f82452-0ca1-4d58-951f-008946b9b42c",
   "metadata": {},
   "source": [
    "#### Footers"
   ]
  },
  {
   "cell_type": "code",
   "execution_count": 30,
   "id": "1376f9e5-984b-40b1-a3f9-3ff03ab1251d",
   "metadata": {},
   "outputs": [],
   "source": [
    "footers = ''.join(get_those_rows(foot_first_rownum, dump_length, dump_url))"
   ]
  },
  {
   "cell_type": "code",
   "execution_count": 31,
   "id": "8894f56a-49cd-4062-80ff-55eaa4eb6c63",
   "metadata": {},
   "outputs": [
    {
     "name": "stdout",
     "output_type": "stream",
     "text": [
      "/*!40000 ALTER TABLE `categorylinks` ENABLE KEYS */;\n",
      "/*!40103 SET TIME_ZONE=@OLD_TIME_ZONE */;\n",
      "\n",
      "/*!40101 SET SQL_MODE=@OLD_SQL_MODE */;\n",
      "/*!40014 SET FOREIGN_KEY_CHECKS=@OLD_FOREIGN_KEY_CHECKS */;\n",
      "/*!40014 SET UNIQUE_CHECKS=@OLD_UNIQUE_CHECKS */;\n",
      "/*!40101 SET CHARACTER_SET_CLIENT=@OLD_CHARACTER_SET_CLIENT */;\n",
      "/*!40101 SET CHARACTER_SET_RESULTS=@OLD_CHARACTER_SET_RESULTS */;\n",
      "/*!40101 SET COLLATION_CONNECTION=@OLD_COLLATION_CONNECTION */;\n",
      "/*!40111 SET SQL_NOTES=@OLD_SQL_NOTES */;\n",
      "\n",
      "-- Dump completed on 2021-11-20  9:18:15\n",
      "\n"
     ]
    }
   ],
   "source": [
    "print(footers)"
   ]
  },
  {
   "cell_type": "markdown",
   "id": "c66e897d-5dce-492d-8de9-eed2dcf299dc",
   "metadata": {},
   "source": [
    "## Import one line of SQL dump with mysql.connect"
   ]
  },
  {
   "cell_type": "markdown",
   "id": "9ffdeda5-b4c5-454f-8a2a-f827a16ade6a",
   "metadata": {
    "tags": []
   },
   "source": [
    "### Check current mysql table"
   ]
  },
  {
   "cell_type": "markdown",
   "id": "ace79edd-7b29-4c0f-9263-61c82ee8f913",
   "metadata": {
    "tags": []
   },
   "source": [
    "#### Check length of mysql table"
   ]
  },
  {
   "cell_type": "code",
   "execution_count": 89,
   "id": "02e2b02b-8a3b-4704-93c9-e3671aded7bf",
   "metadata": {},
   "outputs": [
    {
     "data": {
      "text/plain": [
       "[(8671392,)]"
      ]
     },
     "execution_count": 89,
     "metadata": {},
     "output_type": "execute_result"
    }
   ],
   "source": [
    "cur_mysql.execute('SELECT COUNT(*) FROM page;')\n",
    "\n",
    "cur_mysql.fetchall()"
   ]
  },
  {
   "cell_type": "markdown",
   "id": "c6f006d1-3cd9-43f4-bdde-58b5f1dddc6e",
   "metadata": {},
   "source": [
    "Interesting that \n",
    "- the max page_id used to be equal to the count of page_id's.\n",
    "- but now they're very different\n",
    "Therefore,\n",
    "- I am going to try abandoning this python/mysql.connector import process\n",
    "- and go back to a one-command bash-based import"
   ]
  },
  {
   "cell_type": "code",
   "execution_count": 91,
   "id": "576e9eeb-136b-44ad-aba7-01a3ae20110d",
   "metadata": {},
   "outputs": [],
   "source": [
    "start_idx = data_first_rownum + 610\n",
    "end_idx   = start_idx + 92"
   ]
  },
  {
   "cell_type": "markdown",
   "id": "efd7353f-f360-4804-9a66-b0fd3623dd9f",
   "metadata": {
    "tags": []
   },
   "source": [
    "### Populate one dumpline into mysql very carefully"
   ]
  },
  {
   "cell_type": "markdown",
   "id": "a1502bcf-20a2-493b-a26a-f16beb2696d9",
   "metadata": {
    "tags": []
   },
   "source": [
    "#### Get the next sql dump line"
   ]
  },
  {
   "cell_type": "markdown",
   "id": "809eb92f-8086-4e91-9e8a-e4466dead804",
   "metadata": {},
   "source": [
    "***COULDN'T GET last_dumpline_primary_key*** \n",
    "- some values have parentheses inside them.  \n",
    "- so I need to do a better regex search for last_dumpline_primarykey:\n",
    "    - I should only find a ( paren that isn't inside quotes."
   ]
  },
  {
   "cell_type": "code",
   "execution_count": 78,
   "id": "3cb401c4-f14a-42ed-866d-3b1bd45a41a1",
   "metadata": {},
   "outputs": [
    {
     "data": {
      "text/plain": [
       "8569499"
      ]
     },
     "execution_count": 78,
     "metadata": {},
     "output_type": "execute_result"
    }
   ],
   "source": [
    "prev_line = get_those_rows(start_idx-1, start_idx, dump_url)[0]\n",
    "last_record_string = re.search(r'(\\([^\\(]*)(?:;\\n)$', prev_line[-500:]).groups()[0]\n",
    "last_dumpline_primarykey = int(re.search(r'(?:\\()(\\d*)',last_record_string).groups()[0])\n",
    "last_dumpline_primarykey"
   ]
  },
  {
   "cell_type": "code",
   "execution_count": 79,
   "id": "beea11f2-5119-442a-9580-295e876d6d69",
   "metadata": {},
   "outputs": [
    {
     "data": {
      "text/plain": [
       "\"t',NULL),(8569495,3,'12.155.13.9','',0,0,0.142320634422,'20211008194424','20201027154019',717010582,6,'wikitext',NULL),(8569497,1,'Lolicon/Archive_006','',1,1,0.765643552338,'20211007031516','20191013083751',96004654,36,'wikitext',NULL),(8569498,3,'Fergielover895','',0,0,0.7459912645590001,'20200422090641','20201005154837',99473117,3142,'wikitext',NULL),(8569499,0,'Friedrich,_Prince_of_Waldeck_and_Pyrmont','',0,0,0.883677767656,'20211031062823','20211029193808',1020397979,6693,'wikitext',NULL);\\n\""
      ]
     },
     "execution_count": 79,
     "metadata": {},
     "output_type": "execute_result"
    }
   ],
   "source": [
    "prev_line[-500:]"
   ]
  },
  {
   "cell_type": "markdown",
   "id": "e0945f70-ade2-4d53-8119-70ceb3a7eaac",
   "metadata": {
    "tags": []
   },
   "source": [
    "#### Get final primary key value of mysql table"
   ]
  },
  {
   "cell_type": "code",
   "execution_count": 90,
   "id": "3efe683c-2301-464f-b95a-1fc94a696311",
   "metadata": {},
   "outputs": [
    {
     "data": {
      "text/plain": [
       "13880355"
      ]
     },
     "execution_count": 90,
     "metadata": {},
     "output_type": "execute_result"
    }
   ],
   "source": [
    "cur_mysql.execute('SELECT page_id FROM page ORDER BY page_id DESC LIMIT 1;')\n",
    "last_mysql_primarykey = cur_mysql.fetchall()[0][0]\n",
    "last_mysql_primarykey"
   ]
  },
  {
   "cell_type": "markdown",
   "id": "b9b80872-218d-4c36-a6dd-54415afd26bc",
   "metadata": {
    "tags": []
   },
   "source": [
    "# Check if there's a primary key match"
   ]
  },
  {
   "cell_type": "markdown",
   "id": "ead04296-8d87-4201-973f-ece617a5fbb1",
   "metadata": {},
   "source": [
    "*The latest primary key of the mysql table should match the last primary key of the previous sql dump line.*"
   ]
  },
  {
   "cell_type": "code",
   "execution_count": 42,
   "id": "12efc999-495b-4178-b1ac-da469d359656",
   "metadata": {},
   "outputs": [
    {
     "data": {
      "text/plain": [
       "False"
      ]
     },
     "execution_count": 42,
     "metadata": {},
     "output_type": "execute_result"
    }
   ],
   "source": [
    "last_dumpline_primarykey == last_mysql_primarykey"
   ]
  },
  {
   "cell_type": "markdown",
   "id": "a7599581-98e5-44e6-8353-b0b9ff173dc2",
   "metadata": {
    "tags": []
   },
   "source": [
    "### Populate mysql table with dumpfile lines"
   ]
  },
  {
   "cell_type": "raw",
   "id": "b3430bcc-5dcb-44c1-9b96-9d56325b8075",
   "metadata": {},
   "source": [
    "for i in range(start_idx, end_idx):\n",
    "    print(i)\n",
    "    line = get_those_rows(i, i+1, dump_url)[0]\n",
    "    line = line.replace('INSERT', 'REPLACE', 1)\n",
    "    cur_mysql.execute(line)\n",
    "    db_mysql.commit()"
   ]
  }
 ],
 "metadata": {
  "kernelspec": {
   "display_name": "Python 3 (ipykernel)",
   "language": "python",
   "name": "python3"
  },
  "language_info": {
   "codemirror_mode": {
    "name": "ipython",
    "version": 3
   },
   "file_extension": ".py",
   "mimetype": "text/x-python",
   "name": "python",
   "nbconvert_exporter": "python",
   "pygments_lexer": "ipython3",
   "version": "3.9.7"
  }
 },
 "nbformat": 4,
 "nbformat_minor": 5
}
