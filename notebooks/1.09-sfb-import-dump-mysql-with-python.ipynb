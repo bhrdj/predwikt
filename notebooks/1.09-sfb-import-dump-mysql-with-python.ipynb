{
 "cells": [
  {
   "cell_type": "markdown",
   "id": "019f44b4-dc38-4890-b35f-86553ee18b43",
   "metadata": {},
   "source": [
    "# Import dump into MySQL with Python"
   ]
  },
  {
   "cell_type": "markdown",
   "id": "5c0e0ec7-7d15-4dc0-9e31-3b5c6b1b5b94",
   "metadata": {
    "tags": []
   },
   "source": [
    "## Imports and paths"
   ]
  },
  {
   "cell_type": "code",
   "execution_count": 1,
   "id": "034cb61b-c902-49b9-8834-f9afddafdd41",
   "metadata": {},
   "outputs": [],
   "source": [
    "import os\n",
    "from pathlib import Path\n",
    "import pandas as pd\n",
    "import mysql.connector as mysql"
   ]
  },
  {
   "cell_type": "code",
   "execution_count": 2,
   "id": "9f89d54c-2e0b-48c1-ba8d-c82d474bd74a",
   "metadata": {},
   "outputs": [],
   "source": [
    "home_path = str(Path.home())\n",
    "os.chdir(home_path + '/git/predwikt/notebooks')"
   ]
  },
  {
   "cell_type": "markdown",
   "id": "8b030263-cd5e-410d-988b-96b593d12e5b",
   "metadata": {
    "tags": []
   },
   "source": [
    "## Starting / Restarting MariaDB after it dies:"
   ]
  },
  {
   "cell_type": "markdown",
   "id": "35ecd90e-bf91-413f-b318-ad49dac38f44",
   "metadata": {
    "jp-MarkdownHeadingCollapsed": true,
    "tags": []
   },
   "source": [
    "### Initialize in bash"
   ]
  },
  {
   "cell_type": "markdown",
   "id": "9c9b4ffe-9061-4ad8-9388-80c1a9e8c0c9",
   "metadata": {},
   "source": [
    "**bash**\n",
    "```bash\n",
    "service mysqld start\n",
    "netstat -lnp | grep mysql\n",
    "```\n",
    "(I had to use mysqld not mysql: [link](https://stackoverflow.com/questions/11990708/error-cant-connect-to-local-mysql-server-through-socket-var-run-mysqld-mysq))"
   ]
  },
  {
   "cell_type": "markdown",
   "id": "0d0557c2-7c12-42d3-8483-9da847e31cd7",
   "metadata": {
    "tags": []
   },
   "source": [
    "### Starting mysql.connect"
   ]
  },
  {
   "cell_type": "markdown",
   "id": "20e32094-0e07-4620-91c4-55a572fa90ef",
   "metadata": {
    "jp-MarkdownHeadingCollapsed": true,
    "tags": []
   },
   "source": [
    "#### Get passwords for mysql.connect"
   ]
  },
  {
   "cell_type": "code",
   "execution_count": null,
   "id": "4acd9365-5cfa-4bc4-abe2-eaaf5d57653a",
   "metadata": {},
   "outputs": [],
   "source": [
    "mysql_superuser = 'root'\n",
    "# mysql_su_pass = input(f'Enter the MySQL password for user {mysql_superuser}: ')\n",
    "mysql_defaultuser = 'bhrdwj'\n",
    "# mysql_def_pass = input(f'Enter the MySQL password for user {mysql_defaultuser}: ')"
   ]
  },
  {
   "cell_type": "markdown",
   "id": "dcfca6ec-2349-4d7f-89a4-0c6a82a37c4f",
   "metadata": {
    "tags": []
   },
   "source": [
    "#### Connect mysql.connect and initialize cursor"
   ]
  },
  {
   "cell_type": "code",
   "execution_count": null,
   "id": "b13dba65-9982-41be-a143-c5f80e50ad96",
   "metadata": {},
   "outputs": [],
   "source": [
    "db_mysql = mysql.connect(\n",
    "    host = \"localhost\",\n",
    "    user = \"root\",\n",
    "    passwd = mysql_su_pass,\n",
    "    database='latest_page' # not the first time around\n",
    ")\n",
    "cur_mysql = db_mysql.cursor()"
   ]
  },
  {
   "cell_type": "markdown",
   "id": "8285f4a0-0ec0-4614-9fb8-7db8a53ca37d",
   "metadata": {
    "jp-MarkdownHeadingCollapsed": true,
    "tags": []
   },
   "source": [
    "#### Check current user"
   ]
  },
  {
   "cell_type": "code",
   "execution_count": null,
   "id": "e8ff6eae-9bc6-42ba-a640-a652e32bdeff",
   "metadata": {},
   "outputs": [],
   "source": [
    "cur_mysql.execute('select user();')\n",
    "print(cur_mysql.fetchall())\n",
    "cur_mysql.execute('select database();')\n",
    "print(cur_mysql.fetchall())\n",
    "cur_mysql.execute('show tables;')\n",
    "print(cur_mysql.fetchall())"
   ]
  },
  {
   "cell_type": "code",
   "execution_count": null,
   "id": "f2f3f1c3-b4e3-427a-8396-3b66db812f98",
   "metadata": {},
   "outputs": [],
   "source": [
    "cur_mysql.execute('DESCRIBE page;')\n",
    "schema = pd.DataFrame(cur_mysql.fetchall(), columns=['Field','Type','Null','Key','Default','Extra'])\n",
    "schema;"
   ]
  },
  {
   "cell_type": "markdown",
   "id": "a5344106-5a4b-47b2-b693-30d5ce519609",
   "metadata": {
    "jp-MarkdownHeadingCollapsed": true,
    "tags": []
   },
   "source": [
    "### Drop the incomplete table and put back schema"
   ]
  },
  {
   "cell_type": "markdown",
   "id": "222ae4e7-55b1-438c-a9ea-7b1aa1b824cb",
   "metadata": {
    "jp-MarkdownHeadingCollapsed": true,
    "tags": []
   },
   "source": [
    "#### Drop the incomplete table"
   ]
  },
  {
   "cell_type": "raw",
   "id": "698dfedb-21b5-449a-b3fd-d29278f12e30",
   "metadata": {},
   "source": [
    "cur_mysql.execute(\"DROP TABLE IF EXISTS `page`;\")\n",
    "# cur_mysql.fetchall()"
   ]
  },
  {
   "cell_type": "markdown",
   "id": "58b7dd0a-1e12-4f75-b4bd-debe45dc7cee",
   "metadata": {
    "jp-MarkdownHeadingCollapsed": true,
    "tags": []
   },
   "source": [
    "#### Put create_table_str into memory"
   ]
  },
  {
   "cell_type": "raw",
   "id": "ac05a5b3-bed7-4d6b-bfeb-4c49189e634a",
   "metadata": {},
   "source": [
    "create_table_str = '''\n",
    "\n",
    "CREATE TABLE `page` (\n",
    "\n",
    "  `page_id` int(8) unsigned NOT NULL AUTO_INCREMENT,\n",
    "\n",
    "  `page_namespace` int(11) NOT NULL DEFAULT 0,\n",
    "\n",
    "  `page_title` varbinary(255) NOT NULL DEFAULT '',\n",
    "\n",
    "  `page_restrictions` tinyblob DEFAULT NULL,\n",
    "\n",
    "  `page_is_redirect` tinyint(1) unsigned NOT NULL DEFAULT 0,\n",
    "\n",
    "  `page_is_new` tinyint(1) unsigned NOT NULL DEFAULT 0,\n",
    "\n",
    "  `page_random` double unsigned NOT NULL DEFAULT 0,\n",
    "\n",
    "  `page_touched` varbinary(14) NOT NULL,\n",
    "\n",
    "  `page_links_updated` varbinary(14) DEFAULT NULL,\n",
    "\n",
    "  `page_latest` int(8) unsigned NOT NULL DEFAULT 0,\n",
    "\n",
    "  `page_len` int(8) unsigned NOT NULL DEFAULT 0,\n",
    "\n",
    "  `page_content_model` varbinary(32) DEFAULT NULL,\n",
    "\n",
    "  `page_lang` varbinary(35) DEFAULT NULL,\n",
    "\n",
    "  PRIMARY KEY (`page_id`),\n",
    "\n",
    "  UNIQUE KEY `page_name_title` (`page_namespace`,`page_title`),\n",
    "\n",
    "  KEY `page_random` (`page_random`),\n",
    "\n",
    "  KEY `page_len` (`page_len`),\n",
    "\n",
    "  KEY `page_redirect_namespace_len` (`page_is_redirect`,`page_namespace`,`page_len`)\n",
    "\n",
    ") ENGINE=InnoDB AUTO_INCREMENT=69166249 DEFAULT CHARSET=binary ROW_FORMAT=COMPRESSED;\n",
    "\n",
    "'''"
   ]
  },
  {
   "cell_type": "markdown",
   "id": "106419e4-769d-410d-930e-47e6a4e96a2b",
   "metadata": {
    "jp-MarkdownHeadingCollapsed": true,
    "tags": []
   },
   "source": [
    "#### Recreate the table schema"
   ]
  },
  {
   "cell_type": "raw",
   "id": "06c9c6a8-7cd1-4eec-9232-4d67ce3b76b9",
   "metadata": {},
   "source": [
    "cur_mysql.execute(create_table_str)"
   ]
  },
  {
   "cell_type": "markdown",
   "id": "efd7353f-f360-4804-9a66-b0fd3623dd9f",
   "metadata": {},
   "source": [
    "### Repopulate the table"
   ]
  },
  {
   "cell_type": "markdown",
   "id": "da7c3e7e-a431-42ab-a12d-896e63ce08e7",
   "metadata": {},
   "source": [
    "#### Populate one line worth of records into the table"
   ]
  },
  {
   "cell_type": "code",
   "execution_count": null,
   "id": "d2fc6da1-6f41-45ea-956b-719ccd214953",
   "metadata": {},
   "outputs": [],
   "source": [
    "# cur_mysql.execute()"
   ]
  },
  {
   "cell_type": "code",
   "execution_count": null,
   "id": "c34d0a99-7811-4f97-b5c7-11d2422eb3e4",
   "metadata": {},
   "outputs": [],
   "source": []
  },
  {
   "cell_type": "markdown",
   "id": "004c3f50-37e8-41dd-9474-4d1bcece423a",
   "metadata": {
    "tags": []
   },
   "source": [
    "### Check row count, get line lengths"
   ]
  },
  {
   "cell_type": "code",
   "execution_count": null,
   "id": "a7c00bc2-d65f-4262-8f54-1f236dc9acd1",
   "metadata": {},
   "outputs": [],
   "source": [
    "def open_dump(url):\n",
    "    return open(url, mode='r', encoding='UTF_8', errors='backslashreplace')\n",
    "\n",
    "dump_url = '../data/raw/enwiki-latest-page.sql'"
   ]
  },
  {
   "cell_type": "markdown",
   "id": "6554b5e5-de3e-4ad3-ae9f-1f1a4bf93d8c",
   "metadata": {
    "tags": []
   },
   "source": [
    "#### Check row count"
   ]
  },
  {
   "cell_type": "code",
   "execution_count": null,
   "id": "b26dafbd-377a-4b41-879f-8d699333beeb",
   "metadata": {},
   "outputs": [],
   "source": [
    "f = open_dump(dump_url)\n",
    "\n",
    "row_ct_sqldump = 0\n",
    "for line in f: \n",
    "    row_ct_sqldump+=1\n",
    "print(row_ct_sqldump)\n",
    "f.close()"
   ]
  },
  {
   "cell_type": "code",
   "execution_count": null,
   "id": "1f114832-1055-49fd-9c0c-780efb744d70",
   "metadata": {},
   "outputs": [],
   "source": [
    "line_lengths = get_line_lengths(dump_url)"
   ]
  },
  {
   "cell_type": "code",
   "execution_count": null,
   "id": "d0079e24-d6b0-4c95-8d9a-092416d0727e",
   "metadata": {},
   "outputs": [],
   "source": [
    "len(line_lengths)"
   ]
  },
  {
   "cell_type": "markdown",
   "id": "7971b4ae-2a19-46e3-a312-4d26cb9c5b16",
   "metadata": {
    "tags": []
   },
   "source": [
    "#### Define a function to get line lengths"
   ]
  },
  {
   "cell_type": "code",
   "execution_count": null,
   "id": "9c6f91fa-b0e0-4320-bdb3-d8f086978460",
   "metadata": {},
   "outputs": [],
   "source": [
    "def get_line_lengths(dump_url):\n",
    "    line_lengths = []\n",
    "    with open_dump(dump_url) as f:\n",
    "        for line in f:\n",
    "            line_lengths.append(line)\n",
    "    return line_lengths"
   ]
  },
  {
   "cell_type": "markdown",
   "id": "5cdfd6ae-bf2b-4c19-9913-a791e58771ae",
   "metadata": {
    "tags": []
   },
   "source": [
    "#### Define a function to get selected strings"
   ]
  },
  {
   "cell_type": "code",
   "execution_count": null,
   "id": "bfce5f40-75c2-474d-b439-4508d8c4ee4b",
   "metadata": {},
   "outputs": [],
   "source": [
    "def get_those_rows(start, end, dump_url):\n",
    "    those_rows = []\n",
    "    with open_dump(dump_url) as f:\n",
    "        for i in range(end):\n",
    "            if i < start:\n",
    "                f.readline()\n",
    "            elif i >= start:\n",
    "                those_rows.append(f.readline())\n",
    "            else:\n",
    "                break\n",
    "    return those_rows"
   ]
  },
  {
   "cell_type": "markdown",
   "id": "4758575a-52f7-4718-abc9-4362fbb3e662",
   "metadata": {
    "tags": []
   },
   "source": [
    "#### Get start/end row numbers for headers, data, footers"
   ]
  },
  {
   "cell_type": "code",
   "execution_count": null,
   "id": "41bd42d0-2a3e-479c-8b8e-4caecf61e795",
   "metadata": {},
   "outputs": [],
   "source": [
    "some_row_lengths =  list(map(len,some_rows_sqldump))"
   ]
  },
  {
   "cell_type": "code",
   "execution_count": null,
   "id": "647f2041-05da-4864-9b9a-ba9cc1a0da4d",
   "metadata": {},
   "outputs": [],
   "source": [
    "some_row_lengths_series = pd.Series(some_row_lengths, name='line_lengths')"
   ]
  },
  {
   "cell_type": "code",
   "execution_count": null,
   "id": "2253f471-19b9-44f6-8e4c-12aee8591f18",
   "metadata": {},
   "outputs": [],
   "source": [
    "i=0\n",
    "while some_row_lengths[i] < 10**4:\n",
    "    i+=1\n",
    "head_last_rownum = i-1\n",
    "data_first_rownum = i"
   ]
  },
  {
   "cell_type": "code",
   "execution_count": null,
   "id": "f3aa5e5f-f6ad-4ec5-909f-efcf66b70753",
   "metadata": {},
   "outputs": [],
   "source": [
    "i=row_ct_sqldump-99\n",
    "while some_row_lengths[i] > 10**4:\n",
    "    i+=1\n",
    "data_last_rownum = i-1\n",
    "foot_first_rownum = i"
   ]
  },
  {
   "cell_type": "markdown",
   "id": "ac5f99af-c4aa-4138-ba72-a20fbfa3ec73",
   "metadata": {
    "jp-MarkdownHeadingCollapsed": true,
    "tags": []
   },
   "source": [
    "#### Display start/end row numbers"
   ]
  },
  {
   "cell_type": "code",
   "execution_count": null,
   "id": "e358ceb0-718f-4397-8549-5a179f0c2580",
   "metadata": {},
   "outputs": [],
   "source": [
    "display(0, head_last_rownum, data_first_rownum, data_last_rownum, foot_first_rownum, row_ct_sqldump)"
   ]
  },
  {
   "cell_type": "markdown",
   "id": "5071f119-e588-4391-87fe-f927445c57b1",
   "metadata": {
    "tags": []
   },
   "source": [
    "#### Check start/end row numbers for headers, data, footers"
   ]
  },
  {
   "cell_type": "code",
   "execution_count": null,
   "id": "bd07dde5-9912-4786-a0f9-a14911ceeef3",
   "metadata": {},
   "outputs": [],
   "source": [
    "some_rows_sqldump[head_last_rownum][:100],'',some_rows_sqldump[data_first_rownum][:300]"
   ]
  },
  {
   "cell_type": "code",
   "execution_count": null,
   "id": "78245145-2804-46c6-a21b-4aaa8095ee5b",
   "metadata": {},
   "outputs": [],
   "source": [
    "some_rows_sqldump[data_last_rownum][:300],'',some_rows_sqldump[foot_first_rownum][:100]"
   ]
  }
 ],
 "metadata": {
  "kernelspec": {
   "display_name": "Python 3 (ipykernel)",
   "language": "python",
   "name": "python3"
  },
  "language_info": {
   "codemirror_mode": {
    "name": "ipython",
    "version": 3
   },
   "file_extension": ".py",
   "mimetype": "text/x-python",
   "name": "python",
   "nbconvert_exporter": "python",
   "pygments_lexer": "ipython3",
   "version": "3.9.7"
  }
 },
 "nbformat": 4,
 "nbformat_minor": 5
}
