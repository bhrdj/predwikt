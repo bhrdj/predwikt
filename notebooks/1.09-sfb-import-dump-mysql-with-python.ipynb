{
 "cells": [
  {
   "cell_type": "markdown",
   "id": "019f44b4-dc38-4890-b35f-86553ee18b43",
   "metadata": {},
   "source": [
    "# Import dump into MySQL with Python"
   ]
  },
  {
   "cell_type": "markdown",
   "id": "5c0e0ec7-7d15-4dc0-9e31-3b5c6b1b5b94",
   "metadata": {
    "tags": []
   },
   "source": [
    "## Imports and paths"
   ]
  },
  {
   "cell_type": "code",
   "execution_count": 1,
   "id": "034cb61b-c902-49b9-8834-f9afddafdd41",
   "metadata": {},
   "outputs": [],
   "source": [
    "import os\n",
    "from pathlib import Path\n",
    "import re\n",
    "import pandas as pd\n",
    "import mysql.connector as mysql\n",
    "import matplotlib.pyplot as plt"
   ]
  },
  {
   "cell_type": "code",
   "execution_count": 2,
   "id": "9f89d54c-2e0b-48c1-ba8d-c82d474bd74a",
   "metadata": {},
   "outputs": [],
   "source": [
    "home_path = str(Path.home())\n",
    "os.chdir(home_path + '/git/predwikt/notebooks')"
   ]
  },
  {
   "cell_type": "markdown",
   "id": "8b030263-cd5e-410d-988b-96b593d12e5b",
   "metadata": {
    "tags": []
   },
   "source": [
    "## Starting / Restarting MariaDB after it dies:"
   ]
  },
  {
   "cell_type": "markdown",
   "id": "35ecd90e-bf91-413f-b318-ad49dac38f44",
   "metadata": {
    "tags": []
   },
   "source": [
    "### Initialize in bash"
   ]
  },
  {
   "cell_type": "markdown",
   "id": "9c9b4ffe-9061-4ad8-9388-80c1a9e8c0c9",
   "metadata": {},
   "source": [
    "**bash**\n",
    "```bash\n",
    "service mysqld start\n",
    "netstat -lnp | grep mysql\n",
    "```\n",
    "(I had to use mysqld not mysql: [link](https://stackoverflow.com/questions/11990708/error-cant-connect-to-local-mysql-server-through-socket-var-run-mysqld-mysq))"
   ]
  },
  {
   "cell_type": "markdown",
   "id": "a5344106-5a4b-47b2-b693-30d5ce519609",
   "metadata": {
    "tags": []
   },
   "source": [
    "### ***If no db:*** Drop the incomplete table and put back schema"
   ]
  },
  {
   "cell_type": "markdown",
   "id": "222ae4e7-55b1-438c-a9ea-7b1aa1b824cb",
   "metadata": {
    "tags": []
   },
   "source": [
    "#### Drop the incomplete table"
   ]
  },
  {
   "cell_type": "raw",
   "id": "698dfedb-21b5-449a-b3fd-d29278f12e30",
   "metadata": {},
   "source": [
    "cur_mysql.execute(\"DROP TABLE IF EXISTS `page`;\")\n",
    "# cur_mysql.fetchall()"
   ]
  },
  {
   "cell_type": "markdown",
   "id": "58b7dd0a-1e12-4f75-b4bd-debe45dc7cee",
   "metadata": {
    "tags": []
   },
   "source": [
    "#### Put create_table_str into memory"
   ]
  },
  {
   "cell_type": "raw",
   "id": "ac05a5b3-bed7-4d6b-bfeb-4c49189e634a",
   "metadata": {},
   "source": [
    "create_table_str = '''\n",
    "\n",
    "CREATE TABLE `page` (\n",
    "\n",
    "  `page_id` int(8) unsigned NOT NULL AUTO_INCREMENT,\n",
    "\n",
    "  `page_namespace` int(11) NOT NULL DEFAULT 0,\n",
    "\n",
    "  `page_title` varbinary(255) NOT NULL DEFAULT '',\n",
    "\n",
    "  `page_restrictions` tinyblob DEFAULT NULL,\n",
    "\n",
    "  `page_is_redirect` tinyint(1) unsigned NOT NULL DEFAULT 0,\n",
    "\n",
    "  `page_is_new` tinyint(1) unsigned NOT NULL DEFAULT 0,\n",
    "\n",
    "  `page_random` double unsigned NOT NULL DEFAULT 0,\n",
    "\n",
    "  `page_touched` varbinary(14) NOT NULL,\n",
    "\n",
    "  `page_links_updated` varbinary(14) DEFAULT NULL,\n",
    "\n",
    "  `page_latest` int(8) unsigned NOT NULL DEFAULT 0,\n",
    "\n",
    "  `page_len` int(8) unsigned NOT NULL DEFAULT 0,\n",
    "\n",
    "  `page_content_model` varbinary(32) DEFAULT NULL,\n",
    "\n",
    "  `page_lang` varbinary(35) DEFAULT NULL,\n",
    "\n",
    "  PRIMARY KEY (`page_id`),\n",
    "\n",
    "  UNIQUE KEY `page_name_title` (`page_namespace`,`page_title`),\n",
    "\n",
    "  KEY `page_random` (`page_random`),\n",
    "\n",
    "  KEY `page_len` (`page_len`),\n",
    "\n",
    "  KEY `page_redirect_namespace_len` (`page_is_redirect`,`page_namespace`,`page_len`)\n",
    "\n",
    ") ENGINE=InnoDB AUTO_INCREMENT=69166249 DEFAULT CHARSET=binary ROW_FORMAT=COMPRESSED;\n",
    "\n",
    "'''"
   ]
  },
  {
   "cell_type": "markdown",
   "id": "106419e4-769d-410d-930e-47e6a4e96a2b",
   "metadata": {
    "tags": []
   },
   "source": [
    "#### Recreate the table schema"
   ]
  },
  {
   "cell_type": "raw",
   "id": "06c9c6a8-7cd1-4eec-9232-4d67ce3b76b9",
   "metadata": {},
   "source": [
    "cur_mysql.execute(create_table_str)"
   ]
  },
  {
   "cell_type": "markdown",
   "id": "0d0557c2-7c12-42d3-8483-9da847e31cd7",
   "metadata": {
    "tags": []
   },
   "source": [
    "### Starting mysql.connect"
   ]
  },
  {
   "cell_type": "markdown",
   "id": "20e32094-0e07-4620-91c4-55a572fa90ef",
   "metadata": {
    "tags": []
   },
   "source": [
    "#### Get passwords for mysql.connect"
   ]
  },
  {
   "cell_type": "code",
   "execution_count": 5,
   "id": "4acd9365-5cfa-4bc4-abe2-eaaf5d57653a",
   "metadata": {},
   "outputs": [],
   "source": [
    "mysql_superuser = 'root'\n",
    "# mysql_su_pass = input(f'Enter the MySQL password for user {mysql_superuser}: ')\n",
    "mysql_defaultuser = 'bhrdwj'\n",
    "# mysql_def_pass = input(f'Enter the MySQL password for user {mysql_defaultuser}: ')"
   ]
  },
  {
   "cell_type": "markdown",
   "id": "dcfca6ec-2349-4d7f-89a4-0c6a82a37c4f",
   "metadata": {
    "tags": []
   },
   "source": [
    "#### Connect mysql.connect and initialize cursor"
   ]
  },
  {
   "cell_type": "code",
   "execution_count": 39,
   "id": "b13dba65-9982-41be-a143-c5f80e50ad96",
   "metadata": {},
   "outputs": [],
   "source": [
    "db_mysql = mysql.connect(\n",
    "    host = \"localhost\",\n",
    "    user = \"root\",\n",
    "    passwd = mysql_su_pass,\n",
    "    database='latest_page' # not the first time around\n",
    ")\n",
    "cur_mysql = db_mysql.cursor()"
   ]
  },
  {
   "cell_type": "markdown",
   "id": "788713df-a75e-4477-bae2-4dc0123e3eb0",
   "metadata": {
    "tags": []
   },
   "source": [
    "#### Close connection"
   ]
  },
  {
   "cell_type": "raw",
   "id": "237cd258-aa59-42fb-9647-376b4be8df7e",
   "metadata": {},
   "source": [
    "db_mysql.close()"
   ]
  },
  {
   "cell_type": "markdown",
   "id": "a4b6ed92-e316-4f35-876d-e9e5d41e84bb",
   "metadata": {
    "tags": []
   },
   "source": [
    "### Check connection"
   ]
  },
  {
   "cell_type": "markdown",
   "id": "8285f4a0-0ec0-4614-9fb8-7db8a53ca37d",
   "metadata": {
    "tags": []
   },
   "source": [
    "#### Check current user and schema"
   ]
  },
  {
   "cell_type": "code",
   "execution_count": 7,
   "id": "e8ff6eae-9bc6-42ba-a640-a652e32bdeff",
   "metadata": {},
   "outputs": [
    {
     "name": "stdout",
     "output_type": "stream",
     "text": [
      "[('root@localhost',)]\n",
      "[('latest_page',)]\n",
      "[('page',)]\n"
     ]
    }
   ],
   "source": [
    "cur_mysql.execute('select user();')\n",
    "print(cur_mysql.fetchall())\n",
    "cur_mysql.execute('select database();')\n",
    "print(cur_mysql.fetchall())\n",
    "cur_mysql.execute('show tables;')\n",
    "print(cur_mysql.fetchall())"
   ]
  },
  {
   "cell_type": "code",
   "execution_count": 8,
   "id": "f2f3f1c3-b4e3-427a-8396-3b66db812f98",
   "metadata": {},
   "outputs": [
    {
     "data": {
      "text/html": [
       "<div>\n",
       "<style scoped>\n",
       "    .dataframe tbody tr th:only-of-type {\n",
       "        vertical-align: middle;\n",
       "    }\n",
       "\n",
       "    .dataframe tbody tr th {\n",
       "        vertical-align: top;\n",
       "    }\n",
       "\n",
       "    .dataframe thead th {\n",
       "        text-align: right;\n",
       "    }\n",
       "</style>\n",
       "<table border=\"1\" class=\"dataframe\">\n",
       "  <thead>\n",
       "    <tr style=\"text-align: right;\">\n",
       "      <th></th>\n",
       "      <th>Field</th>\n",
       "      <th>Type</th>\n",
       "      <th>Null</th>\n",
       "      <th>Key</th>\n",
       "      <th>Default</th>\n",
       "      <th>Extra</th>\n",
       "    </tr>\n",
       "  </thead>\n",
       "  <tbody>\n",
       "    <tr>\n",
       "      <th>0</th>\n",
       "      <td>page_id</td>\n",
       "      <td>int(8) unsigned</td>\n",
       "      <td>NO</td>\n",
       "      <td>PRI</td>\n",
       "      <td>None</td>\n",
       "      <td>auto_increment</td>\n",
       "    </tr>\n",
       "    <tr>\n",
       "      <th>1</th>\n",
       "      <td>page_namespace</td>\n",
       "      <td>int(11)</td>\n",
       "      <td>NO</td>\n",
       "      <td>MUL</td>\n",
       "      <td>0</td>\n",
       "      <td></td>\n",
       "    </tr>\n",
       "    <tr>\n",
       "      <th>2</th>\n",
       "      <td>page_title</td>\n",
       "      <td>varbinary(255)</td>\n",
       "      <td>NO</td>\n",
       "      <td></td>\n",
       "      <td></td>\n",
       "      <td></td>\n",
       "    </tr>\n",
       "    <tr>\n",
       "      <th>3</th>\n",
       "      <td>page_restrictions</td>\n",
       "      <td>tinyblob</td>\n",
       "      <td>YES</td>\n",
       "      <td></td>\n",
       "      <td>None</td>\n",
       "      <td></td>\n",
       "    </tr>\n",
       "    <tr>\n",
       "      <th>4</th>\n",
       "      <td>page_is_redirect</td>\n",
       "      <td>tinyint(1) unsigned</td>\n",
       "      <td>NO</td>\n",
       "      <td>MUL</td>\n",
       "      <td>0</td>\n",
       "      <td></td>\n",
       "    </tr>\n",
       "    <tr>\n",
       "      <th>5</th>\n",
       "      <td>page_is_new</td>\n",
       "      <td>tinyint(1) unsigned</td>\n",
       "      <td>NO</td>\n",
       "      <td></td>\n",
       "      <td>0</td>\n",
       "      <td></td>\n",
       "    </tr>\n",
       "    <tr>\n",
       "      <th>6</th>\n",
       "      <td>page_random</td>\n",
       "      <td>double unsigned</td>\n",
       "      <td>NO</td>\n",
       "      <td>MUL</td>\n",
       "      <td>0</td>\n",
       "      <td></td>\n",
       "    </tr>\n",
       "    <tr>\n",
       "      <th>7</th>\n",
       "      <td>page_touched</td>\n",
       "      <td>varbinary(14)</td>\n",
       "      <td>NO</td>\n",
       "      <td></td>\n",
       "      <td>None</td>\n",
       "      <td></td>\n",
       "    </tr>\n",
       "    <tr>\n",
       "      <th>8</th>\n",
       "      <td>page_links_updated</td>\n",
       "      <td>varbinary(14)</td>\n",
       "      <td>YES</td>\n",
       "      <td></td>\n",
       "      <td>None</td>\n",
       "      <td></td>\n",
       "    </tr>\n",
       "    <tr>\n",
       "      <th>9</th>\n",
       "      <td>page_latest</td>\n",
       "      <td>int(8) unsigned</td>\n",
       "      <td>NO</td>\n",
       "      <td></td>\n",
       "      <td>0</td>\n",
       "      <td></td>\n",
       "    </tr>\n",
       "    <tr>\n",
       "      <th>10</th>\n",
       "      <td>page_len</td>\n",
       "      <td>int(8) unsigned</td>\n",
       "      <td>NO</td>\n",
       "      <td>MUL</td>\n",
       "      <td>0</td>\n",
       "      <td></td>\n",
       "    </tr>\n",
       "    <tr>\n",
       "      <th>11</th>\n",
       "      <td>page_content_model</td>\n",
       "      <td>varbinary(32)</td>\n",
       "      <td>YES</td>\n",
       "      <td></td>\n",
       "      <td>None</td>\n",
       "      <td></td>\n",
       "    </tr>\n",
       "    <tr>\n",
       "      <th>12</th>\n",
       "      <td>page_lang</td>\n",
       "      <td>varbinary(35)</td>\n",
       "      <td>YES</td>\n",
       "      <td></td>\n",
       "      <td>None</td>\n",
       "      <td></td>\n",
       "    </tr>\n",
       "  </tbody>\n",
       "</table>\n",
       "</div>"
      ],
      "text/plain": [
       "                 Field                 Type Null  Key Default           Extra\n",
       "0              page_id      int(8) unsigned   NO  PRI    None  auto_increment\n",
       "1       page_namespace              int(11)   NO  MUL       0                \n",
       "2           page_title       varbinary(255)   NO                             \n",
       "3    page_restrictions             tinyblob  YES         None                \n",
       "4     page_is_redirect  tinyint(1) unsigned   NO  MUL       0                \n",
       "5          page_is_new  tinyint(1) unsigned   NO            0                \n",
       "6          page_random      double unsigned   NO  MUL       0                \n",
       "7         page_touched        varbinary(14)   NO         None                \n",
       "8   page_links_updated        varbinary(14)  YES         None                \n",
       "9          page_latest      int(8) unsigned   NO            0                \n",
       "10            page_len      int(8) unsigned   NO  MUL       0                \n",
       "11  page_content_model        varbinary(32)  YES         None                \n",
       "12           page_lang        varbinary(35)  YES         None                "
      ]
     },
     "execution_count": 8,
     "metadata": {},
     "output_type": "execute_result"
    }
   ],
   "source": [
    "cur_mysql.execute('DESCRIBE page;')\n",
    "schema = pd.DataFrame(cur_mysql.fetchall(), columns=['Field','Type','Null','Key','Default','Extra'])\n",
    "schema"
   ]
  },
  {
   "cell_type": "markdown",
   "id": "78167784-e6b6-414f-9eb2-c6febbe33ef8",
   "metadata": {
    "tags": []
   },
   "source": [
    "#### Check if table is empty"
   ]
  },
  {
   "cell_type": "code",
   "execution_count": 9,
   "id": "2b7e854d-69af-471e-abf5-9cfbbb75ab56",
   "metadata": {},
   "outputs": [
    {
     "data": {
      "text/plain": [
       "[(1,)]"
      ]
     },
     "execution_count": 9,
     "metadata": {},
     "output_type": "execute_result"
    }
   ],
   "source": [
    "cur_mysql.execute('SELECT EXISTS(SELECT 1 FROM page);')\n",
    "cur_mysql.fetchall()"
   ]
  },
  {
   "cell_type": "markdown",
   "id": "5944a203-433c-4816-824c-9ab52cb678d3",
   "metadata": {
    "tags": []
   },
   "source": [
    "## Get params of sql dump"
   ]
  },
  {
   "cell_type": "markdown",
   "id": "101670e9-98e7-497b-b006-ba204216c283",
   "metadata": {
    "tags": []
   },
   "source": [
    "### Define EDA functions"
   ]
  },
  {
   "cell_type": "markdown",
   "id": "7a349469-c894-4fc0-85aa-fdc38ecd6aec",
   "metadata": {
    "tags": []
   },
   "source": [
    "#### Function to open a dump"
   ]
  },
  {
   "cell_type": "markdown",
   "id": "b6299a3c-1315-4236-af73-66259c270241",
   "metadata": {},
   "source": [
    "***ONLY USE THIS IN*** ```with open_dump(dump_url) as f:``` ***CONTEXT***"
   ]
  },
  {
   "cell_type": "code",
   "execution_count": 13,
   "id": "a7c00bc2-d65f-4262-8f54-1f236dc9acd1",
   "metadata": {},
   "outputs": [],
   "source": [
    "def open_dump(url):\n",
    "    return open(url, mode='r', encoding='UTF_8', errors='backslashreplace')\n",
    "\n",
    "dump_url = '../data/raw/enwiki-latest-page.sql'"
   ]
  },
  {
   "cell_type": "markdown",
   "id": "7971b4ae-2a19-46e3-a312-4d26cb9c5b16",
   "metadata": {
    "tags": []
   },
   "source": [
    "#### Define a function to get line lengths"
   ]
  },
  {
   "cell_type": "code",
   "execution_count": 14,
   "id": "9c6f91fa-b0e0-4320-bdb3-d8f086978460",
   "metadata": {},
   "outputs": [],
   "source": [
    "def get_line_lengths(dump_url):\n",
    "    line_lengths = []\n",
    "    with open_dump(dump_url) as f:\n",
    "        for line in f:\n",
    "            line_lengths.append(len(line))\n",
    "    return line_lengths"
   ]
  },
  {
   "cell_type": "markdown",
   "id": "70f011f5-825d-40dc-a1df-b400847fa9b3",
   "metadata": {
    "tags": []
   },
   "source": [
    "#### Define a function to plot line lengths"
   ]
  },
  {
   "cell_type": "code",
   "execution_count": 15,
   "id": "a8092d95-adae-4bf6-b88a-90a9b60ac580",
   "metadata": {},
   "outputs": [],
   "source": [
    "def plot_line_lengths(ll):\n",
    "    s = pd.Series(ll, name='line_lengths')\n",
    "    fig = plt.figure()\n",
    "    ax = plt.gca()\n",
    "    s.plot(ax=ax)\n",
    "    ax.set_xticks([])\n",
    "    ax.set_xlabel('rows of file')\n",
    "    ax.set_ylabel('line length')\n",
    "    plt.show()"
   ]
  },
  {
   "cell_type": "markdown",
   "id": "004c3f50-37e8-41dd-9474-4d1bcece423a",
   "metadata": {
    "tags": []
   },
   "source": [
    "### Check dump params"
   ]
  },
  {
   "cell_type": "markdown",
   "id": "6554b5e5-de3e-4ad3-ae9f-1f1a4bf93d8c",
   "metadata": {
    "tags": []
   },
   "source": [
    "#### Get line lengths and dump length"
   ]
  },
  {
   "cell_type": "code",
   "execution_count": 16,
   "id": "d5e2befc-602b-4fe7-bf3f-9d6082d02c35",
   "metadata": {},
   "outputs": [],
   "source": [
    "line_lengths = get_line_lengths(dump_url)\n",
    "dump_length = len(line_lengths)"
   ]
  },
  {
   "cell_type": "markdown",
   "id": "7e6cfd42-1c7c-4670-b270-a2b95577a274",
   "metadata": {
    "tags": []
   },
   "source": [
    "#### Plot line lengths"
   ]
  },
  {
   "cell_type": "code",
   "execution_count": 17,
   "id": "d0079e24-d6b0-4c95-8d9a-092416d0727e",
   "metadata": {},
   "outputs": [
    {
     "data": {
      "image/png": "[encoded data removed]",
      "text/plain": [
       "<Figure size 432x288 with 1 Axes>"
      ]
     },
     "metadata": {
      "needs_background": "light"
     },
     "output_type": "display_data"
    }
   ],
   "source": [
    "plot_line_lengths(line_lengths)"
   ]
  },
  {
   "cell_type": "markdown",
   "id": "4758575a-52f7-4718-abc9-4362fbb3e662",
   "metadata": {
    "tags": []
   },
   "source": [
    "#### Get start/end row numbers for headers, data, footers"
   ]
  },
  {
   "cell_type": "code",
   "execution_count": 18,
   "id": "2253f471-19b9-44f6-8e4c-12aee8591f18",
   "metadata": {},
   "outputs": [],
   "source": [
    "i=0\n",
    "while line_lengths[i] < 10**4: i+=1\n",
    "head_last_rownum = i-1\n",
    "data_first_rownum = i"
   ]
  },
  {
   "cell_type": "code",
   "execution_count": 19,
   "id": "f3aa5e5f-f6ad-4ec5-909f-efcf66b70753",
   "metadata": {},
   "outputs": [],
   "source": [
    "i=dump_length-100\n",
    "while line_lengths[i] > 10**4: i+=1\n",
    "data_last_rownum = i-1\n",
    "foot_first_rownum = i"
   ]
  },
  {
   "cell_type": "markdown",
   "id": "5071f119-e588-4391-87fe-f927445c57b1",
   "metadata": {
    "tags": []
   },
   "source": [
    "### Show start/end row numbers for dump headers, data, footers"
   ]
  },
  {
   "cell_type": "code",
   "execution_count": 85,
   "id": "04bfdd48-55c9-4090-95f7-742b566e0fda",
   "metadata": {},
   "outputs": [
    {
     "data": {
      "text/plain": [
       "(0, 50, 51, 6458, 6459, 6471)"
      ]
     },
     "execution_count": 85,
     "metadata": {},
     "output_type": "execute_result"
    }
   ],
   "source": [
    "(0, head_last_rownum, data_first_rownum, \n",
    "    data_last_rownum, foot_first_rownum, dump_length)"
   ]
  },
  {
   "cell_type": "markdown",
   "id": "c66e897d-5dce-492d-8de9-eed2dcf299dc",
   "metadata": {},
   "source": [
    "## Import one line of SQL dump"
   ]
  },
  {
   "cell_type": "markdown",
   "id": "9ffdeda5-b4c5-454f-8a2a-f827a16ade6a",
   "metadata": {
    "tags": []
   },
   "source": [
    "### Check current mysql table"
   ]
  },
  {
   "cell_type": "markdown",
   "id": "ace79edd-7b29-4c0f-9263-61c82ee8f913",
   "metadata": {
    "tags": []
   },
   "source": [
    "#### Check length of mysql table"
   ]
  },
  {
   "cell_type": "code",
   "execution_count": 10,
   "id": "02e2b02b-8a3b-4704-93c9-e3671aded7bf",
   "metadata": {},
   "outputs": [
    {
     "data": {
      "text/plain": [
       "[(4351549,)]"
      ]
     },
     "execution_count": 10,
     "metadata": {},
     "output_type": "execute_result"
    }
   ],
   "source": [
    "cur_mysql.execute('SELECT COUNT(*) FROM page;')\n",
    "cur_mysql.fetchall()"
   ]
  },
  {
   "cell_type": "markdown",
   "id": "dc4cc443-1819-4fa3-ae49-1add3d0118af",
   "metadata": {},
   "source": [
    "5m 30s for 104 rows (over)"
   ]
  },
  {
   "cell_type": "code",
   "execution_count": 44,
   "id": "576e9eeb-136b-44ad-aba7-01a3ae20110d",
   "metadata": {},
   "outputs": [],
   "source": [
    "start_idx = data_first_rownum + 499\n",
    "end_idx   = start_idx + 502"
   ]
  },
  {
   "cell_type": "markdown",
   "id": "efd7353f-f360-4804-9a66-b0fd3623dd9f",
   "metadata": {
    "tags": []
   },
   "source": [
    "### Populate one dumpline into mysql very carefully"
   ]
  },
  {
   "cell_type": "markdown",
   "id": "5cdfd6ae-bf2b-4c19-9913-a791e58771ae",
   "metadata": {
    "tags": []
   },
   "source": [
    "#### Define a function to get a contiguous slice of rows of dump file"
   ]
  },
  {
   "cell_type": "code",
   "execution_count": 26,
   "id": "bfce5f40-75c2-474d-b439-4508d8c4ee4b",
   "metadata": {},
   "outputs": [],
   "source": [
    "def get_those_rows(start, end, dump_url):\n",
    "    those_rows = []\n",
    "    with open_dump(dump_url) as f:\n",
    "        for i in range(end):\n",
    "            if i < start:\n",
    "                f.readline()\n",
    "            elif i >= start:\n",
    "                those_rows.append(f.readline())\n",
    "            else:\n",
    "                break\n",
    "    return those_rows"
   ]
  },
  {
   "cell_type": "markdown",
   "id": "a1502bcf-20a2-493b-a26a-f16beb2696d9",
   "metadata": {
    "tags": []
   },
   "source": [
    "#### Get the next sql dump line"
   ]
  },
  {
   "cell_type": "markdown",
   "id": "809eb92f-8086-4e91-9e8a-e4466dead804",
   "metadata": {},
   "source": [
    "***COULDN'T GET last_dumpline_primary_key*** \n",
    "- some values have parentheses inside them.  \n",
    "- so I need to do a better regex search for last_dumpline_primarykey:\n",
    "    - I should only find a ( paren that isn't inside quotes."
   ]
  },
  {
   "cell_type": "code",
   "execution_count": 46,
   "id": "3cb401c4-f14a-42ed-866d-3b1bd45a41a1",
   "metadata": {},
   "outputs": [
    {
     "data": {
      "text/plain": [
       "\"9133959',75815677,1279,'wikitext',NULL),(6975552,0,'Waziristan_conflict','',1,0,0.6269458882950001,'20211101082700','20191009043147',920342248,46,'wikitext',NULL),(6975553,0,'Hyper_Realism','',1,0,0.393314793479,'20211031073809','20190929134002',459089634,25,'wikitext',NULL),(6975556,3,'Khavall','',0,1,0.459631802275,'20130906111534','20190929134005',75503325,547,'wikitext',NULL),(6975559,1,'Caribou_(train)','',0,0,0.259956602999,'20211028204151','20211028205057',646434731,625,'wikitext',NULL);\\n\""
      ]
     },
     "execution_count": 46,
     "metadata": {},
     "output_type": "execute_result"
    }
   ],
   "source": [
    "prev_line = get_those_rows(start_idx-1, start_idx, dump_url)[0]\n",
    "# last_record_string = re.search(r'(\\([^\\(]*)(?:;\\n)$', prev_line[-500:]).groups()[0]\n",
    "# last_dumpline_primarykey = int(re.search(r'(?:\\()(\\d*)',last_record_string).groups()[0])\n",
    "# last_dumpline_primarykey\n",
    "prev_line[-500:]"
   ]
  },
  {
   "cell_type": "code",
   "execution_count": 35,
   "id": "b39381ac-065d-49aa-9bcd-9fcb7dee64c0",
   "metadata": {},
   "outputs": [],
   "source": [
    "last_dumpline_primarykey = 6975559"
   ]
  },
  {
   "cell_type": "code",
   "execution_count": 36,
   "id": "0a7d07fc-b8d1-4d56-8f89-66b081906372",
   "metadata": {},
   "outputs": [],
   "source": [
    "line_list  = get_those_rows(start_idx, end_idx, dump_url)"
   ]
  },
  {
   "cell_type": "markdown",
   "id": "043fd249-125d-4d5c-b56e-d7e60155f10c",
   "metadata": {
    "tags": []
   },
   "source": [
    "#### Replace with REPLACE the INSERT command"
   ]
  },
  {
   "cell_type": "code",
   "execution_count": 37,
   "id": "9860a641-8cea-4ec5-bf8f-21ce1b6375e1",
   "metadata": {},
   "outputs": [
    {
     "data": {
      "text/plain": [
       "\"REPLACE INTO `page` VALUES (6975560,3,'216.162.88.\""
      ]
     },
     "execution_count": 37,
     "metadata": {},
     "output_type": "execute_result"
    }
   ],
   "source": [
    "line_list = list(map(lambda x: x.replace('INSERT', 'REPLACE', 1), line_list))\n",
    "line_list[0][:50]"
   ]
  },
  {
   "cell_type": "markdown",
   "id": "e0945f70-ade2-4d53-8119-70ceb3a7eaac",
   "metadata": {
    "tags": []
   },
   "source": [
    "#### Get final primary key value of mysql table"
   ]
  },
  {
   "cell_type": "code",
   "execution_count": 41,
   "id": "3efe683c-2301-464f-b95a-1fc94a696311",
   "metadata": {},
   "outputs": [
    {
     "data": {
      "text/plain": [
       "7005237"
      ]
     },
     "execution_count": 41,
     "metadata": {},
     "output_type": "execute_result"
    }
   ],
   "source": [
    "cur_mysql.execute('SELECT page_id FROM page ORDER BY page_id DESC LIMIT 1;')\n",
    "last_mysql_primarykey = cur_mysql.fetchall()[0][0]\n",
    "last_mysql_primarykey"
   ]
  },
  {
   "cell_type": "markdown",
   "id": "b9b80872-218d-4c36-a6dd-54415afd26bc",
   "metadata": {
    "tags": []
   },
   "source": [
    "#### Check if there's a primary key match"
   ]
  },
  {
   "cell_type": "markdown",
   "id": "ead04296-8d87-4201-973f-ece617a5fbb1",
   "metadata": {},
   "source": [
    "*The latest primary key of the mysql table should match the last primary key of the previous sql dump line.*"
   ]
  },
  {
   "cell_type": "code",
   "execution_count": 42,
   "id": "12efc999-495b-4178-b1ac-da469d359656",
   "metadata": {},
   "outputs": [
    {
     "data": {
      "text/plain": [
       "False"
      ]
     },
     "execution_count": 42,
     "metadata": {},
     "output_type": "execute_result"
    }
   ],
   "source": [
    "last_dumpline_primarykey == last_mysql_primarykey"
   ]
  },
  {
   "cell_type": "markdown",
   "id": "a7599581-98e5-44e6-8353-b0b9ff173dc2",
   "metadata": {
    "tags": []
   },
   "source": [
    "### Populate mysql table with dumpfile lines"
   ]
  },
  {
   "cell_type": "code",
   "execution_count": null,
   "id": "50dbf10f-4b82-456d-a516-ca60b19f9dcf",
   "metadata": {},
   "outputs": [],
   "source": [
    "for i in range(start_idx, end_idx):\n",
    "    line = get_those_rows(i, i+1, dump_url)[0]\n",
    "    cur_mysql.execute(line)\n",
    "    db_mysql.commit()"
   ]
  }
 ],
 "metadata": {
  "kernelspec": {
   "display_name": "Python 3 (ipykernel)",
   "language": "python",
   "name": "python3"
  },
  "language_info": {
   "codemirror_mode": {
    "name": "ipython",
    "version": 3
   },
   "file_extension": ".py",
   "mimetype": "text/x-python",
   "name": "python",
   "nbconvert_exporter": "python",
   "pygments_lexer": "ipython3",
   "version": "3.9.7"
  }
 },
 "nbformat": 4,
 "nbformat_minor": 5
}
