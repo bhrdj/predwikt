{
 "cells": [
  {
   "cell_type": "markdown",
   "id": "cd354c10-4e8e-4742-9458-df9787b5b5a0",
   "metadata": {
    "tags": []
   },
   "source": [
    "# View SQL Code of enwiki-latest-category.sql"
   ]
  },
  {
   "cell_type": "markdown",
   "id": "74cabf83-e38d-4a6c-8452-faff39425543",
   "metadata": {
    "jp-MarkdownHeadingCollapsed": true,
    "tags": []
   },
   "source": [
    "## TL;DR"
   ]
  },
  {
   "cell_type": "markdown",
   "id": "9633af49-984a-44ef-a26c-e17e44f52898",
   "metadata": {
    "jp-MarkdownHeadingCollapsed": true,
    "tags": []
   },
   "source": [
    "### This is step X toward the goal of:"
   ]
  },
  {
   "cell_type": "markdown",
   "id": "1d91f61e-bd43-4ea8-8853-356bbf0f5e4f",
   "metadata": {},
   "source": [
    "- Get Wikipedia categories into database:\n",
    "- (Create table simply linking page_id and top-level wikipedia category)"
   ]
  },
  {
   "cell_type": "markdown",
   "id": "05869bfc-c959-4360-8a56-a05aab107838",
   "metadata": {
    "jp-MarkdownHeadingCollapsed": true,
    "tags": []
   },
   "source": [
    "### Questions driving exploration:"
   ]
  },
  {
   "cell_type": "markdown",
   "id": "307d6b28-29c3-47a7-9827-547e891f7416",
   "metadata": {},
   "source": [
    "- After opening this sql command file is it ready to export to postgres?\n",
    "- What is the schema of enwiki-latest-category.sql?\n",
    "- What do its records generally look like?"
   ]
  },
  {
   "cell_type": "markdown",
   "id": "bb81208b-bb4a-412b-ac25-92a9bb5ed49e",
   "metadata": {
    "jp-MarkdownHeadingCollapsed": true,
    "tags": []
   },
   "source": [
    "### Answers:"
   ]
  },
  {
   "cell_type": "markdown",
   "id": "7bf692d4-d77f-47f7-94c5-5845f53379b9",
   "metadata": {},
   "source": [
    "- **Ready to port?**\n",
    "    - Yes, as far as I can tell.\n",
    "- **What is the schema?**\n",
    "    - 1 table\n",
    "        - category\n",
    "    - 5 columns\n",
    "        - cat_id cat_title cat_pages cat_subcats cat_files\n",
    "    - 2,209,005 rows\n",
    "- **What do the records look like?**\n",
    "    - One example\n",
    "        - (2,'Unprintworthy_redirects',1494044,20,0)"
   ]
  },
  {
   "cell_type": "markdown",
   "id": "85a01a56-77fd-4f0d-ba9a-ac65172e57b0",
   "metadata": {
    "jp-MarkdownHeadingCollapsed": true,
    "tags": []
   },
   "source": [
    "## SQL Code - Explored via Python"
   ]
  },
  {
   "cell_type": "markdown",
   "id": "21b0e9cf-1890-4c4f-96e8-62051579a0e6",
   "metadata": {
    "jp-MarkdownHeadingCollapsed": true,
    "tags": []
   },
   "source": [
    "### Get SQL into Python"
   ]
  },
  {
   "cell_type": "markdown",
   "id": "cc01020d-f0b1-4a7b-86b2-871c19568534",
   "metadata": {
    "jp-MarkdownHeadingCollapsed": true,
    "tags": []
   },
   "source": [
    "#### Imports, current working directory"
   ]
  },
  {
   "cell_type": "code",
   "execution_count": 3,
   "id": "ff4c9349-9fe8-4187-a6ff-e1c1ad7c50ca",
   "metadata": {},
   "outputs": [],
   "source": [
    "import os\n",
    "from pathlib import Path\n",
    "import pandas as pd\n",
    "import psycopg2\n",
    "import sqlalchemy"
   ]
  },
  {
   "cell_type": "code",
   "execution_count": 4,
   "id": "4d7c4046-505f-4d28-8c79-4b89b308af52",
   "metadata": {},
   "outputs": [],
   "source": [
    "home_path = str(Path.home())\n",
    "os.chdir(home_path + '/git/predwikt/notebooks')"
   ]
  },
  {
   "cell_type": "markdown",
   "id": "fa241cbe-c920-4b8a-8509-7b70447e3d90",
   "metadata": {
    "jp-MarkdownHeadingCollapsed": true,
    "tags": []
   },
   "source": [
    "#### Check row count"
   ]
  },
  {
   "cell_type": "code",
   "execution_count": 5,
   "id": "d1e08016-a7ce-42d6-ab34-8898fe64f5b1",
   "metadata": {},
   "outputs": [
    {
     "name": "stdout",
     "output_type": "stream",
     "text": [
      "164\n"
     ]
    }
   ],
   "source": [
    "f = open(\n",
    "    '../data/raw/enwiki-latest-category.sql', \n",
    "    mode='r', \n",
    "    encoding='UTF_8', \n",
    "    errors='backslashreplace')\n",
    "\n",
    "ct = 0\n",
    "for line in f: \n",
    "    ct+=1\n",
    "print(ct)\n",
    "f.close()"
   ]
  },
  {
   "cell_type": "markdown",
   "id": "24b3554d-763e-41ba-a4e8-44ff805355c4",
   "metadata": {
    "jp-MarkdownHeadingCollapsed": true,
    "tags": []
   },
   "source": [
    "#### Populate rows into a list of strings"
   ]
  },
  {
   "cell_type": "code",
   "execution_count": 6,
   "id": "86e7e846-3c31-405f-8aa7-ccbf5d59b398",
   "metadata": {},
   "outputs": [
    {
     "name": "stdout",
     "output_type": "stream",
     "text": [
      "164\n"
     ]
    }
   ],
   "source": [
    "f = open(\n",
    "    '../data/raw/enwiki-latest-category.sql', \n",
    "    mode='r', \n",
    "    encoding='UTF_8', \n",
    "    errors='backslashreplace')\n",
    "\n",
    "l = []\n",
    "for line in f: \n",
    "    l.append(line)\n",
    "print(ct)\n",
    "f.close()"
   ]
  },
  {
   "cell_type": "markdown",
   "id": "c6e7aee1-6332-4480-b562-8cb03f5a0c84",
   "metadata": {
    "jp-MarkdownHeadingCollapsed": true,
    "tags": []
   },
   "source": [
    "### Peek at SQL code using Python"
   ]
  },
  {
   "cell_type": "markdown",
   "id": "c8c4580e-0517-4961-9ccf-4b8f023c19e6",
   "metadata": {
    "jp-MarkdownHeadingCollapsed": true,
    "tags": []
   },
   "source": [
    "#### FIRST 10 ROWS"
   ]
  },
  {
   "cell_type": "code",
   "execution_count": 7,
   "id": "ca9211d8-42e6-4376-b0b0-af8f66c515ed",
   "metadata": {},
   "outputs": [
    {
     "name": "stdout",
     "output_type": "stream",
     "text": [
      "-- MySQL dump 10.19  Distrib 10.3.31-MariaDB, for debian-linux-gnu (x86_64)\n",
      "\n",
      "--\n",
      "\n",
      "-- Host: 10.64.48.13    Database: enwiki\n",
      "\n",
      "-- ------------------------------------------------------\n",
      "\n",
      "-- Server version\t10.4.21-MariaDB-log\n",
      "\n",
      "\n",
      "\n",
      "/*!40101 SET @OLD_CHARACTER_SET_CLIENT=@@CHARACTER_SET_CLIENT */;\n",
      "\n",
      "/*!40101 SET @OLD_CHARACTER_SET_RESULTS=@@CHARACTER_SET_RESULTS */;\n",
      "\n",
      "/*!40101 SET @OLD_COLLATION_CONNECTION=@@COLLATION_CONNECTION */;\n",
      "\n",
      "/*!40101 SET NAMES utf8mb4 */;\n",
      "\n"
     ]
    }
   ],
   "source": [
    "for i in range(0,10):\n",
    "    print(l[i])"
   ]
  },
  {
   "cell_type": "markdown",
   "id": "cb9776a0-6050-4244-a59a-a997f5126688",
   "metadata": {
    "jp-MarkdownHeadingCollapsed": true,
    "tags": []
   },
   "source": [
    "#### ROWS 10+"
   ]
  },
  {
   "cell_type": "code",
   "execution_count": 8,
   "id": "49ad5e3f-cbc5-4f44-b93d-e05b56fa8cd1",
   "metadata": {},
   "outputs": [
    {
     "name": "stdout",
     "output_type": "stream",
     "text": [
      "/*!40103 SET @OLD_TIME_ZONE=@@TIME_ZONE */;\n",
      "\n",
      "/*!40103 SET TIME_ZONE='+00:00' */;\n",
      "\n",
      "/*!40014 SET @OLD_UNIQUE_CHECKS=@@UNIQUE_CHECKS, UNIQUE_CHECKS=0 */;\n",
      "\n",
      "/*!40014 SET @OLD_FOREIGN_KEY_CHECKS=@@FOREIGN_KEY_CHECKS, FOREIGN_KEY_CHECKS=0 */;\n",
      "\n",
      "/*!40101 SET @OLD_SQL_MODE=@@SQL_MODE, SQL_MODE='NO_AUTO_VALUE_ON_ZERO' */;\n",
      "\n",
      "/*!40111 SET @OLD_SQL_NOTES=@@SQL_NOTES, SQL_NOTES=0 */;\n",
      "\n",
      "\n",
      "\n",
      "--\n",
      "\n",
      "-- Table structure for table `category`\n",
      "\n",
      "--\n",
      "\n"
     ]
    }
   ],
   "source": [
    "for i in range(10,20):\n",
    "    print(l[i])"
   ]
  },
  {
   "cell_type": "markdown",
   "id": "ee9c85a6-a16b-435b-af0e-8128ddfa1e1b",
   "metadata": {
    "jp-MarkdownHeadingCollapsed": true,
    "tags": []
   },
   "source": [
    "#### ROWS 20+"
   ]
  },
  {
   "cell_type": "code",
   "execution_count": 9,
   "id": "92fb4a01-2765-4ec2-8ca5-c9c441c0e2b5",
   "metadata": {},
   "outputs": [
    {
     "name": "stdout",
     "output_type": "stream",
     "text": [
      "\n",
      "\n",
      "DROP TABLE IF EXISTS `category`;\n",
      "\n",
      "/*!40101 SET @saved_cs_client     = @@character_set_client */;\n",
      "\n",
      "/*!40101 SET character_set_client = utf8 */;\n",
      "\n",
      "CREATE TABLE `category` (\n",
      "\n",
      "  `cat_id` int(10) unsigned NOT NULL AUTO_INCREMENT,\n",
      "\n",
      "  `cat_title` varbinary(255) NOT NULL DEFAULT '',\n",
      "\n",
      "  `cat_pages` int(11) NOT NULL DEFAULT 0,\n",
      "\n",
      "  `cat_subcats` int(11) NOT NULL DEFAULT 0,\n",
      "\n",
      "  `cat_files` int(11) NOT NULL DEFAULT 0,\n",
      "\n"
     ]
    }
   ],
   "source": [
    "for i in range(20,30):\n",
    "    print(l[i])"
   ]
  },
  {
   "cell_type": "markdown",
   "id": "bbc6962d-a148-45da-a35c-7f2a61f664a7",
   "metadata": {
    "jp-MarkdownHeadingCollapsed": true,
    "tags": []
   },
   "source": [
    "#### ROWS 30+"
   ]
  },
  {
   "cell_type": "code",
   "execution_count": 19,
   "id": "499b8592-5435-45ef-a287-b692de6e07ba",
   "metadata": {},
   "outputs": [
    {
     "name": "stdout",
     "output_type": "stream",
     "text": [
      "  PRIMARY KEY (`cat_id`),\n",
      "\n",
      "  UNIQUE KEY `cat_title` (`cat_title`),\n",
      "\n",
      "  KEY `cat_pages` (`cat_pages`)\n",
      "\n",
      ") ENGINE=InnoDB AUTO_INCREMENT=248633369 DEFAULT CHARSET=binary ROW_FORMAT=COMPRESSED;\n",
      "\n",
      "/*!40101 SET character_set_client = @saved_cs_client */;\n",
      "\n",
      "\n",
      "\n",
      "--\n",
      "\n",
      "-- Dumping data for table `category`\n",
      "\n",
      "--\n",
      "\n",
      "\n",
      "\n"
     ]
    }
   ],
   "source": [
    "for i in range(30,40):\n",
    "    print(l[i])"
   ]
  },
  {
   "cell_type": "markdown",
   "id": "2fd50238-ccad-443d-86d5-d63456f3bbba",
   "metadata": {
    "jp-MarkdownHeadingCollapsed": true,
    "tags": []
   },
   "source": [
    "#### ROW 40"
   ]
  },
  {
   "cell_type": "code",
   "execution_count": 10,
   "id": "8406f6ff-8af4-4fdd-a50e-75ae5963afaa",
   "metadata": {},
   "outputs": [
    {
     "name": "stdout",
     "output_type": "stream",
     "text": [
      "/*!40000 ALTER TABLE `category` DISABLE KEYS */;\n",
      "\n"
     ]
    }
   ],
   "source": [
    "for i in range(40,41):\n",
    "    print(l[i])"
   ]
  },
  {
   "cell_type": "markdown",
   "id": "c5900c88-ba60-48bf-9c5f-72b807011d60",
   "metadata": {
    "jp-MarkdownHeadingCollapsed": true,
    "tags": []
   },
   "source": [
    "#### ROW 41 (EXCERPT)"
   ]
  },
  {
   "cell_type": "code",
   "execution_count": 11,
   "id": "d3346263-aa14-4b71-a65c-a2ca00332b5f",
   "metadata": {},
   "outputs": [
    {
     "name": "stdout",
     "output_type": "stream",
     "text": [
      "INSERT INTO `category` VALUES (2,'Unprintworthy_redirects',1494044,20,0),(3,'Computer_storage_devices',90,11,0),(7,'Unknown-importance_Animation_articles',280,22,0),(8,'Low-importance_Animation_articles',13927,22,0),(9,'Vietnam_stubs',304,10,0),(10,'Rivers_of_Vietnam',104,3,0),(11,'Quang_Binh_Province',0,0,0),(12,'All_articles_with_unsourced_statements',442856,0,0),(14,'Wikipedia_articles_needing_clarification',183,183,0),(15,'Articles_needing_additional_references_from_January_2008',1325,0,0),(16,'Comedy',104,31,0),(17,'Sociolinguistics',252,29,0),(18,'Figures_of_speech',134,13,0),(20,'NASCAR_teams',109,3,0),(21,'Muhammad_Ali',18,4,0),(22,'Politics_and_government_work_group_articles',186621,4,0),(23,'Wikipedia_requested_photographs_of_politicians_and_government-people',10927,1,0),(24,'Stub-Class_biography_(politics_and_government)_articles',97011,0,0),(26,'Stub-Class_biography_articles',1023944,10,0),(27,'Unassessed_biography_articles',72633,10,0),(29,'High-importance_Animation_articl\n"
     ]
    }
   ],
   "source": [
    "print(l[41][:1000])"
   ]
  },
  {
   "cell_type": "markdown",
   "id": "6a3561ac-1882-4a9f-a54d-a04602e4bed0",
   "metadata": {
    "jp-MarkdownHeadingCollapsed": true,
    "tags": []
   },
   "source": [
    "#### ROWS 152+"
   ]
  },
  {
   "cell_type": "code",
   "execution_count": 18,
   "id": "f89e652b-c529-4e49-8674-cc337d8a5b85",
   "metadata": {},
   "outputs": [
    {
     "name": "stdout",
     "output_type": "stream",
     "text": [
      "/*!40000 ALTER TABLE `category` ENABLE KEYS */;\n",
      "\n",
      "/*!40103 SET TIME_ZONE=@OLD_TIME_ZONE */;\n",
      "\n",
      "\n",
      "\n",
      "/*!40101 SET SQL_MODE=@OLD_SQL_MODE */;\n",
      "\n",
      "/*!40014 SET FOREIGN_KEY_CHECKS=@OLD_FOREIGN_KEY_CHECKS */;\n",
      "\n",
      "/*!40014 SET UNIQUE_CHECKS=@OLD_UNIQUE_CHECKS */;\n",
      "\n",
      "/*!40101 SET CHARACTER_SET_CLIENT=@OLD_CHARACTER_SET_CLIENT */;\n",
      "\n",
      "/*!40101 SET CHARACTER_SET_RESULTS=@OLD_CHARACTER_SET_RESULTS */;\n",
      "\n",
      "/*!40101 SET COLLATION_CONNECTION=@OLD_COLLATION_CONNECTION */;\n",
      "\n",
      "/*!40111 SET SQL_NOTES=@OLD_SQL_NOTES */;\n",
      "\n",
      "\n",
      "\n",
      "-- Dump completed on 2021-11-20 10:09:38\n",
      "\n"
     ]
    }
   ],
   "source": [
    "for i in range(152,164):\n",
    "    print(l[i])"
   ]
  }
 ],
 "metadata": {
  "kernelspec": {
   "display_name": "Python 3 (ipykernel)",
   "language": "python",
   "name": "python3"
  },
  "language_info": {
   "codemirror_mode": {
    "name": "ipython",
    "version": 3
   },
   "file_extension": ".py",
   "mimetype": "text/x-python",
   "name": "python",
   "nbconvert_exporter": "python",
   "pygments_lexer": "ipython3",
   "version": "3.9.7"
  }
 },
 "nbformat": 4,
 "nbformat_minor": 5
}
