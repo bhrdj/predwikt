{
 "cells": [
  {
   "cell_type": "markdown",
   "id": "cd354c10-4e8e-4742-9458-df9787b5b5a0",
   "metadata": {
    "tags": []
   },
   "source": [
    "# View SQL Code of a sql dump"
   ]
  },
  {
   "cell_type": "markdown",
   "id": "74cabf83-e38d-4a6c-8452-faff39425543",
   "metadata": {
    "jp-MarkdownHeadingCollapsed": true,
    "tags": []
   },
   "source": [
    "## TL;DR"
   ]
  },
  {
   "cell_type": "markdown",
   "id": "9633af49-984a-44ef-a26c-e17e44f52898",
   "metadata": {
    "jp-MarkdownHeadingCollapsed": true,
    "tags": []
   },
   "source": [
    "### This is step X toward the goal of:"
   ]
  },
  {
   "cell_type": "markdown",
   "id": "1d91f61e-bd43-4ea8-8853-356bbf0f5e4f",
   "metadata": {},
   "source": [
    "- Get Wikipedia categories into database:\n",
    "- (Create table simply linking page_id and top-level wikipedia category)"
   ]
  },
  {
   "cell_type": "markdown",
   "id": "05869bfc-c959-4360-8a56-a05aab107838",
   "metadata": {
    "jp-MarkdownHeadingCollapsed": true,
    "tags": []
   },
   "source": [
    "### Questions driving exploration:"
   ]
  },
  {
   "cell_type": "markdown",
   "id": "307d6b28-29c3-47a7-9827-547e891f7416",
   "metadata": {},
   "source": [
    "- After opening this sql command file is it ready to export to postgres?\n",
    "- What is the schema of enwiki-latest-category.sql?\n",
    "- What do its records generally look like?"
   ]
  },
  {
   "cell_type": "markdown",
   "id": "bb81208b-bb4a-412b-ac25-92a9bb5ed49e",
   "metadata": {
    "jp-MarkdownHeadingCollapsed": true,
    "tags": []
   },
   "source": [
    "### Answers:"
   ]
  },
  {
   "cell_type": "markdown",
   "id": "7bf692d4-d77f-47f7-94c5-5845f53379b9",
   "metadata": {},
   "source": [
    "- **Ready to port?**\n",
    "    - Yes, as far as I can tell.\n",
    "- **What is the schema?**\n",
    "    - 1 table\n",
    "        - category\n",
    "    - 5 columns\n",
    "        - cat_id cat_title cat_pages cat_subcats cat_files\n",
    "    - 2,209,005 rows\n",
    "- **What do the records look like?**\n",
    "    - One example\n",
    "        - (2,'Unprintworthy_redirects',1494044,20,0)"
   ]
  },
  {
   "cell_type": "markdown",
   "id": "85a01a56-77fd-4f0d-ba9a-ac65172e57b0",
   "metadata": {
    "tags": []
   },
   "source": [
    "## SQL Code - Explored via Python"
   ]
  },
  {
   "cell_type": "markdown",
   "id": "21b0e9cf-1890-4c4f-96e8-62051579a0e6",
   "metadata": {
    "tags": []
   },
   "source": [
    "### Get SQL into Python"
   ]
  },
  {
   "cell_type": "markdown",
   "id": "cc01020d-f0b1-4a7b-86b2-871c19568534",
   "metadata": {
    "tags": []
   },
   "source": [
    "#### Import libraries, check current working directory"
   ]
  },
  {
   "cell_type": "code",
   "execution_count": 1,
   "id": "ff4c9349-9fe8-4187-a6ff-e1c1ad7c50ca",
   "metadata": {},
   "outputs": [],
   "source": [
    "import os\n",
    "from pathlib import Path\n",
    "import pandas as pd\n",
    "import matplotlib.pyplot as plt"
   ]
  },
  {
   "cell_type": "code",
   "execution_count": 2,
   "id": "4d7c4046-505f-4d28-8c79-4b89b308af52",
   "metadata": {},
   "outputs": [],
   "source": [
    "home_path = str(Path.home())\n",
    "os.chdir(home_path + '/git/predwikt/notebooks')"
   ]
  },
  {
   "cell_type": "markdown",
   "id": "fa241cbe-c920-4b8a-8509-7b70447e3d90",
   "metadata": {
    "tags": []
   },
   "source": [
    "### Check row count, get line lengths"
   ]
  },
  {
   "cell_type": "markdown",
   "id": "3a7b9319-6750-4c42-838b-d3ce9d82fa9d",
   "metadata": {
    "jp-MarkdownHeadingCollapsed": true,
    "tags": []
   },
   "source": [
    "#### Check row count"
   ]
  },
  {
   "cell_type": "code",
   "execution_count": 3,
   "id": "d1e08016-a7ce-42d6-ab34-8898fe64f5b1",
   "metadata": {},
   "outputs": [
    {
     "name": "stdout",
     "output_type": "stream",
     "text": [
      "6471\n"
     ]
    }
   ],
   "source": [
    "f = open(\n",
    "    '../data/raw/enwiki-latest-page.sql', \n",
    "    mode='r', \n",
    "    encoding='UTF_8', \n",
    "    errors='backslashreplace')\n",
    "\n",
    "row_ct_sqldump = 0\n",
    "for line in f: \n",
    "    row_ct_sqldump+=1\n",
    "print(row_ct_sqldump)\n",
    "f.close()"
   ]
  },
  {
   "cell_type": "markdown",
   "id": "201d5a9c-3c64-493a-a145-f3a7092ecede",
   "metadata": {
    "jp-MarkdownHeadingCollapsed": true,
    "tags": []
   },
   "source": [
    "#### Get line lengths"
   ]
  },
  {
   "cell_type": "code",
   "execution_count": 4,
   "id": "0afa634d-6d30-4d07-b198-e36a2b97df05",
   "metadata": {},
   "outputs": [],
   "source": [
    "f = open(\n",
    "    '../data/raw/enwiki-latest-page.sql', \n",
    "    mode='r', \n",
    "    encoding='UTF_8', \n",
    "    errors='backslashreplace')\n",
    "\n",
    "line_lengths = {}\n",
    "for i in range(row_ct_sqldump):\n",
    "    x = f.readline()\n",
    "    line_lengths[i] = len(x)\n",
    "f.close()"
   ]
  },
  {
   "cell_type": "code",
   "execution_count": 5,
   "id": "6b6a4f09-be74-4543-bab5-e6e4a8ebe67c",
   "metadata": {},
   "outputs": [
    {
     "data": {
      "text/plain": [
       "6471"
      ]
     },
     "execution_count": 5,
     "metadata": {},
     "output_type": "execute_result"
    }
   ],
   "source": [
    "len(line_lengths)"
   ]
  },
  {
   "cell_type": "code",
   "execution_count": 6,
   "id": "f31fd06b-a4fe-4cce-80ea-007dc4cb78a0",
   "metadata": {},
   "outputs": [],
   "source": [
    "line_lengths_series = pd.Series(line_lengths, name='line_lengths')"
   ]
  },
  {
   "cell_type": "code",
   "execution_count": 7,
   "id": "1c8c92ec-1a99-4928-8c0a-95813f6c48a2",
   "metadata": {},
   "outputs": [
    {
     "data": {
      "image/png": "[encoded data removed]",
      "text/plain": [
       "<Figure size 432x288 with 1 Axes>"
      ]
     },
     "metadata": {
      "needs_background": "light"
     },
     "output_type": "display_data"
    }
   ],
   "source": [
    "fig = plt.figure()\n",
    "ax = plt.gca()\n",
    "line_lengths_series.plot(ax=ax)\n",
    "ax.set_xticks([])\n",
    "ax.set_xlabel('rows of file')\n",
    "ax.set_ylabel('line length')\n",
    "plt.show()"
   ]
  },
  {
   "cell_type": "code",
   "execution_count": 8,
   "id": "287643e5-ae32-48a2-9610-5b075f9916fe",
   "metadata": {},
   "outputs": [],
   "source": [
    "# for i in range(row_ct_sqldump-1, 0, -1):\n",
    "#     if line_lengths[i] == 0:\n",
    "#         line_lengths.pop(i)\n",
    "#     else:\n",
    "#         break"
   ]
  },
  {
   "cell_type": "markdown",
   "id": "24b3554d-763e-41ba-a4e8-44ff805355c4",
   "metadata": {
    "jp-MarkdownHeadingCollapsed": true,
    "tags": []
   },
   "source": [
    "#### Populate selected rows into a list of strings"
   ]
  },
  {
   "cell_type": "code",
   "execution_count": 9,
   "id": "86e7e846-3c31-405f-8aa7-ccbf5d59b398",
   "metadata": {},
   "outputs": [],
   "source": [
    "f = open(\n",
    "    '../data/raw/enwiki-latest-page.sql', \n",
    "    mode='r', \n",
    "    encoding='UTF_8', \n",
    "    errors='backslashreplace')\n",
    "\n",
    "some_rows_sqldump = []\n",
    "for i in range(row_ct_sqldump):\n",
    "    if i < 200:\n",
    "        some_rows_sqldump.append(f.readline())\n",
    "    elif i < (row_ct_sqldump-100):\n",
    "        f.readline()\n",
    "        some_rows_sqldump.append('')\n",
    "    else:\n",
    "        some_rows_sqldump.append(f.readline())\n",
    "\n",
    "f.close()"
   ]
  },
  {
   "cell_type": "markdown",
   "id": "e6637ad9-7307-4183-afff-588f4020eda2",
   "metadata": {
    "jp-MarkdownHeadingCollapsed": true,
    "tags": []
   },
   "source": [
    "#### Get start/end row numbers for headers, data, footers"
   ]
  },
  {
   "cell_type": "code",
   "execution_count": 10,
   "id": "c1a9ef65-9e3f-4c40-906e-b1cf7d50f3ea",
   "metadata": {},
   "outputs": [],
   "source": [
    "some_row_lengths =  list(map(len,some_rows_sqldump))"
   ]
  },
  {
   "cell_type": "code",
   "execution_count": 11,
   "id": "85e6408a-7016-40e8-8c13-6281fde9fed3",
   "metadata": {},
   "outputs": [],
   "source": [
    "some_row_lengths_series = pd.Series(some_row_lengths, name='line_lengths')"
   ]
  },
  {
   "cell_type": "code",
   "execution_count": 24,
   "id": "effc8af8-2e15-4150-9d12-5dfd6df18bcf",
   "metadata": {},
   "outputs": [],
   "source": [
    "i=0\n",
    "while some_row_lengths[i] < 10**4:\n",
    "    i+=1\n",
    "head_last_rownum = i-1\n",
    "data_first_rownum = i"
   ]
  },
  {
   "cell_type": "code",
   "execution_count": 25,
   "id": "e3fb4f1c-0c75-4cf0-ae81-ad3acaf92a32",
   "metadata": {},
   "outputs": [],
   "source": [
    "i=row_ct_sqldump-99\n",
    "while some_row_lengths[i] > 10**4:\n",
    "    i+=1\n",
    "data_last_rownum = i-1\n",
    "foot_first_rownum = i"
   ]
  },
  {
   "cell_type": "markdown",
   "id": "743cda38-5dfb-44b1-aca2-e1571f23199b",
   "metadata": {
    "jp-MarkdownHeadingCollapsed": true,
    "tags": []
   },
   "source": [
    "#### Display start/end row numbers"
   ]
  },
  {
   "cell_type": "code",
   "execution_count": 27,
   "id": "82b7335b-e391-44d0-b070-212c6769c11d",
   "metadata": {},
   "outputs": [
    {
     "data": {
      "text/plain": [
       "0"
      ]
     },
     "metadata": {},
     "output_type": "display_data"
    },
    {
     "data": {
      "text/plain": [
       "50"
      ]
     },
     "metadata": {},
     "output_type": "display_data"
    },
    {
     "data": {
      "text/plain": [
       "51"
      ]
     },
     "metadata": {},
     "output_type": "display_data"
    },
    {
     "data": {
      "text/plain": [
       "6458"
      ]
     },
     "metadata": {},
     "output_type": "display_data"
    },
    {
     "data": {
      "text/plain": [
       "6459"
      ]
     },
     "metadata": {},
     "output_type": "display_data"
    },
    {
     "data": {
      "text/plain": [
       "6471"
      ]
     },
     "metadata": {},
     "output_type": "display_data"
    }
   ],
   "source": [
    "display(0, head_last_rownum, data_first_rownum, data_last_rownum, foot_first_rownum, row_ct_sqldump)"
   ]
  },
  {
   "cell_type": "markdown",
   "id": "0b57f3bb-93ad-40d1-bc6d-efecc2e33f1e",
   "metadata": {
    "tags": []
   },
   "source": [
    "#### Check start/end row numbers for headers, data, footers"
   ]
  },
  {
   "cell_type": "code",
   "execution_count": 15,
   "id": "298c5c46-043a-4297-94be-ff25979ff70b",
   "metadata": {},
   "outputs": [
    {
     "data": {
      "text/plain": [
       "('/*!40000 ALTER TABLE `page` DISABLE KEYS */;\\n',\n",
       " '',\n",
       " \"INSERT INTO `page` VALUES (10,0,'AccessibleComputing','',1,0,0.33167112649574004,'20211031215759','20210715014751',1002250816,111,'wikitext',NULL),(12,0,'Anarchism','',0,0,0.786172332974311,'20211031050457','20211031050510',1052561385,98889,'wikitext',NULL),(13,0,'AfghanistanHistory','',1,0,0.062150\")"
      ]
     },
     "execution_count": 15,
     "metadata": {},
     "output_type": "execute_result"
    }
   ],
   "source": [
    "some_rows_sqldump[head_last_rownum][:100],'',some_rows_sqldump[data_first_rownum][:300]"
   ]
  },
  {
   "cell_type": "code",
   "execution_count": 16,
   "id": "39038b46-1afc-44cf-a8dd-e79796f6accb",
   "metadata": {},
   "outputs": [
    {
     "data": {
      "text/plain": [
       "(\"INSERT INTO `page` VALUES (69163158,3,'Amanimohammed13/talk_page_tutorial','',0,0,0.460524899207,'20211031231421','20211031231421',1052934650,748,'wikitext',NULL),(69163159,118,'Traveler_Mijan','',0,0,0.101748802944,'20211031233151','20211031233149',1052936470,436,'wikitext',NULL),(69163160,3,'172.5\",\n",
       " '',\n",
       " '/*!40000 ALTER TABLE `page` ENABLE KEYS */;\\n')"
      ]
     },
     "execution_count": 16,
     "metadata": {},
     "output_type": "execute_result"
    }
   ],
   "source": [
    "some_rows_sqldump[data_last_rownum][:300],'',some_rows_sqldump[foot_first_rownum][:100]"
   ]
  },
  {
   "cell_type": "markdown",
   "id": "fdb946ef-d5a7-4a1d-9cd7-7352d9c889f7",
   "metadata": {
    "tags": []
   },
   "source": [
    "### Plot \"some_row_lengths\""
   ]
  },
  {
   "cell_type": "code",
   "execution_count": 12,
   "id": "411946bf-a2fe-4b27-988e-f705a5043e24",
   "metadata": {},
   "outputs": [
    {
     "data": {
      "image/png": "[encoded data removed]",
      "text/plain": [
       "<Figure size 432x288 with 1 Axes>"
      ]
     },
     "metadata": {
      "needs_background": "light"
     },
     "output_type": "display_data"
    }
   ],
   "source": [
    "fig = plt.figure()\n",
    "ax = plt.gca()\n",
    "some_row_lengths_series.plot(ax=ax)\n",
    "ax.set_xticks([])\n",
    "ax.set_xlabel('rows of file')\n",
    "ax.set_ylabel('line length')\n",
    "plt.show()"
   ]
  },
  {
   "cell_type": "markdown",
   "id": "c6e7aee1-6332-4480-b562-8cb03f5a0c84",
   "metadata": {
    "tags": []
   },
   "source": [
    "### Peek at SQsome_rows_sqldump code using Python"
   ]
  },
  {
   "cell_type": "markdown",
   "id": "c8c4580e-0517-4961-9ccf-4b8f023c19e6",
   "metadata": {
    "jp-MarkdownHeadingCollapsed": true,
    "tags": []
   },
   "source": [
    "#### Print headers"
   ]
  },
  {
   "cell_type": "code",
   "execution_count": 17,
   "id": "ca9211d8-42e6-4376-b0b0-af8f66c515ed",
   "metadata": {},
   "outputs": [
    {
     "name": "stdout",
     "output_type": "stream",
     "text": [
      "-- MySQL dump 10.19  Distrib 10.3.29-MariaDB, for debian-linux-gnu (x86_64)\n",
      "\n",
      "--\n",
      "\n",
      "-- Host: 10.64.48.13    Database: enwiki\n",
      "\n",
      "-- ------------------------------------------------------\n",
      "\n",
      "-- Server version\t10.4.21-MariaDB-log\n",
      "\n",
      "\n",
      "\n",
      "/*!40101 SET @OLD_CHARACTER_SET_CLIENT=@@CHARACTER_SET_CLIENT */;\n",
      "\n",
      "/*!40101 SET @OLD_CHARACTER_SET_RESULTS=@@CHARACTER_SET_RESULTS */;\n",
      "\n",
      "/*!40101 SET @OLD_COLLATION_CONNECTION=@@COLLATION_CONNECTION */;\n",
      "\n",
      "/*!40101 SET NAMES utf8mb4 */;\n",
      "\n",
      "/*!40103 SET @OLD_TIME_ZONE=@@TIME_ZONE */;\n",
      "\n",
      "/*!40103 SET TIME_ZONE='+00:00' */;\n",
      "\n",
      "/*!40014 SET @OLD_UNIQUE_CHECKS=@@UNIQUE_CHECKS, UNIQUE_CHECKS=0 */;\n",
      "\n",
      "/*!40014 SET @OLD_FOREIGN_KEY_CHECKS=@@FOREIGN_KEY_CHECKS, FOREIGN_KEY_CHECKS=0 */;\n",
      "\n",
      "/*!40101 SET @OLD_SQL_MODE=@@SQL_MODE, SQL_MODE='NO_AUTO_VALUE_ON_ZERO' */;\n",
      "\n",
      "/*!40111 SET @OLD_SQL_NOTES=@@SQL_NOTES, SQL_NOTES=0 */;\n",
      "\n",
      "\n",
      "\n",
      "--\n",
      "\n",
      "-- Table structure for table `page`\n",
      "\n",
      "--\n",
      "\n",
      "\n",
      "\n",
      "DROP TABLE IF EXISTS `page`;\n",
      "\n",
      "/*!40101 SET @saved_cs_client     = @@character_set_client */;\n",
      "\n",
      "/*!40101 SET character_set_client = utf8 */;\n",
      "\n",
      "CREATE TABLE `page` (\n",
      "\n",
      "  `page_id` int(8) unsigned NOT NULL AUTO_INCREMENT,\n",
      "\n",
      "  `page_namespace` int(11) NOT NULL DEFAULT 0,\n",
      "\n",
      "  `page_title` varbinary(255) NOT NULL DEFAULT '',\n",
      "\n",
      "  `page_restrictions` tinyblob DEFAULT NULL,\n",
      "\n",
      "  `page_is_redirect` tinyint(1) unsigned NOT NULL DEFAULT 0,\n",
      "\n",
      "  `page_is_new` tinyint(1) unsigned NOT NULL DEFAULT 0,\n",
      "\n",
      "  `page_random` double unsigned NOT NULL DEFAULT 0,\n",
      "\n",
      "  `page_touched` varbinary(14) NOT NULL,\n",
      "\n",
      "  `page_links_updated` varbinary(14) DEFAULT NULL,\n",
      "\n",
      "  `page_latest` int(8) unsigned NOT NULL DEFAULT 0,\n",
      "\n",
      "  `page_len` int(8) unsigned NOT NULL DEFAULT 0,\n",
      "\n",
      "  `page_content_model` varbinary(32) DEFAULT NULL,\n",
      "\n",
      "  `page_lang` varbinary(35) DEFAULT NULL,\n",
      "\n",
      "  PRIMARY KEY (`page_id`),\n",
      "\n",
      "  UNIQUE KEY `page_name_title` (`page_namespace`,`page_title`),\n",
      "\n",
      "  KEY `page_random` (`page_random`),\n",
      "\n",
      "  KEY `page_len` (`page_len`),\n",
      "\n",
      "  KEY `page_redirect_namespace_len` (`page_is_redirect`,`page_namespace`,`page_len`)\n",
      "\n",
      ") ENGINE=InnoDB AUTO_INCREMENT=69166249 DEFAULT CHARSET=binary ROW_FORMAT=COMPRESSED;\n",
      "\n",
      "/*!40101 SET character_set_client = @saved_cs_client */;\n",
      "\n",
      "\n",
      "\n",
      "--\n",
      "\n",
      "-- Dumping data for table `page`\n",
      "\n",
      "--\n",
      "\n",
      "\n",
      "\n",
      "/*!40000 ALTER TABLE `page` DISABLE KEYS */;\n",
      "\n"
     ]
    }
   ],
   "source": [
    "for i in range(0,head_last_rownum+1):\n",
    "    print(some_rows_sqldump[i])"
   ]
  },
  {
   "cell_type": "markdown",
   "id": "cb9776a0-6050-4244-a59a-a997f5126688",
   "metadata": {
    "jp-MarkdownHeadingCollapsed": true,
    "tags": []
   },
   "source": [
    "#### Print footers"
   ]
  },
  {
   "cell_type": "code",
   "execution_count": null,
   "id": "49ad5e3f-cbc5-4f44-b93d-e05b56fa8cd1",
   "metadata": {},
   "outputs": [
    {
     "name": "stdout",
     "output_type": "stream",
     "text": [
      "/*!40000 ALTER TABLE `page` ENABLE KEYS */;\n",
      "\n",
      "/*!40103 SET TIME_ZONE=@OLD_TIME_ZONE */;\n",
      "\n",
      "\n",
      "\n",
      "/*!40101 SET SQL_MODE=@OLD_SQL_MODE */;\n",
      "\n",
      "/*!40014 SET FOREIGN_KEY_CHECKS=@OLD_FOREIGN_KEY_CHECKS */;\n",
      "\n",
      "/*!40014 SET UNIQUE_CHECKS=@OLD_UNIQUE_CHECKS */;\n",
      "\n",
      "/*!40101 SET CHARACTER_SET_CLIENT=@OLD_CHARACTER_SET_CLIENT */;\n",
      "\n",
      "/*!40101 SET CHARACTER_SET_RESULTS=@OLD_CHARACTER_SET_RESULTS */;\n",
      "\n",
      "/*!40101 SET COLLATION_CONNECTION=@OLD_COLLATION_CONNECTION */;\n",
      "\n",
      "/*!40111 SET SQL_NOTES=@OLD_SQL_NOTES */;\n",
      "\n",
      "\n",
      "\n",
      "-- Dump completed on 2021-11-01  9:58:22\n",
      "\n"
     ]
    }
   ],
   "source": [
    "for i in range(foot_first_rownum,row_ct_sqldump):\n",
    "    print(some_rows_sqldump[i])"
   ]
  }
 ],
 "metadata": {
  "kernelspec": {
   "display_name": "Python 3 (ipykernel)",
   "language": "python",
   "name": "python3"
  },
  "language_info": {
   "codemirror_mode": {
    "name": "ipython",
    "version": 3
   },
   "file_extension": ".py",
   "mimetype": "text/x-python",
   "name": "python",
   "nbconvert_exporter": "python",
   "pygments_lexer": "ipython3",
   "version": "3.9.7"
  }
 },
 "nbformat": 4,
 "nbformat_minor": 5
}
