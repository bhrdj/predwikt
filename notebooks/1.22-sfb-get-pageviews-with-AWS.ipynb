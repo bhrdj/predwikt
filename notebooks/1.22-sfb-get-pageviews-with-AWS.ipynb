{
 "cells": [
  {
   "cell_type": "markdown",
   "id": "48660241-8117-4a73-b0b4-df969997b4ec",
   "metadata": {},
   "source": [
    "# get pageviews with AWS"
   ]
  },
  {
   "cell_type": "code",
   "execution_count": 4,
   "id": "3f3b0379",
   "metadata": {},
   "outputs": [],
   "source": [
    "mysql_user = 'ubuntu'\n",
    "# mysql_pass = input(f'Enter the MySQL password for user {mysql_user}: ')"
   ]
  },
  {
   "cell_type": "code",
   "execution_count": 253,
   "id": "dc5fc8bf",
   "metadata": {},
   "outputs": [],
   "source": [
    "todays_date = dt.datetime.now(tz=dt.timezone(dt.timedelta(hours=8))).strftime('%Y-%m-%d')\n",
    "logfilepath = '../data/logs/pageviews-log_' + todays_date + '_' + str(0) + '.txt'"
   ]
  },
  {
   "cell_type": "markdown",
   "id": "6efed6e0",
   "metadata": {},
   "source": [
    "#### how to do jupyter with aws"
   ]
  },
  {
   "cell_type": "markdown",
   "id": "00b3ed43",
   "metadata": {},
   "source": [
    "- https://dataschool.com/data-modeling-101/running-jupyter-notebook-on-an-ec2-server/\n",
    "    - except jupyter_notebook_config.py_ should be ...config.py instead\n",
    "- https://gist.github.com/J535D165/0e840291e7b2598ec157e13e9b9ca569\n",
    "    - trying this for how to use nohup\n",
    "- some medium [article](https://medium.com/@christinakouride/a-beginners-guide-to-running-jupyter-notebook-on-amazon-ec2-69e1b74e73cc#:~:text=Your%20Jupyter%20Notebook%20server%20will,for%20time%20not%20using%20it.)\n",
    "    - they pointed out that notebook will keep running, but didn't mention nohup"
   ]
  },
  {
   "cell_type": "code",
   "execution_count": 278,
   "id": "17eba2f0-f33b-40f6-ae44-30c348ca5a6c",
   "metadata": {},
   "outputs": [],
   "source": [
    "import os, requests, gzip, pickle, io, logging, inspect\n",
    "import pandas as pd, datetime as dt\n",
    "import mysql.connector as mysql, sqlalchemy"
   ]
  },
  {
   "cell_type": "code",
   "execution_count": 2,
   "id": "42c9239c",
   "metadata": {
    "scrolled": true
   },
   "outputs": [
    {
     "name": "stdout",
     "output_type": "stream",
     "text": [
      "3.9.7\n"
     ]
    }
   ],
   "source": [
    "from platform import python_version\n",
    "print(python_version())"
   ]
  },
  {
   "cell_type": "markdown",
   "id": "c95e3dd5",
   "metadata": {},
   "source": [
    "## setup logging"
   ]
  },
  {
   "cell_type": "code",
   "execution_count": 287,
   "id": "05f55b3a",
   "metadata": {},
   "outputs": [],
   "source": [
    "logger = logging.getLogger('1.22-sfb-get-pageviews-with-AWS')\n",
    "logger.setLevel(logging.DEBUG)\n",
    "# create file handler which logs even debug messages\n",
    "fh = logging.FileHandler(logfilepath)\n",
    "fh.setLevel(logging.DEBUG)\n",
    "# create console handler with a higher log level\n",
    "ch = logging.StreamHandler()\n",
    "ch.setLevel(logging.ERROR)\n",
    "# create formatter and add it to the handlers\n",
    "formatter = logging.Formatter('%(asctime)s - %(name)s - %(levelname)s - %(message)s')\n",
    "fh.setFormatter(formatter)\n",
    "ch.setFormatter(formatter)\n",
    "# add the handlers to the logger\n",
    "logger.addHandler(fh)\n",
    "logger.addHandler(ch)\n",
    "\n",
    "# USAGE:\n",
    "# logger.info('foobarbazquxquuxquuzcorgegraultgarplywaldofredplughxyzzythud')\n",
    "\n",
    "# https://docs.python.org/3/howto/logging-cookbook.html"
   ]
  },
  {
   "cell_type": "code",
   "execution_count": 302,
   "id": "1e603aaf",
   "metadata": {},
   "outputs": [],
   "source": [
    "def log_args(func):\n",
    "    \"\"\"\n",
    "    Decorator to print function call details.\n",
    "    This includes parameters names and effective values.\n",
    "    \"\"\"\n",
    "    def wrapper(*args, **kwargs):\n",
    "        func_args = inspect.signature(func).bind(*args, **kwargs).arguments\n",
    "        func_args_str = \", \".join(map(\"{0[0]} = {0[1]!r}\".format, func_args.items()))\n",
    "        logger.info(f\"start {func.__module__}.{func.__qualname__} ( {func_args_str} )\")\n",
    "        try:\n",
    "            return func(*args, **kwargs)\n",
    "        finally:\n",
    "            logger.info(f\"finish {func.__module__}.{func.__qualname__} ( {func_args_str} )\\n\")\n",
    "    return wrapper"
   ]
  },
  {
   "cell_type": "code",
   "execution_count": 303,
   "id": "b16693e3",
   "metadata": {},
   "outputs": [],
   "source": [
    "def log_simply(func):\n",
    "    \"\"\"\n",
    "    Decorator to print function call details.\n",
    "    This includes parameters names and effective values.\n",
    "    \"\"\"\n",
    "    def wrapper(*args, **kwargs):\n",
    "        func_args = inspect.signature(func).bind(*args, **kwargs).arguments\n",
    "        func_args_str = \", \".join(map(\"{0[0]} = {0[1]!r}\".format, func_args.items()))\n",
    "        logger.info(f\"start {func.__module__}.{func.__qualname__}\")\n",
    "        try:\n",
    "            return func(*args, **kwargs)\n",
    "        finally:\n",
    "            logger.info(f\"finish {func.__module__}.{func.__qualname__}\\n\")\n",
    "    return wrapper"
   ]
  },
  {
   "cell_type": "markdown",
   "id": "3f53aa34",
   "metadata": {},
   "source": [
    "##### login to mariadb"
   ]
  },
  {
   "cell_type": "code",
   "execution_count": 304,
   "id": "95528e47",
   "metadata": {},
   "outputs": [],
   "source": [
    "@log_simply\n",
    "def connect_mariadb():\n",
    "    host='localhost'; user=mysql_user; passwd=mysql_pass; dbname='jawiki';\n",
    "    cxn = mysql.connect(host=host,user=user,passwd=passwd, database=dbname)\n",
    "    cur = cxn.cursor()\n",
    "\n",
    "    connection_str = 'mysql+mysqlconnector://'+user+':'+passwd+'@'+host+'/'+dbname  # removed this after host +':'+dbport\n",
    "    try:\n",
    "        engine = sqlalchemy.create_engine(connection_str)\n",
    "        conn = engine.connect()\n",
    "    except Exception as e:\n",
    "        print('Database connection error - check creds')\n",
    "        print(e)\n",
    "    return cxn, cur, engine, conn\n",
    "        \n",
    "cxn, cur, engine, conn = connect_mariadb()"
   ]
  },
  {
   "cell_type": "markdown",
   "id": "8f2abe8c",
   "metadata": {},
   "source": [
    "## get page_titles and urls"
   ]
  },
  {
   "cell_type": "markdown",
   "id": "4ee994dc",
   "metadata": {},
   "source": [
    "## functions"
   ]
  },
  {
   "cell_type": "markdown",
   "id": "b56339bc",
   "metadata": {},
   "source": [
    "###### function get_pageviews_urls_and_outpaths_by_years"
   ]
  },
  {
   "cell_type": "code",
   "execution_count": 305,
   "id": "bec6c645",
   "metadata": {},
   "outputs": [],
   "source": [
    "@log_args\n",
    "def get_pageviews_urls_by_year(year:int) -> list[str]:\n",
    "    \"\"\"\n",
    "    Programmatically generate the urls and local file structure to get pageviews hourfiles.\n",
    "    INPUT: year as integer\n",
    "    OUTPUT: list of urls to all the hourfiles for that year\n",
    "    NOTE: filenames are formatted as: \n",
    "        'pageviews-20210101-000000.gz', i.e.\n",
    "        'pageviews-yyyymmdd-hhmmss.gz', although 'mmss' is always '0000'    \n",
    "    \"\"\"\n",
    "    hour_strings = list(map(lambda x: str(x).zfill(2), range(0,24)))  # '00' through '23' \n",
    "    dates = pd.date_range(dt.datetime(year,1,1), \n",
    "                          end=dt.datetime(year+1,1,1), \n",
    "                          freq='D')  # , tz='Japan'                   # each date in the year\n",
    "    base_url = 'https://dumps.wikimedia.org/other/pageviews/'\n",
    "\n",
    "    urls = [f'{base_url}{d.year}/{d.year}-{str(d.month).zfill(2)}'\n",
    "            f'/pageviews-{d.year}{str(d.month).zfill(2)}{str(d.day).zfill(2)}-{h}0000.gz'\n",
    "            for d in dates for h in hour_strings]"
   ]
  },
  {
   "cell_type": "markdown",
   "id": "899ddcee-6006-4aa1-9219-877a34704748",
   "metadata": {},
   "source": [
    "##### function download_file to temporarily store hourfiles"
   ]
  },
  {
   "cell_type": "code",
   "execution_count": 306,
   "id": "c1d5b0f9-df90-4710-8349-543a9723c17a",
   "metadata": {},
   "outputs": [],
   "source": [
    "@log_args\n",
    "def download_file(url, dirpath='./'):\n",
    "    \"\"\"\n",
    "    Carefully downloads the file from the url to the local directory dirpath.\n",
    "    Should work for large files, and hopefully for poor connections, etc.\n",
    "    \"\"\"\n",
    "    local_filepath = dirpath + url.split('/')[-1]\n",
    "    # NOTE the stream=True parameter below\n",
    "    with requests.get(url, stream=True) as r:\n",
    "        r.raise_for_status()\n",
    "        with open(local_filepath, 'wb') as f:\n",
    "            for chunk in r.iter_content(chunk_size=131072):   #8192\n",
    "                # If you have chunk encoded response uncomment if\n",
    "                # and set chunk_size parameter to None.\n",
    "                #if chunk: \n",
    "                f.write(chunk)\n",
    "    return local_filepath\n",
    "# https://stackoverflow.com/questions/16694907/download-large-file-in-python-with-requests"
   ]
  },
  {
   "cell_type": "markdown",
   "id": "46d42190",
   "metadata": {},
   "source": [
    "###### function get_pageviews_subset_by_project to get all jawiki pageviews from an hourfile"
   ]
  },
  {
   "cell_type": "code",
   "execution_count": 307,
   "id": "0b48521b",
   "metadata": {},
   "outputs": [],
   "source": [
    "@log_args\n",
    "def open_hour_file(path:str):\n",
    "    \"\"\"\n",
    "    INPUT: path to a .gz file \n",
    "    OUTPUT: open file handle\n",
    "    USAGE:\n",
    "        with open_hour_file(foo) as bar:\n",
    "            baz\n",
    "    BEHAVIOR: if filename doesn't have .gz extension, tries to open without decompression\n",
    "    \n",
    "    \"\"\"\n",
    "    if path[-3:] == \".gz\":\n",
    "        return gzip.open(path, mode=\"rt\", encoding=\"utf-8\", errors=\"replace\")\n",
    "    else:\n",
    "        return open(path, mode=\"rt\", encoding=\"utf-8\", errors=\"replace\")\n",
    "# https://github.com/mediawiki-utilities/python-mwviews/blob/main/src/mwviews/utilities/aggregate.py\n",
    "# https://stackoverflow.com/questions/30582162/creating-a-missing-directory-file-structure-python"
   ]
  },
  {
   "cell_type": "code",
   "execution_count": 308,
   "id": "6b2ef29d",
   "metadata": {},
   "outputs": [],
   "source": [
    "@log_args\n",
    "def parse_utc_time_from_filename(filename:str) -> dt.datetime:\n",
    "    \"\"\"\n",
    "    filenames are formatted as: \n",
    "        'pageviews-20210101-000000.gz', i.e.\n",
    "        'pageviews-yyyymmdd-hhmmss.gz', although 'mmss' is always '0000'    \n",
    "    \"\"\"\n",
    "    [d, t] = filename.split('-')[1:]  # split filename into yyyymmdd and hhmmss\n",
    "    return dt.datetime(int(d[:4]), int(d[4:6]), int(d[6:]), int(t[:2]), tzinfo=dt.timezone.utc)"
   ]
  },
  {
   "cell_type": "code",
   "execution_count": 309,
   "id": "d7d66e4a",
   "metadata": {},
   "outputs": [],
   "source": [
    "@log_args\n",
    "def get_pageviews_subset_by_project(fpath_in, proj:str='ja') -> pd.DataFrame:\n",
    "    \"\"\"\n",
    "    INPUT:\n",
    "        fpath: local filepath to pageviews records as text file\n",
    "        proj: mediawiki project code\n",
    "    OUTPUT:\n",
    "        dataframe ready for database ingestion\n",
    "    \"\"\"\n",
    "    lst = []\n",
    "    colnames=['domain_code','page_title','count_views','total_response_size']\n",
    "    # subset pageview records by project as list of strings\n",
    "    with open_hour_file(fpath_in) as f_in:\n",
    "        while (line := f_in.readline()):\n",
    "            if line[:3] != proj + ' ':\n",
    "                continue\n",
    "            lst.append(line)\n",
    "    # turn list of strings into dataframe\n",
    "    df = pd.read_csv(\n",
    "        io.StringIO('\\n'.join(lst))\n",
    "        ,delim_whitespace=True\n",
    "        ,names=colnames)\n",
    "    # add datetime_viewed_UTC as column based on filename\n",
    "    parsed_datetime = parse_utc_time_from_filename(fpath_in.split(sep='/')[-1])\n",
    "    df = df.assign(datetime_viewed_UTC=parsed_datetime)\n",
    "    # add datetime_added_UTC as the time when this function runs\n",
    "    now_datetime = dt.datetime.now(tz=dt.timezone.utc)\n",
    "    df = df.assign(datetime_added_UTC=now_datetime)\n",
    "    return df\n",
    "    "
   ]
  },
  {
   "cell_type": "markdown",
   "id": "79b653d4",
   "metadata": {},
   "source": [
    "###### function etl_pageviews_by_years_and_projects"
   ]
  },
  {
   "cell_type": "code",
   "execution_count": 310,
   "id": "3d50519e",
   "metadata": {},
   "outputs": [],
   "source": [
    "@log_args\n",
    "def does_table_exist(tablename:str, dbname:str='jawiki', con=conn):\n",
    "    sql = f\"\"\"\n",
    "    SELECT * \n",
    "        FROM information_schema.tables\n",
    "    WHERE table_schema = '{dbname}' \n",
    "        AND table_name = '{tablename}'\n",
    "    LIMIT 1;\n",
    "    \"\"\"\n",
    "    return bool(pd.read_sql(sql, con).shape[0])"
   ]
  },
  {
   "cell_type": "code",
   "execution_count": 312,
   "id": "a5a22d30",
   "metadata": {},
   "outputs": [],
   "source": [
    "@log_args\n",
    "def create_pageviews_table(con=conn):\n",
    "    sql = \"\"\"\n",
    "    CREATE TABLE pageviews (\n",
    "        row_id BIGINT(20) AUTO_INCREMENT PRIMARY KEY\n",
    "        ,domain_code TEXT\n",
    "        ,page_title TEXT\n",
    "        ,count_views BIGINT(20)\n",
    "        ,total_response_size BIGINT(20)\n",
    "        ,datetime_viewed_UTC TIMESTAMP DEFAULT 0\n",
    "        ,datetime_added_UTC TIMESTAMP DEFAULT CURRENT_TIMESTAMP \n",
    "    )\n",
    "    ;\n",
    "    \"\"\"\n",
    "    conn.execute(sql)"
   ]
  },
  {
   "cell_type": "code",
   "execution_count": null,
   "id": "463ec6ad",
   "metadata": {},
   "outputs": [],
   "source": []
  },
  {
   "cell_type": "code",
   "execution_count": null,
   "id": "c4f21277",
   "metadata": {},
   "outputs": [],
   "source": [
    "def etl_pageviews_by_years_and_projects(years:list[int], project:str, logfilepath:str, conn):\n",
    "    if not does_table_exist('pageviews'):\n",
    "        create_pageviews_table(conn)\n",
    "        \n",
    "    for year in years:\n",
    "        urls = get_pageviews_urls_by_year(year)\n",
    "    "
   ]
  },
  {
   "cell_type": "code",
   "execution_count": null,
   "id": "6d6a0fc5",
   "metadata": {},
   "outputs": [],
   "source": []
  },
  {
   "cell_type": "raw",
   "id": "e89c9672",
   "metadata": {},
   "source": [
    "conn.execute('drop table pageviews;')"
   ]
  },
  {
   "cell_type": "code",
   "execution_count": 313,
   "id": "917b04b2",
   "metadata": {},
   "outputs": [
    {
     "data": {
      "text/html": [
       "<div>\n",
       "<style scoped>\n",
       "    .dataframe tbody tr th:only-of-type {\n",
       "        vertical-align: middle;\n",
       "    }\n",
       "\n",
       "    .dataframe tbody tr th {\n",
       "        vertical-align: top;\n",
       "    }\n",
       "\n",
       "    .dataframe thead th {\n",
       "        text-align: right;\n",
       "    }\n",
       "</style>\n",
       "<table border=\"1\" class=\"dataframe\">\n",
       "  <thead>\n",
       "    <tr style=\"text-align: right;\">\n",
       "      <th></th>\n",
       "      <th>Field</th>\n",
       "      <th>Type</th>\n",
       "      <th>Null</th>\n",
       "      <th>Key</th>\n",
       "      <th>Default</th>\n",
       "      <th>Extra</th>\n",
       "    </tr>\n",
       "  </thead>\n",
       "  <tbody>\n",
       "    <tr>\n",
       "      <th>0</th>\n",
       "      <td>row_id</td>\n",
       "      <td>bigint(20)</td>\n",
       "      <td>NO</td>\n",
       "      <td>PRI</td>\n",
       "      <td>None</td>\n",
       "      <td>auto_increment</td>\n",
       "    </tr>\n",
       "    <tr>\n",
       "      <th>1</th>\n",
       "      <td>domain_code</td>\n",
       "      <td>text</td>\n",
       "      <td>YES</td>\n",
       "      <td></td>\n",
       "      <td>None</td>\n",
       "      <td></td>\n",
       "    </tr>\n",
       "    <tr>\n",
       "      <th>2</th>\n",
       "      <td>page_title</td>\n",
       "      <td>text</td>\n",
       "      <td>YES</td>\n",
       "      <td></td>\n",
       "      <td>None</td>\n",
       "      <td></td>\n",
       "    </tr>\n",
       "    <tr>\n",
       "      <th>3</th>\n",
       "      <td>count_views</td>\n",
       "      <td>bigint(20)</td>\n",
       "      <td>YES</td>\n",
       "      <td></td>\n",
       "      <td>None</td>\n",
       "      <td></td>\n",
       "    </tr>\n",
       "    <tr>\n",
       "      <th>4</th>\n",
       "      <td>total_response_size</td>\n",
       "      <td>bigint(20)</td>\n",
       "      <td>YES</td>\n",
       "      <td></td>\n",
       "      <td>None</td>\n",
       "      <td></td>\n",
       "    </tr>\n",
       "    <tr>\n",
       "      <th>5</th>\n",
       "      <td>datetime_viewed_UTC</td>\n",
       "      <td>timestamp</td>\n",
       "      <td>NO</td>\n",
       "      <td></td>\n",
       "      <td>0000-00-00 00:00:00</td>\n",
       "      <td></td>\n",
       "    </tr>\n",
       "    <tr>\n",
       "      <th>6</th>\n",
       "      <td>datetime_added_UTC</td>\n",
       "      <td>timestamp</td>\n",
       "      <td>NO</td>\n",
       "      <td></td>\n",
       "      <td>current_timestamp()</td>\n",
       "      <td></td>\n",
       "    </tr>\n",
       "  </tbody>\n",
       "</table>\n",
       "</div>"
      ],
      "text/plain": [
       "                 Field        Type Null  Key              Default  \\\n",
       "0               row_id  bigint(20)   NO  PRI                 None   \n",
       "1          domain_code        text  YES                      None   \n",
       "2           page_title        text  YES                      None   \n",
       "3          count_views  bigint(20)  YES                      None   \n",
       "4  total_response_size  bigint(20)  YES                      None   \n",
       "5  datetime_viewed_UTC   timestamp   NO       0000-00-00 00:00:00   \n",
       "6   datetime_added_UTC   timestamp   NO       current_timestamp()   \n",
       "\n",
       "            Extra  \n",
       "0  auto_increment  \n",
       "1                  \n",
       "2                  \n",
       "3                  \n",
       "4                  \n",
       "5                  \n",
       "6                  "
      ]
     },
     "execution_count": 313,
     "metadata": {},
     "output_type": "execute_result"
    }
   ],
   "source": [
    "pd.read_sql('desc pageviews;', con=conn)"
   ]
  },
  {
   "cell_type": "code",
   "execution_count": null,
   "id": "6a366a00",
   "metadata": {},
   "outputs": [],
   "source": []
  },
  {
   "cell_type": "code",
   "execution_count": 116,
   "id": "8179d41b",
   "metadata": {},
   "outputs": [
    {
     "data": {
      "text/plain": [
       "'../data/processed/pageviews/pageviews-20210101-010000.gz'"
      ]
     },
     "execution_count": 116,
     "metadata": {},
     "output_type": "execute_result"
    }
   ],
   "source": [
    "download_file(urls[1], dirpath=out_dirpath)"
   ]
  },
  {
   "cell_type": "code",
   "execution_count": null,
   "id": "c2359907",
   "metadata": {},
   "outputs": [],
   "source": []
  },
  {
   "cell_type": "code",
   "execution_count": 176,
   "id": "44ab96f7",
   "metadata": {},
   "outputs": [],
   "source": [
    "filename0 = 'pageviews-20210101-000000.gz'"
   ]
  },
  {
   "cell_type": "code",
   "execution_count": 177,
   "id": "35ffff5f",
   "metadata": {},
   "outputs": [],
   "source": [
    "df0 = get_pageviews_subset_by_project(out_dirpath + filename0)"
   ]
  },
  {
   "cell_type": "code",
   "execution_count": 184,
   "id": "5e8a88b4",
   "metadata": {},
   "outputs": [],
   "source": [
    "df0.to_sql(name='pageviews',con=conn, if_exists='append', index=False)"
   ]
  },
  {
   "cell_type": "code",
   "execution_count": null,
   "id": "98fe736b",
   "metadata": {},
   "outputs": [],
   "source": []
  },
  {
   "cell_type": "code",
   "execution_count": 186,
   "id": "71805be7",
   "metadata": {},
   "outputs": [
    {
     "data": {
      "text/html": [
       "<div>\n",
       "<style scoped>\n",
       "    .dataframe tbody tr th:only-of-type {\n",
       "        vertical-align: middle;\n",
       "    }\n",
       "\n",
       "    .dataframe tbody tr th {\n",
       "        vertical-align: top;\n",
       "    }\n",
       "\n",
       "    .dataframe thead th {\n",
       "        text-align: right;\n",
       "    }\n",
       "</style>\n",
       "<table border=\"1\" class=\"dataframe\">\n",
       "  <thead>\n",
       "    <tr style=\"text-align: right;\">\n",
       "      <th></th>\n",
       "      <th>domain_code</th>\n",
       "      <th>page_title</th>\n",
       "      <th>count_views</th>\n",
       "      <th>total_response_size</th>\n",
       "      <th>datetime_viewed_UTC</th>\n",
       "      <th>datetime_added_UTC</th>\n",
       "    </tr>\n",
       "    <tr>\n",
       "      <th>row_id</th>\n",
       "      <th></th>\n",
       "      <th></th>\n",
       "      <th></th>\n",
       "      <th></th>\n",
       "      <th></th>\n",
       "      <th></th>\n",
       "    </tr>\n",
       "  </thead>\n",
       "  <tbody>\n",
       "    <tr>\n",
       "      <th>1</th>\n",
       "      <td>ja</td>\n",
       "      <td>Hello,_world.</td>\n",
       "      <td>1</td>\n",
       "      <td>0</td>\n",
       "      <td>2021-01-01</td>\n",
       "      <td>2022-03-20 08:25:56</td>\n",
       "    </tr>\n",
       "    <tr>\n",
       "      <th>2</th>\n",
       "      <td>ja</td>\n",
       "      <td>$百萬BABY</td>\n",
       "      <td>1</td>\n",
       "      <td>0</td>\n",
       "      <td>2021-01-01</td>\n",
       "      <td>2022-03-20 08:25:56</td>\n",
       "    </tr>\n",
       "    <tr>\n",
       "      <th>3</th>\n",
       "      <td>ja</td>\n",
       "      <td>'81秋・全番組総出演!激唱!!オールスター</td>\n",
       "      <td>1</td>\n",
       "      <td>0</td>\n",
       "      <td>2021-01-01</td>\n",
       "      <td>2022-03-20 08:25:56</td>\n",
       "    </tr>\n",
       "    <tr>\n",
       "      <th>4</th>\n",
       "      <td>ja</td>\n",
       "      <td>(ry</td>\n",
       "      <td>1</td>\n",
       "      <td>0</td>\n",
       "      <td>2021-01-01</td>\n",
       "      <td>2022-03-20 08:25:56</td>\n",
       "    </tr>\n",
       "    <tr>\n",
       "      <th>5</th>\n",
       "      <td>ja</td>\n",
       "      <td>+Lhaca</td>\n",
       "      <td>1</td>\n",
       "      <td>0</td>\n",
       "      <td>2021-01-01</td>\n",
       "      <td>2022-03-20 08:25:56</td>\n",
       "    </tr>\n",
       "    <tr>\n",
       "      <th>6</th>\n",
       "      <td>ja</td>\n",
       "      <td>-</td>\n",
       "      <td>138</td>\n",
       "      <td>0</td>\n",
       "      <td>2021-01-01</td>\n",
       "      <td>2022-03-20 08:25:56</td>\n",
       "    </tr>\n",
       "    <tr>\n",
       "      <th>7</th>\n",
       "      <td>ja</td>\n",
       "      <td>.260レミントン</td>\n",
       "      <td>1</td>\n",
       "      <td>0</td>\n",
       "      <td>2021-01-01</td>\n",
       "      <td>2022-03-20 08:25:56</td>\n",
       "    </tr>\n",
       "    <tr>\n",
       "      <th>8</th>\n",
       "      <td>ja</td>\n",
       "      <td>.300ウィンチェスター・ショート・マグナム</td>\n",
       "      <td>2</td>\n",
       "      <td>0</td>\n",
       "      <td>2021-01-01</td>\n",
       "      <td>2022-03-20 08:25:56</td>\n",
       "    </tr>\n",
       "    <tr>\n",
       "      <th>9</th>\n",
       "      <td>ja</td>\n",
       "      <td>.308ウィンチェスター</td>\n",
       "      <td>1</td>\n",
       "      <td>0</td>\n",
       "      <td>2021-01-01</td>\n",
       "      <td>2022-03-20 08:25:56</td>\n",
       "    </tr>\n",
       "    <tr>\n",
       "      <th>10</th>\n",
       "      <td>ja</td>\n",
       "      <td>.338ラプア・マグナム</td>\n",
       "      <td>1</td>\n",
       "      <td>0</td>\n",
       "      <td>2021-01-01</td>\n",
       "      <td>2022-03-20 08:25:56</td>\n",
       "    </tr>\n",
       "  </tbody>\n",
       "</table>\n",
       "</div>"
      ],
      "text/plain": [
       "       domain_code              page_title  count_views  total_response_size  \\\n",
       "row_id                                                                         \n",
       "1               ja           Hello,_world.            1                    0   \n",
       "2               ja                 $百萬BABY            1                    0   \n",
       "3               ja  '81秋・全番組総出演!激唱!!オールスター            1                    0   \n",
       "4               ja                     (ry            1                    0   \n",
       "5               ja                  +Lhaca            1                    0   \n",
       "6               ja                       -          138                    0   \n",
       "7               ja               .260レミントン            1                    0   \n",
       "8               ja  .300ウィンチェスター・ショート・マグナム            2                    0   \n",
       "9               ja            .308ウィンチェスター            1                    0   \n",
       "10              ja            .338ラプア・マグナム            1                    0   \n",
       "\n",
       "       datetime_viewed_UTC  datetime_added_UTC  \n",
       "row_id                                          \n",
       "1               2021-01-01 2022-03-20 08:25:56  \n",
       "2               2021-01-01 2022-03-20 08:25:56  \n",
       "3               2021-01-01 2022-03-20 08:25:56  \n",
       "4               2021-01-01 2022-03-20 08:25:56  \n",
       "5               2021-01-01 2022-03-20 08:25:56  \n",
       "6               2021-01-01 2022-03-20 08:25:56  \n",
       "7               2021-01-01 2022-03-20 08:25:56  \n",
       "8               2021-01-01 2022-03-20 08:25:56  \n",
       "9               2021-01-01 2022-03-20 08:25:56  \n",
       "10              2021-01-01 2022-03-20 08:25:56  "
      ]
     },
     "execution_count": 186,
     "metadata": {},
     "output_type": "execute_result"
    }
   ],
   "source": [
    "sql = 'select * from pageviews limit 10'\n",
    "pd.read_sql(sql, con=conn, index_col='row_id')"
   ]
  },
  {
   "cell_type": "code",
   "execution_count": null,
   "id": "4c86ba88",
   "metadata": {},
   "outputs": [],
   "source": []
  },
  {
   "cell_type": "code",
   "execution_count": 187,
   "id": "a74f2510",
   "metadata": {},
   "outputs": [],
   "source": [
    "filename1 = 'pageviews-20210101-010000.gz'"
   ]
  },
  {
   "cell_type": "code",
   "execution_count": 188,
   "id": "09a5239e",
   "metadata": {},
   "outputs": [],
   "source": [
    "df1 = get_pageviews_subset_by_project(out_dirpath + filename1)"
   ]
  },
  {
   "cell_type": "code",
   "execution_count": 189,
   "id": "83a8555b",
   "metadata": {},
   "outputs": [],
   "source": [
    "df1.to_sql(name='pageviews',con=conn, if_exists='append', index=False)"
   ]
  },
  {
   "cell_type": "code",
   "execution_count": 190,
   "id": "4633eea3",
   "metadata": {},
   "outputs": [
    {
     "data": {
      "text/html": [
       "<div>\n",
       "<style scoped>\n",
       "    .dataframe tbody tr th:only-of-type {\n",
       "        vertical-align: middle;\n",
       "    }\n",
       "\n",
       "    .dataframe tbody tr th {\n",
       "        vertical-align: top;\n",
       "    }\n",
       "\n",
       "    .dataframe thead th {\n",
       "        text-align: right;\n",
       "    }\n",
       "</style>\n",
       "<table border=\"1\" class=\"dataframe\">\n",
       "  <thead>\n",
       "    <tr style=\"text-align: right;\">\n",
       "      <th></th>\n",
       "      <th>count(*)</th>\n",
       "    </tr>\n",
       "  </thead>\n",
       "  <tbody>\n",
       "    <tr>\n",
       "      <th>0</th>\n",
       "      <td>206956</td>\n",
       "    </tr>\n",
       "  </tbody>\n",
       "</table>\n",
       "</div>"
      ],
      "text/plain": [
       "   count(*)\n",
       "0    206956"
      ]
     },
     "execution_count": 190,
     "metadata": {},
     "output_type": "execute_result"
    }
   ],
   "source": [
    "pd.read_sql('select count(*) from pageviews;', con=conn)"
   ]
  },
  {
   "cell_type": "code",
   "execution_count": 192,
   "id": "46ed363b",
   "metadata": {},
   "outputs": [
    {
     "data": {
      "text/html": [
       "<div>\n",
       "<style scoped>\n",
       "    .dataframe tbody tr th:only-of-type {\n",
       "        vertical-align: middle;\n",
       "    }\n",
       "\n",
       "    .dataframe tbody tr th {\n",
       "        vertical-align: top;\n",
       "    }\n",
       "\n",
       "    .dataframe thead th {\n",
       "        text-align: right;\n",
       "    }\n",
       "</style>\n",
       "<table border=\"1\" class=\"dataframe\">\n",
       "  <thead>\n",
       "    <tr style=\"text-align: right;\">\n",
       "      <th></th>\n",
       "      <th>domain_code</th>\n",
       "      <th>page_title</th>\n",
       "      <th>count_views</th>\n",
       "      <th>total_response_size</th>\n",
       "      <th>datetime_viewed_UTC</th>\n",
       "      <th>datetime_added_UTC</th>\n",
       "    </tr>\n",
       "    <tr>\n",
       "      <th>row_id</th>\n",
       "      <th></th>\n",
       "      <th></th>\n",
       "      <th></th>\n",
       "      <th></th>\n",
       "      <th></th>\n",
       "      <th></th>\n",
       "    </tr>\n",
       "  </thead>\n",
       "  <tbody>\n",
       "    <tr>\n",
       "      <th>1</th>\n",
       "      <td>ja</td>\n",
       "      <td>Hello,_world.</td>\n",
       "      <td>1</td>\n",
       "      <td>0</td>\n",
       "      <td>2021-01-01</td>\n",
       "      <td>2022-03-20 08:25:56</td>\n",
       "    </tr>\n",
       "    <tr>\n",
       "      <th>2</th>\n",
       "      <td>ja</td>\n",
       "      <td>$百萬BABY</td>\n",
       "      <td>1</td>\n",
       "      <td>0</td>\n",
       "      <td>2021-01-01</td>\n",
       "      <td>2022-03-20 08:25:56</td>\n",
       "    </tr>\n",
       "    <tr>\n",
       "      <th>3</th>\n",
       "      <td>ja</td>\n",
       "      <td>'81秋・全番組総出演!激唱!!オールスター</td>\n",
       "      <td>1</td>\n",
       "      <td>0</td>\n",
       "      <td>2021-01-01</td>\n",
       "      <td>2022-03-20 08:25:56</td>\n",
       "    </tr>\n",
       "    <tr>\n",
       "      <th>4</th>\n",
       "      <td>ja</td>\n",
       "      <td>(ry</td>\n",
       "      <td>1</td>\n",
       "      <td>0</td>\n",
       "      <td>2021-01-01</td>\n",
       "      <td>2022-03-20 08:25:56</td>\n",
       "    </tr>\n",
       "    <tr>\n",
       "      <th>5</th>\n",
       "      <td>ja</td>\n",
       "      <td>+Lhaca</td>\n",
       "      <td>1</td>\n",
       "      <td>0</td>\n",
       "      <td>2021-01-01</td>\n",
       "      <td>2022-03-20 08:25:56</td>\n",
       "    </tr>\n",
       "  </tbody>\n",
       "</table>\n",
       "</div>"
      ],
      "text/plain": [
       "       domain_code              page_title  count_views  total_response_size  \\\n",
       "row_id                                                                         \n",
       "1               ja           Hello,_world.            1                    0   \n",
       "2               ja                 $百萬BABY            1                    0   \n",
       "3               ja  '81秋・全番組総出演!激唱!!オールスター            1                    0   \n",
       "4               ja                     (ry            1                    0   \n",
       "5               ja                  +Lhaca            1                    0   \n",
       "\n",
       "       datetime_viewed_UTC  datetime_added_UTC  \n",
       "row_id                                          \n",
       "1               2021-01-01 2022-03-20 08:25:56  \n",
       "2               2021-01-01 2022-03-20 08:25:56  \n",
       "3               2021-01-01 2022-03-20 08:25:56  \n",
       "4               2021-01-01 2022-03-20 08:25:56  \n",
       "5               2021-01-01 2022-03-20 08:25:56  "
      ]
     },
     "execution_count": 192,
     "metadata": {},
     "output_type": "execute_result"
    }
   ],
   "source": [
    "pd.read_sql('select * from pageviews limit 5;', con=conn, index_col='row_id')"
   ]
  },
  {
   "cell_type": "markdown",
   "id": "e8ed87e8",
   "metadata": {},
   "source": [
    "## get the files"
   ]
  },
  {
   "cell_type": "markdown",
   "id": "323da1ef",
   "metadata": {},
   "source": [
    "###### get many urls"
   ]
  },
  {
   "cell_type": "code",
   "execution_count": null,
   "id": "c6383c43",
   "metadata": {},
   "outputs": [],
   "source": [
    "'https://dumps.wikimedia.org/other/pageviews/2021/2021-01/pageviews-20210101-000000.gz'"
   ]
  },
  {
   "cell_type": "code",
   "execution_count": null,
   "id": "036d5fc6",
   "metadata": {},
   "outputs": [],
   "source": []
  },
  {
   "cell_type": "code",
   "execution_count": 115,
   "id": "382a0755",
   "metadata": {},
   "outputs": [],
   "source": []
  },
  {
   "cell_type": "code",
   "execution_count": 149,
   "id": "3e352c90",
   "metadata": {},
   "outputs": [
    {
     "data": {
      "text/html": [
       "<div>\n",
       "<style scoped>\n",
       "    .dataframe tbody tr th:only-of-type {\n",
       "        vertical-align: middle;\n",
       "    }\n",
       "\n",
       "    .dataframe tbody tr th {\n",
       "        vertical-align: top;\n",
       "    }\n",
       "\n",
       "    .dataframe thead th {\n",
       "        text-align: right;\n",
       "    }\n",
       "</style>\n",
       "<table border=\"1\" class=\"dataframe\">\n",
       "  <thead>\n",
       "    <tr style=\"text-align: right;\">\n",
       "      <th></th>\n",
       "      <th>Field</th>\n",
       "      <th>Type</th>\n",
       "      <th>Null</th>\n",
       "      <th>Key</th>\n",
       "      <th>Default</th>\n",
       "      <th>Extra</th>\n",
       "    </tr>\n",
       "  </thead>\n",
       "  <tbody>\n",
       "    <tr>\n",
       "      <th>0</th>\n",
       "      <td>index</td>\n",
       "      <td>bigint(20)</td>\n",
       "      <td>YES</td>\n",
       "      <td>MUL</td>\n",
       "      <td>None</td>\n",
       "      <td></td>\n",
       "    </tr>\n",
       "    <tr>\n",
       "      <th>1</th>\n",
       "      <td>domain_code</td>\n",
       "      <td>text</td>\n",
       "      <td>YES</td>\n",
       "      <td></td>\n",
       "      <td>None</td>\n",
       "      <td></td>\n",
       "    </tr>\n",
       "    <tr>\n",
       "      <th>2</th>\n",
       "      <td>page_title</td>\n",
       "      <td>text</td>\n",
       "      <td>YES</td>\n",
       "      <td></td>\n",
       "      <td>None</td>\n",
       "      <td></td>\n",
       "    </tr>\n",
       "    <tr>\n",
       "      <th>3</th>\n",
       "      <td>count_views</td>\n",
       "      <td>bigint(20)</td>\n",
       "      <td>YES</td>\n",
       "      <td></td>\n",
       "      <td>None</td>\n",
       "      <td></td>\n",
       "    </tr>\n",
       "    <tr>\n",
       "      <th>4</th>\n",
       "      <td>total_response_size</td>\n",
       "      <td>bigint(20)</td>\n",
       "      <td>YES</td>\n",
       "      <td></td>\n",
       "      <td>None</td>\n",
       "      <td></td>\n",
       "    </tr>\n",
       "    <tr>\n",
       "      <th>5</th>\n",
       "      <td>datetime_viewed_UTC</td>\n",
       "      <td>timestamp</td>\n",
       "      <td>YES</td>\n",
       "      <td></td>\n",
       "      <td>None</td>\n",
       "      <td></td>\n",
       "    </tr>\n",
       "    <tr>\n",
       "      <th>6</th>\n",
       "      <td>datetime_added_UTC</td>\n",
       "      <td>timestamp</td>\n",
       "      <td>YES</td>\n",
       "      <td></td>\n",
       "      <td>None</td>\n",
       "      <td></td>\n",
       "    </tr>\n",
       "  </tbody>\n",
       "</table>\n",
       "</div>"
      ],
      "text/plain": [
       "                 Field        Type Null  Key Default Extra\n",
       "0                index  bigint(20)  YES  MUL    None      \n",
       "1          domain_code        text  YES         None      \n",
       "2           page_title        text  YES         None      \n",
       "3          count_views  bigint(20)  YES         None      \n",
       "4  total_response_size  bigint(20)  YES         None      \n",
       "5  datetime_viewed_UTC   timestamp  YES         None      \n",
       "6   datetime_added_UTC   timestamp  YES         None      "
      ]
     },
     "execution_count": 149,
     "metadata": {},
     "output_type": "execute_result"
    }
   ],
   "source": [
    "pd.read_sql('desc pageviews;', con=conn)"
   ]
  },
  {
   "cell_type": "markdown",
   "id": "cb49b531",
   "metadata": {},
   "source": [
    "##### populate the database"
   ]
  },
  {
   "cell_type": "markdown",
   "id": "4b76a9a8",
   "metadata": {},
   "source": [
    "###### test to_sql"
   ]
  },
  {
   "cell_type": "raw",
   "id": "f87bb3c6",
   "metadata": {},
   "source": [
    "out_dirpath+'pageviews-20210101-000000.gz'"
   ]
  },
  {
   "cell_type": "markdown",
   "id": "589bf180",
   "metadata": {},
   "source": []
  },
  {
   "cell_type": "code",
   "execution_count": 18,
   "id": "36972e9a",
   "metadata": {},
   "outputs": [],
   "source": [
    "temp_fpath = download_file(url=urls[0], dirpath=out_dirpath)"
   ]
  },
  {
   "cell_type": "markdown",
   "id": "59a45330",
   "metadata": {},
   "source": [
    "###### get a page_title-filtered hourfile from txt as a dataframe"
   ]
  },
  {
   "cell_type": "raw",
   "id": "ebc4c5e5",
   "metadata": {},
   "source": [
    "pd.read_csv(out_dirpath+'test.txt', sep=' ')"
   ]
  },
  {
   "cell_type": "markdown",
   "id": "15e1ab04",
   "metadata": {},
   "source": [
    "###### get a project-filtered  hourfile as txt, then df, then mariadb table"
   ]
  },
  {
   "cell_type": "code",
   "execution_count": 33,
   "id": "1937470b",
   "metadata": {},
   "outputs": [],
   "source": [
    "subset_pageviews_by_project(temp_fpath,out_dirpath+'test2.txt')"
   ]
  },
  {
   "cell_type": "markdown",
   "id": "35441093",
   "metadata": {},
   "source": [
    "###### pageviews as df"
   ]
  },
  {
   "cell_type": "code",
   "execution_count": 56,
   "id": "77b20311",
   "metadata": {},
   "outputs": [],
   "source": [
    "df = pd.read_csv(out_dirpath+'test2.txt', sep=' ', \n",
    "                 names=['domain_code','page_title','count_views','total_response_size'])"
   ]
  },
  {
   "cell_type": "code",
   "execution_count": 53,
   "id": "244aa342",
   "metadata": {},
   "outputs": [],
   "source": [
    "some_time = dt.datetime(2021,1,1,0,0, tzinfo=dt.timezone.utc)"
   ]
  },
  {
   "cell_type": "code",
   "execution_count": 58,
   "id": "04caa8c8",
   "metadata": {},
   "outputs": [],
   "source": []
  },
  {
   "cell_type": "code",
   "execution_count": null,
   "id": "02cc1f8d",
   "metadata": {},
   "outputs": [],
   "source": []
  },
  {
   "cell_type": "code",
   "execution_count": null,
   "id": "f8f15234",
   "metadata": {},
   "outputs": [],
   "source": []
  },
  {
   "cell_type": "code",
   "execution_count": null,
   "id": "c7869657",
   "metadata": {},
   "outputs": [],
   "source": []
  },
  {
   "cell_type": "raw",
   "id": "f4d19b17",
   "metadata": {},
   "source": [
    "process_start_time = datetime.datetime.now()\n",
    "hours_in_year = 365*24\n",
    "count = 0\n",
    "for url, outpath in zip(urls, outpaths):\n",
    "    file_start_time = datetime.datetime.now()\n",
    "    temp_fpath = download_file(url, dirpath=temp_dirpath)\n",
    "    subset_pageviews_by_page_titles(temp_fpath,outpath,all_titles)\n",
    "    file_end_time = datetime.datetime.now()\n",
    "    clear_output(wait=True)\n",
    "    count += 1\n",
    "    print(outpath)\n",
    "    print(f'process time so far: {file_end_time - start_time}')\n",
    "    frac_done = max(count / hours_in_year, .0000001)\n",
    "    print(f'fraction done: {frac_done}')\n",
    "    process_time_so_far = dt.now() - process_start_time\n",
    "    finish_time = process_start_time + process_time_so_far / frac_done\n",
    "    print (f'expected finish time: {finish_time}')\n",
    "    os.remove(temp_fpath) # i forgot this the first time, it screwed me!\n",
    "process_end_time = datetime.datetime.now()"
   ]
  },
  {
   "cell_type": "code",
   "execution_count": null,
   "id": "98d52a68",
   "metadata": {},
   "outputs": [],
   "source": []
  },
  {
   "cell_type": "code",
   "execution_count": null,
   "id": "a492b8e1",
   "metadata": {},
   "outputs": [],
   "source": []
  },
  {
   "cell_type": "code",
   "execution_count": null,
   "id": "d6ab5383",
   "metadata": {},
   "outputs": [],
   "source": []
  },
  {
   "cell_type": "code",
   "execution_count": null,
   "id": "675b3826",
   "metadata": {},
   "outputs": [],
   "source": []
  },
  {
   "cell_type": "code",
   "execution_count": null,
   "id": "d237a02d",
   "metadata": {},
   "outputs": [],
   "source": []
  },
  {
   "cell_type": "code",
   "execution_count": 98,
   "id": "3262b130",
   "metadata": {},
   "outputs": [
    {
     "data": {
      "text/plain": [
       "[]"
      ]
     },
     "execution_count": 98,
     "metadata": {},
     "output_type": "execute_result"
    }
   ],
   "source": [
    "os.listdir('../data/processed/pageviews/2021/2021-01/')"
   ]
  },
  {
   "cell_type": "markdown",
   "id": "c6960d79",
   "metadata": {},
   "source": [
    "##### download many files (OBSOLETE, SWITCHING TO MARIADB ON EC2)"
   ]
  },
  {
   "cell_type": "raw",
   "id": "816398fe",
   "metadata": {},
   "source": [
    "process_start_time = datetime.datetime.now()\n",
    "hours_in_year = 365*24\n",
    "count = 0\n",
    "for url, outpath in zip(urls, outpaths):\n",
    "    file_start_time = datetime.datetime.now()\n",
    "    temp_fpath = download_file(url, dirpath=temp_dirpath)\n",
    "    subset_pageviews_by_page_titles(temp_fpath,outpath,all_titles)\n",
    "    file_end_time = datetime.datetime.now()\n",
    "    clear_output(wait=True)\n",
    "    count += 1\n",
    "    print(outpath)\n",
    "    print(f'process time so far: {file_end_time - start_time}')\n",
    "    frac_done = max(count / hours_in_year, .0000001)\n",
    "    print(f'fraction done: {frac_done}')\n",
    "    process_time_so_far = dt.now() - process_start_time\n",
    "    finish_time = process_start_time + process_time_so_far / frac_done\n",
    "    print (f'expected finish time: {finish_time}')\n",
    "    os.remove(temp_fpath) # i forgot this the first time, it screwed me!\n",
    "process_end_time = datetime.datetime.now()"
   ]
  },
  {
   "cell_type": "markdown",
   "id": "d795070c",
   "metadata": {},
   "source": [
    "###### peek"
   ]
  },
  {
   "cell_type": "code",
   "execution_count": null,
   "id": "ebd1e8c6-edfe-4e9d-94b5-47806c072bee",
   "metadata": {},
   "outputs": [],
   "source": [
    "# !jupyter nbconvert --to script '1.22-sfb-get-pageviews-with-AWS-lambda.ipynb'"
   ]
  },
  {
   "cell_type": "markdown",
   "id": "426c5806-a843-43a0-a655-a776e8fe2f49",
   "metadata": {
    "jp-MarkdownHeadingCollapsed": true,
    "tags": []
   },
   "source": [
    "##### -----"
   ]
  },
  {
   "cell_type": "markdown",
   "id": "14d36be5-731b-419b-93f7-8119a95682d4",
   "metadata": {},
   "source": [
    "###### ------"
   ]
  },
  {
   "cell_type": "markdown",
   "id": "8cdac068",
   "metadata": {},
   "source": [
    "##### test running cell while laptop sleeping"
   ]
  },
  {
   "cell_type": "markdown",
   "id": "a4629d60",
   "metadata": {},
   "source": [
    "###### idea"
   ]
  },
  {
   "cell_type": "markdown",
   "id": "018ec808",
   "metadata": {},
   "source": [
    "- consider the case where:\n",
    "    - i start the following cell's script as follows:\n",
    "        - on AWS from a ssh terminal \n",
    "        - via nohup jupyter on computer A\n",
    "    - then i disconnect the ssh from computer A\n",
    "        - so that the cell is still running in the instance\n",
    "- then i find the result that:\n",
    "    - i can reopen jupyter from another ssh terminal\n",
    "    - i can interrupt the script\n",
    "    - but i can't see its in-process results\n",
    "- strategy for now:\n",
    "    - develop the script on whatever computers\n",
    "    - then run it from a browser tab in my android phone\n",
    "        - that way i can keep \"tabs\" on it (😉)"
   ]
  },
  {
   "cell_type": "markdown",
   "id": "fb29c376",
   "metadata": {},
   "source": [
    "###### test code"
   ]
  },
  {
   "cell_type": "code",
   "execution_count": null,
   "id": "f2af2ef5",
   "metadata": {},
   "outputs": [],
   "source": [
    "from IPython.display import clear_output\n",
    "import time\n",
    "\n",
    "for i in range(600):\n",
    "    print(i)\n",
    "    time.sleep(1)\n",
    "    clear_output(wait=True)"
   ]
  },
  {
   "cell_type": "markdown",
   "id": "2f7b7f63",
   "metadata": {},
   "source": [
    "##### download many files (OBSOLETE, SWITCHING TO MARIADB ON EC2)"
   ]
  },
  {
   "cell_type": "raw",
   "id": "444a9040",
   "metadata": {},
   "source": [
    "process_start_time = datetime.datetime.now()\n",
    "hours_in_year = 365*24\n",
    "count = 0\n",
    "for url, outpath in zip(urls, outpaths):\n",
    "    file_start_time = datetime.datetime.now()\n",
    "    temp_fpath = download_file(url, dirpath=temp_dirpath)\n",
    "    subset_pageviews_by_page_titles(temp_fpath,outpath,all_titles)\n",
    "    file_end_time = datetime.datetime.now()\n",
    "    clear_output(wait=True)\n",
    "    count += 1\n",
    "    print(outpath)\n",
    "    print(f'process time so far: {file_end_time - start_time}')\n",
    "    frac_done = max(count / hours_in_year, .0000001)\n",
    "    print(f'fraction done: {frac_done}')\n",
    "    process_time_so_far = dt.now() - process_start_time\n",
    "    finish_time = process_start_time + process_time_so_far / frac_done\n",
    "    print (f'expected finish time: {finish_time}')\n",
    "    os.remove(temp_fpath) # i forgot this the first time, it screwed me!\n",
    "process_end_time = datetime.datetime.now()"
   ]
  },
  {
   "cell_type": "markdown",
   "id": "a0ebc8c9",
   "metadata": {},
   "source": [
    "###### function ```subset_pageviews_by_page_titles``` to clean and filter pageview records"
   ]
  },
  {
   "cell_type": "raw",
   "id": "e4fb831a",
   "metadata": {},
   "source": [
    "def subset_pageviews_by_page_titles(fpath_in, fpath_out, page_titles, proj='ja'):\n",
    "    os.makedirs(os.path.dirname(fpath_out), exist_ok=True)\n",
    "    with (open_hour_file(fpath_in) as f_in, \n",
    "          open(fpath_out, 'w', encoding='utf-8') as f_out\n",
    "         ):\n",
    "        while (line := f_in.readline()):\n",
    "            if line[:3] != proj + ' ':\n",
    "                continue\n",
    "            lst = line.strip().split(sep=' ')\n",
    "            if lst[1] in page_titles:\n",
    "                f_out.write(line)"
   ]
  },
  {
   "cell_type": "markdown",
   "id": "f4457b69",
   "metadata": {},
   "source": [
    "###### function ```subset_pageviews_by_project``` to clean and filter pageview records"
   ]
  },
  {
   "cell_type": "raw",
   "id": "072a9469",
   "metadata": {},
   "source": [
    "def subset_pageviews_by_project(fpath_in, fpath_out, proj='ja'):\n",
    "    os.makedirs(os.path.dirname(fpath_out), exist_ok=True)\n",
    "    with (open_hour_file(fpath_in) as f_in, \n",
    "          open(fpath_out, 'w', encoding='utf-8') as f_out\n",
    "         ):\n",
    "        while (line := f_in.readline()):\n",
    "            if line[:3] != proj + ' ':\n",
    "                continue\n",
    "            f_out.write(line)"
   ]
  },
  {
   "cell_type": "markdown",
   "id": "f0c9448f",
   "metadata": {},
   "source": [
    "###### unpickle page list"
   ]
  },
  {
   "cell_type": "raw",
   "id": "a2260a02",
   "metadata": {},
   "source": [
    "def failed_decode(a):\n",
    "    try:\n",
    "        a.decode('utf-8')\n",
    "    except UnicodeDecodeError:\n",
    "        return True\n",
    "    return False\n",
    "\n",
    "def bytearray_to_str(a:bytearray, encoding='utf-8') -> str:\n",
    "    if type(a) != bytearray:\n",
    "        return a        \n",
    "    while failed_decode(a):\n",
    "        a = a[:-1]\n",
    "    return str(a.decode(encoding))"
   ]
  },
  {
   "cell_type": "raw",
   "id": "54df8a13",
   "metadata": {},
   "source": [
    "with open('../data/processed/jawiki/' + 'disaster_descendants_raw.pickle', 'rb') as f:\n",
    "    disaster_descendants_raw = pickle.load(f)"
   ]
  },
  {
   "cell_type": "raw",
   "id": "fb9f9f86",
   "metadata": {},
   "source": [
    "disaster_cat_page_ids = {'火山災害':2390743, '熱帯低気圧':626482, '雪害':2390774, '地震':135264, '津波':765772}  # '自然災害':137069, \n",
    "disasters_english = {'火山災害':'VolcanicDisaster', '熱帯低気圧':'TropicalCyclones', '雪害':'SnowDamage', '地震':'Earthquake', '津波':'Tsunami'}\n",
    "disasters = list(disaster_cat_page_ids.keys())"
   ]
  },
  {
   "cell_type": "raw",
   "id": "1922df41",
   "metadata": {},
   "source": [
    "d = {}\n",
    "for i in disaster_descendants_raw:\n",
    "    d[i] = (disaster_descendants_raw[i]\n",
    "            .drop_duplicates(subset='id')\n",
    "            .applymap(bytearray_to_str)\n",
    "           )\n",
    "    d[i] = d[i][d[i].namespace == 0]\n",
    "    d[i]['page_title'] = d[i].name.map(lambda x: str(x).split(sep='\\n')[-1])\n",
    "disaster_descendants = d\n",
    "del d"
   ]
  },
  {
   "cell_type": "raw",
   "id": "579f38e2",
   "metadata": {},
   "source": [
    "all_titles = [j for i in disaster_descendants for j in disaster_descendants[i].page_title]"
   ]
  },
  {
   "cell_type": "markdown",
   "id": "895ab383",
   "metadata": {},
   "source": [
    "###### FOUND OUT THAT THERE'RE SOME UNRELATED COLUMNS IN THE CATEGORIES:\n",
    "NEED TO CLEAN THE CATEGORIES"
   ]
  },
  {
   "cell_type": "raw",
   "id": "25aad71b",
   "metadata": {},
   "source": [
    "for i in disaster_descendants:\n",
    "    print(i)\n",
    "    print(disaster_descendants[i][disaster_descendants[i].page_title.isin(['WHITEBERRY'])])"
   ]
  },
  {
   "cell_type": "raw",
   "id": "a53dfce1",
   "metadata": {},
   "source": [
    "disaster_descendants['火山災害'][disaster_descendants['火山災害'].page_title.isin(['WHITEBERRY'])]"
   ]
  },
  {
   "cell_type": "raw",
   "id": "972209c1",
   "metadata": {},
   "source": [
    "all_titles[5444:5470]"
   ]
  },
  {
   "cell_type": "raw",
   "id": "5e8d3c7d",
   "metadata": {},
   "source": [
    "[i for i in all_titles if i == 'WHITEBERRY']"
   ]
  }
 ],
 "metadata": {
  "kernelspec": {
   "display_name": "Python 3 (ipykernel)",
   "language": "python",
   "name": "python3"
  },
  "language_info": {
   "codemirror_mode": {
    "name": "ipython",
    "version": 3
   },
   "file_extension": ".py",
   "mimetype": "text/x-python",
   "name": "python",
   "nbconvert_exporter": "python",
   "pygments_lexer": "ipython3",
   "version": "3.9.7"
  }
 },
 "nbformat": 4,
 "nbformat_minor": 5
}
