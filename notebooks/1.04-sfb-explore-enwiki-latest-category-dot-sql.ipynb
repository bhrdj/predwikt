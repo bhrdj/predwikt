{
 "cells": [
  {
   "cell_type": "markdown",
   "id": "f0fd9382-246d-409b-8e88-3bf16ae76c3f",
   "metadata": {
    "tags": []
   },
   "source": [
    "# Explore enwiki-latest-category.sql"
   ]
  },
  {
   "cell_type": "markdown",
   "id": "01cdfebd-585f-4807-bcf8-b4a654c16522",
   "metadata": {
    "jp-MarkdownHeadingCollapsed": true,
    "tags": []
   },
   "source": [
    "## TL;DR"
   ]
  },
  {
   "cell_type": "markdown",
   "id": "08864bdf-dd1a-4071-aee5-1e10d75fac68",
   "metadata": {},
   "source": [
    "This is step X toward the goal of:\n",
    "- Get Wikipedia categories into database:\n",
    "- (Create table simply linking page_id and top-level wikipedia category)"
   ]
  },
  {
   "cell_type": "markdown",
   "id": "44f7aaa0-6565-47e7-a35d-02c0f84298c4",
   "metadata": {
    "jp-MarkdownHeadingCollapsed": true,
    "tags": []
   },
   "source": [
    "### Questions driving exploration:"
   ]
  },
  {
   "cell_type": "markdown",
   "id": "82b2da4f-45af-49dd-8815-79ea06d83a99",
   "metadata": {},
   "source": [
    "- What is inside enwiki-latest-category.sql?\n",
    "- How is it generally structured?"
   ]
  },
  {
   "cell_type": "markdown",
   "id": "f8aeff07-a445-4e62-b8e0-5c817bf0afb6",
   "metadata": {
    "jp-MarkdownHeadingCollapsed": true,
    "tags": []
   },
   "source": [
    "### Answers:"
   ]
  },
  {
   "cell_type": "markdown",
   "id": "70a7c47a-6863-4473-a4c6-79edb1467308",
   "metadata": {},
   "source": [
    "- **Headers and schema:**\n",
    "    - from beginning of file\n",
    "    - to row 40 (41st row)\n",
    "- **Data:**\n",
    "    - formatted as sql commands\n",
    "    - from row 41 (42nd row)\n",
    "    - to row 163 (164th row)\n",
    "    - each row has ~10^6 characters\n",
    "    - row 151 (152nd row) has less; the remainder\n",
    "- **Footers:**\n",
    "    - rows 152 through 163 have some footers"
   ]
  },
  {
   "cell_type": "markdown",
   "id": "5c963544-1e65-426f-b0af-cd279864e121",
   "metadata": {
    "tags": []
   },
   "source": [
    "## Code"
   ]
  },
  {
   "cell_type": "markdown",
   "id": "92e72fa0-0e84-443a-a656-617ed2645e7e",
   "metadata": {
    "jp-MarkdownHeadingCollapsed": true,
    "tags": []
   },
   "source": [
    "#### Imports"
   ]
  },
  {
   "cell_type": "code",
   "execution_count": 26,
   "id": "42ace840-19e2-4226-8fda-1b557bcfcd6a",
   "metadata": {},
   "outputs": [],
   "source": [
    "import pandas as pd\n",
    "import matplotlib.pyplot as plt"
   ]
  },
  {
   "cell_type": "markdown",
   "id": "74d869f4-8a62-47cd-9da7-8305368c7621",
   "metadata": {
    "jp-MarkdownHeadingCollapsed": true,
    "tags": []
   },
   "source": [
    "#### Get lengths of the lines in the sql file"
   ]
  },
  {
   "cell_type": "code",
   "execution_count": 90,
   "id": "57f86988-cca1-4c2c-a524-2a830e4eed53",
   "metadata": {},
   "outputs": [],
   "source": [
    "f = open(\n",
    "    '../data/raw/enwiki-latest-category.sql', \n",
    "    mode='r', \n",
    "    encoding='UTF_8', \n",
    "    errors='backslashreplace')\n",
    "\n",
    "d = {}\n",
    "for i in range(165):\n",
    "    x = f.readline()\n",
    "    d[i] = len(x)\n",
    "\n",
    "f.close()"
   ]
  },
  {
   "cell_type": "code",
   "execution_count": 91,
   "id": "cd376a32-01ac-4021-8b83-20c6e0274b92",
   "metadata": {},
   "outputs": [],
   "source": [
    "s = pd.Series(d, name='line_lengths')"
   ]
  },
  {
   "cell_type": "markdown",
   "id": "14675f34-7ffe-44df-8b49-11e0498bc43f",
   "metadata": {
    "jp-MarkdownHeadingCollapsed": true,
    "tags": []
   },
   "source": [
    "#### Peek at lengths of first few and last few lines"
   ]
  },
  {
   "cell_type": "code",
   "execution_count": 125,
   "id": "5e7403cb-2bb8-4a58-93b4-93946c60f074",
   "metadata": {},
   "outputs": [
    {
     "data": {
      "text/plain": [
       "0    76\n",
       "1     3\n",
       "2    41\n",
       "3    58\n",
       "4    38\n",
       "5     1\n",
       "6    66\n",
       "7    68\n",
       "8    66\n",
       "9    31\n",
       "Name: line_lengths, dtype: int64"
      ]
     },
     "execution_count": 125,
     "metadata": {},
     "output_type": "execute_result"
    }
   ],
   "source": [
    "s.head(10)"
   ]
  },
  {
   "cell_type": "code",
   "execution_count": 126,
   "id": "eeb0529f-17c7-4e27-8ca7-21494e829dde",
   "metadata": {},
   "outputs": [
    {
     "data": {
      "text/plain": [
       "145    1026254\n",
       "146    1026442\n",
       "147    1026548\n",
       "148    1026107\n",
       "149    1026405\n",
       "150    1026529\n",
       "151     142602\n",
       "152         48\n",
       "153         42\n",
       "154          1\n",
       "155         40\n",
       "156         60\n",
       "157         50\n",
       "158         64\n",
       "159         66\n",
       "160         64\n",
       "161         42\n",
       "162          1\n",
       "163         41\n",
       "164          0\n",
       "Name: line_lengths, dtype: int64"
      ]
     },
     "execution_count": 126,
     "metadata": {},
     "output_type": "execute_result"
    }
   ],
   "source": [
    "s.tail(20)"
   ]
  },
  {
   "cell_type": "markdown",
   "id": "f059ca5a-cf1c-4691-ab99-d2096936b7d9",
   "metadata": {
    "jp-MarkdownHeadingCollapsed": true,
    "tags": []
   },
   "source": [
    "#### Look at line-numbers of the first few lines with lots of data"
   ]
  },
  {
   "cell_type": "code",
   "execution_count": 100,
   "id": "f7ba61d8-33a6-4ec8-859c-75e168bd8258",
   "metadata": {},
   "outputs": [
    {
     "data": {
      "text/plain": [
       "41    1016485\n",
       "42    1020907\n",
       "43    1022071\n",
       "44    1021962\n",
       "Name: line_lengths, dtype: int64"
      ]
     },
     "execution_count": 100,
     "metadata": {},
     "output_type": "execute_result"
    }
   ],
   "source": [
    "s[s > 10**5].head(4)"
   ]
  },
  {
   "cell_type": "markdown",
   "id": "c06af071-33d0-4b5e-825c-fa4b6d677be0",
   "metadata": {
    "jp-MarkdownHeadingCollapsed": true,
    "tags": []
   },
   "source": [
    "#### Look at a bar plot of the line lengths"
   ]
  },
  {
   "cell_type": "code",
   "execution_count": 123,
   "id": "855b6743-a263-44ca-895d-14d137610225",
   "metadata": {},
   "outputs": [
    {
     "data": {
      "image/png": "[encoded data removed]",
      "text/plain": [
       "<Figure size 432x288 with 1 Axes>"
      ]
     },
     "metadata": {
      "needs_background": "light"
     },
     "output_type": "display_data"
    }
   ],
   "source": [
    "fig = plt.figure()\n",
    "ax = plt.gca()\n",
    "s.plot.bar(ax=ax)\n",
    "ax.set_xticks([])\n",
    "ax.set_xlabel('rows of file')\n",
    "ax.set_ylabel('line length')\n",
    "plt.show()"
   ]
  }
 ],
 "metadata": {
  "kernelspec": {
   "display_name": "Python 3 (ipykernel)",
   "language": "python",
   "name": "python3"
  },
  "language_info": {
   "codemirror_mode": {
    "name": "ipython",
    "version": 3
   },
   "file_extension": ".py",
   "mimetype": "text/x-python",
   "name": "python",
   "nbconvert_exporter": "python",
   "pygments_lexer": "ipython3",
   "version": "3.9.7"
  }
 },
 "nbformat": 4,
 "nbformat_minor": 5
}
