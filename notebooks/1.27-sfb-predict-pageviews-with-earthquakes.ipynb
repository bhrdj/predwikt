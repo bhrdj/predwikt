{
 "cells": [
  {
   "cell_type": "markdown",
   "id": "08dee9c0",
   "metadata": {},
   "source": [
    "# predict pageviews with earthquakes"
   ]
  },
  {
   "cell_type": "markdown",
   "id": "c986f88a",
   "metadata": {},
   "source": [
    "## setup"
   ]
  },
  {
   "cell_type": "markdown",
   "id": "7c1f908b",
   "metadata": {},
   "source": [
    "#### imports"
   ]
  },
  {
   "cell_type": "code",
   "execution_count": 8,
   "id": "43e5b75b",
   "metadata": {},
   "outputs": [],
   "source": [
    "import pandas as pd, matplotlib.pyplot as plt, numpy as np\n",
    "import os\n",
    "from datetime import datetime, timezone"
   ]
  },
  {
   "cell_type": "code",
   "execution_count": 9,
   "id": "7f1f5fe5",
   "metadata": {},
   "outputs": [],
   "source": [
    "from holidays_jp import CountryHolidays\n",
    "from sklearn.linear_model import LinearRegression, Ridge\n",
    "from sklearn.model_selection import train_test_split\n",
    "\n",
    "from sklearn.svm import SVR"
   ]
  },
  {
   "cell_type": "markdown",
   "id": "79cec2b6",
   "metadata": {},
   "source": [
    "#### get data"
   ]
  },
  {
   "cell_type": "code",
   "execution_count": 10,
   "id": "2dff4e3f",
   "metadata": {
    "code_folding": [
     0
    ]
   },
   "outputs": [],
   "source": [
    "def check_coords_in_bbox(latlong:tuple, bounding_boxes:dict=None):    \n",
    "    if not bounding_boxes:\n",
    "        bounding_boxes = {\n",
    "            'Hokkaido': {'minlat':41.241, 'maxlat':45.735, 'minlon':-221.601, 'maxlon':-210.897},\n",
    "            'Honshu1':  {'minlat':34, 'maxlat':41.241, 'minlon':-222.772, 'maxlon':-217.5},\n",
    "            'Honshu2':  {'minlat':33,  'maxlat':37, 'minlon':-226.683, 'maxlon':-222.772},\n",
    "            'Honshu3':  {'minlat':32, 'maxlat':36, 'minlon':-228, 'maxlon':-226.683},\n",
    "            'Kumamoto': {'minlat':31, 'maxlat':35, 'minlon':-231.466, 'maxlon':-228}\n",
    "            }\n",
    "    bbs = bounding_boxes\n",
    "    \n",
    "    lat, long_0 = latlong\n",
    "    long = long_0 if long_0 < 0 else long_0 - 360\n",
    "    \n",
    "    for b in bbs:\n",
    "        if all((bbs[b]['minlat'] < lat,\n",
    "               bbs[b]['maxlat'] > lat,\n",
    "               bbs[b]['minlon'] < long,\n",
    "               bbs[b]['maxlon'] > long)):\n",
    "            return True\n",
    "        else:\n",
    "            continue\n",
    "    return False"
   ]
  },
  {
   "cell_type": "code",
   "execution_count": 11,
   "id": "41b9d66e",
   "metadata": {},
   "outputs": [],
   "source": [
    "quakes = pd.read_csv('../data/raw/quakes.csv', sep=';', index_col='id')\n",
    "\n",
    "# fix timezone\n",
    "quakes['utc_time'] = pd.to_datetime(quakes['datetime'])\n",
    "quakes['time_jp'] = quakes.utc_time.apply(\n",
    "    lambda x: x.replace(tzinfo=timezone.utc).astimezone(tz='Japan')  )\n",
    "quakes['date_jp'] = quakes.time_jp.dt.date\n",
    "quakes = quakes[['date_jp', 'time_jp', 'lat', 'long', 'mag', 'depth_units?']]\n",
    "\n",
    "# only keep quakes inside bounding boxes\n",
    "quakes = quakes[quakes.apply(lambda x: check_coords_in_bbox((x.lat, x.long)), axis=1)]"
   ]
  },
  {
   "cell_type": "code",
   "execution_count": 12,
   "id": "b5fe77f4",
   "metadata": {},
   "outputs": [],
   "source": [
    "views = pd.DataFrame()\n",
    "for y in range(2016,2021):\n",
    "    df = pd.read_csv(f'../data/processed/jawiki/diz_daily/{y}.csv', \n",
    "                     usecols=['Unnamed: 0', '1051_mobile-web', '1051_desktop'])\n",
    "    df.rename(columns={'Unnamed: 0': 'yyyymmdd_int'}, inplace=True)\n",
    "    df['date'] = pd.to_datetime(df.yyyymmdd_int.astype(str), format='%Y%m%d')\n",
    "    df.set_index('date', inplace=True)\n",
    "    df = df[df.columns.difference(['yyyymmdd_int'])]\n",
    "    df['1051_x-platform'] = df['1051_desktop'] + df['1051_mobile-web']\n",
    "    views = pd.concat((views, df), axis=0)\n",
    "del df"
   ]
  },
  {
   "cell_type": "code",
   "execution_count": 13,
   "id": "6dd8c384",
   "metadata": {
    "code_folding": [
     0
    ]
   },
   "outputs": [],
   "source": [
    "def get_calendar(idx):\n",
    "    cal = pd.DataFrame(index=idx)\n",
    "    cal['mtwtf'] = idx.dayofweek.isin([0,1,2,3,4]).astype(int)\n",
    "    cal['sat'] = idx.dayofweek.isin([5]).astype(int)\n",
    "    cal['sun'] = idx.dayofweek.isin([6]).astype(int)\n",
    "    \n",
    "    years = list(set(idx.year))\n",
    "    holidays = []\n",
    "    for y in years:\n",
    "        holidays.append(CountryHolidays.get('JP', y))\n",
    "    holidays = pd.DataFrame([i for l in holidays for i in l])\n",
    "    holidays.set_index(0, inplace=True)\n",
    "    holidays.rename(columns={1:'holiday_name'}, inplace=True)\n",
    "    holidays.index = pd.to_datetime(holidays.index)\n",
    "    \n",
    "    cal1 = cal.join(holidays, how='left')\n",
    "    cal1['holiday_name'] = cal1['holiday_name'].fillna(' ')\n",
    "    cal1['holiday'] = (cal1.holiday_name != ' ').astype(int)\n",
    "    cal1 = cal1[['mtwtf', 'sat', 'sun', 'holiday']]\n",
    "    \n",
    "    # generate dummies for each day of the week (currently unused)\n",
    "    # cal_7d = pd.DataFrame(index=idx)\n",
    "    # for i,d in enumerate(['mo','tu','we','th','fr','sa','su']):\n",
    "    #     cal_7d[d] = idx.dayofweek.isin([i]).astype(int)\n",
    "    \n",
    "    return cal1"
   ]
  },
  {
   "cell_type": "code",
   "execution_count": 14,
   "id": "f6ba9d7d",
   "metadata": {},
   "outputs": [],
   "source": [
    "calendar = get_calendar(views.index)"
   ]
  },
  {
   "cell_type": "markdown",
   "id": "353de9e9",
   "metadata": {},
   "source": [
    "#### clean magnitudes data"
   ]
  },
  {
   "cell_type": "code",
   "execution_count": 15,
   "id": "a3c016f4",
   "metadata": {},
   "outputs": [],
   "source": [
    "start_date = max(min(views.index.date), min(quakes.date_jp))\n",
    "end_date = min(max(views.index.date), max(quakes.date_jp))\n",
    "dates = pd.date_range(start_date, end_date)\n",
    "mags = pd.DataFrame(None, index=dates, dtype='object')\n",
    "mags = mags.join(quakes.set_index('date_jp').mag, how='left').squeeze()\n",
    "mags = mags.groupby(mags.index).max()\n",
    "mags = mags.fillna(0)\n",
    "mags6 = (mags > 6).astype(int)"
   ]
  },
  {
   "cell_type": "markdown",
   "id": "9aa98727",
   "metadata": {},
   "source": [
    "#### explore data"
   ]
  },
  {
   "cell_type": "code",
   "execution_count": 16,
   "id": "d2812b4c",
   "metadata": {},
   "outputs": [
    {
     "data": {
      "image/png": "[encoded data removed]",
      "text/plain": [
       "<Figure size 432x288 with 1 Axes>"
      ]
     },
     "metadata": {
      "needs_background": "light"
     },
     "output_type": "display_data"
    }
   ],
   "source": [
    "fig = plt.figure()\n",
    "ax = fig.gca()\n",
    "mags.hist(bins=21, ax=ax)\n",
    "ax.set_yscale('log')\n",
    "ax.set_title('Histogram of earthquake occurences 2016-2019')\n",
    "ax.set_xlabel('Magnitude')\n",
    "ax.set_ylabel('Days with earthquake(s) (log scale)')\n",
    "plt.show()"
   ]
  },
  {
   "cell_type": "code",
   "execution_count": 17,
   "id": "61f606c2",
   "metadata": {},
   "outputs": [
    {
     "data": {
      "text/plain": [
       "<AxesSubplot:xlabel='date'>"
      ]
     },
     "execution_count": 17,
     "metadata": {},
     "output_type": "execute_result"
    },
    {
     "data": {
      "image/png": "[encoded data removed]",
      "text/plain": [
       "<Figure size 432x288 with 1 Axes>"
      ]
     },
     "metadata": {
      "needs_background": "light"
     },
     "output_type": "display_data"
    }
   ],
   "source": [
    "views['1051_x-platform'].rolling(5).mean().plot()"
   ]
  },
  {
   "cell_type": "code",
   "execution_count": 18,
   "id": "5bc0cefd",
   "metadata": {},
   "outputs": [
    {
     "data": {
      "text/plain": [
       "<AxesSubplot:xlabel='date'>"
      ]
     },
     "execution_count": 18,
     "metadata": {},
     "output_type": "execute_result"
    },
    {
     "data": {
      "image/png": "[encoded data removed]",
      "text/plain": [
       "<Figure size 432x288 with 1 Axes>"
      ]
     },
     "metadata": {
      "needs_background": "light"
     },
     "output_type": "display_data"
    }
   ],
   "source": [
    "views['1051_x-platform'].rolling(10).min().plot()"
   ]
  },
  {
   "cell_type": "markdown",
   "id": "50aa85d5",
   "metadata": {},
   "source": [
    "## modeling"
   ]
  },
  {
   "cell_type": "markdown",
   "id": "921d4b24",
   "metadata": {
    "heading_collapsed": true
   },
   "source": [
    "#### naive regression on quakes only"
   ]
  },
  {
   "cell_type": "code",
   "execution_count": 19,
   "id": "12249d52",
   "metadata": {
    "hidden": true
   },
   "outputs": [],
   "source": [
    "lr1 = LinearRegression()"
   ]
  },
  {
   "cell_type": "code",
   "execution_count": 20,
   "id": "a88c0117",
   "metadata": {
    "hidden": true
   },
   "outputs": [],
   "source": [
    "x1_4 = mags.shift(1).dropna() > 4\n",
    "x1_5 = mags.shift(1).dropna() > 5\n",
    "x1_6 = mags.shift(1).dropna() > 6\n",
    "x1_7 = mags.shift(1).dropna() > 7\n",
    "X1 = pd.concat((x1_4,x1_5,x1_6,x1_7), axis=1).astype(int)"
   ]
  },
  {
   "cell_type": "code",
   "execution_count": 21,
   "id": "c1fed672",
   "metadata": {
    "hidden": true
   },
   "outputs": [
    {
     "data": {
      "image/png": "[encoded data removed]",
      "text/plain": [
       "<Figure size 432x288 with 1 Axes>"
      ]
     },
     "metadata": {
      "needs_background": "light"
     },
     "output_type": "display_data"
    }
   ],
   "source": [
    "views.iloc[:, 2].hist()\n",
    "plt.yscale('log')"
   ]
  },
  {
   "cell_type": "code",
   "execution_count": 22,
   "id": "2d80d2ef",
   "metadata": {
    "hidden": true
   },
   "outputs": [
    {
     "name": "stderr",
     "output_type": "stream",
     "text": [
      "/tmp/ipykernel_7374/4126711420.py:1: RuntimeWarning: divide by zero encountered in log\n",
      "  y1 = views.loc[X1.index, '1051_x-platform'].to_frame().applymap(lambda x: np.log(x)).fillna(0).replace(-np.inf, 0)\n"
     ]
    }
   ],
   "source": [
    "y1 = views.loc[X1.index, '1051_x-platform'].to_frame().applymap(lambda x: np.log(x)).fillna(0).replace(-np.inf, 0)"
   ]
  },
  {
   "cell_type": "code",
   "execution_count": 23,
   "id": "497e2a25",
   "metadata": {
    "hidden": true
   },
   "outputs": [
    {
     "data": {
      "text/plain": [
       "<matplotlib.collections.PathCollection at 0x7f6501526cd0>"
      ]
     },
     "execution_count": 23,
     "metadata": {},
     "output_type": "execute_result"
    },
    {
     "data": {
      "image/png": "[encoded data removed]",
      "text/plain": [
       "<Figure size 432x288 with 1 Axes>"
      ]
     },
     "metadata": {
      "needs_background": "light"
     },
     "output_type": "display_data"
    }
   ],
   "source": [
    "lr1.fit(X1, y1)\n",
    "preds1 = pd.Series(lr1.predict(X1).flatten())\n",
    "plt.scatter(y1, preds1)"
   ]
  },
  {
   "cell_type": "code",
   "execution_count": 24,
   "id": "937237c7",
   "metadata": {
    "hidden": true
   },
   "outputs": [
    {
     "data": {
      "text/plain": [
       "array([[0.06543067, 0.05508073, 0.90153019, 0.        ]])"
      ]
     },
     "execution_count": 24,
     "metadata": {},
     "output_type": "execute_result"
    }
   ],
   "source": [
    "lr1.coef_"
   ]
  },
  {
   "cell_type": "markdown",
   "id": "d8b0ef76",
   "metadata": {
    "hidden": true
   },
   "source": [
    "It seems that looking at earthquakes with magnitude > 6 gives the best result."
   ]
  },
  {
   "cell_type": "markdown",
   "id": "69b07b7f",
   "metadata": {
    "heading_collapsed": true
   },
   "source": [
    "#### not-quite-ARIMA without quakes"
   ]
  },
  {
   "cell_type": "code",
   "execution_count": 25,
   "id": "b0e9ea5d",
   "metadata": {
    "hidden": true
   },
   "outputs": [],
   "source": [
    "ts = views['1051_x-platform']\n",
    "ts[ts < 4] = 1\n",
    "ts = views['1051_x-platform'].apply(lambda x: np.log(x))\n",
    "ar1 = ts.shift(1).rename('ar1')\n",
    "ma7 = ts.rolling(6, closed='left').mean().rename('ma7')\n",
    "\n",
    "X2 = pd.concat((ar1, ma7, calendar), axis=1).dropna()\n",
    "y2 = ts[X2.index]"
   ]
  },
  {
   "cell_type": "code",
   "execution_count": 26,
   "id": "24c86e58",
   "metadata": {
    "hidden": true
   },
   "outputs": [],
   "source": [
    "X2tr, X2te, y2tr, y2te = train_test_split(X2, y2, shuffle=True, test_size=.3)"
   ]
  },
  {
   "cell_type": "code",
   "execution_count": 27,
   "id": "0efc5889",
   "metadata": {
    "hidden": true
   },
   "outputs": [
    {
     "data": {
      "text/plain": [
       "<matplotlib.collections.PathCollection at 0x7f650085b340>"
      ]
     },
     "execution_count": 27,
     "metadata": {},
     "output_type": "execute_result"
    },
    {
     "data": {
      "image/png": "[encoded data removed]",
      "text/plain": [
       "<Figure size 432x288 with 1 Axes>"
      ]
     },
     "metadata": {
      "needs_background": "light"
     },
     "output_type": "display_data"
    }
   ],
   "source": [
    "lr2 = LinearRegression()\n",
    "lr2.fit(X2tr, y2tr)\n",
    "preds2 = lr2.predict(X2te)\n",
    "plt.scatter(y2te.to_numpy(), preds2, cmap='winter')"
   ]
  },
  {
   "cell_type": "code",
   "execution_count": 28,
   "id": "b2380cdc",
   "metadata": {
    "hidden": true
   },
   "outputs": [
    {
     "name": "stdout",
     "output_type": "stream",
     "text": [
      "['ar1', 'ma7', 'mtwtf', 'sat', 'sun', 'holiday']\n",
      "[ 0.25   0.283 -0.051  0.029  0.021  0.044]\n",
      "0.091\n"
     ]
    }
   ],
   "source": [
    "print(X2.columns.to_list())\n",
    "print(lr2.coef_.round(3))\n",
    "print(np.round(lr2.score(X2te, y2te), 3))"
   ]
  },
  {
   "cell_type": "markdown",
   "id": "076e2aa2",
   "metadata": {
    "heading_collapsed": true
   },
   "source": [
    "#### not-quite-ARIMA with quakes"
   ]
  },
  {
   "cell_type": "code",
   "execution_count": 29,
   "id": "070842f1",
   "metadata": {
    "hidden": true
   },
   "outputs": [],
   "source": [
    "ts = views['1051_x-platform']\n",
    "ts[ts < 4] = 1\n",
    "ts = views['1051_x-platform'].apply(lambda x: np.log(x))"
   ]
  },
  {
   "cell_type": "code",
   "execution_count": 30,
   "id": "eed24b19",
   "metadata": {
    "hidden": true
   },
   "outputs": [],
   "source": [
    "ar1 = ts.shift(1).rename('ar1')\n",
    "ma7 = ts.rolling(6, closed='left').mean().rename('ma7')\n",
    "mags_l1_over_58 = (mags.shift(1).dropna() >= 5.8).astype(int).rename('mag_over_58')\n",
    "\n",
    "X3 = pd.concat((ar1, ma7, calendar, mags_l1_over_58), axis=1).dropna()\n",
    "y3 = ts[X3.index]"
   ]
  },
  {
   "cell_type": "code",
   "execution_count": 31,
   "id": "212f59b6",
   "metadata": {
    "hidden": true
   },
   "outputs": [],
   "source": [
    "X3tr, X3te, y3tr, y3te = train_test_split(X3, y3, shuffle=True, test_size=.3, stratify=X3.mag_over_58)"
   ]
  },
  {
   "cell_type": "code",
   "execution_count": 32,
   "id": "65502945",
   "metadata": {
    "hidden": true
   },
   "outputs": [],
   "source": [
    "lr3 = LinearRegression()\n",
    "lr3.fit(X3tr, y3tr)\n",
    "preds3 = lr3.predict(X3te)"
   ]
  },
  {
   "cell_type": "code",
   "execution_count": 33,
   "id": "dba7bfc9",
   "metadata": {
    "hidden": true
   },
   "outputs": [
    {
     "data": {
      "text/plain": [
       "<matplotlib.collections.PathCollection at 0x7f65007c6f10>"
      ]
     },
     "execution_count": 33,
     "metadata": {},
     "output_type": "execute_result"
    },
    {
     "data": {
      "image/png": "[encoded data removed]",
      "text/plain": [
       "<Figure size 432x288 with 1 Axes>"
      ]
     },
     "metadata": {
      "needs_background": "light"
     },
     "output_type": "display_data"
    }
   ],
   "source": [
    "plt.scatter(y3te.to_numpy(), preds3, c=X3te.mag_over_58, cmap='winter')"
   ]
  },
  {
   "cell_type": "code",
   "execution_count": 34,
   "id": "1ed131fe",
   "metadata": {
    "hidden": true
   },
   "outputs": [
    {
     "name": "stdout",
     "output_type": "stream",
     "text": [
      "['ar1', 'ma7', 'mtwtf', 'sat', 'sun', 'holiday', 'mag_over_58']\n",
      "[ 0.194  0.291 -0.022  0.027 -0.006  0.08   0.267]\n",
      "0.167\n"
     ]
    }
   ],
   "source": [
    "print(X3.columns.to_list())\n",
    "print(lr3.coef_.round(3))\n",
    "print(np.round(lr3.score(X3te, y3te), 3))"
   ]
  },
  {
   "cell_type": "markdown",
   "id": "7ba52610",
   "metadata": {},
   "source": [
    "#### real ARIMA (without calendar)"
   ]
  },
  {
   "cell_type": "code",
   "execution_count": 35,
   "id": "55873237",
   "metadata": {},
   "outputs": [],
   "source": [
    "from statsmodels.tsa.arima.model import ARIMA"
   ]
  },
  {
   "cell_type": "code",
   "execution_count": 36,
   "id": "50519804",
   "metadata": {},
   "outputs": [],
   "source": [
    "ts = views['1051_x-platform']"
   ]
  },
  {
   "cell_type": "code",
   "execution_count": 37,
   "id": "f20ffc94",
   "metadata": {},
   "outputs": [],
   "source": [
    "x4_mags = mags6.shift(1).dropna() # manually lag the earthquake magnitudes\n",
    "x4_cal = calendar.loc[x4_mags.index] # no lag on the calendar inputs\n",
    "X4 = pd.concat((x4_cal, x4_mags), axis=1)\n",
    "y4 = ts[X4.index]\n",
    "nobs = y4.shape[0]"
   ]
  },
  {
   "cell_type": "code",
   "execution_count": null,
   "id": "e8c28e66",
   "metadata": {},
   "outputs": [
    {
     "name": "stderr",
     "output_type": "stream",
     "text": [
      "/home/ubuntu/anaconda3/lib/python3.9/site-packages/statsmodels/tsa/base/tsa_model.py:524: ValueWarning: No frequency information was provided, so inferred frequency D will be used.\n",
      "  warnings.warn('No frequency information was'\n",
      "/home/ubuntu/anaconda3/lib/python3.9/site-packages/statsmodels/base/model.py:566: ConvergenceWarning: Maximum Likelihood optimization failed to converge. Check mle_retvals\n",
      "  warnings.warn(\"Maximum Likelihood optimization failed to \"\n",
      "/home/ubuntu/anaconda3/lib/python3.9/site-packages/statsmodels/tsa/base/tsa_model.py:524: ValueWarning: No frequency information was provided, so inferred frequency D will be used.\n",
      "  warnings.warn('No frequency information was'\n",
      "/home/ubuntu/anaconda3/lib/python3.9/site-packages/statsmodels/base/model.py:566: ConvergenceWarning: Maximum Likelihood optimization failed to converge. Check mle_retvals\n",
      "  warnings.warn(\"Maximum Likelihood optimization failed to \"\n",
      "/home/ubuntu/anaconda3/lib/python3.9/site-packages/statsmodels/tsa/base/tsa_model.py:524: ValueWarning: No frequency information was provided, so inferred frequency D will be used.\n",
      "  warnings.warn('No frequency information was'\n",
      "/home/ubuntu/anaconda3/lib/python3.9/site-packages/statsmodels/base/model.py:566: ConvergenceWarning: Maximum Likelihood optimization failed to converge. Check mle_retvals\n",
      "  warnings.warn(\"Maximum Likelihood optimization failed to \"\n",
      "/home/ubuntu/anaconda3/lib/python3.9/site-packages/statsmodels/tsa/base/tsa_model.py:524: ValueWarning: No frequency information was provided, so inferred frequency D will be used.\n",
      "  warnings.warn('No frequency information was'\n",
      "/home/ubuntu/anaconda3/lib/python3.9/site-packages/statsmodels/base/model.py:566: ConvergenceWarning: Maximum Likelihood optimization failed to converge. Check mle_retvals\n",
      "  warnings.warn(\"Maximum Likelihood optimization failed to \"\n",
      "/home/ubuntu/anaconda3/lib/python3.9/site-packages/statsmodels/tsa/base/tsa_model.py:524: ValueWarning: No frequency information was provided, so inferred frequency D will be used.\n",
      "  warnings.warn('No frequency information was'\n",
      "/home/ubuntu/anaconda3/lib/python3.9/site-packages/statsmodels/base/model.py:566: ConvergenceWarning: Maximum Likelihood optimization failed to converge. Check mle_retvals\n",
      "  warnings.warn(\"Maximum Likelihood optimization failed to \"\n",
      "/home/ubuntu/anaconda3/lib/python3.9/site-packages/statsmodels/tsa/base/tsa_model.py:524: ValueWarning: No frequency information was provided, so inferred frequency D will be used.\n",
      "  warnings.warn('No frequency information was'\n",
      "/home/ubuntu/anaconda3/lib/python3.9/site-packages/statsmodels/base/model.py:566: ConvergenceWarning: Maximum Likelihood optimization failed to converge. Check mle_retvals\n",
      "  warnings.warn(\"Maximum Likelihood optimization failed to \"\n",
      "/home/ubuntu/anaconda3/lib/python3.9/site-packages/statsmodels/tsa/base/tsa_model.py:524: ValueWarning: No frequency information was provided, so inferred frequency D will be used.\n",
      "  warnings.warn('No frequency information was'\n",
      "/home/ubuntu/anaconda3/lib/python3.9/site-packages/statsmodels/base/model.py:566: ConvergenceWarning: Maximum Likelihood optimization failed to converge. Check mle_retvals\n",
      "  warnings.warn(\"Maximum Likelihood optimization failed to \"\n",
      "/home/ubuntu/anaconda3/lib/python3.9/site-packages/statsmodels/tsa/base/tsa_model.py:524: ValueWarning: No frequency information was provided, so inferred frequency D will be used.\n",
      "  warnings.warn('No frequency information was'\n",
      "/home/ubuntu/anaconda3/lib/python3.9/site-packages/statsmodels/base/model.py:566: ConvergenceWarning: Maximum Likelihood optimization failed to converge. Check mle_retvals\n",
      "  warnings.warn(\"Maximum Likelihood optimization failed to \"\n",
      "/home/ubuntu/anaconda3/lib/python3.9/site-packages/statsmodels/tsa/base/tsa_model.py:524: ValueWarning: No frequency information was provided, so inferred frequency D will be used.\n",
      "  warnings.warn('No frequency information was'\n",
      "/home/ubuntu/anaconda3/lib/python3.9/site-packages/statsmodels/base/model.py:566: ConvergenceWarning: Maximum Likelihood optimization failed to converge. Check mle_retvals\n",
      "  warnings.warn(\"Maximum Likelihood optimization failed to \"\n",
      "/home/ubuntu/anaconda3/lib/python3.9/site-packages/statsmodels/tsa/base/tsa_model.py:524: ValueWarning: No frequency information was provided, so inferred frequency D will be used.\n",
      "  warnings.warn('No frequency information was'\n",
      "/home/ubuntu/anaconda3/lib/python3.9/site-packages/statsmodels/base/model.py:566: ConvergenceWarning: Maximum Likelihood optimization failed to converge. Check mle_retvals\n",
      "  warnings.warn(\"Maximum Likelihood optimization failed to \"\n",
      "/home/ubuntu/anaconda3/lib/python3.9/site-packages/statsmodels/tsa/base/tsa_model.py:524: ValueWarning: No frequency information was provided, so inferred frequency D will be used.\n",
      "  warnings.warn('No frequency information was'\n",
      "/home/ubuntu/anaconda3/lib/python3.9/site-packages/statsmodels/base/model.py:566: ConvergenceWarning: Maximum Likelihood optimization failed to converge. Check mle_retvals\n",
      "  warnings.warn(\"Maximum Likelihood optimization failed to \"\n",
      "/home/ubuntu/anaconda3/lib/python3.9/site-packages/statsmodels/tsa/base/tsa_model.py:524: ValueWarning: No frequency information was provided, so inferred frequency D will be used.\n",
      "  warnings.warn('No frequency information was'\n",
      "/home/ubuntu/anaconda3/lib/python3.9/site-packages/statsmodels/base/model.py:566: ConvergenceWarning: Maximum Likelihood optimization failed to converge. Check mle_retvals\n",
      "  warnings.warn(\"Maximum Likelihood optimization failed to \"\n",
      "/home/ubuntu/anaconda3/lib/python3.9/site-packages/statsmodels/tsa/base/tsa_model.py:524: ValueWarning: No frequency information was provided, so inferred frequency D will be used.\n",
      "  warnings.warn('No frequency information was'\n",
      "/home/ubuntu/anaconda3/lib/python3.9/site-packages/statsmodels/base/model.py:566: ConvergenceWarning: Maximum Likelihood optimization failed to converge. Check mle_retvals\n",
      "  warnings.warn(\"Maximum Likelihood optimization failed to \"\n",
      "/home/ubuntu/anaconda3/lib/python3.9/site-packages/statsmodels/tsa/base/tsa_model.py:524: ValueWarning: No frequency information was provided, so inferred frequency D will be used.\n",
      "  warnings.warn('No frequency information was'\n",
      "/home/ubuntu/anaconda3/lib/python3.9/site-packages/statsmodels/base/model.py:566: ConvergenceWarning: Maximum Likelihood optimization failed to converge. Check mle_retvals\n",
      "  warnings.warn(\"Maximum Likelihood optimization failed to \"\n",
      "/home/ubuntu/anaconda3/lib/python3.9/site-packages/statsmodels/tsa/base/tsa_model.py:524: ValueWarning: No frequency information was provided, so inferred frequency D will be used.\n",
      "  warnings.warn('No frequency information was'\n",
      "/home/ubuntu/anaconda3/lib/python3.9/site-packages/statsmodels/base/model.py:566: ConvergenceWarning: Maximum Likelihood optimization failed to converge. Check mle_retvals\n",
      "  warnings.warn(\"Maximum Likelihood optimization failed to \"\n",
      "/home/ubuntu/anaconda3/lib/python3.9/site-packages/statsmodels/tsa/base/tsa_model.py:524: ValueWarning: No frequency information was provided, so inferred frequency D will be used.\n",
      "  warnings.warn('No frequency information was'\n",
      "/home/ubuntu/anaconda3/lib/python3.9/site-packages/statsmodels/base/model.py:566: ConvergenceWarning: Maximum Likelihood optimization failed to converge. Check mle_retvals\n",
      "  warnings.warn(\"Maximum Likelihood optimization failed to \"\n",
      "/home/ubuntu/anaconda3/lib/python3.9/site-packages/statsmodels/tsa/base/tsa_model.py:524: ValueWarning: No frequency information was provided, so inferred frequency D will be used.\n",
      "  warnings.warn('No frequency information was'\n",
      "/home/ubuntu/anaconda3/lib/python3.9/site-packages/statsmodels/base/model.py:566: ConvergenceWarning: Maximum Likelihood optimization failed to converge. Check mle_retvals\n",
      "  warnings.warn(\"Maximum Likelihood optimization failed to \"\n",
      "/home/ubuntu/anaconda3/lib/python3.9/site-packages/statsmodels/tsa/base/tsa_model.py:524: ValueWarning: No frequency information was provided, so inferred frequency D will be used.\n",
      "  warnings.warn('No frequency information was'\n",
      "/home/ubuntu/anaconda3/lib/python3.9/site-packages/statsmodels/base/model.py:566: ConvergenceWarning: Maximum Likelihood optimization failed to converge. Check mle_retvals\n",
      "  warnings.warn(\"Maximum Likelihood optimization failed to \"\n",
      "/home/ubuntu/anaconda3/lib/python3.9/site-packages/statsmodels/tsa/base/tsa_model.py:524: ValueWarning: No frequency information was provided, so inferred frequency D will be used.\n",
      "  warnings.warn('No frequency information was'\n"
     ]
    },
    {
     "name": "stderr",
     "output_type": "stream",
     "text": [
      "/home/ubuntu/anaconda3/lib/python3.9/site-packages/statsmodels/base/model.py:566: ConvergenceWarning: Maximum Likelihood optimization failed to converge. Check mle_retvals\n",
      "  warnings.warn(\"Maximum Likelihood optimization failed to \"\n",
      "/home/ubuntu/anaconda3/lib/python3.9/site-packages/statsmodels/tsa/base/tsa_model.py:524: ValueWarning: No frequency information was provided, so inferred frequency D will be used.\n",
      "  warnings.warn('No frequency information was'\n",
      "/home/ubuntu/anaconda3/lib/python3.9/site-packages/statsmodels/base/model.py:566: ConvergenceWarning: Maximum Likelihood optimization failed to converge. Check mle_retvals\n",
      "  warnings.warn(\"Maximum Likelihood optimization failed to \"\n",
      "/home/ubuntu/anaconda3/lib/python3.9/site-packages/statsmodels/tsa/base/tsa_model.py:524: ValueWarning: No frequency information was provided, so inferred frequency D will be used.\n",
      "  warnings.warn('No frequency information was'\n",
      "/home/ubuntu/anaconda3/lib/python3.9/site-packages/statsmodels/base/model.py:566: ConvergenceWarning: Maximum Likelihood optimization failed to converge. Check mle_retvals\n",
      "  warnings.warn(\"Maximum Likelihood optimization failed to \"\n",
      "/home/ubuntu/anaconda3/lib/python3.9/site-packages/statsmodels/tsa/base/tsa_model.py:524: ValueWarning: No frequency information was provided, so inferred frequency D will be used.\n",
      "  warnings.warn('No frequency information was'\n",
      "/home/ubuntu/anaconda3/lib/python3.9/site-packages/statsmodels/base/model.py:566: ConvergenceWarning: Maximum Likelihood optimization failed to converge. Check mle_retvals\n",
      "  warnings.warn(\"Maximum Likelihood optimization failed to \"\n",
      "/home/ubuntu/anaconda3/lib/python3.9/site-packages/statsmodels/tsa/base/tsa_model.py:524: ValueWarning: No frequency information was provided, so inferred frequency D will be used.\n",
      "  warnings.warn('No frequency information was'\n",
      "/home/ubuntu/anaconda3/lib/python3.9/site-packages/statsmodels/base/model.py:566: ConvergenceWarning: Maximum Likelihood optimization failed to converge. Check mle_retvals\n",
      "  warnings.warn(\"Maximum Likelihood optimization failed to \"\n",
      "/home/ubuntu/anaconda3/lib/python3.9/site-packages/statsmodels/tsa/base/tsa_model.py:524: ValueWarning: No frequency information was provided, so inferred frequency D will be used.\n",
      "  warnings.warn('No frequency information was'\n",
      "/home/ubuntu/anaconda3/lib/python3.9/site-packages/statsmodels/base/model.py:566: ConvergenceWarning: Maximum Likelihood optimization failed to converge. Check mle_retvals\n",
      "  warnings.warn(\"Maximum Likelihood optimization failed to \"\n",
      "/home/ubuntu/anaconda3/lib/python3.9/site-packages/statsmodels/tsa/base/tsa_model.py:524: ValueWarning: No frequency information was provided, so inferred frequency D will be used.\n",
      "  warnings.warn('No frequency information was'\n",
      "/home/ubuntu/anaconda3/lib/python3.9/site-packages/statsmodels/base/model.py:566: ConvergenceWarning: Maximum Likelihood optimization failed to converge. Check mle_retvals\n",
      "  warnings.warn(\"Maximum Likelihood optimization failed to \"\n",
      "/home/ubuntu/anaconda3/lib/python3.9/site-packages/statsmodels/tsa/base/tsa_model.py:524: ValueWarning: No frequency information was provided, so inferred frequency D will be used.\n",
      "  warnings.warn('No frequency information was'\n",
      "/home/ubuntu/anaconda3/lib/python3.9/site-packages/statsmodels/base/model.py:566: ConvergenceWarning: Maximum Likelihood optimization failed to converge. Check mle_retvals\n",
      "  warnings.warn(\"Maximum Likelihood optimization failed to \"\n",
      "/home/ubuntu/anaconda3/lib/python3.9/site-packages/statsmodels/tsa/base/tsa_model.py:524: ValueWarning: No frequency information was provided, so inferred frequency D will be used.\n",
      "  warnings.warn('No frequency information was'\n",
      "/home/ubuntu/anaconda3/lib/python3.9/site-packages/statsmodels/base/model.py:566: ConvergenceWarning: Maximum Likelihood optimization failed to converge. Check mle_retvals\n",
      "  warnings.warn(\"Maximum Likelihood optimization failed to \"\n",
      "/home/ubuntu/anaconda3/lib/python3.9/site-packages/statsmodels/tsa/base/tsa_model.py:524: ValueWarning: No frequency information was provided, so inferred frequency D will be used.\n",
      "  warnings.warn('No frequency information was'\n",
      "/home/ubuntu/anaconda3/lib/python3.9/site-packages/statsmodels/base/model.py:566: ConvergenceWarning: Maximum Likelihood optimization failed to converge. Check mle_retvals\n",
      "  warnings.warn(\"Maximum Likelihood optimization failed to \"\n",
      "/home/ubuntu/anaconda3/lib/python3.9/site-packages/statsmodels/tsa/base/tsa_model.py:524: ValueWarning: No frequency information was provided, so inferred frequency D will be used.\n",
      "  warnings.warn('No frequency information was'\n",
      "/home/ubuntu/anaconda3/lib/python3.9/site-packages/statsmodels/base/model.py:566: ConvergenceWarning: Maximum Likelihood optimization failed to converge. Check mle_retvals\n",
      "  warnings.warn(\"Maximum Likelihood optimization failed to \"\n",
      "/home/ubuntu/anaconda3/lib/python3.9/site-packages/statsmodels/tsa/base/tsa_model.py:524: ValueWarning: No frequency information was provided, so inferred frequency D will be used.\n",
      "  warnings.warn('No frequency information was'\n",
      "/home/ubuntu/anaconda3/lib/python3.9/site-packages/statsmodels/base/model.py:566: ConvergenceWarning: Maximum Likelihood optimization failed to converge. Check mle_retvals\n",
      "  warnings.warn(\"Maximum Likelihood optimization failed to \"\n",
      "/home/ubuntu/anaconda3/lib/python3.9/site-packages/statsmodels/tsa/base/tsa_model.py:524: ValueWarning: No frequency information was provided, so inferred frequency D will be used.\n",
      "  warnings.warn('No frequency information was'\n",
      "/home/ubuntu/anaconda3/lib/python3.9/site-packages/statsmodels/base/model.py:566: ConvergenceWarning: Maximum Likelihood optimization failed to converge. Check mle_retvals\n",
      "  warnings.warn(\"Maximum Likelihood optimization failed to \"\n",
      "/home/ubuntu/anaconda3/lib/python3.9/site-packages/statsmodels/tsa/base/tsa_model.py:524: ValueWarning: No frequency information was provided, so inferred frequency D will be used.\n",
      "  warnings.warn('No frequency information was'\n",
      "/home/ubuntu/anaconda3/lib/python3.9/site-packages/statsmodels/base/model.py:566: ConvergenceWarning: Maximum Likelihood optimization failed to converge. Check mle_retvals\n",
      "  warnings.warn(\"Maximum Likelihood optimization failed to \"\n",
      "/home/ubuntu/anaconda3/lib/python3.9/site-packages/statsmodels/tsa/base/tsa_model.py:524: ValueWarning: No frequency information was provided, so inferred frequency D will be used.\n",
      "  warnings.warn('No frequency information was'\n",
      "/home/ubuntu/anaconda3/lib/python3.9/site-packages/statsmodels/base/model.py:566: ConvergenceWarning: Maximum Likelihood optimization failed to converge. Check mle_retvals\n",
      "  warnings.warn(\"Maximum Likelihood optimization failed to \"\n",
      "/home/ubuntu/anaconda3/lib/python3.9/site-packages/statsmodels/tsa/base/tsa_model.py:524: ValueWarning: No frequency information was provided, so inferred frequency D will be used.\n",
      "  warnings.warn('No frequency information was'\n",
      "/home/ubuntu/anaconda3/lib/python3.9/site-packages/statsmodels/base/model.py:566: ConvergenceWarning: Maximum Likelihood optimization failed to converge. Check mle_retvals\n",
      "  warnings.warn(\"Maximum Likelihood optimization failed to \"\n",
      "/home/ubuntu/anaconda3/lib/python3.9/site-packages/statsmodels/tsa/base/tsa_model.py:524: ValueWarning: No frequency information was provided, so inferred frequency D will be used.\n",
      "  warnings.warn('No frequency information was'\n",
      "/home/ubuntu/anaconda3/lib/python3.9/site-packages/statsmodels/base/model.py:566: ConvergenceWarning: Maximum Likelihood optimization failed to converge. Check mle_retvals\n",
      "  warnings.warn(\"Maximum Likelihood optimization failed to \"\n",
      "/home/ubuntu/anaconda3/lib/python3.9/site-packages/statsmodels/tsa/base/tsa_model.py:524: ValueWarning: No frequency information was provided, so inferred frequency D will be used.\n",
      "  warnings.warn('No frequency information was'\n",
      "/home/ubuntu/anaconda3/lib/python3.9/site-packages/statsmodels/base/model.py:566: ConvergenceWarning: Maximum Likelihood optimization failed to converge. Check mle_retvals\n",
      "  warnings.warn(\"Maximum Likelihood optimization failed to \"\n",
      "/home/ubuntu/anaconda3/lib/python3.9/site-packages/statsmodels/tsa/base/tsa_model.py:524: ValueWarning: No frequency information was provided, so inferred frequency D will be used.\n",
      "  warnings.warn('No frequency information was'\n"
     ]
    },
    {
     "name": "stderr",
     "output_type": "stream",
     "text": [
      "/home/ubuntu/anaconda3/lib/python3.9/site-packages/statsmodels/base/model.py:566: ConvergenceWarning: Maximum Likelihood optimization failed to converge. Check mle_retvals\n",
      "  warnings.warn(\"Maximum Likelihood optimization failed to \"\n",
      "/home/ubuntu/anaconda3/lib/python3.9/site-packages/statsmodels/tsa/base/tsa_model.py:524: ValueWarning: No frequency information was provided, so inferred frequency D will be used.\n",
      "  warnings.warn('No frequency information was'\n",
      "/home/ubuntu/anaconda3/lib/python3.9/site-packages/statsmodels/base/model.py:566: ConvergenceWarning: Maximum Likelihood optimization failed to converge. Check mle_retvals\n",
      "  warnings.warn(\"Maximum Likelihood optimization failed to \"\n",
      "/home/ubuntu/anaconda3/lib/python3.9/site-packages/statsmodels/tsa/base/tsa_model.py:524: ValueWarning: No frequency information was provided, so inferred frequency D will be used.\n",
      "  warnings.warn('No frequency information was'\n",
      "/home/ubuntu/anaconda3/lib/python3.9/site-packages/statsmodels/base/model.py:566: ConvergenceWarning: Maximum Likelihood optimization failed to converge. Check mle_retvals\n",
      "  warnings.warn(\"Maximum Likelihood optimization failed to \"\n",
      "/home/ubuntu/anaconda3/lib/python3.9/site-packages/statsmodels/tsa/base/tsa_model.py:524: ValueWarning: No frequency information was provided, so inferred frequency D will be used.\n",
      "  warnings.warn('No frequency information was'\n",
      "/home/ubuntu/anaconda3/lib/python3.9/site-packages/statsmodels/base/model.py:566: ConvergenceWarning: Maximum Likelihood optimization failed to converge. Check mle_retvals\n",
      "  warnings.warn(\"Maximum Likelihood optimization failed to \"\n",
      "/home/ubuntu/anaconda3/lib/python3.9/site-packages/statsmodels/tsa/base/tsa_model.py:524: ValueWarning: No frequency information was provided, so inferred frequency D will be used.\n",
      "  warnings.warn('No frequency information was'\n",
      "/home/ubuntu/anaconda3/lib/python3.9/site-packages/statsmodels/base/model.py:566: ConvergenceWarning: Maximum Likelihood optimization failed to converge. Check mle_retvals\n",
      "  warnings.warn(\"Maximum Likelihood optimization failed to \"\n",
      "/home/ubuntu/anaconda3/lib/python3.9/site-packages/statsmodels/tsa/base/tsa_model.py:524: ValueWarning: No frequency information was provided, so inferred frequency D will be used.\n",
      "  warnings.warn('No frequency information was'\n",
      "/home/ubuntu/anaconda3/lib/python3.9/site-packages/statsmodels/base/model.py:566: ConvergenceWarning: Maximum Likelihood optimization failed to converge. Check mle_retvals\n",
      "  warnings.warn(\"Maximum Likelihood optimization failed to \"\n",
      "/home/ubuntu/anaconda3/lib/python3.9/site-packages/statsmodels/tsa/base/tsa_model.py:524: ValueWarning: No frequency information was provided, so inferred frequency D will be used.\n",
      "  warnings.warn('No frequency information was'\n",
      "/home/ubuntu/anaconda3/lib/python3.9/site-packages/statsmodels/base/model.py:566: ConvergenceWarning: Maximum Likelihood optimization failed to converge. Check mle_retvals\n",
      "  warnings.warn(\"Maximum Likelihood optimization failed to \"\n",
      "/home/ubuntu/anaconda3/lib/python3.9/site-packages/statsmodels/tsa/base/tsa_model.py:524: ValueWarning: No frequency information was provided, so inferred frequency D will be used.\n",
      "  warnings.warn('No frequency information was'\n",
      "/home/ubuntu/anaconda3/lib/python3.9/site-packages/statsmodels/base/model.py:566: ConvergenceWarning: Maximum Likelihood optimization failed to converge. Check mle_retvals\n",
      "  warnings.warn(\"Maximum Likelihood optimization failed to \"\n",
      "/home/ubuntu/anaconda3/lib/python3.9/site-packages/statsmodels/tsa/base/tsa_model.py:524: ValueWarning: No frequency information was provided, so inferred frequency D will be used.\n",
      "  warnings.warn('No frequency information was'\n",
      "/home/ubuntu/anaconda3/lib/python3.9/site-packages/statsmodels/base/model.py:566: ConvergenceWarning: Maximum Likelihood optimization failed to converge. Check mle_retvals\n",
      "  warnings.warn(\"Maximum Likelihood optimization failed to \"\n",
      "/home/ubuntu/anaconda3/lib/python3.9/site-packages/statsmodels/tsa/base/tsa_model.py:524: ValueWarning: No frequency information was provided, so inferred frequency D will be used.\n",
      "  warnings.warn('No frequency information was'\n",
      "/home/ubuntu/anaconda3/lib/python3.9/site-packages/statsmodels/base/model.py:566: ConvergenceWarning: Maximum Likelihood optimization failed to converge. Check mle_retvals\n",
      "  warnings.warn(\"Maximum Likelihood optimization failed to \"\n",
      "/home/ubuntu/anaconda3/lib/python3.9/site-packages/statsmodels/tsa/base/tsa_model.py:524: ValueWarning: No frequency information was provided, so inferred frequency D will be used.\n",
      "  warnings.warn('No frequency information was'\n",
      "/home/ubuntu/anaconda3/lib/python3.9/site-packages/statsmodels/base/model.py:566: ConvergenceWarning: Maximum Likelihood optimization failed to converge. Check mle_retvals\n",
      "  warnings.warn(\"Maximum Likelihood optimization failed to \"\n",
      "/home/ubuntu/anaconda3/lib/python3.9/site-packages/statsmodels/tsa/base/tsa_model.py:524: ValueWarning: No frequency information was provided, so inferred frequency D will be used.\n",
      "  warnings.warn('No frequency information was'\n",
      "/home/ubuntu/anaconda3/lib/python3.9/site-packages/statsmodels/base/model.py:566: ConvergenceWarning: Maximum Likelihood optimization failed to converge. Check mle_retvals\n",
      "  warnings.warn(\"Maximum Likelihood optimization failed to \"\n",
      "/home/ubuntu/anaconda3/lib/python3.9/site-packages/statsmodels/tsa/base/tsa_model.py:524: ValueWarning: No frequency information was provided, so inferred frequency D will be used.\n",
      "  warnings.warn('No frequency information was'\n",
      "/home/ubuntu/anaconda3/lib/python3.9/site-packages/statsmodels/base/model.py:566: ConvergenceWarning: Maximum Likelihood optimization failed to converge. Check mle_retvals\n",
      "  warnings.warn(\"Maximum Likelihood optimization failed to \"\n",
      "/home/ubuntu/anaconda3/lib/python3.9/site-packages/statsmodels/tsa/base/tsa_model.py:524: ValueWarning: No frequency information was provided, so inferred frequency D will be used.\n",
      "  warnings.warn('No frequency information was'\n",
      "/home/ubuntu/anaconda3/lib/python3.9/site-packages/statsmodels/base/model.py:566: ConvergenceWarning: Maximum Likelihood optimization failed to converge. Check mle_retvals\n",
      "  warnings.warn(\"Maximum Likelihood optimization failed to \"\n",
      "/home/ubuntu/anaconda3/lib/python3.9/site-packages/statsmodels/tsa/base/tsa_model.py:524: ValueWarning: No frequency information was provided, so inferred frequency D will be used.\n",
      "  warnings.warn('No frequency information was'\n",
      "/home/ubuntu/anaconda3/lib/python3.9/site-packages/statsmodels/base/model.py:566: ConvergenceWarning: Maximum Likelihood optimization failed to converge. Check mle_retvals\n",
      "  warnings.warn(\"Maximum Likelihood optimization failed to \"\n",
      "/home/ubuntu/anaconda3/lib/python3.9/site-packages/statsmodels/tsa/base/tsa_model.py:524: ValueWarning: No frequency information was provided, so inferred frequency D will be used.\n",
      "  warnings.warn('No frequency information was'\n",
      "/home/ubuntu/anaconda3/lib/python3.9/site-packages/statsmodels/base/model.py:566: ConvergenceWarning: Maximum Likelihood optimization failed to converge. Check mle_retvals\n",
      "  warnings.warn(\"Maximum Likelihood optimization failed to \"\n",
      "/home/ubuntu/anaconda3/lib/python3.9/site-packages/statsmodels/tsa/base/tsa_model.py:524: ValueWarning: No frequency information was provided, so inferred frequency D will be used.\n",
      "  warnings.warn('No frequency information was'\n",
      "/home/ubuntu/anaconda3/lib/python3.9/site-packages/statsmodels/base/model.py:566: ConvergenceWarning: Maximum Likelihood optimization failed to converge. Check mle_retvals\n",
      "  warnings.warn(\"Maximum Likelihood optimization failed to \"\n",
      "/home/ubuntu/anaconda3/lib/python3.9/site-packages/statsmodels/tsa/base/tsa_model.py:524: ValueWarning: No frequency information was provided, so inferred frequency D will be used.\n",
      "  warnings.warn('No frequency information was'\n",
      "/home/ubuntu/anaconda3/lib/python3.9/site-packages/statsmodels/base/model.py:566: ConvergenceWarning: Maximum Likelihood optimization failed to converge. Check mle_retvals\n",
      "  warnings.warn(\"Maximum Likelihood optimization failed to \"\n",
      "/home/ubuntu/anaconda3/lib/python3.9/site-packages/statsmodels/tsa/base/tsa_model.py:524: ValueWarning: No frequency information was provided, so inferred frequency D will be used.\n",
      "  warnings.warn('No frequency information was'\n"
     ]
    },
    {
     "name": "stderr",
     "output_type": "stream",
     "text": [
      "/home/ubuntu/anaconda3/lib/python3.9/site-packages/statsmodels/base/model.py:566: ConvergenceWarning: Maximum Likelihood optimization failed to converge. Check mle_retvals\n",
      "  warnings.warn(\"Maximum Likelihood optimization failed to \"\n",
      "/home/ubuntu/anaconda3/lib/python3.9/site-packages/statsmodels/tsa/base/tsa_model.py:524: ValueWarning: No frequency information was provided, so inferred frequency D will be used.\n",
      "  warnings.warn('No frequency information was'\n",
      "/home/ubuntu/anaconda3/lib/python3.9/site-packages/statsmodels/base/model.py:566: ConvergenceWarning: Maximum Likelihood optimization failed to converge. Check mle_retvals\n",
      "  warnings.warn(\"Maximum Likelihood optimization failed to \"\n",
      "/home/ubuntu/anaconda3/lib/python3.9/site-packages/statsmodels/tsa/base/tsa_model.py:524: ValueWarning: No frequency information was provided, so inferred frequency D will be used.\n",
      "  warnings.warn('No frequency information was'\n",
      "/home/ubuntu/anaconda3/lib/python3.9/site-packages/statsmodels/base/model.py:566: ConvergenceWarning: Maximum Likelihood optimization failed to converge. Check mle_retvals\n",
      "  warnings.warn(\"Maximum Likelihood optimization failed to \"\n",
      "/home/ubuntu/anaconda3/lib/python3.9/site-packages/statsmodels/tsa/base/tsa_model.py:524: ValueWarning: No frequency information was provided, so inferred frequency D will be used.\n",
      "  warnings.warn('No frequency information was'\n"
     ]
    }
   ],
   "source": [
    "forecasts = {}\n",
    "for i in range(732, nobs):\n",
    "    Xtr = X4[:i]\n",
    "    ytr = y4[:i]\n",
    "    arima4 = ARIMA(endog=ytr, exog=Xtr, order=(1,0,3), freq='D')\n",
    "    arima4_fit = arima4.fit()\n",
    "    forecasts[y4.index[i]] = arima4_fit.forecast(steps=1, exog=X4.iloc[i]).values[0]\n",
    "\n",
    "pd.Series(forecasts, name='forecast_views4').to_csv('../data/processed/forecast_views4.csv', sep=';')"
   ]
  },
  {
   "cell_type": "code",
   "execution_count": null,
   "id": "aef48d16",
   "metadata": {},
   "outputs": [],
   "source": []
  },
  {
   "cell_type": "code",
   "execution_count": null,
   "id": "f111725a",
   "metadata": {},
   "outputs": [],
   "source": [
    "pd.read_csv('../data/processed/forecast4.csv', sep=';')"
   ]
  },
  {
   "cell_type": "code",
   "execution_count": null,
   "id": "a149c345",
   "metadata": {},
   "outputs": [],
   "source": []
  }
 ],
 "metadata": {
  "kernelspec": {
   "display_name": "Python 3 (ipykernel)",
   "language": "python",
   "name": "python3"
  },
  "language_info": {
   "codemirror_mode": {
    "name": "ipython",
    "version": 3
   },
   "file_extension": ".py",
   "mimetype": "text/x-python",
   "name": "python",
   "nbconvert_exporter": "python",
   "pygments_lexer": "ipython3",
   "version": "3.9.7"
  }
 },
 "nbformat": 4,
 "nbformat_minor": 5
}
