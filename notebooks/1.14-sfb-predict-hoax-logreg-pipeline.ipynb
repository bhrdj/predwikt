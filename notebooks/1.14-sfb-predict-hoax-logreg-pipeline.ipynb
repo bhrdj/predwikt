{
 "cells": [
  {
   "cell_type": "markdown",
   "id": "315e258b-7258-48f2-b5ee-548258bd6456",
   "metadata": {
    "tags": []
   },
   "source": [
    "# Predict hoax using scaled features"
   ]
  },
  {
   "cell_type": "markdown",
   "id": "776a7b42-dbdf-4a0c-abe9-0a131a28bd0e",
   "metadata": {
    "tags": []
   },
   "source": [
    "## Improvements (for a subsequent notebook):"
   ]
  },
  {
   "cell_type": "markdown",
   "id": "2d08d927-fad7-4e72-bc8b-4114890e7a0d",
   "metadata": {},
   "source": [
    "- implement randomforest and xgboost, as in the paper\n",
    "- graph the test scores alongside cross-val scores\n",
    "- fix my StandardScaler implementation per Geoff's note ([link](https://stackoverflow.com/questions/51459406/how-to-apply-standardscaler-in-pipeline-in-scikit-learn-sklearn))"
   ]
  },
  {
   "cell_type": "markdown",
   "id": "8c439bdc-bf74-483e-b15f-a1d0fc6fba51",
   "metadata": {
    "jp-MarkdownHeadingCollapsed": true,
    "tags": []
   },
   "source": [
    "## Notes: Struggles with model fit without SFS"
   ]
  },
  {
   "cell_type": "markdown",
   "id": "51c7eb73-ac4c-4037-9785-6eb55f3b305a",
   "metadata": {},
   "source": [
    "Goal: Match or surpass the $R^2$ achieved with unscaled features"
   ]
  },
  {
   "cell_type": "markdown",
   "id": "6d1b27b7-f7c9-4360-a8d8-b01a017c3bea",
   "metadata": {
    "tags": []
   },
   "source": [
    "#### ➜ Fewer coefficients present without scaling. Why?"
   ]
  },
  {
   "cell_type": "markdown",
   "id": "aa641e40-2262-43b5-a05b-e2b97513c29e",
   "metadata": {},
   "source": [
    "- There was a typo and a feature slipped through that wasn't supposed to\n",
    "    - ➜ fixed\n",
    "    - The sets are the same now, but the phenomenon is remaining.\n",
    "- Maybe it's because the intercept was scaled to zero?  \n",
    "    - ➜ Try only scaling the original floats.\n",
    "    - Score improved to .54/.5 , but unscaled remains .6\n",
    "- Look at (unscaled_coeff / $\\sigma$) to understand feature importance\n",
    "    - ➜ Try repeating the regression with these features only\n",
    "    - Score improved to .55/.5 , and unscaled remains .58\n",
    "- Checked Lasso (with all features)\n",
    "    - ➜ same results as Ridge: .54/.5\n",
    "- Relaxed my limitation of C,\n",
    "    - ➜ improved to .57/.5 with C=6\n",
    "- Ran logistic regression on unscaled features with no regularization\n",
    "    - ➜ improved to .61/.5\n",
    "    - Far out-performed the paper-author's models\n",
    "- Let's try SFS with scaled features\n",
    "    - Success!\n",
    "- Conclusion:\n",
    "    - The unscaled data was causing regularization to do feature selection in a better way.\n",
    "    - When the feature selection was improved with "
   ]
  },
  {
   "cell_type": "markdown",
   "id": "8acc7b4c-07eb-4d6d-b74f-00bf6a34f428",
   "metadata": {
    "jp-MarkdownHeadingCollapsed": true,
    "tags": []
   },
   "source": [
    "## Notes: sklearn GridSearchCV vs. customization"
   ]
  },
  {
   "cell_type": "markdown",
   "id": "7010358a-9893-4d93-acd1-cafda96c645e",
   "metadata": {
    "tags": []
   },
   "source": [
    "### When to use sklearn's GridSearchCV to wrap SFS?"
   ]
  },
  {
   "cell_type": "markdown",
   "id": "0a8a9611-a187-4e16-a889-4e5a4dc71a6c",
   "metadata": {},
   "source": [
    "- Technical particularity:\n",
    "    - It's only possible to get access to the SFS instance for the param combination that GridSearchCV found to be optimal.\n",
    "    - This mitigates output complexity, but prevents thorough review.\n",
    "    - It would prevent a review of both SFFS and SFBS within the same gridsearch as is done here, for instance.\n",
    "- Pros\n",
    "    - GridSearchCV is great for automated production applications, to make the code robust, concise, and palatable for other users.\n",
    "- Cons\n",
    "    - GridSearchCV wouldn't let me do a viz overview of the param_grid outputs.\n",
    "    - (it's grid ***search***, not grid ***exploration***.) "
   ]
  },
  {
   "cell_type": "markdown",
   "id": "8445bee5-3296-4ef7-815a-b402f23762f0",
   "metadata": {
    "tags": []
   },
   "source": [
    "#### Previous thoughts on why not to use sklearn's GridSearchCV with SFS:"
   ]
  },
  {
   "cell_type": "raw",
   "id": "a37b07b6-c047-4028-ac60-3cd6008ddff0",
   "metadata": {},
   "source": [
    "sklearn.model_selection.GridSearchCV can only optimize one hyperparameter at a time. It cannot require two hyperparameters to be fixed together.  \n",
    "However to implement SFS in a pipeline with GridSearchCV requires two instances of the estimator:\n",
    "\n",
    "- one instance est_sfs for the estimator in SFS, and \n",
    "- another instance est_scor at the end of the pipeline to allow it to be used to fit a model.\n",
    "\n",
    "But then, these two estimator instances will have two separate/parallel sets of hyperparameters. \n",
    "\n",
    "Consider that the model used for these instances is sklearn.linear_model.LogisticRegression, which has a regularization hyperparameter C.  \n",
    "The C used by the LogisticRegression inside SFS is used to select features, and the C at the end of the pipeline is used by the gridsearch to score each model run.  \n",
    "\n",
    "Three solution alternatives to make sure the two C's are the same for each model run:\n",
    "1. Use GridSearch to wrap the pipeline and param_grid, with an unused stand-in estimator at the end of the pipeline. Write a custom function to analyze and score the SFS output pulled directly from my_pipeline.steps[index] etc.\n",
    "2. Write my own custom gridsearch function.\n",
    "3. Rewrite the GridSearchCV code as was done in this SOF answer (without fully-posted code)\n",
    "\n",
    "documentation here ([link](https://stackoverflow.com/questions/48831851/how-to-pass-two-estimator-objects-to-sklearns-gridsearchcv-so-that-they-have-th))\n",
    "\n",
    "Another perspective:\n",
    "- Maybe doing the scoring with a different estimator est_scor is better:\n",
    "    - The main point of a diverse paramgrid within SFS is develop a diverse output of feature sets.\n",
    "    - That's an entirely separate goal from tuning optimal hyperparameters for the final model."
   ]
  },
  {
   "cell_type": "markdown",
   "id": "69cf4c59-546e-453f-9aef-cce814551a91",
   "metadata": {
    "jp-MarkdownHeadingCollapsed": true,
    "tags": []
   },
   "source": [
    "## Get hoax data"
   ]
  },
  {
   "cell_type": "markdown",
   "id": "36311d5e-beb7-471f-a963-ed1f57c60242",
   "metadata": {
    "jp-MarkdownHeadingCollapsed": true,
    "tags": []
   },
   "source": [
    "### imports"
   ]
  },
  {
   "cell_type": "code",
   "execution_count": 1,
   "id": "522dd10f-5501-4d60-b29c-3a857f23ba1e",
   "metadata": {},
   "outputs": [],
   "source": [
    "import os, re, patsy\n",
    "import pandas as pd, numpy as np\n",
    "from datetime import datetime as dt\n",
    "from sklearn.model_selection import train_test_split\n",
    "path = '/home/bhrdwj/git/predwikt/data/raw/wiki_reliability/unzipped/'"
   ]
  },
  {
   "cell_type": "code",
   "execution_count": 2,
   "id": "c93dfd55-0405-4534-ad2d-db33b0b1de8d",
   "metadata": {},
   "outputs": [],
   "source": [
    "fea = (pd.read_csv(path+'hoax_features.csv', usecols=lambda x: x not in ['Unnamed: 0'])\n",
    "       .rename(columns={'headings_by_level(2)':'headings_by_level_2', 'revision_id.key':'revision_id_key'}))"
   ]
  },
  {
   "cell_type": "markdown",
   "id": "8d507d75-7553-4319-9c39-d80baea4166f",
   "metadata": {
    "jp-MarkdownHeadingCollapsed": true,
    "tags": []
   },
   "source": [
    "### train test split"
   ]
  },
  {
   "cell_type": "markdown",
   "id": "78f4b2da-0012-4cba-b7cb-d0f56e092dac",
   "metadata": {},
   "source": [
    "#### Make series of negative revisions and their revision keys, and vice versa"
   ]
  },
  {
   "cell_type": "code",
   "execution_count": 3,
   "id": "35f30aaf-6d36-4c06-a857-6b6b717e8514",
   "metadata": {},
   "outputs": [
    {
     "data": {
      "text/plain": [
       "(1390,)"
      ]
     },
     "execution_count": 3,
     "metadata": {},
     "output_type": "execute_result"
    }
   ],
   "source": [
    "neg_revs = fea[['revision_id', 'revision_id_key', 'has_template']]\n",
    "neg_revs = neg_revs.loc[neg_revs.has_template==0].set_index('revision_id')['revision_id_key']\n",
    "pos_revs = fea[['revision_id', 'revision_id_key', 'has_template']]\n",
    "pos_revs = pos_revs.loc[pos_revs.has_template==1].set_index('revision_id')['revision_id_key']\n",
    "\n",
    "neg_revs.shape #, pos_revs.shape"
   ]
  },
  {
   "cell_type": "markdown",
   "id": "af9cacc0-02a2-4289-938b-4777886cad99",
   "metadata": {},
   "source": [
    "#### Test-train split the neg_revs, and form dfte and dftr"
   ]
  },
  {
   "cell_type": "code",
   "execution_count": 4,
   "id": "1cfa337d-351a-4842-9968-ba52d362d8b4",
   "metadata": {},
   "outputs": [],
   "source": [
    "neg_revs_tr, neg_revs_te = train_test_split(neg_revs, test_size=.2, random_state=0)\n",
    "pos_revs_tr = pos_revs[neg_revs_tr.values]\n",
    "pos_revs_te = pos_revs[neg_revs_te.values]"
   ]
  },
  {
   "cell_type": "code",
   "execution_count": 5,
   "id": "b6eed864-538d-45d7-a0e2-9b28d0f39c43",
   "metadata": {},
   "outputs": [],
   "source": [
    "revs_tr = pd.concat((neg_revs_tr, pos_revs_tr))\n",
    "revs_te = pd.concat((neg_revs_te, pos_revs_te))"
   ]
  },
  {
   "cell_type": "code",
   "execution_count": 6,
   "id": "e863c433-eeda-44de-ac19-daffddb6e753",
   "metadata": {},
   "outputs": [],
   "source": [
    "fea_rev = fea.set_index('revision_id')\n",
    "dftr = fea_rev.loc[revs_tr.index].dropna()\n",
    "dfte = fea_rev.loc[revs_te.index].dropna()"
   ]
  },
  {
   "cell_type": "code",
   "execution_count": 7,
   "id": "1e831562-e1a0-449a-9a6d-7c29055d1e13",
   "metadata": {},
   "outputs": [],
   "source": [
    "del neg_revs, pos_revs, neg_revs_tr, pos_revs_tr, neg_revs_te, pos_revs_te, revs_tr, revs_te, fea_rev"
   ]
  },
  {
   "cell_type": "code",
   "execution_count": 8,
   "id": "af05ed3d-dc88-46c9-8feb-54ceedd01393",
   "metadata": {},
   "outputs": [],
   "source": [
    "dftr[dftr.columns.difference(['page_id','revision_id_key','has_template'])].describe().T.sort_values(by='mean');"
   ]
  },
  {
   "cell_type": "markdown",
   "id": "3d3973ad-4155-410f-96d4-2cf48761841f",
   "metadata": {
    "jp-MarkdownHeadingCollapsed": true,
    "tags": []
   },
   "source": [
    "### prep"
   ]
  },
  {
   "cell_type": "code",
   "execution_count": 9,
   "id": "8cd82483-08e1-4b76-887e-0204310cddbe",
   "metadata": {},
   "outputs": [],
   "source": [
    "# remove non-features; onehotify categoricals\n",
    "ytr = dftr.has_template\n",
    "Xtr = dftr[dftr.columns.difference(['page_id','revision_id_key','has_template'])]\n",
    "Xtr = patsy.dmatrix('~ '+' + '.join(Xtr.columns), data=Xtr, NA_action='drop', return_type='dataframe')\n",
    "\n",
    "yte = dfte.has_template\n",
    "Xte = dfte[dfte.columns.difference(['page_id','revision_id_key','has_template'])]\n",
    "Xte = patsy.dmatrix('~ '+' + '.join(Xte.columns), data=Xte, NA_action='drop', return_type='dataframe')\n",
    "\n",
    "# make complete list of columns in case the test set doesn't include any of a rare class\n",
    "Xcols = list(\n",
    "    set(Xtr.columns.tolist())\n",
    "    .union(set(Xte.columns.tolist()))\n",
    ")\n",
    "\n",
    "for col in Xcols:\n",
    "    if col not in Xte:\n",
    "        Xte[col] = 0\n",
    "    if col not in Xtr:\n",
    "        Xtr[col] = 0\n",
    "        \n",
    "Xtr = Xtr.reindex(columns=Xcols)\n",
    "Xte = Xte.reindex(columns=Xcols)"
   ]
  },
  {
   "cell_type": "code",
   "execution_count": 10,
   "id": "bec3c2f5-377a-4b55-b678-79991bfd5798",
   "metadata": {},
   "outputs": [
    {
     "data": {
      "text/plain": [
       "((2221, 25), (556, 25))"
      ]
     },
     "execution_count": 10,
     "metadata": {},
     "output_type": "execute_result"
    }
   ],
   "source": [
    "Xtr.shape, Xte.shape"
   ]
  },
  {
   "cell_type": "markdown",
   "id": "43cf35df-ca3f-4d84-8b8f-1c713b491e4c",
   "metadata": {
    "tags": []
   },
   "source": [
    "## Feature selection"
   ]
  },
  {
   "cell_type": "markdown",
   "id": "e240ab32-e6c4-4444-b038-4e22ebc59adf",
   "metadata": {
    "tags": []
   },
   "source": [
    "### imports"
   ]
  },
  {
   "cell_type": "code",
   "execution_count": 11,
   "id": "47998023-f505-442c-97d1-f9e3832dc3bd",
   "metadata": {},
   "outputs": [],
   "source": [
    "from sklearn.model_selection import ParameterGrid, StratifiedKFold\n",
    "from sklearn.pipeline import Pipeline\n",
    "from sklearn.preprocessing import StandardScaler\n",
    "from mlxtend.feature_selection import SequentialFeatureSelector as SFS\n",
    "from sklearn.linear_model import LogisticRegression, LogisticRegressionCV"
   ]
  },
  {
   "cell_type": "markdown",
   "id": "970e8025-1fdc-4c1c-9f25-e8b9c844114e",
   "metadata": {
    "tags": []
   },
   "source": [
    "### functions"
   ]
  },
  {
   "cell_type": "markdown",
   "id": "25c46fcb-9c46-415b-b2bc-1caaa0f589fe",
   "metadata": {
    "tags": []
   },
   "source": [
    "##### get_fitfeats_sfs_pipe"
   ]
  },
  {
   "cell_type": "code",
   "execution_count": 12,
   "id": "5ad3492f-bc9f-4139-a639-c4911599779f",
   "metadata": {},
   "outputs": [],
   "source": [
    "def bh_sfs_gridsearch(Xtr, ytr, pipe, param_grid:dict):\n",
    "    \"\"\"\n",
    "    Concept:\n",
    "        Like sklearn's GridSearch, but relying on sfs for the CV\n",
    "        Value-add: Returns all feature sets from SFFS and SFBS runs and sub-runs for each parameter combo\n",
    "    Args:\n",
    "        Xtr: pd.DataFrame of features\n",
    "        ytr: pd.Series target\n",
    "        pipe: sklearn Pipeline ending in a mlxtend SequentialFeatureSelector instance.\n",
    "        param_grid: dict of lists, params of pipe, input for sklearn ParameterGrid\n",
    "    Returns:\n",
    "        dict:\n",
    "        - keys are numbers starting in 1, for each cell of ParameterGrid\n",
    "        - values are lists of feature names\n",
    "    \"\"\"\n",
    "    print(f'start time: {dt.now()}')\n",
    "    pg = {i:j for i,j in enumerate(ParameterGrid(param_grid), start=1)}\n",
    "    sfs_featdict = {}\n",
    "    sfs_scoredict = {}\n",
    "    for i in pg:\n",
    "        pipe.set_params(**pg[i]).fit(Xtr, ytr)\n",
    "        k_feats = pg[i]['sfs__k_features']\n",
    "        idx_tup = pipe.steps[-1][1].get_metric_dict()[k_feats]['feature_idx']\n",
    "        \n",
    "        d = {k:list(v['feature_idx']) for k,v in pipe.steps[1][1].subsets_.items()}  # IMPROVEMENT: change pipe.steps[1] to directly look for the sfs step\n",
    "        for j in d: d[j] = Xtr.columns[d[j]]\n",
    "        sfs_featdict[i] = d\n",
    "        \n",
    "        s = {k:v['avg_score'] for k,v in pipe.steps[1][1].subsets_.items()} # IMPROVEMENT: change pipe.steps[1] to directly look for the sfs step\n",
    "        sfs_scoredict[i] = s\n",
    "    print(f'finish time: {dt.now()}')\n",
    "    return sfs_featdict, sfs_scoredict"
   ]
  },
  {
   "cell_type": "markdown",
   "id": "c1b455e5-00a7-435f-a71b-32d868985069",
   "metadata": {
    "tags": []
   },
   "source": [
    "### instances"
   ]
  },
  {
   "cell_type": "code",
   "execution_count": 13,
   "id": "b0eab8d0-f6c1-4aa8-892c-3568fc7bc626",
   "metadata": {},
   "outputs": [],
   "source": [
    "scaler = StandardScaler()\n",
    "lr_sfs = LogisticRegression(penalty='l2', max_iter=1000, fit_intercept=True)\n",
    "cv_sfs = StratifiedKFold(n_splits=5, shuffle=False)\n",
    "sfs = SFS(estimator=lr_sfs, forward=True, floating=False, scoring='accuracy', cv=cv_sfs) # unused / placeholder\n",
    "sffs = SFS(estimator=lr_sfs, forward=True, floating=True, scoring='accuracy', cv=cv_sfs)\n",
    "sfbs = SFS(estimator=lr_sfs, forward=False, floating=True, scoring='accuracy', cv=cv_sfs)\n",
    "sfs_pipe = Pipeline([('scaler', scaler),('sfs', sfs)])"
   ]
  },
  {
   "cell_type": "markdown",
   "id": "70bde31d-f823-4c71-8529-8cabea8cd79e",
   "metadata": {
    "tags": []
   },
   "source": [
    "### fit"
   ]
  },
  {
   "cell_type": "markdown",
   "id": "fc0c7045-80ac-4492-9a44-ead915eeada2",
   "metadata": {
    "tags": []
   },
   "source": [
    "#### sffs"
   ]
  },
  {
   "cell_type": "code",
   "execution_count": 314,
   "id": "a5b38a34-eece-4fee-bb22-b62dc7d6749e",
   "metadata": {},
   "outputs": [
    {
     "name": "stdout",
     "output_type": "stream",
     "text": [
      "start time: 2022-01-13 19:36:36.847337\n",
      "finish time: 2022-01-13 19:39:54.213056\n"
     ]
    }
   ],
   "source": [
    "sfs_pipe_param_grid = {\n",
    "    'sfs': [sffs, sfbs],\n",
    "    'sfs__k_features': [1, len(Xtr.columns)],\n",
    "    'sfs__estimator': [lr_sfs],\n",
    "    'sfs__estimator__C': [.013]\n",
    "}\n",
    "\n",
    "sfs_featdict, sfs_scoredict = bh_sfs_gridsearch(Xtr, ytr, sfs_pipe, sfs_pipe_param_grid)"
   ]
  },
  {
   "cell_type": "markdown",
   "id": "8f70c6c1-53de-4a18-a059-281d6f8b0a96",
   "metadata": {
    "tags": []
   },
   "source": [
    "#### pickle"
   ]
  },
  {
   "cell_type": "code",
   "execution_count": 349,
   "id": "fb1e428d-65af-4333-a98c-c547123f705a",
   "metadata": {},
   "outputs": [],
   "source": [
    "import pickle\n",
    "\n",
    "# with open('../data/processed/sfs_scoredict.StratifiedKFoldkle','wb+') as f:\n",
    "#     pickle.dump(sfs_scoredict, f)\n",
    "# with open('../data/processed/sfs_featdict.pickle','wb+') as f:\n",
    "#     pickle.dump(sfs_featdict, f)\n",
    "\n",
    "with open('../data/processed/sfs_featdict.pickle','rb') as f:\n",
    "    sfs_featdict = pickle.load(f)\n",
    "with open('../data/processed/sfs_scoredict.pickle','rb') as f:\n",
    "    sfs_scoredict = pickle.load(f)"
   ]
  },
  {
   "cell_type": "markdown",
   "id": "76649321-4416-4531-8a69-7bd4d125965a",
   "metadata": {
    "tags": []
   },
   "source": [
    "### extract feats"
   ]
  },
  {
   "cell_type": "markdown",
   "id": "cf0b6478-e6a7-423c-b754-8d10e643c801",
   "metadata": {
    "tags": []
   },
   "source": [
    "#### get onehot df ~ features selected by sfs"
   ]
  },
  {
   "cell_type": "markdown",
   "id": "73e5e94c-a99f-4ac7-8962-81fc1c9f862d",
   "metadata": {
    "tags": []
   },
   "source": [
    "##### munge_onehotdf_from_sfs_featdict (function)"
   ]
  },
  {
   "cell_type": "code",
   "execution_count": 325,
   "id": "e6438af4-ad74-4700-818f-42821419e881",
   "metadata": {},
   "outputs": [],
   "source": [
    "def munge_onehotdf_from_sfs_featdict(sfs_featdict):\n",
    "    \n",
    "    # simple 1D list of sfs  feats\n",
    "    sfs_feat_set = set()\n",
    "    for i in sfs_featdict:              # runs\n",
    "        for j in sfs_featdict[i]:       # kfeats\n",
    "            sfs_feats = list(sfs_feat_set.union(set(sfs_featdict[i][j])))\n",
    "    \n",
    "    # make multiindex columns and empty dataframe\n",
    "    col = pd.MultiIndex.from_tuples(\n",
    "        [(j,k) for j in sfs_featdict for k in sfs_featdict[j]])\n",
    "    idx = pd.Index(sfs_feats, name='feature')\n",
    "    df = pd.DataFrame('-', idx, col)\n",
    "    \n",
    "    # insert onehots into df\n",
    "    for i in sfs_feats:                           # feats\n",
    "        for j in sfs_featdict:                        # runs\n",
    "            for k in sfs_featdict[j]:             # steps within run\n",
    "                df.loc[i,(j,k)] = int(i in sfs_featdict[j][k])\n",
    "    \n",
    "    df = df.astype(int) \n",
    "    return df"
   ]
  },
  {
   "cell_type": "markdown",
   "id": "0481c26e-a80e-4b34-83e3-9e001f6c5bff",
   "metadata": {
    "tags": []
   },
   "source": [
    "##### get df"
   ]
  },
  {
   "cell_type": "code",
   "execution_count": 326,
   "id": "fa0e9a69-35be-42e9-a7a5-80af854e688e",
   "metadata": {},
   "outputs": [],
   "source": [
    "sfs_onehots = munge_onehotdf_from_sfs_featdict(sfs_featdict)"
   ]
  },
  {
   "cell_type": "markdown",
   "id": "c0bab933-3331-433a-b1be-58970b393f5b",
   "metadata": {
    "tags": []
   },
   "source": [
    "#### get simple 1D lists of sfs runs, kfeats, and feats"
   ]
  },
  {
   "cell_type": "code",
   "execution_count": 327,
   "id": "3a653fc4-e071-45ab-a72a-9a11399de70e",
   "metadata": {},
   "outputs": [],
   "source": [
    "sfs_runs = list(sfs_featdict.keys())\n",
    "\n",
    "sfs_feat_set, sfs_kfeats_set = set(), set()\n",
    "for i in sfs_featdict:              # runs\n",
    "    for j in sfs_featdict[i]:       # kfeats\n",
    "        sfs_feats = list(sfs_feat_set.union(set(sfs_featdict[i][j])))\n",
    "        sfs_kfeats = list(sfs_kfeats_set.union(set([j])))"
   ]
  },
  {
   "cell_type": "markdown",
   "id": "3ecc3f6a-425c-4523-a38f-41457d5b7f39",
   "metadata": {
    "tags": []
   },
   "source": [
    "#### sort the index of features by occurence"
   ]
  },
  {
   "cell_type": "markdown",
   "id": "fc6264fc-ec95-45cf-9832-47c8ce364b9f",
   "metadata": {},
   "source": [
    "##### count occurrences of features to sort the index"
   ]
  },
  {
   "cell_type": "code",
   "execution_count": 328,
   "id": "f3557054-1dbd-45a6-b848-98c625bda276",
   "metadata": {},
   "outputs": [],
   "source": [
    "idx = pd.IndexSlice\n",
    "sfs_feat_usecounts = sfs_onehots.loc[:,idx[1,:]].sum(axis=1)\n",
    "for i in sfs_featdict:\n",
    "    sfs_feat_usecounts += sfs_onehots.loc[:,idx[i,:]].sum(axis=1)"
   ]
  },
  {
   "cell_type": "markdown",
   "id": "aee0f850-416d-45eb-a86c-7d498f330d4e",
   "metadata": {},
   "source": [
    "##### sort features by frequency of occurence in sfs cases"
   ]
  },
  {
   "cell_type": "code",
   "execution_count": 329,
   "id": "0fd5433e-7ad2-478a-8e53-9aa278e37638",
   "metadata": {},
   "outputs": [],
   "source": [
    "sfs_onehots = sfs_onehots.reindex(index=sfs_feat_usecounts.sort_values(ascending=False).index)\n",
    "sfs_onehots = sfs_onehots.sort_index(axis=1)"
   ]
  },
  {
   "cell_type": "markdown",
   "id": "3c9a46d1-6b4d-4823-bf7e-54ccde89d43e",
   "metadata": {
    "tags": []
   },
   "source": [
    "### viz feats"
   ]
  },
  {
   "cell_type": "markdown",
   "id": "c22fb8d7-ff69-4a1f-91db-a8f8be9f7c4e",
   "metadata": {
    "tags": []
   },
   "source": [
    "##### imports"
   ]
  },
  {
   "cell_type": "code",
   "execution_count": 330,
   "id": "55c2f385-0a14-4870-92a1-c2b7358002a9",
   "metadata": {},
   "outputs": [],
   "source": [
    "import matplotlib\n",
    "%matplotlib inline\n",
    "matplotlib.use('TkAgg')\n",
    "\n",
    "import matplotlib.pyplot as plt\n",
    "import seaborn as sns"
   ]
  },
  {
   "cell_type": "markdown",
   "id": "9b2c4ff4-c49f-48d2-8750-4f74ed9d1ddd",
   "metadata": {
    "tags": []
   },
   "source": [
    "#### plot feature selection"
   ]
  },
  {
   "cell_type": "code",
   "execution_count": 331,
   "id": "cac95e0d-935d-413d-a020-6a09ba4816cb",
   "metadata": {},
   "outputs": [],
   "source": [
    "feat_fig, ax = plt.subplots(1,2, figsize=(16,8))\n",
    "feat_fig.subplots_adjust(wspace=.5)\n",
    "\n",
    "(sns.heatmap(\n",
    "    sfs_onehots.loc[:,idx[2,:]].T.droplevel(level=0).T, \n",
    "    ax=ax[0], cbar=False)\n",
    "    .set(ylabel=None, xlabel='kfeats')   \n",
    ")\n",
    "(sns.heatmap(\n",
    "    sfs_onehots.loc[:,idx[3,:]].T.droplevel(level=0).T, \n",
    "    ax=ax[1], cbar=False)\n",
    "    .set(ylabel=None, xlabel='kfeats')\n",
    ")\n",
    "\n",
    "ax[0].set_title('Sequential Floating Forward Selection')\n",
    "ax[1].set_title('Sequential Floating Backward Selection')\n",
    "feat_fig.suptitle('Logistic Regression: Features selected, graphed against k_features')\n",
    "feat_fig.show()"
   ]
  },
  {
   "cell_type": "code",
   "execution_count": 332,
   "id": "3bd5187f-9e09-4785-953e-83d6591e7161",
   "metadata": {},
   "outputs": [
    {
     "data": {
      "image/png": "[encoded data removed]",
      "text/plain": [
       "<Figure size 1152x576 with 2 Axes>"
      ]
     },
     "execution_count": 332,
     "metadata": {},
     "output_type": "execute_result"
    }
   ],
   "source": [
    "feat_fig"
   ]
  },
  {
   "cell_type": "markdown",
   "id": "7a237947-1b3f-4f53-ba4f-c731b1a2bc61",
   "metadata": {
    "tags": []
   },
   "source": [
    "#### plot cv scores from feature selection"
   ]
  },
  {
   "cell_type": "code",
   "execution_count": 333,
   "id": "a3d2c512-3dde-49ac-b514-8a30dc24bcad",
   "metadata": {},
   "outputs": [],
   "source": [
    "scor_fig, ax = plt.subplots(1,2, figsize=(14,4))\n",
    "scor_fig.subplots_adjust(wspace=.4)\n",
    "\n",
    "pd.Series(sfs_scoredict[2]).plot(ax=ax[0])\n",
    "pd.Series(sfs_scoredict[3]).plot(ax=ax[1])\n",
    "for axis in ax:\n",
    "    axis.set_xlabel('kfeats')\n",
    "    axis.set_ylabel('accuracy')\n",
    "ax[0].set_title('Sequential Floating Forward Selection')\n",
    "ax[1].set_title('Sequential Floating Backward Selection')\n",
    "scor_fig.suptitle('Logistic Regression: Cross-validation accuracy score from SFS (baseline accuracy 0.5)')\n",
    "scor_fig.show()"
   ]
  },
  {
   "cell_type": "code",
   "execution_count": 334,
   "id": "679e1607-f7c8-4dd3-853f-08175d5e4050",
   "metadata": {},
   "outputs": [
    {
     "data": {
      "image/png": "[encoded data removed]",
      "text/plain": [
       "<Figure size 1008x288 with 2 Axes>"
      ]
     },
     "execution_count": 334,
     "metadata": {},
     "output_type": "execute_result"
    }
   ],
   "source": [
    "scor_fig"
   ]
  },
  {
   "cell_type": "markdown",
   "id": "027f27c9-5d0d-4d8a-8b5e-dcb1f26abd9e",
   "metadata": {
    "tags": []
   },
   "source": [
    "### identify best set of feats"
   ]
  },
  {
   "cell_type": "markdown",
   "id": "d7bf8c5f-a6ad-4cd7-b11a-490525baae07",
   "metadata": {
    "tags": []
   },
   "source": [
    "#### Get top feats set by cross-val score"
   ]
  },
  {
   "cell_type": "markdown",
   "id": "db7bfe21-d659-4b41-b013-27b5c90c041a",
   "metadata": {},
   "source": [
    "##### create empty dataframe for scores"
   ]
  },
  {
   "cell_type": "code",
   "execution_count": 336,
   "id": "0f742638-984c-49a8-b8da-4e8b59c62875",
   "metadata": {
    "tags": []
   },
   "outputs": [],
   "source": [
    "df_scores = pd.DataFrame('-', ['score'], sfs_onehots.columns)"
   ]
  },
  {
   "cell_type": "markdown",
   "id": "f66aaff3-8f76-4a94-8b45-be0e4ab4ad8e",
   "metadata": {},
   "source": [
    "##### insert scores into dataframe"
   ]
  },
  {
   "cell_type": "code",
   "execution_count": 337,
   "id": "4b3cae90-7261-4bf6-84ea-7ae795d17405",
   "metadata": {},
   "outputs": [],
   "source": [
    "for j in sfs_runs:                        # runs\n",
    "    for k in sfs_featdict[j]:             # steps within run\n",
    "        df_scores.loc['score',(j,k)] = sfs_scoredict[j][k]   \n",
    "df_scores = df_scores.sort_index(axis=1)"
   ]
  },
  {
   "cell_type": "markdown",
   "id": "e45179f9-5c0f-46b0-b827-0e345d14bc77",
   "metadata": {
    "tags": []
   },
   "source": [
    "##### select the multiindex that had the best cross-val score across sffs and sfbs"
   ]
  },
  {
   "cell_type": "code",
   "execution_count": 338,
   "id": "9d271bf4-d2e2-4a03-bd7d-33942b65b310",
   "metadata": {},
   "outputs": [],
   "source": [
    "cols_best_index = df_scores.T.astype(float).nlargest(1, columns='score').T.columns\n",
    "sfs_feats_best_onehots = sfs_onehots[cols_best_index].T.droplevel(level=0).reset_index(drop=True).T\n",
    "sfs_feats_best = feats_best_onehots[(feats_best_onehots > 0).values].index.tolist()\n",
    "sfs_score_best = df_scores.T.astype(float).nlargest(1, columns='score').values[0][0]"
   ]
  },
  {
   "cell_type": "code",
   "execution_count": 339,
   "id": "160faf63-9fd5-405b-b567-99ab92615c3e",
   "metadata": {},
   "outputs": [
    {
     "data": {
      "text/plain": [
       "(0.6271910112359551,\n",
       " ['external_links',\n",
       "  'revision_templates',\n",
       "  'revision_content_chars',\n",
       "  'words_to_watch_matches',\n",
       "  'cite_templates',\n",
       "  'article_quality_score[T.Start]',\n",
       "  'ref_tags',\n",
       "  'revision_words',\n",
       "  'stems_length',\n",
       "  'Intercept'])"
      ]
     },
     "execution_count": 339,
     "metadata": {},
     "output_type": "execute_result"
    }
   ],
   "source": [
    "sfs_score_best, sfs_feats_best"
   ]
  },
  {
   "cell_type": "markdown",
   "id": "61626609-1be7-4dfb-b31e-f6f15076088f",
   "metadata": {
    "tags": []
   },
   "source": [
    "## Tune logistic regression penalty \"C\" (aka \"alpha\")"
   ]
  },
  {
   "cell_type": "code",
   "execution_count": 340,
   "id": "ced25e72-924c-4e2b-a4cd-8a59917c5b17",
   "metadata": {},
   "outputs": [],
   "source": [
    "from sklearn.model_selection import GridSearchCV\n",
    "from sklearn.linear_model import LogisticRegression"
   ]
  },
  {
   "cell_type": "code",
   "execution_count": 342,
   "id": "82381581-8f55-4e7f-91e3-f90241da9be9",
   "metadata": {},
   "outputs": [],
   "source": [
    "lr_simp = LogisticRegression(max_iter=10000)\n",
    "Cs = np.logspace(-4,4,500)\n",
    "pg = {'C': Cs}\n",
    "grs = GridSearchCV(estimator=lr_simp, param_grid=pg)\n",
    "grs.fit(Xtr[sfs_feats_best], ytr);"
   ]
  },
  {
   "cell_type": "code",
   "execution_count": 343,
   "id": "58473934-e78d-4aa7-a774-123fa19521b9",
   "metadata": {},
   "outputs": [],
   "source": [
    "C_scores = pd.Series(grs.cv_results_['mean_test_score'], index=grs.param_grid['C'])\n",
    "C_scores_rolling = C_scores.rolling(10, center=True).mean()\n",
    "best_C = C_scores_rolling.idxmax()\n",
    "best_C_score = C_scores_rolling.max()"
   ]
  },
  {
   "cell_type": "code",
   "execution_count": 344,
   "id": "50b0fb87-62e9-4f4c-9322-1224e26978ad",
   "metadata": {},
   "outputs": [],
   "source": [
    "C_fig, ax = plt.subplots(1,1, figsize=(8,4))\n",
    "ax.set_xscale('log')\n",
    "ax.set_xlabel('C (Inverse Ridge Penalty)')\n",
    "ax.set_ylabel('Mean Accuracy Score')\n",
    "ax.set_title('Mean Accuracy Across CV Splits (Training Set)\\n')\n",
    "C_scores.plot(ax=ax)\n",
    "C_fig.show()"
   ]
  },
  {
   "cell_type": "code",
   "execution_count": 345,
   "id": "2d788619-7111-4127-a4fe-f72246438029",
   "metadata": {},
   "outputs": [],
   "source": [
    "C_rolling_fig, ax = plt.subplots(1,1, figsize=(8,4))\n",
    "ax.set_xscale('log')\n",
    "ax.set_xlabel('C (Inverse Ridge Penalty)')\n",
    "ax.set_ylabel('Rolling Mean Accuracy Score')\n",
    "ax.set_title('Mean Accuracy Across CV Splits (Training Set)\\n'\n",
    "             '(Line is Rolling Average of Means, Marker is Best-C)')\n",
    "C_scores_rolling.plot(ax=ax)\n",
    "ax.scatter(x=best_C, y=best_C_score, marker='o', color=['r'])\n",
    "C_rolling_fig.show()"
   ]
  },
  {
   "cell_type": "code",
   "execution_count": 346,
   "id": "36725fe1-cc7a-4cd9-8ecd-655272ef6bcc",
   "metadata": {},
   "outputs": [
    {
     "data": {
      "image/png": "[encoded data removed]",
      "text/plain": [
       "<Figure size 576x288 with 1 Axes>"
      ]
     },
     "metadata": {},
     "output_type": "display_data"
    },
    {
     "data": {
      "image/png": "[encoded data removed]",
      "text/plain": [
       "<Figure size 576x288 with 1 Axes>"
      ]
     },
     "metadata": {},
     "output_type": "display_data"
    },
    {
     "name": "stdout",
     "output_type": "stream",
     "text": [
      "Best C is: 0.013068702297433463\n"
     ]
    }
   ],
   "source": [
    "display(C_fig, C_rolling_fig)\n",
    "print(f'Best C is: {best_C}')"
   ]
  },
  {
   "cell_type": "markdown",
   "id": "19d081ce-44e0-47e3-879c-11e9c2540cc8",
   "metadata": {},
   "source": [
    "## Test"
   ]
  },
  {
   "cell_type": "code",
   "execution_count": 347,
   "id": "6f779035-b1ec-4bbc-a325-00dfd82dc993",
   "metadata": {},
   "outputs": [
    {
     "data": {
      "text/plain": [
       "0.6151079136690647"
      ]
     },
     "execution_count": 347,
     "metadata": {},
     "output_type": "execute_result"
    }
   ],
   "source": [
    "lr_final = LogisticRegression(max_iter=10000, C=0.013)\n",
    "lr_final.fit(Xtr[sfs_feats_best],ytr)\n",
    "lr_final.score(Xte[sfs_feats_best],yte)"
   ]
  },
  {
   "cell_type": "markdown",
   "id": "8c19370f-a9b1-49d3-832e-267f639b844b",
   "metadata": {},
   "source": [
    "## Discussion"
   ]
  },
  {
   "cell_type": "markdown",
   "id": "bd187845-3da6-448b-b6f2-bc8108af1ace",
   "metadata": {},
   "source": [
    "### Feature selection and hyperparameter tuning"
   ]
  },
  {
   "cell_type": "markdown",
   "id": "85044dd0-ef7e-4265-b117-96cb8af6a9dc",
   "metadata": {},
   "source": [
    "- Feature Selection\n",
    "    - The 10-feature set had the best rolling-average mean cross-val score on the training set, out of all the the SFFS/SFBS sets.\n",
    "    - A clear bias-variance trend is visible with both SFFS and SFBS methods.\n",
    "    - Repeating/re-iterating the SFFS/SFBS feature selection with the optimal C (= 0.13) reaffirmed the optimal list of parameters.\n",
    "- Hyperparameter tuning\n",
    "    - A gridsearch over the logistic regression's regularization L2 penalty-weight parameter (C, aka alpha) found C=0.13 optimal.\n",
    "    - While the validation curve for optimal C is not entirely concave-down with multiple local optima, an overall bias-variance trend is clearly visible.\n",
    "    - The scale of the variability surrounding the optimal C is modest, with the maximum difference in accuracy well-under 1% within an order-of-magnitude of C's surrounding the optimal C."
   ]
  },
  {
   "cell_type": "markdown",
   "id": "352186ee-4267-4020-91e1-602804acdb50",
   "metadata": {},
   "source": [
    "### Conclusions"
   ]
  },
  {
   "cell_type": "markdown",
   "id": "fab21543-8752-4cef-93be-adf758b27214",
   "metadata": {},
   "source": [
    "- The test score of 0.615 improved on the Logistic Regression test score from the original author.\n",
    "- The next step is to apply XGBoost, to see if the SFFS/SFBS feature selection can improve on the author's XGBoost test score as well."
   ]
  }
 ],
 "metadata": {
  "kernelspec": {
   "display_name": "Python 3 (ipykernel)",
   "language": "python",
   "name": "python3"
  },
  "language_info": {
   "codemirror_mode": {
    "name": "ipython",
    "version": 3
   },
   "file_extension": ".py",
   "mimetype": "text/x-python",
   "name": "python",
   "nbconvert_exporter": "python",
   "pygments_lexer": "ipython3",
   "version": "3.9.7"
  }
 },
 "nbformat": 4,
 "nbformat_minor": 5
}
