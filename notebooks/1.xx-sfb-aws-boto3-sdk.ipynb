{
 "cells": [
  {
   "cell_type": "markdown",
   "id": "05a967b7-4f49-4261-9b51-f942117103d1",
   "metadata": {},
   "source": [
    "# Learning AWS Boto3"
   ]
  },
  {
   "cell_type": "code",
   "execution_count": null,
   "id": "05770b06-2ab2-412a-8560-b1f987c5c876",
   "metadata": {},
   "outputs": [],
   "source": []
  }
 ],
 "metadata": {
  "kernelspec": {
   "display_name": "Python 3 (ipykernel)",
   "language": "python",
   "name": "python3"
  },
  "language_info": {
   "codemirror_mode": {
    "name": "ipython",
    "version": 3
   },
   "file_extension": ".py",
   "mimetype": "text/x-python",
   "name": "python",
   "nbconvert_exporter": "python",
   "pygments_lexer": "ipython3",
   "version": "3.9.7"
  }
 },
 "nbformat": 4,
 "nbformat_minor": 5
}
