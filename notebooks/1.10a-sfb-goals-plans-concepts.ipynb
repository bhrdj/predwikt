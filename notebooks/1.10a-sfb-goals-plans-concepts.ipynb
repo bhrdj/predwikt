{
 "cells": [
  {
   "cell_type": "markdown",
   "id": "9c4bf126-6b3b-4ff8-b0df-b7267c8311e0",
   "metadata": {},
   "source": [
    "# Goals, Plans, Concepts"
   ]
  },
  {
   "cell_type": "markdown",
   "id": "29eefdee-358d-49a8-ac83-dece541567e4",
   "metadata": {
    "tags": []
   },
   "source": [
    "## Simply stated:"
   ]
  },
  {
   "cell_type": "markdown",
   "id": "222800d2-e734-4d00-a406-d97cea02435b",
   "metadata": {},
   "source": [
    "Predict daily edits to pages in jawiki category: Tropical Cyclones (熱帯低気圧)"
   ]
  },
  {
   "cell_type": "markdown",
   "id": "aa7c9527-dbc3-434c-9460-221ba3d477f3",
   "metadata": {
    "jp-MarkdownHeadingCollapsed": true,
    "tags": []
   },
   "source": [
    "## Planned steps of project"
   ]
  },
  {
   "cell_type": "markdown",
   "id": "1d57d304-ae60-4042-b466-1922750e4611",
   "metadata": {
    "jp-MarkdownHeadingCollapsed": true,
    "tags": []
   },
   "source": [
    "#### ETL to get processed-input dataframes:"
   ]
  },
  {
   "cell_type": "markdown",
   "id": "4b862f77-0409-4ca3-aec6-321a71b8775f",
   "metadata": {},
   "source": [
    "- tcyc_page_ids_and_names  (data dump or https://ja.wikipedia.org/wiki/Category:%E7%86%B1%E5%B8%AF%E4%BD%8E%E6%B0%97%E5%9C%A7)\n",
    "- target_dayseries (edit counts)  (data dump or https://wikimedia.org/api/rest_v1/#/)  (timezone?)\n",
    "- target_dayseries (pageviews) https://wikimedia.org/api/rest_v1/#/Pageviews_data/get_metrics_pageviews\n",
    "- jp_cyc (landfall data etc)"
   ]
  },
  {
   "cell_type": "markdown",
   "id": "8def49fe-0653-437a-8eb9-e31f07d59d74",
   "metadata": {
    "jp-MarkdownHeadingCollapsed": true,
    "tags": []
   },
   "source": [
    "#### Quant Analysis"
   ]
  },
  {
   "cell_type": "markdown",
   "id": "7ce9bc08-695d-432c-90a6-1a0ce4e0d3bc",
   "metadata": {},
   "source": [
    "- overall lags\n",
    "    - Estimate mean/median/mode lags of edits around a tcyc versus landfall\n",
    "    - T-test (?) of mean lag for each of m/m/m lag to check if it's different from zero\n",
    "- proportions of edits by time category\n",
    "    - time categories\n",
    "        - reactive edits\n",
    "        - in-season edits\n",
    "        - off-season edits\n",
    "    - cross reference time-categories with user-categories\n",
    "        - weather-specialist editors\n",
    "        - frequent editors\n",
    "        - infrequent registered editors\n",
    "        - IP editors (by location?)\n",
    "    - cross-reference time-categories with different subcategories\n",
    "        - tcyc in Japan versus storms in other particular continents\n",
    "        - tcyc-science articles versus tcyc-storm articles\n",
    "        - compare edit counts b/o damages, storm strength"
   ]
  },
  {
   "cell_type": "markdown",
   "id": "9d3282ed-731c-4e25-86cd-a2dca7f47869",
   "metadata": {
    "jp-MarkdownHeadingCollapsed": true,
    "tags": []
   },
   "source": [
    "#### Predict"
   ]
  },
  {
   "cell_type": "markdown",
   "id": "93a7777d-51dc-4860-92b2-7ef75bacefe4",
   "metadata": {},
   "source": [
    "- baseline preds by day\n",
    "    - get residuals from raw values\n",
    "    - values could be:\n",
    "        - editcounts\n",
    "        - residuals\n",
    "        - reverted-edits\n",
    "- predict residual pageviews & edits based on landfall, landfall-severity, lagged vars (including self)\n",
    "    - plot edit-spread around landfall and predictions\n",
    "- predict non-tcyc edits\n",
    "    - with similar features\n",
    "- interesting questions:\n",
    "    - Are non-tcyc edits \"diverted\" to tcyc's?\n",
    "    - Are edits during crises less/more likely to get quickly reverted?\n",
    "        - Are users whose first edit occurs during a crisis more or less likely to become long-term contributors?"
   ]
  },
  {
   "cell_type": "markdown",
   "id": "d3434122-346f-4e82-af10-70df2674196f",
   "metadata": {
    "jp-MarkdownHeadingCollapsed": true,
    "tags": []
   },
   "source": [
    "## Concepts for processed-input dataframes"
   ]
  },
  {
   "cell_type": "markdown",
   "id": "a26fd6fd-5ae6-4f79-822d-870b0598521a",
   "metadata": {},
   "source": [
    "- Table **tcyc_page_ids_and_names:**\n",
    "    - Purpose: Help generate the target_dayseries\n",
    "    - Includes: One row for each page_id / page name combo in wikiproject\n",
    "    - Primary key (2-col pk): page_id, page name\n",
    "    - Other columns: none\n",
    "    - Sorting: By page_id, then by page name"
   ]
  },
  {
   "cell_type": "markdown",
   "id": "581941de-4411-4d7f-9f47-84a9726f6b32",
   "metadata": {},
   "source": [
    "- Table **target_dayseries:**\n",
    "    - Purpose: hold raw targets, baseline predictions, and deltas for-analysis\n",
    "    - Includes: One row for every day during period\n",
    "    - Primary key: edit_day (datetime)\n",
    "    - Other columns:  \n",
    "```\n",
    "editcount_all_raw,        editcount_cat_raw,  \n",
    "editcount_all_basepreds,     editcount_cat_basepreds,  \n",
    "delta_all_actual_basepreds,  delta_cat_actual_basepreds,\n",
    "```"
   ]
  },
  {
   "cell_type": "markdown",
   "id": "480d24a2-8b35-425c-b152-d8e1ab104d40",
   "metadata": {
    "jp-MarkdownHeadingCollapsed": true,
    "tags": []
   },
   "source": [
    "## Sources"
   ]
  },
  {
   "cell_type": "markdown",
   "id": "b88b2acd-082e-4d3a-b99e-8330aa8a6655",
   "metadata": {},
   "source": [
    "- Articles in the Tropical Cyclones category: ([jawiki categories](https://ja.wikipedia.org/wiki/Category:%E7%86%B1%E5%B8%AF%E4%BD%8E%E6%B0%97%E5%9C%A7))  \n",
    "- Articles to exclude: \n",
    "    - People who died in tcyc's ([jawiki categories](https://ja.wikipedia.org/wiki/Category:%E6%B4%9E%E7%88%BA%E4%B8%B8%E4%BA%8B%E6%95%85%E3%81%AE%E7%8A%A0%E7%89%B2%E8%80%85))\n",
    "    - English-name-articles for names that got assigned to tcyc's: ([jawiki categories](https://ja.wikipedia.org/wiki/Category:%E5%8F%B0%E9%A2%A8%E3%81%AE%E8%8B%B1%E5%90%8D))\n",
    "- Pageviews:\n",
    "    - 熱帯低気圧 ([jawiki page](https://ja.wikipedia.org/wiki/%E7%86%B1%E5%B8%AF%E4%BD%8E%E6%B0%97%E5%9C%A7)) ([data source](https://pageviews.toolforge.org/?project=ja.wikipedia.org&platform=all-access&agent=user&redirects=0&range=all-time&pages=%E7%86%B1%E5%B8%AF%E4%BD%8E%E6%B0%97%E5%9C%A7))"
   ]
  }
 ],
 "metadata": {
  "kernelspec": {
   "display_name": "Python 3 (ipykernel)",
   "language": "python",
   "name": "python3"
  },
  "language_info": {
   "codemirror_mode": {
    "name": "ipython",
    "version": 3
   },
   "file_extension": ".py",
   "mimetype": "text/x-python",
   "name": "python",
   "nbconvert_exporter": "python",
   "pygments_lexer": "ipython3",
   "version": "3.9.7"
  }
 },
 "nbformat": 4,
 "nbformat_minor": 5
}
