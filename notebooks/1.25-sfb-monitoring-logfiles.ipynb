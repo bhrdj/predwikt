{
 "cells": [
  {
   "cell_type": "markdown",
   "id": "7c2afb46",
   "metadata": {},
   "source": [
    "# monitoring logfiles"
   ]
  },
  {
   "cell_type": "code",
   "execution_count": 1,
   "id": "65251ee8",
   "metadata": {},
   "outputs": [],
   "source": [
    "import os, shutil"
   ]
  },
  {
   "cell_type": "markdown",
   "id": "9b1ece41",
   "metadata": {},
   "source": [
    "note:. \n",
    "check these pages to setup remote access to mariadb:\n",
    "\n",
    "[link1](https://stackoverflow.com/questions/9766014/connect-to-mysql-on-amazon-ec2-from-a-remote-server)\n",
    "\n",
    "[link2](https://docs.streamlit.io/knowledge-base/tutorials/databases/mysql)\n"
   ]
  },
  {
   "cell_type": "code",
   "execution_count": 13,
   "id": "68a0f417",
   "metadata": {},
   "outputs": [],
   "source": [
    "logpath = '../data/logs/pageviews-log_2022-04-06_0.txt'"
   ]
  },
  {
   "cell_type": "code",
   "execution_count": 26,
   "id": "e0bd26a5",
   "metadata": {},
   "outputs": [],
   "source": [
    "def leng():\n",
    "    with open(logpath) as f:\n",
    "        num_lines = 0\n",
    "        while (f.readline()):\n",
    "            num_lines+=1\n",
    "        return num_lines"
   ]
  },
  {
   "cell_type": "code",
   "execution_count": 27,
   "id": "21e0aebb",
   "metadata": {},
   "outputs": [],
   "source": [
    "def tail(n=25):\n",
    "    length = leng()\n",
    "    start = length - n\n",
    "    lst = []\n",
    "    with open(logpath) as f:\n",
    "        ct = 0\n",
    "        while ct < start:\n",
    "            f.readline()\n",
    "            ct += 1\n",
    "        while (line:=f.readline()):\n",
    "            lst.append(line)\n",
    "        return '\\n'.join(lst)"
   ]
  },
  {
   "cell_type": "markdown",
   "id": "94578e93",
   "metadata": {},
   "source": [
    "made it to 372 last time"
   ]
  },
  {
   "cell_type": "code",
   "execution_count": 2,
   "id": "ccbb50c2",
   "metadata": {},
   "outputs": [],
   "source": [
    "def get_dir_size(path='.'):\n",
    "    total = 0\n",
    "    with os.scandir(path) as it:\n",
    "        for entry in it:\n",
    "            if entry.is_file():\n",
    "                total += entry.stat().st_size\n",
    "            elif entry.is_dir():\n",
    "                total += get_dir_size(entry.path)\n",
    "    return total"
   ]
  },
  {
   "cell_type": "code",
   "execution_count": 58,
   "id": "7d355f89",
   "metadata": {
    "scrolled": true
   },
   "outputs": [
    {
     "name": "stdout",
     "output_type": "stream",
     "text": [
      "25699 MB\n",
      "208 days of 365\n",
      "\n",
      "444 MB\n",
      "['pageviews-20160726-user.bz2']\n"
     ]
    }
   ],
   "source": [
    "dpath = '../data/temp/jawiki_pageviews/'\n",
    "n_month_dirs = len(list(os.walk(dpath)))\n",
    "all_days = sum((list(os.walk(dpath))[i][2] for i in range(2,n_month_dirs)), [])\n",
    "\n",
    "print(f\"{round(get_dir_size('../data/temp/jawiki_pageviews/')*10**-6)} MB\")\n",
    "print(f\"{len(all_days)} days of 365\")\n",
    "print()\n",
    "print(f\"{round(get_dir_size('../data/temp/raw_bz2/')*10**-6)} MB\")\n",
    "print(os.listdir('../data/temp/raw_bz2'))"
   ]
  },
  {
   "cell_type": "raw",
   "id": "beee82c2",
   "metadata": {},
   "source": [
    "d = '../data/temp/'\n",
    "for p in [d+f for f in os.listdir(d)]:\n",
    "    try:\n",
    "        os.remove(p)\n",
    "    except IsADirectoryError:\n",
    "        shutil.rmtree(p)"
   ]
  },
  {
   "cell_type": "code",
   "execution_count": 29,
   "id": "8f229478",
   "metadata": {},
   "outputs": [
    {
     "data": {
      "text/plain": [
       "1819"
      ]
     },
     "execution_count": 29,
     "metadata": {},
     "output_type": "execute_result"
    }
   ],
   "source": [
    "leng()"
   ]
  },
  {
   "cell_type": "code",
   "execution_count": 32,
   "id": "2d10ba79",
   "metadata": {},
   "outputs": [],
   "source": [
    "tailtext = tail()\n",
    "taillist = tailtext.split(sep='\\n')\n"
   ]
  },
  {
   "cell_type": "code",
   "execution_count": 33,
   "id": "acf29c81",
   "metadata": {},
   "outputs": [
    {
     "data": {
      "text/plain": [
       "[\"2022-04-05 23:01:54,666 - 1.22-sfb-get-pageviews-with-AWS - INFO - finish __main__.download_file ( url = 'https://dumps.wikimedia.org/other/pageviews/2016/2016-01/pageviews-20160102-220000.gz', dirpath = '../data/temp/' )\",\n",
       " '',\n",
       " '',\n",
       " '',\n",
       " '',\n",
       " \"2022-04-05 23:01:54,674 - 1.22-sfb-get-pageviews-with-AWS - INFO - start __main__.open_hour_file ( path = '../data/temp/pageviews-20160102-220000.gz' )\",\n",
       " '',\n",
       " \"2022-04-05 23:01:54,674 - 1.22-sfb-get-pageviews-with-AWS - INFO - finish __main__.open_hour_file ( path = '../data/temp/pageviews-20160102-220000.gz' )\",\n",
       " '',\n",
       " '',\n",
       " '',\n",
       " \"2022-04-05 23:02:43,867 - 1.22-sfb-get-pageviews-with-AWS - INFO - start __main__.parse_utc_time_from_filename ( filename = 'pageviews-20160102-220000.gz' )\",\n",
       " '',\n",
       " \"2022-04-05 23:02:43,867 - 1.22-sfb-get-pageviews-with-AWS - INFO - finish __main__.parse_utc_time_from_filename ( filename = 'pageviews-20160102-220000.gz' )\",\n",
       " '',\n",
       " '',\n",
       " '',\n",
       " '',\n",
       " '',\n",
       " '',\n",
       " '2022-04-05 23:02:43,935 - 1.22-sfb-get-pageviews-with-AWS - INFO - -----------',\n",
       " '',\n",
       " 'PROCESS TIME SO FAR:  1:17:03.242912',\n",
       " '',\n",
       " 'COUNT:                47',\n",
       " '',\n",
       " 'FRACTION DONE:        0.0008936040763556164',\n",
       " '',\n",
       " 'EXPECTED FINISH TIME: 2022-06-04 18:54:04.611953',\n",
       " '',\n",
       " '-----------',\n",
       " '',\n",
       " '',\n",
       " '',\n",
       " \"2022-04-05 23:02:43,943 - 1.22-sfb-get-pageviews-with-AWS - INFO - start __main__.download_file ( url = 'https://dumps.wikimedia.org/other/pageviews/2016/2016-01/pageviews-20160102-230000.gz', dirpath = '../data/temp/' )\",\n",
       " '',\n",
       " \"2022-04-05 23:02:55,360 - 1.22-sfb-get-pageviews-with-AWS - INFO - finish __main__.download_file ( url = 'https://dumps.wikimedia.org/other/pageviews/2016/2016-01/pageviews-20160102-230000.gz', dirpath = '../data/temp/' )\",\n",
       " '',\n",
       " '',\n",
       " '',\n",
       " '',\n",
       " \"2022-04-05 23:02:55,367 - 1.22-sfb-get-pageviews-with-AWS - INFO - start __main__.open_hour_file ( path = '../data/temp/pageviews-20160102-230000.gz' )\",\n",
       " '',\n",
       " \"2022-04-05 23:02:55,367 - 1.22-sfb-get-pageviews-with-AWS - INFO - finish __main__.open_hour_file ( path = '../data/temp/pageviews-20160102-230000.gz' )\",\n",
       " '',\n",
       " '',\n",
       " '']"
      ]
     },
     "execution_count": 33,
     "metadata": {},
     "output_type": "execute_result"
    }
   ],
   "source": [
    "list(filter(lambda x: len(x) < 500, taillist))"
   ]
  },
  {
   "cell_type": "code",
   "execution_count": null,
   "id": "19dd43ef",
   "metadata": {},
   "outputs": [],
   "source": []
  }
 ],
 "metadata": {
  "kernelspec": {
   "display_name": "Python 3 (ipykernel)",
   "language": "python",
   "name": "python3"
  },
  "language_info": {
   "codemirror_mode": {
    "name": "ipython",
    "version": 3
   },
   "file_extension": ".py",
   "mimetype": "text/x-python",
   "name": "python",
   "nbconvert_exporter": "python",
   "pygments_lexer": "ipython3",
   "version": "3.9.7"
  }
 },
 "nbformat": 4,
 "nbformat_minor": 5
}
