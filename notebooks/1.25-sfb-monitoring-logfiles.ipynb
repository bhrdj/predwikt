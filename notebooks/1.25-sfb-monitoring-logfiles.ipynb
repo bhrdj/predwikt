{
 "cells": [
  {
   "cell_type": "markdown",
   "id": "862f2594",
   "metadata": {},
   "source": [
    "# monitoring aws processes"
   ]
  },
  {
   "cell_type": "markdown",
   "id": "3dad2e7e",
   "metadata": {},
   "source": [
    "###### imports"
   ]
  },
  {
   "cell_type": "code",
   "execution_count": 2,
   "id": "c1379387",
   "metadata": {},
   "outputs": [],
   "source": [
    "import os, shutil, tarfile\n",
    "import datetime as dt"
   ]
  },
  {
   "cell_type": "markdown",
   "id": "f71aeac2",
   "metadata": {
    "heading_collapsed": true
   },
   "source": [
    "#### functions"
   ]
  },
  {
   "cell_type": "code",
   "execution_count": 3,
   "id": "42b3ba98",
   "metadata": {
    "hidden": true
   },
   "outputs": [],
   "source": [
    "def get_dir_size(path='.'):\n",
    "    total = 0\n",
    "    with os.scandir(path) as it:\n",
    "        for entry in it:\n",
    "            if entry.is_file():\n",
    "                total += entry.stat().st_size\n",
    "            elif entry.is_dir():\n",
    "                total += get_dir_size(entry.path)\n",
    "    return total"
   ]
  },
  {
   "cell_type": "markdown",
   "id": "8c6bdc12",
   "metadata": {},
   "source": [
    "#### monitoring file structures"
   ]
  },
  {
   "cell_type": "markdown",
   "id": "195e1570",
   "metadata": {
    "heading_collapsed": true
   },
   "source": [
    "###### test re-expand recompressed (filtered to jawiki) raw download"
   ]
  },
  {
   "cell_type": "code",
   "execution_count": 8,
   "id": "db5c3ffb",
   "metadata": {
    "hidden": true
   },
   "outputs": [],
   "source": [
    "tar_path = '../data/raw/jawiki/pageviews/' + '2016.tar.bz2'\n",
    "extract_to_dir = '../data/temp/test_reexpand/' # os.makedirs(extract_to_dir)"
   ]
  },
  {
   "cell_type": "code",
   "execution_count": 13,
   "id": "fed0c80c",
   "metadata": {
    "hidden": true
   },
   "outputs": [
    {
     "data": {
      "text/plain": [
       "([], 0)"
      ]
     },
     "execution_count": 13,
     "metadata": {},
     "output_type": "execute_result"
    }
   ],
   "source": [
    "(os.listdir(extract_to_dir), get_dir_size(extract_to_dir))"
   ]
  },
  {
   "cell_type": "code",
   "execution_count": null,
   "id": "80b87e1c",
   "metadata": {
    "hidden": true
   },
   "outputs": [],
   "source": [
    "start = dt.datetime.now()\n",
    "with tarfile.open(tar_path, \"r:bz2\")  as tar:\n",
    "    tar.extractall(extract_to_dir)\n",
    "end = dt.datetime.now()\n",
    "reexpand_time_jawiki_pageviews = end - start"
   ]
  },
  {
   "cell_type": "markdown",
   "id": "b9020ebd",
   "metadata": {
    "heading_collapsed": true
   },
   "source": [
    "###### recompressed (filtered to jawiki) raw downloads"
   ]
  },
  {
   "cell_type": "code",
   "execution_count": 9,
   "id": "c415d74c",
   "metadata": {
    "hidden": true
   },
   "outputs": [
    {
     "data": {
      "text/plain": [
       "(['2016.tar.bz2'], 8108995909)"
      ]
     },
     "execution_count": 9,
     "metadata": {},
     "output_type": "execute_result"
    }
   ],
   "source": [
    "peek_dir = '../data/raw/jawiki/pageviews/'\n",
    "(os.listdir(peek_dir), get_dir_size(peek_dir))"
   ]
  },
  {
   "cell_type": "markdown",
   "id": "3079fa1c",
   "metadata": {
    "heading_collapsed": true
   },
   "source": [
    "###### cleaned daily-count csvs for each page_id"
   ]
  },
  {
   "cell_type": "code",
   "execution_count": 98,
   "id": "e4bc0988",
   "metadata": {
    "hidden": true
   },
   "outputs": [
    {
     "data": {
      "text/plain": [
       "(['2016.csv', '2018.csv', '2017.csv'], 90482755)"
      ]
     },
     "execution_count": 98,
     "metadata": {},
     "output_type": "execute_result"
    }
   ],
   "source": [
    "(os.listdir('../data/processed/jawiki/diz_daily/'),\n",
    " get_dir_size('../data/processed/jawiki/diz_daily/')\n",
    ")"
   ]
  },
  {
   "cell_type": "markdown",
   "id": "d8a58ef5",
   "metadata": {},
   "source": [
    "###### raw data downloads (filtered to jawiki only)"
   ]
  },
  {
   "cell_type": "code",
   "execution_count": 15,
   "id": "f760ad13",
   "metadata": {
    "scrolled": true
   },
   "outputs": [
    {
     "name": "stdout",
     "output_type": "stream",
     "text": [
      "95059 MB\n",
      "732 days of ~1070\n",
      "\n",
      "43 MB\n",
      "['pageviews-20210102-user.bz2ocltjmch.tmp']\n"
     ]
    }
   ],
   "source": [
    "dpath = '../data/temp/jawiki_pageviews/'\n",
    "n_month_dirs = len(list(os.walk(dpath)))\n",
    "all_days = sum((list(os.walk(dpath))[i][2] for i in range(2,n_month_dirs)), [])\n",
    "\n",
    "print(f\"{round(get_dir_size('../data/temp/jawiki_pageviews/')*10**-6)} MB\")\n",
    "print(f\"{len(all_days)} days of ~{1070}\")\n",
    "print()\n",
    "print(f\"{round(get_dir_size('../data/temp/raw_bz2/')*10**-6)} MB\")\n",
    "print(os.listdir('../data/temp/raw_bz2'))"
   ]
  },
  {
   "cell_type": "code",
   "execution_count": null,
   "id": "1d70cc2c",
   "metadata": {},
   "outputs": [],
   "source": []
  },
  {
   "cell_type": "markdown",
   "id": "69951ef0",
   "metadata": {
    "heading_collapsed": true
   },
   "source": [
    "###### delete file or directory"
   ]
  },
  {
   "cell_type": "raw",
   "id": "24b5fae5",
   "metadata": {
    "hidden": true
   },
   "source": [
    "d = '../data/temp/'\n",
    "for p in [d+f for f in os.listdir(d)]:\n",
    "    try:\n",
    "        os.remove(p)\n",
    "    except IsADirectoryError:\n",
    "        shutil.rmtree(p)"
   ]
  },
  {
   "cell_type": "markdown",
   "id": "7c2afb46",
   "metadata": {
    "heading_collapsed": true
   },
   "source": [
    "#### monitoring logfiles"
   ]
  },
  {
   "cell_type": "markdown",
   "id": "9b1ece41",
   "metadata": {
    "hidden": true
   },
   "source": [
    "note:. \n",
    "check these pages to setup remote access to mariadb:\n",
    "\n",
    "[link1](https://stackoverflow.com/questions/9766014/connect-to-mysql-on-amazon-ec2-from-a-remote-server)\n",
    "\n",
    "[link2](https://docs.streamlit.io/knowledge-base/tutorials/databases/mysql)\n"
   ]
  },
  {
   "cell_type": "code",
   "execution_count": 13,
   "id": "68a0f417",
   "metadata": {
    "hidden": true
   },
   "outputs": [],
   "source": [
    "logpath = '../data/logs/pageviews-log_2022-04-06_0.txt'"
   ]
  },
  {
   "cell_type": "code",
   "execution_count": 26,
   "id": "e0bd26a5",
   "metadata": {
    "hidden": true
   },
   "outputs": [],
   "source": [
    "def leng():\n",
    "    with open(logpath) as f:\n",
    "        num_lines = 0\n",
    "        while (f.readline()):\n",
    "            num_lines+=1\n",
    "        return num_lines"
   ]
  },
  {
   "cell_type": "code",
   "execution_count": 27,
   "id": "21e0aebb",
   "metadata": {
    "hidden": true
   },
   "outputs": [],
   "source": [
    "def tail(n=25):\n",
    "    length = leng()\n",
    "    start = length - n\n",
    "    lst = []\n",
    "    with open(logpath) as f:\n",
    "        ct = 0\n",
    "        while ct < start:\n",
    "            f.readline()\n",
    "            ct += 1\n",
    "        while (line:=f.readline()):\n",
    "            lst.append(line)\n",
    "        return '\\n'.join(lst)"
   ]
  },
  {
   "cell_type": "markdown",
   "id": "94578e93",
   "metadata": {
    "hidden": true
   },
   "source": [
    "made it to 372 last time"
   ]
  },
  {
   "cell_type": "code",
   "execution_count": 32,
   "id": "2d10ba79",
   "metadata": {
    "hidden": true
   },
   "outputs": [],
   "source": [
    "tailtext = tail()\n",
    "taillist = tailtext.split(sep='\\n')\n"
   ]
  },
  {
   "cell_type": "code",
   "execution_count": 33,
   "id": "acf29c81",
   "metadata": {
    "hidden": true
   },
   "outputs": [
    {
     "data": {
      "text/plain": [
       "[\"2022-04-05 23:01:54,666 - 1.22-sfb-get-pageviews-with-AWS - INFO - finish __main__.download_file ( url = 'https://dumps.wikimedia.org/other/pageviews/2016/2016-01/pageviews-20160102-220000.gz', dirpath = '../data/temp/' )\",\n",
       " '',\n",
       " '',\n",
       " '',\n",
       " '',\n",
       " \"2022-04-05 23:01:54,674 - 1.22-sfb-get-pageviews-with-AWS - INFO - start __main__.open_hour_file ( path = '../data/temp/pageviews-20160102-220000.gz' )\",\n",
       " '',\n",
       " \"2022-04-05 23:01:54,674 - 1.22-sfb-get-pageviews-with-AWS - INFO - finish __main__.open_hour_file ( path = '../data/temp/pageviews-20160102-220000.gz' )\",\n",
       " '',\n",
       " '',\n",
       " '',\n",
       " \"2022-04-05 23:02:43,867 - 1.22-sfb-get-pageviews-with-AWS - INFO - start __main__.parse_utc_time_from_filename ( filename = 'pageviews-20160102-220000.gz' )\",\n",
       " '',\n",
       " \"2022-04-05 23:02:43,867 - 1.22-sfb-get-pageviews-with-AWS - INFO - finish __main__.parse_utc_time_from_filename ( filename = 'pageviews-20160102-220000.gz' )\",\n",
       " '',\n",
       " '',\n",
       " '',\n",
       " '',\n",
       " '',\n",
       " '',\n",
       " '2022-04-05 23:02:43,935 - 1.22-sfb-get-pageviews-with-AWS - INFO - -----------',\n",
       " '',\n",
       " 'PROCESS TIME SO FAR:  1:17:03.242912',\n",
       " '',\n",
       " 'COUNT:                47',\n",
       " '',\n",
       " 'FRACTION DONE:        0.0008936040763556164',\n",
       " '',\n",
       " 'EXPECTED FINISH TIME: 2022-06-04 18:54:04.611953',\n",
       " '',\n",
       " '-----------',\n",
       " '',\n",
       " '',\n",
       " '',\n",
       " \"2022-04-05 23:02:43,943 - 1.22-sfb-get-pageviews-with-AWS - INFO - start __main__.download_file ( url = 'https://dumps.wikimedia.org/other/pageviews/2016/2016-01/pageviews-20160102-230000.gz', dirpath = '../data/temp/' )\",\n",
       " '',\n",
       " \"2022-04-05 23:02:55,360 - 1.22-sfb-get-pageviews-with-AWS - INFO - finish __main__.download_file ( url = 'https://dumps.wikimedia.org/other/pageviews/2016/2016-01/pageviews-20160102-230000.gz', dirpath = '../data/temp/' )\",\n",
       " '',\n",
       " '',\n",
       " '',\n",
       " '',\n",
       " \"2022-04-05 23:02:55,367 - 1.22-sfb-get-pageviews-with-AWS - INFO - start __main__.open_hour_file ( path = '../data/temp/pageviews-20160102-230000.gz' )\",\n",
       " '',\n",
       " \"2022-04-05 23:02:55,367 - 1.22-sfb-get-pageviews-with-AWS - INFO - finish __main__.open_hour_file ( path = '../data/temp/pageviews-20160102-230000.gz' )\",\n",
       " '',\n",
       " '',\n",
       " '']"
      ]
     },
     "execution_count": 33,
     "metadata": {},
     "output_type": "execute_result"
    }
   ],
   "source": [
    "list(filter(lambda x: len(x) < 500, taillist))"
   ]
  },
  {
   "cell_type": "markdown",
   "id": "003198fd",
   "metadata": {},
   "source": [
    "#### ----------"
   ]
  }
 ],
 "metadata": {
  "kernelspec": {
   "display_name": "Python 3 (ipykernel)",
   "language": "python",
   "name": "python3"
  },
  "language_info": {
   "codemirror_mode": {
    "name": "ipython",
    "version": 3
   },
   "file_extension": ".py",
   "mimetype": "text/x-python",
   "name": "python",
   "nbconvert_exporter": "python",
   "pygments_lexer": "ipython3",
   "version": "3.9.7"
  }
 },
 "nbformat": 4,
 "nbformat_minor": 5
}
