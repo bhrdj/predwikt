{
 "cells": [
  {
   "cell_type": "markdown",
   "id": "edb8774d-9f81-4127-8ebc-7408180ebd4b",
   "metadata": {
    "tags": []
   },
   "source": [
    "# find-all-category-descendents"
   ]
  },
  {
   "cell_type": "markdown",
   "id": "cba6cde4-496a-4d61-b0ed-dc8041209b2f",
   "metadata": {
    "tags": []
   },
   "source": [
    "## intro"
   ]
  },
  {
   "cell_type": "markdown",
   "id": "a0ea993b-b618-412a-a146-998dcf7d98f2",
   "metadata": {
    "jp-MarkdownHeadingCollapsed": true,
    "tags": []
   },
   "source": [
    "#### plan"
   ]
  },
  {
   "cell_type": "markdown",
   "id": "078e13ae-9085-4f2e-8e3c-2254d2b64cd1",
   "metadata": {},
   "source": [
    "Make a function to get all the page_id's in a category (ideally hierarchical self join)"
   ]
  },
  {
   "cell_type": "markdown",
   "id": "eccbbdf0-00de-4687-af54-e03ee1a3d5cc",
   "metadata": {
    "tags": []
   },
   "source": [
    "#### imports"
   ]
  },
  {
   "cell_type": "code",
   "execution_count": 316,
   "id": "49932460-30ac-4f46-9375-278ac678fcf8",
   "metadata": {},
   "outputs": [],
   "source": [
    "import pandas as pd, numpy as np, os, re, pyperclip, pickle\n",
    "import mysql.connector as mysql, sqlalchemy\n",
    "from datetime import datetime as dt"
   ]
  },
  {
   "cell_type": "markdown",
   "id": "e1a7b496-7fac-4ff2-838f-39f49125cb55",
   "metadata": {
    "jp-MarkdownHeadingCollapsed": true,
    "tags": []
   },
   "source": [
    "#### connect to mariadb"
   ]
  },
  {
   "cell_type": "markdown",
   "id": "74a6007e-eeca-4283-ab81-878ef287d90f",
   "metadata": {
    "jp-MarkdownHeadingCollapsed": true,
    "tags": []
   },
   "source": [
    "##### pass"
   ]
  },
  {
   "cell_type": "code",
   "execution_count": 4,
   "id": "57b3964f-11d5-401d-9be2-aed2d4c9c758",
   "metadata": {},
   "outputs": [],
   "source": [
    "mysql_user = 'bhrdwj'\n",
    "# mysql_pass = input(f'Enter the MySQL password for user {mysql_user}: ')"
   ]
  },
  {
   "cell_type": "markdown",
   "id": "b9e96497-7d01-4f66-8cb5-722e4808d886",
   "metadata": {
    "jp-MarkdownHeadingCollapsed": true,
    "tags": []
   },
   "source": [
    "##### connect"
   ]
  },
  {
   "cell_type": "code",
   "execution_count": 5,
   "id": "dd409766-8b77-45fb-963c-7c268b41c8dc",
   "metadata": {},
   "outputs": [],
   "source": [
    "def connect_mariadb():\n",
    "    host='localhost'; user=mysql_user; passwd=mysql_pass; dbname='jawiki';\n",
    "    cxn = mysql.connect(host=host,user=user,passwd=passwd, database=dbname)\n",
    "    cur = cxn.cursor()\n",
    "\n",
    "    connection_str = 'mysql+mysqlconnector://'+user+':'+passwd+'@'+host+'/'+dbname  # removed this after host +':'+dbport\n",
    "    try:\n",
    "        engine = sqlalchemy.create_engine(connection_str)\n",
    "        conn = engine.connect()\n",
    "    except Exception as e:\n",
    "        print('Database connection error - check creds')\n",
    "        print(e)\n",
    "    return cxn, cur, engine, conn\n",
    "        \n",
    "cxn, cur, engine, conn = connect_mariadb()"
   ]
  },
  {
   "cell_type": "markdown",
   "id": "8ded3e3b-181b-4867-a59a-8e45b1699b94",
   "metadata": {
    "jp-MarkdownHeadingCollapsed": true,
    "tags": []
   },
   "source": [
    "##### test"
   ]
  },
  {
   "cell_type": "code",
   "execution_count": 7,
   "id": "7507bce3-1611-4c2c-b37d-424f1fa96c79",
   "metadata": {},
   "outputs": [
    {
     "data": {
      "text/plain": [
       "['category',\n",
       " 'categorylinks',\n",
       " 'h2013',\n",
       " 'h2014',\n",
       " 'h2015',\n",
       " 'h2016',\n",
       " 'h2017',\n",
       " 'h2018',\n",
       " 'h2019',\n",
       " 'h2020',\n",
       " 'h2021',\n",
       " 'history',\n",
       " 'page',\n",
       " 't2013',\n",
       " 't2014',\n",
       " 't2015',\n",
       " 't2016',\n",
       " 't2017',\n",
       " 't2018',\n",
       " 't2019',\n",
       " 't2020',\n",
       " 't2021',\n",
       " 'warn_rows']"
      ]
     },
     "execution_count": 7,
     "metadata": {},
     "output_type": "execute_result"
    }
   ],
   "source": [
    "metadata = sqlalchemy.MetaData(conn)\n",
    "metadata.reflect()\n",
    "current_tables = list(metadata.tables.keys())\n",
    "current_tables"
   ]
  },
  {
   "cell_type": "markdown",
   "id": "0d45f16a-de9c-46b6-bfad-1767e6477d31",
   "metadata": {
    "jp-MarkdownHeadingCollapsed": true,
    "tags": []
   },
   "source": [
    "#### some paths"
   ]
  },
  {
   "cell_type": "code",
   "execution_count": 8,
   "id": "342b408e-20f8-4e59-b45b-92c77404d6da",
   "metadata": {},
   "outputs": [],
   "source": [
    "rawdumps_path = '../data/raw/jawiki/dumps_unzipped/'\n",
    "processed_path = '../data/processed/jawiki/'"
   ]
  },
  {
   "cell_type": "markdown",
   "id": "7c95b2f5-fffd-4ad3-9cfe-d120564109aa",
   "metadata": {
    "jp-MarkdownHeadingCollapsed": true,
    "tags": []
   },
   "source": [
    "#### function ```jpr_sql```"
   ]
  },
  {
   "cell_type": "code",
   "execution_count": 9,
   "id": "a5dd253e-52b9-4683-9374-091afa20ba39",
   "metadata": {},
   "outputs": [],
   "source": [
    "def jpr_sql(query, conn=conn):\n",
    "    try: \n",
    "        a = conn.execute(query)\n",
    "    except Exception as e:\n",
    "        print('Printing execute error:')\n",
    "        print(e)\n",
    "        return None\n",
    "    \n",
    "    try:\n",
    "        return a.fetchall()\n",
    "    except Exception as e:\n",
    "        print('Printing results error:')\n",
    "        print(e)\n",
    "        print('Printing result')\n",
    "        return None"
   ]
  },
  {
   "cell_type": "markdown",
   "id": "86b17343-1d2f-484e-984a-9e19d3a05cb7",
   "metadata": {
    "tags": []
   },
   "source": [
    "#### function ```byte_read_sql```"
   ]
  },
  {
   "cell_type": "code",
   "execution_count": 226,
   "id": "d2038ae2-cc03-4c0e-98d5-e8741e7aa2ec",
   "metadata": {},
   "outputs": [],
   "source": [
    "def decode_if_it_can(value):\n",
    "    \"\"\"\n",
    "    Tries to decode a possible bytes object with utf-8. \n",
    "    If fails, silently returns input.\n",
    "    INPUTS: object\n",
    "    OUTPUTS: input or decoded string\n",
    "    \"\"\"\n",
    "    try:\n",
    "        value = value.decode('utf-8')\n",
    "    except (UnicodeDecodeError, AttributeError):\n",
    "        pass\n",
    "    finally:\n",
    "        return value\n",
    "\n",
    "def byte_read_sql(query, conn):\n",
    "    \"\"\"\n",
    "    Simple wrapper for pd.read_sql() for mediawiki dumps including byte-like data.\n",
    "    Inputs: \n",
    "            SQL query string\n",
    "            SQLAlchemy connection\n",
    "    Outputs:\n",
    "            Pandas dataframe with some values modified, that is:\n",
    "                values that can be decoded with .decode('utf-8') are thus decoded.\n",
    "    \"\"\"\n",
    "    df = pd.read_sql(query, conn)\n",
    "    return (df.applymap(lambda x: decode_if_it_can(x)))"
   ]
  },
  {
   "cell_type": "markdown",
   "id": "f436dc93-1c38-41aa-8310-57d3861935b0",
   "metadata": {
    "tags": []
   },
   "source": [
    "## setup recursive self join to get the subcategories"
   ]
  },
  {
   "cell_type": "markdown",
   "id": "2149520c-1802-4f28-9340-8e06df21ec2d",
   "metadata": {
    "tags": []
   },
   "source": [
    "### EDA ```categorylinks``` and ```page```"
   ]
  },
  {
   "cell_type": "markdown",
   "id": "6538c2b5-f1a2-4ac8-b9a9-232c7709230d",
   "metadata": {
    "tags": []
   },
   "source": [
    "##### head"
   ]
  },
  {
   "cell_type": "code",
   "execution_count": 67,
   "id": "88aa2f97-8591-445a-9c9c-58fc1f71983f",
   "metadata": {},
   "outputs": [],
   "source": [
    "head = byte_read_sql('select * from categorylinks limit 10;',conn)"
   ]
  },
  {
   "cell_type": "code",
   "execution_count": 74,
   "id": "c3738a8c-7eca-4aa9-8308-f13d5c0bdda6",
   "metadata": {},
   "outputs": [
    {
     "data": {
      "text/plain": [
       "cl_from                                5\n",
       "cl_to                            ラテン語の語句\n",
       "cl_sortkey                あんはさんと\\nアンパサンド\n",
       "cl_timestamp         2018-05-13 07:37:48\n",
       "cl_sortkey_prefix                 あんはさんと\n",
       "cl_collation                   uppercase\n",
       "cl_type                             page\n",
       "Name: 0, dtype: object"
      ]
     },
     "execution_count": 74,
     "metadata": {},
     "output_type": "execute_result"
    }
   ],
   "source": [
    "head.loc[0]"
   ]
  },
  {
   "cell_type": "markdown",
   "id": "1c5d5e47-6f01-4f98-bbed-3a2d9da5d539",
   "metadata": {
    "jp-MarkdownHeadingCollapsed": true,
    "tags": []
   },
   "source": [
    "##### describe categorylinks"
   ]
  },
  {
   "cell_type": "code",
   "execution_count": 69,
   "id": "9e8d9505-96c7-4589-a783-ad520e12e96a",
   "metadata": {},
   "outputs": [],
   "source": [
    "categorylinks_schema = byte_read_sql('desc categorylinks', conn)"
   ]
  },
  {
   "cell_type": "markdown",
   "id": "a08fab3c-680e-45e6-928c-8b2b4a0bd67a",
   "metadata": {},
   "source": [
    "- **cl_from**: this page ```page.page_id```\n",
    "- **cl_to**: parent category ```page_title```\n",
    "- **cl_sortkey**: title by which the page should be sorted in a category list \n",
    "    - (not valid UTF-8 whenever the database truncates the sortkey in the middle of a multi-byte sequence.)\n",
    "- cl_timestamp: time at which that link was last updated in the table.\n",
    "- cl_sortkey_prefix: human readable version of cl_sortkey\n",
    "- cl_collation: What collation is in use. (not content)\n",
    "- **cl_type**: type of page (file, subcat (subcategory) or page (normal page))\n"
   ]
  },
  {
   "cell_type": "code",
   "execution_count": 70,
   "id": "dcc5c859-c012-4ee9-88f1-f749324b3691",
   "metadata": {},
   "outputs": [
    {
     "data": {
      "text/html": [
       "<div>\n",
       "<style scoped>\n",
       "    .dataframe tbody tr th:only-of-type {\n",
       "        vertical-align: middle;\n",
       "    }\n",
       "\n",
       "    .dataframe tbody tr th {\n",
       "        vertical-align: top;\n",
       "    }\n",
       "\n",
       "    .dataframe thead th {\n",
       "        text-align: right;\n",
       "    }\n",
       "</style>\n",
       "<table border=\"1\" class=\"dataframe\">\n",
       "  <thead>\n",
       "    <tr style=\"text-align: right;\">\n",
       "      <th></th>\n",
       "      <th>Field</th>\n",
       "      <th>Type</th>\n",
       "      <th>Null</th>\n",
       "      <th>Key</th>\n",
       "      <th>Default</th>\n",
       "      <th>Extra</th>\n",
       "    </tr>\n",
       "  </thead>\n",
       "  <tbody>\n",
       "    <tr>\n",
       "      <th>0</th>\n",
       "      <td>cl_from</td>\n",
       "      <td>int(8) unsigned</td>\n",
       "      <td>NO</td>\n",
       "      <td>PRI</td>\n",
       "      <td>0</td>\n",
       "      <td></td>\n",
       "    </tr>\n",
       "    <tr>\n",
       "      <th>1</th>\n",
       "      <td>cl_to</td>\n",
       "      <td>varbinary(255)</td>\n",
       "      <td>NO</td>\n",
       "      <td>PRI</td>\n",
       "      <td></td>\n",
       "      <td></td>\n",
       "    </tr>\n",
       "    <tr>\n",
       "      <th>2</th>\n",
       "      <td>cl_sortkey</td>\n",
       "      <td>varbinary(230)</td>\n",
       "      <td>NO</td>\n",
       "      <td></td>\n",
       "      <td></td>\n",
       "      <td></td>\n",
       "    </tr>\n",
       "    <tr>\n",
       "      <th>3</th>\n",
       "      <td>cl_timestamp</td>\n",
       "      <td>timestamp</td>\n",
       "      <td>NO</td>\n",
       "      <td></td>\n",
       "      <td>current_timestamp()</td>\n",
       "      <td>on update current_timestamp()</td>\n",
       "    </tr>\n",
       "    <tr>\n",
       "      <th>4</th>\n",
       "      <td>cl_sortkey_prefix</td>\n",
       "      <td>varbinary(255)</td>\n",
       "      <td>NO</td>\n",
       "      <td></td>\n",
       "      <td></td>\n",
       "      <td></td>\n",
       "    </tr>\n",
       "    <tr>\n",
       "      <th>5</th>\n",
       "      <td>cl_collation</td>\n",
       "      <td>varbinary(32)</td>\n",
       "      <td>NO</td>\n",
       "      <td>MUL</td>\n",
       "      <td></td>\n",
       "      <td></td>\n",
       "    </tr>\n",
       "    <tr>\n",
       "      <th>6</th>\n",
       "      <td>cl_type</td>\n",
       "      <td>enum('page','subcat','file')</td>\n",
       "      <td>NO</td>\n",
       "      <td></td>\n",
       "      <td>page</td>\n",
       "      <td></td>\n",
       "    </tr>\n",
       "  </tbody>\n",
       "</table>\n",
       "</div>"
      ],
      "text/plain": [
       "               Field                          Type Null  Key  \\\n",
       "0            cl_from               int(8) unsigned   NO  PRI   \n",
       "1              cl_to                varbinary(255)   NO  PRI   \n",
       "2         cl_sortkey                varbinary(230)   NO        \n",
       "3       cl_timestamp                     timestamp   NO        \n",
       "4  cl_sortkey_prefix                varbinary(255)   NO        \n",
       "5       cl_collation                 varbinary(32)   NO  MUL   \n",
       "6            cl_type  enum('page','subcat','file')   NO        \n",
       "\n",
       "               Default                          Extra  \n",
       "0                    0                                 \n",
       "1                                                      \n",
       "2                                                      \n",
       "3  current_timestamp()  on update current_timestamp()  \n",
       "4                                                      \n",
       "5                                                      \n",
       "6                 page                                 "
      ]
     },
     "execution_count": 70,
     "metadata": {},
     "output_type": "execute_result"
    }
   ],
   "source": [
    "categorylinks_schema"
   ]
  },
  {
   "cell_type": "markdown",
   "id": "b9875ead-7c26-4e42-aaae-02c587f7855d",
   "metadata": {
    "jp-MarkdownHeadingCollapsed": true,
    "tags": []
   },
   "source": [
    "##### page table schema"
   ]
  },
  {
   "cell_type": "code",
   "execution_count": 78,
   "id": "77b9e43e-1b03-4d78-a7d2-dca6535bb3fe",
   "metadata": {},
   "outputs": [
    {
     "data": {
      "text/html": [
       "<div>\n",
       "<style scoped>\n",
       "    .dataframe tbody tr th:only-of-type {\n",
       "        vertical-align: middle;\n",
       "    }\n",
       "\n",
       "    .dataframe tbody tr th {\n",
       "        vertical-align: top;\n",
       "    }\n",
       "\n",
       "    .dataframe thead th {\n",
       "        text-align: right;\n",
       "    }\n",
       "</style>\n",
       "<table border=\"1\" class=\"dataframe\">\n",
       "  <thead>\n",
       "    <tr style=\"text-align: right;\">\n",
       "      <th></th>\n",
       "      <th>Field</th>\n",
       "      <th>Type</th>\n",
       "      <th>Null</th>\n",
       "      <th>Key</th>\n",
       "      <th>Default</th>\n",
       "      <th>Extra</th>\n",
       "    </tr>\n",
       "  </thead>\n",
       "  <tbody>\n",
       "    <tr>\n",
       "      <th>0</th>\n",
       "      <td>page_id</td>\n",
       "      <td>int(8) unsigned</td>\n",
       "      <td>NO</td>\n",
       "      <td>PRI</td>\n",
       "      <td>None</td>\n",
       "      <td>auto_increment</td>\n",
       "    </tr>\n",
       "    <tr>\n",
       "      <th>1</th>\n",
       "      <td>page_namespace</td>\n",
       "      <td>int(11)</td>\n",
       "      <td>NO</td>\n",
       "      <td>MUL</td>\n",
       "      <td>0</td>\n",
       "      <td></td>\n",
       "    </tr>\n",
       "    <tr>\n",
       "      <th>2</th>\n",
       "      <td>page_title</td>\n",
       "      <td>varbinary(255)</td>\n",
       "      <td>NO</td>\n",
       "      <td></td>\n",
       "      <td></td>\n",
       "      <td></td>\n",
       "    </tr>\n",
       "    <tr>\n",
       "      <th>3</th>\n",
       "      <td>page_restrictions</td>\n",
       "      <td>varbinary(255)</td>\n",
       "      <td>YES</td>\n",
       "      <td></td>\n",
       "      <td></td>\n",
       "      <td></td>\n",
       "    </tr>\n",
       "    <tr>\n",
       "      <th>4</th>\n",
       "      <td>page_is_redirect</td>\n",
       "      <td>tinyint(1) unsigned</td>\n",
       "      <td>NO</td>\n",
       "      <td>MUL</td>\n",
       "      <td>0</td>\n",
       "      <td></td>\n",
       "    </tr>\n",
       "    <tr>\n",
       "      <th>5</th>\n",
       "      <td>page_is_new</td>\n",
       "      <td>tinyint(1) unsigned</td>\n",
       "      <td>NO</td>\n",
       "      <td></td>\n",
       "      <td>0</td>\n",
       "      <td></td>\n",
       "    </tr>\n",
       "    <tr>\n",
       "      <th>6</th>\n",
       "      <td>page_random</td>\n",
       "      <td>double unsigned</td>\n",
       "      <td>NO</td>\n",
       "      <td>MUL</td>\n",
       "      <td>0</td>\n",
       "      <td></td>\n",
       "    </tr>\n",
       "    <tr>\n",
       "      <th>7</th>\n",
       "      <td>page_touched</td>\n",
       "      <td>varbinary(14)</td>\n",
       "      <td>NO</td>\n",
       "      <td></td>\n",
       "      <td>None</td>\n",
       "      <td></td>\n",
       "    </tr>\n",
       "    <tr>\n",
       "      <th>8</th>\n",
       "      <td>page_links_updated</td>\n",
       "      <td>varbinary(14)</td>\n",
       "      <td>YES</td>\n",
       "      <td></td>\n",
       "      <td>None</td>\n",
       "      <td></td>\n",
       "    </tr>\n",
       "    <tr>\n",
       "      <th>9</th>\n",
       "      <td>page_latest</td>\n",
       "      <td>int(8) unsigned</td>\n",
       "      <td>NO</td>\n",
       "      <td></td>\n",
       "      <td>0</td>\n",
       "      <td></td>\n",
       "    </tr>\n",
       "    <tr>\n",
       "      <th>10</th>\n",
       "      <td>page_len</td>\n",
       "      <td>int(8) unsigned</td>\n",
       "      <td>NO</td>\n",
       "      <td>MUL</td>\n",
       "      <td>0</td>\n",
       "      <td></td>\n",
       "    </tr>\n",
       "    <tr>\n",
       "      <th>11</th>\n",
       "      <td>page_content_model</td>\n",
       "      <td>varbinary(32)</td>\n",
       "      <td>YES</td>\n",
       "      <td></td>\n",
       "      <td>None</td>\n",
       "      <td></td>\n",
       "    </tr>\n",
       "    <tr>\n",
       "      <th>12</th>\n",
       "      <td>page_lang</td>\n",
       "      <td>varbinary(35)</td>\n",
       "      <td>YES</td>\n",
       "      <td></td>\n",
       "      <td>None</td>\n",
       "      <td></td>\n",
       "    </tr>\n",
       "  </tbody>\n",
       "</table>\n",
       "</div>"
      ],
      "text/plain": [
       "                 Field                 Type Null  Key Default           Extra\n",
       "0              page_id      int(8) unsigned   NO  PRI    None  auto_increment\n",
       "1       page_namespace              int(11)   NO  MUL       0                \n",
       "2           page_title       varbinary(255)   NO                             \n",
       "3    page_restrictions       varbinary(255)  YES                             \n",
       "4     page_is_redirect  tinyint(1) unsigned   NO  MUL       0                \n",
       "5          page_is_new  tinyint(1) unsigned   NO            0                \n",
       "6          page_random      double unsigned   NO  MUL       0                \n",
       "7         page_touched        varbinary(14)   NO         None                \n",
       "8   page_links_updated        varbinary(14)  YES         None                \n",
       "9          page_latest      int(8) unsigned   NO            0                \n",
       "10            page_len      int(8) unsigned   NO  MUL       0                \n",
       "11  page_content_model        varbinary(32)  YES         None                \n",
       "12           page_lang        varbinary(35)  YES         None                "
      ]
     },
     "execution_count": 78,
     "metadata": {},
     "output_type": "execute_result"
    }
   ],
   "source": [
    "byte_read_sql(\"desc page;\", conn)"
   ]
  },
  {
   "cell_type": "markdown",
   "id": "5f48068a-89ee-46e4-b45e-76ab3c39bdd3",
   "metadata": {},
   "source": [
    "- Table ```page``` schema:  \n",
    "    - **page_id**: \n",
    "    - **page_namespace**\n",
    "    - **page_title**"
   ]
  },
  {
   "cell_type": "markdown",
   "id": "ebea24a7-b30a-414f-aed7-fe567396b3fb",
   "metadata": {
    "jp-MarkdownHeadingCollapsed": true,
    "tags": []
   },
   "source": [
    "##### page namespaces codebook"
   ]
  },
  {
   "cell_type": "raw",
   "id": "7d40fb8d-a486-4705-a870-774e4bdc3472",
   "metadata": {},
   "source": [
    "Index      Name          Purpose                         Name                 Index\n",
    "\n",
    "0          (Main)        real content articles           Talk                 1\n",
    "2          User          user pages                      User talk            3\n",
    "4          Project       information about the wiki      Project tal          5\n",
    "6          File          media description pages         File talk            7\n",
    "8          MediaWiki     site interface customization    MediaWiki t          9\n",
    "10         Template      template pages                  Template ta         11\n",
    "12         Help          help pages                      Help talk           13\n",
    "14         Category      category description pages      Category ta         15\n",
    "                                                                    \n",
    "-1         Special                                       Special tal\n",
    "-2         Media         direct links to media files     Media talk "
   ]
  },
  {
   "cell_type": "code",
   "execution_count": null,
   "id": "ce03fd36-0095-4bf3-8b64-036f9f1dbf9b",
   "metadata": {},
   "outputs": [],
   "source": []
  },
  {
   "cell_type": "markdown",
   "id": "90321b89-011d-4997-9d99-9a3cf8ccb536",
   "metadata": {
    "jp-MarkdownHeadingCollapsed": true,
    "tags": []
   },
   "source": [
    "### prep for self-join"
   ]
  },
  {
   "cell_type": "markdown",
   "id": "38af4c58-d296-4361-a3c1-3b22e01f27a5",
   "metadata": {
    "jp-MarkdownHeadingCollapsed": true,
    "tags": []
   },
   "source": [
    "#### create table cats_to_selfjoin"
   ]
  },
  {
   "cell_type": "markdown",
   "id": "d5283441-b2aa-4548-ad05-f2fbe2ba1e13",
   "metadata": {},
   "source": [
    "- join categorylinks with page to denormalize and include ```parent_id```\n",
    "- also, filter to include only content pages and categories"
   ]
  },
  {
   "cell_type": "raw",
   "id": "3915d7e6-92b9-451c-9df9-38097182cda7",
   "metadata": {},
   "source": [
    "jpr_sql(\"\"\"\n",
    "create table cats_to_selfjoin as\n",
    "\n",
    "select \n",
    "    cl.cl_from id,                    -- page_id of current page from categorylinks\n",
    "    cl.cl_sortkey name,               -- page_title of current page from categorylinks\n",
    "    cl.cl_type type,                  -- type of current page from categorylinks\n",
    "    p.page_namespace namespace,       -- namespace of current page (from join to page p)\n",
    "    pc.page_id parent_cat_id,         -- page_id of the parent category of current page id'd in this row of categorylinks\n",
    "    pc.page_title parent_cat_name     -- page_title of the parent category of current page id'd in this row of categorylinks\n",
    "    \n",
    "from categorylinks cl\n",
    "inner join page p\n",
    "    on p.page_id = cl.cl_from\n",
    "inner join page pc                    -- get parent categories\n",
    "    on pc.page_namespace = 14         -- ensures that it's a category bc have to match on title\n",
    "    and pc.page_title = cl.cl_to\n",
    "\n",
    "where\n",
    "    p.page_namespace in (0, 14)\n",
    ";\n",
    "\"\"\"\n",
    ",conn)"
   ]
  },
  {
   "cell_type": "markdown",
   "id": "8dda2991-8660-4cbf-85c0-4b7e95ca1ab7",
   "metadata": {
    "jp-MarkdownHeadingCollapsed": true,
    "tags": []
   },
   "source": [
    "#### alter table cats_to_selfjoin add primary key"
   ]
  },
  {
   "cell_type": "raw",
   "id": "721da0c5-a7ef-408c-9a92-e70065e02a5a",
   "metadata": {},
   "source": [
    "jpr_sql(\"\"\"\n",
    "alter table cats_to_selfjoin add primary key(id, parent_cat_id);\n",
    "\"\"\")"
   ]
  },
  {
   "cell_type": "markdown",
   "id": "86a615f7-054d-4e39-8101-0bcaf3d22034",
   "metadata": {
    "jp-MarkdownHeadingCollapsed": true,
    "tags": []
   },
   "source": [
    "### get all descendents of a category"
   ]
  },
  {
   "cell_type": "markdown",
   "id": "87c47262-02ce-4a65-af7a-83f1c9e6850d",
   "metadata": {
    "jp-MarkdownHeadingCollapsed": true,
    "tags": []
   },
   "source": [
    "#### peek at ```cats_to_selfjoin```"
   ]
  },
  {
   "cell_type": "markdown",
   "id": "920d5e13-9474-44ae-925e-9fbc77cc67a7",
   "metadata": {
    "jp-MarkdownHeadingCollapsed": true,
    "tags": []
   },
   "source": [
    "##### describe"
   ]
  },
  {
   "cell_type": "code",
   "execution_count": 168,
   "id": "df63e370-34da-4489-b09a-044756518198",
   "metadata": {},
   "outputs": [
    {
     "data": {
      "text/html": [
       "<div>\n",
       "<style scoped>\n",
       "    .dataframe tbody tr th:only-of-type {\n",
       "        vertical-align: middle;\n",
       "    }\n",
       "\n",
       "    .dataframe tbody tr th {\n",
       "        vertical-align: top;\n",
       "    }\n",
       "\n",
       "    .dataframe thead th {\n",
       "        text-align: right;\n",
       "    }\n",
       "</style>\n",
       "<table border=\"1\" class=\"dataframe\">\n",
       "  <thead>\n",
       "    <tr style=\"text-align: right;\">\n",
       "      <th></th>\n",
       "      <th>Field</th>\n",
       "      <th>Type</th>\n",
       "      <th>Null</th>\n",
       "      <th>Key</th>\n",
       "      <th>Default</th>\n",
       "      <th>Extra</th>\n",
       "    </tr>\n",
       "  </thead>\n",
       "  <tbody>\n",
       "    <tr>\n",
       "      <th>0</th>\n",
       "      <td>id</td>\n",
       "      <td>int(8) unsigned</td>\n",
       "      <td>NO</td>\n",
       "      <td></td>\n",
       "      <td>0</td>\n",
       "      <td></td>\n",
       "    </tr>\n",
       "    <tr>\n",
       "      <th>1</th>\n",
       "      <td>name</td>\n",
       "      <td>varbinary(230)</td>\n",
       "      <td>NO</td>\n",
       "      <td></td>\n",
       "      <td></td>\n",
       "      <td></td>\n",
       "    </tr>\n",
       "    <tr>\n",
       "      <th>2</th>\n",
       "      <td>type</td>\n",
       "      <td>enum('page','subcat','file')</td>\n",
       "      <td>NO</td>\n",
       "      <td></td>\n",
       "      <td>page</td>\n",
       "      <td></td>\n",
       "    </tr>\n",
       "    <tr>\n",
       "      <th>3</th>\n",
       "      <td>namespace</td>\n",
       "      <td>int(11)</td>\n",
       "      <td>NO</td>\n",
       "      <td></td>\n",
       "      <td>0</td>\n",
       "      <td></td>\n",
       "    </tr>\n",
       "    <tr>\n",
       "      <th>4</th>\n",
       "      <td>parent_cat_id</td>\n",
       "      <td>int(8) unsigned</td>\n",
       "      <td>NO</td>\n",
       "      <td></td>\n",
       "      <td>0</td>\n",
       "      <td></td>\n",
       "    </tr>\n",
       "    <tr>\n",
       "      <th>5</th>\n",
       "      <td>parent_cat_name</td>\n",
       "      <td>varbinary(255)</td>\n",
       "      <td>NO</td>\n",
       "      <td></td>\n",
       "      <td></td>\n",
       "      <td></td>\n",
       "    </tr>\n",
       "  </tbody>\n",
       "</table>\n",
       "</div>"
      ],
      "text/plain": [
       "             Field                          Type Null Key Default Extra\n",
       "0               id               int(8) unsigned   NO           0      \n",
       "1             name                varbinary(230)   NO                  \n",
       "2             type  enum('page','subcat','file')   NO        page      \n",
       "3        namespace                       int(11)   NO           0      \n",
       "4    parent_cat_id               int(8) unsigned   NO           0      \n",
       "5  parent_cat_name                varbinary(255)   NO                  "
      ]
     },
     "execution_count": 168,
     "metadata": {},
     "output_type": "execute_result"
    }
   ],
   "source": [
    "pd.read_sql('desc cats_to_selfjoin;',conn)"
   ]
  },
  {
   "cell_type": "markdown",
   "id": "60f2969a-f434-406b-b83a-84b12b0fb695",
   "metadata": {
    "jp-MarkdownHeadingCollapsed": true,
    "tags": []
   },
   "source": [
    "##### get immediate children"
   ]
  },
  {
   "cell_type": "code",
   "execution_count": 193,
   "id": "37fdc60f-b08a-4b8e-99f4-81efcad1ef1c",
   "metadata": {},
   "outputs": [
    {
     "data": {
      "text/html": [
       "<div>\n",
       "<style scoped>\n",
       "    .dataframe tbody tr th:only-of-type {\n",
       "        vertical-align: middle;\n",
       "    }\n",
       "\n",
       "    .dataframe tbody tr th {\n",
       "        vertical-align: top;\n",
       "    }\n",
       "\n",
       "    .dataframe thead th {\n",
       "        text-align: right;\n",
       "    }\n",
       "</style>\n",
       "<table border=\"1\" class=\"dataframe\">\n",
       "  <thead>\n",
       "    <tr style=\"text-align: right;\">\n",
       "      <th></th>\n",
       "      <th>id</th>\n",
       "      <th>name</th>\n",
       "      <th>type</th>\n",
       "      <th>namespace</th>\n",
       "      <th>parent_cat_id</th>\n",
       "      <th>parent_cat_name</th>\n",
       "    </tr>\n",
       "  </thead>\n",
       "  <tbody>\n",
       "    <tr>\n",
       "      <th>0</th>\n",
       "      <td>10245</td>\n",
       "      <td>こりおりのちから\\nコリオリの力</td>\n",
       "      <td>page</td>\n",
       "      <td>0</td>\n",
       "      <td>626482</td>\n",
       "      <td>熱帯低気圧</td>\n",
       "    </tr>\n",
       "    <tr>\n",
       "      <th>1</th>\n",
       "      <td>15090</td>\n",
       "      <td>たいふう\\n台風</td>\n",
       "      <td>page</td>\n",
       "      <td>0</td>\n",
       "      <td>626482</td>\n",
       "      <td>熱帯低気圧</td>\n",
       "    </tr>\n",
       "    <tr>\n",
       "      <th>2</th>\n",
       "      <td>26863</td>\n",
       "      <td>さいくろん\\nサイクロン</td>\n",
       "      <td>page</td>\n",
       "      <td>0</td>\n",
       "      <td>626482</td>\n",
       "      <td>熱帯低気圧</td>\n",
       "    </tr>\n",
       "    <tr>\n",
       "      <th>3</th>\n",
       "      <td>31168</td>\n",
       "      <td>*\\n熱帯低気圧</td>\n",
       "      <td>page</td>\n",
       "      <td>0</td>\n",
       "      <td>626482</td>\n",
       "      <td>熱帯低気圧</td>\n",
       "    </tr>\n",
       "    <tr>\n",
       "      <th>4</th>\n",
       "      <td>36650</td>\n",
       "      <td>せきらんうん\\n積乱雲</td>\n",
       "      <td>page</td>\n",
       "      <td>0</td>\n",
       "      <td>626482</td>\n",
       "      <td>熱帯低気圧</td>\n",
       "    </tr>\n",
       "    <tr>\n",
       "      <th>5</th>\n",
       "      <td>94451</td>\n",
       "      <td>はりけん\\nハリケーン</td>\n",
       "      <td>page</td>\n",
       "      <td>0</td>\n",
       "      <td>626482</td>\n",
       "      <td>熱帯低気圧</td>\n",
       "    </tr>\n",
       "    <tr>\n",
       "      <th>6</th>\n",
       "      <td>147548</td>\n",
       "      <td>ういりういり\\nウィリー・ウィリー</td>\n",
       "      <td>page</td>\n",
       "      <td>0</td>\n",
       "      <td>626482</td>\n",
       "      <td>熱帯低気圧</td>\n",
       "    </tr>\n",
       "    <tr>\n",
       "      <th>7</th>\n",
       "      <td>159919</td>\n",
       "      <td>たいふう\\n台風</td>\n",
       "      <td>subcat</td>\n",
       "      <td>14</td>\n",
       "      <td>626482</td>\n",
       "      <td>熱帯低気圧</td>\n",
       "    </tr>\n",
       "    <tr>\n",
       "      <th>8</th>\n",
       "      <td>527125</td>\n",
       "      <td>ふしわらのこうか\\n藤原の効果</td>\n",
       "      <td>page</td>\n",
       "      <td>0</td>\n",
       "      <td>626482</td>\n",
       "      <td>熱帯低気圧</td>\n",
       "    </tr>\n",
       "    <tr>\n",
       "      <th>9</th>\n",
       "      <td>626516</td>\n",
       "      <td>はりけん\\nハリケーン</td>\n",
       "      <td>subcat</td>\n",
       "      <td>14</td>\n",
       "      <td>626482</td>\n",
       "      <td>熱帯低気圧</td>\n",
       "    </tr>\n",
       "    <tr>\n",
       "      <th>10</th>\n",
       "      <td>626534</td>\n",
       "      <td>さいくろん\\nサイクロン</td>\n",
       "      <td>subcat</td>\n",
       "      <td>14</td>\n",
       "      <td>626482</td>\n",
       "      <td>熱帯低気圧</td>\n",
       "    </tr>\n",
       "    <tr>\n",
       "      <th>11</th>\n",
       "      <td>1079083</td>\n",
       "      <td>め\\n台風の目</td>\n",
       "      <td>page</td>\n",
       "      <td>0</td>\n",
       "      <td>626482</td>\n",
       "      <td>熱帯低気圧</td>\n",
       "    </tr>\n",
       "    <tr>\n",
       "      <th>12</th>\n",
       "      <td>1682974</td>\n",
       "      <td>はりけんはんた\\nハリケーン・ハンター</td>\n",
       "      <td>page</td>\n",
       "      <td>0</td>\n",
       "      <td>626482</td>\n",
       "      <td>熱帯低気圧</td>\n",
       "    </tr>\n",
       "    <tr>\n",
       "      <th>13</th>\n",
       "      <td>1832981</td>\n",
       "      <td>ねつたいは\\n熱帯波</td>\n",
       "      <td>page</td>\n",
       "      <td>0</td>\n",
       "      <td>626482</td>\n",
       "      <td>熱帯低気圧</td>\n",
       "    </tr>\n",
       "    <tr>\n",
       "      <th>14</th>\n",
       "      <td>2017783</td>\n",
       "      <td>とようなみ\\n土用波</td>\n",
       "      <td>page</td>\n",
       "      <td>0</td>\n",
       "      <td>626482</td>\n",
       "      <td>熱帯低気圧</td>\n",
       "    </tr>\n",
       "    <tr>\n",
       "      <th>15</th>\n",
       "      <td>2923547</td>\n",
       "      <td>*ちいき\\n地域別の熱帯低気圧</td>\n",
       "      <td>subcat</td>\n",
       "      <td>14</td>\n",
       "      <td>626482</td>\n",
       "      <td>熱帯低気圧</td>\n",
       "    </tr>\n",
       "    <tr>\n",
       "      <th>16</th>\n",
       "      <td>4184902</td>\n",
       "      <td>めいめい\\n熱帯低気圧の命名</td>\n",
       "      <td>page</td>\n",
       "      <td>0</td>\n",
       "      <td>626482</td>\n",
       "      <td>熱帯低気圧</td>\n",
       "    </tr>\n",
       "  </tbody>\n",
       "</table>\n",
       "</div>"
      ],
      "text/plain": [
       "         id                 name    type  namespace  parent_cat_id  \\\n",
       "0     10245     こりおりのちから\\nコリオリの力    page          0         626482   \n",
       "1     15090             たいふう\\n台風    page          0         626482   \n",
       "2     26863         さいくろん\\nサイクロン    page          0         626482   \n",
       "3     31168             *\\n熱帯低気圧    page          0         626482   \n",
       "4     36650          せきらんうん\\n積乱雲    page          0         626482   \n",
       "5     94451          はりけん\\nハリケーン    page          0         626482   \n",
       "6    147548    ういりういり\\nウィリー・ウィリー    page          0         626482   \n",
       "7    159919             たいふう\\n台風  subcat         14         626482   \n",
       "8    527125      ふしわらのこうか\\n藤原の効果    page          0         626482   \n",
       "9    626516          はりけん\\nハリケーン  subcat         14         626482   \n",
       "10   626534         さいくろん\\nサイクロン  subcat         14         626482   \n",
       "11  1079083              め\\n台風の目    page          0         626482   \n",
       "12  1682974  はりけんはんた\\nハリケーン・ハンター    page          0         626482   \n",
       "13  1832981           ねつたいは\\n熱帯波    page          0         626482   \n",
       "14  2017783           とようなみ\\n土用波    page          0         626482   \n",
       "15  2923547      *ちいき\\n地域別の熱帯低気圧  subcat         14         626482   \n",
       "16  4184902       めいめい\\n熱帯低気圧の命名    page          0         626482   \n",
       "\n",
       "   parent_cat_name  \n",
       "0            熱帯低気圧  \n",
       "1            熱帯低気圧  \n",
       "2            熱帯低気圧  \n",
       "3            熱帯低気圧  \n",
       "4            熱帯低気圧  \n",
       "5            熱帯低気圧  \n",
       "6            熱帯低気圧  \n",
       "7            熱帯低気圧  \n",
       "8            熱帯低気圧  \n",
       "9            熱帯低気圧  \n",
       "10           熱帯低気圧  \n",
       "11           熱帯低気圧  \n",
       "12           熱帯低気圧  \n",
       "13           熱帯低気圧  \n",
       "14           熱帯低気圧  \n",
       "15           熱帯低気圧  \n",
       "16           熱帯低気圧  "
      ]
     },
     "execution_count": 193,
     "metadata": {},
     "output_type": "execute_result"
    }
   ],
   "source": [
    "byte_read_sql(\"select * from cats_to_selfjoin where parent_cat_id = 626482;\", conn)"
   ]
  },
  {
   "cell_type": "markdown",
   "id": "10d5164c-66f6-45ab-b619-22ef23f1b7a9",
   "metadata": {
    "jp-MarkdownHeadingCollapsed": true,
    "tags": []
   },
   "source": [
    "#### get all descendants"
   ]
  },
  {
   "cell_type": "code",
   "execution_count": 221,
   "id": "170a4049-5e34-4382-9d23-fba9701ad894",
   "metadata": {},
   "outputs": [],
   "source": [
    "sql = \"\"\"\n",
    "with recursive cte (id, name, type, namespace, parent_cat_id) as (\n",
    "  select     id,\n",
    "             name,\n",
    "             type,\n",
    "             namespace,\n",
    "             parent_cat_id\n",
    "  from       cats_to_selfjoin\n",
    "  where      parent_cat_id = 626482\n",
    "  union all\n",
    "  select     p.id,\n",
    "             p.name,\n",
    "             p.type,\n",
    "             p.namespace,\n",
    "             p.parent_cat_id\n",
    "  from       cats_to_selfjoin p\n",
    "  inner join cte\n",
    "          on p.parent_cat_id = cte.id\n",
    ")\n",
    "select * from cte\n",
    "\"\"\"\n",
    "\n",
    "tropstorm = byte_read_sql(sql, conn)"
   ]
  },
  {
   "cell_type": "markdown",
   "id": "a9f571ea-f3f9-4827-9b8f-3688611b2900",
   "metadata": {
    "tags": []
   },
   "source": [
    "## Get pageids_by_category for various natural disasters"
   ]
  },
  {
   "cell_type": "markdown",
   "id": "d4e3facc-2971-4b55-96b0-72943634a9a0",
   "metadata": {
    "tags": []
   },
   "source": [
    "### create dictionary of disaster category names and page_id's"
   ]
  },
  {
   "cell_type": "code",
   "execution_count": 337,
   "id": "00a7b67d-5328-442c-af91-21ee52a5944d",
   "metadata": {},
   "outputs": [],
   "source": [
    "disaster_cat_page_ids = {'火山災害':2390743, '熱帯低気圧':626482, '雪害':2390774, '地震':135264, '津波':765772}  # '自然災害':137069, \n",
    "disasters_english = {'火山災害':'VolcanicDisaster', '熱帯低気圧':'TropicalCyclones', '雪害':'SnowDamage', '地震':'Earthquake', '津波':'Tsunami'}\n",
    "disasters = list(disaster_cat_page_ids.keys())"
   ]
  },
  {
   "cell_type": "markdown",
   "id": "339450e1-3b02-46bd-9b92-5837f28f2528",
   "metadata": {
    "tags": []
   },
   "source": [
    "### pick page_id lists"
   ]
  },
  {
   "cell_type": "markdown",
   "id": "e5ea35cb-a4a3-4d56-b8cf-6e4e93ff67e5",
   "metadata": {
    "tags": []
   },
   "source": [
    "#### function get_all_descendants_by_namespace"
   ]
  },
  {
   "cell_type": "markdown",
   "id": "794b3bd5-9b29-4a1e-b3e4-0eb78d4bbf5d",
   "metadata": {
    "jp-MarkdownHeadingCollapsed": true,
    "tags": []
   },
   "source": [
    "##### function docstring"
   ]
  },
  {
   "cell_type": "markdown",
   "id": "91677e41-2b50-42ac-81c3-64af7353f332",
   "metadata": {},
   "source": [
    "```python\n",
    "get_all_descendants_by_namespace(cat_page_id:int, namespaces: list[int] = []) -> pd.DataFrame:\n",
    "```\n",
    "\n",
    "- Get all descendant records from cats_to_selfjoin, filtered by namespace.  \n",
    "- Inputs:  \n",
    "    - cat_page_id: parent-category to get descendants of\n",
    "    - namespaces: list of namespaces (ints) to select\n",
    "        - 0: pages\n",
    "        - 14: category-pages\n"
   ]
  },
  {
   "cell_type": "markdown",
   "id": "5337a6ac-324b-43be-9d3a-f4111d3c2079",
   "metadata": {
    "jp-MarkdownHeadingCollapsed": true,
    "tags": []
   },
   "source": [
    "##### function code"
   ]
  },
  {
   "cell_type": "code",
   "execution_count": 284,
   "id": "140ed73b-23e8-4adb-b44b-64c286b21bcf",
   "metadata": {},
   "outputs": [],
   "source": [
    "def get_all_descendants_by_namespace(cat_page_id:int, namespaces: list[int] = []) -> pd.DataFrame:\n",
    "    \"\"\"\n",
    "    Get all descendant records from cats_to_selfjoin, filtered by namespace.\n",
    "    Inputs:\n",
    "        cat_page_id: parent-category to get descendants of\n",
    "        namespaces: list of namespaces (ints) to select\n",
    "            0: pages\n",
    "            14: category-pages\n",
    "    \"\"\"\n",
    "    \n",
    "    \n",
    "    if namespaces:\n",
    "        namespace_condition = r\"\"\"\n",
    "        where namespace in(\"\"\" + \", \".join(map(str,namespaces)) + r\"\"\")\n",
    "        \"\"\"\n",
    "    else:\n",
    "        namespace_condition = r\" \"\n",
    "    \n",
    "    sql = r\"\"\"\n",
    "    with recursive cte (id, name, type, namespace, parent_cat_id) as (\n",
    "      select     id,\n",
    "                 name,\n",
    "                 type,\n",
    "                 namespace,\n",
    "                 parent_cat_id\n",
    "      from       cats_to_selfjoin\n",
    "      where      parent_cat_id = \"\"\"+str(cat_page_id)+r\"\"\"\n",
    "      union all\n",
    "      select     p.id,\n",
    "                 p.name,\n",
    "                 p.type,\n",
    "                 p.namespace,\n",
    "                 p.parent_cat_id\n",
    "      from       cats_to_selfjoin p\n",
    "      inner join cte\n",
    "              on p.parent_cat_id = cte.id\n",
    "    )\n",
    "    select distinct id, name, type, namespace from cte\n",
    "    \"\"\" + \"\".join(namespace_condition) +\"\"\"\n",
    "    ;\n",
    "    \"\"\"\n",
    "    return byte_read_sql(sql, conn)"
   ]
  },
  {
   "cell_type": "markdown",
   "id": "f3ae4ccb-3d50-448a-a88e-26d1a70921a4",
   "metadata": {
    "tags": []
   },
   "source": [
    "#### get all descendants for various disasters as ```dict_disaster_descendants```"
   ]
  },
  {
   "cell_type": "markdown",
   "id": "bdfa44ca-d1c2-4d6f-9deb-e9822f59a206",
   "metadata": {
    "tags": []
   },
   "source": [
    "##### prep loop"
   ]
  },
  {
   "cell_type": "code",
   "execution_count": 343,
   "id": "04fe2869-9cb2-4a47-80f8-ef752a62b373",
   "metadata": {},
   "outputs": [],
   "source": [
    "cxn, cur, engine, conn = connect_mariadb()"
   ]
  },
  {
   "cell_type": "code",
   "execution_count": 342,
   "id": "97c1de1b-42cb-4762-8ef4-219b63bf452e",
   "metadata": {},
   "outputs": [],
   "source": [
    "disaster_descendants = {}"
   ]
  },
  {
   "cell_type": "code",
   "execution_count": 345,
   "id": "993b2f89-29b0-478f-88aa-6a12260bfa21",
   "metadata": {},
   "outputs": [],
   "source": [
    "d = disaster_cat_page_ids\n",
    "gen = (i for i in disaster_cat_page_ids.keys())"
   ]
  },
  {
   "cell_type": "markdown",
   "id": "33a4252a-52dc-4458-9160-fb785c8a3f36",
   "metadata": {},
   "source": [
    "##### **loop**"
   ]
  },
  {
   "cell_type": "code",
   "execution_count": 366,
   "id": "827eb51b-e6ed-4735-81cc-5277c9c84778",
   "metadata": {},
   "outputs": [
    {
     "data": {
      "text/plain": [
       "('津波', 'Tsunami')"
      ]
     },
     "execution_count": 366,
     "metadata": {},
     "output_type": "execute_result"
    }
   ],
   "source": [
    "disaster = next(gen)\n",
    "disaster, disasters_english[disaster]"
   ]
  },
  {
   "cell_type": "code",
   "execution_count": 367,
   "id": "d2490c61-7a7f-4398-9795-85a62c66b718",
   "metadata": {},
   "outputs": [
    {
     "data": {
      "text/plain": [
       "277.51228"
      ]
     },
     "execution_count": 367,
     "metadata": {},
     "output_type": "execute_result"
    }
   ],
   "source": [
    "start_time = dt.now()\n",
    "\n",
    "disaster_descendants[disaster] = get_all_descendants_by_namespace(d[disaster])\n",
    "\n",
    "end_time = dt.now()\n",
    "(end_time - start_time).total_seconds()"
   ]
  },
  {
   "cell_type": "markdown",
   "id": "590c12c3-da6b-4fdd-8cf0-988385ea22df",
   "metadata": {
    "jp-MarkdownHeadingCollapsed": true,
    "tags": []
   },
   "source": [
    "##### peek between loops"
   ]
  },
  {
   "cell_type": "code",
   "execution_count": 368,
   "id": "fd50b710-b114-41d5-a771-c5286b2dec0d",
   "metadata": {},
   "outputs": [
    {
     "data": {
      "text/plain": [
       "5"
      ]
     },
     "execution_count": 368,
     "metadata": {},
     "output_type": "execute_result"
    }
   ],
   "source": [
    "len(disaster_descendants)"
   ]
  },
  {
   "cell_type": "code",
   "execution_count": 369,
   "id": "614dd002-f901-4114-8c1f-c2e3839a8f1c",
   "metadata": {},
   "outputs": [
    {
     "data": {
      "text/html": [
       "<div>\n",
       "<style scoped>\n",
       "    .dataframe tbody tr th:only-of-type {\n",
       "        vertical-align: middle;\n",
       "    }\n",
       "\n",
       "    .dataframe tbody tr th {\n",
       "        vertical-align: top;\n",
       "    }\n",
       "\n",
       "    .dataframe thead th {\n",
       "        text-align: right;\n",
       "    }\n",
       "</style>\n",
       "<table border=\"1\" class=\"dataframe\">\n",
       "  <thead>\n",
       "    <tr style=\"text-align: right;\">\n",
       "      <th></th>\n",
       "      <th>id</th>\n",
       "      <th>name</th>\n",
       "      <th>type</th>\n",
       "      <th>namespace</th>\n",
       "    </tr>\n",
       "  </thead>\n",
       "  <tbody>\n",
       "    <tr>\n",
       "      <th>0</th>\n",
       "      <td>18508</td>\n",
       "      <td>*\\n津波</td>\n",
       "      <td>page</td>\n",
       "      <td>0</td>\n",
       "    </tr>\n",
       "    <tr>\n",
       "      <th>1</th>\n",
       "      <td>73131</td>\n",
       "      <td>くらかたう\\nクラカタウ</td>\n",
       "      <td>page</td>\n",
       "      <td>0</td>\n",
       "    </tr>\n",
       "    <tr>\n",
       "      <th>2</th>\n",
       "      <td>79371</td>\n",
       "      <td>しまはらたいへんひこめいわく\\n島原大変肥後迷惑</td>\n",
       "      <td>page</td>\n",
       "      <td>0</td>\n",
       "    </tr>\n",
       "    <tr>\n",
       "      <th>3</th>\n",
       "      <td>140998</td>\n",
       "      <td>いなむらのひ\\n稲むらの火</td>\n",
       "      <td>page</td>\n",
       "      <td>0</td>\n",
       "    </tr>\n",
       "    <tr>\n",
       "      <th>4</th>\n",
       "      <td>243079</td>\n",
       "      <td>りすほんししん 1755\\nリスボン地震 (1755年)</td>\n",
       "      <td>page</td>\n",
       "      <td>0</td>\n",
       "    </tr>\n",
       "    <tr>\n",
       "      <th>...</th>\n",
       "      <td>...</td>\n",
       "      <td>...</td>\n",
       "      <td>...</td>\n",
       "      <td>...</td>\n",
       "    </tr>\n",
       "    <tr>\n",
       "      <th>14661</th>\n",
       "      <td>2375657</td>\n",
       "      <td>おおるすたあけえむ2011にほんふろやきゆう\\n2011年のオールスターゲーム (日本プロ野球)</td>\n",
       "      <td>page</td>\n",
       "      <td>0</td>\n",
       "    </tr>\n",
       "    <tr>\n",
       "      <th>14662</th>\n",
       "      <td>2601106</td>\n",
       "      <td>おおるすたあけえむ2012にほんふろやきゆう\\n2012年のオールスターゲーム (日本プロ野球)</td>\n",
       "      <td>page</td>\n",
       "      <td>0</td>\n",
       "    </tr>\n",
       "    <tr>\n",
       "      <th>14663</th>\n",
       "      <td>2647006</td>\n",
       "      <td>につほんしりいす2012\\n2012年の日本シリーズ</td>\n",
       "      <td>page</td>\n",
       "      <td>0</td>\n",
       "    </tr>\n",
       "    <tr>\n",
       "      <th>14664</th>\n",
       "      <td>2664607</td>\n",
       "      <td>さむらいしやはんまつち2012にほんたいひようVSきゆうはたいひよう\\n侍ジャパンマッチ20...</td>\n",
       "      <td>page</td>\n",
       "      <td>0</td>\n",
       "    </tr>\n",
       "    <tr>\n",
       "      <th>14665</th>\n",
       "      <td>2936395</td>\n",
       "      <td>めいししんくうやきゆうたいかい36\\n第36回明治神宮野球大会</td>\n",
       "      <td>page</td>\n",
       "      <td>0</td>\n",
       "    </tr>\n",
       "  </tbody>\n",
       "</table>\n",
       "<p>14666 rows × 4 columns</p>\n",
       "</div>"
      ],
      "text/plain": [
       "            id                                               name  type  \\\n",
       "0        18508                                              *\\n津波  page   \n",
       "1        73131                                       くらかたう\\nクラカタウ  page   \n",
       "2        79371                           しまはらたいへんひこめいわく\\n島原大変肥後迷惑  page   \n",
       "3       140998                                      いなむらのひ\\n稲むらの火  page   \n",
       "4       243079                       りすほんししん 1755\\nリスボン地震 (1755年)  page   \n",
       "...        ...                                                ...   ...   \n",
       "14661  2375657   おおるすたあけえむ2011にほんふろやきゆう\\n2011年のオールスターゲーム (日本プロ野球)  page   \n",
       "14662  2601106   おおるすたあけえむ2012にほんふろやきゆう\\n2012年のオールスターゲーム (日本プロ野球)  page   \n",
       "14663  2647006                         につほんしりいす2012\\n2012年の日本シリーズ  page   \n",
       "14664  2664607  さむらいしやはんまつち2012にほんたいひようVSきゆうはたいひよう\\n侍ジャパンマッチ20...  page   \n",
       "14665  2936395                    めいししんくうやきゆうたいかい36\\n第36回明治神宮野球大会  page   \n",
       "\n",
       "       namespace  \n",
       "0              0  \n",
       "1              0  \n",
       "2              0  \n",
       "3              0  \n",
       "4              0  \n",
       "...          ...  \n",
       "14661          0  \n",
       "14662          0  \n",
       "14663          0  \n",
       "14664          0  \n",
       "14665          0  \n",
       "\n",
       "[14666 rows x 4 columns]"
      ]
     },
     "execution_count": 369,
     "metadata": {},
     "output_type": "execute_result"
    }
   ],
   "source": [
    "disaster_descendants[disaster]"
   ]
  },
  {
   "cell_type": "markdown",
   "id": "dfdcc0ff-455a-4c2a-a7ff-b69b778d9d13",
   "metadata": {},
   "source": [
    "##### pickle"
   ]
  },
  {
   "cell_type": "raw",
   "id": "ff8aaaa8-f72f-49e6-846b-e0b48943241a",
   "metadata": {},
   "source": [
    "with open(processed_path + 'disaster_descendants.pickle', 'wb') as f:\n",
    "    pickle.dump(disaster_descendants, f)"
   ]
  },
  {
   "cell_type": "markdown",
   "id": "c25e78ef-9bc0-49f3-b341-193b11572009",
   "metadata": {},
   "source": [
    "# end"
   ]
  }
 ],
 "metadata": {
  "kernelspec": {
   "display_name": "Python 3 (ipykernel)",
   "language": "python",
   "name": "python3"
  },
  "language_info": {
   "codemirror_mode": {
    "name": "ipython",
    "version": 3
   },
   "file_extension": ".py",
   "mimetype": "text/x-python",
   "name": "python",
   "nbconvert_exporter": "python",
   "pygments_lexer": "ipython3",
   "version": "3.9.7"
  }
 },
 "nbformat": 4,
 "nbformat_minor": 5
}
