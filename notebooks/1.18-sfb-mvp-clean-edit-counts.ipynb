{
 "cells": [
  {
   "cell_type": "markdown",
   "id": "c273b2a5-253d-4745-bd36-994582da7c17",
   "metadata": {
    "tags": []
   },
   "source": [
    "# mvp-eda-edit-count-correlations"
   ]
  },
  {
   "cell_type": "markdown",
   "id": "8a113203-b0ea-4c15-855c-db89c5da315c",
   "metadata": {
    "jp-MarkdownHeadingCollapsed": true,
    "tags": []
   },
   "source": [
    "##### mariadb pass"
   ]
  },
  {
   "cell_type": "code",
   "execution_count": 14,
   "id": "e33a8f7c-9a27-45ca-8842-861415eb89dd",
   "metadata": {},
   "outputs": [],
   "source": [
    "mysql_user = 'bhrdwj'\n",
    "# mysql_pass = input(f'Enter the MySQL password for user {mysql_user}: ')"
   ]
  },
  {
   "cell_type": "markdown",
   "id": "ee53a75e-3b11-487c-bef1-a8ae051fc6b4",
   "metadata": {
    "jp-MarkdownHeadingCollapsed": true,
    "tags": []
   },
   "source": [
    "## intro"
   ]
  },
  {
   "cell_type": "markdown",
   "id": "4db8732d-4b53-4bd1-b3c4-cf1b6b552959",
   "metadata": {
    "tags": []
   },
   "source": [
    "### setup"
   ]
  },
  {
   "cell_type": "markdown",
   "id": "b4bf4397-c2c5-4eda-9c9e-c3124c4f6b88",
   "metadata": {
    "jp-MarkdownHeadingCollapsed": true,
    "tags": []
   },
   "source": [
    "#### plan"
   ]
  },
  {
   "cell_type": "markdown",
   "id": "de86e346-5caa-40a7-9cc8-d17f003bc49e",
   "metadata": {},
   "source": [
    "- Use lags of edits in some categories to predict edits in other categories\n",
    "    1. get first row of pearson's correlation matrix among:\n",
    "        - edit-counts in a target category by day\n",
    "        - 1d-lagged-edit-counts of many other categories\n",
    "    2. present treating each category as target and the others as features\n",
    "    3. do this with 2013-2015. then train multi-v linreg with 2013-2015 and predict 2016."
   ]
  },
  {
   "cell_type": "markdown",
   "id": "3255c4e0-3597-440a-8f6c-a78773e1f1ad",
   "metadata": {
    "jp-MarkdownHeadingCollapsed": true,
    "tags": []
   },
   "source": [
    "#### imports"
   ]
  },
  {
   "cell_type": "code",
   "execution_count": 15,
   "id": "55ceda2a-d5ea-4e2a-8d4f-3a8456ddc2bd",
   "metadata": {},
   "outputs": [],
   "source": [
    "import pandas as pd, numpy as np, os, re, pyperclip, pickle\n",
    "import mysql.connector as mysql, sqlalchemy\n",
    "from datetime import datetime as dt"
   ]
  },
  {
   "cell_type": "markdown",
   "id": "c0441560-1d27-481a-88df-5640c968ebb6",
   "metadata": {
    "jp-MarkdownHeadingCollapsed": true,
    "tags": []
   },
   "source": [
    "#### fonts"
   ]
  },
  {
   "cell_type": "markdown",
   "id": "b4fef8d0-5e07-41b8-b230-5fbfed76a887",
   "metadata": {},
   "source": [
    "https://github.com/linzino7/matplotlibChinesefix"
   ]
  },
  {
   "cell_type": "code",
   "execution_count": 16,
   "id": "45888ade-3656-443b-90ba-1b93d97013ea",
   "metadata": {},
   "outputs": [
    {
     "data": {
      "text/plain": [
       "'/usr/share/fonts/opentype/noto/NotoSansCJK-Regular.ttc'"
      ]
     },
     "execution_count": 16,
     "metadata": {},
     "output_type": "execute_result"
    }
   ],
   "source": [
    "from matplotlib.font_manager import findfont, FontProperties  \n",
    "findfont(FontProperties(family=FontProperties().get_family())) "
   ]
  },
  {
   "cell_type": "code",
   "execution_count": 17,
   "id": "ea1fba28-9029-4137-b4fb-9d02f36e94b6",
   "metadata": {},
   "outputs": [
    {
     "data": {
      "text/plain": [
       "'/home/bhrdwj/anaconda3/envs/py39/lib/python3.9/site-packages/matplotlib/mpl-data/matplotlibrc'"
      ]
     },
     "execution_count": 17,
     "metadata": {},
     "output_type": "execute_result"
    }
   ],
   "source": [
    "import matplotlib \n",
    "matplotlib.matplotlib_fname()"
   ]
  },
  {
   "cell_type": "code",
   "execution_count": 18,
   "id": "588fe978-1bb7-40fc-bf79-78a32ab125cb",
   "metadata": {},
   "outputs": [],
   "source": [
    "import matplotlib.pyplot as plt \n",
    "plt.rcParams['font.sans-serif'] = ['Noto Sans CJK JP']  \n",
    "plt.rcParams['axes.unicode_minus'] = False "
   ]
  },
  {
   "cell_type": "raw",
   "id": "fb06f46f-c496-49db-bfb3-ee0c1dfc4ac3",
   "metadata": {},
   "source": [
    "plt.plot((1,2,3),(4,3,1)) \n",
    "plt.title(\"聲量圖\") \n",
    "plt.ylabel(\"文章數量\") \n",
    "plt.xlabel(\"時間\")  \n",
    "plt.show()"
   ]
  },
  {
   "cell_type": "markdown",
   "id": "38427c9f-23a9-4bc9-ac9c-60050ea677b2",
   "metadata": {
    "jp-MarkdownHeadingCollapsed": true,
    "tags": []
   },
   "source": [
    "#### connect to mariadb"
   ]
  },
  {
   "cell_type": "markdown",
   "id": "6037d51b-6450-4fc4-ae9f-e915a3f14d12",
   "metadata": {
    "jp-MarkdownHeadingCollapsed": true,
    "tags": []
   },
   "source": [
    "##### connect"
   ]
  },
  {
   "cell_type": "code",
   "execution_count": 19,
   "id": "4303ce26-ced2-46bd-9dca-c0db7f78ce04",
   "metadata": {},
   "outputs": [],
   "source": [
    "def connect_mariadb():\n",
    "    host='localhost'; user=mysql_user; passwd=mysql_pass; dbname='jawiki';\n",
    "    cxn = mysql.connect(host=host,user=user,passwd=passwd, database=dbname)\n",
    "    cur = cxn.cursor()\n",
    "\n",
    "    connection_str = 'mysql+mysqlconnector://'+user+':'+passwd+'@'+host+'/'+dbname  # removed this after host +':'+dbport\n",
    "    try:\n",
    "        engine = sqlalchemy.create_engine(connection_str)\n",
    "        conn = engine.connect()\n",
    "    except Exception as e:\n",
    "        print('Database connection error - check creds')\n",
    "        print(e)\n",
    "    return cxn, cur, engine, conn\n",
    "        \n",
    "cxn, cur, engine, conn = connect_mariadb()"
   ]
  },
  {
   "cell_type": "markdown",
   "id": "99c6d9b0-2fb6-4b3f-bd44-0639e043e81c",
   "metadata": {
    "tags": []
   },
   "source": [
    "##### test"
   ]
  },
  {
   "cell_type": "code",
   "execution_count": 20,
   "id": "be3bfcce-2887-47b5-91ea-7bdb609afd34",
   "metadata": {},
   "outputs": [
    {
     "data": {
      "text/plain": [
       "['category',\n",
       " 'categorylinks',\n",
       " 'cats_to_selfjoin',\n",
       " 'disaster_cats_and_pages',\n",
       " 'h2013',\n",
       " 'h2014',\n",
       " 'h2015',\n",
       " 'h2016',\n",
       " 'h2017',\n",
       " 'h2018',\n",
       " 'h2019',\n",
       " 'h2020',\n",
       " 'h2021',\n",
       " 'page',\n",
       " 't2013',\n",
       " 't2014',\n",
       " 't2015',\n",
       " 't2016',\n",
       " 't2017',\n",
       " 't2018',\n",
       " 't2019',\n",
       " 't2020',\n",
       " 't2021',\n",
       " 'warn_rows']"
      ]
     },
     "execution_count": 20,
     "metadata": {},
     "output_type": "execute_result"
    }
   ],
   "source": [
    "metadata = sqlalchemy.MetaData(conn)\n",
    "metadata.reflect()\n",
    "current_tables = list(metadata.tables.keys())\n",
    "current_tables"
   ]
  },
  {
   "cell_type": "markdown",
   "id": "0c19006e-5238-4827-91cf-d46b089cea5e",
   "metadata": {
    "jp-MarkdownHeadingCollapsed": true,
    "tags": []
   },
   "source": [
    "#### some paths"
   ]
  },
  {
   "cell_type": "code",
   "execution_count": 21,
   "id": "b214d21d-0a9a-4a1a-9c19-9bee7f5f968a",
   "metadata": {},
   "outputs": [],
   "source": [
    "rawdumps_path = '../data/raw/jawiki/dumps_unzipped/'\n",
    "processed_path = '../data/processed/jawiki/'"
   ]
  },
  {
   "cell_type": "markdown",
   "id": "5706b6d7-1cab-44bb-9dda-da6bbb6c04cc",
   "metadata": {
    "jp-MarkdownHeadingCollapsed": true,
    "tags": []
   },
   "source": [
    "## functions  \n",
    "<mark>unfinished:</mark>  google translate"
   ]
  },
  {
   "cell_type": "markdown",
   "id": "4d2d9502-d5cf-4b0b-83d8-a6a893f6e05e",
   "metadata": {
    "jp-MarkdownHeadingCollapsed": true,
    "tags": []
   },
   "source": [
    "### simple functions to read from MySQL dumpfiles"
   ]
  },
  {
   "cell_type": "markdown",
   "id": "a7666c74-2656-4bc9-b131-4ff13874ff1a",
   "metadata": {
    "jp-MarkdownHeadingCollapsed": true,
    "tags": []
   },
   "source": [
    "##### function ```jpr_sql``` "
   ]
  },
  {
   "cell_type": "code",
   "execution_count": 22,
   "id": "21ac6d6b-54a0-445b-8380-7856ed88562e",
   "metadata": {},
   "outputs": [],
   "source": [
    "def jpr_sql(query, conn=conn):\n",
    "    \"\"\"\n",
    "    Super-basic wrapper of SQLAlchemy conn.execute()\n",
    "    Input:\n",
    "        query string\n",
    "        conn SQLAlchemy connection\n",
    "    Output:\n",
    "        list / result of conn.execute().fetchall()\n",
    "    \"\"\"\n",
    "    try: \n",
    "        a = conn.execute(query)\n",
    "    except Exception as e:\n",
    "        print('Printing execute error:')\n",
    "        print(e)\n",
    "        return None\n",
    "    \n",
    "    try:\n",
    "        return a.fetchall()\n",
    "    except Exception as e:\n",
    "        print('Printing results error:')\n",
    "        print(e)\n",
    "        print('Printing result')\n",
    "        return None"
   ]
  },
  {
   "cell_type": "markdown",
   "id": "e34c1f59-d355-482e-87a4-406461fb7e95",
   "metadata": {
    "jp-MarkdownHeadingCollapsed": true,
    "tags": []
   },
   "source": [
    "##### function ```byte_read_sql```"
   ]
  },
  {
   "cell_type": "code",
   "execution_count": 23,
   "id": "3106c564-5602-4338-8c8a-596dcc4eb52c",
   "metadata": {},
   "outputs": [],
   "source": [
    "def decode_if_it_can(value):\n",
    "    \"\"\"\n",
    "    Tries to decode a possible bytes object with utf-8. \n",
    "    If fails, silently returns input.\n",
    "    INPUTS: object\n",
    "    OUTPUTS: input or decoded string\n",
    "    \"\"\"\n",
    "    try:\n",
    "        value = value.decode('utf-8')\n",
    "    except (UnicodeDecodeError, AttributeError):\n",
    "        pass\n",
    "    finally:\n",
    "        return value\n",
    "\n",
    "def byte_read_sql(query, conn):\n",
    "    \"\"\"\n",
    "    Simple wrapper for pd.read_sql() for mediawiki dumps including byte-like data.\n",
    "    Inputs: \n",
    "            SQL query string\n",
    "            SQLAlchemy connection\n",
    "    Outputs:\n",
    "            Pandas dataframe with some values modified, that is:\n",
    "                values that can be decoded with .decode('utf-8') are thus decoded.\n",
    "    \"\"\"\n",
    "    df = pd.read_sql(query, conn)\n",
    "    return (df.applymap(lambda x: decode_if_it_can(x)))"
   ]
  },
  {
   "cell_type": "markdown",
   "id": "11334358-0d00-4b4d-b278-31f540ce9d4d",
   "metadata": {
    "jp-MarkdownHeadingCollapsed": true,
    "tags": []
   },
   "source": [
    "### google translate / add to cache <mark> UNFINISHED </mark>"
   ]
  },
  {
   "cell_type": "raw",
   "id": "cd9deacf-82b4-40a2-bcda-1be201e9fb28",
   "metadata": {},
   "source": [
    "def translate(trans_dict, trans_csv_path=\"../data/external/jp2en_translations.csv\") -> str:\n",
    "    "
   ]
  },
  {
   "cell_type": "markdown",
   "id": "2b3de351-50c9-4a16-8638-8ea085429c2b",
   "metadata": {
    "jp-MarkdownHeadingCollapsed": true,
    "tags": []
   },
   "source": [
    "### functions to process MySQL dumpfiles"
   ]
  },
  {
   "cell_type": "markdown",
   "id": "9ea543a2-5f7e-41ee-8d9f-375cc28391a1",
   "metadata": {
    "tags": []
   },
   "source": [
    "#### in cross-section"
   ]
  },
  {
   "cell_type": "markdown",
   "id": "0e7e45f2-9d20-4969-831f-944a7d666fa0",
   "metadata": {
    "jp-MarkdownHeadingCollapsed": true,
    "tags": []
   },
   "source": [
    "##### get_all_descendants_by_namespace"
   ]
  },
  {
   "cell_type": "code",
   "execution_count": 24,
   "id": "53a62d52-4a11-47a0-9b01-bedc766fd580",
   "metadata": {},
   "outputs": [],
   "source": [
    "def get_all_descendants_by_namespace(cat_page_id:int, namespaces: list[int] = []) -> pd.DataFrame:\n",
    "    \"\"\"\n",
    "    Get all descendant records from cats_to_selfjoin, filtered by namespace.\n",
    "    Inputs:\n",
    "        cat_page_id: parent-category to get descendants of\n",
    "        namespaces: list of namespaces (ints) to select\n",
    "            0: pages\n",
    "            14: category-pages\n",
    "    \"\"\"\n",
    "    \n",
    "    \n",
    "    if namespaces:\n",
    "        namespace_condition = r\"\"\"\n",
    "        where namespace in(\"\"\" + \", \".join(map(str,namespaces)) + r\"\"\")\n",
    "        \"\"\"\n",
    "    else:\n",
    "        namespace_condition = r\" \"\n",
    "    \n",
    "    sql = r\"\"\"\n",
    "    with recursive cte (id, name, type, namespace, parent_cat_id) as (\n",
    "      select     id,\n",
    "                 name,\n",
    "                 type,\n",
    "                 namespace,\n",
    "                 parent_cat_id\n",
    "      from       cats_to_selfjoin\n",
    "      where      parent_cat_id = \"\"\"+str(cat_page_id)+r\"\"\"\n",
    "      union all\n",
    "      select     p.id,\n",
    "                 p.name,\n",
    "                 p.type,\n",
    "                 p.namespace,\n",
    "                 p.parent_cat_id\n",
    "      from       cats_to_selfjoin p\n",
    "      inner join cte\n",
    "              on p.parent_cat_id = cte.id\n",
    "    )\n",
    "    select distinct id, name, type, namespace from cte\n",
    "    \"\"\" + \"\".join(namespace_condition) +\"\"\"\n",
    "    ;\n",
    "    \"\"\"\n",
    "    return byte_read_sql(sql, conn)"
   ]
  },
  {
   "cell_type": "markdown",
   "id": "f642963e-edc3-4ae1-b9e6-64edf302c154",
   "metadata": {
    "jp-MarkdownHeadingCollapsed": true,
    "tags": []
   },
   "source": [
    "##### create_table_where_pageid_in_list"
   ]
  },
  {
   "cell_type": "code",
   "execution_count": 25,
   "id": "5c9bbd3f-fc7c-431d-a5ed-7d4ff7909be0",
   "metadata": {},
   "outputs": [],
   "source": [
    "def create_table_where_pageid_in_list(page_ids:list[int], newname:str = 'disaster_cats_and_pages', oldname:str = 'cats_to_selfjoin') -> None:\n",
    "    jpr_sql(r\"\"\"\n",
    "        create table \"\"\"+newname+r\"\"\" as\n",
    "        select * from \"\"\"+oldname+r\"\"\"\n",
    "        where id in(\"\"\"+ \", \".join(page_ids) +r\"\"\")\n",
    "    \"\"\", conn)\n",
    "    return None"
   ]
  },
  {
   "cell_type": "markdown",
   "id": "fb4e61f5-4cd8-4e5d-a336-68cc30db144f",
   "metadata": {
    "jp-MarkdownHeadingCollapsed": true,
    "tags": []
   },
   "source": [
    "##### get_all_descendants_content_pageids"
   ]
  },
  {
   "cell_type": "code",
   "execution_count": 26,
   "id": "5c795e4b-b21b-4b2e-952e-760a64eb5089",
   "metadata": {},
   "outputs": [],
   "source": [
    "def get_all_descendants_content_pageids(cat_page_id:int, namespaces: list[int] = [0], tablename:str = 'disaster_cats_and_pages') -> list:\n",
    "    \"\"\"\n",
    "    Get all descendant page_id's from tablename, content pages only by-default.\n",
    "    Inputs:\n",
    "        cat_page_id: parent-category to get descendants of\n",
    "        namespaces: list of namespaces (ints) to select\n",
    "            0: pages (DEFAULT)\n",
    "            14: category-pages\n",
    "    Returns:\n",
    "        list of page_ids\n",
    "    \"\"\"\n",
    "    \n",
    "    \n",
    "    if namespaces:\n",
    "        namespace_condition = r\"\"\"\n",
    "        where namespace in(\"\"\" + \", \".join(map(str,namespaces)) + r\"\"\")\n",
    "        \"\"\"\n",
    "    else:\n",
    "        namespace_condition = r\" \"\n",
    "    \n",
    "    sql = r\"\"\"\n",
    "    with recursive cte (id, name, type, namespace, parent_cat_id) as (\n",
    "      select     id,\n",
    "                 name,\n",
    "                 type,\n",
    "                 namespace,\n",
    "                 parent_cat_id\n",
    "      from       \"\"\"+ tablename +\"\"\"\n",
    "      where      parent_cat_id = \"\"\"+str(cat_page_id)+r\"\"\"\n",
    "      union all\n",
    "      select     p.id,\n",
    "                 p.name,\n",
    "                 p.type,\n",
    "                 p.namespace,\n",
    "                 p.parent_cat_id\n",
    "      from       \"\"\"+ tablename +\"\"\" p\n",
    "      inner join cte\n",
    "              on p.parent_cat_id = cte.id\n",
    "    )\n",
    "    select distinct id from cte\n",
    "    \"\"\" + \"\".join(namespace_condition) +\"\"\"\n",
    "    ;\n",
    "    \"\"\"\n",
    "    return jpr_sql(sql, conn)"
   ]
  },
  {
   "cell_type": "markdown",
   "id": "3d582385-e262-4b3b-aa7b-9ea37173669a",
   "metadata": {
    "tags": []
   },
   "source": [
    "#### in time series"
   ]
  },
  {
   "cell_type": "markdown",
   "id": "89fcb31c-4b39-4f91-94e7-578d44ac5b96",
   "metadata": {
    "jp-MarkdownHeadingCollapsed": true,
    "tags": []
   },
   "source": [
    "##### function to count all edits to pages in a whole timeseries table"
   ]
  },
  {
   "cell_type": "code",
   "execution_count": 27,
   "id": "8db90a36-eefb-4de7-a172-de7ad4f1408f",
   "metadata": {},
   "outputs": [],
   "source": [
    "def count_edits_within_pagelist_in_dumpfile(pagelist:list[int], year:int, conn=conn):\n",
    "        \n",
    "    stringified_pageids = \", \".join(map(str,pagelist))\n",
    "    \n",
    "    sql = r\"\"\"\n",
    "    select\n",
    "        count(row_id) as num_edits\n",
    "    from h\"\"\"+str(year)+r\"\"\"\n",
    "    where\n",
    "        page_id in (\"\"\"+ stringified_pageids +r\"\"\")\n",
    "        and event_entity = 'revision'\n",
    "        and user_is_bot_by IS NULL\n",
    "        and event_user_is_bot_by IS NULL\n",
    "    ;\n",
    "    \"\"\"\n",
    "    \n",
    "    return pd.read_sql(sql,conn).num_edits.sum()"
   ]
  },
  {
   "cell_type": "markdown",
   "id": "42014dc6-482f-4662-b5d7-14d48557acb0",
   "metadata": {
    "jp-MarkdownHeadingCollapsed": true,
    "tags": []
   },
   "source": [
    "##### query to **explore** revisions within subcats by japanese day"
   ]
  },
  {
   "cell_type": "code",
   "execution_count": 28,
   "id": "11055df2-92df-4b54-9ea5-807653c68571",
   "metadata": {},
   "outputs": [],
   "source": [
    "def explore_revs_in_subcats_daily(subcat_page_ids):\n",
    "    sql = \"\"\"\n",
    "      with formatted_date as (\n",
    "        select\n",
    "            date_tmstp_jp\n",
    "            ,user_id\n",
    "            ,user_text\n",
    "            ,row_id\n",
    "            ,page_id\n",
    "        from h2013\n",
    "        where\n",
    "            page_id in (\"\"\"+ \", \".join(map(str,subcat_page_ids)) +r\"\"\")\n",
    "            and event_entity = 'revision'\n",
    "            and user_is_bot_by IS NULL\n",
    "            and event_user_is_bot_by IS NULL\n",
    "      )\n",
    "      select\n",
    "        date(date_tmstp_jp) as day\n",
    "        ,page_id\n",
    "        ,count(row_id) as num_edits\n",
    "      from formatted_date\n",
    "      group by day,page_id\n",
    "      order by day,page_id\n",
    "      ;\n",
    "    \"\"\"\n",
    "\n",
    "    return pd.read_sql(sql,conn)"
   ]
  },
  {
   "cell_type": "markdown",
   "id": "022cd268-cfdf-4243-b62e-49b7afca3aaf",
   "metadata": {
    "jp-MarkdownHeadingCollapsed": true,
    "tags": []
   },
   "source": [
    "##### query to **count** revisions within subcats by japanese day"
   ]
  },
  {
   "cell_type": "code",
   "execution_count": 29,
   "id": "f92e25aa-8c91-45e2-8c3d-b82c32b4a840",
   "metadata": {},
   "outputs": [],
   "source": [
    "def count_revs_in_subcat_daily(subcat_name, subcat_descendant_ids:list[int], table:str) -> pd.DataFrame:\n",
    "    \"\"\"\n",
    "    Count revision-edits of content-descendants of subcat, by day.\n",
    "    \"\"\"\n",
    "    \n",
    "    sql = \"\"\"\n",
    "    select\n",
    "        date(date_tmstp_jp) as day\n",
    "        ,count(row_id) as \"\"\"+ subcat_name +r\"\"\"\n",
    "    from \n",
    "        h2013\n",
    "    where\n",
    "        page_id in (\"\"\"+ \", \".join(map(str,subcat_descendant_ids)) +r\"\"\")\n",
    "        and event_entity = 'revision'\n",
    "        and user_is_bot_by IS NULL\n",
    "        and event_user_is_bot_by IS NULL\n",
    "    group by day\n",
    "    order by day\n",
    "    ;\n",
    "    \"\"\"\n",
    "    return pd.read_sql(sql,conn) #.set_index('day')"
   ]
  },
  {
   "cell_type": "markdown",
   "id": "0355031e-00e4-40ad-b1a2-2fb6727f80ab",
   "metadata": {
    "jp-MarkdownHeadingCollapsed": true,
    "tags": []
   },
   "source": [
    "### function to be my simple API: ```revcounts_within_page_id```"
   ]
  },
  {
   "cell_type": "markdown",
   "id": "afea8c7d-daa4-4ca3-af8b-53c1ad1f25d4",
   "metadata": {
    "tags": []
   },
   "source": [
    "#### function takes page_id of a subcat or page, and returns df of daily edit counts"
   ]
  },
  {
   "cell_type": "code",
   "execution_count": 30,
   "id": "9c4d6c84-2650-471d-afe7-87517e286340",
   "metadata": {},
   "outputs": [],
   "source": [
    "def revcounts_within_page_id(page_id:int) -> pd.DataFrame:\n",
    "    \"\"\"\n",
    "    Wrapper for count_revs_in_subcat_daily\n",
    "    \"\"\"\n",
    "    \n",
    "    [title, namespace] = byte_read_sql(f\"select page_title, page_namespace from page where page_id = {page_id};\",conn).loc[0].tolist()\n",
    "    tablename = 'h2013'\n",
    "    \n",
    "    if namespace == 0:\n",
    "        return count_revs_in_subcat_daily(title, [page_id], tablename)\n",
    "    elif namespace == 14:\n",
    "        descendant_ids = subcat_content_pageids['熱帯低気圧'][page_id]\n",
    "        return count_revs_in_subcat_daily(title, descendant_ids, tablename).set_index('day')\n",
    "    "
   ]
  },
  {
   "cell_type": "markdown",
   "id": "d8d89abd-7798-407c-affd-91842d73e2c6",
   "metadata": {
    "jp-MarkdownHeadingCollapsed": true,
    "tags": []
   },
   "source": [
    "## unpickle"
   ]
  },
  {
   "cell_type": "markdown",
   "id": "11393444-bf78-4f91-b69d-8cdbe62f1fd9",
   "metadata": {
    "tags": []
   },
   "source": [
    "#### load pickled ```disaster_descendants```"
   ]
  },
  {
   "cell_type": "code",
   "execution_count": 31,
   "id": "839e6012-25fe-48eb-8b01-91cc0ac0b433",
   "metadata": {},
   "outputs": [],
   "source": [
    "with open(processed_path + 'disaster_descendants_raw.pickle', 'rb') as f:\n",
    "    disaster_descendants_raw = pickle.load(f)"
   ]
  },
  {
   "cell_type": "markdown",
   "id": "da89217d-3054-488c-afe4-ea4ba449332b",
   "metadata": {},
   "source": [
    "#### load pickled ```subcat_content_pageids```"
   ]
  },
  {
   "cell_type": "code",
   "execution_count": 32,
   "id": "dfbe0d49-76fe-4974-899d-d4dcd184f30b",
   "metadata": {},
   "outputs": [],
   "source": [
    "with open(processed_path + 'subcat_content_pageids.pickle', 'rb') as f:\n",
    "    subcat_content_pageids = pickle.load(f)"
   ]
  },
  {
   "cell_type": "markdown",
   "id": "4636316a-44f0-4297-8c05-0a8ecfd87d36",
   "metadata": {},
   "source": [
    "#### load pickled ```subcat_edit_counts```"
   ]
  },
  {
   "cell_type": "code",
   "execution_count": 65,
   "id": "fa79041c-057f-4c01-b546-1f03c1dbab21",
   "metadata": {},
   "outputs": [],
   "source": [
    "with open(processed_path + 'subcat_edit_counts.pickle', 'rb') as f:\n",
    "    subcat_edit_counts = pickle.load(f)"
   ]
  },
  {
   "cell_type": "markdown",
   "id": "5a7c2158-d932-4360-9053-b9ee7a25372c",
   "metadata": {
    "tags": []
   },
   "source": [
    "## get lists of pageids in subcats   \n",
    "**pickled for disasters:** ```subcat_content_pageids```"
   ]
  },
  {
   "cell_type": "markdown",
   "id": "86107326-f74a-4a19-865d-3a17dd76d2e9",
   "metadata": {
    "jp-MarkdownHeadingCollapsed": true,
    "tags": []
   },
   "source": [
    "### clean disaster_descendants"
   ]
  },
  {
   "cell_type": "markdown",
   "id": "8ec657ae-5b92-4f6b-8cc5-5317bab97ec6",
   "metadata": {
    "jp-MarkdownHeadingCollapsed": true,
    "tags": []
   },
   "source": [
    "#### some globals"
   ]
  },
  {
   "cell_type": "code",
   "execution_count": 33,
   "id": "7f6a5745-5fab-4a9a-8509-e5cbb66f03bf",
   "metadata": {},
   "outputs": [],
   "source": [
    "disaster_cat_page_ids = {'火山災害':2390743, '熱帯低気圧':626482, '雪害':2390774, '地震':135264, '津波':765772}  # '自然災害':137069, \n",
    "disasters_english = {'火山災害':'VolcanicDisaster', '熱帯低気圧':'TropicalCyclones', '雪害':'SnowDamage', '地震':'Earthquake', '津波':'Tsunami'}\n",
    "disasters = list(disaster_cat_page_ids.keys())"
   ]
  },
  {
   "cell_type": "markdown",
   "id": "f98c0a9c-a887-473c-b2a4-f85923882bac",
   "metadata": {
    "jp-MarkdownHeadingCollapsed": true,
    "tags": []
   },
   "source": [
    "#### drop rows with duplicate category name for the same category page_id"
   ]
  },
  {
   "cell_type": "code",
   "execution_count": 34,
   "id": "338565ef-518b-4581-8d82-3e006bc51201",
   "metadata": {},
   "outputs": [],
   "source": [
    "disaster_descendants = {}\n",
    "for i in disaster_descendants_raw:\n",
    "    disaster_descendants[i] = disaster_descendants_raw[i].drop_duplicates(subset='id')"
   ]
  },
  {
   "cell_type": "markdown",
   "id": "c36d4d34-4515-48d6-aabf-2a666db2ead0",
   "metadata": {
    "jp-MarkdownHeadingCollapsed": true,
    "tags": []
   },
   "source": [
    "### get descendants"
   ]
  },
  {
   "cell_type": "markdown",
   "id": "92c58d05-db17-4a44-9116-a623fe13dfad",
   "metadata": {
    "jp-MarkdownHeadingCollapsed": true,
    "tags": []
   },
   "source": [
    "#### get all descendents of subcats"
   ]
  },
  {
   "cell_type": "code",
   "execution_count": 35,
   "id": "76df779b-6439-4a21-83ce-26e317da6485",
   "metadata": {},
   "outputs": [],
   "source": [
    "disaster_descendants_all = pd.concat((disaster_descendants[i] for i in disaster_descendants), axis='rows')"
   ]
  },
  {
   "cell_type": "markdown",
   "id": "83283d8b-5c11-43eb-ad82-6c7462689bc3",
   "metadata": {
    "jp-MarkdownHeadingCollapsed": true,
    "tags": []
   },
   "source": [
    "#### create table disaster_cats_and_pages with just subcat-descendant rows"
   ]
  },
  {
   "cell_type": "raw",
   "id": "acf3f488-4b87-4d7e-b33a-9d4bf84d7dc6",
   "metadata": {},
   "source": [
    "create_table_where_pageid_in_list(disaster_descendants_all.id.map(str).unique().tolist())"
   ]
  },
  {
   "cell_type": "markdown",
   "id": "1d856e7b-db02-4589-8cad-96922cd6d2ce",
   "metadata": {
    "jp-MarkdownHeadingCollapsed": true,
    "tags": []
   },
   "source": [
    "#### get disaster subcategories ```disaster_subcats```"
   ]
  },
  {
   "cell_type": "code",
   "execution_count": 36,
   "id": "324220f2-d76e-474a-b607-82aadb09d550",
   "metadata": {},
   "outputs": [],
   "source": [
    "disaster_subcats = {}\n",
    "for i in disaster_descendants:\n",
    "    disaster_subcats[i] = disaster_descendants[i][lambda x: x.type == 'subcat']"
   ]
  },
  {
   "cell_type": "code",
   "execution_count": 37,
   "id": "a07f9b1b-1b8b-4f0a-bdb1-c85c9445e16d",
   "metadata": {},
   "outputs": [
    {
     "data": {
      "text/html": [
       "<div>\n",
       "<style scoped>\n",
       "    .dataframe tbody tr th:only-of-type {\n",
       "        vertical-align: middle;\n",
       "    }\n",
       "\n",
       "    .dataframe tbody tr th {\n",
       "        vertical-align: top;\n",
       "    }\n",
       "\n",
       "    .dataframe thead th {\n",
       "        text-align: right;\n",
       "    }\n",
       "</style>\n",
       "<table border=\"1\" class=\"dataframe\">\n",
       "  <thead>\n",
       "    <tr style=\"text-align: right;\">\n",
       "      <th></th>\n",
       "      <th>id</th>\n",
       "      <th>name</th>\n",
       "      <th>type</th>\n",
       "      <th>namespace</th>\n",
       "    </tr>\n",
       "  </thead>\n",
       "  <tbody>\n",
       "    <tr>\n",
       "      <th>20</th>\n",
       "      <td>2884010</td>\n",
       "      <td>にほん\\n日本の火山災害</td>\n",
       "      <td>subcat</td>\n",
       "      <td>14</td>\n",
       "    </tr>\n",
       "    <tr>\n",
       "      <th>68</th>\n",
       "      <td>3477562</td>\n",
       "      <td>しほうしたしんふつ\\n火山災害で死亡した人物</td>\n",
       "      <td>subcat</td>\n",
       "      <td>14</td>\n",
       "    </tr>\n",
       "  </tbody>\n",
       "</table>\n",
       "</div>"
      ],
      "text/plain": [
       "         id                    name    type  namespace\n",
       "20  2884010            にほん\\n日本の火山災害  subcat         14\n",
       "68  3477562  しほうしたしんふつ\\n火山災害で死亡した人物  subcat         14"
      ]
     },
     "execution_count": 37,
     "metadata": {},
     "output_type": "execute_result"
    }
   ],
   "source": [
    "disaster_subcats['火山災害']"
   ]
  },
  {
   "cell_type": "markdown",
   "id": "8fb14a86-f19a-490b-8298-332b697c1b4d",
   "metadata": {
    "tags": []
   },
   "source": [
    "#### get subset of content-page page_ids that are in each disaster subcat"
   ]
  },
  {
   "cell_type": "markdown",
   "id": "b597ac7d-1417-47ce-a187-ff5dfa5c8fb2",
   "metadata": {
    "jp-MarkdownHeadingCollapsed": true,
    "tags": []
   },
   "source": [
    "##### get **(already pickled)**"
   ]
  },
  {
   "cell_type": "raw",
   "id": "a7192f05-387f-4063-a814-3978cb1712c0",
   "metadata": {},
   "source": [
    "subcat_content_pageids = {}\n",
    "for disaster in disaster_subcats:\n",
    "    subcat_content_pageids[disaster] = {}\n",
    "    for subcat in disaster_subcats[disaster].id:\n",
    "        l = [i[0] for i in get_all_descendants_content_pageids(subcat)]\n",
    "        subcat_content_pageids[disaster][subcat] = l"
   ]
  },
  {
   "cell_type": "markdown",
   "id": "4f72aa8c-e233-4b12-8ed7-950c2071032b",
   "metadata": {
    "jp-MarkdownHeadingCollapsed": true,
    "tags": []
   },
   "source": [
    "##### peek"
   ]
  },
  {
   "cell_type": "code",
   "execution_count": 38,
   "id": "2b6bee27-a480-46c5-bc03-4ebda590ddf1",
   "metadata": {},
   "outputs": [
    {
     "data": {
      "text/plain": [
       "dict_keys(['火山災害', '熱帯低気圧', '雪害', '地震', '津波'])"
      ]
     },
     "execution_count": 38,
     "metadata": {},
     "output_type": "execute_result"
    }
   ],
   "source": [
    "subcat_content_pageids.keys()"
   ]
  },
  {
   "cell_type": "code",
   "execution_count": 39,
   "id": "5714a87a-c37c-40e0-b485-0485a6418d18",
   "metadata": {},
   "outputs": [
    {
     "data": {
      "text/plain": [
       "[2, 148, 2, 561, 232]"
      ]
     },
     "execution_count": 39,
     "metadata": {},
     "output_type": "execute_result"
    }
   ],
   "source": [
    "[len(subcat_content_pageids[i]) for i in list(subcat_content_pageids.keys())]"
   ]
  },
  {
   "cell_type": "code",
   "execution_count": 40,
   "id": "3566d9b2-ded4-4e2f-85b6-e584804ba6e2",
   "metadata": {},
   "outputs": [
    {
     "data": {
      "text/plain": [
       "dict_keys([2884010, 3477562])"
      ]
     },
     "execution_count": 40,
     "metadata": {},
     "output_type": "execute_result"
    }
   ],
   "source": [
    "subcat_content_pageids['火山災害'].keys()"
   ]
  },
  {
   "cell_type": "code",
   "execution_count": 41,
   "id": "af14dfab-aeff-44a7-b954-2eb81c0270c9",
   "metadata": {},
   "outputs": [
    {
     "data": {
      "text/plain": [
       "27"
      ]
     },
     "execution_count": 41,
     "metadata": {},
     "output_type": "execute_result"
    }
   ],
   "source": [
    "len(subcat_content_pageids['火山災害'][2884010])"
   ]
  },
  {
   "cell_type": "markdown",
   "id": "2c33387d-4e51-4f11-a7d5-08557c64b364",
   "metadata": {
    "tags": []
   },
   "source": [
    "##### pickle"
   ]
  },
  {
   "cell_type": "raw",
   "id": "5ff78b8c-85ec-4dbf-a729-a0288f871691",
   "metadata": {},
   "source": [
    "with open(processed_path + 'subcat_content_pageids.pickle', 'wb') as f:\n",
    "    pickle.dump(subcat_content_pageids, f)"
   ]
  },
  {
   "cell_type": "markdown",
   "id": "5eddd997-14e1-4b1c-9d42-96d4f3554746",
   "metadata": {
    "tags": []
   },
   "source": [
    "## get annual counts of edits in cats (done for disasters)"
   ]
  },
  {
   "cell_type": "markdown",
   "id": "46aa12d2-0f5d-4b6f-82f2-6f3fdd4bc62e",
   "metadata": {
    "tags": []
   },
   "source": [
    "#### Count edits to pages in 2013"
   ]
  },
  {
   "cell_type": "markdown",
   "id": "afa20f58-ea70-44bb-adde-2127e80081a1",
   "metadata": {
    "tags": []
   },
   "source": [
    "##### get counts (done for disasters - see ```big_cyclone_cats```)"
   ]
  },
  {
   "cell_type": "code",
   "execution_count": 71,
   "id": "2e12492d-4b8f-4cc3-80e0-b32a8912be79",
   "metadata": {},
   "outputs": [],
   "source": [
    "# subcat_edit_counts = {}\n",
    "for disaster in ['地震']: # disaster_subcats:\n",
    "    subcat_edit_counts[disaster] = {}\n",
    "    for subcat in disaster_subcats[disaster].id:\n",
    "        try:\n",
    "            subcat_edit_counts[disaster][subcat] = (\n",
    "                count_edits_within_pagelist_in_dumpfile(\n",
    "                    subcat_content_pageids[disaster][subcat], \n",
    "                    2013\n",
    "                )\n",
    "            )\n",
    "        except:\n",
    "            subcat_edit_counts[disaster][subcat] = None"
   ]
  },
  {
   "cell_type": "markdown",
   "id": "3d4d1530-52ae-40fd-b516-d2a8227087e6",
   "metadata": {
    "tags": []
   },
   "source": [
    "##### peek"
   ]
  },
  {
   "cell_type": "code",
   "execution_count": 73,
   "id": "01717223-6343-454b-b73a-ae79e4b472fb",
   "metadata": {},
   "outputs": [
    {
     "data": {
      "text/plain": [
       "['火山災害', '熱帯低気圧', '雪害', '地震', '津波']"
      ]
     },
     "execution_count": 73,
     "metadata": {},
     "output_type": "execute_result"
    }
   ],
   "source": [
    "list(disaster_subcats.keys())"
   ]
  },
  {
   "cell_type": "code",
   "execution_count": 74,
   "id": "b317612b-7959-42bc-bdbf-7fa9a5e92330",
   "metadata": {},
   "outputs": [
    {
     "data": {
      "text/plain": [
       "['火山災害', '熱帯低気圧', '雪害', '地震', '津波']"
      ]
     },
     "execution_count": 74,
     "metadata": {},
     "output_type": "execute_result"
    }
   ],
   "source": [
    "list(subcat_edit_counts.keys())"
   ]
  },
  {
   "cell_type": "code",
   "execution_count": 75,
   "id": "44aaf030-e23a-4e9e-8422-7931229a0703",
   "metadata": {},
   "outputs": [
    {
     "data": {
      "text/plain": [
       "[2, 148, 2, 561, 232]"
      ]
     },
     "execution_count": 75,
     "metadata": {},
     "output_type": "execute_result"
    }
   ],
   "source": [
    "list(map(lambda x: len(subcat_edit_counts[x]), list(subcat_edit_counts.keys())))"
   ]
  },
  {
   "cell_type": "markdown",
   "id": "1260c8cc-54ff-42b7-bb16-0c11a0f4b641",
   "metadata": {},
   "source": [
    "##### pickle"
   ]
  },
  {
   "cell_type": "raw",
   "id": "244c6614-7eba-45ab-bc45-569a04f40ca3",
   "metadata": {},
   "source": [
    "with open(processed_path + 'subcat_edit_counts.pickle', 'wb') as f:\n",
    "    pickle.dump(subcat_edit_counts, f)"
   ]
  },
  {
   "cell_type": "markdown",
   "id": "d82d40ef-8f8c-4a32-9ed8-71ed3aab30ad",
   "metadata": {
    "tags": []
   },
   "source": [
    "## count edits by-day"
   ]
  },
  {
   "cell_type": "code",
   "execution_count": 48,
   "id": "eeb18359-ce3e-4fe1-b908-6101b335f8e1",
   "metadata": {},
   "outputs": [],
   "source": [
    "df = pd.concat([revcounts_within_page_id(i) for i in big_cyclone_cats], axis=\"columns\").sort_index()\n",
    "df = df.fillna(0)\n",
    "df = df.resample('D').sum().fillna(0)"
   ]
  },
  {
   "cell_type": "code",
   "execution_count": 84,
   "id": "55ad6b7a-9e8c-4836-ac4d-1c812118f005",
   "metadata": {},
   "outputs": [
    {
     "data": {
      "image/png": "[encoded data removed]",
      "text/plain": [
       "<Figure size 1440x432 with 1 Axes>"
      ]
     },
     "metadata": {
      "needs_background": "light"
     },
     "output_type": "display_data"
    }
   ],
   "source": [
    "fig = plt.figure()\n",
    "ax = fig.gca()\n",
    "df.plot(figsize=(20,6), ax=ax)\n",
    "ax.set_title(\"Graph suggests that there's a lot of overlap in these categories.... useless graph!!!\")\n",
    "plt.show()"
   ]
  },
  {
   "cell_type": "markdown",
   "id": "d997bc34-2d46-4c27-a752-73c95ed862cd",
   "metadata": {
    "tags": []
   },
   "source": [
    "### end section"
   ]
  },
  {
   "cell_type": "markdown",
   "id": "3f46bbaf-c5c8-4998-9018-460c648d217b",
   "metadata": {},
   "source": [
    "# END"
   ]
  }
 ],
 "metadata": {
  "kernelspec": {
   "display_name": "Python 3 (ipykernel)",
   "language": "python",
   "name": "python3"
  },
  "language_info": {
   "codemirror_mode": {
    "name": "ipython",
    "version": 3
   },
   "file_extension": ".py",
   "mimetype": "text/x-python",
   "name": "python",
   "nbconvert_exporter": "python",
   "pygments_lexer": "ipython3",
   "version": "3.9.7"
  }
 },
 "nbformat": 4,
 "nbformat_minor": 5
}
