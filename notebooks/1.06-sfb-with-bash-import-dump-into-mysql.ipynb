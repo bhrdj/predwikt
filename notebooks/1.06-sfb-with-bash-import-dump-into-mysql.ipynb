{
 "cells": [
  {
   "cell_type": "markdown",
   "id": "9c648430-cb13-4d88-a4b5-8cb7e464f8e0",
   "metadata": {},
   "source": [
    "# Import enwiki-latest-category.sql into MySQL Server"
   ]
  },
  {
   "cell_type": "markdown",
   "id": "0f3907eb-7b7e-4f17-8c28-fb6a89921d0e",
   "metadata": {
    "jp-MarkdownHeadingCollapsed": true,
    "tags": []
   },
   "source": [
    "## TL;DR"
   ]
  },
  {
   "cell_type": "markdown",
   "id": "f2fb67d5-af03-4cdf-8803-94761c6362cc",
   "metadata": {},
   "source": [
    "- I got the table into MySQL.\n",
    "- Next step: export/import it into PostgreSQL"
   ]
  },
  {
   "cell_type": "markdown",
   "id": "10f1aea4-f1ae-4ce1-9abc-d205e752856c",
   "metadata": {
    "tags": []
   },
   "source": [
    "## BASH and MySQL Commands"
   ]
  },
  {
   "cell_type": "raw",
   "id": "de813cc8-3680-425c-8c4f-6c35feb36e75",
   "metadata": {},
   "source": [
    "---------\n",
    "BASH\n",
    "---------\n",
    "sudo service mysql start\n",
    "mysql --user=root --password=XXXXXXXX\n",
    "\n",
    "---------\n",
    "MySQL\n",
    "---------\n",
    "CREATE DATABASE latest_categ CHARACTER SET utf8 COLLATE utf8_bin;\n",
    "CREATE USER bhrdwj@localhost IDENTIFIED BY 'XXXXXXXX';\n",
    "GRANT ALL PRIVILEGES ON latest_categ.* TO bhrdwj@localhost IDENTIFIED BY 'XXXXXXXX';\n",
    "exit\n",
    "\n",
    "\n",
    "\n",
    "---------\n",
    "BASH\n",
    "---------\n",
    "mysql --user=bhrdwj --password=XXXXXXXX\n",
    "\n",
    "---------\n",
    "MySQL\n",
    "---------\n",
    "USE latest_categ;\n",
    "exit\n",
    "\n",
    "---------\n",
    "BASH\n",
    "---------\n",
    "mysql --user=bhrdwj --password=XXXXX latest_categ < enwiki-latest-category.sql > output.tab\n",
    "\n",
    "---------\n",
    "MySQL\n",
    "---------\n",
    "show tables;\n",
    "show columns from category;\n",
    "select count(*) from category;\n",
    "\n",
    "MariaDB [latest_categ]> show tables;\n",
    "+------------------------+\n",
    "| Tables_in_latest_categ |\n",
    "+------------------------+\n",
    "| category               |\n",
    "+------------------------+\n",
    "1 row in set (0.001 sec)\n",
    "\n",
    "\n",
    "MariaDB [latest_categ]> select count(*) from category;\n",
    "+----------+\n",
    "| count(*) |\n",
    "+----------+\n",
    "|  2209005 |\n",
    "+----------+\n",
    "1 row in set (0.000 sec)\n",
    "\n",
    "\n",
    "MariaDB [latest_categ]> show columns from category;\n",
    "+-------------+------------------+------+-----+---------+----------------+\n",
    "| Field       | Type             | Null | Key | Default | Extra          |\n",
    "+-------------+------------------+------+-----+---------+----------------+\n",
    "| cat_id      | int(10) unsigned | NO   | PRI | NULL    | auto_increment |\n",
    "| cat_title   | varbinary(255)   | NO   | UNI |         |                |\n",
    "| cat_pages   | int(11)          | NO   | MUL | 0       |                |\n",
    "| cat_subcats | int(11)          | NO   |     | 0       |                |\n",
    "| cat_files   | int(11)          | NO   |     | 0       |                |\n",
    "+-------------+------------------+------+-----+---------+----------------+\n",
    "5 rows in set (0.003 sec)\n",
    "\n",
    "\n",
    "MariaDB [latest_categ]> select cat_id, cat_title, cat_subcats from category limit 10;\n",
    "+--------+----------------------------------------------------------+-------------+\n",
    "| cat_id | cat_title                                                | cat_subcats |\n",
    "+--------+----------------------------------------------------------+-------------+\n",
    "|      2 | Unprintworthy_redirects                                  |          20 |\n",
    "|      3 | Computer_storage_devices                                 |          11 |\n",
    "|      7 | Unknown-importance_Animation_articles                    |          22 |\n",
    "|      8 | Low-importance_Animation_articles                        |          22 |\n",
    "|      9 | Vietnam_stubs                                            |          10 |\n",
    "|     10 | Rivers_of_Vietnam                                        |           3 |\n",
    "|     11 | Quang_Binh_Province                                      |           0 |\n",
    "|     12 | All_articles_with_unsourced_statements                   |           0 |\n",
    "|     14 | Wikipedia_articles_needing_clarification                 |         183 |\n",
    "|     15 | Articles_needing_additional_references_from_January_2008 |           0 |\n",
    "+--------+----------------------------------------------------------+-------------+\n",
    "10 rows in set (0.017 sec)\n",
    "\n",
    "\n",
    "---------\n",
    "BASH\n",
    "change user if I need to\n",
    "---------\n",
    "system mysql -u bhrdwj -p"
   ]
  }
 ],
 "metadata": {
  "kernelspec": {
   "display_name": "Python 3 (ipykernel)",
   "language": "python",
   "name": "python3"
  },
  "language_info": {
   "codemirror_mode": {
    "name": "ipython",
    "version": 3
   },
   "file_extension": ".py",
   "mimetype": "text/x-python",
   "name": "python",
   "nbconvert_exporter": "python",
   "pygments_lexer": "ipython3",
   "version": "3.9.7"
  }
 },
 "nbformat": 4,
 "nbformat_minor": 5
}
