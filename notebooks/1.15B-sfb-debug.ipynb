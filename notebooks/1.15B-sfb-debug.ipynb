{
 "cells": [
  {
   "cell_type": "code",
   "execution_count": 1,
   "id": "ab8f76b0-bca7-4fd5-81ef-e80b98acb25e",
   "metadata": {},
   "outputs": [],
   "source": [
    "import os, pandas as pd, numpy as np\n",
    "from datetime import datetime as dt"
   ]
  },
  {
   "cell_type": "code",
   "execution_count": 2,
   "id": "b04a784e-c18d-43e6-bf9a-615ad0bffea3",
   "metadata": {},
   "outputs": [],
   "source": [
    "datapath = '../data/raw/jawiki/dumps_unzipped/'"
   ]
  },
  {
   "cell_type": "code",
   "execution_count": 3,
   "id": "dfbb7d10-6b66-4cec-914f-4a9038280c53",
   "metadata": {},
   "outputs": [],
   "source": [
    "mtdt = pd.read_csv('../references/metadata/history.tsv', sep='\\t')\n",
    "# print(mtdt.col_name.tolist())"
   ]
  },
  {
   "cell_type": "markdown",
   "id": "acd07807-8a90-454a-802b-20d66016b125",
   "metadata": {
    "tags": []
   },
   "source": [
    "### head"
   ]
  },
  {
   "cell_type": "code",
   "execution_count": 4,
   "id": "ff283b84-db02-4577-a4d4-700996ee6d68",
   "metadata": {},
   "outputs": [
    {
     "ename": "FileNotFoundError",
     "evalue": "[Errno 2] No such file or directory: '../data/raw/jawiki/dumps_unzipped/2021-12.jawiki.2013.tsv'",
     "output_type": "error",
     "traceback": [
      "\u001b[0;31m---------------------------------------------------------------------------\u001b[0m",
      "\u001b[0;31mFileNotFoundError\u001b[0m                         Traceback (most recent call last)",
      "\u001b[0;32m/tmp/ipykernel_23131/684402249.py\u001b[0m in \u001b[0;36m<module>\u001b[0;34m\u001b[0m\n\u001b[0;32m----> 1\u001b[0;31m \u001b[0;32mwith\u001b[0m \u001b[0mopen\u001b[0m\u001b[0;34m(\u001b[0m\u001b[0mdatapath\u001b[0m\u001b[0;34m+\u001b[0m\u001b[0;34m'2021-12.jawiki.2013.tsv'\u001b[0m\u001b[0;34m,\u001b[0m \u001b[0;34m'r'\u001b[0m\u001b[0;34m)\u001b[0m \u001b[0;32mas\u001b[0m \u001b[0mfile\u001b[0m\u001b[0;34m:\u001b[0m\u001b[0;34m\u001b[0m\u001b[0;34m\u001b[0m\u001b[0m\n\u001b[0m\u001b[1;32m      2\u001b[0m     \u001b[0;32mfor\u001b[0m \u001b[0mi\u001b[0m \u001b[0;32min\u001b[0m \u001b[0mrange\u001b[0m\u001b[0;34m(\u001b[0m\u001b[0;36m3\u001b[0m\u001b[0;34m)\u001b[0m\u001b[0;34m:\u001b[0m\u001b[0;34m\u001b[0m\u001b[0;34m\u001b[0m\u001b[0m\n\u001b[1;32m      3\u001b[0m         \u001b[0mprint\u001b[0m\u001b[0;34m(\u001b[0m\u001b[0mfile\u001b[0m\u001b[0;34m.\u001b[0m\u001b[0mreadline\u001b[0m\u001b[0;34m(\u001b[0m\u001b[0;34m)\u001b[0m\u001b[0;34m)\u001b[0m\u001b[0;34m\u001b[0m\u001b[0;34m\u001b[0m\u001b[0m\n",
      "\u001b[0;31mFileNotFoundError\u001b[0m: [Errno 2] No such file or directory: '../data/raw/jawiki/dumps_unzipped/2021-12.jawiki.2013.tsv'"
     ]
    }
   ],
   "source": [
    "with open(datapath+'2021-12.jawiki.2013.tsv', 'r') as file:\n",
    "    for i in range(3):\n",
    "        print(file.readline())"
   ]
  },
  {
   "cell_type": "markdown",
   "id": "ece31a42-c8bf-405e-8533-f36452f48bcb",
   "metadata": {
    "tags": []
   },
   "source": [
    "### split file so I can run csvsql to generate schema"
   ]
  },
  {
   "cell_type": "markdown",
   "id": "23c2cb9c-03a6-4953-84e7-4f1af1ef5e88",
   "metadata": {
    "tags": []
   },
   "source": [
    "#### copy 500 rows of the tsv"
   ]
  },
  {
   "cell_type": "code",
   "execution_count": 7,
   "id": "907abef6-5e68-47f1-a805-247729d0c0a9",
   "metadata": {},
   "outputs": [
    {
     "name": "stdout",
     "output_type": "stream",
     "text": [
      "3\n"
     ]
    }
   ],
   "source": [
    "ct = 0\n",
    "with open(datapath+'2021-12.jawiki.2013.tsv', 'r') as infile:\n",
    "    with open('/home/bhrdwj/git/predwikt/data/processed/scratch_for_schema.tsv', 'w+') as outfile:\n",
    "        while ct < 3: #5*10**2:\n",
    "            outfile.write(infile.readline())\n",
    "            ct += 1\n",
    "print(ct)"
   ]
  },
  {
   "cell_type": "markdown",
   "id": "28b20987-1f83-4537-ac95-8f7833c60f4f",
   "metadata": {
    "tags": []
   },
   "source": [
    "#### confirm the rows were copied"
   ]
  },
  {
   "cell_type": "code",
   "execution_count": 8,
   "id": "33745bfb-3a20-4eb1-922a-a33eaefc11f8",
   "metadata": {},
   "outputs": [
    {
     "name": "stdout",
     "output_type": "stream",
     "text": [
      "3\n"
     ]
    }
   ],
   "source": [
    "ct = 0\n",
    "with open('/home/bhrdwj/git/predwikt/data/processed/scratch_for_schema.tsv', 'r') as file:\n",
    "    for line in file:\n",
    "        ct += 1\n",
    "print(ct)"
   ]
  },
  {
   "cell_type": "markdown",
   "id": "19ca8d95-c98b-4414-b66c-bd8ca53c17fb",
   "metadata": {
    "tags": []
   },
   "source": [
    "#### hand-edited query"
   ]
  },
  {
   "cell_type": "code",
   "execution_count": 35,
   "id": "95898c25-3542-4128-b1e5-2204ae2ffaf9",
   "metadata": {},
   "outputs": [],
   "source": [
    "make_history_table = \"\"\"\n",
    "CREATE TABLE ja_hist ( \n",
    "wiki_db VARCHAR(20) NOT NULL,\n",
    "event_entity VARCHAR(20) NOT NULL,\n",
    "event_type VARCHAR(20) NOT NULL,\n",
    "event_timestamp VARCHAR(30) NOT NULL,\n",
    "event_comment TEXT,\n",
    "event_user_id BIGINT,\n",
    "event_user_text_historical VARCHAR(80),\n",
    "event_user_text VARCHAR(80),\n",
    "event_user_blocks_historical VARCHAR(30),\n",
    "event_user_blocks VARCHAR(60),\n",
    "event_user_groups_historical VARCHAR(60),\n",
    "event_user_groups VARCHAR(200),\n",
    "event_user_is_bot_by_historical VARCHAR(10),\n",
    "event_user_is_bot_by VARCHAR(10),\n",
    "event_user_is_created_by_self BOOL,\n",
    "event_user_is_created_by_system BOOL,\n",
    "event_user_is_created_by_peer BOOL,\n",
    "event_user_is_anonymous BOOL,\n",
    "event_user_registration_timestamp VARCHAR(30),\n",
    "event_user_creation_timestamp VARCHAR(30),\n",
    "event_user_first_edit_timestamp VARCHAR(30),\n",
    "event_user_revision_count BIGINT,\n",
    "event_user_seconds_since_previous_revision BIGINT,\n",
    "page_id BIGINT,\n",
    "page_title_historical VARCHAR(200),\n",
    "page_title VARCHAR(200),\n",
    "page_namespace_historical INT,\n",
    "page_namespace_is_content_historical BOOL,\n",
    "page_namespace INT,\n",
    "page_namespace_is_content BOOL,\n",
    "page_is_redirect BOOL,\n",
    "page_is_deleted BOOL,\n",
    "page_creation_timestamp VARCHAR(30),\n",
    "page_first_edit_timestamp VARCHAR(30),\n",
    "page_revision_count BIGINT,\n",
    "page_seconds_since_previous_revision BIGINT,\n",
    "user_id BIGINT,\n",
    "user_text_historical VARCHAR(100),\n",
    "user_text VARCHAR(100),\n",
    "user_blocks_historical VARCHAR(50),\n",
    "user_blocks VARCHAR(50),\n",
    "user_groups_historical VARCHAR(50),\n",
    "user_groups VARCHAR(50),\n",
    "user_is_bot_by_historical VARCHAR(50),\n",
    "user_is_bot_by VARCHAR(50),\n",
    "user_is_created_by_self BOOL,\n",
    "user_is_created_by_system BOOL,\n",
    "user_is_created_by_peer BOOL,\n",
    "user_is_anonymous BOOL,\n",
    "user_registration_timestamp VARCHAR(30),\n",
    "user_creation_timestamp VARCHAR(30),\n",
    "user_first_edit_timestamp VARCHAR(30),\n",
    "revision_id BIGINT,\n",
    "revision_parent_id BIGINT,\n",
    "revision_minor_edit BOOL,\n",
    "revision_deleted_parts VARCHAR(30),\n",
    "revision_deleted_parts_are_suppressed BOOL,\n",
    "revision_text_bytes BIGINT,\n",
    "revision_text_bytes_diff BIGINT,\n",
    "revision_text_sha1 VARCHAR(50),\n",
    "revision_content_model BOOL,\n",
    "revision_content_format BOOL,\n",
    "revision_is_deleted_by_page_deletion BOOL,\n",
    "revision_deleted_by_page_deletion_timestamp VARCHAR(30),\n",
    "revision_is_identity_reverted BOOL,\n",
    "revision_first_identity_reverting_revision_id BIGINT,\n",
    "revision_seconds_to_identity_revert BIGINT,\n",
    "revision_is_identity_revert BOOL,\n",
    "revision_is_from_before_page_creation BOOL,\n",
    "revision_tags VARCHAR(50),\n",
    "row_id BIGINT NOT NULL AUTO_INCREMENT,\n",
    "PRIMARY KEY (row_id)\n",
    ");\n",
    "\"\"\""
   ]
  },
  {
   "cell_type": "markdown",
   "id": "e1baac9b-51bf-40db-bded-4f3df34f18cf",
   "metadata": {},
   "source": [
    "#### simpler table"
   ]
  },
  {
   "cell_type": "raw",
   "id": "d175b536-962b-4507-a8a6-8d79b0444d38",
   "metadata": {},
   "source": [
    "make_history_table = \"\"\"\n",
    "CREATE TABLE IF NOT EXISTS ja_hist (\n",
    "    task_id INT AUTO_INCREMENT PRIMARY KEY,\n",
    "    title VARCHAR(255) NOT NULL,\n",
    ")  \n",
    "\"\"\"\n",
    "\n",
    "\n",
    "    # start_date DATE,\n",
    "    # due_date DATE,\n",
    "    # status TINYINT NOT NULL,\n",
    "    # priority TINYINT NOT NULL,\n",
    "    # description TEXT,\n",
    "    # created_at TIMESTAMP DEFAULT CURRENT_TIMESTAMP\n",
    "\n",
    "    # ENGINE=INNODB;"
   ]
  },
  {
   "cell_type": "markdown",
   "id": "9075eb53-48ca-4789-841b-2c0758b35f09",
   "metadata": {},
   "source": [
    "### create table ja_hist"
   ]
  },
  {
   "cell_type": "markdown",
   "id": "e60c666b-dba5-4df2-baad-ac807dbf34f5",
   "metadata": {},
   "source": [
    "#### imports, login"
   ]
  },
  {
   "cell_type": "code",
   "execution_count": 36,
   "id": "9c8835b6-1b89-4fc4-a5e7-288b03f0529f",
   "metadata": {},
   "outputs": [],
   "source": [
    "import mysql.connector as mysql\n",
    "import sqlalchemy"
   ]
  },
  {
   "cell_type": "markdown",
   "id": "cc3355f6-011c-48ee-8f6f-de528a365ad9",
   "metadata": {},
   "source": [
    "```bash\n",
    "mysql --user=root --password=XXXXXXXX\n",
    "```\n",
    "\n",
    "```sql\n",
    "CREATE DATABASE ja_hist CHARACTER SET utf8 COLLATE utf8_bin;\n",
    "USE ja_wiki;\n",
    "GRANT ALL PRIVILEGES ON ja_hist TO bhrdwj@localhost IDENTIFIED BY XXXXXXX;\n",
    "GRANT ALL PRIVILEGES ON ja_hist.* TO bhrdwj@localhost IDENTIFIED BY XXXXXXX;\n",
    "EXIT\n",
    "```"
   ]
  },
  {
   "cell_type": "code",
   "execution_count": 14,
   "id": "3af3a215-2d80-4bc0-9395-70fea8e1cad2",
   "metadata": {},
   "outputs": [],
   "source": [
    "mysql_superuser = 'root'\n",
    "# mysql_su_pass = input(f'Enter the MySQL password for user {mysql_superuser}: ')"
   ]
  },
  {
   "cell_type": "markdown",
   "id": "36a34ba0-3017-41c3-9dcd-01eef49acc38",
   "metadata": {},
   "source": [
    "#### connect to database"
   ]
  },
  {
   "cell_type": "code",
   "execution_count": 37,
   "id": "c82fbefe-1c73-4cf0-9587-e6a9ebdb1e6b",
   "metadata": {},
   "outputs": [
    {
     "data": {
      "text/plain": [
       "dict_keys(['ja_hist'])"
      ]
     },
     "execution_count": 37,
     "metadata": {},
     "output_type": "execute_result"
    }
   ],
   "source": [
    "host='localhost'; user=mysql_superuser; passwd=mysql_su_pass; dbname='ja_hist';\n",
    "cxn = mysql.connect(host=host,user=user,passwd=passwd, database=dbname)\n",
    "cur = cxn.cursor()\n",
    "\n",
    "connection_str = 'mysql+mysqlconnector://'+user+':'+passwd+'@'+host+'/'+dbname  # removed this after host +':'+dbport\n",
    "try:\n",
    "    engine1 = sqlalchemy.create_engine(connection_str)\n",
    "    conn1 = engine1.connect()\n",
    "except:\n",
    "    print('Database connection error - check creds')\n",
    "metadata = sqlalchemy.MetaData(conn1)\n",
    "metadata.reflect()\n",
    "metadata.tables.keys()"
   ]
  },
  {
   "cell_type": "markdown",
   "id": "9a19a422-6df0-4970-a5fd-61a4a4690fee",
   "metadata": {},
   "source": [
    "#### create table with schema"
   ]
  },
  {
   "cell_type": "code",
   "execution_count": 38,
   "id": "bbdf0cbc-03f2-4c7d-9410-075a6d59290e",
   "metadata": {},
   "outputs": [
    {
     "data": {
      "text/plain": [
       "<sqlalchemy.engine.cursor.LegacyCursorResult at 0x7f7456e72670>"
      ]
     },
     "execution_count": 38,
     "metadata": {},
     "output_type": "execute_result"
    }
   ],
   "source": [
    "conn1.execute('DROP TABLE IF EXISTS ja_hist;')\n",
    "conn1.execute(make_history_table)"
   ]
  },
  {
   "cell_type": "code",
   "execution_count": 41,
   "id": "deda86d9-8051-419b-9cd8-2aa0e2d32c16",
   "metadata": {},
   "outputs": [],
   "source": [
    "a = conn1.execute('describe ja_hist;')\n",
    "a.all();"
   ]
  },
  {
   "cell_type": "markdown",
   "id": "279232b5-5f35-4d48-a248-4dafcb3663d6",
   "metadata": {},
   "source": [
    "### insert data"
   ]
  },
  {
   "cell_type": "markdown",
   "id": "295e46d8-e344-41da-9104-922455a59559",
   "metadata": {},
   "source": [
    "Reference: ([link](https://mariadb.com/kb/en/load-data-infile/))  \n",
    "```sql\n",
    "LOAD DATA INFILE 'ld.txt' INTO TABLE ld (@i,v) SET i=@i*2;\n",
    "```"
   ]
  },
  {
   "cell_type": "code",
   "execution_count": 44,
   "id": "552b4cbe-3aa2-48b4-96a2-05f4fcf85370",
   "metadata": {},
   "outputs": [],
   "source": [
    "load_data_sql = \"\"\"\n",
    "LOAD DATA LOCAL INFILE '/home/bhrdwj/git/predwikt/data/raw/jawiki/dumps_unzipped/2021-12.jawiki.2013.tsv'\n",
    "INTO TABLE ja_hist \n",
    "CHARACTER SET utf8mb4\n",
    "FIELDS TERMINATED BY \"\\t\";\n",
    "\"\"\""
   ]
  },
  {
   "cell_type": "raw",
   "id": "2f35f7fa-cfe1-487f-973a-5b80eb923e84",
   "metadata": {},
   "source": [
    "load_data_sql = \"\"\"\n",
    "LOAD DATA LOCAL INFILE '/home/bhrdwj/git/predwikt/data/processed/scratch_for_schema.tsv'\n",
    "INTO TABLE ja_hist \n",
    "CHARACTER SET utf8mb4\n",
    "FIELDS TERMINATED BY \"\\t\";\n",
    "\"\"\""
   ]
  },
  {
   "cell_type": "code",
   "execution_count": 45,
   "id": "0e1bfd55-d2a4-42ee-b268-329a3ed543f4",
   "metadata": {},
   "outputs": [
    {
     "data": {
      "text/plain": [
       "<sqlalchemy.engine.cursor.LegacyCursorResult at 0x7f74574fed90>"
      ]
     },
     "execution_count": 45,
     "metadata": {},
     "output_type": "execute_result"
    }
   ],
   "source": [
    "conn1.execute(load_data_sql)"
   ]
  },
  {
   "cell_type": "markdown",
   "id": "fa3f39d4-18b5-4944-9b9a-59bf8e422c58",
   "metadata": {},
   "source": [
    "START 19:24PM"
   ]
  },
  {
   "cell_type": "code",
   "execution_count": 46,
   "id": "07efe20d-3c05-4a18-b6f4-7be17587dd50",
   "metadata": {},
   "outputs": [
    {
     "name": "stdout",
     "output_type": "stream",
     "text": [
      "2022-01-09 16:01:32.096460\n",
      "   count(*)\n",
      "0         0\n",
      "2022-01-09 16:01:35.371606\n"
     ]
    }
   ],
   "source": [
    "tblname='ja_hist'\n",
    "sql_eda2 = f'select count(*) from {tblname};'\n",
    "print(dt.now())\n",
    "sql_rows = pd.read_sql(sql_eda2,engine1)\n",
    "print(sql_rows)\n",
    "print(dt.now())"
   ]
  },
  {
   "cell_type": "code",
   "execution_count": 30,
   "id": "7d59a5ce-4174-42f5-a87f-b3bc7f39140a",
   "metadata": {},
   "outputs": [
    {
     "data": {
      "text/plain": [
       "[]"
      ]
     },
     "execution_count": 30,
     "metadata": {},
     "output_type": "execute_result"
    }
   ],
   "source": [
    "a = conn1.execute('select * from ja_hist;')\n",
    "a.fetchall()"
   ]
  },
  {
   "cell_type": "code",
   "execution_count": null,
   "id": "83fbcc14-9390-4ac0-85d3-95f66a2c103d",
   "metadata": {},
   "outputs": [],
   "source": [
    "conn1.execute('insert ')"
   ]
  },
  {
   "cell_type": "code",
   "execution_count": null,
   "id": "a05e45b0-f42b-41d4-81b1-e703955ea44c",
   "metadata": {},
   "outputs": [],
   "source": []
  }
 ],
 "metadata": {
  "kernelspec": {
   "display_name": "Python 3 (ipykernel)",
   "language": "python",
   "name": "python3"
  },
  "language_info": {
   "codemirror_mode": {
    "name": "ipython",
    "version": 3
   },
   "file_extension": ".py",
   "mimetype": "text/x-python",
   "name": "python",
   "nbconvert_exporter": "python",
   "pygments_lexer": "ipython3",
   "version": "3.9.7"
  }
 },
 "nbformat": 4,
 "nbformat_minor": 5
}
