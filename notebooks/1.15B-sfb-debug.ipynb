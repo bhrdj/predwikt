{
 "cells": [
  {
   "cell_type": "markdown",
   "id": "abd523b4-41da-4912-96a4-4a8830a1f414",
   "metadata": {},
   "source": [
    "# event tables: dumps to sql"
   ]
  },
  {
   "cell_type": "markdown",
   "id": "c8d024b3-4354-4d0d-81f3-f21b7e830334",
   "metadata": {
    "tags": []
   },
   "source": [
    "## intro"
   ]
  },
  {
   "cell_type": "markdown",
   "id": "9f6a9107-de51-4fca-9221-f57be6e2a35c",
   "metadata": {
    "tags": []
   },
   "source": [
    "### imports"
   ]
  },
  {
   "cell_type": "code",
   "execution_count": 5,
   "id": "ab8f76b0-bca7-4fd5-81ef-e80b98acb25e",
   "metadata": {},
   "outputs": [],
   "source": [
    "import os, pandas as pd, numpy as np\n",
    "import pyperclip\n",
    "from datetime import datetime as dt\n",
    "\n",
    "import mysql.connector as mysql\n",
    "import sqlalchemy"
   ]
  },
  {
   "cell_type": "code",
   "execution_count": 2,
   "id": "b04a784e-c18d-43e6-bf9a-615ad0bffea3",
   "metadata": {},
   "outputs": [],
   "source": [
    "datapath = '../data/raw/jawiki/dumps_unzipped/'"
   ]
  },
  {
   "cell_type": "markdown",
   "id": "acd07807-8a90-454a-802b-20d66016b125",
   "metadata": {
    "jp-MarkdownHeadingCollapsed": true,
    "tags": []
   },
   "source": [
    "### head, metadata"
   ]
  },
  {
   "cell_type": "raw",
   "id": "f1bfa5f7-5b84-44cd-841b-c66539791cb0",
   "metadata": {},
   "source": [
    "mtdt = pd.read_csv('../references/metadata/history.tsv', sep='\\t')\n",
    "# print(mtdt.col_name.tolist())"
   ]
  },
  {
   "cell_type": "raw",
   "id": "d9e0d57a-e89e-4421-ad8b-40cfdcd49ba7",
   "metadata": {},
   "source": [
    "with open(datapath+'2021-12.jawiki.2013.tsv', 'r') as file:\n",
    "    for i in range(3):\n",
    "        print(file.readline())"
   ]
  },
  {
   "cell_type": "markdown",
   "id": "c51a14b2-0c03-434f-80e9-47e25c72f2fd",
   "metadata": {
    "jp-MarkdownHeadingCollapsed": true,
    "tags": []
   },
   "source": [
    "### notes"
   ]
  },
  {
   "cell_type": "markdown",
   "id": "1f5d35d6-e8d2-4a06-96f3-ee6c7bd6aa87",
   "metadata": {},
   "source": [
    "References:\n",
    "- load data infile ([link](https://mariadb.com/kb/en/load-data-infile/))  \n",
    "- fix an error stopping load data infile ([link 2](https://stackoverflow.com/questions/18437689/error-1148-the-used-command-is-not-allowed-with-this-mysql-version))\n",
    "- set case ([link](https://stackoverflow.com/questions/58626827/how-can-i-set-mysql-loaded-table-items-in-a-column-using-a-case-when-statement))\n",
    "- straightforward example ([link](https://stackoverflow.com/questions/12530971/mysql-multiple-set-on-load-data-infile))"
   ]
  },
  {
   "cell_type": "markdown",
   "id": "ece31a42-c8bf-405e-8533-f36452f48bcb",
   "metadata": {
    "jp-MarkdownHeadingCollapsed": true,
    "tags": []
   },
   "source": [
    "### EDA and learning proccess"
   ]
  },
  {
   "cell_type": "markdown",
   "id": "3b275f48-e1bb-40fe-afbf-5836608176a5",
   "metadata": {},
   "source": [
    "split file so I can run csvsql to generate schema for debugging (inactive)"
   ]
  },
  {
   "cell_type": "markdown",
   "id": "23c2cb9c-03a6-4953-84e7-4f1af1ef5e88",
   "metadata": {
    "jp-MarkdownHeadingCollapsed": true,
    "tags": []
   },
   "source": [
    "#### copy 500 rows of the tsv"
   ]
  },
  {
   "cell_type": "raw",
   "id": "37117df5-23ae-40f5-8f53-dfceb7f29085",
   "metadata": {},
   "source": [
    "ct = 0\n",
    "with open(datapath+'2021-12.jawiki.2013.tsv', 'r') as infile:\n",
    "    with open('/home/bhrdwj/git/predwikt/data/processed/scratch_for_schema.tsv', 'w+') as outfile:\n",
    "        while ct < 3: #5*10**2:\n",
    "            outfile.write(infile.readline())\n",
    "            ct += 1\n",
    "print(ct)"
   ]
  },
  {
   "cell_type": "markdown",
   "id": "28b20987-1f83-4537-ac95-8f7833c60f4f",
   "metadata": {
    "jp-MarkdownHeadingCollapsed": true,
    "tags": []
   },
   "source": [
    "#### confirm the rows were copied"
   ]
  },
  {
   "cell_type": "raw",
   "id": "9b46141d-7833-48b9-9967-c45f914bcccb",
   "metadata": {},
   "source": [
    "ct = 0\n",
    "with open('/home/bhrdwj/git/predwikt/data/processed/scratch_for_schema.tsv', 'r') as file:\n",
    "    for line in file:\n",
    "        ct += 1\n",
    "print(ct)"
   ]
  },
  {
   "cell_type": "markdown",
   "id": "1c994fe2-fbcb-4119-9c07-2716f044051a",
   "metadata": {
    "jp-MarkdownHeadingCollapsed": true,
    "tags": []
   },
   "source": [
    "#### hand-edited query (1st draft) CREATE TABLE"
   ]
  },
  {
   "cell_type": "markdown",
   "id": "f3b097cf-8835-40d0-a854-589600db1034",
   "metadata": {
    "jp-MarkdownHeadingCollapsed": true,
    "tags": []
   },
   "source": [
    "##### before editing"
   ]
  },
  {
   "cell_type": "raw",
   "id": "bb9770c1-25e8-4761-ac65-a54396d3aa5d",
   "metadata": {},
   "source": [
    "# make_history_table = \"\"\"\n",
    "# CREATE TABLE ja_hist ( \n",
    "# wiki_db VARCHAR(20) NOT NULL,\n",
    "# event_entity VARCHAR(20) NOT NULL,\n",
    "# event_type VARCHAR(20) NOT NULL,\n",
    "# event_timestamp VARCHAR(30) NOT NULL,\n",
    "# event_comment TEXT,\n",
    "# event_user_id BIGINT,\n",
    "# event_user_text_historical VARCHAR(80),\n",
    "# event_user_text VARCHAR(80),\n",
    "# event_user_blocks_historical VARCHAR(30),\n",
    "# event_user_blocks VARCHAR(60),\n",
    "# event_user_groups_historical VARCHAR(60),\n",
    "# event_user_groups VARCHAR(200),\n",
    "# event_user_is_bot_by_historical VARCHAR(10),\n",
    "# event_user_is_bot_by VARCHAR(10),\n",
    "# event_user_is_created_by_self VARCHAR(10) BOOL,\n",
    "# event_user_is_created_by_system VARCHAR(10) BOOL,\n",
    "# event_user_is_created_by_peer VARCHAR(10) BOOL,\n",
    "# event_user_is_anonymous VARCHAR(10) BOOL,\n",
    "# event_user_registration_timestamp VARCHAR(30),\n",
    "# event_user_creation_timestamp VARCHAR(30),\n",
    "# event_user_first_edit_timestamp VARCHAR(30),\n",
    "# event_user_revision_count BIGINT,\n",
    "# event_user_seconds_since_previous_revision BIGINT,\n",
    "# page_id BIGINT,\n",
    "# page_title_historical VARCHAR(200),\n",
    "# page_title VARCHAR(200),\n",
    "# page_namespace_historical INT,\n",
    "# page_namespace_is_content_historical BOOL,\n",
    "# page_namespace INT,\n",
    "# page_namespace_is_content BOOL,\n",
    "# page_is_redirect BOOL,\n",
    "# page_is_deleted BOOL,\n",
    "# page_creation_timestamp VARCHAR(30),\n",
    "# page_first_edit_timestamp VARCHAR(30),\n",
    "# page_revision_count BIGINT,\n",
    "# page_seconds_since_previous_revision BIGINT,\n",
    "# user_id BIGINT,\n",
    "# user_text_historical VARCHAR(100),\n",
    "# user_text VARCHAR(100),\n",
    "# user_blocks_historical VARCHAR(50),\n",
    "# user_blocks VARCHAR(50),\n",
    "# user_groups_historical VARCHAR(50),\n",
    "# user_groups VARCHAR(50),\n",
    "# user_is_bot_by_historical VARCHAR(50),\n",
    "# user_is_bot_by VARCHAR(50),\n",
    "# user_is_created_by_self BOOL,\n",
    "# user_is_created_by_system BOOL,\n",
    "# user_is_created_by_peer BOOL,\n",
    "# user_is_anonymous BOOL,\n",
    "# user_registration_timestamp VARCHAR(30),\n",
    "# user_creation_timestamp VARCHAR(30),\n",
    "# user_first_edit_timestamp VARCHAR(30),\n",
    "# revision_id BIGINT,\n",
    "# revision_parent_id BIGINT,\n",
    "# revision_minor_edit BOOL,\n",
    "# revision_deleted_parts VARCHAR(30),\n",
    "# revision_deleted_parts_are_suppressed BOOL,\n",
    "# revision_text_bytes BIGINT,\n",
    "# revision_text_bytes_diff BIGINT,\n",
    "# revision_text_sha1 VARCHAR(50),\n",
    "# revision_content_model BOOL,\n",
    "# revision_content_format BOOL,\n",
    "# revision_is_deleted_by_page_deletion BOOL,\n",
    "# revision_deleted_by_page_deletion_timestamp VARCHAR(30),\n",
    "# revision_is_identity_reverted BOOL,\n",
    "# revision_first_identity_reverting_revision_id BIGINT,\n",
    "# revision_seconds_to_identity_revert BIGINT,\n",
    "# revision_is_identity_revert BOOL,\n",
    "# revision_is_from_before_page_creation BOOL,\n",
    "# revision_tags VARCHAR(50),\n",
    "# row_id BIGINT NOT NULL AUTO_INCREMENT,\n",
    "# PRIMARY KEY (row_id)\n",
    "# );\n",
    "# \"\"\""
   ]
  },
  {
   "cell_type": "markdown",
   "id": "673081cf-c9ff-4672-b9ec-718bf4a11129",
   "metadata": {
    "jp-MarkdownHeadingCollapsed": true,
    "tags": []
   },
   "source": [
    "#### hand-edited query (2nd draft) CREATE TABLE"
   ]
  },
  {
   "cell_type": "raw",
   "id": "caf0a5ca-12f6-47f8-a50f-7a07ea558c03",
   "metadata": {},
   "source": [
    "make_history_table = \"\"\"\n",
    "CREATE TABLE ja_hist ( \n",
    "wiki_db VARCHAR(20) NOT NULL,\n",
    "event_entity VARCHAR(20) NOT NULL,\n",
    "event_type VARCHAR(20) NOT NULL,\n",
    "event_timestamp VARCHAR(30) NOT NULL,\n",
    "event_comment TEXT,\n",
    "event_user_id BIGINT,\n",
    "event_user_text_historical TEXT,\n",
    "event_user_text TEXT,\n",
    "event_user_blocks_historical VARCHAR(30),\n",
    "event_user_blocks VARCHAR(60),\n",
    "event_user_groups_historical TEXT,\n",
    "event_user_groups TEXT,\n",
    "event_user_is_bot_by_historical VARCHAR(10),\n",
    "event_user_is_bot_by VARCHAR(10),\n",
    "event_user_is_created_by_self VARCHAR(10), # BOOL,\n",
    "event_user_is_created_by_system VARCHAR(10), # BOOL,\n",
    "event_user_is_created_by_peer VARCHAR(10), # BOOL,\n",
    "event_user_is_anonymous VARCHAR(10), # BOOL,\n",
    "event_user_registration_timestamp VARCHAR(30),\n",
    "event_user_creation_timestamp VARCHAR(30),\n",
    "event_user_first_edit_timestamp VARCHAR(30),\n",
    "event_user_revision_count BIGINT,\n",
    "event_user_seconds_since_previous_revision BIGINT,\n",
    "page_id BIGINT,\n",
    "page_title_historical VARCHAR(200),\n",
    "page_title VARCHAR(200),\n",
    "page_namespace_historical INT,\n",
    "page_namespace_is_content_historical VARCHAR(10), # BOOL,\n",
    "page_namespace INT,\n",
    "page_namespace_is_content VARCHAR(10), # BOOL,\n",
    "page_is_redirect VARCHAR(20), # BOOL,\n",
    "page_is_deleted VARCHAR(20), # BOOL,\n",
    "page_creation_timestamp VARCHAR(30),\n",
    "page_first_edit_timestamp VARCHAR(30),\n",
    "page_revision_count BIGINT,\n",
    "page_seconds_since_previous_revision BIGINT,\n",
    "user_id BIGINT,\n",
    "user_text_historical VARCHAR(100),\n",
    "user_text VARCHAR(100),\n",
    "user_blocks_historical VARCHAR(50),\n",
    "user_blocks VARCHAR(50),\n",
    "user_groups_historical VARCHAR(50),\n",
    "user_groups VARCHAR(50),\n",
    "user_is_bot_by_historical VARCHAR(50),\n",
    "user_is_bot_by VARCHAR(50),\n",
    "user_is_created_by_self VARCHAR(50), # BOOL,\n",
    "user_is_created_by_system VARCHAR(50), # BOOL,\n",
    "user_is_created_by_peer VARCHAR(50), # BOOL,\n",
    "user_is_anonymous VARCHAR(10), # BOOL,\n",
    "user_registration_timestamp VARCHAR(30),\n",
    "user_creation_timestamp VARCHAR(30),\n",
    "user_first_edit_timestamp VARCHAR(30),\n",
    "revision_id BIGINT,\n",
    "revision_parent_id BIGINT,\n",
    "revision_minor_edit VARCHAR(10), # BOOL,\n",
    "revision_deleted_parts VARCHAR(30),\n",
    "revision_deleted_parts_are_suppressed VARCHAR(10), # BOOL,\n",
    "revision_text_bytes BIGINT,\n",
    "revision_text_bytes_diff BIGINT,\n",
    "revision_text_sha1 VARCHAR(50),\n",
    "revision_content_model VARCHAR(10), # BOOL,\n",
    "revision_content_format VARCHAR(10), # BOOL,\n",
    "revision_is_deleted_by_page_deletion VARCHAR(10), # BOOL,\n",
    "revision_deleted_by_page_deletion_timestamp VARCHAR(30),\n",
    "revision_is_identity_reverted VARCHAR(10), # BOOL,\n",
    "revision_first_identity_reverting_revision_id BIGINT,\n",
    "revision_seconds_to_identity_revert BIGINT,\n",
    "revision_is_identity_revert VARCHAR(10), # BOOL,\n",
    "revision_is_from_before_page_creation VARCHAR(10), # BOOL,\n",
    "revision_tags VARCHAR(50),\n",
    "dumpfile_row_id BIGINT NOT NULL AUTO_INCREMENT,\n",
    "row_id BIGINT NOT NULL AUTO_INCREMENT,\n",
    "\n",
    "PRIMARY KEY (row_id)\n",
    ");\n",
    "\"\"\""
   ]
  },
  {
   "cell_type": "markdown",
   "id": "6546f2e5-7c23-43a7-8b06-b1dd77c698d5",
   "metadata": {
    "jp-MarkdownHeadingCollapsed": true,
    "tags": []
   },
   "source": [
    "#### simpler csv for debugging"
   ]
  },
  {
   "cell_type": "raw",
   "id": "0041d27d-2617-4b40-9bb2-da0cece6a250",
   "metadata": {},
   "source": [
    "with open(datapath + '2021-12.jawiki.2013.tsv', 'r') as f:\n",
    "    simple_csv = f.readlines(1000000)\n",
    "\n",
    "simple_csv = ''.join(simple_csv)\n",
    "simple_csv_path = '/home/bhrdwj/git/predwikt/data/processed/jawiki_2013_simple.tsv'\n",
    "\n",
    "with open(simple_csv_path, 'w+') as f:\n",
    "    f.write(''.join(simple_csv))\n",
    "\n",
    "del simple_csv"
   ]
  },
  {
   "cell_type": "code",
   "execution_count": null,
   "id": "966d097a-6c5c-4ab7-817b-7dcfdea8c11c",
   "metadata": {},
   "outputs": [],
   "source": [
    "# pd.read_csv('../data/processed/jawiki_2013_simple.tsv', sep='\\t')"
   ]
  },
  {
   "cell_type": "markdown",
   "id": "9075eb53-48ca-4789-841b-2c0758b35f09",
   "metadata": {
    "tags": []
   },
   "source": [
    "## create table ja_hist"
   ]
  },
  {
   "cell_type": "markdown",
   "id": "e60c666b-dba5-4df2-baad-ac807dbf34f5",
   "metadata": {
    "tags": []
   },
   "source": [
    "#### login"
   ]
  },
  {
   "cell_type": "markdown",
   "id": "cc3355f6-011c-48ee-8f6f-de528a365ad9",
   "metadata": {},
   "source": [
    "```bash\n",
    "mysql --user=root --password=XXXXXXXX\n",
    "```\n",
    "\n",
    "```sql\n",
    "CREATE DATABASE ja_hist CHARACTER SET utf8 COLLATE utf8_bin;\n",
    "USE ja_wiki;\n",
    "GRANT ALL PRIVILEGES ON ja_hist TO bhrdwj@localhost IDENTIFIED BY XXXXXXX;\n",
    "GRANT ALL PRIVILEGES ON ja_hist.* TO bhrdwj@localhost IDENTIFIED BY XXXXXXX;\n",
    "EXIT\n",
    "```"
   ]
  },
  {
   "cell_type": "markdown",
   "id": "6157d1e5-c336-4071-a115-c0af98ed42f2",
   "metadata": {},
   "source": [
    "#### edit mariadb.cnf"
   ]
  },
  {
   "cell_type": "markdown",
   "id": "7bee1137-82b7-4edb-819d-5e5702680793",
   "metadata": {},
   "source": [
    "peek at ```/etc/mysql/mariadb.cnf```   \n",
    "utf8 stuff (uncomment the lines)"
   ]
  },
  {
   "cell_type": "markdown",
   "id": "6f85f8af-018b-4128-98f8-f495937a1a27",
   "metadata": {},
   "source": [
    "#### passwords"
   ]
  },
  {
   "cell_type": "code",
   "execution_count": null,
   "id": "3af3a215-2d80-4bc0-9395-70fea8e1cad2",
   "metadata": {},
   "outputs": [],
   "source": [
    "# mysql_superuser = 'root'\n",
    "# mysql_su_pass = input(f'Enter the MySQL password for user {mysql_superuser}: ')\n",
    "mysql_user = 'bhrdwj'\n",
    "# mysql_pass = input(f'Enter the MySQL password for user {mysql_user}: ')"
   ]
  },
  {
   "cell_type": "markdown",
   "id": "36a34ba0-3017-41c3-9dcd-01eef49acc38",
   "metadata": {
    "tags": []
   },
   "source": [
    "#### connect to database"
   ]
  },
  {
   "cell_type": "code",
   "execution_count": null,
   "id": "c82fbefe-1c73-4cf0-9587-e6a9ebdb1e6b",
   "metadata": {},
   "outputs": [],
   "source": [
    "host='localhost'; user=mysql_user; passwd=mysql_pass; dbname='ja_hist';\n",
    "cxn = mysql.connect(host=host,user=user,passwd=passwd, database=dbname)\n",
    "cur = cxn.cursor()\n",
    "\n",
    "connection_str = 'mysql+mysqlconnector://'+user+':'+passwd+'@'+host+'/'+dbname  # removed this after host +':'+dbport\n",
    "try:\n",
    "    engine1 = sqlalchemy.create_engine(connection_str)\n",
    "    conn1 = engine1.connect()\n",
    "except:\n",
    "    print('Database connection error - check creds')\n",
    "metadata = sqlalchemy.MetaData(conn1)\n",
    "metadata.reflect()\n",
    "metadata.tables.keys()"
   ]
  },
  {
   "cell_type": "markdown",
   "id": "c27b65fc-9fa7-4b2a-b3e2-858ecca5abb4",
   "metadata": {
    "jp-MarkdownHeadingCollapsed": true,
    "tags": []
   },
   "source": [
    "#### prep for create table"
   ]
  },
  {
   "cell_type": "code",
   "execution_count": null,
   "id": "28f9dce5-af22-4eed-927a-9f982e9aef61",
   "metadata": {},
   "outputs": [],
   "source": [
    "make_history_table = \"\"\"\n",
    "CREATE TABLE ja_hist ( \n",
    "wiki_db VARCHAR(20) NOT NULL,\n",
    "event_entity VARCHAR(20) NOT NULL,\n",
    "event_type VARCHAR(20) NOT NULL,\n",
    "event_timestamp VARCHAR(30) NOT NULL,\n",
    "event_comment TEXT,\n",
    "event_user_id BIGINT,\n",
    "event_user_text_historical TEXT,\n",
    "event_user_text TEXT,\n",
    "event_user_blocks_historical VARCHAR(30),\n",
    "event_user_blocks VARCHAR(60),\n",
    "event_user_groups_historical TEXT,\n",
    "event_user_groups TEXT,\n",
    "event_user_is_bot_by_historical VARCHAR(10),\n",
    "event_user_is_bot_by VARCHAR(10),\n",
    "event_user_is_created_by_self VARCHAR(10), # BOOL,\n",
    "event_user_is_created_by_system VARCHAR(10), # BOOL,\n",
    "event_user_is_created_by_peer VARCHAR(10), # BOOL,\n",
    "event_user_is_anonymous VARCHAR(10), # BOOL,\n",
    "event_user_registration_timestamp VARCHAR(30),\n",
    "event_user_creation_timestamp VARCHAR(30),\n",
    "event_user_first_edit_timestamp VARCHAR(30),\n",
    "event_user_revision_count BIGINT,\n",
    "event_user_seconds_since_previous_revision BIGINT,\n",
    "page_id BIGINT,\n",
    "page_title_historical VARCHAR(200),\n",
    "page_title VARCHAR(200),\n",
    "page_namespace_historical INT,\n",
    "page_namespace_is_content_historical VARCHAR(10), # BOOL,\n",
    "page_namespace INT,\n",
    "page_namespace_is_content VARCHAR(10), # BOOL,\n",
    "page_is_redirect VARCHAR(20), # BOOL,\n",
    "page_is_deleted VARCHAR(20), # BOOL,\n",
    "page_creation_timestamp VARCHAR(30),\n",
    "page_first_edit_timestamp VARCHAR(30),\n",
    "page_revision_count BIGINT,\n",
    "page_seconds_since_previous_revision BIGINT,\n",
    "user_id BIGINT,\n",
    "user_text_historical VARCHAR(100),\n",
    "user_text VARCHAR(100),\n",
    "user_blocks_historical VARCHAR(50),\n",
    "user_blocks VARCHAR(50),\n",
    "user_groups_historical VARCHAR(50),\n",
    "user_groups VARCHAR(50),\n",
    "user_is_bot_by_historical VARCHAR(50),\n",
    "user_is_bot_by VARCHAR(50),\n",
    "user_is_created_by_self VARCHAR(50), # BOOL,\n",
    "user_is_created_by_system VARCHAR(50), # BOOL,\n",
    "user_is_created_by_peer VARCHAR(50), # BOOL,\n",
    "user_is_anonymous VARCHAR(10), # BOOL,\n",
    "user_registration_timestamp VARCHAR(30),\n",
    "user_creation_timestamp VARCHAR(30),\n",
    "user_first_edit_timestamp VARCHAR(30),\n",
    "revision_id BIGINT,\n",
    "revision_parent_id BIGINT,\n",
    "revision_minor_edit VARCHAR(10), # BOOL,\n",
    "revision_deleted_parts VARCHAR(30),\n",
    "revision_deleted_parts_are_suppressed VARCHAR(10), # BOOL,\n",
    "revision_text_bytes BIGINT,\n",
    "revision_text_bytes_diff BIGINT,\n",
    "revision_text_sha1 VARCHAR(50),\n",
    "revision_content_model VARCHAR(10), # BOOL,\n",
    "revision_content_format VARCHAR(10), # BOOL,\n",
    "revision_is_deleted_by_page_deletion VARCHAR(10), # BOOL,\n",
    "revision_deleted_by_page_deletion_timestamp VARCHAR(30),\n",
    "revision_is_identity_reverted VARCHAR(10), # BOOL,\n",
    "revision_first_identity_reverting_revision_id BIGINT,\n",
    "revision_seconds_to_identity_revert BIGINT,\n",
    "revision_is_identity_revert VARCHAR(10), # BOOL,\n",
    "revision_is_from_before_page_creation VARCHAR(10), # BOOL,\n",
    "revision_tags VARCHAR(50),\n",
    "dumpfile_row_id BIGINT NOT NULL AUTO_INCREMENT,\n",
    "row_id BIGINT NOT NULL AUTO_INCREMENT,\n",
    "\n",
    "PRIMARY KEY (row_id)\n",
    ");\n",
    "\"\"\""
   ]
  },
  {
   "cell_type": "markdown",
   "id": "279232b5-5f35-4d48-a248-4dafcb3663d6",
   "metadata": {},
   "source": [
    "### insert data"
   ]
  },
  {
   "cell_type": "code",
   "execution_count": null,
   "id": "e98eec66-eadd-4a4f-b2c4-5b99ce8d7e9a",
   "metadata": {},
   "outputs": [],
   "source": [
    "colnames_str = 'wiki_db,event_entity,event_type,event_timestamp,event_comment,event_user_id,event_user_text_historical,event_user_text,event_user_blocks_historical,event_user_blocks,event_user_groups_historical,event_user_groups,event_user_is_bot_by_historical,event_user_is_bot_by,event_user_is_created_by_self,event_user_is_created_by_system,event_user_is_created_by_peer,event_user_is_anonymous,event_user_registration_timestamp,event_user_creation_timestamp,event_user_first_edit_timestamp,event_user_revision_count,event_user_seconds_since_previous_revision,page_id,page_title_historical,page_title,page_namespace_historical,page_namespace_is_content_historical,page_namespace,page_namespace_is_content,page_is_redirect,page_is_deleted,page_creation_timestamp,page_first_edit_timestamp,page_revision_count,page_seconds_since_previous_revision,user_id,user_text_historical,user_text,user_blocks_historical,user_blocks,user_groups_historical,user_groups,user_is_bot_by_historical,user_is_bot_by,user_is_created_by_self,user_is_created_by_system,user_is_created_by_peer,user_is_anonymous,user_registration_timestamp,user_creation_timestamp,user_first_edit_timestamp,revision_id,revision_parent_id,revision_minor_edit,revision_deleted_parts,revision_deleted_parts_are_suppressed,revision_text_bytes,revision_text_bytes_diff,revision_text_sha1,revision_content_model,revision_content_format,revision_is_deleted_by_page_deletion,revision_deleted_by_page_deletion_timestamp,revision_is_identity_reverted,revision_first_identity_reverting_revision_id,revision_seconds_to_identity_revert,revision_is_identity_revert,revision_is_from_before_page_creation,revision_tags,row_id'\n",
    "colnames = colnames_str.split(',')\n",
    "\n",
    "coltypes_str = 'STR,STR,STR,STR,STR,INT,STR,STR,STR,STR,STR,STR,STR,STR,STR,STR,STR,STR,STR,STR,STR,INT,INT,INT,STR,STR,INT,STR,INT,STR,STR,STR,STR,STR,INT,INT,INT,STR,STR,STR,STR,STR,STR,STR,STR,STR,STR,STR,STR,STR,STR,STR,INT,INT,STR,STR,STR,INT,INT,STR,STR,STR,STR,STR,STR,INT,INT,STR,STR,STR,INT'\n",
    "coltypes = coltypes_str.split(',')\n",
    "\n",
    "varnames_str = '@' + ',@'.join(map(str,colnames))\n",
    "varnames = varnames_str.split(',')\n",
    "\n",
    "# SET four = NULLIF(@vfour,'')\n",
    "set_strcols_list = [f\"{col} = NULLIF(@{col},'')\" for col in colnames]\n",
    "# SET contributor_zipcode = IF(@contributor_zipcode='',0,@contributor_zipcode)\n",
    "# set_intcols_list = [f\"{col} = IF(@{col}='',0,@{col})\" for col in colnames]\n",
    "# set_cols_list = [      set_strcols_list[i] \n",
    "                 # if    coltypes[i]=='STR' \n",
    "                 # else  set_intcols_list[i]\n",
    "                 # for i in range(len(colnames))\n",
    "                  # ]\n",
    "set_cols_list = set_strcols_list\n",
    "\n",
    "set_cols_str = ',\\n'.join(set_cols_list)\n",
    "\n",
    "basepath = '/home/bhrdwj/git/predwikt/data/raw/jawiki/dumps_unzipped/2021-12.jawiki.'\n",
    "years = list(map(str,range(2013,2022)))\n",
    "tsv_filepaths = [basepath+year+'.tsv' for year in years]"
   ]
  },
  {
   "cell_type": "code",
   "execution_count": null,
   "id": "89908caa-08b7-441a-871b-7607791b67fa",
   "metadata": {},
   "outputs": [],
   "source": [
    "load_data_sql = [\n",
    "r\"\"\"\n",
    "LOAD DATA LOCAL INFILE '\"\"\" +tsv_filepath+ r\"\"\"'\n",
    "INTO TABLE ja_hist \n",
    "CHARACTER SET utf8mb4\n",
    "FIELDS TERMINATED BY '\\t'\n",
    "LINES TERMINATED BY '\\n'\n",
    "(\"\"\" +varnames_str+ r\"\"\")\n",
    "SET\n",
    "\"\"\" +set_cols_str+ r\"\"\"\n",
    ";\n",
    "\"\"\"\n",
    "    for tsv_filepath in tsv_filepaths\n",
    "]\n",
    "# this is a list comprehension that makes a list of queries, one for each tsv file"
   ]
  },
  {
   "cell_type": "markdown",
   "id": "db993cfc-30b3-4684-846d-f8fd6df21d2b",
   "metadata": {},
   "source": [
    "#### EDA for data cleaning"
   ]
  },
  {
   "cell_type": "markdown",
   "id": "93f4e03d-6756-4401-8db6-3d3db0c4f911",
   "metadata": {},
   "source": [
    "```sql\n",
    "select revision_minor_edit, min(row_id), count(*) from ja_hist group by revision_minor_edit order by row_id;\n",
    "select user_is_anonymous, min(row_id), count(*) from ja_hist group by user_is_anonymous order by row_id;\n",
    "select user_text_historical, min(row_id), count(*) from ja_hist where user_text_historical regexp '^[0-9]*$' group by user_text_historical order by row_id;\n",
    "select revision_content_model, min(row_id), count(*) from ja_hist group by revision_content_model order by row_id;\n",
    "select user_is_bot_by_historical, min(row_id), count(*) from ja_hist group by user_is_bot_by_historical order by row_id;\n",
    "select row_id, page_id, page_title, page_namespace, page_revision_count from ja_hist order by page_revision_count desc limit 30;\n",
    "\n",
    "\n",
    "```\n"
   ]
  },
  {
   "cell_type": "markdown",
   "id": "93173760-cdee-401c-a419-e7341a33e91f",
   "metadata": {},
   "source": [
    "##### copy stuff to clipboard"
   ]
  },
  {
   "cell_type": "raw",
   "id": "cc10e040-215a-4dc2-87af-fb641481f4a3",
   "metadata": {},
   "source": [
    "pyperclip.copy('drop table if exists ja_hist;')"
   ]
  },
  {
   "cell_type": "raw",
   "id": "b9478e5d-2dba-4249-9fd0-e295ee99781e",
   "metadata": {},
   "source": [
    "pyperclip.copy(make_history_table)"
   ]
  },
  {
   "cell_type": "raw",
   "id": "771fcd16-ec12-45db-9ebd-8be16c5a34b2",
   "metadata": {},
   "source": [
    "pyperclip.copy(load_data_sql[0])"
   ]
  },
  {
   "cell_type": "raw",
   "id": "d462e84b-0b3b-475a-9e31-6149b85028a8",
   "metadata": {},
   "source": [
    "pyperclip.copy(load_data_sql[1])"
   ]
  },
  {
   "cell_type": "markdown",
   "id": "5ea8ebe7-5f39-4153-bd9d-2425ee6f2741",
   "metadata": {},
   "source": [
    "### Make ja_hist"
   ]
  },
  {
   "cell_type": "markdown",
   "id": "4aa0724b-58f7-4ae9-8470-3db1d8c0f2ed",
   "metadata": {},
   "source": [
    "#### load the database"
   ]
  },
  {
   "cell_type": "code",
   "execution_count": null,
   "id": "b4d04d2b-6c4a-4f34-9d0a-1b6a1ebe6f8c",
   "metadata": {},
   "outputs": [],
   "source": [
    "from IPython.display import clear_output"
   ]
  },
  {
   "cell_type": "code",
   "execution_count": null,
   "id": "ce660351-4e9f-4aa5-87a2-32eb7d456609",
   "metadata": {},
   "outputs": [],
   "source": [
    "for load_query in [load_data_sql[0]]:\n",
    "    a = conn1.execute(load_query)\n",
    "    "
   ]
  },
  {
   "cell_type": "markdown",
   "id": "f925636c-4be9-49f6-8430-6057197ca55d",
   "metadata": {},
   "source": [
    "#### something"
   ]
  },
  {
   "cell_type": "code",
   "execution_count": null,
   "id": "f0df5f29-08e3-4efb-9b88-f872d3dfb2b2",
   "metadata": {},
   "outputs": [],
   "source": [
    "conn1.execute('DROP TABLE IF EXISTS ja_hist;')\n",
    "conn1.execute(make_history_table)"
   ]
  },
  {
   "cell_type": "code",
   "execution_count": null,
   "id": "d954b1f3-5de9-4210-ba14-a7fb9e8efd58",
   "metadata": {},
   "outputs": [],
   "source": [
    "a = conn1.execute('describe ja_hist;')\n",
    "a.all();"
   ]
  },
  {
   "cell_type": "markdown",
   "id": "7d629774-e47d-4a8b-91cc-8e496313118b",
   "metadata": {
    "tags": []
   },
   "source": [
    "#### python"
   ]
  },
  {
   "cell_type": "code",
   "execution_count": null,
   "id": "16446376-f868-4e0b-a615-4cabb10abf5b",
   "metadata": {},
   "outputs": [],
   "source": [
    "a = conn1.execute('drop table if exists ja_hist;')\n",
    "a.fetchall()"
   ]
  },
  {
   "cell_type": "code",
   "execution_count": null,
   "id": "62838fa6-2d2f-4ceb-9a14-a35a2bf51b9c",
   "metadata": {},
   "outputs": [],
   "source": []
  },
  {
   "cell_type": "code",
   "execution_count": null,
   "id": "79f3c6ac-aa5c-4c14-a983-4109cb67a27c",
   "metadata": {},
   "outputs": [],
   "source": []
  },
  {
   "cell_type": "code",
   "execution_count": null,
   "id": "0e1bfd55-d2a4-42ee-b268-329a3ed543f4",
   "metadata": {},
   "outputs": [],
   "source": [
    "conn1.execute(load_data_sql)"
   ]
  },
  {
   "cell_type": "markdown",
   "id": "fa3f39d4-18b5-4944-9b9a-59bf8e422c58",
   "metadata": {},
   "source": [
    "START 19:24PM"
   ]
  },
  {
   "cell_type": "code",
   "execution_count": null,
   "id": "07efe20d-3c05-4a18-b6f4-7be17587dd50",
   "metadata": {
    "tags": []
   },
   "outputs": [],
   "source": [
    "print(dt.now())\n",
    "print(dt.now())"
   ]
  },
  {
   "cell_type": "code",
   "execution_count": null,
   "id": "7d59a5ce-4174-42f5-a87f-b3bc7f39140a",
   "metadata": {},
   "outputs": [],
   "source": [
    "a = conn1.execute('select * from ja_hist;')\n",
    "a.fetchall()"
   ]
  }
 ],
 "metadata": {
  "kernelspec": {
   "display_name": "Python 3 (ipykernel)",
   "language": "python",
   "name": "python3"
  },
  "language_info": {
   "codemirror_mode": {
    "name": "ipython",
    "version": 3
   },
   "file_extension": ".py",
   "mimetype": "text/x-python",
   "name": "python",
   "nbconvert_exporter": "python",
   "pygments_lexer": "ipython3",
   "version": "3.9.7"
  }
 },
 "nbformat": 4,
 "nbformat_minor": 5
}
