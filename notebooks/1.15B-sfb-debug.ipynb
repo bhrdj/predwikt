{
 "cells": [
  {
   "cell_type": "code",
   "execution_count": 6,
   "id": "ab8f76b0-bca7-4fd5-81ef-e80b98acb25e",
   "metadata": {},
   "outputs": [],
   "source": [
    "import os, pandas as pd, numpy as np\n",
    "from datetime import datetime as dt"
   ]
  },
  {
   "cell_type": "code",
   "execution_count": 7,
   "id": "b04a784e-c18d-43e6-bf9a-615ad0bffea3",
   "metadata": {},
   "outputs": [],
   "source": [
    "datapath = '../data/raw/jawiki/dumps_unzipped/'"
   ]
  },
  {
   "cell_type": "code",
   "execution_count": 8,
   "id": "dfbb7d10-6b66-4cec-914f-4a9038280c53",
   "metadata": {},
   "outputs": [],
   "source": [
    "mtdt = pd.read_csv('../references/metadata/history.tsv', sep='\\t')\n",
    "# print(mtdt.col_name.tolist())"
   ]
  },
  {
   "cell_type": "markdown",
   "id": "acd07807-8a90-454a-802b-20d66016b125",
   "metadata": {
    "tags": []
   },
   "source": [
    "### head"
   ]
  },
  {
   "cell_type": "code",
   "execution_count": 9,
   "id": "ff283b84-db02-4577-a4d4-700996ee6d68",
   "metadata": {},
   "outputs": [
    {
     "name": "stdout",
     "output_type": "stream",
     "text": [
      "jawiki\trevision\tcreate\t2013-01-01 00:00:10.0\t/* 関連項目 */\t\t219.101.94.150\t219.101.94.150\t\t\t\t\t\t\t\t\t\ttrue\t\t\t\t\t\t2414774\t大間材木テレビ中継局\t大間材木テレビ中継局\t0\ttrue\t0\ttrue\ttrue\tfalse\t2011-08-23 15:00:28.0\t2011-08-23 15:00:28.0\t12\t6771598\t\t\t\t\t\t\t\t\t\t\t\t\t\t\t\t\t45611822\t44596655\tfalse\t\tfalse\t3283\t-1\th5njsxb8189dwoab2z5uh3wvsvn3dh0\t\t\tfalse\t\tfalse\t\t\tfalse\tfalse\t\n",
      "\n",
      "jawiki\trevision\tcreate\t2013-01-01 00:00:17.0\t/* 中継局概要 */\t\t219.101.94.150\t219.101.94.150\t\t\t\t\t\t\t\t\t\ttrue\t\t\t\t\t\t1185684\t片貝中継局\t片貝テレビ中継局\t0\ttrue\t0\ttrue\tfalse\tfalse\t2007-10-08 03:33:18.0\t2007-10-08 03:33:18.0\t32\t8974810\t\t\t\t\t\t\t\t\t\t\t\t\t\t\t\t\t45611823\t44232137\tfalse\t\tfalse\t3877\t-16\thwp0qzjrb7a9qp46qbcii8qnk9aie2e\t\t\tfalse\t\tfalse\t\t\tfalse\tfalse\t\n",
      "\n",
      "jawiki\trevision\tcreate\t2013-01-01 00:00:21.0\t\t\t219.101.94.150\t219.101.94.150\t\t\t\t\t\t\t\t\t\ttrue\t\t\t\t\t\t1202040\tNHK三陸テレビ中継局\tNHK三陸テレビ中継局\t0\ttrue\t0\ttrue\tfalse\tfalse\t2007-10-21 01:19:51.0\t2007-10-21 01:19:51.0\t14\t23793706\t\t\t\t\t\t\t\t\t\t\t\t\t\t\t\t\t45611824\t41882385\tfalse\t\tfalse\t2325\t12\trc01e5nzqdiqret0snpjqeqfwghpb9l\t\t\tfalse\t\tfalse\t\t\tfalse\tfalse\t\n",
      "\n"
     ]
    }
   ],
   "source": [
    "with open(datapath+'2021-12.jawiki.2013.tsv', 'r') as file:\n",
    "    for i in range(3):\n",
    "        print(file.readline())"
   ]
  },
  {
   "cell_type": "markdown",
   "id": "ece31a42-c8bf-405e-8533-f36452f48bcb",
   "metadata": {
    "tags": []
   },
   "source": [
    "### split file so I can run csvsql to generate schema"
   ]
  },
  {
   "cell_type": "markdown",
   "id": "23c2cb9c-03a6-4953-84e7-4f1af1ef5e88",
   "metadata": {
    "tags": []
   },
   "source": [
    "#### copy 500 rows of the tsv"
   ]
  },
  {
   "cell_type": "code",
   "execution_count": 19,
   "id": "907abef6-5e68-47f1-a805-247729d0c0a9",
   "metadata": {},
   "outputs": [
    {
     "name": "stdout",
     "output_type": "stream",
     "text": [
      "500\n"
     ]
    }
   ],
   "source": [
    "ct = 0\n",
    "with open(datapath+'2021-12.jawiki.2013.tsv', 'r') as infile:\n",
    "    with open('/home/bhrdwj/git/predwikt/data/processed/scratch_for_schema.tsv', 'w+') as outfile:\n",
    "        while ct < 5*10**2:\n",
    "            outfile.write(infile.readline())\n",
    "            ct += 1\n",
    "print(ct)"
   ]
  },
  {
   "cell_type": "markdown",
   "id": "28b20987-1f83-4537-ac95-8f7833c60f4f",
   "metadata": {
    "tags": []
   },
   "source": [
    "#### confirm the rows were copied"
   ]
  },
  {
   "cell_type": "code",
   "execution_count": 20,
   "id": "33745bfb-3a20-4eb1-922a-a33eaefc11f8",
   "metadata": {},
   "outputs": [
    {
     "name": "stdout",
     "output_type": "stream",
     "text": [
      "500\n"
     ]
    }
   ],
   "source": [
    "ct = 0\n",
    "with open('/home/bhrdwj/git/predwikt/data/processed/scratch_for_schema.tsv', 'r') as file:\n",
    "    for line in file:\n",
    "        ct += 1\n",
    "print(ct)"
   ]
  },
  {
   "cell_type": "markdown",
   "id": "19ca8d95-c98b-4414-b66c-bd8ca53c17fb",
   "metadata": {
    "tags": []
   },
   "source": [
    "#### hand-edited query"
   ]
  },
  {
   "cell_type": "code",
   "execution_count": 12,
   "id": "95898c25-3542-4128-b1e5-2204ae2ffaf9",
   "metadata": {},
   "outputs": [],
   "source": [
    "make_history_table = \"\"\"\n",
    "CREATE TABLE ja_hist (\t\n",
    "wiki_db\tVARCHAR(20) NOT NULL,\n",
    "event_entity\tVARCHAR(20) NOT NULL,\n",
    "event_type\tVARCHAR(20) NOT NULL,\n",
    "event_timestamp\tVARCHAR(30) NOT NULL,\n",
    "event_comment\tTEXT,\n",
    "event_user_id\tBIGINT,\n",
    "event_user_text_historical\tVARCHAR(80),\n",
    "event_user_text\tVARCHAR(80),\n",
    "event_user_blocks_historical\tVARCHAR(30),\n",
    "event_user_blocks\tVARCHAR(60),\n",
    "event_user_groups_historical\tVARCHAR(60),\n",
    "event_user_groups\tVARCHAR(200),\n",
    "event_user_is_bot_by_historical\tVARCHAR(10),\n",
    "event_user_is_bot_by\tVARCHAR(10),\n",
    "event_user_is_created_by_self\tBOOL,\n",
    "event_user_is_created_by_system\tBOOL,\n",
    "event_user_is_created_by_peer\tBOOL,\n",
    "event_user_is_anonymous\tBOOL,\n",
    "event_user_registration_timestamp\tVARCHAR(30),\n",
    "event_user_creation_timestamp\tVARCHAR(30),\n",
    "event_user_first_edit_timestamp\tVARCHAR(30),\n",
    "event_user_revision_count\tBIGINT,\n",
    "event_user_seconds_since_previous_revision\tBIGINT,\n",
    "page_id\tBIGINT,\n",
    "page_title_historical\tVARCHAR(200),\n",
    "page_title\tVARCHAR(200),\n",
    "page_namespace_historical\tINT,\n",
    "page_namespace_is_content_historical\tBOOL,\n",
    "page_namespace\tINT,\n",
    "page_namespace_is_content\tBOOL,\n",
    "page_is_redirect\tBOOL,\n",
    "page_is_deleted\tBOOL,\n",
    "page_creation_timestamp\tVARCHAR(30),\n",
    "page_first_edit_timestamp\tVARCHAR(30),\n",
    "page_revision_count\tBIGINT,\n",
    "page_seconds_since_previous_revision\tBIGINT,\n",
    "user_id\tBIGINT,\n",
    "user_text_historical\tVARCHAR(100),\n",
    "user_text\tVARCHAR(100),\n",
    "user_blocks_historical\tVARCHAR(50),\n",
    "user_blocks\tVARCHAR(50),\n",
    "user_groups_historical\tVARCHAR(50),\n",
    "user_groups\tVARCHAR(50),\n",
    "user_is_bot_by_historical\tVARCHAR(50),\n",
    "user_is_bot_by\tVARCHAR(50),\n",
    "user_is_created_by_self\tBOOL,\n",
    "user_is_created_by_system\tBOOL,\n",
    "user_is_created_by_peer\tBOOL,\n",
    "user_is_anonymous\tBOOL,\n",
    "user_registration_timestamp\tVARCHAR(30),\n",
    "user_creation_timestamp\tVARCHAR(30),\n",
    "user_first_edit_timestamp\tVARCHAR(30),\n",
    "revision_id\tBIGINT,\n",
    "revision_parent_id\tBIGINT,\n",
    "revision_minor_edit\tBOOL,\n",
    "revision_deleted_parts\tVARCHAR(30),\n",
    "revision_deleted_parts_are_suppressed\tBOOL,\n",
    "revision_text_bytes\tBIGINT,\n",
    "revision_text_bytes_diff\tBIGINT,\n",
    "revision_text_sha1\tVARCHAR(50),\n",
    "revision_content_model\tBOOL,\n",
    "revision_content_format\tBOOL,\n",
    "revision_is_deleted_by_page_deletion\tBOOL,\n",
    "revision_deleted_by_page_deletion_timestamp\tVARCHAR(30),\n",
    "revision_is_identity_reverted\tBOOL,\n",
    "revision_first_identity_reverting_revision_id\tBIGINT,\n",
    "revision_seconds_to_identity_revert\tBIGINT,\n",
    "revision_is_identity_revert\tBOOL,\n",
    "revision_is_from_before_page_creation\tBOOL,\n",
    "revision_tags\tVARCHAR(50),\n",
    "row_id   BIGINT NOT NULL AUTO_INCREMENT,\n",
    "PRIMARY KEY (row_id)\n",
    ");\n",
    "\"\"\""
   ]
  },
  {
   "cell_type": "markdown",
   "id": "9075eb53-48ca-4789-841b-2c0758b35f09",
   "metadata": {},
   "source": [
    "### create table ja_hist"
   ]
  },
  {
   "cell_type": "markdown",
   "id": "e60c666b-dba5-4df2-baad-ac807dbf34f5",
   "metadata": {},
   "source": [
    "#### imports, login"
   ]
  },
  {
   "cell_type": "code",
   "execution_count": 13,
   "id": "9c8835b6-1b89-4fc4-a5e7-288b03f0529f",
   "metadata": {},
   "outputs": [],
   "source": [
    "import mysql.connector as mysql\n",
    "import sqlalchemy"
   ]
  },
  {
   "cell_type": "markdown",
   "id": "cc3355f6-011c-48ee-8f6f-de528a365ad9",
   "metadata": {},
   "source": [
    "```bash\n",
    "mysql --user=root --password=XXXXXXXX\n",
    "```\n",
    "\n",
    "```sql\n",
    "CREATE DATABASE ja_hist CHARACTER SET utf8 COLLATE utf8_bin;\n",
    "USE jawiki;\n",
    "GRANT ALL PRIVILEGES ON ja_hist TO bhrdwj@localhost IDENTIFIED BY XXXXXXX;\n",
    "GRANT ALL PRIVILEGES ON ja_hist.* TO bhrdwj@localhost IDENTIFIED BY XXXXXXX;\n",
    "EXIT\n",
    "```"
   ]
  },
  {
   "cell_type": "code",
   "execution_count": 4,
   "id": "3af3a215-2d80-4bc0-9395-70fea8e1cad2",
   "metadata": {},
   "outputs": [],
   "source": [
    "mysql_superuser = 'root'\n",
    "# mysql_su_pass = input(f'Enter the MySQL password for user {mysql_superuser}: ')"
   ]
  },
  {
   "cell_type": "markdown",
   "id": "36a34ba0-3017-41c3-9dcd-01eef49acc38",
   "metadata": {},
   "source": [
    "#### connect to database"
   ]
  },
  {
   "cell_type": "code",
   "execution_count": 21,
   "id": "c82fbefe-1c73-4cf0-9587-e6a9ebdb1e6b",
   "metadata": {},
   "outputs": [
    {
     "data": {
      "text/plain": [
       "dict_keys(['ja_hist'])"
      ]
     },
     "execution_count": 21,
     "metadata": {},
     "output_type": "execute_result"
    }
   ],
   "source": [
    "host='localhost'; user=mysql_superuser; passwd=mysql_su_pass; dbname='ja_hist';\n",
    "cxn = mysql.connect(host=host,user=user,passwd=passwd, database=dbname)\n",
    "cur = cxn.cursor()\n",
    "\n",
    "connection_str = 'mysql+mysqlconnector://'+user+':'+passwd+'@'+host+'/'+dbname  # removed this after host +':'+dbport\n",
    "try:\n",
    "    engine1 = sqlalchemy.create_engine(connection_str)\n",
    "    conn1 = engine1.connect()\n",
    "except:\n",
    "    print('Database connection error - check creds')\n",
    "metadata = sqlalchemy.MetaData(conn1)\n",
    "metadata.reflect()\n",
    "metadata.tables.keys()"
   ]
  },
  {
   "cell_type": "markdown",
   "id": "9a19a422-6df0-4970-a5fd-61a4a4690fee",
   "metadata": {},
   "source": [
    "#### create table with schema"
   ]
  },
  {
   "cell_type": "code",
   "execution_count": 22,
   "id": "280e8ee6-87f1-4117-9285-2e4c62c18103",
   "metadata": {},
   "outputs": [
    {
     "data": {
      "text/plain": [
       "<sqlalchemy.engine.cursor.LegacyCursorResult at 0x7f0845648f10>"
      ]
     },
     "execution_count": 22,
     "metadata": {},
     "output_type": "execute_result"
    }
   ],
   "source": [
    "conn1.execute('DROP TABLE IF EXISTS ja_hist;')\n",
    "conn1.execute(make_history_table)"
   ]
  },
  {
   "cell_type": "code",
   "execution_count": 26,
   "id": "deda86d9-8051-419b-9cd8-2aa0e2d32c16",
   "metadata": {},
   "outputs": [
    {
     "data": {
      "text/plain": [
       "[('wiki_db', 'varchar(20)', 'NO', '', None, ''),\n",
       " ('event_entity', 'varchar(20)', 'NO', '', None, ''),\n",
       " ('event_type', 'varchar(20)', 'NO', '', None, ''),\n",
       " ('event_timestamp', 'varchar(30)', 'NO', '', None, ''),\n",
       " ('event_comment', 'text', 'YES', '', None, ''),\n",
       " ('event_user_id', 'bigint(20)', 'YES', '', None, ''),\n",
       " ('event_user_text_historical', 'varchar(80)', 'YES', '', None, ''),\n",
       " ('event_user_text', 'varchar(80)', 'YES', '', None, ''),\n",
       " ('event_user_blocks_historical', 'varchar(30)', 'YES', '', None, ''),\n",
       " ('event_user_blocks', 'varchar(60)', 'YES', '', None, ''),\n",
       " ('event_user_groups_historical', 'varchar(60)', 'YES', '', None, ''),\n",
       " ('event_user_groups', 'varchar(200)', 'YES', '', None, ''),\n",
       " ('event_user_is_bot_by_historical', 'varchar(10)', 'YES', '', None, ''),\n",
       " ('event_user_is_bot_by', 'varchar(10)', 'YES', '', None, ''),\n",
       " ('event_user_is_created_by_self', 'tinyint(1)', 'YES', '', None, ''),\n",
       " ('event_user_is_created_by_system', 'tinyint(1)', 'YES', '', None, ''),\n",
       " ('event_user_is_created_by_peer', 'tinyint(1)', 'YES', '', None, ''),\n",
       " ('event_user_is_anonymous', 'tinyint(1)', 'YES', '', None, ''),\n",
       " ('event_user_registration_timestamp', 'varchar(30)', 'YES', '', None, ''),\n",
       " ('event_user_creation_timestamp', 'varchar(30)', 'YES', '', None, ''),\n",
       " ('event_user_first_edit_timestamp', 'varchar(30)', 'YES', '', None, ''),\n",
       " ('event_user_revision_count', 'bigint(20)', 'YES', '', None, ''),\n",
       " ('event_user_seconds_since_previous_revision', 'bigint(20)', 'YES', '', None, ''),\n",
       " ('page_id', 'bigint(20)', 'YES', '', None, ''),\n",
       " ('page_title_historical', 'varchar(200)', 'YES', '', None, ''),\n",
       " ('page_title', 'varchar(200)', 'YES', '', None, ''),\n",
       " ('page_namespace_historical', 'int(11)', 'YES', '', None, ''),\n",
       " ('page_namespace_is_content_historical', 'tinyint(1)', 'YES', '', None, ''),\n",
       " ('page_namespace', 'int(11)', 'YES', '', None, ''),\n",
       " ('page_namespace_is_content', 'tinyint(1)', 'YES', '', None, ''),\n",
       " ('page_is_redirect', 'tinyint(1)', 'YES', '', None, ''),\n",
       " ('page_is_deleted', 'tinyint(1)', 'YES', '', None, ''),\n",
       " ('page_creation_timestamp', 'varchar(30)', 'YES', '', None, ''),\n",
       " ('page_first_edit_timestamp', 'varchar(30)', 'YES', '', None, ''),\n",
       " ('page_revision_count', 'bigint(20)', 'YES', '', None, ''),\n",
       " ('page_seconds_since_previous_revision', 'bigint(20)', 'YES', '', None, ''),\n",
       " ('user_id', 'bigint(20)', 'YES', '', None, ''),\n",
       " ('user_text_historical', 'varchar(100)', 'YES', '', None, ''),\n",
       " ('user_text', 'varchar(100)', 'YES', '', None, ''),\n",
       " ('user_blocks_historical', 'varchar(50)', 'YES', '', None, ''),\n",
       " ('user_blocks', 'varchar(50)', 'YES', '', None, ''),\n",
       " ('user_groups_historical', 'varchar(50)', 'YES', '', None, ''),\n",
       " ('user_groups', 'varchar(50)', 'YES', '', None, ''),\n",
       " ('user_is_bot_by_historical', 'varchar(50)', 'YES', '', None, ''),\n",
       " ('user_is_bot_by', 'varchar(50)', 'YES', '', None, ''),\n",
       " ('user_is_created_by_self', 'tinyint(1)', 'YES', '', None, ''),\n",
       " ('user_is_created_by_system', 'tinyint(1)', 'YES', '', None, ''),\n",
       " ('user_is_created_by_peer', 'tinyint(1)', 'YES', '', None, ''),\n",
       " ('user_is_anonymous', 'tinyint(1)', 'YES', '', None, ''),\n",
       " ('user_registration_timestamp', 'varchar(30)', 'YES', '', None, ''),\n",
       " ('user_creation_timestamp', 'varchar(30)', 'YES', '', None, ''),\n",
       " ('user_first_edit_timestamp', 'varchar(30)', 'YES', '', None, ''),\n",
       " ('revision_id', 'bigint(20)', 'YES', '', None, ''),\n",
       " ('revision_parent_id', 'bigint(20)', 'YES', '', None, ''),\n",
       " ('revision_minor_edit', 'tinyint(1)', 'YES', '', None, ''),\n",
       " ('revision_deleted_parts', 'varchar(30)', 'YES', '', None, ''),\n",
       " ('revision_deleted_parts_are_suppressed', 'tinyint(1)', 'YES', '', None, ''),\n",
       " ('revision_text_bytes', 'bigint(20)', 'YES', '', None, ''),\n",
       " ('revision_text_bytes_diff', 'bigint(20)', 'YES', '', None, ''),\n",
       " ('revision_text_sha1', 'varchar(50)', 'YES', '', None, ''),\n",
       " ('revision_content_model', 'tinyint(1)', 'YES', '', None, ''),\n",
       " ('revision_content_format', 'tinyint(1)', 'YES', '', None, ''),\n",
       " ('revision_is_deleted_by_page_deletion', 'tinyint(1)', 'YES', '', None, ''),\n",
       " ('revision_deleted_by_page_deletion_timestamp', 'varchar(30)', 'YES', '', None, ''),\n",
       " ('revision_is_identity_reverted', 'tinyint(1)', 'YES', '', None, ''),\n",
       " ('revision_first_identity_reverting_revision_id', 'bigint(20)', 'YES', '', None, ''),\n",
       " ('revision_seconds_to_identity_revert', 'bigint(20)', 'YES', '', None, ''),\n",
       " ('revision_is_identity_revert', 'tinyint(1)', 'YES', '', None, ''),\n",
       " ('revision_is_from_before_page_creation', 'tinyint(1)', 'YES', '', None, ''),\n",
       " ('revision_tags', 'varchar(50)', 'YES', '', None, ''),\n",
       " ('row_id', 'bigint(20)', 'NO', 'PRI', None, 'auto_increment')]"
      ]
     },
     "execution_count": 26,
     "metadata": {},
     "output_type": "execute_result"
    }
   ],
   "source": [
    "a = conn1.execute('describe ja_hist;')\n",
    "a.all()"
   ]
  },
  {
   "cell_type": "markdown",
   "id": "279232b5-5f35-4d48-a248-4dafcb3663d6",
   "metadata": {},
   "source": [
    "### insert data"
   ]
  },
  {
   "cell_type": "markdown",
   "id": "295e46d8-e344-41da-9104-922455a59559",
   "metadata": {},
   "source": [
    "Reference: ([link](https://mariadb.com/kb/en/load-data-infile/))  \n",
    "```sql\n",
    "LOAD DATA INFILE 'ld.txt' INTO TABLE ld (@i,v) SET i=@i*2;\n",
    "```"
   ]
  },
  {
   "cell_type": "raw",
   "id": "4e7ba11c-393b-4c98-946a-d79f6f668c66",
   "metadata": {},
   "source": [
    "load_data_sql = \"\"\"\n",
    "LOAD DATA LOCAL INFILE '/home/bhrdwj/git/predwikt/data/raw/jawiki/dumps_unzipped/2021-12.jawiki.2013.tsv'\n",
    "INTO TABLE ja_hist \n",
    "CHARACTER SET 'utf-8 '\n",
    "FIELDS TERMINATED BY \"\\t\";\n",
    "\"\"\""
   ]
  },
  {
   "cell_type": "code",
   "execution_count": 24,
   "id": "52b98529-53e9-49b1-9ab4-01942a38ae16",
   "metadata": {},
   "outputs": [],
   "source": [
    "load_data_sql = \"\"\"\n",
    "LOAD DATA LOCAL INFILE '/home/bhrdwj/git/predwikt/data/processed/scratch_for_schema.tsv'\n",
    "INTO TABLE ja_hist \n",
    "CHARACTER SET utf8mb4\n",
    "FIELDS TERMINATED BY \"\\t\";\n",
    "\"\"\""
   ]
  },
  {
   "cell_type": "code",
   "execution_count": 25,
   "id": "0e1bfd55-d2a4-42ee-b268-329a3ed543f4",
   "metadata": {},
   "outputs": [
    {
     "data": {
      "text/plain": [
       "<sqlalchemy.engine.cursor.LegacyCursorResult at 0x7f0844f2b820>"
      ]
     },
     "execution_count": 25,
     "metadata": {},
     "output_type": "execute_result"
    }
   ],
   "source": [
    "conn1.execute(load_data_sql)"
   ]
  },
  {
   "cell_type": "markdown",
   "id": "fa3f39d4-18b5-4944-9b9a-59bf8e422c58",
   "metadata": {},
   "source": [
    "START 19:24PM"
   ]
  },
  {
   "cell_type": "code",
   "execution_count": 27,
   "id": "07efe20d-3c05-4a18-b6f4-7be17587dd50",
   "metadata": {},
   "outputs": [
    {
     "name": "stdout",
     "output_type": "stream",
     "text": [
      "2022-01-07 09:56:18.167770\n",
      "   count(*)\n",
      "0         0\n",
      "2022-01-07 09:56:18.185921\n"
     ]
    }
   ],
   "source": [
    "tblname='ja_hist'\n",
    "sql_eda2 = f'select count(*) from {tblname};'\n",
    "print(dt.now())\n",
    "sql_rows = pd.read_sql(sql_eda2,engine1)\n",
    "print(sql_rows)\n",
    "print(dt.now())"
   ]
  },
  {
   "cell_type": "code",
   "execution_count": null,
   "id": "a05e45b0-f42b-41d4-81b1-e703955ea44c",
   "metadata": {},
   "outputs": [],
   "source": []
  }
 ],
 "metadata": {
  "kernelspec": {
   "display_name": "Python 3 (ipykernel)",
   "language": "python",
   "name": "python3"
  },
  "language_info": {
   "codemirror_mode": {
    "name": "ipython",
    "version": 3
   },
   "file_extension": ".py",
   "mimetype": "text/x-python",
   "name": "python",
   "nbconvert_exporter": "python",
   "pygments_lexer": "ipython3",
   "version": "3.9.7"
  }
 },
 "nbformat": 4,
 "nbformat_minor": 5
}
