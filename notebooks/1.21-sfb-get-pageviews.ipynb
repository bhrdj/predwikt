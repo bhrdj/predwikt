{
 "cells": [
  {
   "cell_type": "markdown",
   "id": "18e0f864-cf64-4d43-a5b5-a8ab246748e7",
   "metadata": {},
   "source": [
    "# get pageviews"
   ]
  },
  {
   "cell_type": "markdown",
   "id": "afc81f4f-ebae-4509-adbf-fa9e27d2e6ca",
   "metadata": {
    "tags": []
   },
   "source": [
    "### intro"
   ]
  },
  {
   "cell_type": "markdown",
   "id": "2e44bfe6-0c3b-4013-ab3e-88c4537cdb33",
   "metadata": {
    "tags": []
   },
   "source": [
    "#### setup"
   ]
  },
  {
   "cell_type": "markdown",
   "id": "d6fae4e6-a299-4fb1-9fd1-f5b76f5a778e",
   "metadata": {
    "jp-MarkdownHeadingCollapsed": true,
    "tags": []
   },
   "source": [
    "###### imports"
   ]
  },
  {
   "cell_type": "code",
   "execution_count": 1,
   "id": "ec9b8b09-1116-4a48-9566-bfd2ca2d4e7c",
   "metadata": {
    "tags": []
   },
   "outputs": [],
   "source": [
    "import pandas as pd, numpy as np, os, re, pickle, requests, time, gzip\n",
    "import mysql.connector as mysql, sqlalchemy\n",
    "from datetime import datetime as dt, timedelta\n",
    "import datetime"
   ]
  },
  {
   "cell_type": "markdown",
   "id": "dd182b40-f5ef-4abd-94cf-c91cdff3f29d",
   "metadata": {
    "jp-MarkdownHeadingCollapsed": true,
    "tags": []
   },
   "source": [
    "###### fonts"
   ]
  },
  {
   "cell_type": "markdown",
   "id": "f4a9fa35-608e-4762-92fb-e320734b5809",
   "metadata": {},
   "source": [
    "https://github.com/linzino7/matplotlibChinesefix"
   ]
  },
  {
   "cell_type": "code",
   "execution_count": 2,
   "id": "d9c59c03-d2b1-4b2c-b29f-0bf95081dbf7",
   "metadata": {},
   "outputs": [
    {
     "data": {
      "text/plain": [
       "'/home/bhrdwj/anaconda3/envs/py39/lib/python3.9/site-packages/matplotlib/mpl-data/fonts/ttf/DejaVuSans.ttf'"
      ]
     },
     "execution_count": 2,
     "metadata": {},
     "output_type": "execute_result"
    }
   ],
   "source": [
    "from matplotlib.font_manager import findfont, FontProperties  \n",
    "findfont(FontProperties(family=FontProperties().get_family())) "
   ]
  },
  {
   "cell_type": "code",
   "execution_count": 3,
   "id": "bc9a9527-a2e9-4d01-9b14-57ae0341655f",
   "metadata": {},
   "outputs": [
    {
     "data": {
      "text/plain": [
       "'/home/bhrdwj/anaconda3/envs/py39/lib/python3.9/site-packages/matplotlib/mpl-data/matplotlibrc'"
      ]
     },
     "execution_count": 3,
     "metadata": {},
     "output_type": "execute_result"
    }
   ],
   "source": [
    "import matplotlib \n",
    "matplotlib.matplotlib_fname()"
   ]
  },
  {
   "cell_type": "code",
   "execution_count": 4,
   "id": "c532572b-5b0d-4ff0-9a00-b5c21572ea09",
   "metadata": {},
   "outputs": [],
   "source": [
    "import matplotlib.pyplot as plt \n",
    "plt.rcParams['font.sans-serif'] = ['Noto Sans CJK JP']  \n",
    "plt.rcParams['axes.unicode_minus'] = False "
   ]
  },
  {
   "cell_type": "raw",
   "id": "4e22a55d-e335-4fc7-8af7-104ce764268c",
   "metadata": {},
   "source": [
    "plt.plot((1,2,3),(4,3,1)) \n",
    "plt.title(\"聲量圖\") \n",
    "plt.ylabel(\"文章數量\") \n",
    "plt.xlabel(\"時間\")  \n",
    "plt.show()"
   ]
  },
  {
   "cell_type": "markdown",
   "id": "f8f54bb6-8f0d-4457-a991-59305c408366",
   "metadata": {
    "jp-MarkdownHeadingCollapsed": true,
    "tags": []
   },
   "source": [
    "###### paths"
   ]
  },
  {
   "cell_type": "code",
   "execution_count": 5,
   "id": "1a62cb55-9c84-43b1-8cd0-c28df02d12b2",
   "metadata": {},
   "outputs": [],
   "source": [
    "rawdumps_path = '../data/raw/jawiki/dumps_unzipped/'\n",
    "processed_path = '../data/processed/jawiki/'\n",
    "twitter_path = '../data/raw/twitter/'\n",
    "pageviews_path = '../data/raw/pageviews/'"
   ]
  },
  {
   "cell_type": "markdown",
   "id": "ed3a7d70-5a71-467f-b05e-2232892edfb6",
   "metadata": {},
   "source": [
    "###### end"
   ]
  },
  {
   "cell_type": "markdown",
   "id": "672177d6-8eea-4186-a8fa-d6bdddc39b2b",
   "metadata": {
    "jp-MarkdownHeadingCollapsed": true,
    "tags": []
   },
   "source": [
    "#### unpickle"
   ]
  },
  {
   "cell_type": "markdown",
   "id": "e63df424-460c-4df6-bfd7-6d4fbc738a0d",
   "metadata": {
    "tags": []
   },
   "source": [
    "##### disaster_descendants from disaster_descendants_raw"
   ]
  },
  {
   "cell_type": "markdown",
   "id": "cd86cfaf-b6de-4185-b827-6637287f80db",
   "metadata": {
    "jp-MarkdownHeadingCollapsed": true,
    "tags": []
   },
   "source": [
    "###### unpickle ```disaster_descendants_raw```"
   ]
  },
  {
   "cell_type": "code",
   "execution_count": 6,
   "id": "031d3a7a-b1f4-4112-820d-be4c8fa4f72f",
   "metadata": {},
   "outputs": [],
   "source": [
    "with open(processed_path + 'disaster_descendants_raw.pickle', 'rb') as f:\n",
    "    disaster_descendants_raw = pickle.load(f)"
   ]
  },
  {
   "cell_type": "markdown",
   "id": "33dcb108-73f2-442e-9bd1-2c824abd35e5",
   "metadata": {
    "jp-MarkdownHeadingCollapsed": true,
    "tags": []
   },
   "source": [
    "###### function bytearray_to_str"
   ]
  },
  {
   "cell_type": "code",
   "execution_count": 7,
   "id": "99fd069d-fcc0-4648-a994-296e207c4c4c",
   "metadata": {},
   "outputs": [],
   "source": [
    "def failed_decode(a):\n",
    "    try:\n",
    "        a.decode('utf-8')\n",
    "    except UnicodeDecodeError:\n",
    "        return True\n",
    "    return False\n",
    "\n",
    "def bytearray_to_str(a:bytearray, encoding='utf-8') -> str:\n",
    "    if type(a) == str:\n",
    "        return a\n",
    "    elif type(a) != bytearray:\n",
    "        raise ValueError(\"The passed argument wasn't a string nor a bytearray.\")\n",
    "    while failed_decode(a):\n",
    "        a = a[:-1]\n",
    "    return str(a.decode(encoding))"
   ]
  },
  {
   "cell_type": "markdown",
   "id": "042e13ab-5a73-40ae-8c2f-7b5e73c4974a",
   "metadata": {
    "jp-MarkdownHeadingCollapsed": true,
    "tags": []
   },
   "source": [
    "###### exploring failed decode"
   ]
  },
  {
   "cell_type": "code",
   "execution_count": 8,
   "id": "a33bf6e3-e96a-43bd-9a03-6fd5e7919018",
   "metadata": {},
   "outputs": [],
   "source": [
    "ser = disaster_descendants_raw['津波'].name"
   ]
  },
  {
   "cell_type": "code",
   "execution_count": 9,
   "id": "abd8f54b-99a9-497b-a335-4ee3a3b43b3b",
   "metadata": {},
   "outputs": [],
   "source": [
    "ser2 = ser[ser.apply(lambda x: type(x) == bytearray)]"
   ]
  },
  {
   "cell_type": "code",
   "execution_count": 10,
   "id": "e8597c4b-f805-4d76-9e4a-8765a4bc7402",
   "metadata": {},
   "outputs": [],
   "source": [
    "corrupted = ser2.iloc[0]"
   ]
  },
  {
   "cell_type": "code",
   "execution_count": 12,
   "id": "939ac293-f933-4bea-bea7-9c9f8c0f91e5",
   "metadata": {},
   "outputs": [],
   "source": [
    "# corrupted.decode('utf-8')\n",
    "\n",
    "# ---------------------------------------------------------------------------\n",
    "# UnicodeDecodeError                        Traceback (most recent call last)\n",
    "# /tmp/ipykernel_654874/1732385624.py in <module>\n",
    "# ----> 1 corrupted.decode('utf-8')\n",
    "\n",
    "# UnicodeDecodeError: 'utf-8' codec can't decode byte 0xe7 in position 229: unexpected end of data"
   ]
  },
  {
   "cell_type": "code",
   "execution_count": 13,
   "id": "64d937e1-e0ff-4aa2-9fa0-9beeb4277f6d",
   "metadata": {},
   "outputs": [
    {
     "data": {
      "text/plain": [
       "'ちほうこうきようたんたいのきかいのきいんおよひおさのせんきよきしつとうのりんしとくれいにかんするほうりつ\\n地方公共団体の議会の議員及び長の選挙期日等の臨時'"
      ]
     },
     "execution_count": 13,
     "metadata": {},
     "output_type": "execute_result"
    }
   ],
   "source": [
    "bytearray_to_str(corrupted)"
   ]
  },
  {
   "cell_type": "markdown",
   "id": "8613a32d-5523-41d7-ab65-3da72a9ce96b",
   "metadata": {
    "jp-MarkdownHeadingCollapsed": true,
    "tags": []
   },
   "source": [
    "###### get cleaned ```disaster_descendants``` "
   ]
  },
  {
   "cell_type": "markdown",
   "id": "c217f074-9a24-40a6-96b0-f55b9bebaf74",
   "metadata": {},
   "source": [
    "by:  \n",
    "- dropping rows with duplicate category name for the same category page_id\n",
    "- filtering out non-content-page records\n",
    "- and healing corrupted bytearrays"
   ]
  },
  {
   "cell_type": "code",
   "execution_count": 78,
   "id": "cdbc7eee-5222-4b49-a438-9021a880887b",
   "metadata": {},
   "outputs": [],
   "source": [
    "d = {}\n",
    "for i in disaster_descendants_raw:\n",
    "    d[i] = disaster_descendants_raw[i].drop_duplicates(subset='id')\n",
    "    d[i] = d[i][d[i].namespace == 0]\n",
    "    d[i]['name'] = d[i].name.map(bytearray_to_str)\n",
    "disaster_descendants = d\n",
    "del d"
   ]
  },
  {
   "cell_type": "markdown",
   "id": "15162559-ea4f-4e0a-9dd5-13d89233846c",
   "metadata": {},
   "source": [
    "##### -----"
   ]
  },
  {
   "cell_type": "markdown",
   "id": "c7519832-d2f4-4b8b-95da-df9a423f70b4",
   "metadata": {
    "tags": []
   },
   "source": [
    "#### references"
   ]
  },
  {
   "cell_type": "markdown",
   "id": "f7914c4f-0943-4755-a19f-5748524cc73a",
   "metadata": {
    "jp-MarkdownHeadingCollapsed": true,
    "tags": []
   },
   "source": [
    "###### links"
   ]
  },
  {
   "cell_type": "markdown",
   "id": "3d3c0304-c0d8-4922-a025-f9e035254118",
   "metadata": {},
   "source": [
    "- https://wikitech.wikimedia.org/wiki/Analytics/Data_Lake/Traffic/Pageviews#dumps.wikimedia.org\n",
    "- https://meta.wikimedia.org/wiki/Research:Page_view\n",
    "- https://dumps.wikimedia.org/other/pageviews\n",
    "- https://dumps.wikimedia.org/other/pageviews/readme.html\n",
    "- https://pageviews.wmcloud.org/?project=ja.wikipedia.org&platform=all-access&agent=user&redirects=0&start=2019-11-01&end=2022-02-28&pages=%E7%81%AB%E5%B1%B1%E7%81%BD%E5%AE%B3|%E7%86%B1%E5%B8%AF%E4%BD%8E%E6%B0%97%E5%9C%A7|%E5%9C%B0%E9%9C%87|%E9%9B%AA%E5%AE%B3|%E6%B4%A5%E6%B3%A2"
   ]
  },
  {
   "cell_type": "markdown",
   "id": "2a4d6ef5-e371-4829-b471-de4e6745a625",
   "metadata": {},
   "source": [
    "###### -----"
   ]
  },
  {
   "cell_type": "markdown",
   "id": "36c94d3b-6dfb-4f09-ba66-df0ab9f40c5d",
   "metadata": {
    "tags": []
   },
   "source": [
    "## import pageview hourly dumpfile"
   ]
  },
  {
   "cell_type": "markdown",
   "id": "9689df87-7055-4568-a50f-fa21b976b9db",
   "metadata": {
    "tags": []
   },
   "source": [
    "##### download dumpfile"
   ]
  },
  {
   "cell_type": "code",
   "execution_count": 14,
   "id": "4e46ba4d-3ce5-4359-96f4-26d7f882b1a3",
   "metadata": {},
   "outputs": [],
   "source": [
    "def download_file(url, dirpath='./'):\n",
    "    local_filename = dirpath + url.split('/')[-1]\n",
    "    # NOTE the stream=True parameter below\n",
    "    with requests.get(url, stream=True) as r:\n",
    "        r.raise_for_status()\n",
    "        with open(local_filename, 'wb') as f:\n",
    "            for chunk in r.iter_content(chunk_size=131072):   #8192\n",
    "                # If you have chunk encoded response uncomment if\n",
    "                # and set chunk_size parameter to None.\n",
    "                #if chunk: \n",
    "                f.write(chunk)\n",
    "    return local_filename\n",
    "# https://stackoverflow.com/questions/16694907/download-large-file-in-python-with-requests"
   ]
  },
  {
   "cell_type": "raw",
   "id": "c8b73e67-6f0f-4e6a-8196-0c2854f52e56",
   "metadata": {},
   "source": [
    "start = dt.now()\n",
    "download_file('https://dumps.wikimedia.org/other/pageviews/2019/2019-11/pageviews-20191101-020000.gz',\n",
    "             dirpath='../data/raw/pageviews/')\n",
    "dt.now() - start"
   ]
  },
  {
   "cell_type": "markdown",
   "id": "f51b5ecc-6746-46b1-8a4a-109ba46c2fc8",
   "metadata": {
    "tags": []
   },
   "source": [
    "##### extract pageviews from hour-file gzip archive"
   ]
  },
  {
   "cell_type": "markdown",
   "id": "edc77231-16fb-4330-a8aa-255d12a1df80",
   "metadata": {
    "jp-MarkdownHeadingCollapsed": true,
    "tags": []
   },
   "source": [
    "###### function ```open_hour_file``` to provide the unzipped file to python"
   ]
  },
  {
   "cell_type": "code",
   "execution_count": 55,
   "id": "3034f6a3-509c-4726-92b1-336ad91397e6",
   "metadata": {},
   "outputs": [],
   "source": [
    "def open_hour_file(path):\n",
    "    if path[-3:] == \".gz\":\n",
    "        return gzip.open(path, mode=\"rt\", encoding=\"utf-8\", errors=\"replace\")\n",
    "    else:\n",
    "        return open(path, mode=\"rt\", encoding=\"utf-8\", errors=\"replace\")\n",
    "# https://github.com/mediawiki-utilities/python-mwviews/blob/main/src/mwviews/utilities/aggregate.py"
   ]
  },
  {
   "cell_type": "markdown",
   "id": "e95867c1-376a-4827-8b4d-2ee44ca5b2c9",
   "metadata": {
    "tags": []
   },
   "source": [
    "###### function ```get_pageviews_by_pageids``` to clean, split, and filter pageview records"
   ]
  },
  {
   "cell_type": "code",
   "execution_count": 74,
   "id": "2c621a65-6874-4a0d-9c88-fd33a9e02d7d",
   "metadata": {},
   "outputs": [],
   "source": [
    "def get_pageviews_by_pageids(f, page_titles, proj='ja'):\n",
    "    pageviews_colnames = ['domain_code', 'page_title','count_views','total_response_size']\n",
    "    records = []\n",
    "    while (line := f.readline()):\n",
    "        if line[:3] != proj + ' ':\n",
    "            continue\n",
    "        lst = line.strip().split(sep=' ')\n",
    "        if lst[1] in page_titles:\n",
    "            records.append(lst)\n",
    "    return pd.DataFrame(records, columns=pageviews_colnames)"
   ]
  },
  {
   "cell_type": "markdown",
   "id": "2abb0089-8bac-4781-aa62-e9e2972e5439",
   "metadata": {},
   "source": [
    "###### get list of page_titles by disaster"
   ]
  },
  {
   "cell_type": "code",
   "execution_count": 91,
   "id": "8523be83-484e-491a-93f6-7f9b310ea2bd",
   "metadata": {},
   "outputs": [],
   "source": [
    "page_titles = {}\n",
    "for i in disaster_descendants:\n",
    "    page_titles[i] = (\n",
    "        disaster_descendants[i].name\n",
    "                .map(lambda x: x.split(sep='\\n')[-1])\n",
    "                .tolist()\n",
    "    )"
   ]
  },
  {
   "cell_type": "markdown",
   "id": "896b9b2a-64f1-499b-8bd5-0f441ac90e6b",
   "metadata": {},
   "source": [
    "###### run the functions"
   ]
  },
  {
   "cell_type": "code",
   "execution_count": 92,
   "id": "3b9f1df1-c110-47ee-8919-0911560fcdfe",
   "metadata": {},
   "outputs": [],
   "source": [
    "pageviews = {}\n",
    "with open_hour_file('../data/raw/pageviews/pageviews-20191101-020000.gz') as f:\n",
    "    for i in disaster_descendants:\n",
    "        pageviews[i] = get_pageviews_by_pageids(\n",
    "            f\n",
    "            ,page_titles[i]\n",
    "            ,proj='ja')"
   ]
  },
  {
   "cell_type": "markdown",
   "id": "42e88145-da9d-417b-8067-42710664978a",
   "metadata": {
    "jp-MarkdownHeadingCollapsed": true,
    "tags": []
   },
   "source": [
    "##### assess raw pageviews dumpfile for importing"
   ]
  },
  {
   "cell_type": "markdown",
   "id": "44aadde4-cdf0-49e5-91b3-5d8f70eedd4d",
   "metadata": {
    "jp-MarkdownHeadingCollapsed": true,
    "tags": []
   },
   "source": [
    "###### import raw lines in jawiki project"
   ]
  },
  {
   "cell_type": "code",
   "execution_count": null,
   "id": "70adadf7-8650-4d42-ad13-b21ce350067b",
   "metadata": {},
   "outputs": [],
   "source": [
    "lines = []\n",
    "with open(pageviews_path + 'pageviews-20191002-080000', 'r') as f:\n",
    "    while (line:=f.readline()):\n",
    "        if line[:2] == 'ja':\n",
    "            lines.append(line)"
   ]
  },
  {
   "cell_type": "markdown",
   "id": "b22d6b54-1c15-495e-ac1e-ba4d4cbe6fd7",
   "metadata": {
    "tags": []
   },
   "source": [
    "###### peek"
   ]
  },
  {
   "cell_type": "code",
   "execution_count": null,
   "id": "2c881f37-9196-4a15-8ba0-b1c12c2651ea",
   "metadata": {},
   "outputs": [],
   "source": [
    "display(lines[0],lines[1], lines[2], lines[400], lines[4000], lines[40000])"
   ]
  },
  {
   "cell_type": "markdown",
   "id": "83469bce-58da-4756-90d3-984448c0c3c1",
   "metadata": {
    "jp-MarkdownHeadingCollapsed": true,
    "tags": []
   },
   "source": [
    "###### check line count and line lengths"
   ]
  },
  {
   "cell_type": "code",
   "execution_count": null,
   "id": "251d8a6f-ec65-4d41-a9c5-8fe5288e8867",
   "metadata": {},
   "outputs": [],
   "source": [
    "len(lines)"
   ]
  },
  {
   "cell_type": "code",
   "execution_count": null,
   "id": "335efe97-b597-42cf-8ad2-f1dcc3363fec",
   "metadata": {},
   "outputs": [],
   "source": [
    "max(map(lambda x: len(x.split(sep=' ')), lines))"
   ]
  },
  {
   "cell_type": "markdown",
   "id": "7ee641e8-a677-42a1-a596-eacb58383cdd",
   "metadata": {},
   "source": [
    "###### end"
   ]
  },
  {
   "cell_type": "markdown",
   "id": "5e937519-6bbd-4789-953f-0216fc3ca8e6",
   "metadata": {
    "tags": []
   },
   "source": [
    "##### import to pandas"
   ]
  },
  {
   "cell_type": "markdown",
   "id": "50f66562-55f0-4d56-8bff-2d125db2aaba",
   "metadata": {
    "tags": []
   },
   "source": [
    "###### import"
   ]
  },
  {
   "cell_type": "code",
   "execution_count": null,
   "id": "a0436079-ff98-4591-a8eb-70f4518c0375",
   "metadata": {},
   "outputs": [],
   "source": [
    "pageviews_dumps_column_names = ['domain_code', 'page_title','count_views','total_response_size']\n",
    "pgv = pd.DataFrame(\n",
    "    map(lambda x: x.split(sep=' '), lines)\n",
    "    ,columns = pageviews_dumps_column_names\n",
    ")\n",
    "pgv['page_title'] = pgv.page_title.map(lambda x: x.split(\"#\")[0])  # No anchors\n",
    "pgv['count_views'] = pgv.count_views.astype(int)\n",
    "pgv['total_response_size'] = pgv.total_response_size.astype(int)"
   ]
  },
  {
   "cell_type": "markdown",
   "id": "5edcc543-078c-4598-961c-598822bf7a69",
   "metadata": {
    "tags": []
   },
   "source": [
    "###### peek"
   ]
  },
  {
   "cell_type": "code",
   "execution_count": null,
   "id": "7972147b-ce79-455a-9212-8ff03b5ac608",
   "metadata": {},
   "outputs": [],
   "source": [
    "pgv.loc[[0,1,2,400,4000,40000]]"
   ]
  },
  {
   "cell_type": "markdown",
   "id": "15d41613-fbaa-4e5c-8541-9e0ca2a665b9",
   "metadata": {},
   "source": [
    "###### -----"
   ]
  },
  {
   "cell_type": "markdown",
   "id": "509eab35-5dee-46c0-aa9c-d16b5d2b4bbc",
   "metadata": {},
   "source": [
    "##### -----"
   ]
  },
  {
   "cell_type": "markdown",
   "id": "c2471fe3-1b67-46af-a662-2fc9e4d1d860",
   "metadata": {},
   "source": [
    "### -----"
   ]
  },
  {
   "cell_type": "markdown",
   "id": "785d6518-c8bf-479d-ab7d-fc29a909cda5",
   "metadata": {},
   "source": [
    "## -----"
   ]
  }
 ],
 "metadata": {
  "kernelspec": {
   "display_name": "Python 3 (ipykernel)",
   "language": "python",
   "name": "python3"
  },
  "language_info": {
   "codemirror_mode": {
    "name": "ipython",
    "version": 3
   },
   "file_extension": ".py",
   "mimetype": "text/x-python",
   "name": "python",
   "nbconvert_exporter": "python",
   "pygments_lexer": "ipython3",
   "version": "3.9.7"
  }
 },
 "nbformat": 4,
 "nbformat_minor": 5
}
