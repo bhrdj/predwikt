{
 "cells": [
  {
   "cell_type": "markdown",
   "id": "56140668-fa5d-4af9-8a97-44102d65da9f",
   "metadata": {},
   "source": [
    "# Data: explore: API➔csv"
   ]
  },
  {
   "cell_type": "markdown",
   "id": "3f3ba624-4764-47c7-9185-8b28992c0afc",
   "metadata": {
    "jp-MarkdownHeadingCollapsed": true,
    "tags": []
   },
   "source": [
    "### Headings and Library Imports"
   ]
  },
  {
   "cell_type": "code",
   "execution_count": 1,
   "id": "02f1e185-05a1-4bdb-96c5-fa7f64c9791f",
   "metadata": {
    "tags": []
   },
   "outputs": [],
   "source": [
    "#!/usr/bin/python3\n",
    "\"\"\"\n",
    "    get_recent_changes.py\n",
    "\n",
    "    MediaWiki API Demos\n",
    "    Demo of `RecentChanges` module: Get the three most recent changes with\n",
    "    sizes and flags\n",
    "\n",
    "    MIT License\n",
    "\"\"\";"
   ]
  },
  {
   "cell_type": "code",
   "execution_count": 2,
   "id": "7e61f3c2-b089-49c1-a7b4-a75cf689a968",
   "metadata": {},
   "outputs": [],
   "source": [
    "import requests\n",
    "import pandas as pd\n",
    "import os\n",
    "import datetime\n",
    "import dateutil.parser as dp\n",
    "import json\n",
    "import time\n",
    "from sseclient import SSEClient as EventSource\n",
    "\n",
    "os.chdir('/home/bhrdwj/git/predwikt/notebooks/')"
   ]
  },
  {
   "cell_type": "markdown",
   "id": "4ed746f5-cccb-46d4-b6cb-f46417c7d001",
   "metadata": {},
   "source": [
    "### Get Data"
   ]
  },
  {
   "cell_type": "code",
   "execution_count": 3,
   "id": "a5b53271-f382-4ac9-89a9-f7fe9657e8fa",
   "metadata": {},
   "outputs": [],
   "source": [
    "import requests\n",
    "sesh = requests.Session()"
   ]
  },
  {
   "cell_type": "code",
   "execution_count": 4,
   "id": "8fa49687-efc8-4815-ae2f-0514e1d3919f",
   "metadata": {},
   "outputs": [],
   "source": [
    "def get_rc(rc_list:list, params:dict, url: str, sesh) -> str:\n",
    "    '''\n",
    "    Inputs:  rc_list: list to be populated with recentchanges jsons\n",
    "             params: dictionary of parameters for the API request\n",
    "                 this fn expects at least these parameters:\n",
    "                    'rcprop' : 'timestamp|ids', (more is okay)\n",
    "                    'action' : 'query',\n",
    "                    'rcdir'  : 'newer',\n",
    "                    'format' : 'json',\n",
    "                    'list'   : 'recentchanges',\n",
    "             url: API url (designates which wiki)\n",
    "             sesh: requests session\n",
    "    Outputs: timestamp of latest  \n",
    "    '''\n",
    "    raw_output= sesh.get(url=url, params=params)\n",
    "    json_data = raw_output.json()\n",
    "    recent_changes = json_data['query']['recentchanges']\n",
    "    rc_list.append(recent_changes)\n",
    "    timestamps = [rc['timestamp'] for rc in recent_changes]\n",
    "    timestamps = sorted(map(dp.isoparse, timestamps))\n",
    "    ts = timestamps[-3]\n",
    "    return ts.strftime('%Y-%m-%dT%H:%M:%SZ')\n"
   ]
  },
  {
   "cell_type": "code",
   "execution_count": 5,
   "id": "fc252cf5-3855-432f-bebd-39ab9ff729d0",
   "metadata": {},
   "outputs": [],
   "source": [
    "rc_list=[]\n",
    "url = 'https://en.wikipedia.org/w/api.php'\n",
    "params = {\n",
    "    'rcstart'     : '2021-10-20T00:30:01Z',\n",
    "    'rcnamespace' : '0',\n",
    "    'rcshow'      : '!bot',\n",
    "    'rclimit'     : '50',\n",
    "    \n",
    "    'rcprop': 'user|userid|timestamp|title|ids|sizes',\n",
    "    \n",
    "    'action'      : 'query',\n",
    "    'rcdir'       : 'newer',\n",
    "    'format'      : 'json',\n",
    "    'list'        : 'recentchanges',\n",
    "}\n",
    "\n",
    "# Dictionary keys that output from these parameters:\n",
    "['timestamp', 'type', 'title', 'anon', 'rcid', 'ns', 'revid', 'pageid', 'user', 'userid', 'oldlen', 'old_revid', 'newlen'];"
   ]
  },
  {
   "cell_type": "code",
   "execution_count": 6,
   "id": "e4ed4385-ce09-4116-9fa5-5630460ec72f",
   "metadata": {},
   "outputs": [
    {
     "name": "stdout",
     "output_type": "stream",
     "text": [
      "0 2021-10-20T00:30:39Z\n",
      "1 2021-10-20T00:31:23Z\n",
      "2 2021-10-20T00:32:01Z\n",
      "3 2021-10-20T00:32:38Z\n",
      "4 2021-10-20T00:33:17Z\n",
      "5 2021-10-20T00:33:54Z\n",
      "6 2021-10-20T00:34:31Z\n",
      "7 2021-10-20T00:35:16Z\n",
      "8 2021-10-20T00:35:55Z\n",
      "9 2021-10-20T00:36:34Z\n",
      "10 2021-10-20T00:37:15Z\n",
      "11 2021-10-20T00:37:58Z\n",
      "12 2021-10-20T00:38:39Z\n",
      "13 2021-10-20T00:39:21Z\n",
      "14 2021-10-20T00:40:00Z\n",
      "15 2021-10-20T00:40:37Z\n",
      "16 2021-10-20T00:41:13Z\n",
      "17 2021-10-20T00:41:58Z\n",
      "18 2021-10-20T00:42:46Z\n",
      "19 2021-10-20T00:43:28Z\n",
      "20 2021-10-20T00:44:20Z\n",
      "21 2021-10-20T00:44:58Z\n",
      "22 2021-10-20T00:45:33Z\n",
      "23 2021-10-20T00:46:15Z\n",
      "24 2021-10-20T00:46:57Z\n",
      "25 2021-10-20T00:47:37Z\n",
      "26 2021-10-20T00:48:15Z\n",
      "27 2021-10-20T00:48:49Z\n",
      "28 2021-10-20T00:49:33Z\n",
      "29 2021-10-20T00:50:21Z\n",
      "30 2021-10-20T00:51:00Z\n",
      "31 2021-10-20T00:51:38Z\n",
      "32 2021-10-20T00:52:24Z\n",
      "33 2021-10-20T00:53:05Z\n",
      "34 2021-10-20T00:53:50Z\n",
      "35 2021-10-20T00:54:36Z\n",
      "36 2021-10-20T00:55:15Z\n",
      "37 2021-10-20T00:56:08Z\n",
      "38 2021-10-20T00:56:56Z\n",
      "39 2021-10-20T00:57:32Z\n",
      "40 2021-10-20T00:58:14Z\n",
      "41 2021-10-20T00:58:51Z\n",
      "42 2021-10-20T00:59:25Z\n",
      "43 2021-10-20T00:59:58Z\n",
      "44 2021-10-20T01:00:39Z\n",
      "45 2021-10-20T01:01:22Z\n",
      "46 2021-10-20T01:02:12Z\n",
      "47 2021-10-20T01:02:40Z\n",
      "48 2021-10-20T01:02:55Z\n",
      "49 2021-10-20T01:03:37Z\n",
      "50 2021-10-20T01:04:16Z\n",
      "51 2021-10-20T01:05:03Z\n",
      "52 2021-10-20T01:05:46Z\n",
      "53 2021-10-20T01:06:18Z\n",
      "54 2021-10-20T01:06:51Z\n",
      "55 2021-10-20T01:07:28Z\n",
      "56 2021-10-20T01:08:11Z\n",
      "57 2021-10-20T01:08:47Z\n",
      "58 2021-10-20T01:09:36Z\n",
      "59 2021-10-20T01:10:23Z\n",
      "60 2021-10-20T01:11:04Z\n",
      "61 2021-10-20T01:11:37Z\n",
      "62 2021-10-20T01:12:17Z\n",
      "63 2021-10-20T01:13:03Z\n",
      "64 2021-10-20T01:13:38Z\n",
      "65 2021-10-20T01:14:31Z\n",
      "66 2021-10-20T01:15:12Z\n",
      "67 2021-10-20T01:15:55Z\n",
      "68 2021-10-20T01:16:42Z\n",
      "69 2021-10-20T01:17:21Z\n",
      "70 2021-10-20T01:18:04Z\n",
      "71 2021-10-20T01:18:41Z\n",
      "72 2021-10-20T01:19:24Z\n",
      "73 2021-10-20T01:20:10Z\n",
      "74 2021-10-20T01:21:00Z\n",
      "75 2021-10-20T01:21:45Z\n",
      "76 2021-10-20T01:22:27Z\n",
      "77 2021-10-20T01:23:06Z\n",
      "78 2021-10-20T01:23:50Z\n",
      "79 2021-10-20T01:24:34Z\n",
      "80 2021-10-20T01:25:19Z\n",
      "81 2021-10-20T01:25:58Z\n",
      "82 2021-10-20T01:26:42Z\n",
      "83 2021-10-20T01:27:34Z\n",
      "84 2021-10-20T01:28:27Z\n",
      "85 2021-10-20T01:29:20Z\n",
      "86 2021-10-20T01:29:56Z\n",
      "87 2021-10-20T01:30:41Z\n",
      "88 2021-10-20T01:31:26Z\n",
      "89 2021-10-20T01:32:26Z\n",
      "90 2021-10-20T01:33:10Z\n",
      "91 2021-10-20T01:34:05Z\n",
      "92 2021-10-20T01:34:52Z\n",
      "93 2021-10-20T01:35:35Z\n",
      "94 2021-10-20T01:36:07Z\n",
      "95 2021-10-20T01:36:41Z\n",
      "96 2021-10-20T01:37:28Z\n",
      "97 2021-10-20T01:38:05Z\n",
      "98 2021-10-20T01:38:57Z\n",
      "99 2021-10-20T01:39:40Z\n"
     ]
    }
   ],
   "source": [
    "for i in range(100):\n",
    "    latest_timestamp = get_rc(rc_list, params, url, sesh)\n",
    "    params['rcstart'] = latest_timestamp\n",
    "    print(f'{i} {latest_timestamp}')\n",
    "    time.sleep(.5)"
   ]
  },
  {
   "cell_type": "code",
   "execution_count": 7,
   "id": "b327adfa-76de-4f86-9115-2898e8facece",
   "metadata": {},
   "outputs": [],
   "source": [
    "# flatten the jsons\n",
    "all_jsons = [item for sublist in rc_list for item in sublist]\n",
    "# remove jsons with duplicate rcid's\n",
    "all_rcids = {j['rcid']:i for i,j in enumerate(all_jsons)}\n",
    "unique_jsons = [all_jsons[i] for i in all_rcids.values()]"
   ]
  },
  {
   "cell_type": "code",
   "execution_count": 8,
   "id": "0be8e0ec-68a0-415d-abb5-d404aa42d576",
   "metadata": {},
   "outputs": [
    {
     "data": {
      "text/plain": [
       "4639"
      ]
     },
     "execution_count": 8,
     "metadata": {},
     "output_type": "execute_result"
    }
   ],
   "source": [
    "len(unique_jsons)"
   ]
  },
  {
   "cell_type": "code",
   "execution_count": 9,
   "id": "a18a65e9-2a20-4fab-baf1-698192da4eea",
   "metadata": {},
   "outputs": [
    {
     "data": {
      "text/plain": [
       "'2021-10-20T01:39:40Z'"
      ]
     },
     "execution_count": 9,
     "metadata": {},
     "output_type": "execute_result"
    }
   ],
   "source": [
    "latest_timestamp"
   ]
  },
  {
   "cell_type": "code",
   "execution_count": null,
   "id": "42a3c58d-b6b9-42d9-b625-443970326503",
   "metadata": {},
   "outputs": [],
   "source": [
    "print(list(set([k for j in unique_jsons for k in list(j.keys())])))\n",
    "# ['old_revid', 'timestamp', 'ns', 'oldlen', 'rcid', 'anon', 'revid', 'newlen', 'pageid', 'user', 'title', 'userid', 'type']"
   ]
  },
  {
   "cell_type": "code",
   "execution_count": 13,
   "id": "cdcf017b-8454-447b-a72d-8d039ac93a31",
   "metadata": {},
   "outputs": [],
   "source": [
    "df = pd.DataFrame.from_records(unique_jsons);"
   ]
  },
  {
   "cell_type": "code",
   "execution_count": 14,
   "id": "9aa95c86-e879-45a6-bc13-073d83a52ba7",
   "metadata": {},
   "outputs": [],
   "source": [
    "df.to_csv('../data/interim/2021-10-20T00:30:01Z_2021-10-20T01:39:40Z.csv')"
   ]
  },
  {
   "cell_type": "markdown",
   "id": "a8622bf7-74fb-425f-a10c-09b2d78db3cf",
   "metadata": {
    "jp-MarkdownHeadingCollapsed": true,
    "tags": []
   },
   "source": [
    "### SQL Goal: Get the schema such that:"
   ]
  },
  {
   "cell_type": "markdown",
   "id": "3df5abc1-0c79-4d9a-bcb6-15d824e03a3f",
   "metadata": {},
   "source": [
    "- such that:\n",
    "    - all data from this sample \"l\"\n",
    "    - will fit into the database"
   ]
  },
  {
   "cell_type": "markdown",
   "id": "a88c45e1-44b3-48f8-9d27-8e9b7b1eb929",
   "metadata": {
    "tags": []
   },
   "source": [
    "### Geoff's notebook with SQL in it"
   ]
  },
  {
   "cell_type": "code",
   "execution_count": null,
   "id": "b8799556-99da-46d7-8007-da885d2e90c5",
   "metadata": {},
   "outputs": [],
   "source": [
    "# Define Schema\n",
    "sql_create_table = \"\"\"\n",
    "DROP TABLE IF EXISTS data_raw;\n",
    "\n",
    "CREATE TABLE data_raw(\n",
    "    row_index SERIAL,\n",
    "    time_string char varying(25),\n",
    "    unix_time bigint,\n",
    "    instance char varying(35),\n",
    "    product char varying(5),\n",
    "    username char varying(35),\n",
    "    event char varying(100),\n",
    "    attributes text\n",
    ");\n",
    "\"\"\""
   ]
  },
  {
   "cell_type": "code",
   "execution_count": null,
   "id": "6a95ba34-0014-4689-84ab-70eeecd82e98",
   "metadata": {},
   "outputs": [],
   "source": [
    "# connect to database\n",
    "try:\n",
    "    conn = psycopg2.connect(\"host=\"+dbhost+\" dbname=\"+dbname+\" user=\"+dbuname+\" password=\"+dbpassword)\n",
    "    cur = conn.cursor()\n",
    "except:\n",
    "    print('Database connection error - check creds')"
   ]
  },
  {
   "cell_type": "code",
   "execution_count": null,
   "id": "73bcc848-c3fb-473e-92b8-d96bf1eb5841",
   "metadata": {},
   "outputs": [],
   "source": [
    "%%time\n",
    "# Create table and import data\n",
    "cur.execute(sql_create_table)\n",
    "sql_import = \"COPY data_raw(time_string,unix_time,instance,product,username,event,attributes) FROM STDIN DELIMITER E'\\t';\"\n",
    "cur.copy_expert(sql_import, open('jira_clean.tsv', \"r\",encoding=\"utf8\"))\n",
    "conn.commit()"
   ]
  },
  {
   "cell_type": "code",
   "execution_count": null,
   "id": "a900e675-f0c8-480a-b478-ce704a22332e",
   "metadata": {},
   "outputs": [],
   "source": [
    "# update table to have date \n",
    "sql_calc_table = \"\"\"\n",
    "DROP TABLE IF EXISTS data_prep;\n",
    "\n",
    "CREATE TABLE data_prep as (\n",
    "    select \n",
    "        row_index\n",
    "        , to_timestamp(time_string,'YYYY-MM-DD HH24:MI,MS')::timestamp without time zone as time_parsed\n",
    "        , unix_time\n",
    "        , instance\n",
    "        , username\n",
    "        , event\n",
    "        , attributes\n",
    "    from\n",
    "        data_raw\n",
    ");\n",
    "\"\"\"\n",
    "cur.execute(sql_calc_table)\n",
    "conn.commit()"
   ]
  },
  {
   "cell_type": "code",
   "execution_count": null,
   "id": "f6ef598f-c335-4e9d-a942-3abe4953897a",
   "metadata": {},
   "outputs": [],
   "source": [
    "# Finally, let's instantiate a SQL alchemy engine, so we can pass results sets into pandas and evaluate them here \n",
    "connection_str = 'postgresql+psycopg2://'+dbuname+':'+dbpassword+'@'+dbhost+':'+dbport+'/'+dbname\n",
    "try:\n",
    "    engine1 = sqlalchemy.create_engine(connection_str)\n",
    "    conn1 = engine1.connect()\n",
    "except:\n",
    "    print('Database connection error - check creds')\n",
    "engine1.table_names() # Confirm connection and tables are present as expect"
   ]
  },
  {
   "cell_type": "markdown",
   "id": "5445694f-e8a2-4bc0-83e6-612f10f12207",
   "metadata": {
    "jp-MarkdownHeadingCollapsed": true,
    "tags": []
   },
   "source": [
    "### More detailed requests from wikipedia"
   ]
  },
  {
   "cell_type": "code",
   "execution_count": null,
   "id": "f6f4d3f7-1c1f-4227-9913-8c86292276d9",
   "metadata": {},
   "outputs": [],
   "source": [
    "import requests\n",
    "requests_session = requests.Session()\n",
    "url = 'https://en.wikipedia.org/w/api.php'\n",
    "params = {\n",
    "    'rcstart'     : '2021-10-20T00:30:01Z',\n",
    "    'rcdir'       : 'newer',\n",
    "    'rcnamespace' : '0',\n",
    "    'format'      : 'json',\n",
    "    'rcprop': 'user|userid|comment|flags|timestamp|title|ids|sizes|redirect|tags|loginfo',\n",
    "    'list'        : 'recentchanges',\n",
    "    'action'      : 'query',\n",
    "    'rclimit'     : '50',\n",
    "    'rcshow'      : '!bot'\n",
    "}"
   ]
  },
  {
   "cell_type": "code",
   "execution_count": null,
   "id": "346d3e1e-9f4d-470d-9969-9a29ec13f6ba",
   "metadata": {},
   "outputs": [],
   "source": [
    "fields = ['anon', 'comment', 'logaction', 'logid', 'logparams', \n",
    "          'logtype', 'minor', 'new', 'newlen', 'ns', \n",
    "          'old_revid', 'oldlen', 'pageid', 'rcid', 'redirect', \n",
    "          'revid', 'tags', 'tagstags', 'timestamp', 'title', \n",
    "          'type', 'user', 'userid']\n",
    "len(fields);"
   ]
  },
  {
   "cell_type": "code",
   "execution_count": null,
   "id": "1e563390-892c-4545-ae5b-687c808971d2",
   "metadata": {},
   "outputs": [],
   "source": [
    "# List of wikipedias is used to filter wikipedia edits out from other wiki projects\n",
    "wkps = pd.read_csv('../data/external/wikipedias.csv').assign(code=lambda x: x.abbrev + 'wiki')\n",
    "wkps.columns"
   ]
  },
  {
   "cell_type": "markdown",
   "id": "9a6aefdb-cfe2-40e0-9369-eaa8f36a978d",
   "metadata": {},
   "source": [
    "###"
   ]
  },
  {
   "cell_type": "markdown",
   "id": "a6a30062-0307-46a1-9f5b-597b2dd6359f",
   "metadata": {
    "jp-MarkdownHeadingCollapsed": true,
    "tags": []
   },
   "source": [
    "### Checking out what's in the json... (method deeply flawed lol)"
   ]
  },
  {
   "cell_type": "code",
   "execution_count": null,
   "id": "9d23921b-6643-4114-b7b4-2d77254231e7",
   "metadata": {},
   "outputs": [],
   "source": [
    "for i in l:\n",
    "    for j in i:\n",
    "        if hasattr(j, \"__len__\") and not isinstance(j, str):\n",
    "            print(j) "
   ]
  },
  {
   "cell_type": "code",
   "execution_count": null,
   "id": "50dab181-fbe3-4dbb-a7df-4c4830391073",
   "metadata": {},
   "outputs": [],
   "source": [
    "set_keys = set()\n",
    "for i in recent_changes:\n",
    "    set_keys.update(list(i.keys()))\n",
    "set_keys;"
   ]
  },
  {
   "cell_type": "code",
   "execution_count": null,
   "id": "2513d0c8-4155-4d14-aadf-5c141301989e",
   "metadata": {},
   "outputs": [],
   "source": [
    "set_keys.update(fields)\n",
    "print(sorted(list(set_keys)))\n",
    "len(set_keys)"
   ]
  }
 ],
 "metadata": {
  "kernelspec": {
   "display_name": "Python 3 (ipykernel)",
   "language": "python",
   "name": "python3"
  },
  "language_info": {
   "codemirror_mode": {
    "name": "ipython",
    "version": 3
   },
   "file_extension": ".py",
   "mimetype": "text/x-python",
   "name": "python",
   "nbconvert_exporter": "python",
   "pygments_lexer": "ipython3",
   "version": "3.9.7"
  }
 },
 "nbformat": 4,
 "nbformat_minor": 5
}
