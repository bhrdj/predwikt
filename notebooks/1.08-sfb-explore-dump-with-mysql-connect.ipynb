{
 "cells": [
  {
   "cell_type": "markdown",
   "id": "5fbcc848-aa72-4971-9082-1576ccbd036f",
   "metadata": {},
   "source": [
    "# Explore dump with mysql connect"
   ]
  },
  {
   "cell_type": "markdown",
   "id": "edb45219-bd7a-4e36-b6e8-b786bc67d1a4",
   "metadata": {
    "jp-MarkdownHeadingCollapsed": true,
    "tags": []
   },
   "source": [
    "## Imports and paths"
   ]
  },
  {
   "cell_type": "code",
   "execution_count": 68,
   "id": "df9f9026-4699-4296-88a0-64eeea1217db",
   "metadata": {},
   "outputs": [],
   "source": [
    "import os\n",
    "from pathlib import Path\n",
    "import pandas as pd\n",
    "import psycopg2\n",
    "import mysql.connector as mysql\n",
    "\n",
    "import subprocess"
   ]
  },
  {
   "cell_type": "code",
   "execution_count": 69,
   "id": "7a73d24e-eb5d-4fce-a09f-dd438824d7fc",
   "metadata": {},
   "outputs": [],
   "source": [
    "home_path = str(Path.home())\n",
    "os.chdir(home_path + '/git/predwikt/notebooks')"
   ]
  },
  {
   "cell_type": "markdown",
   "id": "6da25aa8-df36-4d13-bb7d-cacbf5b0c595",
   "metadata": {
    "jp-MarkdownHeadingCollapsed": true,
    "tags": []
   },
   "source": [
    "## Starting / Restarting MariaDB after it dies:"
   ]
  },
  {
   "cell_type": "markdown",
   "id": "fd0076ff-ba37-406e-83ea-bf4fddbe165c",
   "metadata": {
    "tags": []
   },
   "source": [
    "### Initialize in bash"
   ]
  },
  {
   "cell_type": "markdown",
   "id": "719ff0fd-f4d5-4cec-8a60-a649f6f7e7f2",
   "metadata": {
    "jp-MarkdownHeadingCollapsed": true,
    "tags": []
   },
   "source": [
    "#### Initialize mysql manually in bash"
   ]
  },
  {
   "cell_type": "markdown",
   "id": "3f5f970d-171c-48b8-b784-9e525bc9362a",
   "metadata": {},
   "source": [
    "**bash**\n",
    "```bash\n",
    "sudo service mysqld stop\n",
    "\n",
    "sudo service mysqld start\n",
    "```\n",
    "(I had to use mysqld not mysql: [link](https://stackoverflow.com/questions/11990708/error-cant-connect-to-local-mysql-server-through-socket-var-run-mysqld-mysq))"
   ]
  },
  {
   "cell_type": "markdown",
   "id": "00d7df1a-18cb-4188-b13f-223593cda790",
   "metadata": {
    "jp-MarkdownHeadingCollapsed": true,
    "tags": []
   },
   "source": [
    "#### Check sql is running"
   ]
  },
  {
   "cell_type": "markdown",
   "id": "39f4880d-9e98-44fd-adff-4b391ee73239",
   "metadata": {},
   "source": [
    "**bash**\n",
    "```bash\n",
    "netstat -lnp | grep mysql\n",
    "```"
   ]
  },
  {
   "cell_type": "markdown",
   "id": "4f3f16b3-3dc0-4fcc-9570-02b8c0ab1eae",
   "metadata": {
    "tags": []
   },
   "source": [
    "### Starting mysql.connect"
   ]
  },
  {
   "cell_type": "markdown",
   "id": "92cb24da-9bc2-4443-9989-02cc9af8c10b",
   "metadata": {
    "tags": []
   },
   "source": [
    "#### Get passwords for mysql.connect"
   ]
  },
  {
   "cell_type": "code",
   "execution_count": 92,
   "id": "8fd80b26-8280-4280-ba93-c2cb9dc25f20",
   "metadata": {},
   "outputs": [],
   "source": [
    "mysql_superuser = 'root'\n",
    "# mysql_su_pass = input(f'Enter the MySQL password for user {mysql_superuser}: ')"
   ]
  },
  {
   "cell_type": "code",
   "execution_count": 66,
   "id": "1110a6b5-a170-46a6-9fc8-e8af64528069",
   "metadata": {},
   "outputs": [],
   "source": [
    "pg_superuser = 'postgres'\n",
    "# pg_su_pass = input(f'Enter the PostgreSQL password for user {pg_superuser}: ')"
   ]
  },
  {
   "cell_type": "code",
   "execution_count": 90,
   "id": "0b0f5e12-7bf8-4e7d-8000-d2a4d02fe2ce",
   "metadata": {},
   "outputs": [],
   "source": [
    "mysql_defaultuser = 'bhrdwj'\n",
    "# mysql_def_pass = input(f'Enter the MySQL password for user {mysql_defaultuser}: ')\n",
    "pg_defaultuser = 'bhrdwj'\n",
    "# pg_def_pass = input(f'Enter the PostgreSQL password for user {pg_defaultuser}: ')"
   ]
  },
  {
   "cell_type": "markdown",
   "id": "8b05a9ee-0acd-461e-897d-1ee9b783b96e",
   "metadata": {
    "tags": []
   },
   "source": [
    "#### Connect mysql.connect to mysql"
   ]
  },
  {
   "cell_type": "code",
   "execution_count": 112,
   "id": "2a49120f-16c3-47ba-a40f-4d3a5eceb80f",
   "metadata": {},
   "outputs": [],
   "source": [
    "db_mysql = mysql.connect(\n",
    "    host = \"localhost\",\n",
    "    user = \"root\",\n",
    "    passwd = mysql_su_pass,\n",
    "    database='latest_page' # not the first time around\n",
    ")"
   ]
  },
  {
   "cell_type": "markdown",
   "id": "31dfc033-d5a7-4636-a96e-80dac09571f0",
   "metadata": {
    "tags": []
   },
   "source": [
    "#### Initialize a cursor"
   ]
  },
  {
   "cell_type": "code",
   "execution_count": 113,
   "id": "de7fa08e-ef48-4225-9f3e-52fbbdc23001",
   "metadata": {},
   "outputs": [],
   "source": [
    "cur_mysql = db_mysql.cursor()"
   ]
  },
  {
   "cell_type": "markdown",
   "id": "42dec69e-79c7-4024-80c4-45dc609585a7",
   "metadata": {
    "tags": []
   },
   "source": [
    "#### Check current user"
   ]
  },
  {
   "cell_type": "code",
   "execution_count": 114,
   "id": "bc976494-3ca2-4b6d-a1ac-4270ea7e908c",
   "metadata": {},
   "outputs": [
    {
     "data": {
      "text/plain": [
       "[('root@localhost',)]"
      ]
     },
     "execution_count": 114,
     "metadata": {},
     "output_type": "execute_result"
    }
   ],
   "source": [
    "cur_mysql.execute('select user();')\n",
    "cur_mysql.fetchall()"
   ]
  },
  {
   "cell_type": "code",
   "execution_count": 115,
   "id": "2d62c0e0-5228-48a8-8603-999974debdf7",
   "metadata": {},
   "outputs": [
    {
     "data": {
      "text/plain": [
       "[('latest_page',)]"
      ]
     },
     "execution_count": 115,
     "metadata": {},
     "output_type": "execute_result"
    }
   ],
   "source": [
    "cur_mysql.execute('select database();')\n",
    "cur_mysql.fetchall()"
   ]
  },
  {
   "cell_type": "code",
   "execution_count": 120,
   "id": "017cfc01-7c51-495b-bbbf-6ce621c0f983",
   "metadata": {},
   "outputs": [
    {
     "data": {
      "text/plain": [
       "[('page',)]"
      ]
     },
     "execution_count": 120,
     "metadata": {},
     "output_type": "execute_result"
    }
   ],
   "source": [
    "cur_mysql.execute('show tables;')\n",
    "cur_mysql.fetchall()"
   ]
  },
  {
   "cell_type": "code",
   "execution_count": 119,
   "id": "b206c22b-68a0-4ce4-9dd8-2057958cf4f1",
   "metadata": {},
   "outputs": [],
   "source": [
    "cur_mysql.execute('DESCRIBE page;')\n",
    "schema = pd.DataFrame(cur_mysql.fetchall(), columns=['Field','Type','Null','Key','Default','Extra'])\n",
    "schema;"
   ]
  },
  {
   "cell_type": "code",
   "execution_count": 67,
   "id": "c08ade63-9517-4ee1-9579-21c803d0938c",
   "metadata": {},
   "outputs": [],
   "source": [
    "# schema.to_csv('../data/raw/schemas/schema_enwiki-latest-page.csv')"
   ]
  },
  {
   "cell_type": "markdown",
   "id": "b06b64c7-b2f6-42a1-952b-b3394b603117",
   "metadata": {
    "jp-MarkdownHeadingCollapsed": true,
    "tags": []
   },
   "source": [
    "### Check if import finished"
   ]
  },
  {
   "cell_type": "markdown",
   "id": "3f47a5e3-e3d2-4b3c-975a-ac59c8e556a0",
   "metadata": {
    "jp-MarkdownHeadingCollapsed": true,
    "tags": []
   },
   "source": [
    "#### Look for first record of table"
   ]
  },
  {
   "cell_type": "code",
   "execution_count": 98,
   "id": "07676d10-fae0-44de-94e2-f5139406c95b",
   "metadata": {},
   "outputs": [
    {
     "data": {
      "text/plain": [
       "[(10,\n",
       "  0,\n",
       "  bytearray(b'AccessibleComputing'),\n",
       "  b'',\n",
       "  1,\n",
       "  0,\n",
       "  0.33167112649574004,\n",
       "  bytearray(b'20211031215759'),\n",
       "  bytearray(b'20210715014751'),\n",
       "  1002250816,\n",
       "  111,\n",
       "  bytearray(b'wikitext'),\n",
       "  None)]"
      ]
     },
     "execution_count": 98,
     "metadata": {},
     "output_type": "execute_result"
    }
   ],
   "source": [
    "cur_mysql.execute(\"select * from page where page_title = 'AccessibleComputing';\")\n",
    "cur_mysql.fetchall()"
   ]
  },
  {
   "cell_type": "markdown",
   "id": "ebeae939-2ed2-4fa8-ab29-4cefa148296f",
   "metadata": {
    "jp-MarkdownHeadingCollapsed": true,
    "tags": []
   },
   "source": [
    "#### Look for one of the last records of table"
   ]
  },
  {
   "cell_type": "code",
   "execution_count": 88,
   "id": "03c5e029-3cda-4ac7-b56f-38315323253c",
   "metadata": {},
   "outputs": [
    {
     "data": {
      "text/plain": [
       "[]"
      ]
     },
     "execution_count": 88,
     "metadata": {},
     "output_type": "execute_result"
    }
   ],
   "source": [
    "cur_mysql.execute(\"select * from page where page_title = 'Traveler_Mijan';\")\n",
    "cur_mysql.fetchall()"
   ]
  },
  {
   "cell_type": "markdown",
   "id": "f182a9c5-3501-458a-9ff7-02085f0a2505",
   "metadata": {},
   "source": [
    "Import hadn't finished when it timed out during import."
   ]
  },
  {
   "cell_type": "markdown",
   "id": "56a7f5bf-8578-43c8-b089-050859eee8cd",
   "metadata": {
    "jp-MarkdownHeadingCollapsed": true,
    "tags": []
   },
   "source": [
    "## Not-repeated database setup"
   ]
  },
  {
   "cell_type": "markdown",
   "id": "6396e751-d89c-41b7-ade1-ac99f813ecf4",
   "metadata": {
    "tags": []
   },
   "source": [
    "### Import dump into MySQL manually in bash"
   ]
  },
  {
   "cell_type": "code",
   "execution_count": null,
   "id": "2c91404a-1d5c-4f72-b2a4-983367df0a12",
   "metadata": {},
   "outputs": [],
   "source": []
  },
  {
   "cell_type": "markdown",
   "id": "223bf412-60ea-448c-bd2e-ed2f3b7f8a5a",
   "metadata": {
    "tags": []
   },
   "source": [
    "#### Created the database"
   ]
  },
  {
   "cell_type": "code",
   "execution_count": 36,
   "id": "73b1d6bc-5447-474a-b7c6-1600f2dba9fd",
   "metadata": {},
   "outputs": [],
   "source": [
    "# cur_mysql.execute(\"CREATE DATABASE latest_page CHARACTER SET utf8 COLLATE utf8_bin;\")"
   ]
  },
  {
   "cell_type": "markdown",
   "id": "0e2a4b08-8a95-4a9c-a173-a9ca319e2c44",
   "metadata": {
    "tags": []
   },
   "source": [
    "#### Imported database from sql dump manually in bash"
   ]
  },
  {
   "cell_type": "markdown",
   "id": "fa03634a-2851-4f74-985c-1ee3c430ae7a",
   "metadata": {},
   "source": [
    "**bash**\n",
    "```bash\n",
    "mysql --user=bhrdwj --password=XXXXXXXX latest_page < enwiki-latest-page.sql > output.tab\n",
    "```"
   ]
  },
  {
   "cell_type": "markdown",
   "id": "2acd20ad-2da5-4473-ab36-ffdbd7c8cd7d",
   "metadata": {
    "jp-MarkdownHeadingCollapsed": true,
    "tags": []
   },
   "source": [
    "### User privileges with mysql connect"
   ]
  },
  {
   "cell_type": "markdown",
   "id": "3f444703-1599-4bb2-af45-9ddec9e791a0",
   "metadata": {
    "tags": []
   },
   "source": [
    "#### Granted privileges to default user"
   ]
  },
  {
   "cell_type": "code",
   "execution_count": 103,
   "id": "bfec8d83-c6b6-4b7a-a464-e54b7aad2fef",
   "metadata": {},
   "outputs": [],
   "source": [
    "# cur_mysql.execute(f\"GRANT ALL PRIVILEGES ON latest_page.* TO 'bhrdwj'@'localhost' IDENTIFIED BY '{mysql_def_pass}';\")"
   ]
  },
  {
   "cell_type": "code",
   "execution_count": 43,
   "id": "6efc5a0b-38ca-4ae5-b35b-a8371c8990b7",
   "metadata": {},
   "outputs": [],
   "source": [
    "# cur_mysql.execute(\"FLUSH PRIVILEGES;\")"
   ]
  },
  {
   "cell_type": "code",
   "execution_count": 40,
   "id": "d39096a9-073d-4d57-be3a-a4a2852c0686",
   "metadata": {},
   "outputs": [
    {
     "data": {
      "text/plain": [
       "[(\"GRANT USAGE ON *.* TO `bhrdwj`@`localhost` IDENTIFIED BY PASSWORD '*E5A65FB8301633C6247EC1EC461B78429C14BD14'\",),\n",
       " ('GRANT ALL PRIVILEGES ON `latest_categ`.* TO `bhrdwj`@`localhost`',),\n",
       " ('GRANT ALL PRIVILEGES ON `latest_page`.* TO `bhrdwj`@`localhost`',)]"
      ]
     },
     "execution_count": 40,
     "metadata": {},
     "output_type": "execute_result"
    }
   ],
   "source": [
    "cur_mysql.execute(\"SHOW GRANTS FOR 'bhrdwj'@'localhost';\")\n",
    "cur_mysql.fetchall()"
   ]
  },
  {
   "cell_type": "markdown",
   "id": "89fed234-b4e7-4130-93b4-20da8016b15d",
   "metadata": {
    "jp-MarkdownHeadingCollapsed": true,
    "tags": []
   },
   "source": [
    "#### Switching user as necessary"
   ]
  },
  {
   "cell_type": "code",
   "execution_count": 155,
   "id": "8b6aba01-9685-43c1-ae2f-d8b3f6650253",
   "metadata": {},
   "outputs": [],
   "source": [
    "# db_mysql.cmd_change_user(username=mysql_defaultuser, \n",
    "#                          password=mysql_def_pass,\n",
    "#                          database='latest_page'\n",
    "#                         )"
   ]
  },
  {
   "cell_type": "markdown",
   "id": "b7e89278-5ac1-4b2b-a09c-1a41f4b0edf9",
   "metadata": {
    "jp-MarkdownHeadingCollapsed": true,
    "tags": []
   },
   "source": [
    "## Whatever <mark>wouldn't work</mark> in mysql.connector yet"
   ]
  },
  {
   "cell_type": "code",
   "execution_count": 27,
   "id": "bc14f391-2d83-4186-b6fc-0d7e27b44b8d",
   "metadata": {},
   "outputs": [],
   "source": [
    "# the following isn't working :p\n",
    "\n",
    "# subprocess.call(['sudo', 'service', '/usr/bin/mysql', 'start'], \n",
    "#                     shell=True, \n",
    "#                     stdin=subprocess.PIPE,\n",
    "#                     stdout=subprocess.PIPE,\n",
    "#                     stderr=subprocess.PIPE)"
   ]
  },
  {
   "cell_type": "code",
   "execution_count": 160,
   "id": "291d406c-44e4-4b29-abdc-c2c99bb7d32f",
   "metadata": {},
   "outputs": [],
   "source": [
    "with open('../data/raw/enwiki-latest-page.sql', 'r') as f:\n",
    "    for line in f:\n",
    "        cur_mysql.execute(line, multi=True)\n",
    "        db_mysql.commit()"
   ]
  },
  {
   "cell_type": "code",
   "execution_count": 153,
   "id": "b64a0ced-7098-4231-889d-ace919bbf460",
   "metadata": {},
   "outputs": [
    {
     "ename": "MemoryError",
     "evalue": "",
     "output_type": "error",
     "traceback": [
      "\u001b[0;31m---------------------------------------------------------------------------\u001b[0m",
      "\u001b[0;31mMemoryError\u001b[0m                               Traceback (most recent call last)",
      "\u001b[0;32m/tmp/ipykernel_9729/619133348.py\u001b[0m in \u001b[0;36m<module>\u001b[0;34m\u001b[0m\n\u001b[1;32m      1\u001b[0m \u001b[0;32mwith\u001b[0m \u001b[0mopen\u001b[0m\u001b[0;34m(\u001b[0m\u001b[0;34m'../data/raw/enwiki-latest-page.sql'\u001b[0m\u001b[0;34m,\u001b[0m \u001b[0;34m'r'\u001b[0m\u001b[0;34m)\u001b[0m \u001b[0;32mas\u001b[0m \u001b[0mf\u001b[0m\u001b[0;34m:\u001b[0m\u001b[0;34m\u001b[0m\u001b[0;34m\u001b[0m\u001b[0m\n\u001b[0;32m----> 2\u001b[0;31m     \u001b[0mcur_mysql\u001b[0m\u001b[0;34m.\u001b[0m\u001b[0mexecute\u001b[0m\u001b[0;34m(\u001b[0m\u001b[0mf\u001b[0m\u001b[0;34m.\u001b[0m\u001b[0mread\u001b[0m\u001b[0;34m(\u001b[0m\u001b[0;34m)\u001b[0m\u001b[0;34m,\u001b[0m \u001b[0mmulti\u001b[0m\u001b[0;34m=\u001b[0m\u001b[0;32mTrue\u001b[0m\u001b[0;34m)\u001b[0m\u001b[0;34m\u001b[0m\u001b[0;34m\u001b[0m\u001b[0m\n\u001b[0m\u001b[1;32m      3\u001b[0m     \u001b[0mdb_mysql\u001b[0m\u001b[0;34m.\u001b[0m\u001b[0mcommit\u001b[0m\u001b[0;34m(\u001b[0m\u001b[0;34m)\u001b[0m\u001b[0;34m\u001b[0m\u001b[0;34m\u001b[0m\u001b[0m\n",
      "\u001b[0;32m~/anaconda3/envs/py39/lib/python3.9/codecs.py\u001b[0m in \u001b[0;36mdecode\u001b[0;34m(self, input, final)\u001b[0m\n\u001b[1;32m    320\u001b[0m         \u001b[0;31m# decode input (taking the buffer into account)\u001b[0m\u001b[0;34m\u001b[0m\u001b[0;34m\u001b[0m\u001b[0m\n\u001b[1;32m    321\u001b[0m         \u001b[0mdata\u001b[0m \u001b[0;34m=\u001b[0m \u001b[0mself\u001b[0m\u001b[0;34m.\u001b[0m\u001b[0mbuffer\u001b[0m \u001b[0;34m+\u001b[0m \u001b[0minput\u001b[0m\u001b[0;34m\u001b[0m\u001b[0;34m\u001b[0m\u001b[0m\n\u001b[0;32m--> 322\u001b[0;31m         \u001b[0;34m(\u001b[0m\u001b[0mresult\u001b[0m\u001b[0;34m,\u001b[0m \u001b[0mconsumed\u001b[0m\u001b[0;34m)\u001b[0m \u001b[0;34m=\u001b[0m \u001b[0mself\u001b[0m\u001b[0;34m.\u001b[0m\u001b[0m_buffer_decode\u001b[0m\u001b[0;34m(\u001b[0m\u001b[0mdata\u001b[0m\u001b[0;34m,\u001b[0m \u001b[0mself\u001b[0m\u001b[0;34m.\u001b[0m\u001b[0merrors\u001b[0m\u001b[0;34m,\u001b[0m \u001b[0mfinal\u001b[0m\u001b[0;34m)\u001b[0m\u001b[0;34m\u001b[0m\u001b[0;34m\u001b[0m\u001b[0m\n\u001b[0m\u001b[1;32m    323\u001b[0m         \u001b[0;31m# keep undecoded input until the next call\u001b[0m\u001b[0;34m\u001b[0m\u001b[0;34m\u001b[0m\u001b[0m\n\u001b[1;32m    324\u001b[0m         \u001b[0mself\u001b[0m\u001b[0;34m.\u001b[0m\u001b[0mbuffer\u001b[0m \u001b[0;34m=\u001b[0m \u001b[0mdata\u001b[0m\u001b[0;34m[\u001b[0m\u001b[0mconsumed\u001b[0m\u001b[0;34m:\u001b[0m\u001b[0;34m]\u001b[0m\u001b[0;34m\u001b[0m\u001b[0;34m\u001b[0m\u001b[0m\n",
      "\u001b[0;31mMemoryError\u001b[0m: "
     ]
    }
   ],
   "source": [
    "with open('../data/raw/enwiki-latest-page.sql', 'r') as f:\n",
    "    cur_mysql.execute(f.read(), multi=True)\n",
    "    db_mysql.commit()"
   ]
  },
  {
   "cell_type": "code",
   "execution_count": null,
   "id": "0c74d94b-b8fc-4a56-aff3-ad74459ed9c1",
   "metadata": {},
   "outputs": [],
   "source": []
  },
  {
   "cell_type": "code",
   "execution_count": null,
   "id": "4d97773f-cdd0-4416-8b04-c148e8e70064",
   "metadata": {},
   "outputs": [],
   "source": []
  },
  {
   "cell_type": "markdown",
   "id": "18a8bd89-b7b9-4922-a510-c9e69e300658",
   "metadata": {},
   "source": [
    "## <mark>Fix how mariadb keeps dying</mark>"
   ]
  },
  {
   "cell_type": "markdown",
   "id": "04dd1d95-77e3-482a-b386-68411fe9f423",
   "metadata": {},
   "source": [
    "https://askubuntu.com/questions/750604/why-does-mariadb-keep-dying-how-do-i-stop-it"
   ]
  }
 ],
 "metadata": {
  "kernelspec": {
   "display_name": "Python 3 (ipykernel)",
   "language": "python",
   "name": "python3"
  },
  "language_info": {
   "codemirror_mode": {
    "name": "ipython",
    "version": 3
   },
   "file_extension": ".py",
   "mimetype": "text/x-python",
   "name": "python",
   "nbconvert_exporter": "python",
   "pygments_lexer": "ipython3",
   "version": "3.9.7"
  }
 },
 "nbformat": 4,
 "nbformat_minor": 5
}
