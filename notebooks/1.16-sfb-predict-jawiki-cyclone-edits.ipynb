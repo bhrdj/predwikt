{
 "cells": [
  {
   "cell_type": "markdown",
   "id": "9c4bf126-6b3b-4ff8-b0df-b7267c8311e0",
   "metadata": {},
   "source": [
    "# Predict edits to articles in the Tropical Cyclones category"
   ]
  },
  {
   "cell_type": "markdown",
   "id": "29eefdee-358d-49a8-ac83-dece541567e4",
   "metadata": {
    "tags": []
   },
   "source": [
    "## Goals & Plans"
   ]
  },
  {
   "cell_type": "markdown",
   "id": "222800d2-e734-4d00-a406-d97cea02435b",
   "metadata": {},
   "source": [
    "Predict daily edits to pages in jawiki category: Tropical Cyclones (熱帯低気圧)"
   ]
  },
  {
   "cell_type": "markdown",
   "id": "aa7c9527-dbc3-434c-9460-221ba3d477f3",
   "metadata": {
    "tags": []
   },
   "source": [
    "### Steps"
   ]
  },
  {
   "cell_type": "markdown",
   "id": "1d57d304-ae60-4042-b466-1922750e4611",
   "metadata": {
    "tags": []
   },
   "source": [
    "#### ETL to get processed-input dataframes:"
   ]
  },
  {
   "cell_type": "markdown",
   "id": "4b862f77-0409-4ca3-aec6-321a71b8775f",
   "metadata": {},
   "source": [
    "- tcyc_page_ids_and_names  (data dump or https://ja.wikipedia.org/wiki/Category:%E7%86%B1%E5%B8%AF%E4%BD%8E%E6%B0%97%E5%9C%A7)\n",
    "- target_dayseries (edit counts)  (data dump or https://wikimedia.org/api/rest_v1/#/)  (timezone?)\n",
    "- target_dayseries (pageviews) https://wikimedia.org/api/rest_v1/#/Pageviews_data/get_metrics_pageviews\n",
    "- jp_cyc (landfall data etc)"
   ]
  },
  {
   "cell_type": "markdown",
   "id": "8def49fe-0653-437a-8eb9-e31f07d59d74",
   "metadata": {},
   "source": [
    "#### Quant Analysis"
   ]
  },
  {
   "cell_type": "markdown",
   "id": "7ce9bc08-695d-432c-90a6-1a0ce4e0d3bc",
   "metadata": {},
   "source": [
    "- overall lags\n",
    "    - Estimate mean/median/mode lags of edits around a tcyc versus landfall\n",
    "    - T-test (?) of mean lag for each of m/m/m lag to check if it's different from zero\n",
    "- proportions of edits by time category\n",
    "    - time categories\n",
    "        - reactive edits\n",
    "        - in-season edits\n",
    "        - off-season edits\n",
    "    - cross reference time-categories with user-categories\n",
    "        - weather-specialist editors\n",
    "        - frequent editors\n",
    "        - infrequent registered editors\n",
    "        - IP editors (by location?)\n",
    "    - cross-reference time-categories with different subcategories\n",
    "        - tcyc in Japan versus storms in other particular continents\n",
    "        - tcyc-science articles versus tcyc-storm articles\n",
    "        - compare edit counts b/o damages, storm strength"
   ]
  },
  {
   "cell_type": "markdown",
   "id": "9d3282ed-731c-4e25-86cd-a2dca7f47869",
   "metadata": {},
   "source": [
    "#### Predict"
   ]
  },
  {
   "cell_type": "markdown",
   "id": "93a7777d-51dc-4860-92b2-7ef75bacefe4",
   "metadata": {},
   "source": [
    "- baseline preds by day\n",
    "    - get residuals from raw values\n",
    "    - values could be:\n",
    "        - editcounts\n",
    "        - residuals\n",
    "        - reverted-edits\n",
    "- predict residual pageviews & edits based on landfall, landfall-severity, lagged vars (including self)\n",
    "    - plot edit-spread around landfall and predictions\n",
    "- predict non-tcyc edits\n",
    "    - with similar features\n",
    "- interesting questions:\n",
    "    - Are non-tcyc edits \"diverted\" to tcyc's?\n",
    "    - Are edits during crises less/more likely to get quickly reverted?\n",
    "        - Are users whose first edit occurs during a crisis more or less likely to become long-term contributors?"
   ]
  },
  {
   "cell_type": "markdown",
   "id": "d3434122-346f-4e82-af10-70df2674196f",
   "metadata": {
    "jp-MarkdownHeadingCollapsed": true,
    "tags": []
   },
   "source": [
    "### Details of processed-input dataframes"
   ]
  },
  {
   "cell_type": "markdown",
   "id": "a26fd6fd-5ae6-4f79-822d-870b0598521a",
   "metadata": {},
   "source": [
    "- Table **tcyc_page_ids_and_names:**\n",
    "    - Purpose: Help generate the target_dayseries\n",
    "    - Includes: One row for each page_id / page name combo in wikiproject\n",
    "    - Primary key (2-col pk): page_id, page name\n",
    "    - Other columns: none\n",
    "    - Sorting: By page_id, then by page name"
   ]
  },
  {
   "cell_type": "markdown",
   "id": "581941de-4411-4d7f-9f47-84a9726f6b32",
   "metadata": {},
   "source": [
    "- Table **target_dayseries:**\n",
    "    - Purpose: hold raw targets, baseline predictions, and deltas for-analysis\n",
    "    - Includes: One row for every day during period\n",
    "    - Primary key: edit_day (datetime)\n",
    "    - Other columns:  \n",
    "```\n",
    "editcount_all_raw,        editcount_cat_raw,  \n",
    "editcount_all_basepreds,     editcount_cat_basepreds,  \n",
    "delta_all_actual_basepreds,  delta_cat_actual_basepreds,\n",
    "```"
   ]
  },
  {
   "cell_type": "markdown",
   "id": "480d24a2-8b35-425c-b152-d8e1ab104d40",
   "metadata": {
    "jp-MarkdownHeadingCollapsed": true,
    "tags": []
   },
   "source": [
    "### Sources"
   ]
  },
  {
   "cell_type": "markdown",
   "id": "b88b2acd-082e-4d3a-b99e-8330aa8a6655",
   "metadata": {},
   "source": [
    "- Articles in the Tropical Cyclones category: ([jawiki categories](https://ja.wikipedia.org/wiki/Category:%E7%86%B1%E5%B8%AF%E4%BD%8E%E6%B0%97%E5%9C%A7))  \n",
    "- Articles to exclude: \n",
    "    - People who died in tcyc's ([jawiki categories](https://ja.wikipedia.org/wiki/Category:%E6%B4%9E%E7%88%BA%E4%B8%B8%E4%BA%8B%E6%95%85%E3%81%AE%E7%8A%A0%E7%89%B2%E8%80%85))\n",
    "    - English-name-articles for names that got assigned to tcyc's: ([jawiki categories](https://ja.wikipedia.org/wiki/Category:%E5%8F%B0%E9%A2%A8%E3%81%AE%E8%8B%B1%E5%90%8D))\n",
    "- Pageviews:\n",
    "    - 熱帯低気圧 ([jawiki page](https://ja.wikipedia.org/wiki/%E7%86%B1%E5%B8%AF%E4%BD%8E%E6%B0%97%E5%9C%A7)) ([data source](https://pageviews.toolforge.org/?project=ja.wikipedia.org&platform=all-access&agent=user&redirects=0&range=all-time&pages=%E7%86%B1%E5%B8%AF%E4%BD%8E%E6%B0%97%E5%9C%A7))"
   ]
  },
  {
   "cell_type": "markdown",
   "id": "7b201527-0a39-40e8-ab0c-82bc339ce2b4",
   "metadata": {
    "tags": []
   },
   "source": [
    "## Get data"
   ]
  },
  {
   "cell_type": "markdown",
   "id": "ad603b5a-be10-44e1-8dd8-c8a071f56c8b",
   "metadata": {
    "tags": []
   },
   "source": [
    "### data prep imports"
   ]
  },
  {
   "cell_type": "code",
   "execution_count": 1,
   "id": "4d495680-be12-429b-8bdb-effb6eb21091",
   "metadata": {},
   "outputs": [],
   "source": [
    "import pandas as pd, numpy as np, seaborn as sns, mysql.connector as mysql\n",
    "import os, re, sqlalchemy, datetime\n",
    "# from pathlib import Path\n",
    "import pickle"
   ]
  },
  {
   "cell_type": "markdown",
   "id": "d6f1ed0c-1476-4d51-a7e2-346a91874344",
   "metadata": {
    "tags": []
   },
   "source": [
    "### read prepped data"
   ]
  },
  {
   "cell_type": "code",
   "execution_count": 2,
   "id": "72040788-f5a8-4388-8d8d-3acf13443259",
   "metadata": {},
   "outputs": [],
   "source": [
    "damage = pd.read_csv('../data/raw/weather/japan_nii/damage.tsv', sep='\\t')\n",
    "landfall = pd.read_csv('../data/raw/weather/japan_nii/landfall.tsv', sep='\\t')"
   ]
  },
  {
   "cell_type": "markdown",
   "id": "178be615-6785-4dfa-bdfe-f8b2fe0edc24",
   "metadata": {
    "tags": []
   },
   "source": [
    "### Import jawiki into sql"
   ]
  },
  {
   "cell_type": "markdown",
   "id": "40bd1813-7047-411d-bcaf-96db20f6b1d9",
   "metadata": {
    "tags": []
   },
   "source": [
    "#### table list"
   ]
  },
  {
   "cell_type": "markdown",
   "id": "14400c5a-3636-475c-b5ea-522c9d9a7ba8",
   "metadata": {},
   "source": [
    "- unified tables:\n",
    "    - category\n",
    "    - categorylinks\n",
    "    - page\n",
    "- revisions tables:\n",
    "    - (each year)"
   ]
  },
  {
   "cell_type": "markdown",
   "id": "de00de0c-c600-415b-95d9-1c5c325c4aa1",
   "metadata": {
    "tags": []
   },
   "source": [
    "#### import script"
   ]
  },
  {
   "cell_type": "markdown",
   "id": "3e440b79-ddcd-4e19-9140-8cf2e36094ec",
   "metadata": {},
   "source": [
    "Import these tables into a single MySQL database: \"jawiki\"  \n",
    "```bash\n",
    "mysql --user=root --password=XXXXXXXX\n",
    "```\n",
    "\n",
    "```SQL\n",
    "CREATE DATABASE jawiki CHARACTER SET utf8 COLLATE utf8_bin;\n",
    "USE jawiki;\n",
    "GRANT ALL PRIVILEGES ON jawiki TO bhrdwj@localhost IDENTIFIED BY XXXXXXX;\n",
    "GRANT ALL PRIVILEGES ON jawiki.* TO bhrdwj@localhost IDENTIFIED BY XXXXXXX;\n",
    "EXIT\n",
    "```\n",
    "\n",
    "```bash\n",
    "mysql --user=bhrdwj --password=XXXXXXX jawiki < jawiki-20211220-category.sql > output.tab\n",
    "mysql --user=bhrdwj --password=XXXXXXX jawiki < jawiki-20211220-page.sql > output2.tab\n",
    "mysql --user=bhrdwj --password=XXXXXXX jawiki < jawiki-20211220-categorylinks.sql > output3.tab\n",
    "```\n",
    "\n",
    "*See notebook 1.15 for importing history tables*"
   ]
  },
  {
   "cell_type": "markdown",
   "id": "b26d0a21-620a-4fcc-b84a-90b112a8c7e8",
   "metadata": {
    "tags": []
   },
   "source": [
    "### Get sql data"
   ]
  },
  {
   "cell_type": "markdown",
   "id": "921af51f-a461-4f12-94af-cf8b00afc876",
   "metadata": {
    "tags": []
   },
   "source": [
    "#### turn on sql in bash"
   ]
  },
  {
   "cell_type": "markdown",
   "id": "32279fc5-e061-4ffd-ade5-de9f93785685",
   "metadata": {},
   "source": [
    "```bash\n",
    "sudo service mysqld start\n",
    "netstat -lnp | grep mysql\n",
    "```"
   ]
  },
  {
   "cell_type": "code",
   "execution_count": 6,
   "id": "ab080f70-7953-404b-b90c-d393fda9d72a",
   "metadata": {},
   "outputs": [],
   "source": [
    "mysql_superuser = 'root'\n",
    "# mysql_su_pass = input(f'Enter the MySQL password for user {mysql_superuser}: ')"
   ]
  },
  {
   "cell_type": "markdown",
   "id": "52437445-8ce5-406a-96b9-7164bf2d7172",
   "metadata": {
    "tags": []
   },
   "source": [
    "#### Initialize a connection and cursor"
   ]
  },
  {
   "cell_type": "code",
   "execution_count": 7,
   "id": "376e7f1f-9d6a-4c57-bf2b-b50fda963fe6",
   "metadata": {},
   "outputs": [],
   "source": [
    "host='localhost'; user=mysql_superuser; passwd=mysql_su_pass; dbname='jawiki';\n",
    "cxn = mysql.connect(host=host,user=user,passwd=passwd, database=dbname) # not the first time around\n",
    "cur = cxn.cursor()"
   ]
  },
  {
   "cell_type": "markdown",
   "id": "d8c62494-d64f-4779-9c86-6ba574b5d4ce",
   "metadata": {
    "tags": []
   },
   "source": [
    "#### Check what's in mysql, pick a database (SILENCED)"
   ]
  },
  {
   "cell_type": "raw",
   "id": "9892b6ef-4c7e-4cdb-9655-8727476a10ab",
   "metadata": {},
   "source": [
    "cur.execute('select user();');       print(cur.fetchall())\n",
    "cur.execute('show databases;');      print(cur.fetchall())"
   ]
  },
  {
   "cell_type": "raw",
   "id": "8054a240-e19c-4d52-8d2a-fd4def806d03",
   "metadata": {},
   "source": [
    "dbname = 'jawiki'\n",
    "cur.execute(f'use {dbname};')\n",
    "cur.execute('select database();');   print(cur.fetchall())\n",
    "cur.execute('show tables;');         print(cur.fetchall())"
   ]
  },
  {
   "cell_type": "markdown",
   "id": "edf75336-8619-446e-89fb-bee45190a33d",
   "metadata": {},
   "source": [
    "#### Initialize an engine"
   ]
  },
  {
   "cell_type": "code",
   "execution_count": 8,
   "id": "ff58564f-7f4b-45ed-b6c1-9b887d6fd775",
   "metadata": {},
   "outputs": [
    {
     "data": {
      "text/plain": [
       "dict_keys(['category', 'categorylinks', 'page'])"
      ]
     },
     "execution_count": 8,
     "metadata": {},
     "output_type": "execute_result"
    }
   ],
   "source": [
    "# Finally, let's instantiate a SQL alchemy engine, so we can pass results sets into pandas and evaluate them here \n",
    "connection_str = 'mysql+mysqlconnector://'+user+':'+passwd+'@'+host+'/'+dbname  # removed this after host +':'+dbport\n",
    "try:\n",
    "    engine1 = sqlalchemy.create_engine(connection_str)\n",
    "    conn1 = engine1.connect()\n",
    "except:\n",
    "    print('Database connection error - check creds')\n",
    "metadata = sqlalchemy.MetaData(conn1)\n",
    "metadata.reflect()\n",
    "metadata.tables.keys()"
   ]
  },
  {
   "cell_type": "markdown",
   "id": "cb556651-127a-4e42-9790-d07fdfe1b2b2",
   "metadata": {
    "tags": []
   },
   "source": [
    "#### Count rows in a table (SILENCED)"
   ]
  },
  {
   "cell_type": "raw",
   "id": "eb13e6f6-c3ad-4502-9385-0375971d56a3",
   "metadata": {},
   "source": [
    "sql_eda2 = f'select count(*) from {tblname};'\n",
    "print(datetime.datetime.now())\n",
    "sql_rows = pd.read_sql(sql_eda2,engine1)\n",
    "print(sql_rows)\n",
    "print(datetime.datetime.now())"
   ]
  },
  {
   "cell_type": "markdown",
   "id": "e74e5eab-ee85-4a30-a42e-e014572f3a96",
   "metadata": {
    "tags": []
   },
   "source": [
    "#### Show table head (SILENCED)"
   ]
  },
  {
   "cell_type": "raw",
   "id": "963efeda-3403-4414-bbc1-59ba6e0b29cd",
   "metadata": {},
   "source": [
    "tblname = 'categorylinks'\n",
    "cur.execute(f'SELECT * FROM {tblname} LIMIT 10;');   \n",
    "firstfew = cur.fetchall();   firstfew;"
   ]
  },
  {
   "cell_type": "markdown",
   "id": "0dd8e0b6-1500-4c38-9d2f-54ab581f6628",
   "metadata": {
    "tags": []
   },
   "source": [
    "#### Get tables' schemas"
   ]
  },
  {
   "cell_type": "code",
   "execution_count": 9,
   "id": "415d5bc6-3896-4044-930a-ac0afee2606c",
   "metadata": {},
   "outputs": [
    {
     "name": "stdout",
     "output_type": "stream",
     "text": [
      "category\n"
     ]
    },
    {
     "data": {
      "text/html": [
       "<div>\n",
       "<style scoped>\n",
       "    .dataframe tbody tr th:only-of-type {\n",
       "        vertical-align: middle;\n",
       "    }\n",
       "\n",
       "    .dataframe tbody tr th {\n",
       "        vertical-align: top;\n",
       "    }\n",
       "\n",
       "    .dataframe thead th {\n",
       "        text-align: right;\n",
       "    }\n",
       "</style>\n",
       "<table border=\"1\" class=\"dataframe\">\n",
       "  <thead>\n",
       "    <tr style=\"text-align: right;\">\n",
       "      <th></th>\n",
       "      <th>Field</th>\n",
       "      <th>Type</th>\n",
       "      <th>Null</th>\n",
       "      <th>Key</th>\n",
       "      <th>Default</th>\n",
       "      <th>Extra</th>\n",
       "    </tr>\n",
       "  </thead>\n",
       "  <tbody>\n",
       "    <tr>\n",
       "      <th>0</th>\n",
       "      <td>cat_id</td>\n",
       "      <td>int(10) unsigned</td>\n",
       "      <td>NO</td>\n",
       "      <td>PRI</td>\n",
       "      <td>None</td>\n",
       "      <td>auto_increment</td>\n",
       "    </tr>\n",
       "    <tr>\n",
       "      <th>1</th>\n",
       "      <td>cat_title</td>\n",
       "      <td>varbinary(255)</td>\n",
       "      <td>NO</td>\n",
       "      <td>UNI</td>\n",
       "      <td></td>\n",
       "      <td></td>\n",
       "    </tr>\n",
       "    <tr>\n",
       "      <th>2</th>\n",
       "      <td>cat_pages</td>\n",
       "      <td>int(11)</td>\n",
       "      <td>NO</td>\n",
       "      <td>MUL</td>\n",
       "      <td>0</td>\n",
       "      <td></td>\n",
       "    </tr>\n",
       "    <tr>\n",
       "      <th>3</th>\n",
       "      <td>cat_subcats</td>\n",
       "      <td>int(11)</td>\n",
       "      <td>NO</td>\n",
       "      <td></td>\n",
       "      <td>0</td>\n",
       "      <td></td>\n",
       "    </tr>\n",
       "    <tr>\n",
       "      <th>4</th>\n",
       "      <td>cat_files</td>\n",
       "      <td>int(11)</td>\n",
       "      <td>NO</td>\n",
       "      <td></td>\n",
       "      <td>0</td>\n",
       "      <td></td>\n",
       "    </tr>\n",
       "  </tbody>\n",
       "</table>\n",
       "</div>"
      ],
      "text/plain": [
       "         Field              Type Null  Key Default           Extra\n",
       "0       cat_id  int(10) unsigned   NO  PRI    None  auto_increment\n",
       "1    cat_title    varbinary(255)   NO  UNI                        \n",
       "2    cat_pages           int(11)   NO  MUL       0                \n",
       "3  cat_subcats           int(11)   NO            0                \n",
       "4    cat_files           int(11)   NO            0                "
      ]
     },
     "metadata": {},
     "output_type": "display_data"
    },
    {
     "name": "stdout",
     "output_type": "stream",
     "text": [
      "categorylinks\n"
     ]
    },
    {
     "data": {
      "text/html": [
       "<div>\n",
       "<style scoped>\n",
       "    .dataframe tbody tr th:only-of-type {\n",
       "        vertical-align: middle;\n",
       "    }\n",
       "\n",
       "    .dataframe tbody tr th {\n",
       "        vertical-align: top;\n",
       "    }\n",
       "\n",
       "    .dataframe thead th {\n",
       "        text-align: right;\n",
       "    }\n",
       "</style>\n",
       "<table border=\"1\" class=\"dataframe\">\n",
       "  <thead>\n",
       "    <tr style=\"text-align: right;\">\n",
       "      <th></th>\n",
       "      <th>Field</th>\n",
       "      <th>Type</th>\n",
       "      <th>Null</th>\n",
       "      <th>Key</th>\n",
       "      <th>Default</th>\n",
       "      <th>Extra</th>\n",
       "    </tr>\n",
       "  </thead>\n",
       "  <tbody>\n",
       "    <tr>\n",
       "      <th>0</th>\n",
       "      <td>cl_from</td>\n",
       "      <td>int(8) unsigned</td>\n",
       "      <td>NO</td>\n",
       "      <td>PRI</td>\n",
       "      <td>0</td>\n",
       "      <td></td>\n",
       "    </tr>\n",
       "    <tr>\n",
       "      <th>1</th>\n",
       "      <td>cl_to</td>\n",
       "      <td>varbinary(255)</td>\n",
       "      <td>NO</td>\n",
       "      <td>PRI</td>\n",
       "      <td></td>\n",
       "      <td></td>\n",
       "    </tr>\n",
       "    <tr>\n",
       "      <th>2</th>\n",
       "      <td>cl_sortkey</td>\n",
       "      <td>varbinary(230)</td>\n",
       "      <td>NO</td>\n",
       "      <td></td>\n",
       "      <td></td>\n",
       "      <td></td>\n",
       "    </tr>\n",
       "    <tr>\n",
       "      <th>3</th>\n",
       "      <td>cl_timestamp</td>\n",
       "      <td>timestamp</td>\n",
       "      <td>NO</td>\n",
       "      <td></td>\n",
       "      <td>current_timestamp()</td>\n",
       "      <td>on update current_timestamp()</td>\n",
       "    </tr>\n",
       "    <tr>\n",
       "      <th>4</th>\n",
       "      <td>cl_sortkey_prefix</td>\n",
       "      <td>varbinary(255)</td>\n",
       "      <td>NO</td>\n",
       "      <td></td>\n",
       "      <td></td>\n",
       "      <td></td>\n",
       "    </tr>\n",
       "    <tr>\n",
       "      <th>5</th>\n",
       "      <td>cl_collation</td>\n",
       "      <td>varbinary(32)</td>\n",
       "      <td>NO</td>\n",
       "      <td>MUL</td>\n",
       "      <td></td>\n",
       "      <td></td>\n",
       "    </tr>\n",
       "    <tr>\n",
       "      <th>6</th>\n",
       "      <td>cl_type</td>\n",
       "      <td>enum('page','subcat','file')</td>\n",
       "      <td>NO</td>\n",
       "      <td></td>\n",
       "      <td>page</td>\n",
       "      <td></td>\n",
       "    </tr>\n",
       "  </tbody>\n",
       "</table>\n",
       "</div>"
      ],
      "text/plain": [
       "               Field                          Type Null  Key  \\\n",
       "0            cl_from               int(8) unsigned   NO  PRI   \n",
       "1              cl_to                varbinary(255)   NO  PRI   \n",
       "2         cl_sortkey                varbinary(230)   NO        \n",
       "3       cl_timestamp                     timestamp   NO        \n",
       "4  cl_sortkey_prefix                varbinary(255)   NO        \n",
       "5       cl_collation                 varbinary(32)   NO  MUL   \n",
       "6            cl_type  enum('page','subcat','file')   NO        \n",
       "\n",
       "               Default                          Extra  \n",
       "0                    0                                 \n",
       "1                                                      \n",
       "2                                                      \n",
       "3  current_timestamp()  on update current_timestamp()  \n",
       "4                                                      \n",
       "5                                                      \n",
       "6                 page                                 "
      ]
     },
     "metadata": {},
     "output_type": "display_data"
    },
    {
     "name": "stdout",
     "output_type": "stream",
     "text": [
      "page\n"
     ]
    },
    {
     "data": {
      "text/html": [
       "<div>\n",
       "<style scoped>\n",
       "    .dataframe tbody tr th:only-of-type {\n",
       "        vertical-align: middle;\n",
       "    }\n",
       "\n",
       "    .dataframe tbody tr th {\n",
       "        vertical-align: top;\n",
       "    }\n",
       "\n",
       "    .dataframe thead th {\n",
       "        text-align: right;\n",
       "    }\n",
       "</style>\n",
       "<table border=\"1\" class=\"dataframe\">\n",
       "  <thead>\n",
       "    <tr style=\"text-align: right;\">\n",
       "      <th></th>\n",
       "      <th>Field</th>\n",
       "      <th>Type</th>\n",
       "      <th>Null</th>\n",
       "      <th>Key</th>\n",
       "      <th>Default</th>\n",
       "      <th>Extra</th>\n",
       "    </tr>\n",
       "  </thead>\n",
       "  <tbody>\n",
       "    <tr>\n",
       "      <th>0</th>\n",
       "      <td>page_id</td>\n",
       "      <td>int(8) unsigned</td>\n",
       "      <td>NO</td>\n",
       "      <td>PRI</td>\n",
       "      <td>None</td>\n",
       "      <td>auto_increment</td>\n",
       "    </tr>\n",
       "    <tr>\n",
       "      <th>1</th>\n",
       "      <td>page_namespace</td>\n",
       "      <td>int(11)</td>\n",
       "      <td>NO</td>\n",
       "      <td>MUL</td>\n",
       "      <td>0</td>\n",
       "      <td></td>\n",
       "    </tr>\n",
       "    <tr>\n",
       "      <th>2</th>\n",
       "      <td>page_title</td>\n",
       "      <td>varbinary(255)</td>\n",
       "      <td>NO</td>\n",
       "      <td></td>\n",
       "      <td></td>\n",
       "      <td></td>\n",
       "    </tr>\n",
       "    <tr>\n",
       "      <th>3</th>\n",
       "      <td>page_restrictions</td>\n",
       "      <td>varbinary(255)</td>\n",
       "      <td>YES</td>\n",
       "      <td></td>\n",
       "      <td></td>\n",
       "      <td></td>\n",
       "    </tr>\n",
       "    <tr>\n",
       "      <th>4</th>\n",
       "      <td>page_is_redirect</td>\n",
       "      <td>tinyint(1) unsigned</td>\n",
       "      <td>NO</td>\n",
       "      <td>MUL</td>\n",
       "      <td>0</td>\n",
       "      <td></td>\n",
       "    </tr>\n",
       "    <tr>\n",
       "      <th>5</th>\n",
       "      <td>page_is_new</td>\n",
       "      <td>tinyint(1) unsigned</td>\n",
       "      <td>NO</td>\n",
       "      <td></td>\n",
       "      <td>0</td>\n",
       "      <td></td>\n",
       "    </tr>\n",
       "    <tr>\n",
       "      <th>6</th>\n",
       "      <td>page_random</td>\n",
       "      <td>double unsigned</td>\n",
       "      <td>NO</td>\n",
       "      <td>MUL</td>\n",
       "      <td>0</td>\n",
       "      <td></td>\n",
       "    </tr>\n",
       "    <tr>\n",
       "      <th>7</th>\n",
       "      <td>page_touched</td>\n",
       "      <td>varbinary(14)</td>\n",
       "      <td>NO</td>\n",
       "      <td></td>\n",
       "      <td>None</td>\n",
       "      <td></td>\n",
       "    </tr>\n",
       "    <tr>\n",
       "      <th>8</th>\n",
       "      <td>page_links_updated</td>\n",
       "      <td>varbinary(14)</td>\n",
       "      <td>YES</td>\n",
       "      <td></td>\n",
       "      <td>None</td>\n",
       "      <td></td>\n",
       "    </tr>\n",
       "    <tr>\n",
       "      <th>9</th>\n",
       "      <td>page_latest</td>\n",
       "      <td>int(8) unsigned</td>\n",
       "      <td>NO</td>\n",
       "      <td></td>\n",
       "      <td>0</td>\n",
       "      <td></td>\n",
       "    </tr>\n",
       "    <tr>\n",
       "      <th>10</th>\n",
       "      <td>page_len</td>\n",
       "      <td>int(8) unsigned</td>\n",
       "      <td>NO</td>\n",
       "      <td>MUL</td>\n",
       "      <td>0</td>\n",
       "      <td></td>\n",
       "    </tr>\n",
       "    <tr>\n",
       "      <th>11</th>\n",
       "      <td>page_content_model</td>\n",
       "      <td>varbinary(32)</td>\n",
       "      <td>YES</td>\n",
       "      <td></td>\n",
       "      <td>None</td>\n",
       "      <td></td>\n",
       "    </tr>\n",
       "    <tr>\n",
       "      <th>12</th>\n",
       "      <td>page_lang</td>\n",
       "      <td>varbinary(35)</td>\n",
       "      <td>YES</td>\n",
       "      <td></td>\n",
       "      <td>None</td>\n",
       "      <td></td>\n",
       "    </tr>\n",
       "  </tbody>\n",
       "</table>\n",
       "</div>"
      ],
      "text/plain": [
       "                 Field                 Type Null  Key Default           Extra\n",
       "0              page_id      int(8) unsigned   NO  PRI    None  auto_increment\n",
       "1       page_namespace              int(11)   NO  MUL       0                \n",
       "2           page_title       varbinary(255)   NO                             \n",
       "3    page_restrictions       varbinary(255)  YES                             \n",
       "4     page_is_redirect  tinyint(1) unsigned   NO  MUL       0                \n",
       "5          page_is_new  tinyint(1) unsigned   NO            0                \n",
       "6          page_random      double unsigned   NO  MUL       0                \n",
       "7         page_touched        varbinary(14)   NO         None                \n",
       "8   page_links_updated        varbinary(14)  YES         None                \n",
       "9          page_latest      int(8) unsigned   NO            0                \n",
       "10            page_len      int(8) unsigned   NO  MUL       0                \n",
       "11  page_content_model        varbinary(32)  YES         None                \n",
       "12           page_lang        varbinary(35)  YES         None                "
      ]
     },
     "metadata": {},
     "output_type": "display_data"
    }
   ],
   "source": [
    "tblnames = list(metadata.tables.keys())\n",
    "schemas = {}\n",
    "for tn in tblnames:\n",
    "    schemas[tn] = pd.read_sql(f'DESCRIBE {tn};', engine1)\n",
    "    print(tn)\n",
    "    display(schemas[tn])"
   ]
  },
  {
   "cell_type": "markdown",
   "id": "db48e283-c498-44e3-956b-d1abb2b90d37",
   "metadata": {
    "tags": []
   },
   "source": [
    "## get all nested subcats and pages in category: 熱帯低気圧"
   ]
  },
  {
   "cell_type": "markdown",
   "id": "400fb9c8-b775-45cb-a58b-28c30a47d87f",
   "metadata": {
    "tags": []
   },
   "source": [
    "### define functions, gcloud credentials"
   ]
  },
  {
   "cell_type": "markdown",
   "id": "5e66a53c-043a-426c-b033-77b0b360c9e8",
   "metadata": {
    "tags": []
   },
   "source": [
    "#### simple sql queries:"
   ]
  },
  {
   "cell_type": "code",
   "execution_count": 10,
   "id": "b15c437a-10c5-47f5-9330-c51b2858b6f1",
   "metadata": {},
   "outputs": [],
   "source": [
    "def mw_query(colval_dict, tblname, engine=engine1):\n",
    "    \"\"\"\n",
    "    Simple query for a SQL table like pandas \"loc\", for mediawiki data dumps.\n",
    "    Accepts: dict of filtering pairs: {colname:val, ...}\n",
    "    Returns tuple: (df, query)\n",
    "    Presumes all 'object' cols are bytearrays. (MAKE THIS OPTIONAL LATER.)\n",
    "    \"\"\"\n",
    "    d = colval_dict\n",
    "    \n",
    "    query = (\n",
    "        f'SELECT * FROM {tblname} WHERE ' +\n",
    "        ' AND '.join([\n",
    "                f'{col} = (_BINARY \"{d[col]}\")' \n",
    "                    if type(d[col]) == str else \n",
    "                f'{col} = {d[col]}'\n",
    "            for col in d\n",
    "        ]) +\n",
    "        ';'\n",
    "    )\n",
    "    \n",
    "    selected_rows = pd.read_sql(query, engine)\n",
    "    selected_rows = decode_df(selected_rows)\n",
    "    \n",
    "    return (selected_rows, query)\n",
    "\n",
    "def decode_df(df, encoding='utf-8'):\n",
    "    \"\"\"presume all 'object'-type cols of a pandas df are cols of bytearrays, and decode them.\"\"\"\n",
    "    str_df = df.select_dtypes(['object'])       # get list of columns that need decoding\n",
    "    str_df = str_df.stack().str.decode('utf-8').unstack()   # decode those columms\n",
    "    for col in str_df:\n",
    "        df[col] = str_df[col]                   # replace in original df\n",
    "    return df"
   ]
  },
  {
   "cell_type": "markdown",
   "id": "8dfc4d68-a6d2-4f11-ab22-8fcb10c9a1f2",
   "metadata": {
    "tags": []
   },
   "source": [
    "#### translate:  ja2en_txt, ja2en_ser"
   ]
  },
  {
   "cell_type": "markdown",
   "id": "597fc6b3-992d-4a58-b062-736287eebe66",
   "metadata": {
    "tags": []
   },
   "source": [
    "##### Get gcloud credentials"
   ]
  },
  {
   "cell_type": "code",
   "execution_count": 12,
   "id": "fe14b8b8-72a6-48f2-9684-3f7f0fc3b4eb",
   "metadata": {},
   "outputs": [],
   "source": [
    "import os, six\n",
    "from google.cloud import translate_v2 as translate\n",
    "\n",
    "os.environ['GOOGLE_APPLICATION_CREDENTIALS'] = '/home/bhrdwj/git/.my-translation-sa_keys.json'\n",
    "bq_client = translate.Client()"
   ]
  },
  {
   "cell_type": "markdown",
   "id": "48c9be0e-4988-4eb4-9b2c-a49351a79ff6",
   "metadata": {
    "tags": []
   },
   "source": [
    "##### functions for translation"
   ]
  },
  {
   "cell_type": "code",
   "execution_count": 13,
   "id": "963a2f0f-0089-4cf9-b5e3-bdc681648ad0",
   "metadata": {},
   "outputs": [],
   "source": [
    "translate_client = translate.Client()\n",
    "\n",
    "def ja2en_txt(el):\n",
    "    \"\"\"Translates text into the target language.\n",
    "    Target must be an ISO 639-1 language code.\n",
    "    See https://g.co/cloud/translate/v2/translate-reference#supported_languages\n",
    "    \"\"\"\n",
    "    # import six\n",
    "    # from google.cloud import translate_v2 as translate\n",
    "    translate_client = translate.Client()\n",
    "    \n",
    "    if isinstance(el, six.binary_type):\n",
    "        el = el.decode(\"utf-8\")\n",
    "    if not isinstance(el, str):\n",
    "        return el\n",
    "    \n",
    "    text = el\n",
    "    return translate_client.translate(\n",
    "        text, target_language='EN', source_language='JA'\n",
    "    )['translatedText']\n",
    "\n",
    "\n",
    "def ja2en_ser(ser):\n",
    "    \"\"\"\n",
    "    Maps each element of a series with ja2en_txt, only if the type is string\n",
    "    \"\"\"\n",
    "    assert isinstance(ser,pd.Series)\n",
    "    if pd.api.types.is_object_dtype(ser):\n",
    "        return ser.map(lambda x: translate_client.translate(x, target_language='EN', source_language='JA')['translatedText'])    \n",
    "    else:\n",
    "        return ser"
   ]
  },
  {
   "cell_type": "markdown",
   "id": "28743789-0b1a-404c-a37e-4062cb1e39aa",
   "metadata": {
    "tags": []
   },
   "source": [
    "### get all subcategories of category 熱帯低気圧"
   ]
  },
  {
   "cell_type": "markdown",
   "id": "3098bc6a-4b92-44ff-91db-2cd002b48b18",
   "metadata": {},
   "source": [
    "#### Initialize stack and output-collection"
   ]
  },
  {
   "cell_type": "code",
   "execution_count": 14,
   "id": "4b16b11a-ea58-4056-9915-9daa2ef44502",
   "metadata": {},
   "outputs": [],
   "source": [
    "topcattitle = '熱帯低気圧'\n",
    "slxn, query = mw_query({'cat_title':'熱帯低気圧'}, tblname='category')\n",
    "\n",
    "# stack of categories with subcats that haven't been queried yet\n",
    "catstack = [slxn.cat_id.values[0]]\n",
    "\n",
    "# storing the found categories' ids and titles\n",
    "all_subcats = {slxn.cat_id.values[0]: topcattitle}  # {cat_id, cat_title}"
   ]
  },
  {
   "cell_type": "code",
   "execution_count": 15,
   "id": "3a12bfce-88d9-471b-abfd-e408081e929e",
   "metadata": {},
   "outputs": [
    {
     "data": {
      "text/plain": [
       "[43024]"
      ]
     },
     "metadata": {},
     "output_type": "display_data"
    }
   ],
   "source": [
    "display(catstack)"
   ]
  },
  {
   "cell_type": "markdown",
   "id": "f0890f78-2977-4ae7-857f-04efb9e85215",
   "metadata": {},
   "source": [
    "#### Add subcats to stack of category page_id's, and pop thru them, until all are found "
   ]
  },
  {
   "cell_type": "code",
   "execution_count": 16,
   "id": "8e21c0c0-ae6e-4157-83e3-493e9154d4df",
   "metadata": {},
   "outputs": [],
   "source": [
    "while len(catstack) > 0:\n",
    "    cattitle = all_subcats[catstack.pop()]\n",
    "    slxn, query = mw_query({'cl_to':cattitle}, tblname='categorylinks')\n",
    "\n",
    "    cids = slxn.loc[slxn.cl_type=='subcat'].cl_from.tolist()\n",
    "    catstack = catstack + cids\n",
    "\n",
    "    cttls = [mw_query({'page_id':cid}, tblname='page')[0].page_title[0] for cid in cids]\n",
    "    all_subcats.update({cids[i]:cttls[i] for i in range(len(cids))})"
   ]
  },
  {
   "cell_type": "code",
   "execution_count": 17,
   "id": "6c4e4299-4c6e-4f8b-ab79-7c105250a5e5",
   "metadata": {},
   "outputs": [
    {
     "name": "stdout",
     "output_type": "stream",
     "text": [
      "SELECT * FROM categorylinks WHERE cl_to = (_BINARY \"2013年の台風\");\n"
     ]
    },
    {
     "data": {
      "text/plain": [
       "43024          熱帯低気圧\n",
       "159919            台風\n",
       "626534         サイクロン\n",
       "626516         ハリケーン\n",
       "2923547    地域別の熱帯低気圧\n",
       "             ...    \n",
       "4113125     1828年の台風\n",
       "4113116     1924年の台風\n",
       "4117210     1917年の台風\n",
       "4164115      989年の台風\n",
       "4164618     1856年の台風\n",
       "Length: 149, dtype: object"
      ]
     },
     "metadata": {},
     "output_type": "display_data"
    }
   ],
   "source": [
    "print(query)\n",
    "display(pd.Series(all_subcats))"
   ]
  },
  {
   "cell_type": "markdown",
   "id": "e63da443-0bfc-42e3-8831-cb2de0c6994f",
   "metadata": {
    "tags": []
   },
   "source": [
    "### get all member-pages of category 熱帯低気圧"
   ]
  },
  {
   "cell_type": "code",
   "execution_count": 18,
   "id": "51c9b783-a05f-4f22-94f8-b5916cb19007",
   "metadata": {},
   "outputs": [],
   "source": [
    "all_pages = {}\n",
    "\n",
    "for i in all_subcats:\n",
    "    slxn, query = mw_query({'cl_to':all_subcats[i]}, tblname='categorylinks')\n",
    "    pids = slxn.loc[slxn.cl_type=='page'].cl_from.tolist()\n",
    "    pttls = [mw_query({'page_id':pid}, tblname='page')[0].page_title[0] for pid in pids]\n",
    "    all_pages.update({pids[i]:pttls[i] for i in range(len(pids))})"
   ]
  },
  {
   "cell_type": "code",
   "execution_count": 19,
   "id": "b0b6c333-8542-4e50-b56f-149c34cc1666",
   "metadata": {},
   "outputs": [
    {
     "name": "stdout",
     "output_type": "stream",
     "text": [
      "SELECT * FROM categorylinks WHERE cl_to = (_BINARY \"1856年の台風\");\n"
     ]
    },
    {
     "data": {
      "text/plain": [
       "26863              サイクロン\n",
       "94451              ハリケーン\n",
       "527125             藤原の効果\n",
       "36650                積乱雲\n",
       "147548         ウィリー・ウィリー\n",
       "               ...      \n",
       "4152789    ヴィッキー_(曖昧さ回避)\n",
       "1917792              エミー\n",
       "1006963             アイオン\n",
       "4098865       令和元年台風第19号\n",
       "4098869       令和元年台風第15号\n",
       "Length: 2519, dtype: object"
      ]
     },
     "metadata": {},
     "output_type": "display_data"
    }
   ],
   "source": [
    "print(query)\n",
    "display(pd.Series(all_pages))"
   ]
  },
  {
   "cell_type": "markdown",
   "id": "104ea349-dfab-424f-9680-fbed5162ad5e",
   "metadata": {},
   "source": [
    "## get time series of revisions to these pages"
   ]
  },
  {
   "cell_type": "markdown",
   "id": "dc46b862-48e1-4cfe-86ee-e70e2e48957e",
   "metadata": {},
   "source": [
    "```bash\n",
    "\n",
    "```"
   ]
  },
  {
   "cell_type": "code",
   "execution_count": null,
   "id": "ec52a4cf-cef2-44f2-94d1-408d6071225a",
   "metadata": {},
   "outputs": [],
   "source": []
  },
  {
   "cell_type": "code",
   "execution_count": null,
   "id": "37146227-c712-46b8-ac43-00c3221bcd71",
   "metadata": {},
   "outputs": [],
   "source": []
  },
  {
   "cell_type": "code",
   "execution_count": null,
   "id": "c1aefd2e-932e-45f2-966d-f0c186dae24a",
   "metadata": {},
   "outputs": [],
   "source": []
  },
  {
   "cell_type": "markdown",
   "id": "6646c77f-01d6-4de7-afc7-449b51fc13f5",
   "metadata": {
    "tags": []
   },
   "source": [
    "# Failed methods"
   ]
  },
  {
   "cell_type": "markdown",
   "id": "24965d69-5332-496d-a305-573b0907354c",
   "metadata": {
    "tags": []
   },
   "source": [
    "## Get parent-categories. (I need children.) DON'T NEED THIS."
   ]
  },
  {
   "cell_type": "raw",
   "id": "893a3bba-7565-471e-bf63-44dad02395fa",
   "metadata": {},
   "source": [
    "# rows_en = rows.apply(ja2en_ser)\n",
    "# with open('../data/processed/jawiki_tcyclone_topcat31168_membpages.pickle', 'wb+') as file:\n",
    "#     pickle.dump(rows_en, file)\n",
    "with open('../data/processed/jawiki_tcyclone_topcat31168_membpages.pickle', 'rb') as file:\n",
    "    rows_en = pickle.load(file)\n",
    "rows_en"
   ]
  },
  {
   "cell_type": "markdown",
   "id": "86da7305-b0e6-49fb-952a-47dfae75c1c1",
   "metadata": {
    "jp-MarkdownHeadingCollapsed": true,
    "tags": []
   },
   "source": [
    "## Scrape page information. (Hard b/c lazy loading.) DATA DUMPS ARE BETTER"
   ]
  },
  {
   "cell_type": "markdown",
   "id": "d4055f8b-9d52-44cd-818c-0fece11e113c",
   "metadata": {},
   "source": [
    "Failed because wikipedia's [Extension: CategoryTree](https://www.mediawiki.org/wiki/Extension:CategoryTree) uses AJAX and might require selenium to scrape carefully."
   ]
  },
  {
   "cell_type": "markdown",
   "id": "c1f2dbef-8876-41f8-89d4-1e8dc836a912",
   "metadata": {
    "tags": []
   },
   "source": [
    "### scrape page identifiers"
   ]
  },
  {
   "cell_type": "raw",
   "id": "d77a1f78-5a97-4334-ab82-a11662abb553",
   "metadata": {},
   "source": [
    "import requests\n",
    "from bs4 import BeautifulSoup"
   ]
  },
  {
   "cell_type": "raw",
   "id": "19ae526b-0f5d-428a-b5aa-fd0cb1a9a244",
   "metadata": {},
   "source": [
    "req = requests.get('https://ja.wikipedia.org/wiki/Category:%E7%86%B1%E5%B8%AF%E4%BD%8E%E6%B0%97%E5%9C%A7')\n",
    "bs = BeautifulSoup(req.content, features='html.parser')"
   ]
  },
  {
   "cell_type": "raw",
   "id": "d547feda-9d6d-430e-84fb-1a010dc6112e",
   "metadata": {},
   "source": [
    "#### get pages"
   ]
  },
  {
   "cell_type": "raw",
   "id": "c534f71f-e89d-4b4b-8f0f-cef618da4b86",
   "metadata": {},
   "source": [
    "pages_in_TropicalCyclones_htmlchunk = bs.find('body').find('div',{'id':'mw-pages'}).find('div',{'class':'mw-category'}).find_all('li')"
   ]
  },
  {
   "cell_type": "raw",
   "id": "8bc43095-0fb5-46f3-bb38-b6a5ed87b77b",
   "metadata": {},
   "source": [
    "pages_in_TropicalCyclones = {}\n",
    "for li in pages_in_TropicalCyclones_htmlchunk:\n",
    "    pages_in_TropicalCyclones[\n",
    "            li.find('a').attrs['href']\n",
    "        ] = li.find('a').attrs['title']"
   ]
  },
  {
   "cell_type": "raw",
   "id": "6701c73b-0f99-4547-b29a-8755e4884b45",
   "metadata": {},
   "source": [
    "pages_in_TropicalCyclones"
   ]
  },
  {
   "cell_type": "raw",
   "id": "e0fee3a7-7370-415c-8b93-223af8813ef6",
   "metadata": {
    "tags": []
   },
   "source": [
    "### get categories "
   ]
  },
  {
   "cell_type": "raw",
   "id": "309224d5-b2ec-4bbb-942a-1dc9c4cf07a8",
   "metadata": {},
   "source": [
    "subcats_in_TropicalCyclones_htmlchunk = bs.find('body').find('div',{'id':'mw-subcategories'}).find_all('div',{'class':'CategoryTreeItem'})"
   ]
  },
  {
   "cell_type": "raw",
   "id": "d822113d-7bd4-4766-ac13-b6573663ef52",
   "metadata": {},
   "source": [
    "subcats_in_TropicalCyclones = {}\n",
    "for li in subcats_in_TropicalCyclones_htmlchunk:\n",
    "    subcats_in_TropicalCyclones[\n",
    "            li.find('a').attrs['href']\n",
    "        ] = li.find('a').attrs['title']"
   ]
  },
  {
   "cell_type": "raw",
   "id": "8b8031bf-a2af-4356-a825-fccc90f0ff47",
   "metadata": {},
   "source": [
    "bs.find('body').find('div',{'id':'mw-subcategories'})"
   ]
  },
  {
   "cell_type": "raw",
   "id": "0533c2ef-b344-42a6-a1f1-3eefec4a93d2",
   "metadata": {},
   "source": [
    "subcats_in_TropicalCyclones_htmlchunk"
   ]
  }
 ],
 "metadata": {
  "kernelspec": {
   "display_name": "Python 3 (ipykernel)",
   "language": "python",
   "name": "python3"
  },
  "language_info": {
   "codemirror_mode": {
    "name": "ipython",
    "version": 3
   },
   "file_extension": ".py",
   "mimetype": "text/x-python",
   "name": "python",
   "nbconvert_exporter": "python",
   "pygments_lexer": "ipython3",
   "version": "3.9.7"
  }
 },
 "nbformat": 4,
 "nbformat_minor": 5
}
