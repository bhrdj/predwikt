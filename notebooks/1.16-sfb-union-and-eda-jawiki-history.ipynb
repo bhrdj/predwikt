{
 "cells": [
  {
   "cell_type": "markdown",
   "id": "34301a84-cd16-4ce0-9e20-14f6419ddff0",
   "metadata": {},
   "source": [
    "# EDA"
   ]
  },
  {
   "cell_type": "markdown",
   "id": "dbd882f2-48a2-4a9f-b5db-ae1994041698",
   "metadata": {
    "jp-MarkdownHeadingCollapsed": true,
    "tags": []
   },
   "source": [
    "## intro"
   ]
  },
  {
   "cell_type": "markdown",
   "id": "b39dc016-6e47-4e88-9937-2028eeee7203",
   "metadata": {
    "jp-MarkdownHeadingCollapsed": true,
    "tags": []
   },
   "source": [
    "#### plan"
   ]
  },
  {
   "cell_type": "markdown",
   "id": "4a5d4259-e20a-4588-8ad6-632c8c101a61",
   "metadata": {},
   "source": [
    "now just need to:\n",
    "- remove most of the rows that had warnings\n",
    "- extract wiki-variables (features/targets) by category:\n",
    "    - daily edit count\n",
    "    - daily aggregate article expansion/contraction (+/- characters)\n",
    "    - daily # of unique users editing\n",
    "- pick some models to train and compare:\n",
    "    - which wiki-vars are targets\n",
    "    - which wiki-vars are features\n",
    "    - what window-functions for lags (make stationary model)\n",
    "    - (do external features later)"
   ]
  },
  {
   "cell_type": "markdown",
   "id": "3e06ddcd-4365-4c27-b3fa-aac2648d1b55",
   "metadata": {
    "jp-MarkdownHeadingCollapsed": true,
    "tags": []
   },
   "source": [
    "#### imports"
   ]
  },
  {
   "cell_type": "code",
   "execution_count": 2,
   "id": "4636ba80-d84d-4776-a8d6-65770f821e57",
   "metadata": {},
   "outputs": [],
   "source": [
    "import pandas as pd, numpy as np, os, re, pyperclip, pickle\n",
    "import mysql.connector as mysql, sqlalchemy\n",
    "from datetime import datetime as dt"
   ]
  },
  {
   "cell_type": "markdown",
   "id": "0247578a-ad74-4980-a90e-ebb38e0d588d",
   "metadata": {
    "jp-MarkdownHeadingCollapsed": true,
    "tags": []
   },
   "source": [
    "#### connect to mariadb"
   ]
  },
  {
   "cell_type": "markdown",
   "id": "3563660d-555a-40d7-accd-b7f48f2e919a",
   "metadata": {
    "jp-MarkdownHeadingCollapsed": true,
    "tags": []
   },
   "source": [
    "##### pass"
   ]
  },
  {
   "cell_type": "code",
   "execution_count": 4,
   "id": "7b76a4a2-9fd2-4828-8ac1-62fb7153138c",
   "metadata": {},
   "outputs": [],
   "source": [
    "mysql_user = 'bhrdwj'\n",
    "# mysql_pass = input(f'Enter the MySQL password for user {mysql_user}: ')"
   ]
  },
  {
   "cell_type": "markdown",
   "id": "6d60feda-e387-48a1-b9bc-40be3d9d7905",
   "metadata": {
    "jp-MarkdownHeadingCollapsed": true,
    "tags": []
   },
   "source": [
    "##### connect"
   ]
  },
  {
   "cell_type": "code",
   "execution_count": 5,
   "id": "41c5fb96-64d2-47f3-8427-d58f14daad96",
   "metadata": {},
   "outputs": [],
   "source": [
    "def connect_mariadb():\n",
    "    host='localhost'; user=mysql_user; passwd=mysql_pass; dbname='jawiki';\n",
    "    cxn = mysql.connect(host=host,user=user,passwd=passwd, database=dbname)\n",
    "    cur = cxn.cursor()\n",
    "\n",
    "    connection_str = 'mysql+mysqlconnector://'+user+':'+passwd+'@'+host+'/'+dbname  # removed this after host +':'+dbport\n",
    "    try:\n",
    "        engine = sqlalchemy.create_engine(connection_str)\n",
    "        conn = engine.connect()\n",
    "    except Exception as e:\n",
    "        print('Database connection error - check creds')\n",
    "        print(e)\n",
    "    return cxn, cur, engine, conn\n",
    "        \n",
    "cxn, cur, engine, conn = connect_mariadb()"
   ]
  },
  {
   "cell_type": "markdown",
   "id": "74c7634e-e535-4099-a56a-7ca0cbf559c2",
   "metadata": {
    "jp-MarkdownHeadingCollapsed": true,
    "tags": []
   },
   "source": [
    "##### test"
   ]
  },
  {
   "cell_type": "code",
   "execution_count": 133,
   "id": "0c31a3d8-3631-4bd7-b1c4-684f98e113c0",
   "metadata": {},
   "outputs": [],
   "source": [
    "metadata = sqlalchemy.MetaData(conn)\n",
    "metadata.reflect()\n",
    "current_tables = list(metadata.tables.keys())\n",
    "current_tables;"
   ]
  },
  {
   "cell_type": "markdown",
   "id": "63363725-bf07-4739-a950-8e35a3bbb3a4",
   "metadata": {
    "jp-MarkdownHeadingCollapsed": true,
    "tags": []
   },
   "source": [
    "#### some paths"
   ]
  },
  {
   "cell_type": "code",
   "execution_count": 20,
   "id": "508e6068-2c04-4c88-b4e9-14a04ebc13b4",
   "metadata": {},
   "outputs": [],
   "source": [
    "rawdumps_path = '../data/raw/jawiki/dumps_unzipped/'\n",
    "processed_path = '../data/processed/jawiki/'"
   ]
  },
  {
   "cell_type": "markdown",
   "id": "bd89c04b-e693-4924-a306-72bd8aac79ff",
   "metadata": {
    "jp-MarkdownHeadingCollapsed": true,
    "tags": []
   },
   "source": [
    "#### function ```jpr_sql```"
   ]
  },
  {
   "cell_type": "markdown",
   "id": "6e3c2ed0-a9af-4e2a-b13b-60be5a6e9be6",
   "metadata": {
    "tags": []
   },
   "source": [
    "##### jpr_sql"
   ]
  },
  {
   "cell_type": "code",
   "execution_count": 134,
   "id": "5829c78e-e72d-4969-82e8-d024c20b2ed2",
   "metadata": {},
   "outputs": [],
   "source": [
    "def jpr_sql(query, conn=conn):\n",
    "    try: \n",
    "        a = conn.execute(query)\n",
    "    except Exception as e:\n",
    "        print('Printing execute error:')\n",
    "        print(e)\n",
    "        return None\n",
    "    \n",
    "    try:\n",
    "        return a.fetchall()\n",
    "    except Exception as e:\n",
    "        print('Printing results error:')\n",
    "        print(e)\n",
    "        print('Printing result')\n",
    "        return None"
   ]
  },
  {
   "cell_type": "markdown",
   "id": "4f80e57c-e6e2-4052-ae3f-cb5f7ca20efb",
   "metadata": {
    "jp-MarkdownHeadingCollapsed": true,
    "tags": []
   },
   "source": [
    "## Subset revisions by list of page_id's"
   ]
  },
  {
   "cell_type": "code",
   "execution_count": 45,
   "id": "45d248d5-9e45-4f13-a3dd-93d55059a5e7",
   "metadata": {},
   "outputs": [],
   "source": [
    "cxn, cur, engine, conn = connect_mariadb()"
   ]
  },
  {
   "cell_type": "code",
   "execution_count": 57,
   "id": "82e9be74-2c22-4fdd-aa2c-e5193f66c29f",
   "metadata": {},
   "outputs": [
    {
     "data": {
      "text/html": [
       "<div>\n",
       "<style scoped>\n",
       "    .dataframe tbody tr th:only-of-type {\n",
       "        vertical-align: middle;\n",
       "    }\n",
       "\n",
       "    .dataframe tbody tr th {\n",
       "        vertical-align: top;\n",
       "    }\n",
       "\n",
       "    .dataframe thead th {\n",
       "        text-align: right;\n",
       "    }\n",
       "</style>\n",
       "<table border=\"1\" class=\"dataframe\">\n",
       "  <thead>\n",
       "    <tr style=\"text-align: right;\">\n",
       "      <th></th>\n",
       "      <th>Field</th>\n",
       "      <th>Type</th>\n",
       "      <th>Null</th>\n",
       "      <th>Key</th>\n",
       "      <th>Default</th>\n",
       "      <th>Extra</th>\n",
       "    </tr>\n",
       "  </thead>\n",
       "  <tbody>\n",
       "    <tr>\n",
       "      <th>23</th>\n",
       "      <td>page_id</td>\n",
       "      <td>bigint(20)</td>\n",
       "      <td>YES</td>\n",
       "      <td></td>\n",
       "      <td>None</td>\n",
       "      <td></td>\n",
       "    </tr>\n",
       "  </tbody>\n",
       "</table>\n",
       "</div>"
      ],
      "text/plain": [
       "      Field        Type Null Key Default Extra\n",
       "23  page_id  bigint(20)  YES        None      "
      ]
     },
     "execution_count": 57,
     "metadata": {},
     "output_type": "execute_result"
    }
   ],
   "source": [
    "pd.read_sql('desc h2021;', conn).loc[lambda x: x.Field == 'page_id']"
   ]
  },
  {
   "cell_type": "markdown",
   "id": "1e9ed418-3949-4ca2-9832-d369b877c68c",
   "metadata": {
    "jp-MarkdownHeadingCollapsed": true,
    "tags": []
   },
   "source": [
    "#### query to subset revisions"
   ]
  },
  {
   "cell_type": "code",
   "execution_count": 8,
   "id": "a3115c0e-81f6-44cc-9c1c-096b1c88b829",
   "metadata": {},
   "outputs": [],
   "source": [
    "sql = \"\"\"\n",
    "  with formatted_date as (\n",
    "    select\n",
    "        STR_TO_DATE(event_timestamp, '%Y-%m-%d %T') as date_tmstp\n",
    "        ,user_id\n",
    "        ,user_text\n",
    "        ,row_id\n",
    "        ,page_id\n",
    "    from h2021\n",
    "    where\n",
    "        page_id in (109, 11, 331)\n",
    "        and event_entity = 'revision'\n",
    "        and user_is_bot_by IS NULL\n",
    "        and event_user_is_bot_by IS NULL\n",
    "  )\n",
    "  select\n",
    "    date(date_tmstp) as day\n",
    "    ,page_id\n",
    "    ,count(row_id) as num_edits\n",
    "  from formatted_date\n",
    "  group by 1,2\n",
    "  order by 1,2\n",
    "  ;\n",
    "\"\"\"\n",
    "\n",
    "mvp_timeseries = pd.read_sql(sql,conn)"
   ]
  },
  {
   "cell_type": "markdown",
   "id": "f97e6287-04d8-4ebc-af3a-440e3df264d4",
   "metadata": {
    "jp-MarkdownHeadingCollapsed": true,
    "tags": []
   },
   "source": [
    "##### Peek at the timeseries"
   ]
  },
  {
   "cell_type": "code",
   "execution_count": 14,
   "id": "b47007a5-1f47-49db-afda-b502cb045aee",
   "metadata": {},
   "outputs": [
    {
     "data": {
      "text/html": [
       "<div>\n",
       "<style scoped>\n",
       "    .dataframe tbody tr th:only-of-type {\n",
       "        vertical-align: middle;\n",
       "    }\n",
       "\n",
       "    .dataframe tbody tr th {\n",
       "        vertical-align: top;\n",
       "    }\n",
       "\n",
       "    .dataframe thead th {\n",
       "        text-align: right;\n",
       "    }\n",
       "</style>\n",
       "<table border=\"1\" class=\"dataframe\">\n",
       "  <thead>\n",
       "    <tr style=\"text-align: right;\">\n",
       "      <th></th>\n",
       "      <th>day</th>\n",
       "      <th>page_id</th>\n",
       "      <th>num_edits</th>\n",
       "    </tr>\n",
       "  </thead>\n",
       "  <tbody>\n",
       "    <tr>\n",
       "      <th>157</th>\n",
       "      <td>2021-10-04</td>\n",
       "      <td>331</td>\n",
       "      <td>13</td>\n",
       "    </tr>\n",
       "    <tr>\n",
       "      <th>135</th>\n",
       "      <td>2021-09-12</td>\n",
       "      <td>109</td>\n",
       "      <td>12</td>\n",
       "    </tr>\n",
       "    <tr>\n",
       "      <th>216</th>\n",
       "      <td>2021-12-30</td>\n",
       "      <td>109</td>\n",
       "      <td>11</td>\n",
       "    </tr>\n",
       "    <tr>\n",
       "      <th>187</th>\n",
       "      <td>2021-11-10</td>\n",
       "      <td>331</td>\n",
       "      <td>10</td>\n",
       "    </tr>\n",
       "    <tr>\n",
       "      <th>17</th>\n",
       "      <td>2021-02-09</td>\n",
       "      <td>11</td>\n",
       "      <td>10</td>\n",
       "    </tr>\n",
       "    <tr>\n",
       "      <th>201</th>\n",
       "      <td>2021-11-30</td>\n",
       "      <td>11</td>\n",
       "      <td>8</td>\n",
       "    </tr>\n",
       "    <tr>\n",
       "      <th>171</th>\n",
       "      <td>2021-10-17</td>\n",
       "      <td>11</td>\n",
       "      <td>8</td>\n",
       "    </tr>\n",
       "    <tr>\n",
       "      <th>133</th>\n",
       "      <td>2021-09-11</td>\n",
       "      <td>109</td>\n",
       "      <td>7</td>\n",
       "    </tr>\n",
       "    <tr>\n",
       "      <th>147</th>\n",
       "      <td>2021-09-29</td>\n",
       "      <td>331</td>\n",
       "      <td>7</td>\n",
       "    </tr>\n",
       "    <tr>\n",
       "      <th>6</th>\n",
       "      <td>2021-01-08</td>\n",
       "      <td>331</td>\n",
       "      <td>7</td>\n",
       "    </tr>\n",
       "    <tr>\n",
       "      <th>154</th>\n",
       "      <td>2021-10-02</td>\n",
       "      <td>109</td>\n",
       "      <td>7</td>\n",
       "    </tr>\n",
       "    <tr>\n",
       "      <th>148</th>\n",
       "      <td>2021-09-30</td>\n",
       "      <td>11</td>\n",
       "      <td>6</td>\n",
       "    </tr>\n",
       "    <tr>\n",
       "      <th>155</th>\n",
       "      <td>2021-10-03</td>\n",
       "      <td>331</td>\n",
       "      <td>6</td>\n",
       "    </tr>\n",
       "    <tr>\n",
       "      <th>165</th>\n",
       "      <td>2021-10-11</td>\n",
       "      <td>331</td>\n",
       "      <td>6</td>\n",
       "    </tr>\n",
       "    <tr>\n",
       "      <th>95</th>\n",
       "      <td>2021-07-05</td>\n",
       "      <td>11</td>\n",
       "      <td>6</td>\n",
       "    </tr>\n",
       "    <tr>\n",
       "      <th>172</th>\n",
       "      <td>2021-10-17</td>\n",
       "      <td>331</td>\n",
       "      <td>6</td>\n",
       "    </tr>\n",
       "    <tr>\n",
       "      <th>169</th>\n",
       "      <td>2021-10-15</td>\n",
       "      <td>331</td>\n",
       "      <td>6</td>\n",
       "    </tr>\n",
       "    <tr>\n",
       "      <th>141</th>\n",
       "      <td>2021-09-25</td>\n",
       "      <td>109</td>\n",
       "      <td>5</td>\n",
       "    </tr>\n",
       "    <tr>\n",
       "      <th>110</th>\n",
       "      <td>2021-07-25</td>\n",
       "      <td>109</td>\n",
       "      <td>4</td>\n",
       "    </tr>\n",
       "    <tr>\n",
       "      <th>113</th>\n",
       "      <td>2021-08-12</td>\n",
       "      <td>11</td>\n",
       "      <td>4</td>\n",
       "    </tr>\n",
       "  </tbody>\n",
       "</table>\n",
       "</div>"
      ],
      "text/plain": [
       "            day  page_id  num_edits\n",
       "157  2021-10-04      331         13\n",
       "135  2021-09-12      109         12\n",
       "216  2021-12-30      109         11\n",
       "187  2021-11-10      331         10\n",
       "17   2021-02-09       11         10\n",
       "201  2021-11-30       11          8\n",
       "171  2021-10-17       11          8\n",
       "133  2021-09-11      109          7\n",
       "147  2021-09-29      331          7\n",
       "6    2021-01-08      331          7\n",
       "154  2021-10-02      109          7\n",
       "148  2021-09-30       11          6\n",
       "155  2021-10-03      331          6\n",
       "165  2021-10-11      331          6\n",
       "95   2021-07-05       11          6\n",
       "172  2021-10-17      331          6\n",
       "169  2021-10-15      331          6\n",
       "141  2021-09-25      109          5\n",
       "110  2021-07-25      109          4\n",
       "113  2021-08-12       11          4"
      ]
     },
     "execution_count": 14,
     "metadata": {},
     "output_type": "execute_result"
    }
   ],
   "source": [
    "mvp_timeseries.sort_values(by='num_edits', ascending=False).head(20)"
   ]
  },
  {
   "cell_type": "code",
   "execution_count": 61,
   "id": "9388c500-8cea-4ae3-af96-13aa6aeb011b",
   "metadata": {},
   "outputs": [
    {
     "data": {
      "text/html": [
       "<div>\n",
       "<style scoped>\n",
       "    .dataframe tbody tr th:only-of-type {\n",
       "        vertical-align: middle;\n",
       "    }\n",
       "\n",
       "    .dataframe tbody tr th {\n",
       "        vertical-align: top;\n",
       "    }\n",
       "\n",
       "    .dataframe thead th {\n",
       "        text-align: right;\n",
       "    }\n",
       "</style>\n",
       "<table border=\"1\" class=\"dataframe\">\n",
       "  <thead>\n",
       "    <tr style=\"text-align: right;\">\n",
       "      <th></th>\n",
       "      <th>page_id</th>\n",
       "      <th>rev_count</th>\n",
       "    </tr>\n",
       "  </thead>\n",
       "  <tbody>\n",
       "    <tr>\n",
       "      <th>0</th>\n",
       "      <td>11</td>\n",
       "      <td>200</td>\n",
       "    </tr>\n",
       "    <tr>\n",
       "      <th>1</th>\n",
       "      <td>109</td>\n",
       "      <td>141</td>\n",
       "    </tr>\n",
       "    <tr>\n",
       "      <th>2</th>\n",
       "      <td>331</td>\n",
       "      <td>129</td>\n",
       "    </tr>\n",
       "  </tbody>\n",
       "</table>\n",
       "</div>"
      ],
      "text/plain": [
       "   page_id  rev_count\n",
       "0       11        200\n",
       "1      109        141\n",
       "2      331        129"
      ]
     },
     "execution_count": 61,
     "metadata": {},
     "output_type": "execute_result"
    }
   ],
   "source": [
    "high_rev_counts.head(3)"
   ]
  },
  {
   "cell_type": "code",
   "execution_count": 63,
   "id": "911b4644-06f9-43a3-a860-9c9997707d5d",
   "metadata": {},
   "outputs": [
    {
     "data": {
      "text/html": [
       "<div>\n",
       "<style scoped>\n",
       "    .dataframe tbody tr th:only-of-type {\n",
       "        vertical-align: middle;\n",
       "    }\n",
       "\n",
       "    .dataframe tbody tr th {\n",
       "        vertical-align: top;\n",
       "    }\n",
       "\n",
       "    .dataframe thead th {\n",
       "        text-align: right;\n",
       "    }\n",
       "</style>\n",
       "<table border=\"1\" class=\"dataframe\">\n",
       "  <thead>\n",
       "    <tr style=\"text-align: right;\">\n",
       "      <th></th>\n",
       "      <th>rev_count</th>\n",
       "      <th>page_id</th>\n",
       "    </tr>\n",
       "  </thead>\n",
       "  <tbody>\n",
       "    <tr>\n",
       "      <th>0</th>\n",
       "      <td>151635</td>\n",
       "      <td>NaN</td>\n",
       "    </tr>\n",
       "    <tr>\n",
       "      <th>1</th>\n",
       "      <td>5572</td>\n",
       "      <td>4472366.0</td>\n",
       "    </tr>\n",
       "    <tr>\n",
       "      <th>2</th>\n",
       "      <td>5097</td>\n",
       "      <td>4326806.0</td>\n",
       "    </tr>\n",
       "    <tr>\n",
       "      <th>3</th>\n",
       "      <td>5082</td>\n",
       "      <td>4163204.0</td>\n",
       "    </tr>\n",
       "    <tr>\n",
       "      <th>4</th>\n",
       "      <td>4907</td>\n",
       "      <td>4437137.0</td>\n",
       "    </tr>\n",
       "  </tbody>\n",
       "</table>\n",
       "</div>"
      ],
      "text/plain": [
       "   rev_count    page_id\n",
       "0     151635        NaN\n",
       "1       5572  4472366.0\n",
       "2       5097  4326806.0\n",
       "3       5082  4163204.0\n",
       "4       4907  4437137.0"
      ]
     },
     "execution_count": 63,
     "metadata": {},
     "output_type": "execute_result"
    }
   ],
   "source": [
    "pd.read_sql('select count(*) as rev_count, page_id from h2021 group by page_id order by rev_count desc limit 5;', conn)"
   ]
  },
  {
   "cell_type": "code",
   "execution_count": null,
   "id": "ed4edc8a-86f4-4429-8d7e-07c087f8304f",
   "metadata": {},
   "outputs": [],
   "source": [
    "# with open(processed_path + 'mvp_timeseries.pickle', 'rb') as f:\n",
    "#     mvp_timeseries = pickle.load(f)"
   ]
  },
  {
   "cell_type": "code",
   "execution_count": 42,
   "id": "9f6ce68f-09bd-411d-84ae-a0c58d2e4b56",
   "metadata": {},
   "outputs": [
    {
     "data": {
      "text/html": [
       "<div>\n",
       "<style scoped>\n",
       "    .dataframe tbody tr th:only-of-type {\n",
       "        vertical-align: middle;\n",
       "    }\n",
       "\n",
       "    .dataframe tbody tr th {\n",
       "        vertical-align: top;\n",
       "    }\n",
       "\n",
       "    .dataframe thead th {\n",
       "        text-align: right;\n",
       "    }\n",
       "</style>\n",
       "<table border=\"1\" class=\"dataframe\">\n",
       "  <thead>\n",
       "    <tr style=\"text-align: right;\">\n",
       "      <th></th>\n",
       "      <th>day</th>\n",
       "      <th>row_count</th>\n",
       "      <th>user_id</th>\n",
       "      <th>page_id</th>\n",
       "    </tr>\n",
       "  </thead>\n",
       "  <tbody>\n",
       "    <tr>\n",
       "      <th>0</th>\n",
       "      <td>2021-01-01</td>\n",
       "      <td>2</td>\n",
       "      <td>None</td>\n",
       "      <td>11</td>\n",
       "    </tr>\n",
       "  </tbody>\n",
       "</table>\n",
       "</div>"
      ],
      "text/plain": [
       "          day  row_count user_id  page_id\n",
       "0  2021-01-01          2    None       11"
      ]
     },
     "execution_count": 42,
     "metadata": {},
     "output_type": "execute_result"
    }
   ],
   "source": [
    "mvp_timeseries.head()"
   ]
  },
  {
   "cell_type": "markdown",
   "id": "d4f31385-236a-4f65-94b4-6bf6dddb779a",
   "metadata": {
    "jp-MarkdownHeadingCollapsed": true,
    "tags": []
   },
   "source": [
    "##### Plot"
   ]
  },
  {
   "cell_type": "code",
   "execution_count": 25,
   "id": "d3374b86-8c00-4cc9-9896-1daa8ad48dd2",
   "metadata": {},
   "outputs": [
    {
     "data": {
      "text/plain": [
       "<AxesSubplot:>"
      ]
     },
     "execution_count": 25,
     "metadata": {},
     "output_type": "execute_result"
    },
    {
     "data": {
      "image/png": "[encoded data removed]",
      "text/plain": [
       "<Figure size 432x288 with 1 Axes>"
      ]
     },
     "metadata": {
      "needs_background": "light"
     },
     "output_type": "display_data"
    }
   ],
   "source": [
    "mvp_timeseries.plot()"
   ]
  },
  {
   "cell_type": "markdown",
   "id": "a7bef05b-aa33-4244-87aa-f99183ce0679",
   "metadata": {
    "tags": []
   },
   "source": [
    "##### pickle"
   ]
  },
  {
   "cell_type": "raw",
   "id": "10a501f3-3541-4d36-a42b-e8b420f3a7fe",
   "metadata": {},
   "source": [
    "with open(processed_path + 'mvp_timeseries.pickle', 'wb') as f:\n",
    "    pickle.dump(data, f)"
   ]
  },
  {
   "cell_type": "markdown",
   "id": "3e86db5d-1000-4e03-bf4b-9838df41bd23",
   "metadata": {
    "jp-MarkdownHeadingCollapsed": true,
    "tags": []
   },
   "source": [
    "### drop warning rows"
   ]
  },
  {
   "cell_type": "markdown",
   "id": "d3b649de-607e-449e-83e0-0b78fafa4832",
   "metadata": {
    "tags": []
   },
   "source": [
    "#### Get the warning rows"
   ]
  },
  {
   "cell_type": "markdown",
   "id": "f58d057d-d5fc-4455-9e04-e5f01e7d747f",
   "metadata": {
    "tags": []
   },
   "source": [
    "##### get all the mariadb logs for loading history data"
   ]
  },
  {
   "cell_type": "code",
   "execution_count": 9,
   "id": "8a71576c-cbfc-43d8-b589-f1772b7230eb",
   "metadata": {},
   "outputs": [],
   "source": [
    "logspath = processed_path + '1-15_load_data_warnings/'\n",
    "warnpath = processed_path + 'warnrows/'\n",
    "logs = sorted(os.listdir(warnpath))"
   ]
  },
  {
   "cell_type": "markdown",
   "id": "d7d58e06-b518-470f-8bf2-d48272eb94f2",
   "metadata": {
    "jp-MarkdownHeadingCollapsed": true,
    "tags": []
   },
   "source": [
    "##### make dictionary of lists of unique warnings-rownums, one list per log"
   ]
  },
  {
   "cell_type": "code",
   "execution_count": 13,
   "id": "a62587e1-bd47-42ba-9b5b-80a77b8f790d",
   "metadata": {},
   "outputs": [],
   "source": [
    "warnnums = {}\n",
    "rownum_regex = re.compile(r'(\\d*)(?= *\\|\\n$)')  # (Will get row number from near the end of each record)\n",
    "for logfile in logs:                            # For each year,\n",
    "    thislog_warnnums = []                       #  \n",
    "    with open(logspath + logfile) as log:       # from the warnings for that year\n",
    "        for line in log.readlines():            # one line at a time\n",
    "            if re.match(r'^\\| Warning \\|', line):  # pick the lines that are warnings\n",
    "                rownum_str = re.search(rownum_regex, line).group()  # find the dumpfile row number\n",
    "                rownum_int = int(rownum_str)    # make it an integer\n",
    "                thislog_warnnums.append(rownum_int)  # append to the right list\n",
    "    warnnums[logfile.split('.')[0]] = list(set(thislog_warnnums))  # remove duplicate row numbers for each year"
   ]
  },
  {
   "cell_type": "markdown",
   "id": "3ad6a908-bb76-469d-b8e8-7fa04e34eda4",
   "metadata": {
    "jp-MarkdownHeadingCollapsed": true,
    "tags": []
   },
   "source": [
    "##### peek"
   ]
  },
  {
   "cell_type": "code",
   "execution_count": 11,
   "id": "88f1843e-1912-4d4d-9b77-9c9840fce376",
   "metadata": {},
   "outputs": [],
   "source": [
    "len(warnnums), {i:len(warnnums[i]) for i in warnnums}, pd.Series(warnnums['t2013.log']);"
   ]
  },
  {
   "cell_type": "markdown",
   "id": "5e139239-da23-4e81-9553-6a099c542331",
   "metadata": {
    "jp-MarkdownHeadingCollapsed": true,
    "tags": []
   },
   "source": [
    "##### output rows list to mariadb"
   ]
  },
  {
   "cell_type": "code",
   "execution_count": 16,
   "id": "137bd22b-03db-4a7c-b215-72edd8cefbf2",
   "metadata": {},
   "outputs": [
    {
     "data": {
      "text/plain": [
       "<sqlalchemy.engine.cursor.LegacyCursorResult at 0x7f177db00430>"
      ]
     },
     "execution_count": 16,
     "metadata": {},
     "output_type": "execute_result"
    }
   ],
   "source": [
    "df = pd.DataFrame()\n",
    "for i in warnnums:\n",
    "    df = df.append(pd.Series(warnnums[i], name=i))\n",
    "df = df.T\n",
    "df = df.convert_dtypes(convert_floating=False)\n",
    "\n",
    "# run these to create warn_rows\n",
    "# df.to_sql('warn_rows', conn, index=True)\n",
    "# conn.execute('ALTER TABLE `warn_rows` ADD PRIMARY KEY (`index`);')"
   ]
  },
  {
   "cell_type": "markdown",
   "id": "066b99ce-6aed-4af0-afb4-e91dc2649c68",
   "metadata": {
    "jp-MarkdownHeadingCollapsed": true,
    "tags": []
   },
   "source": [
    "#### make lists of queries"
   ]
  },
  {
   "cell_type": "markdown",
   "id": "b2732823-51e7-4a28-a596-33f590210816",
   "metadata": {
    "tags": []
   },
   "source": [
    "#####  to create table without warning rows"
   ]
  },
  {
   "cell_type": "code",
   "execution_count": 43,
   "id": "bd7945d1-a0ae-4646-9aca-826f79f2019b",
   "metadata": {},
   "outputs": [],
   "source": [
    "create_clean_history_tables_queries = []\n",
    "for year in range(2013, 2022):\n",
    "    create_clean_history_tables_queries.append(\n",
    "\n",
    "f\"\"\"\n",
    "create table jawiki.h{year} as\n",
    "(\n",
    "    select * \n",
    "    from jawiki.t{year}\n",
    "    where jawiki.t{year}.row_id not in\n",
    "    (\n",
    "        select jawiki.warn_rows.t{year} \n",
    "        from jawiki.warn_rows \n",
    "        where jawiki.warn_rows.t{year} is not null\n",
    "    )\n",
    ")\n",
    ";\n",
    "\"\"\"\n",
    "\n",
    "    )\n",
    "    "
   ]
  },
  {
   "cell_type": "markdown",
   "id": "4f34cc58-c33b-4de0-821d-b90728832c30",
   "metadata": {},
   "source": [
    "##### print queries"
   ]
  },
  {
   "cell_type": "code",
   "execution_count": 24,
   "id": "6d7c1eb8-78cf-40a5-b65d-3ed8aeda413a",
   "metadata": {},
   "outputs": [
    {
     "name": "stdout",
     "output_type": "stream",
     "text": [
      "\n",
      "create table jawiki.h2013 as\n",
      "(\n",
      "    select * \n",
      "    from jawiki.t2013\n",
      "    where jawiki.t2013.row_id not in\n",
      "    (\n",
      "        select jawiki.warn_rows.t2013 \n",
      "        from jawiki.warn_rows \n",
      "        where jawiki.warn_rows.t2013 is not null\n",
      "    )\n",
      "    limit 10\n",
      ")\n",
      ";\n",
      "\n"
     ]
    }
   ],
   "source": [
    "print(create_clean_history_tables_queries[0])"
   ]
  },
  {
   "cell_type": "markdown",
   "id": "4438e9db-bb26-4da8-8a9d-437178436d7b",
   "metadata": {
    "jp-MarkdownHeadingCollapsed": true,
    "tags": []
   },
   "source": [
    "##### to drop all the cleaned history tables"
   ]
  },
  {
   "cell_type": "code",
   "execution_count": 27,
   "id": "3835e239-8cff-47f2-bdb2-dd86ee5d4cea",
   "metadata": {},
   "outputs": [],
   "source": [
    "drop_clean_history_tables_queries = []\n",
    "for year in range(2013, 2022):\n",
    "    drop_clean_history_tables_queries.append(\n",
    "f\"\"\"\n",
    "drop table jawiki.h{year};\n",
    "\"\"\"\n",
    "    )"
   ]
  },
  {
   "cell_type": "code",
   "execution_count": 30,
   "id": "4b2301c5-9fda-42f6-9b54-a72b06d50c29",
   "metadata": {},
   "outputs": [
    {
     "name": "stdout",
     "output_type": "stream",
     "text": [
      "\n",
      "drop table jawiki.h2013;\n",
      "\n"
     ]
    }
   ],
   "source": [
    "print(drop_clean_history_tables_queries[0])"
   ]
  },
  {
   "cell_type": "markdown",
   "id": "83bc0882-8f31-4e4f-a32a-1836d6a881c0",
   "metadata": {
    "jp-MarkdownHeadingCollapsed": true,
    "tags": []
   },
   "source": [
    "#### run the create tables queries"
   ]
  },
  {
   "cell_type": "code",
   "execution_count": 185,
   "id": "6d7a8a13-3e55-4b66-b30a-e0a33aa0876e",
   "metadata": {},
   "outputs": [],
   "source": [
    "cxn, cur, engine, conn = connect_mariadb()"
   ]
  },
  {
   "cell_type": "raw",
   "id": "fe842d61-8b25-4d9c-b458-2766dea12a0a",
   "metadata": {},
   "source": [
    "for q in drop_clean_history_tables_queries:\n",
    "    jpr_sql(q)"
   ]
  },
  {
   "cell_type": "raw",
   "id": "8b9a05eb-8fbe-4216-a84e-a2c602682469",
   "metadata": {},
   "source": [
    "for q in create_clean_history_tables_queries:\n",
    "    jpr_sql(q)"
   ]
  },
  {
   "cell_type": "markdown",
   "id": "0c6680e2-2411-4767-b220-85bb34da5315",
   "metadata": {
    "jp-MarkdownHeadingCollapsed": true,
    "tags": []
   },
   "source": [
    "## union all years of history tables"
   ]
  },
  {
   "cell_type": "markdown",
   "id": "74c9f4e4-6d64-45ff-95aa-5f1449352ad5",
   "metadata": {
    "jp-MarkdownHeadingCollapsed": true,
    "tags": []
   },
   "source": [
    "#### tests"
   ]
  },
  {
   "cell_type": "markdown",
   "id": "afecf944-7a30-4d2d-9dc4-332d58f03736",
   "metadata": {
    "jp-MarkdownHeadingCollapsed": true,
    "tags": []
   },
   "source": [
    "##### create test version of history table"
   ]
  },
  {
   "cell_type": "raw",
   "id": "65695b93-3255-417e-9c97-c9c01ee67168",
   "metadata": {},
   "source": [
    "jpr_sql(\n",
    "\"\"\"\n",
    "create table jawiki.history as\n",
    "(SELECT * FROM h2013 limit 10)\n",
    "UNION ALL\n",
    "(SELECT * FROM h2014 limit 10)\n",
    "UNION ALL\n",
    "(SELECT * FROM h2015 limit 10)\n",
    ";\n",
    "\"\"\"\n",
    ")"
   ]
  },
  {
   "cell_type": "markdown",
   "id": "861a2fba-68d3-4274-893e-9da666acb917",
   "metadata": {
    "jp-MarkdownHeadingCollapsed": true,
    "tags": []
   },
   "source": [
    "##### print table"
   ]
  },
  {
   "cell_type": "code",
   "execution_count": null,
   "id": "8edbd3cc-4fdc-468c-bfb8-757104ee183a",
   "metadata": {},
   "outputs": [],
   "source": [
    "jpr_sql(\"\"\"select * from jawiki.history;\"\"\")"
   ]
  },
  {
   "cell_type": "markdown",
   "id": "2e51575d-45cb-4364-802c-240cb6fc1894",
   "metadata": {
    "jp-MarkdownHeadingCollapsed": true,
    "tags": []
   },
   "source": [
    "##### drop table"
   ]
  },
  {
   "cell_type": "code",
   "execution_count": 190,
   "id": "a31f24c0-f49f-4838-9d08-ec6ad8665ff8",
   "metadata": {},
   "outputs": [
    {
     "name": "stdout",
     "output_type": "stream",
     "text": [
      "Printing results error:\n",
      "This result object does not return rows. It has been closed automatically.\n",
      "Printing result\n"
     ]
    }
   ],
   "source": [
    "jpr_sql(\"\"\"drop table jawiki.history;\"\"\")"
   ]
  },
  {
   "cell_type": "markdown",
   "id": "42c70fc3-940c-4e0e-8864-f6e6cafe4709",
   "metadata": {
    "jp-MarkdownHeadingCollapsed": true,
    "tags": []
   },
   "source": [
    "#### generate query to create history table as union"
   ]
  },
  {
   "cell_type": "code",
   "execution_count": null,
   "id": "ed1c10e6-3454-46aa-995c-118139f62d4f",
   "metadata": {},
   "outputs": [],
   "source": [
    "union_query = (\n",
    "r\"\"\"create table jawiki.history as\n",
    "\"\"\"\n",
    "+\n",
    "r\"\"\"\n",
    "UNION ALL\n",
    "\"\"\".join([f'(SELECT * FROM h{year})' for year in range(2013,2022)])\n",
    "+\n",
    "r\"\"\"\n",
    ";\"\"\"\n",
    ")"
   ]
  },
  {
   "cell_type": "markdown",
   "id": "03e94098-9e4e-4c23-9572-e0a35635a9db",
   "metadata": {
    "jp-MarkdownHeadingCollapsed": true,
    "tags": []
   },
   "source": [
    "##### print"
   ]
  },
  {
   "cell_type": "code",
   "execution_count": 179,
   "id": "fabfb274-ceab-4e5e-a72d-e72044eaed35",
   "metadata": {},
   "outputs": [
    {
     "name": "stdout",
     "output_type": "stream",
     "text": [
      "create table jawiki.history as\n",
      "(SELECT * FROM h2013 LIMIT 10)\n",
      "UNION ALL\n",
      "(SELECT * FROM h2014 LIMIT 10)\n",
      "UNION ALL\n",
      "(SELECT * FROM h2015 LIMIT 10)\n",
      "UNION ALL\n",
      "(SELECT * FROM h2016 LIMIT 10)\n",
      "UNION ALL\n",
      "(SELECT * FROM h2017 LIMIT 10)\n",
      "UNION ALL\n",
      "(SELECT * FROM h2018 LIMIT 10)\n",
      "UNION ALL\n",
      "(SELECT * FROM h2019 LIMIT 10)\n",
      "UNION ALL\n",
      "(SELECT * FROM h2020 LIMIT 10)\n",
      "UNION ALL\n",
      "(SELECT * FROM h2021 LIMIT 10)\n",
      ";\n"
     ]
    }
   ],
   "source": [
    "print(union_query)"
   ]
  },
  {
   "cell_type": "markdown",
   "id": "b1a558d5-ddb8-4501-afff-caab0fb3ffb7",
   "metadata": {
    "jp-MarkdownHeadingCollapsed": true,
    "tags": []
   },
   "source": [
    "#### run union_query to create union table"
   ]
  },
  {
   "cell_type": "raw",
   "id": "f203c913-7340-403d-9510-9c5e8e43acc5",
   "metadata": {},
   "source": [
    "jpr_sql(union_query)"
   ]
  },
  {
   "cell_type": "markdown",
   "id": "fc09f61f-34f8-4463-b451-adb79d7f856c",
   "metadata": {
    "tags": []
   },
   "source": [
    "# END"
   ]
  },
  {
   "cell_type": "markdown",
   "id": "da956191-8f9a-410a-8ab7-34d8ccf1a1ca",
   "metadata": {
    "jp-MarkdownHeadingCollapsed": true,
    "tags": []
   },
   "source": [
    "## old code, test code"
   ]
  },
  {
   "cell_type": "markdown",
   "id": "e553cbd5-8dad-45c1-9fae-da659a32db73",
   "metadata": {},
   "source": [
    "will delete after have used the new code successfully a few more times"
   ]
  },
  {
   "cell_type": "markdown",
   "id": "6c539cad-0366-4c0d-8141-c8dafe1782b1",
   "metadata": {},
   "source": [
    "###### old query to subset timeseries"
   ]
  },
  {
   "cell_type": "code",
   "execution_count": 6,
   "id": "abdbc5e9-2d93-4c26-9939-8cf4ab7d0002",
   "metadata": {},
   "outputs": [],
   "source": [
    "sql_old = \"\"\"\n",
    "  with formatted_date as (\n",
    "    select\n",
    "        STR_TO_DATE(event_timestamp, '%Y-%m-%d %T') as date_tmstp\n",
    "        ,user_id\n",
    "        ,user_text\n",
    "        ,count(row_id) as row_count\n",
    "        ,page_id\n",
    "    from h2021\n",
    "    where \n",
    "        page_id in (109, 11, 331)\n",
    "        and event_entity = 'revision'\n",
    "        and user_is_bot_by IS NULL\n",
    "        and event_user_is_bot_by IS NULL\n",
    "    group by page_id\n",
    "  )\n",
    "  \n",
    "  select\n",
    "    date(date_tmstp) as day\n",
    "    ,page_id\n",
    "    ,row_count\n",
    "    ,user_id\n",
    "    ,user_text\n",
    "  from formatted_date\n",
    "  group by 1\n",
    "  order by 1\n",
    "  ;\n",
    "\"\"\""
   ]
  },
  {
   "cell_type": "markdown",
   "id": "10ebfed4-b928-49a0-b664-84ea10c0bcbc",
   "metadata": {},
   "source": [
    "###### peek at count of some pages edited with some frequency for testing"
   ]
  },
  {
   "cell_type": "code",
   "execution_count": 58,
   "id": "6c003de9-5043-4fd0-967f-264a249542b9",
   "metadata": {},
   "outputs": [],
   "source": [
    "high_rev_counts = pd.read_sql(\"\"\"\n",
    "    select page_id, count(row_id) as rev_count \n",
    "    from h2021 \n",
    "    where \n",
    "        event_entity = 'revision'\n",
    "        and user_is_bot_by IS NULL\n",
    "        and event_user_is_bot_by IS NULL\n",
    "    group by page_id \n",
    "    having rev_count > 100 \n",
    "    limit 10\"\"\", conn)"
   ]
  },
  {
   "cell_type": "markdown",
   "id": "4deb73a9-f8cb-4433-a641-06407d6f56b6",
   "metadata": {},
   "source": [
    "###### X (OLD) str_to_date code"
   ]
  },
  {
   "cell_type": "markdown",
   "id": "7d6f3c3c-9d89-4da6-a82c-7f8231343e55",
   "metadata": {},
   "source": [
    "string-to-timestamp-in-mysql [link](https://stackoverflow.com/questions/8587177/string-to-timestamp-in-mysql)"
   ]
  },
  {
   "cell_type": "markdown",
   "id": "f596f7a1-33df-4791-baca-8653683a7c3e",
   "metadata": {
    "tags": []
   },
   "source": [
    "###### select str_to_date test code"
   ]
  },
  {
   "cell_type": "code",
   "execution_count": null,
   "id": "25e6894a-88e4-441c-b679-f191456f8070",
   "metadata": {},
   "outputs": [],
   "source": [
    "# create table mvp_timeseries as (select \" + mvp_cols + r\" from h2021 where event_entity = 'revision' limit 20);\n",
    "jpr_sql(\"\"\"\n",
    "SELECT\n",
    "    STR_TO_DATE(event_timestamp, '%Y-%m-%d %T')\n",
    "FROM history\n",
    ";    \n",
    "\"\"\")"
   ]
  },
  {
   "cell_type": "code",
   "execution_count": 269,
   "id": "f84be196-956f-4670-8f35-043b6424de6d",
   "metadata": {},
   "outputs": [
    {
     "data": {
      "text/plain": [
       "[(21, 6844227)]"
      ]
     },
     "execution_count": 269,
     "metadata": {},
     "output_type": "execute_result"
    }
   ],
   "source": [
    "jpr_sql(\"\"\"\n",
    "SELECT\n",
    "    LENGTH(event_timestamp), \n",
    "    COUNT(*)\n",
    "FROM h2021\n",
    "GROUP BY 1\n",
    ";    \n",
    "\"\"\")"
   ]
  },
  {
   "cell_type": "code",
   "execution_count": 270,
   "id": "95963d4f-2bf3-488a-9c39-2e08dd7b1d86",
   "metadata": {},
   "outputs": [
    {
     "data": {
      "text/plain": [
       "[(bytearray(b'2021-01-01 00:00:00.0'),),\n",
       " (bytearray(b'2021-01-01 00:00:00.0'),),\n",
       " (bytearray(b'2021-01-01 00:00:01.0'),),\n",
       " (bytearray(b'2021-01-01 00:00:01.0'),),\n",
       " (bytearray(b'2021-01-01 00:00:01.0'),)]"
      ]
     },
     "execution_count": 270,
     "metadata": {},
     "output_type": "execute_result"
    }
   ],
   "source": [
    "jpr_sql(\"\"\"\n",
    "SELECT\n",
    "    event_timestamp\n",
    "FROM h2021\n",
    "LIMIT 5\n",
    ";    \n",
    "\"\"\")"
   ]
  },
  {
   "cell_type": "code",
   "execution_count": null,
   "id": "734011aa-c134-4da0-9ff8-9a1e5f74a358",
   "metadata": {},
   "outputs": [],
   "source": []
  },
  {
   "cell_type": "code",
   "execution_count": null,
   "id": "6bebcc5e-6752-4470-990b-5d0a021fef19",
   "metadata": {},
   "outputs": [],
   "source": [
    "jpr_sql(\"\"\"\n",
    "SELECT\n",
    "    STR_TO_DATE(event_timestamp, '%Y-%m-%d %T')\n",
    "FROM h2021 \n",
    ";    \n",
    "\"\"\")"
   ]
  },
  {
   "cell_type": "markdown",
   "id": "f47cd1f3-cf9f-49f2-b6fa-c4650e0abe6a",
   "metadata": {
    "tags": []
   },
   "source": [
    "##### create table mvp_timeseries"
   ]
  },
  {
   "cell_type": "code",
   "execution_count": 248,
   "id": "828db9ed-ed8b-4018-8b23-39b581c5b34f",
   "metadata": {},
   "outputs": [],
   "source": [
    "# STR_TO_DATE(event_timestamp, '%Y-%m-%d %T'),\n",
    "\n",
    "mvp_cols = r\"\"\"\n",
    "event_user_id,\n",
    "event_user_is_bot_by IS NULL AS event_user_is_human,\n",
    "page_id,\n",
    "page_title,\n",
    "page_namespace,\n",
    "user_id,\n",
    "user_text,\n",
    "user_is_bot_by IS NULL AS user_is_human,\n",
    "revision_text_bytes,\n",
    "revision_text_bytes_diff,\n",
    "row_id\n",
    "\"\"\"\n",
    "\n",
    "# where event_entity = 'revision'"
   ]
  },
  {
   "cell_type": "code",
   "execution_count": null,
   "id": "92753ab1-52bb-4bf6-9190-18ab65cf3566",
   "metadata": {},
   "outputs": [],
   "source": [
    "jpr_sql('show tables;')"
   ]
  },
  {
   "cell_type": "code",
   "execution_count": 266,
   "id": "b2e800ef-5d64-48d5-b25c-163b711d4f28",
   "metadata": {},
   "outputs": [
    {
     "name": "stdout",
     "output_type": "stream",
     "text": [
      "Printing execute error:\n",
      "(mysql.connector.errors.DataError) 1292 (22007): Truncated incorrect datetime value: '2021-01-01 00:00:00.0'\n",
      "[SQL: create table mvp_timeseries as (select \n",
      "STR_TO_DATE(event_timestamp, '%Y-%m-%d %T'),\n",
      "event_user_id,\n",
      "event_user_is_bot_by IS NULL AS event_user_is_human,\n",
      "page_id,\n",
      "page_title,\n",
      "page_namespace,\n",
      "user_id,\n",
      "user_text,\n",
      "user_is_bot_by IS NULL AS user_is_human,\n",
      "revision_text_bytes,\n",
      "revision_text_bytes_diff,\n",
      "row_id\n",
      " from h2021 where event_entity = 'revision' limit 20);]\n",
      "(Background on this error at: https://sqlalche.me/e/14/9h9h)\n"
     ]
    }
   ],
   "source": [
    "jpr_sql(r\"create table mvp_timeseries as (select \" + mvp_cols + r\" from h2021 where event_entity = 'revision' limit 20);\")"
   ]
  },
  {
   "cell_type": "code",
   "execution_count": null,
   "id": "eee7027d-759e-4057-abd2-47878ba4214f",
   "metadata": {},
   "outputs": [],
   "source": []
  },
  {
   "cell_type": "markdown",
   "id": "050ff2a3-f1c5-49ac-a820-015d6226c02d",
   "metadata": {
    "jp-MarkdownHeadingCollapsed": true,
    "tags": []
   },
   "source": [
    "## Stuff to put elsewhere"
   ]
  },
  {
   "cell_type": "markdown",
   "id": "814e14a9-388a-4fdd-939e-6ab1a4b305de",
   "metadata": {
    "tags": []
   },
   "source": [
    "##### get_flat_list"
   ]
  },
  {
   "cell_type": "code",
   "execution_count": null,
   "id": "bcf897be-e8c9-4898-95b0-1b20d41669b1",
   "metadata": {},
   "outputs": [],
   "source": [
    "import itertools as IT\n",
    "import collections\n",
    "\n",
    "def flatten(iterable, ltypes=collections.abc.Iterable):\n",
    "    \"\"\"This version of flatten avoids python's recursion limit \n",
    "      (and thus works with arbitrarily deep, nested iterables).\n",
    "      It is a generator which can handle strings and arbitrary iterables \n",
    "      (even infinite ones).\n",
    "    By unutbu:\n",
    "      https://stackoverflow.com/a/2158562/16133813\n",
    "    \"\"\"\n",
    "    \n",
    "    remainder = iter(iterable)\n",
    "    while True:\n",
    "        first = next(remainder)\n",
    "        if isinstance(first, ltypes) and not isinstance(first, (str, bytes)):\n",
    "            remainder = IT.chain(first, remainder)\n",
    "        else:\n",
    "            yield first\n",
    "\n",
    "def get_flat_list(iterable):\n",
    "    gen = flatten(iterable)\n",
    "    mylist = []\n",
    "    still_going = True\n",
    "    while still_going:\n",
    "        try:\n",
    "            next_item = next(gen)\n",
    "            mylist.append(next_item)\n",
    "        except Exception as e:\n",
    "            print(e)\n",
    "            still_going = False\n",
    "    return mylist"
   ]
  }
 ],
 "metadata": {
  "kernelspec": {
   "display_name": "Python 3 (ipykernel)",
   "language": "python",
   "name": "python3"
  },
  "language_info": {
   "codemirror_mode": {
    "name": "ipython",
    "version": 3
   },
   "file_extension": ".py",
   "mimetype": "text/x-python",
   "name": "python",
   "nbconvert_exporter": "python",
   "pygments_lexer": "ipython3",
   "version": "3.9.7"
  }
 },
 "nbformat": 4,
 "nbformat_minor": 5
}
