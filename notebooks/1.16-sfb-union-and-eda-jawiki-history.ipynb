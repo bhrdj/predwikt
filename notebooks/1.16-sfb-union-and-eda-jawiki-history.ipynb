{
 "cells": [
  {
   "cell_type": "markdown",
   "id": "34301a84-cd16-4ce0-9e20-14f6419ddff0",
   "metadata": {},
   "source": [
    "# EDA"
   ]
  },
  {
   "cell_type": "markdown",
   "id": "dbd882f2-48a2-4a9f-b5db-ae1994041698",
   "metadata": {
    "tags": []
   },
   "source": [
    "## intro"
   ]
  },
  {
   "cell_type": "markdown",
   "id": "b39dc016-6e47-4e88-9937-2028eeee7203",
   "metadata": {
    "jp-MarkdownHeadingCollapsed": true,
    "tags": []
   },
   "source": [
    "#### plan"
   ]
  },
  {
   "cell_type": "markdown",
   "id": "4a5d4259-e20a-4588-8ad6-632c8c101a61",
   "metadata": {},
   "source": [
    "now just need to:\n",
    "- remove most of the rows that had warnings\n",
    "- extract wiki-variables (features/targets) by category:\n",
    "    - daily edit count\n",
    "    - daily aggregate article expansion/contraction (+/- characters)\n",
    "    - daily # of unique users editing\n",
    "- pick some models to train and compare:\n",
    "    - which wiki-vars are targets\n",
    "    - which wiki-vars are features\n",
    "    - what window-functions for lags (make stationary model)\n",
    "    - (do external features later)"
   ]
  },
  {
   "cell_type": "markdown",
   "id": "3e06ddcd-4365-4c27-b3fa-aac2648d1b55",
   "metadata": {
    "tags": []
   },
   "source": [
    "#### imports"
   ]
  },
  {
   "cell_type": "code",
   "execution_count": 1,
   "id": "4636ba80-d84d-4776-a8d6-65770f821e57",
   "metadata": {},
   "outputs": [],
   "source": [
    "import pandas as pd, numpy as np, os, re, pyperclip, pickle\n",
    "import mysql.connector as mysql, sqlalchemy\n",
    "from datetime import datetime as dt"
   ]
  },
  {
   "cell_type": "markdown",
   "id": "0247578a-ad74-4980-a90e-ebb38e0d588d",
   "metadata": {
    "tags": []
   },
   "source": [
    "#### connect to mariadb"
   ]
  },
  {
   "cell_type": "markdown",
   "id": "3563660d-555a-40d7-accd-b7f48f2e919a",
   "metadata": {
    "jp-MarkdownHeadingCollapsed": true,
    "tags": []
   },
   "source": [
    "##### pass"
   ]
  },
  {
   "cell_type": "code",
   "execution_count": 3,
   "id": "7b76a4a2-9fd2-4828-8ac1-62fb7153138c",
   "metadata": {},
   "outputs": [],
   "source": [
    "mysql_user = 'bhrdwj'\n",
    "# mysql_pass = input(f'Enter the MySQL password for user {mysql_user}: ')"
   ]
  },
  {
   "cell_type": "markdown",
   "id": "6d60feda-e387-48a1-b9bc-40be3d9d7905",
   "metadata": {
    "jp-MarkdownHeadingCollapsed": true,
    "tags": []
   },
   "source": [
    "##### connect"
   ]
  },
  {
   "cell_type": "code",
   "execution_count": 4,
   "id": "41c5fb96-64d2-47f3-8427-d58f14daad96",
   "metadata": {},
   "outputs": [],
   "source": [
    "def connect_mariadb():\n",
    "    host='localhost'; user=mysql_user; passwd=mysql_pass; dbname='jawiki';\n",
    "    cxn = mysql.connect(host=host,user=user,passwd=passwd, database=dbname)\n",
    "    cur = cxn.cursor()\n",
    "\n",
    "    connection_str = 'mysql+mysqlconnector://'+user+':'+passwd+'@'+host+'/'+dbname  # removed this after host +':'+dbport\n",
    "    try:\n",
    "        engine = sqlalchemy.create_engine(connection_str)\n",
    "        conn = engine.connect()\n",
    "    except Exception as e:\n",
    "        print('Database connection error - check creds')\n",
    "        print(e)\n",
    "    return cxn, cur, engine, conn\n",
    "        \n",
    "cxn, cur, engine, conn = connect_mariadb()"
   ]
  },
  {
   "cell_type": "markdown",
   "id": "74c7634e-e535-4099-a56a-7ca0cbf559c2",
   "metadata": {
    "jp-MarkdownHeadingCollapsed": true,
    "tags": []
   },
   "source": [
    "##### test"
   ]
  },
  {
   "cell_type": "code",
   "execution_count": 5,
   "id": "0c31a3d8-3631-4bd7-b1c4-684f98e113c0",
   "metadata": {},
   "outputs": [],
   "source": [
    "metadata = sqlalchemy.MetaData(conn)\n",
    "metadata.reflect()\n",
    "current_tables = list(metadata.tables.keys())\n",
    "current_tables;"
   ]
  },
  {
   "cell_type": "markdown",
   "id": "63363725-bf07-4739-a950-8e35a3bbb3a4",
   "metadata": {
    "jp-MarkdownHeadingCollapsed": true,
    "tags": []
   },
   "source": [
    "#### some paths"
   ]
  },
  {
   "cell_type": "code",
   "execution_count": 6,
   "id": "508e6068-2c04-4c88-b4e9-14a04ebc13b4",
   "metadata": {},
   "outputs": [],
   "source": [
    "rawdumps_path = '../data/raw/jawiki/dumps_unzipped/'\n",
    "processed_path = '../data/processed/jawiki/'"
   ]
  },
  {
   "cell_type": "markdown",
   "id": "bd89c04b-e693-4924-a306-72bd8aac79ff",
   "metadata": {
    "jp-MarkdownHeadingCollapsed": true,
    "tags": []
   },
   "source": [
    "#### function ```jpr_sql```"
   ]
  },
  {
   "cell_type": "markdown",
   "id": "6e3c2ed0-a9af-4e2a-b13b-60be5a6e9be6",
   "metadata": {
    "jp-MarkdownHeadingCollapsed": true,
    "tags": []
   },
   "source": [
    "##### jpr_sql"
   ]
  },
  {
   "cell_type": "code",
   "execution_count": 7,
   "id": "5829c78e-e72d-4969-82e8-d024c20b2ed2",
   "metadata": {},
   "outputs": [],
   "source": [
    "def jpr_sql(query, conn=conn):\n",
    "    try: \n",
    "        a = conn.execute(query)\n",
    "    except Exception as e:\n",
    "        print('Printing execute error:')\n",
    "        print(e)\n",
    "        return None\n",
    "    \n",
    "    try:\n",
    "        return a.fetchall()\n",
    "    except Exception as e:\n",
    "        print('Printing results error:')\n",
    "        print(e)\n",
    "        print('Printing result')\n",
    "        return None"
   ]
  },
  {
   "cell_type": "markdown",
   "id": "7103c44f-9d98-426e-b3ef-b3353097d698",
   "metadata": {
    "jp-MarkdownHeadingCollapsed": true,
    "tags": []
   },
   "source": [
    "#### function ```byte_read_sql```"
   ]
  },
  {
   "cell_type": "code",
   "execution_count": 8,
   "id": "fb6103fc-8873-4efd-83e8-4e269cc6d4a3",
   "metadata": {},
   "outputs": [],
   "source": [
    "def decode_if_it_can(value):\n",
    "    \"\"\"\n",
    "    Tries to decode a possible bytes object with utf-8. \n",
    "    If fails, silently returns input.\n",
    "    INPUTS: object\n",
    "    OUTPUTS: input or decoded string\n",
    "    \"\"\"\n",
    "    try:\n",
    "        value = value.decode('utf-8')\n",
    "    except (UnicodeDecodeError, AttributeError):\n",
    "        pass\n",
    "    finally:\n",
    "        return value\n",
    "\n",
    "def byte_read_sql(query, conn):\n",
    "    \"\"\"\n",
    "    Simple wrapper for pd.read_sql() for mediawiki dumps including byte-like data.\n",
    "    Inputs: \n",
    "            SQL query string\n",
    "            SQLAlchemy connection\n",
    "    Outputs:\n",
    "            Pandas dataframe with some values modified, that is:\n",
    "                values that can be decoded with .decode('utf-8') are thus decoded.\n",
    "    \"\"\"\n",
    "    df = pd.read_sql(query, conn)\n",
    "    return (df.applymap(lambda x: decode_if_it_can(x)))"
   ]
  },
  {
   "cell_type": "markdown",
   "id": "4f80e57c-e6e2-4052-ae3f-cb5f7ca20efb",
   "metadata": {
    "jp-MarkdownHeadingCollapsed": true,
    "tags": []
   },
   "source": [
    "## Subset revisions by list of page_id's"
   ]
  },
  {
   "cell_type": "code",
   "execution_count": 11,
   "id": "45d248d5-9e45-4f13-a3dd-93d55059a5e7",
   "metadata": {},
   "outputs": [],
   "source": [
    "cxn, cur, engine, conn = connect_mariadb()"
   ]
  },
  {
   "cell_type": "code",
   "execution_count": 10,
   "id": "224ba2ae-168c-46df-b2f6-837180dd568c",
   "metadata": {},
   "outputs": [
    {
     "data": {
      "text/html": [
       "<div>\n",
       "<style scoped>\n",
       "    .dataframe tbody tr th:only-of-type {\n",
       "        vertical-align: middle;\n",
       "    }\n",
       "\n",
       "    .dataframe tbody tr th {\n",
       "        vertical-align: top;\n",
       "    }\n",
       "\n",
       "    .dataframe thead th {\n",
       "        text-align: right;\n",
       "    }\n",
       "</style>\n",
       "<table border=\"1\" class=\"dataframe\">\n",
       "  <thead>\n",
       "    <tr style=\"text-align: right;\">\n",
       "      <th></th>\n",
       "      <th>Field</th>\n",
       "      <th>Type</th>\n",
       "      <th>Null</th>\n",
       "      <th>Key</th>\n",
       "      <th>Default</th>\n",
       "      <th>Extra</th>\n",
       "    </tr>\n",
       "  </thead>\n",
       "  <tbody>\n",
       "    <tr>\n",
       "      <th>23</th>\n",
       "      <td>page_id</td>\n",
       "      <td>bigint(20)</td>\n",
       "      <td>YES</td>\n",
       "      <td></td>\n",
       "      <td>None</td>\n",
       "      <td></td>\n",
       "    </tr>\n",
       "  </tbody>\n",
       "</table>\n",
       "</div>"
      ],
      "text/plain": [
       "      Field        Type Null Key Default Extra\n",
       "23  page_id  bigint(20)  YES        None      "
      ]
     },
     "execution_count": 10,
     "metadata": {},
     "output_type": "execute_result"
    }
   ],
   "source": [
    "pd.read_sql('desc h2021;', conn).loc[lambda x: x.Field == 'page_id']"
   ]
  },
  {
   "cell_type": "markdown",
   "id": "3e86db5d-1000-4e03-bf4b-9838df41bd23",
   "metadata": {
    "jp-MarkdownHeadingCollapsed": true,
    "tags": []
   },
   "source": [
    "### drop warning rows"
   ]
  },
  {
   "cell_type": "markdown",
   "id": "d3b649de-607e-449e-83e0-0b78fafa4832",
   "metadata": {
    "jp-MarkdownHeadingCollapsed": true,
    "tags": []
   },
   "source": [
    "#### Get the warning rows"
   ]
  },
  {
   "cell_type": "markdown",
   "id": "f58d057d-d5fc-4455-9e04-e5f01e7d747f",
   "metadata": {
    "jp-MarkdownHeadingCollapsed": true,
    "tags": []
   },
   "source": [
    "##### get all the mariadb logs for loading history data"
   ]
  },
  {
   "cell_type": "code",
   "execution_count": null,
   "id": "765d77ec-f4bf-4af8-9970-a08d73cd6485",
   "metadata": {},
   "outputs": [],
   "source": [
    "logspath = processed_path + '1-15_load_data_warnings/'\n",
    "warnpath = processed_path + 'warnrows/'\n",
    "logs = sorted(os.listdir(warnpath))"
   ]
  },
  {
   "cell_type": "markdown",
   "id": "d7d58e06-b518-470f-8bf2-d48272eb94f2",
   "metadata": {
    "jp-MarkdownHeadingCollapsed": true,
    "tags": []
   },
   "source": [
    "##### make dictionary of lists of unique warnings-rownums, one list per log"
   ]
  },
  {
   "cell_type": "code",
   "execution_count": null,
   "id": "4f8a58e8-be5d-4912-8393-86d868c79066",
   "metadata": {},
   "outputs": [],
   "source": [
    "warnnums = {}\n",
    "rownum_regex = re.compile(r'(\\d*)(?= *\\|\\n$)')  # (Will get row number from near the end of each record)\n",
    "for logfile in logs:                            # For each year,\n",
    "    thislog_warnnums = []                       #  \n",
    "    with open(logspath + logfile) as log:       # from the warnings for that year\n",
    "        for line in log.readlines():            # one line at a time\n",
    "            if re.match(r'^\\| Warning \\|', line):  # pick the lines that are warnings\n",
    "                rownum_str = re.search(rownum_regex, line).group()  # find the dumpfile row number\n",
    "                rownum_int = int(rownum_str)    # make it an integer\n",
    "                thislog_warnnums.append(rownum_int)  # append to the right list\n",
    "    warnnums[logfile.split('.')[0]] = list(set(thislog_warnnums))  # remove duplicate row numbers for each year"
   ]
  },
  {
   "cell_type": "markdown",
   "id": "3ad6a908-bb76-469d-b8e8-7fa04e34eda4",
   "metadata": {
    "jp-MarkdownHeadingCollapsed": true,
    "tags": []
   },
   "source": [
    "##### peek"
   ]
  },
  {
   "cell_type": "code",
   "execution_count": 11,
   "id": "88f1843e-1912-4d4d-9b77-9c9840fce376",
   "metadata": {},
   "outputs": [],
   "source": [
    "len(warnnums), {i:len(warnnums[i]) for i in warnnums}, pd.Series(warnnums['t2013.log']);"
   ]
  },
  {
   "cell_type": "markdown",
   "id": "5e139239-da23-4e81-9553-6a099c542331",
   "metadata": {
    "jp-MarkdownHeadingCollapsed": true,
    "tags": []
   },
   "source": [
    "##### output rows list to mariadb"
   ]
  },
  {
   "cell_type": "code",
   "execution_count": 16,
   "id": "137bd22b-03db-4a7c-b215-72edd8cefbf2",
   "metadata": {},
   "outputs": [
    {
     "data": {
      "text/plain": [
       "<sqlalchemy.engine.cursor.LegacyCursorResult at 0x7f177db00430>"
      ]
     },
     "execution_count": 16,
     "metadata": {},
     "output_type": "execute_result"
    }
   ],
   "source": [
    "df = pd.DataFrame()\n",
    "for i in warnnums:\n",
    "    df = df.append(pd.Series(warnnums[i], name=i))\n",
    "df = df.T\n",
    "df = df.convert_dtypes(convert_floating=False)\n",
    "\n",
    "# run these to create warn_rows\n",
    "# df.to_sql('warn_rows', conn, index=True)\n",
    "# conn.execute('ALTER TABLE `warn_rows` ADD PRIMARY KEY (`index`);')"
   ]
  },
  {
   "cell_type": "markdown",
   "id": "066b99ce-6aed-4af0-afb4-e91dc2649c68",
   "metadata": {
    "jp-MarkdownHeadingCollapsed": true,
    "tags": []
   },
   "source": [
    "#### make lists of queries"
   ]
  },
  {
   "cell_type": "markdown",
   "id": "b2732823-51e7-4a28-a596-33f590210816",
   "metadata": {
    "jp-MarkdownHeadingCollapsed": true,
    "tags": []
   },
   "source": [
    "#####  to create table without warning rows"
   ]
  },
  {
   "cell_type": "code",
   "execution_count": 57,
   "id": "bd7945d1-a0ae-4646-9aca-826f79f2019b",
   "metadata": {},
   "outputs": [],
   "source": [
    "create_clean_history_tables_queries = []\n",
    "for year in range(2013, 2022):\n",
    "    create_clean_history_tables_queries.append(\n",
    "\n",
    "f\"\"\"\n",
    "create table jawiki.h{year} as\n",
    "(\n",
    "    select \n",
    "        *\n",
    "        ,@utc:=STR_TO_DATE(event_timestamp, '%Y-%m-%d %T.%f') as date_tmstp_utc\n",
    "        ,CONVERT_TZ(@utc, '+00:00', '+9:00') as date_tmstp_jp\n",
    "    from jawiki.t{year}\n",
    "    where jawiki.t{year}.row_id not in\n",
    "    (\n",
    "        select jawiki.warn_rows.t{year} \n",
    "        from jawiki.warn_rows \n",
    "        where jawiki.warn_rows.t{year} is not null\n",
    "    )\n",
    ")\n",
    ";\n",
    "\"\"\"\n",
    "\n",
    "    )\n",
    "    "
   ]
  },
  {
   "cell_type": "markdown",
   "id": "2ce8fccc-5f4b-402d-8fa4-01b3a586b616",
   "metadata": {
    "jp-MarkdownHeadingCollapsed": true,
    "tags": []
   },
   "source": [
    "###### CAREFUL TO AVOID OVERWRITING DATABASE"
   ]
  },
  {
   "cell_type": "raw",
   "id": "9f6b5c1a-097d-4772-a8b4-f15e8976b3ab",
   "metadata": {},
   "source": [
    "jpr_sql(create_clean_history_tables_queries[8])"
   ]
  },
  {
   "cell_type": "markdown",
   "id": "6c9c3521-8d2b-4222-89ae-5678cdc0988a",
   "metadata": {
    "jp-MarkdownHeadingCollapsed": true,
    "tags": []
   },
   "source": [
    "##### to alter table assign primary key"
   ]
  },
  {
   "cell_type": "code",
   "execution_count": 72,
   "id": "cf0d3f24-35ec-432e-acf2-1675d9c100ad",
   "metadata": {},
   "outputs": [],
   "source": [
    "alter_assign_pk_clean_history_tables_queries = []\n",
    "for year in range(2013, 2022):\n",
    "    create_clean_history_tables_queries.append(\n",
    "    f\"\"\"\n",
    "    alter table jawiki.h{year} add primary key (row_id);\n",
    "    ;\n",
    "    \"\"\"\n",
    "    )"
   ]
  },
  {
   "cell_type": "markdown",
   "id": "b355c899-ef0d-472b-b958-650957b2dca0",
   "metadata": {
    "jp-MarkdownHeadingCollapsed": true,
    "tags": []
   },
   "source": [
    "###### CAREFUL TO AVOID OVERWRITING DATABASE"
   ]
  },
  {
   "cell_type": "code",
   "execution_count": 69,
   "id": "1a9a6f81-8dbd-439d-8eaa-97f8618d5589",
   "metadata": {},
   "outputs": [
    {
     "name": "stdout",
     "output_type": "stream",
     "text": [
      "Printing results error:\n",
      "This result object does not return rows. It has been closed automatically.\n",
      "Printing result\n"
     ]
    }
   ],
   "source": [
    "jpr_sql(create_clean_history_tables_queries[7])"
   ]
  },
  {
   "cell_type": "markdown",
   "id": "4438e9db-bb26-4da8-8a9d-437178436d7b",
   "metadata": {
    "jp-MarkdownHeadingCollapsed": true,
    "tags": []
   },
   "source": [
    "##### to drop all the cleaned history tables"
   ]
  },
  {
   "cell_type": "raw",
   "id": "fb288028-cfb7-4270-a152-109037102e33",
   "metadata": {},
   "source": [
    "drop_clean_history_tables_queries = []\n",
    "for year in range(2013, 2022):\n",
    "    drop_clean_history_tables_queries.append(\n",
    "f\"\"\"\n",
    "drop table jawiki.h{year};\n",
    "\"\"\"\n",
    "    )"
   ]
  },
  {
   "cell_type": "markdown",
   "id": "83bc0882-8f31-4e4f-a32a-1836d6a881c0",
   "metadata": {
    "jp-MarkdownHeadingCollapsed": true,
    "tags": []
   },
   "source": [
    "#### run the create tables queries"
   ]
  },
  {
   "cell_type": "code",
   "execution_count": null,
   "id": "7ee7e489-b933-4576-b5a1-0fa65dfb4fcd",
   "metadata": {},
   "outputs": [],
   "source": [
    "cxn, cur, engine, conn = connect_mariadb()"
   ]
  },
  {
   "cell_type": "markdown",
   "id": "10101362-b2ca-454e-94f0-56cdd81adf9e",
   "metadata": {
    "tags": []
   },
   "source": [
    "###### CAREFUL TO AVOID OVERWRITING DATABASE"
   ]
  },
  {
   "cell_type": "raw",
   "id": "4348bae3-2bd0-4e1a-af8d-38c063b1e650",
   "metadata": {},
   "source": [
    "jpr_sql(create_clean_history_tables_queries[0])"
   ]
  },
  {
   "cell_type": "raw",
   "id": "099a8215-8eb7-4e3b-b2ba-d2c37812187e",
   "metadata": {},
   "source": [
    "for q in drop_clean_history_tables_queries:\n",
    "    jpr_sql(q)"
   ]
  },
  {
   "cell_type": "raw",
   "id": "2741143a-64e9-4413-9c30-5088cb6ac9ea",
   "metadata": {},
   "source": [
    "for q in create_clean_history_tables_queries:\n",
    "    jpr_sql(q)"
   ]
  },
  {
   "cell_type": "markdown",
   "id": "0c6680e2-2411-4767-b220-85bb34da5315",
   "metadata": {
    "tags": []
   },
   "source": [
    "## union all years of history tables"
   ]
  },
  {
   "cell_type": "markdown",
   "id": "74c9f4e4-6d64-45ff-95aa-5f1449352ad5",
   "metadata": {
    "tags": []
   },
   "source": [
    "#### tests"
   ]
  },
  {
   "cell_type": "markdown",
   "id": "afecf944-7a30-4d2d-9dc4-332d58f03736",
   "metadata": {
    "jp-MarkdownHeadingCollapsed": true,
    "tags": []
   },
   "source": [
    "##### create test version of history table"
   ]
  },
  {
   "cell_type": "raw",
   "id": "6a166a3d-2225-4793-aa02-4fe1492303d2",
   "metadata": {},
   "source": [
    "jpr_sql(\n",
    "\"\"\"\n",
    "create table jawiki.history as\n",
    "(SELECT * FROM h2013 limit 10)\n",
    "UNION ALL\n",
    "(SELECT * FROM h2014 limit 10)\n",
    "UNION ALL\n",
    "(SELECT * FROM h2015 limit 10)\n",
    ";\n",
    "\"\"\"\n",
    ")"
   ]
  },
  {
   "cell_type": "markdown",
   "id": "50dbba73-1725-4c88-b33c-c6ec7ad6903e",
   "metadata": {
    "tags": []
   },
   "source": [
    "##### print table"
   ]
  },
  {
   "cell_type": "raw",
   "id": "105b90a6-a8fc-4f68-9e83-b7772c6d712f",
   "metadata": {},
   "source": [
    "jpr_sql(\"\"\"select * from jawiki.history;\"\"\")"
   ]
  },
  {
   "cell_type": "markdown",
   "id": "2e51575d-45cb-4364-802c-240cb6fc1894",
   "metadata": {
    "jp-MarkdownHeadingCollapsed": true,
    "tags": []
   },
   "source": [
    "##### drop table"
   ]
  },
  {
   "cell_type": "raw",
   "id": "8ab6a6c1-d5cf-4030-b524-1a4d9d0a00a1",
   "metadata": {},
   "source": [
    "jpr_sql(\"\"\"drop table jawiki.history;\"\"\")"
   ]
  },
  {
   "cell_type": "markdown",
   "id": "42c70fc3-940c-4e0e-8864-f6e6cafe4709",
   "metadata": {
    "tags": []
   },
   "source": [
    "#### generate query to create history table as union"
   ]
  },
  {
   "cell_type": "code",
   "execution_count": 19,
   "id": "ed1c10e6-3454-46aa-995c-118139f62d4f",
   "metadata": {},
   "outputs": [],
   "source": [
    "union_query = (\n",
    "r\"\"\"create table jawiki.history as\n",
    "\"\"\"\n",
    "+\n",
    "r\"\"\"\n",
    "UNION ALL\n",
    "\"\"\".join([f'(SELECT * FROM h{year})' for year in range(2019,2022)])\n",
    "+\n",
    "r\"\"\"\n",
    ";\"\"\"\n",
    ")"
   ]
  },
  {
   "cell_type": "markdown",
   "id": "03e94098-9e4e-4c23-9572-e0a35635a9db",
   "metadata": {
    "tags": []
   },
   "source": [
    "##### print"
   ]
  },
  {
   "cell_type": "code",
   "execution_count": 20,
   "id": "fabfb274-ceab-4e5e-a72d-e72044eaed35",
   "metadata": {},
   "outputs": [
    {
     "name": "stdout",
     "output_type": "stream",
     "text": [
      "create table jawiki.history as\n",
      "(SELECT * FROM h2019)\n",
      "UNION ALL\n",
      "(SELECT * FROM h2020)\n",
      "UNION ALL\n",
      "(SELECT * FROM h2021)\n",
      ";\n"
     ]
    }
   ],
   "source": [
    "print(union_query)"
   ]
  },
  {
   "cell_type": "markdown",
   "id": "b1a558d5-ddb8-4501-afff-caab0fb3ffb7",
   "metadata": {
    "tags": []
   },
   "source": [
    "#### run union_query to create union table"
   ]
  },
  {
   "cell_type": "code",
   "execution_count": 21,
   "id": "05dc6235-dfa3-4282-abcc-45dccb5fd2cf",
   "metadata": {},
   "outputs": [
    {
     "name": "stdout",
     "output_type": "stream",
     "text": [
      "Printing results error:\n",
      "This result object does not return rows. It has been closed automatically.\n",
      "Printing result\n"
     ]
    }
   ],
   "source": [
    "jpr_sql(union_query)"
   ]
  },
  {
   "cell_type": "markdown",
   "id": "fc09f61f-34f8-4463-b451-adb79d7f856c",
   "metadata": {
    "tags": []
   },
   "source": [
    "# END"
   ]
  },
  {
   "cell_type": "markdown",
   "id": "da956191-8f9a-410a-8ab7-34d8ccf1a1ca",
   "metadata": {
    "tags": []
   },
   "source": [
    "## old code, test code"
   ]
  },
  {
   "cell_type": "markdown",
   "id": "e553cbd5-8dad-45c1-9fae-da659a32db73",
   "metadata": {},
   "source": [
    "will delete after have used the new code successfully a few more times"
   ]
  },
  {
   "cell_type": "markdown",
   "id": "6c539cad-0366-4c0d-8141-c8dafe1782b1",
   "metadata": {},
   "source": [
    "###### old query to subset timeseries"
   ]
  },
  {
   "cell_type": "code",
   "execution_count": 6,
   "id": "abdbc5e9-2d93-4c26-9939-8cf4ab7d0002",
   "metadata": {},
   "outputs": [],
   "source": [
    "sql_old = \"\"\"\n",
    "  with formatted_date as (\n",
    "    select\n",
    "        STR_TO_DATE(event_timestamp, '%Y-%m-%d %T') as date_tmstp\n",
    "        ,user_id\n",
    "        ,user_text\n",
    "        ,count(row_id) as row_count\n",
    "        ,page_id\n",
    "    from h2021\n",
    "    where \n",
    "        page_id in (109, 11, 331)\n",
    "        and event_entity = 'revision'\n",
    "        and user_is_bot_by IS NULL\n",
    "        and event_user_is_bot_by IS NULL\n",
    "    group by page_id\n",
    "  )\n",
    "  \n",
    "  select\n",
    "    date(date_tmstp) as day\n",
    "    ,page_id\n",
    "    ,row_count\n",
    "    ,user_id\n",
    "    ,user_text\n",
    "  from formatted_date\n",
    "  group by 1\n",
    "  order by 1\n",
    "  ;\n",
    "\"\"\""
   ]
  },
  {
   "cell_type": "markdown",
   "id": "10ebfed4-b928-49a0-b664-84ea10c0bcbc",
   "metadata": {},
   "source": [
    "###### peek at count of some pages edited with some frequency for testing"
   ]
  },
  {
   "cell_type": "code",
   "execution_count": 58,
   "id": "6c003de9-5043-4fd0-967f-264a249542b9",
   "metadata": {},
   "outputs": [],
   "source": [
    "high_rev_counts = pd.read_sql(\"\"\"\n",
    "    select page_id, count(row_id) as rev_count \n",
    "    from h2021 \n",
    "    where \n",
    "        event_entity = 'revision'\n",
    "        and user_is_bot_by IS NULL\n",
    "        and event_user_is_bot_by IS NULL\n",
    "    group by page_id \n",
    "    having rev_count > 100 \n",
    "    limit 10\"\"\", conn)"
   ]
  },
  {
   "cell_type": "markdown",
   "id": "4deb73a9-f8cb-4433-a641-06407d6f56b6",
   "metadata": {},
   "source": [
    "###### X (OLD) str_to_date code"
   ]
  },
  {
   "cell_type": "markdown",
   "id": "7d6f3c3c-9d89-4da6-a82c-7f8231343e55",
   "metadata": {},
   "source": [
    "string-to-timestamp-in-mysql [link](https://stackoverflow.com/questions/8587177/string-to-timestamp-in-mysql)"
   ]
  },
  {
   "cell_type": "markdown",
   "id": "f596f7a1-33df-4791-baca-8653683a7c3e",
   "metadata": {
    "tags": []
   },
   "source": [
    "###### select str_to_date test code"
   ]
  },
  {
   "cell_type": "code",
   "execution_count": null,
   "id": "25e6894a-88e4-441c-b679-f191456f8070",
   "metadata": {},
   "outputs": [],
   "source": [
    "# create table mvp_timeseries as (select \" + mvp_cols + r\" from h2021 where event_entity = 'revision' limit 20);\n",
    "jpr_sql(\"\"\"\n",
    "SELECT\n",
    "    STR_TO_DATE(event_timestamp, '%Y-%m-%d %T')\n",
    "FROM history\n",
    ";    \n",
    "\"\"\")"
   ]
  },
  {
   "cell_type": "code",
   "execution_count": 269,
   "id": "f84be196-956f-4670-8f35-043b6424de6d",
   "metadata": {},
   "outputs": [
    {
     "data": {
      "text/plain": [
       "[(21, 6844227)]"
      ]
     },
     "execution_count": 269,
     "metadata": {},
     "output_type": "execute_result"
    }
   ],
   "source": [
    "jpr_sql(\"\"\"\n",
    "SELECT\n",
    "    LENGTH(event_timestamp), \n",
    "    COUNT(*)\n",
    "FROM h2021\n",
    "GROUP BY 1\n",
    ";    \n",
    "\"\"\")"
   ]
  },
  {
   "cell_type": "code",
   "execution_count": 270,
   "id": "95963d4f-2bf3-488a-9c39-2e08dd7b1d86",
   "metadata": {},
   "outputs": [
    {
     "data": {
      "text/plain": [
       "[(bytearray(b'2021-01-01 00:00:00.0'),),\n",
       " (bytearray(b'2021-01-01 00:00:00.0'),),\n",
       " (bytearray(b'2021-01-01 00:00:01.0'),),\n",
       " (bytearray(b'2021-01-01 00:00:01.0'),),\n",
       " (bytearray(b'2021-01-01 00:00:01.0'),)]"
      ]
     },
     "execution_count": 270,
     "metadata": {},
     "output_type": "execute_result"
    }
   ],
   "source": [
    "jpr_sql(\"\"\"\n",
    "SELECT\n",
    "    event_timestamp\n",
    "FROM h2021\n",
    "LIMIT 5\n",
    ";    \n",
    "\"\"\")"
   ]
  },
  {
   "cell_type": "code",
   "execution_count": null,
   "id": "734011aa-c134-4da0-9ff8-9a1e5f74a358",
   "metadata": {},
   "outputs": [],
   "source": []
  },
  {
   "cell_type": "code",
   "execution_count": null,
   "id": "6bebcc5e-6752-4470-990b-5d0a021fef19",
   "metadata": {},
   "outputs": [],
   "source": [
    "jpr_sql(\"\"\"\n",
    "SELECT\n",
    "    STR_TO_DATE(event_timestamp, '%Y-%m-%d %T')\n",
    "FROM h2021 \n",
    ";    \n",
    "\"\"\")"
   ]
  },
  {
   "cell_type": "markdown",
   "id": "f47cd1f3-cf9f-49f2-b6fa-c4650e0abe6a",
   "metadata": {
    "tags": []
   },
   "source": [
    "##### create table mvp_timeseries"
   ]
  },
  {
   "cell_type": "code",
   "execution_count": 248,
   "id": "828db9ed-ed8b-4018-8b23-39b581c5b34f",
   "metadata": {},
   "outputs": [],
   "source": [
    "# STR_TO_DATE(event_timestamp, '%Y-%m-%d %T'),\n",
    "\n",
    "mvp_cols = r\"\"\"\n",
    "event_user_id,\n",
    "event_user_is_bot_by IS NULL AS event_user_is_human,\n",
    "page_id,\n",
    "page_title,\n",
    "page_namespace,\n",
    "user_id,\n",
    "user_text,\n",
    "user_is_bot_by IS NULL AS user_is_human,\n",
    "revision_text_bytes,\n",
    "revision_text_bytes_diff,\n",
    "row_id\n",
    "\"\"\"\n",
    "\n",
    "# where event_entity = 'revision'"
   ]
  },
  {
   "cell_type": "code",
   "execution_count": null,
   "id": "92753ab1-52bb-4bf6-9190-18ab65cf3566",
   "metadata": {},
   "outputs": [],
   "source": [
    "jpr_sql('show tables;')"
   ]
  },
  {
   "cell_type": "code",
   "execution_count": 266,
   "id": "b2e800ef-5d64-48d5-b25c-163b711d4f28",
   "metadata": {},
   "outputs": [
    {
     "name": "stdout",
     "output_type": "stream",
     "text": [
      "Printing execute error:\n",
      "(mysql.connector.errors.DataError) 1292 (22007): Truncated incorrect datetime value: '2021-01-01 00:00:00.0'\n",
      "[SQL: create table mvp_timeseries as (select \n",
      "STR_TO_DATE(event_timestamp, '%Y-%m-%d %T'),\n",
      "event_user_id,\n",
      "event_user_is_bot_by IS NULL AS event_user_is_human,\n",
      "page_id,\n",
      "page_title,\n",
      "page_namespace,\n",
      "user_id,\n",
      "user_text,\n",
      "user_is_bot_by IS NULL AS user_is_human,\n",
      "revision_text_bytes,\n",
      "revision_text_bytes_diff,\n",
      "row_id\n",
      " from h2021 where event_entity = 'revision' limit 20);]\n",
      "(Background on this error at: https://sqlalche.me/e/14/9h9h)\n"
     ]
    }
   ],
   "source": [
    "jpr_sql(r\"create table mvp_timeseries as (select \" + mvp_cols + r\" from h2021 where event_entity = 'revision' limit 20);\")"
   ]
  },
  {
   "cell_type": "code",
   "execution_count": null,
   "id": "eee7027d-759e-4057-abd2-47878ba4214f",
   "metadata": {},
   "outputs": [],
   "source": []
  },
  {
   "cell_type": "markdown",
   "id": "050ff2a3-f1c5-49ac-a820-015d6226c02d",
   "metadata": {
    "jp-MarkdownHeadingCollapsed": true,
    "tags": []
   },
   "source": [
    "## Stuff to put elsewhere"
   ]
  },
  {
   "cell_type": "markdown",
   "id": "814e14a9-388a-4fdd-939e-6ab1a4b305de",
   "metadata": {
    "tags": []
   },
   "source": [
    "##### get_flat_list"
   ]
  },
  {
   "cell_type": "code",
   "execution_count": null,
   "id": "bcf897be-e8c9-4898-95b0-1b20d41669b1",
   "metadata": {},
   "outputs": [],
   "source": [
    "import itertools as IT\n",
    "import collections\n",
    "\n",
    "def flatten(iterable, ltypes=collections.abc.Iterable):\n",
    "    \"\"\"This version of flatten avoids python's recursion limit \n",
    "      (and thus works with arbitrarily deep, nested iterables).\n",
    "      It is a generator which can handle strings and arbitrary iterables \n",
    "      (even infinite ones).\n",
    "    By unutbu:\n",
    "      https://stackoverflow.com/a/2158562/16133813\n",
    "    \"\"\"\n",
    "    \n",
    "    remainder = iter(iterable)\n",
    "    while True:\n",
    "        first = next(remainder)\n",
    "        if isinstance(first, ltypes) and not isinstance(first, (str, bytes)):\n",
    "            remainder = IT.chain(first, remainder)\n",
    "        else:\n",
    "            yield first\n",
    "\n",
    "def get_flat_list(iterable):\n",
    "    gen = flatten(iterable)\n",
    "    mylist = []\n",
    "    still_going = True\n",
    "    while still_going:\n",
    "        try:\n",
    "            next_item = next(gen)\n",
    "            mylist.append(next_item)\n",
    "        except Exception as e:\n",
    "            print(e)\n",
    "            still_going = False\n",
    "    return mylist"
   ]
  }
 ],
 "metadata": {
  "kernelspec": {
   "display_name": "Python 3 (ipykernel)",
   "language": "python",
   "name": "python3"
  },
  "language_info": {
   "codemirror_mode": {
    "name": "ipython",
    "version": 3
   },
   "file_extension": ".py",
   "mimetype": "text/x-python",
   "name": "python",
   "nbconvert_exporter": "python",
   "pygments_lexer": "ipython3",
   "version": "3.9.7"
  }
 },
 "nbformat": 4,
 "nbformat_minor": 5
}
