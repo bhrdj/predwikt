{
 "cells": [
  {
   "cell_type": "markdown",
   "id": "34301a84-cd16-4ce0-9e20-14f6419ddff0",
   "metadata": {},
   "source": [
    "# EDA"
   ]
  },
  {
   "cell_type": "markdown",
   "id": "dbd882f2-48a2-4a9f-b5db-ae1994041698",
   "metadata": {
    "jp-MarkdownHeadingCollapsed": true,
    "tags": []
   },
   "source": [
    "## intro"
   ]
  },
  {
   "cell_type": "markdown",
   "id": "b39dc016-6e47-4e88-9937-2028eeee7203",
   "metadata": {
    "jp-MarkdownHeadingCollapsed": true,
    "tags": []
   },
   "source": [
    "#### plan"
   ]
  },
  {
   "cell_type": "markdown",
   "id": "4a5d4259-e20a-4588-8ad6-632c8c101a61",
   "metadata": {},
   "source": [
    "now just need to:\n",
    "remove most of the rows that had warnings\n",
    "extract wiki-variables (features/targets) by category:\n",
    "daily edit count\n",
    "daily aggregate article expansion/contraction (+/- characters)\n",
    "daily # of unique users editing\n",
    "pick some models to train and compare:\n",
    "which wiki-vars are targets\n",
    "which wiki-vars are features\n",
    "what window-functions for lags (make stationary model)\n",
    "(do external features later)"
   ]
  },
  {
   "cell_type": "markdown",
   "id": "3e06ddcd-4365-4c27-b3fa-aac2648d1b55",
   "metadata": {
    "jp-MarkdownHeadingCollapsed": true,
    "tags": []
   },
   "source": [
    "#### imports"
   ]
  },
  {
   "cell_type": "code",
   "execution_count": 16,
   "id": "4636ba80-d84d-4776-a8d6-65770f821e57",
   "metadata": {},
   "outputs": [],
   "source": [
    "import pandas as pd, numpy as np, os, re, pyperclip\n",
    "import mysql.connector as mysql, sqlalchemy\n",
    "from datetime import datetime as dt"
   ]
  },
  {
   "cell_type": "markdown",
   "id": "0247578a-ad74-4980-a90e-ebb38e0d588d",
   "metadata": {
    "tags": []
   },
   "source": [
    "#### get creds, connect to mariadb"
   ]
  },
  {
   "cell_type": "code",
   "execution_count": 6,
   "id": "f826e717-06ec-44b7-977d-af4a07115150",
   "metadata": {},
   "outputs": [],
   "source": [
    "mysql_user = 'bhrdwj'\n",
    "# mysql_pass = input(f'Enter the MySQL password for user {mysql_user}: ')"
   ]
  },
  {
   "cell_type": "code",
   "execution_count": 7,
   "id": "41c5fb96-64d2-47f3-8427-d58f14daad96",
   "metadata": {},
   "outputs": [],
   "source": [
    "host='localhost'; user=mysql_user; passwd=mysql_pass; dbname='jawiki';\n",
    "cxn = mysql.connect(host=host,user=user,passwd=passwd, database=dbname)\n",
    "cur = cxn.cursor()\n",
    "\n",
    "connection_str = 'mysql+mysqlconnector://'+user+':'+passwd+'@'+host+'/'+dbname  # removed this after host +':'+dbport\n",
    "try:\n",
    "    engine = sqlalchemy.create_engine(connection_str)\n",
    "    conn = engine.connect()\n",
    "except Exception as e:\n",
    "    print('Database connection error - check creds')\n",
    "    print(e)"
   ]
  },
  {
   "cell_type": "code",
   "execution_count": 8,
   "id": "0c31a3d8-3631-4bd7-b1c4-684f98e113c0",
   "metadata": {},
   "outputs": [
    {
     "data": {
      "text/plain": [
       "['category',\n",
       " 'categorylinks',\n",
       " 'page',\n",
       " 't2013',\n",
       " 't2014',\n",
       " 't2015',\n",
       " 't2016',\n",
       " 't2017',\n",
       " 't2018',\n",
       " 't2019',\n",
       " 't2020',\n",
       " 't2021']"
      ]
     },
     "execution_count": 8,
     "metadata": {},
     "output_type": "execute_result"
    }
   ],
   "source": [
    "metadata = sqlalchemy.MetaData(conn)\n",
    "metadata.reflect()\n",
    "current_tables = list(metadata.tables.keys())\n",
    "current_tables"
   ]
  },
  {
   "cell_type": "markdown",
   "id": "63363725-bf07-4739-a950-8e35a3bbb3a4",
   "metadata": {},
   "source": [
    "#### some paths or something"
   ]
  },
  {
   "cell_type": "code",
   "execution_count": 15,
   "id": "508e6068-2c04-4c88-b4e9-14a04ebc13b4",
   "metadata": {},
   "outputs": [],
   "source": [
    "datapath = '../data/raw/jawiki/dumps_unzipped/'"
   ]
  },
  {
   "cell_type": "markdown",
   "id": "d6a57ef1-eecb-49a1-b510-65c2dd1dc590",
   "metadata": {
    "jp-MarkdownHeadingCollapsed": true,
    "tags": []
   },
   "source": [
    "## union"
   ]
  },
  {
   "cell_type": "markdown",
   "id": "43fade15-ceca-480f-8283-387cb10c5d23",
   "metadata": {
    "jp-MarkdownHeadingCollapsed": true,
    "tags": []
   },
   "source": [
    "### functions ```get_flat_list```, ```jpr_sql```"
   ]
  },
  {
   "cell_type": "markdown",
   "id": "0d4191a2-389b-4322-aec4-c0b4ddc1395d",
   "metadata": {
    "jp-MarkdownHeadingCollapsed": true,
    "tags": []
   },
   "source": [
    "##### get_flat_list"
   ]
  },
  {
   "cell_type": "code",
   "execution_count": 9,
   "id": "bcf897be-e8c9-4898-95b0-1b20d41669b1",
   "metadata": {},
   "outputs": [],
   "source": [
    "import itertools as IT\n",
    "import collections\n",
    "\n",
    "def flatten(iterable, ltypes=collections.abc.Iterable):\n",
    "    \"\"\"This version of flatten avoids python's recursion limit \n",
    "      (and thus works with arbitrarily deep, nested iterables).\n",
    "      It is a generator which can handle strings and arbitrary iterables \n",
    "      (even infinite ones).\n",
    "    By unutbu:\n",
    "      https://stackoverflow.com/a/2158562/16133813\n",
    "    \"\"\"\n",
    "    \n",
    "    remainder = iter(iterable)\n",
    "    while True:\n",
    "        first = next(remainder)\n",
    "        if isinstance(first, ltypes) and not isinstance(first, (str, bytes)):\n",
    "            remainder = IT.chain(first, remainder)\n",
    "        else:\n",
    "            yield first\n",
    "\n",
    "def get_flat_list(iterable):\n",
    "    gen = flatten(iterable)\n",
    "    mylist = []\n",
    "    still_going = True\n",
    "    while still_going:\n",
    "        try:\n",
    "            next_item = next(gen)\n",
    "            mylist.append(next_item)\n",
    "        except Exception as e:\n",
    "            print(e)\n",
    "            still_going = False\n",
    "    return mylist"
   ]
  },
  {
   "cell_type": "markdown",
   "id": "37172ec6-cdcb-4eb9-a2a1-2dccae5cfbce",
   "metadata": {
    "jp-MarkdownHeadingCollapsed": true,
    "tags": []
   },
   "source": [
    "##### jpr_sql"
   ]
  },
  {
   "cell_type": "code",
   "execution_count": 10,
   "id": "5829c78e-e72d-4969-82e8-d024c20b2ed2",
   "metadata": {},
   "outputs": [],
   "source": [
    "def jpr_sql(query, conn=conn):\n",
    "    try: \n",
    "        a = conn.execute(query)\n",
    "    except Exception as e:\n",
    "        print('Printing execute error:')\n",
    "        print(e)\n",
    "        return None\n",
    "    \n",
    "    try:\n",
    "        return a.fetchall()\n",
    "    except Exception as e:\n",
    "        print('Printing results error:')\n",
    "        print(e)\n",
    "        print('Printing result')\n",
    "        return None"
   ]
  },
  {
   "cell_type": "markdown",
   "id": "448aa002-b3e0-48ef-aea1-f7a3e9395447",
   "metadata": {},
   "source": [
    "### test union"
   ]
  },
  {
   "cell_type": "code",
   "execution_count": 13,
   "id": "b42ef195-9cd9-4ed3-ac02-2529afaa0c10",
   "metadata": {},
   "outputs": [
    {
     "data": {
      "text/plain": [
       "[(9039710,)]"
      ]
     },
     "execution_count": 13,
     "metadata": {},
     "output_type": "execute_result"
    }
   ],
   "source": [
    "jpr_sql(\"\"\"\n",
    "with hi as \n",
    "    ((select * from t2013)\n",
    "    union all\n",
    "    (select * from t2014))\n",
    "select count(*) from hi;\n",
    "\"\"\")"
   ]
  },
  {
   "cell_type": "markdown",
   "id": "f8a440c3-88a7-4822-b306-50a34880f4fb",
   "metadata": {},
   "source": [
    "### view"
   ]
  },
  {
   "cell_type": "code",
   "execution_count": null,
   "id": "3c958f36-9500-42d2-97eb-c80573ee57d4",
   "metadata": {},
   "outputs": [],
   "source": []
  },
  {
   "cell_type": "markdown",
   "id": "4f80e57c-e6e2-4052-ae3f-cb5f7ca20efb",
   "metadata": {},
   "source": [
    "## clean bad rows"
   ]
  },
  {
   "cell_type": "markdown",
   "id": "a8c410e0-f93f-47d8-890b-a17da7988932",
   "metadata": {},
   "source": [
    "### preliminary MVP: drop all rows in warnings"
   ]
  },
  {
   "cell_type": "markdown",
   "id": "f58d057d-d5fc-4455-9e04-e5f01e7d747f",
   "metadata": {},
   "source": [
    "##### get all the mariadb logs for loading history data"
   ]
  },
  {
   "cell_type": "code",
   "execution_count": 21,
   "id": "8a71576c-cbfc-43d8-b589-f1772b7230eb",
   "metadata": {},
   "outputs": [],
   "source": [
    "warnpath = datapath + 'load_data_warnings/'\n",
    "logs = sorted(os.listdir(warnpath))"
   ]
  },
  {
   "cell_type": "markdown",
   "id": "d7d58e06-b518-470f-8bf2-d48272eb94f2",
   "metadata": {},
   "source": [
    "##### make dictionary of lists of unique warnings-rownums, one list per log"
   ]
  },
  {
   "cell_type": "code",
   "execution_count": 64,
   "id": "a62587e1-bd47-42ba-9b5b-80a77b8f790d",
   "metadata": {},
   "outputs": [],
   "source": [
    "warnnums = {}\n",
    "rownum_regex = re.compile(r'(\\d*)(?= *\\|\\n$)')\n",
    "for logfile in logs:\n",
    "    thislog_warnnums = []\n",
    "    with open(warnpath + logfile) as log:\n",
    "        for line in log.readlines():\n",
    "            if re.match(r'^\\| Warning \\|', line):\n",
    "                rownum_str = re.search(rownum_regex, line).group()\n",
    "                rownum_int = int(rownum_str)\n",
    "                thislog_warnnums.append(rownum_int)\n",
    "    warnnums[logfile] = list(set(thislog_warnnums))"
   ]
  },
  {
   "cell_type": "code",
   "execution_count": 69,
   "id": "88f1843e-1912-4d4d-9b77-9c9840fce376",
   "metadata": {},
   "outputs": [
    {
     "data": {
      "text/plain": [
       "(9,\n",
       " {'t2013.log': 65,\n",
       "  't2014.log': 106,\n",
       "  't2015.log': 104,\n",
       "  't2016.log': 106,\n",
       "  't2017.log': 132,\n",
       "  't2018.log': 231,\n",
       "  't2019.log': 339,\n",
       "  't2020.log': 806,\n",
       "  't2021.log': 1454})"
      ]
     },
     "execution_count": 69,
     "metadata": {},
     "output_type": "execute_result"
    }
   ],
   "source": [
    "len(warnnums), {i:len(warnnums[i]) for i in warnnums}"
   ]
  },
  {
   "cell_type": "markdown",
   "id": "5e139239-da23-4e81-9553-6a099c542331",
   "metadata": {},
   "source": [
    "##### check that the problem rows are the onese that were removed by some spot-checking"
   ]
  },
  {
   "cell_type": "code",
   "execution_count": null,
   "id": "d542114c-3bf1-4fb8-91bc-0eeb2d4d1d47",
   "metadata": {},
   "outputs": [],
   "source": []
  },
  {
   "cell_type": "code",
   "execution_count": null,
   "id": "c04c962b-030f-4c86-8dce-1f1972af6c9a",
   "metadata": {},
   "outputs": [],
   "source": []
  },
  {
   "cell_type": "code",
   "execution_count": null,
   "id": "507d6624-189b-459e-85ed-21e254fe046f",
   "metadata": {},
   "outputs": [],
   "source": []
  },
  {
   "cell_type": "code",
   "execution_count": null,
   "id": "20f4bd41-86e8-4809-8078-9b8958f1f418",
   "metadata": {},
   "outputs": [],
   "source": []
  },
  {
   "cell_type": "code",
   "execution_count": 39,
   "id": "944d7627-a1e9-4af5-abac-535cb3b6822c",
   "metadata": {},
   "outputs": [
    {
     "name": "stdout",
     "output_type": "stream",
     "text": [
      "MariaDB [jawiki]> show warnings;\n",
      "\n",
      "None\n"
     ]
    }
   ],
   "source": [
    "some_logs = []\n",
    "with open(warnpath + logs[0]) as log:\n",
    "    line = log.readline()\n",
    "    print(line)\n",
    "    print(re.match(r'\\| Warning \\|', line))"
   ]
  },
  {
   "cell_type": "code",
   "execution_count": null,
   "id": "117f19a9-f724-4e54-bc11-0053e352312d",
   "metadata": {},
   "outputs": [],
   "source": []
  },
  {
   "cell_type": "code",
   "execution_count": null,
   "id": "72a2d5ee-416b-4d19-9dcd-b5887c1337ab",
   "metadata": {},
   "outputs": [],
   "source": []
  },
  {
   "cell_type": "code",
   "execution_count": null,
   "id": "705079d3-09b8-4a03-b7e9-adf8d07868e5",
   "metadata": {},
   "outputs": [],
   "source": []
  },
  {
   "cell_type": "code",
   "execution_count": null,
   "id": "659a9e76-4735-48f5-bfed-2cd72228693a",
   "metadata": {},
   "outputs": [],
   "source": []
  },
  {
   "cell_type": "code",
   "execution_count": null,
   "id": "6af4e635-bef8-4cff-8fee-84731a98de08",
   "metadata": {},
   "outputs": [],
   "source": []
  }
 ],
 "metadata": {
  "kernelspec": {
   "display_name": "Python 3 (ipykernel)",
   "language": "python",
   "name": "python3"
  },
  "language_info": {
   "codemirror_mode": {
    "name": "ipython",
    "version": 3
   },
   "file_extension": ".py",
   "mimetype": "text/x-python",
   "name": "python",
   "nbconvert_exporter": "python",
   "pygments_lexer": "ipython3",
   "version": "3.9.7"
  }
 },
 "nbformat": 4,
 "nbformat_minor": 5
}
