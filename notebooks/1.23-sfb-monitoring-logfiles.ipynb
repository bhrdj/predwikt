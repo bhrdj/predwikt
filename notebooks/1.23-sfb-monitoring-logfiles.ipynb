{
 "cells": [
  {
   "cell_type": "markdown",
   "id": "7c2afb46",
   "metadata": {},
   "source": [
    "# monitoring logfiles"
   ]
  },
  {
   "cell_type": "markdown",
   "id": "9b1ece41",
   "metadata": {},
   "source": [
    "note:. \n",
    "check these pages to setup remote access to mariadb:\n",
    "\n",
    "[link1](https://stackoverflow.com/questions/9766014/connect-to-mysql-on-amazon-ec2-from-a-remote-server)\n",
    "\n",
    "[link2](https://docs.streamlit.io/knowledge-base/tutorials/databases/mysql)\n"
   ]
  },
  {
   "cell_type": "code",
   "execution_count": 33,
   "id": "68a0f417",
   "metadata": {},
   "outputs": [],
   "source": [
    "logpath = '../data/logs/pageviews-log_2022-03-20_0.txt'"
   ]
  },
  {
   "cell_type": "code",
   "execution_count": 34,
   "id": "e0bd26a5",
   "metadata": {},
   "outputs": [],
   "source": [
    "def leng():\n",
    "    with open(logpath) as f:\n",
    "        num_lines = 0\n",
    "        while (f.readline()):\n",
    "            num_lines+=1\n",
    "        return num_lines"
   ]
  },
  {
   "cell_type": "code",
   "execution_count": 35,
   "id": "21e0aebb",
   "metadata": {},
   "outputs": [],
   "source": [
    "def tail(n=25):\n",
    "    length = leng()\n",
    "    start = length - n\n",
    "    lst = []\n",
    "    with open(logpath) as f:\n",
    "        ct = 0\n",
    "        while ct < start:\n",
    "            f.readline()\n",
    "            ct += 1\n",
    "        while (line:=f.readline()):\n",
    "            lst.append(line)\n",
    "        return '\\n'.join(lst)"
   ]
  },
  {
   "cell_type": "markdown",
   "id": "94578e93",
   "metadata": {},
   "source": [
    "made it to 372 last time"
   ]
  },
  {
   "cell_type": "code",
   "execution_count": 36,
   "id": "8f229478",
   "metadata": {},
   "outputs": [
    {
     "data": {
      "text/plain": [
       "66426"
      ]
     },
     "execution_count": 36,
     "metadata": {},
     "output_type": "execute_result"
    }
   ],
   "source": [
    "leng()"
   ]
  },
  {
   "cell_type": "code",
   "execution_count": 37,
   "id": "2d10ba79",
   "metadata": {},
   "outputs": [
    {
     "name": "stdout",
     "output_type": "stream",
     "text": [
      "\n",
      "\n",
      "2022-03-21 12:48:41,144 - 1.22-sfb-get-pageviews-with-AWS - INFO - start __main__.parse_utc_time_from_filename ( filename = 'pageviews-20160525-140000.gz' )\n",
      "\n",
      "2022-03-21 12:48:41,145 - 1.22-sfb-get-pageviews-with-AWS - INFO - finish __main__.parse_utc_time_from_filename ( filename = 'pageviews-20160525-140000.gz' )\n",
      "\n",
      "\n",
      "\n",
      "2022-03-21 12:48:42,856 - 1.22-sfb-get-pageviews-with-AWS - INFO - finish __main__.get_pageviews_subset_by_project ( fpath_in = '../data/temp/pageviews-20160525-140000.gz' )\n",
      "\n",
      "\n",
      "\n",
      "2022-03-21 12:48:51,422 - 1.22-sfb-get-pageviews-with-AWS - INFO - -----------\n",
      "\n",
      "PROCESS TIME SO FAR:  23:59:53.518764\n",
      "\n",
      "COUNT:                3495\n",
      "\n",
      "FRACTION DONE:        0.0664499201460187\n",
      "\n",
      "EXPECTED FINISH TIME: 2022-04-04 13:57:47.664356\n",
      "\n",
      "-----------\n",
      "\n",
      "\n",
      "\n",
      "2022-03-21 12:48:51,431 - 1.22-sfb-get-pageviews-with-AWS - INFO - start __main__.download_file ( url = 'https://dumps.wikimedia.org/other/pageviews/2016/2016-05/pageviews-20160525-150000.gz', dirpath = '../data/temp/' )\n",
      "\n",
      "2022-03-21 12:49:06,722 - 1.22-sfb-get-pageviews-with-AWS - INFO - finish __main__.download_file ( url = 'https://dumps.wikimedia.org/other/pageviews/2016/2016-05/pageviews-20160525-150000.gz', dirpath = '../data/temp/' )\n",
      "\n",
      "\n",
      "\n",
      "2022-03-21 12:49:06,723 - 1.22-sfb-get-pageviews-with-AWS - INFO - start __main__.get_pageviews_subset_by_project ( fpath_in = '../data/temp/pageviews-20160525-150000.gz' )\n",
      "\n",
      "2022-03-21 12:49:06,723 - 1.22-sfb-get-pageviews-with-AWS - INFO - start __main__.open_hour_file ( path = '../data/temp/pageviews-20160525-150000.gz' )\n",
      "\n",
      "2022-03-21 12:49:06,723 - 1.22-sfb-get-pageviews-with-AWS - INFO - finish __main__.open_hour_file ( path = '../data/temp/pageviews-20160525-150000.gz' )\n",
      "\n",
      "\n",
      "\n",
      "2022-03-21 12:49:12,549 - 1.22-sfb-get-pageviews-with-AWS - INFO - start __main__.parse_utc_time_from_filename ( filename = 'pageviews-20160525-150000.gz' )\n",
      "\n",
      "2022-03-21 12:49:12,549 - 1.22-sfb-get-pageviews-with-AWS - INFO - finish __main__.parse_utc_time_from_filename ( filename = 'pageviews-20160525-150000.gz' )\n",
      "\n",
      "\n",
      "\n",
      "2022-03-21 12:49:14,124 - 1.22-sfb-get-pageviews-with-AWS - INFO - finish __main__.get_pageviews_subset_by_project ( fpath_in = '../data/temp/pageviews-20160525-150000.gz' )\n",
      "\n",
      "\n",
      "\n"
     ]
    }
   ],
   "source": [
    "print(tail())"
   ]
  },
  {
   "cell_type": "code",
   "execution_count": null,
   "id": "acf29c81",
   "metadata": {},
   "outputs": [],
   "source": []
  }
 ],
 "metadata": {
  "kernelspec": {
   "display_name": "Python 3 (ipykernel)",
   "language": "python",
   "name": "python3"
  },
  "language_info": {
   "codemirror_mode": {
    "name": "ipython",
    "version": 3
   },
   "file_extension": ".py",
   "mimetype": "text/x-python",
   "name": "python",
   "nbconvert_exporter": "python",
   "pygments_lexer": "ipython3",
   "version": "3.9.7"
  }
 },
 "nbformat": 4,
 "nbformat_minor": 5
}
