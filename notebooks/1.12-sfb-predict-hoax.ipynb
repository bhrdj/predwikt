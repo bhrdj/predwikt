{
 "cells": [
  {
   "cell_type": "markdown",
   "id": "8ab5a693-1c3e-4bc6-bfed-39e393685db5",
   "metadata": {},
   "source": [
    "## get data"
   ]
  },
  {
   "cell_type": "markdown",
   "id": "29340b0f-2514-4b24-ac8e-71bfa0afca07",
   "metadata": {},
   "source": [
    "### imports"
   ]
  },
  {
   "cell_type": "code",
   "execution_count": 1,
   "id": "01308bb7-61d5-4c6d-b1f4-39a462b0719a",
   "metadata": {},
   "outputs": [],
   "source": [
    "import os, re, patsy\n",
    "import pandas as pd, numpy as np\n",
    "from sklearn.linear_model import LogisticRegressionCV\n",
    "from sklearn.model_selection import train_test_split\n",
    "from sklearn.feature_selection import SelectKBest\n",
    "from sklearn.preprocessing import StandardScaler\n",
    "path = '/home/bhrdwj/git/predwikt/data/raw/wiki_reliability/unzipped/'"
   ]
  },
  {
   "cell_type": "code",
   "execution_count": 2,
   "id": "571bc49c-3cad-49ef-9f60-2e0391216b33",
   "metadata": {},
   "outputs": [],
   "source": [
    "fea = (pd.read_csv(path+'hoax_features.csv', usecols=lambda x: x not in ['Unnamed: 0'])\n",
    "       .rename(columns={'headings_by_level(2)':'headings_by_level_2', 'revision_id.key':'revision_id_key'}))"
   ]
  },
  {
   "cell_type": "markdown",
   "id": "5f4cc891-f2ed-4010-bffc-b68f8c74db38",
   "metadata": {
    "tags": []
   },
   "source": [
    "### train test split"
   ]
  },
  {
   "cell_type": "markdown",
   "id": "d13b6a58-17b1-45ae-87d1-7ecf6df66ce7",
   "metadata": {},
   "source": [
    "#### Make series of negative revisions and their revision keys, and vice versa"
   ]
  },
  {
   "cell_type": "code",
   "execution_count": 3,
   "id": "273aefc0-b38d-4261-afc4-8b942562b900",
   "metadata": {},
   "outputs": [
    {
     "data": {
      "text/plain": [
       "(1390,)"
      ]
     },
     "execution_count": 3,
     "metadata": {},
     "output_type": "execute_result"
    }
   ],
   "source": [
    "neg_revs = fea[['revision_id', 'revision_id_key', 'has_template']]\n",
    "neg_revs = neg_revs.loc[neg_revs.has_template==0].set_index('revision_id')['revision_id_key']\n",
    "pos_revs = fea[['revision_id', 'revision_id_key', 'has_template']]\n",
    "pos_revs = pos_revs.loc[pos_revs.has_template==1].set_index('revision_id')['revision_id_key']\n",
    "\n",
    "neg_revs.shape #, pos_revs.shape"
   ]
  },
  {
   "cell_type": "markdown",
   "id": "6a270277-1fc3-4dfe-b818-fe638ff373e2",
   "metadata": {},
   "source": [
    "#### Test-train split the neg_revs, and form dfte and dftr"
   ]
  },
  {
   "cell_type": "code",
   "execution_count": 4,
   "id": "d74c26c4-8cb7-475d-979c-b588830b3934",
   "metadata": {},
   "outputs": [],
   "source": [
    "neg_revs_tr, neg_revs_te = train_test_split(neg_revs, test_size=.2, random_state=1)\n",
    "pos_revs_tr = pos_revs[neg_revs_tr.values]\n",
    "pos_revs_te = pos_revs[neg_revs_te.values]"
   ]
  },
  {
   "cell_type": "code",
   "execution_count": 5,
   "id": "e8f7d5fc-0ae4-463f-aafe-154e4705069c",
   "metadata": {},
   "outputs": [],
   "source": [
    "revs_tr = pd.concat((neg_revs_tr, pos_revs_tr))\n",
    "revs_te = pd.concat((neg_revs_te, pos_revs_te))"
   ]
  },
  {
   "cell_type": "code",
   "execution_count": 6,
   "id": "62d9aea1-95f9-4184-9f0f-e02f504195cb",
   "metadata": {},
   "outputs": [],
   "source": [
    "fea_rev = fea.set_index('revision_id')\n",
    "dftr = fea_rev.loc[revs_tr.index].dropna()\n",
    "dfte = fea_rev.loc[revs_te.index].dropna()"
   ]
  },
  {
   "cell_type": "code",
   "execution_count": 7,
   "id": "40adeaf3-46bd-4f5f-a61d-af1078552209",
   "metadata": {},
   "outputs": [],
   "source": [
    "del neg_revs, pos_revs, neg_revs_tr, pos_revs_tr, neg_revs_te, pos_revs_te, revs_tr, revs_te, fea_rev"
   ]
  },
  {
   "cell_type": "markdown",
   "id": "694fe3ff-e76e-4b9a-9d4c-227b7330c6ae",
   "metadata": {},
   "source": [
    "### prep"
   ]
  },
  {
   "cell_type": "code",
   "execution_count": 8,
   "id": "b9c15701-0051-4569-a946-e551bd6a9f0b",
   "metadata": {},
   "outputs": [],
   "source": [
    "ytr = dftr.has_template\n",
    "Xtr = dftr[dftr.columns.difference(['page_id','revision_id.key','has_template'])]\n",
    "Xtr = patsy.dmatrix('~ '+' + '.join(Xtr.columns), data=Xtr, NA_action='drop', return_type='dataframe')\n",
    "\n",
    "yte = dfte.has_template\n",
    "Xte = dfte[dfte.columns.difference(['page_id','revision_id.key','has_template'])]\n",
    "Xte = patsy.dmatrix('~ '+' + '.join(Xte.columns), data=Xte, NA_action='drop', return_type='dataframe')\n",
    "\n",
    "Xcols = list(\n",
    "    set(Xtr.columns.tolist())\n",
    "    .union(set(Xte.columns.tolist()))\n",
    ")\n",
    "\n",
    "for col in Xcols:\n",
    "    if col not in Xte:\n",
    "        Xte[col] = 0\n",
    "    if col not in Xtr:\n",
    "        Xtr[col] = 0\n"
   ]
  },
  {
   "cell_type": "code",
   "execution_count": 9,
   "id": "2eac4765-4df3-4f8a-96e6-200c354cca60",
   "metadata": {},
   "outputs": [
    {
     "data": {
      "text/plain": [
       "((2221,), (2221, 26))"
      ]
     },
     "execution_count": 9,
     "metadata": {},
     "output_type": "execute_result"
    }
   ],
   "source": [
    "ytr.shape, Xtr.shape"
   ]
  },
  {
   "cell_type": "code",
   "execution_count": 10,
   "id": "89a22dd7-e60a-4091-872e-22e1bd9cc9cb",
   "metadata": {},
   "outputs": [
    {
     "data": {
      "text/plain": [
       "((556,), (556, 26))"
      ]
     },
     "execution_count": 10,
     "metadata": {},
     "output_type": "execute_result"
    }
   ],
   "source": [
    "yte.shape, Xte.shape"
   ]
  },
  {
   "cell_type": "code",
   "execution_count": 11,
   "id": "c2dfcf61-10b3-49c6-8692-21b4f2b5f8bd",
   "metadata": {},
   "outputs": [],
   "source": [
    "# scaler = StandardScaler()\n",
    "# def scale_reindex(df):\n",
    "#     matrix = scaler.fit_transform(df)\n",
    "#     return pd.DataFrame(data=matrix, index=df.index, columns=df.columns)\n",
    "\n",
    "# [Xtr,Xte] = map(scale_reindex, [Xtr,Xte])"
   ]
  },
  {
   "cell_type": "markdown",
   "id": "912474cf-4ecc-42a0-be84-8b6a98ff4513",
   "metadata": {},
   "source": [
    "## run model"
   ]
  },
  {
   "cell_type": "code",
   "execution_count": 12,
   "id": "c1e3da94-15df-4431-8fb1-5a851dec96e8",
   "metadata": {},
   "outputs": [
    {
     "name": "stderr",
     "output_type": "stream",
     "text": [
      "/home/bhrdwj/anaconda3/envs/py39/lib/python3.9/site-packages/sklearn/feature_selection/_univariate_selection.py:112: UserWarning: Features [0] are constant.\n",
      "  warnings.warn(\"Features %s are constant.\" % constant_features_idx, UserWarning)\n",
      "/home/bhrdwj/anaconda3/envs/py39/lib/python3.9/site-packages/sklearn/feature_selection/_univariate_selection.py:113: RuntimeWarning: invalid value encountered in true_divide\n",
      "  f = msb / msw\n"
     ]
    }
   ],
   "source": [
    "skb1 = SelectKBest(k=20)\n",
    "skb1.fit(Xtr,np.ravel(ytr))\n",
    "feats1 = Xtr.columns[skb1.get_support()]\n",
    "feats1 = [i for i in feats1.tolist() if not i.find('page_id') > -1]"
   ]
  },
  {
   "cell_type": "code",
   "execution_count": 13,
   "id": "d470c452-30b0-498e-bfbe-6633a203a9cb",
   "metadata": {},
   "outputs": [
    {
     "data": {
      "text/plain": [
       "['article_quality_score[T.C]',\n",
       " 'article_quality_score[T.FA]',\n",
       " 'article_quality_score[T.GA]',\n",
       " 'article_quality_score[T.Stub]',\n",
       " 'category_links',\n",
       " 'cite_templates',\n",
       " 'cn_templates',\n",
       " 'external_links',\n",
       " 'infobox_templates',\n",
       " 'paragraphs_without_refs',\n",
       " 'ref_tags',\n",
       " 'revision_chars',\n",
       " 'revision_content_chars',\n",
       " 'revision_templates',\n",
       " 'revision_text_bytes',\n",
       " 'revision_wikilinks',\n",
       " 'revision_words',\n",
       " 'shortened_footnote_templates',\n",
       " 'stems_length',\n",
       " 'words_to_watch_matches']"
      ]
     },
     "execution_count": 13,
     "metadata": {},
     "output_type": "execute_result"
    }
   ],
   "source": [
    "feats1"
   ]
  },
  {
   "cell_type": "markdown",
   "id": "e559acc6-c9ed-4aa6-9248-eef54b4c530e",
   "metadata": {
    "tags": []
   },
   "source": [
    "### initialize and fit"
   ]
  },
  {
   "cell_type": "code",
   "execution_count": 14,
   "id": "13971096-7889-4570-a2bf-0cf2a121739d",
   "metadata": {},
   "outputs": [
    {
     "name": "stderr",
     "output_type": "stream",
     "text": [
      "/home/bhrdwj/anaconda3/envs/py39/lib/python3.9/site-packages/sklearn/linear_model/_logistic.py:814: ConvergenceWarning: lbfgs failed to converge (status=1):\n",
      "STOP: TOTAL NO. of ITERATIONS REACHED LIMIT.\n",
      "\n",
      "Increase the number of iterations (max_iter) or scale the data as shown in:\n",
      "    https://scikit-learn.org/stable/modules/preprocessing.html\n",
      "Please also refer to the documentation for alternative solver options:\n",
      "    https://scikit-learn.org/stable/modules/linear_model.html#logistic-regression\n",
      "  n_iter_i = _check_optimize_result(\n",
      "/home/bhrdwj/anaconda3/envs/py39/lib/python3.9/site-packages/sklearn/linear_model/_logistic.py:814: ConvergenceWarning: lbfgs failed to converge (status=1):\n",
      "STOP: TOTAL NO. of ITERATIONS REACHED LIMIT.\n",
      "\n",
      "Increase the number of iterations (max_iter) or scale the data as shown in:\n",
      "    https://scikit-learn.org/stable/modules/preprocessing.html\n",
      "Please also refer to the documentation for alternative solver options:\n",
      "    https://scikit-learn.org/stable/modules/linear_model.html#logistic-regression\n",
      "  n_iter_i = _check_optimize_result(\n",
      "/home/bhrdwj/anaconda3/envs/py39/lib/python3.9/site-packages/sklearn/linear_model/_logistic.py:814: ConvergenceWarning: lbfgs failed to converge (status=1):\n",
      "STOP: TOTAL NO. of ITERATIONS REACHED LIMIT.\n",
      "\n",
      "Increase the number of iterations (max_iter) or scale the data as shown in:\n",
      "    https://scikit-learn.org/stable/modules/preprocessing.html\n",
      "Please also refer to the documentation for alternative solver options:\n",
      "    https://scikit-learn.org/stable/modules/linear_model.html#logistic-regression\n",
      "  n_iter_i = _check_optimize_result(\n",
      "/home/bhrdwj/anaconda3/envs/py39/lib/python3.9/site-packages/sklearn/linear_model/_logistic.py:814: ConvergenceWarning: lbfgs failed to converge (status=1):\n",
      "STOP: TOTAL NO. of ITERATIONS REACHED LIMIT.\n",
      "\n",
      "Increase the number of iterations (max_iter) or scale the data as shown in:\n",
      "    https://scikit-learn.org/stable/modules/preprocessing.html\n",
      "Please also refer to the documentation for alternative solver options:\n",
      "    https://scikit-learn.org/stable/modules/linear_model.html#logistic-regression\n",
      "  n_iter_i = _check_optimize_result(\n",
      "/home/bhrdwj/anaconda3/envs/py39/lib/python3.9/site-packages/sklearn/linear_model/_logistic.py:814: ConvergenceWarning: lbfgs failed to converge (status=1):\n",
      "STOP: TOTAL NO. of ITERATIONS REACHED LIMIT.\n",
      "\n",
      "Increase the number of iterations (max_iter) or scale the data as shown in:\n",
      "    https://scikit-learn.org/stable/modules/preprocessing.html\n",
      "Please also refer to the documentation for alternative solver options:\n",
      "    https://scikit-learn.org/stable/modules/linear_model.html#logistic-regression\n",
      "  n_iter_i = _check_optimize_result(\n",
      "/home/bhrdwj/anaconda3/envs/py39/lib/python3.9/site-packages/sklearn/linear_model/_logistic.py:814: ConvergenceWarning: lbfgs failed to converge (status=1):\n",
      "STOP: TOTAL NO. of ITERATIONS REACHED LIMIT.\n",
      "\n",
      "Increase the number of iterations (max_iter) or scale the data as shown in:\n",
      "    https://scikit-learn.org/stable/modules/preprocessing.html\n",
      "Please also refer to the documentation for alternative solver options:\n",
      "    https://scikit-learn.org/stable/modules/linear_model.html#logistic-regression\n",
      "  n_iter_i = _check_optimize_result(\n",
      "/home/bhrdwj/anaconda3/envs/py39/lib/python3.9/site-packages/sklearn/linear_model/_logistic.py:814: ConvergenceWarning: lbfgs failed to converge (status=1):\n",
      "STOP: TOTAL NO. of ITERATIONS REACHED LIMIT.\n",
      "\n",
      "Increase the number of iterations (max_iter) or scale the data as shown in:\n",
      "    https://scikit-learn.org/stable/modules/preprocessing.html\n",
      "Please also refer to the documentation for alternative solver options:\n",
      "    https://scikit-learn.org/stable/modules/linear_model.html#logistic-regression\n",
      "  n_iter_i = _check_optimize_result(\n",
      "/home/bhrdwj/anaconda3/envs/py39/lib/python3.9/site-packages/sklearn/linear_model/_logistic.py:814: ConvergenceWarning: lbfgs failed to converge (status=1):\n",
      "STOP: TOTAL NO. of ITERATIONS REACHED LIMIT.\n",
      "\n",
      "Increase the number of iterations (max_iter) or scale the data as shown in:\n",
      "    https://scikit-learn.org/stable/modules/preprocessing.html\n",
      "Please also refer to the documentation for alternative solver options:\n",
      "    https://scikit-learn.org/stable/modules/linear_model.html#logistic-regression\n",
      "  n_iter_i = _check_optimize_result(\n",
      "/home/bhrdwj/anaconda3/envs/py39/lib/python3.9/site-packages/sklearn/linear_model/_logistic.py:814: ConvergenceWarning: lbfgs failed to converge (status=1):\n",
      "STOP: TOTAL NO. of ITERATIONS REACHED LIMIT.\n",
      "\n",
      "Increase the number of iterations (max_iter) or scale the data as shown in:\n",
      "    https://scikit-learn.org/stable/modules/preprocessing.html\n",
      "Please also refer to the documentation for alternative solver options:\n",
      "    https://scikit-learn.org/stable/modules/linear_model.html#logistic-regression\n",
      "  n_iter_i = _check_optimize_result(\n",
      "/home/bhrdwj/anaconda3/envs/py39/lib/python3.9/site-packages/sklearn/linear_model/_logistic.py:814: ConvergenceWarning: lbfgs failed to converge (status=1):\n",
      "STOP: TOTAL NO. of ITERATIONS REACHED LIMIT.\n",
      "\n",
      "Increase the number of iterations (max_iter) or scale the data as shown in:\n",
      "    https://scikit-learn.org/stable/modules/preprocessing.html\n",
      "Please also refer to the documentation for alternative solver options:\n",
      "    https://scikit-learn.org/stable/modules/linear_model.html#logistic-regression\n",
      "  n_iter_i = _check_optimize_result(\n"
     ]
    },
    {
     "data": {
      "text/plain": [
       "LogisticRegressionCV(Cs=array([0.0001    , 0.00031623, 0.001     ]),\n",
       "                     random_state=0)"
      ]
     },
     "execution_count": 14,
     "metadata": {},
     "output_type": "execute_result"
    }
   ],
   "source": [
    "logcv = LogisticRegressionCV(Cs=np.logspace(-4, -3, num=3), random_state=0)\n",
    "logcv.fit(Xtr[feats1], ytr)"
   ]
  },
  {
   "cell_type": "markdown",
   "id": "8754a5a3-cb40-4e29-911c-a1074bfc3e9e",
   "metadata": {
    "tags": []
   },
   "source": [
    "#### check results"
   ]
  },
  {
   "cell_type": "code",
   "execution_count": 15,
   "id": "fa26cc7b-91b1-44c3-ad4b-f0c84a4c568c",
   "metadata": {},
   "outputs": [
    {
     "data": {
      "text/plain": [
       "array([0.001])"
      ]
     },
     "execution_count": 15,
     "metadata": {},
     "output_type": "execute_result"
    }
   ],
   "source": [
    "logcv.C_"
   ]
  },
  {
   "cell_type": "code",
   "execution_count": 16,
   "id": "ff3f3019-408a-40e7-9c2e-73e726a6842b",
   "metadata": {},
   "outputs": [
    {
     "data": {
      "text/plain": [
       "0.6025179856115108"
      ]
     },
     "execution_count": 16,
     "metadata": {},
     "output_type": "execute_result"
    }
   ],
   "source": [
    "logcv.score(Xte[feats1], yte)"
   ]
  },
  {
   "cell_type": "code",
   "execution_count": 17,
   "id": "2413076a-1aa7-4121-a281-ae0863f2e668",
   "metadata": {},
   "outputs": [
    {
     "data": {
      "text/plain": [
       "0.5"
      ]
     },
     "execution_count": 17,
     "metadata": {},
     "output_type": "execute_result"
    }
   ],
   "source": [
    "yte.mean()"
   ]
  },
  {
   "cell_type": "markdown",
   "id": "6e84bcfe-0b01-42dd-83b8-31e5ad092a1b",
   "metadata": {
    "tags": []
   },
   "source": [
    "#### review fitted coefficients"
   ]
  },
  {
   "cell_type": "code",
   "execution_count": 18,
   "id": "5d6fb3e4-f0a2-45ab-bba0-769607aec8ef",
   "metadata": {},
   "outputs": [],
   "source": [
    "coeffs = pd.Series(logcv.coef_.flatten(), index=feats1).squeeze().sort_values(ascending=False, key=abs)"
   ]
  },
  {
   "cell_type": "code",
   "execution_count": 19,
   "id": "5c63166a-99f4-4234-a738-24fc1c64fa34",
   "metadata": {},
   "outputs": [
    {
     "data": {
      "text/plain": [
       "revision_templates               0.009450\n",
       "external_links                  -0.005793\n",
       "words_to_watch_matches           0.004358\n",
       "cite_templates                   0.004084\n",
       "ref_tags                         0.003973\n",
       "cn_templates                     0.001658\n",
       "shortened_footnote_templates    -0.000595\n",
       "article_quality_score[T.Stub]   -0.000574\n",
       "article_quality_score[T.C]       0.000327\n",
       "revision_words                  -0.000266\n",
       "infobox_templates                0.000262\n",
       "category_links                   0.000229\n",
       "revision_content_chars           0.000102\n",
       "revision_text_bytes             -0.000057\n",
       "article_quality_score[T.GA]     -0.000036\n",
       "stems_length                     0.000036\n",
       "revision_wikilinks               0.000034\n",
       "revision_chars                  -0.000030\n",
       "paragraphs_without_refs          0.000026\n",
       "article_quality_score[T.FA]     -0.000021\n",
       "dtype: float64"
      ]
     },
     "execution_count": 19,
     "metadata": {},
     "output_type": "execute_result"
    }
   ],
   "source": [
    "coeffs"
   ]
  }
 ],
 "metadata": {
  "kernelspec": {
   "display_name": "Python 3 (ipykernel)",
   "language": "python",
   "name": "python3"
  },
  "language_info": {
   "codemirror_mode": {
    "name": "ipython",
    "version": 3
   },
   "file_extension": ".py",
   "mimetype": "text/x-python",
   "name": "python",
   "nbconvert_exporter": "python",
   "pygments_lexer": "ipython3",
   "version": "3.9.7"
  }
 },
 "nbformat": 4,
 "nbformat_minor": 5
}
