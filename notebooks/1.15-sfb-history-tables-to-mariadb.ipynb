{
 "cells": [
  {
   "cell_type": "markdown",
   "id": "cad2e7d2-c9c2-4d6d-9f9f-e592d6c029da",
   "metadata": {},
   "source": [
    "# history dumps import to mariadb"
   ]
  },
  {
   "cell_type": "markdown",
   "id": "487d5716-8dcd-46bf-be90-21e99b3a2027",
   "metadata": {
    "tags": []
   },
   "source": [
    "## imports"
   ]
  },
  {
   "cell_type": "markdown",
   "id": "bcd3c26e-a63a-4401-a5c0-6c3d682dad9a",
   "metadata": {
    "tags": []
   },
   "source": [
    "### libraries, datapath, metadata"
   ]
  },
  {
   "cell_type": "code",
   "execution_count": 63,
   "id": "9c383cdf-aed7-4ac3-920c-3b2cc0b6c5e9",
   "metadata": {},
   "outputs": [],
   "source": [
    "import os, re, pandas as pd, numpy as np\n",
    "from datetime import datetime as dt"
   ]
  },
  {
   "cell_type": "code",
   "execution_count": 4,
   "id": "2c7537ac-20a4-4fc0-a1ea-f20f02356bb4",
   "metadata": {},
   "outputs": [],
   "source": [
    "datapath = '../data/raw/jawiki/dumps_unzipped/'"
   ]
  },
  {
   "cell_type": "code",
   "execution_count": 5,
   "id": "09b7b3b9-101c-4970-9b2a-0d647824b723",
   "metadata": {},
   "outputs": [],
   "source": [
    "mtdt = pd.read_csv('../references/metadata/history.tsv', sep='\\t')\n",
    "# print(mtdt.col_name.tolist())"
   ]
  },
  {
   "cell_type": "markdown",
   "id": "ca7d2bf4-8603-427a-9f35-2b0a1190174c",
   "metadata": {
    "tags": []
   },
   "source": [
    "## make queries for raw import from dumps to mysql"
   ]
  },
  {
   "cell_type": "markdown",
   "id": "08902f6d-3cfc-47d5-ba6f-e927e2cd8651",
   "metadata": {
    "jp-MarkdownHeadingCollapsed": true,
    "tags": []
   },
   "source": [
    "### code to make queries"
   ]
  },
  {
   "cell_type": "markdown",
   "id": "6a50fb69-cffd-4f0c-8402-a49851b2df23",
   "metadata": {
    "jp-MarkdownHeadingCollapsed": true,
    "tags": []
   },
   "source": [
    "#### drop table"
   ]
  },
  {
   "cell_type": "markdown",
   "id": "9b689ce8-8549-4448-b592-649ec3971f5b",
   "metadata": {},
   "source": [
    "```sql\n",
    "DROP TABLE IF EXISTS ja_hist;\n",
    "```"
   ]
  },
  {
   "cell_type": "markdown",
   "id": "f76d9921-0eda-4a45-b2c3-77938405425e",
   "metadata": {
    "jp-MarkdownHeadingCollapsed": true,
    "tags": []
   },
   "source": [
    "#### create table"
   ]
  },
  {
   "cell_type": "markdown",
   "id": "f6788736-ff0d-4865-80b8-2edb530c737d",
   "metadata": {},
   "source": [
    "```sql\n",
    "CREATE TABLE ja_hist (  wiki_db VARCHAR(20) NOT NULL, event_entity VARCHAR(20) NOT NULL, event_type VARCHAR(20) NOT NULL, event_timestamp VARCHAR(30) NOT NULL, event_comment TEXT, event_user_id BIGINT, event_user_text_historical TEXT, event_user_text TEXT, event_user_blocks_historical VARCHAR(30), event_user_blocks VARCHAR(60), event_user_groups_historical TEXT, event_user_groups TEXT, event_user_is_bot_by_historical VARCHAR(10), event_user_is_bot_by VARCHAR(10), event_user_is_created_by_self VARCHAR(10),  event_user_is_created_by_system VARCHAR(10),  event_user_is_created_by_peer VARCHAR(10),  event_user_is_anonymous VARCHAR(10),  event_user_registration_timestamp VARCHAR(30), event_user_creation_timestamp VARCHAR(30), event_user_first_edit_timestamp VARCHAR(30), event_user_revision_count BIGINT, event_user_seconds_since_previous_revision BIGINT, page_id BIGINT, page_title_historical VARCHAR(200), page_title VARCHAR(200), page_namespace_historical INT, page_namespace_is_content_historical VARCHAR(10),  page_namespace INT, page_namespace_is_content VARCHAR(10),  page_is_redirect VARCHAR(20),  page_is_deleted VARCHAR(20),  page_creation_timestamp VARCHAR(30), page_first_edit_timestamp VARCHAR(30), page_revision_count BIGINT, page_seconds_since_previous_revision BIGINT, user_id BIGINT, user_text_historical VARCHAR(100), user_text VARCHAR(100), user_blocks_historical VARCHAR(50), user_blocks VARCHAR(50), user_groups_historical VARCHAR(50), user_groups VARCHAR(50), user_is_bot_by_historical VARCHAR(50), user_is_bot_by VARCHAR(50), user_is_created_by_self VARCHAR(50),  user_is_created_by_system VARCHAR(50),  user_is_created_by_peer VARCHAR(50),  user_is_anonymous VARCHAR(10),  user_registration_timestamp VARCHAR(30), user_creation_timestamp VARCHAR(30), user_first_edit_timestamp VARCHAR(30), revision_id BIGINT, revision_parent_id BIGINT, revision_minor_edit VARCHAR(10),  revision_deleted_parts VARCHAR(30), revision_deleted_parts_are_suppressed VARCHAR(10),  revision_text_bytes BIGINT, revision_text_bytes_diff BIGINT, revision_text_sha1 VARCHAR(50), revision_content_model VARCHAR(10),  revision_content_format VARCHAR(10),  revision_is_deleted_by_page_deletion VARCHAR(10),  revision_deleted_by_page_deletion_timestamp VARCHAR(30), revision_is_identity_reverted VARCHAR(10),  revision_first_identity_reverting_revision_id BIGINT, revision_seconds_to_identity_revert BIGINT, revision_is_identity_revert VARCHAR(10),  revision_is_from_before_page_creation VARCHAR(10),  revision_tags VARCHAR(50), row_id BIGINT NOT NULL AUTO_INCREMENT, PRIMARY KEY (row_id) );\n",
    "```"
   ]
  },
  {
   "cell_type": "code",
   "execution_count": 58,
   "id": "8a565048-8ca4-4f29-81d9-b4b9f42df86a",
   "metadata": {},
   "outputs": [],
   "source": [
    "create_table = '''CREATE TABLE ja_hist (  wiki_db VARCHAR(20) NOT NULL, event_entity VARCHAR(20) NOT NULL, event_type VARCHAR(20) NOT NULL, event_timestamp VARCHAR(30) NOT NULL, event_comment TEXT, event_user_id BIGINT, event_user_text_historical TEXT, event_user_text TEXT, event_user_blocks_historical VARCHAR(30), event_user_blocks VARCHAR(60), event_user_groups_historical TEXT, event_user_groups TEXT, event_user_is_bot_by_historical VARCHAR(10), event_user_is_bot_by VARCHAR(10), event_user_is_created_by_self VARCHAR(10),  event_user_is_created_by_system VARCHAR(10),  event_user_is_created_by_peer VARCHAR(10),  event_user_is_anonymous VARCHAR(10),  event_user_registration_timestamp VARCHAR(30), event_user_creation_timestamp VARCHAR(30), event_user_first_edit_timestamp VARCHAR(30), event_user_revision_count BIGINT, event_user_seconds_since_previous_revision BIGINT, page_id BIGINT, page_title_historical VARCHAR(200), page_title VARCHAR(200), page_namespace_historical INT, page_namespace_is_content_historical VARCHAR(10),  page_namespace INT, page_namespace_is_content VARCHAR(10),  page_is_redirect VARCHAR(20),  page_is_deleted VARCHAR(20),  page_creation_timestamp VARCHAR(30), page_first_edit_timestamp VARCHAR(30), page_revision_count BIGINT, page_seconds_since_previous_revision BIGINT, user_id BIGINT, user_text_historical VARCHAR(100), user_text VARCHAR(100), user_blocks_historical VARCHAR(50), user_blocks VARCHAR(50), user_groups_historical VARCHAR(50), user_groups VARCHAR(50), user_is_bot_by_historical VARCHAR(50), user_is_bot_by VARCHAR(50), user_is_created_by_self VARCHAR(50),  user_is_created_by_system VARCHAR(50),  user_is_created_by_peer VARCHAR(50),  user_is_anonymous VARCHAR(10),  user_registration_timestamp VARCHAR(30), user_creation_timestamp VARCHAR(30), user_first_edit_timestamp VARCHAR(30), revision_id BIGINT, revision_parent_id BIGINT, revision_minor_edit VARCHAR(10),  revision_deleted_parts VARCHAR(30), revision_deleted_parts_are_suppressed VARCHAR(10),  revision_text_bytes BIGINT, revision_text_bytes_diff BIGINT, revision_text_sha1 VARCHAR(50), revision_content_model VARCHAR(10),  revision_content_format VARCHAR(10),  revision_is_deleted_by_page_deletion VARCHAR(10),  revision_deleted_by_page_deletion_timestamp VARCHAR(30), revision_is_identity_reverted VARCHAR(10),  revision_first_identity_reverting_revision_id BIGINT, revision_seconds_to_identity_revert BIGINT, revision_is_identity_revert VARCHAR(10),  revision_is_from_before_page_creation VARCHAR(10),  revision_tags VARCHAR(50), row_id BIGINT NOT NULL AUTO_INCREMENT, PRIMARY KEY (row_id) );'''"
   ]
  },
  {
   "cell_type": "markdown",
   "id": "3102c7a4-2bc4-4ac0-ab46-5af3e1297c75",
   "metadata": {
    "tags": []
   },
   "source": [
    "#### load data local infile"
   ]
  },
  {
   "cell_type": "markdown",
   "id": "1ca99c4e-3a1e-4a9b-8617-ddc8482e7a7c",
   "metadata": {
    "jp-MarkdownHeadingCollapsed": true,
    "tags": []
   },
   "source": [
    "##### make the query"
   ]
  },
  {
   "cell_type": "code",
   "execution_count": 66,
   "id": "91ddefd5-e5ac-47c4-af24-02debe3a7c2e",
   "metadata": {},
   "outputs": [],
   "source": [
    "colnames = ['wiki_db', 'event_entity', 'event_type', 'event_timestamp', 'event_comment', 'event_user_id', 'event_user_text_historical', 'event_user_text', 'event_user_blocks_historical', 'event_user_blocks', 'event_user_groups_historical', 'event_user_groups', 'event_user_is_bot_by_historical', 'event_user_is_bot_by', 'event_user_is_created_by_self', 'event_user_is_created_by_system', 'event_user_is_created_by_peer', 'event_user_is_anonymous', 'event_user_registration_timestamp', 'event_user_creation_timestamp', 'event_user_first_edit_timestamp', 'event_user_revision_count', 'event_user_seconds_since_previous_revision', 'page_id', 'page_title_historical', 'page_title', 'page_namespace_historical', 'page_namespace_is_content_historical', 'page_namespace', 'page_namespace_is_content', 'page_is_redirect', 'page_is_deleted', 'page_creation_timestamp', 'page_first_edit_timestamp', 'page_revision_count', 'page_seconds_since_previous_revision', 'user_id', 'user_text_historical', 'user_text', 'user_blocks_historical', 'user_blocks', 'user_groups_historical', 'user_groups', 'user_is_bot_by_historical', 'user_is_bot_by', 'user_is_created_by_self', 'user_is_created_by_system', 'user_is_created_by_peer', 'user_is_anonymous', 'user_registration_timestamp', 'user_creation_timestamp', 'user_first_edit_timestamp', 'revision_id', 'revision_parent_id', 'revision_minor_edit', 'revision_deleted_parts', 'revision_deleted_parts_are_suppressed', 'revision_text_bytes', 'revision_text_bytes_diff', 'revision_text_sha1', 'revision_content_model', 'revision_content_format', 'revision_is_deleted_by_page_deletion', 'revision_deleted_by_page_deletion_timestamp', 'revision_is_identity_reverted', 'revision_first_identity_reverting_revision_id', 'revision_seconds_to_identity_revert', 'revision_is_identity_revert', 'revision_is_from_before_page_creation', 'revision_tags', 'row_id']"
   ]
  },
  {
   "cell_type": "code",
   "execution_count": 89,
   "id": "acdb88bf-70ae-4650-98a4-9e47458514d9",
   "metadata": {},
   "outputs": [],
   "source": [
    "years = list(range(2013,2022))\n",
    "tsvpaths = [f'/home/bhrdwj/git/predwikt/data/raw/jawiki/dumps_unzipped/2021-12.jawiki.{year}.tsv' for year in years]"
   ]
  },
  {
   "cell_type": "code",
   "execution_count": 91,
   "id": "5a00da44-a8f1-4890-8bc7-e8fd0d988a7a",
   "metadata": {},
   "outputs": [],
   "source": [
    "load_data_query_list = ([\n",
    "r'''\n",
    "LOAD DATA LOCAL INFILE ''' + f\"'{tsvpath}' \" + \n",
    "'''\n",
    "    INTO TABLE ja_hist  \n",
    "    CHARACTER SET utf8mb4 \n",
    "    FIELDS TERMINATED BY '\\t' \n",
    "    LINES TERMINATED BY '\\n'\n",
    "\n",
    "''' + '(@' + ',@'.join(colnames) + ')' +  # columns as @variables\n",
    "'''\n",
    "\n",
    "SET\n",
    "'''\n",
    "+ ','.join([f\"{i} = NULLIF(@{i},'')\" for i in colnames]) + ';'  # recieve empty strings to NULL values\n",
    "for tsvpath in tsvpaths\n",
    "])"
   ]
  },
  {
   "cell_type": "markdown",
   "id": "2ce7ecd8-14ae-4300-ba50-2fa04cc60bb5",
   "metadata": {
    "jp-MarkdownHeadingCollapsed": true,
    "tags": []
   },
   "source": [
    "##### previously-working text of load data local infile"
   ]
  },
  {
   "cell_type": "markdown",
   "id": "955f49ef-0655-4fc8-b6a7-59d538a37cc6",
   "metadata": {},
   "source": [
    "```sql\n",
    "LOAD DATA LOCAL INFILE '/home/bhrdwj/git/predwikt/data/raw/jawiki/dumps_unzipped/2021-12.jawiki.2014.tsv' \n",
    "    INTO TABLE ja_hist  \n",
    "    CHARACTER SET utf8mb4 \n",
    "    FIELDS TERMINATED BY '\\t' \n",
    "    LINES TERMINATED BY '\\n' \n",
    "    (@wiki_db,@event_entity,@event_type,@event_timestamp,@event_comment,@event_user_id,@event_user_text_historical,@event_user_text,@event_user_blocks_historical,@event_user_blocks,@event_user_groups_historical,@event_user_groups,@event_user_is_bot_by_historical,@event_user_is_bot_by,@event_user_is_created_by_self,@event_user_is_created_by_system,@event_user_is_created_by_peer,@event_user_is_anonymous,@event_user_registration_timestamp,@event_user_creation_timestamp,@event_user_first_edit_timestamp,@event_user_revision_count,@event_user_seconds_since_previous_revision,@page_id,@page_title_historical,@page_title,@page_namespace_historical,@page_namespace_is_content_historical,@page_namespace,@page_namespace_is_content,@page_is_redirect,@page_is_deleted,@page_creation_timestamp,@page_first_edit_timestamp,@page_revision_count,@page_seconds_since_previous_revision,@user_id,@user_text_historical,@user_text,@user_blocks_historical,@user_blocks,@user_groups_historical,@user_groups,@user_is_bot_by_historical,@user_is_bot_by,@user_is_created_by_self,@user_is_created_by_system,@user_is_created_by_peer,@user_is_anonymous,@user_registration_timestamp,@user_creation_timestamp,@user_first_edit_timestamp,@revision_id,@revision_parent_id,@revision_minor_edit,@revision_deleted_parts,@revision_deleted_parts_are_suppressed,@revision_text_bytes,@revision_text_bytes_diff,@revision_text_sha1,@revision_content_model,@revision_content_format,@revision_is_deleted_by_page_deletion,@revision_deleted_by_page_deletion_timestamp,@revision_is_identity_reverted,@revision_first_identity_reverting_revision_id,@revision_seconds_to_identity_revert,@revision_is_identity_revert,@revision_is_from_before_page_creation,@revision_tags,@row_id) \n",
    "\n",
    "SET wiki_db = NULLIF(@wiki_db,''), event_entity = NULLIF(@event_entity,''), event_type = NULLIF(@event_type,''), event_timestamp = NULLIF(@event_timestamp,''), event_comment = NULLIF(@event_comment,''), event_user_id = NULLIF(@event_user_id,''), event_user_text_historical = NULLIF(@event_user_text_historical,''), event_user_text = NULLIF(@event_user_text,''), event_user_blocks_historical = NULLIF(@event_user_blocks_historical,''), event_user_blocks = NULLIF(@event_user_blocks,''), event_user_groups_historical = NULLIF(@event_user_groups_historical,''), event_user_groups = NULLIF(@event_user_groups,''), event_user_is_bot_by_historical = NULLIF(@event_user_is_bot_by_historical,''), event_user_is_bot_by = NULLIF(@event_user_is_bot_by,''), event_user_is_created_by_self = NULLIF(@event_user_is_created_by_self,''), event_user_is_created_by_system = NULLIF(@event_user_is_created_by_system,''), event_user_is_created_by_peer = NULLIF(@event_user_is_created_by_peer,''), event_user_is_anonymous = NULLIF(@event_user_is_anonymous,''), event_user_registration_timestamp = NULLIF(@event_user_registration_timestamp,''), event_user_creation_timestamp = NULLIF(@event_user_creation_timestamp,''), event_user_first_edit_timestamp = NULLIF(@event_user_first_edit_timestamp,''), event_user_revision_count = NULLIF(@event_user_revision_count,''), event_user_seconds_since_previous_revision = NULLIF(@event_user_seconds_since_previous_revision,''), page_id = NULLIF(@page_id,''), page_title_historical = NULLIF(@page_title_historical,''), page_title = NULLIF(@page_title,''), page_namespace_historical = NULLIF(@page_namespace_historical,''), page_namespace_is_content_historical = NULLIF(@page_namespace_is_content_historical,''), page_namespace = NULLIF(@page_namespace,''), page_namespace_is_content = NULLIF(@page_namespace_is_content,''), page_is_redirect = NULLIF(@page_is_redirect,''), page_is_deleted = NULLIF(@page_is_deleted,''), page_creation_timestamp = NULLIF(@page_creation_timestamp,''), page_first_edit_timestamp = NULLIF(@page_first_edit_timestamp,''), page_revision_count = NULLIF(@page_revision_count,''), page_seconds_since_previous_revision = NULLIF(@page_seconds_since_previous_revision,''), user_id = NULLIF(@user_id,''), user_text_historical = NULLIF(@user_text_historical,''), user_text = NULLIF(@user_text,''), user_blocks_historical = NULLIF(@user_blocks_historical,''), user_blocks = NULLIF(@user_blocks,''), user_groups_historical = NULLIF(@user_groups_historical,''), user_groups = NULLIF(@user_groups,''), user_is_bot_by_historical = NULLIF(@user_is_bot_by_historical,''), user_is_bot_by = NULLIF(@user_is_bot_by,''), user_is_created_by_self = NULLIF(@user_is_created_by_self,''), user_is_created_by_system = NULLIF(@user_is_created_by_system,''), user_is_created_by_peer = NULLIF(@user_is_created_by_peer,''), user_is_anonymous = NULLIF(@user_is_anonymous,''), user_registration_timestamp = NULLIF(@user_registration_timestamp,''), user_creation_timestamp = NULLIF(@user_creation_timestamp,''), user_first_edit_timestamp = NULLIF(@user_first_edit_timestamp,''), revision_id = NULLIF(@revision_id,''), revision_parent_id = NULLIF(@revision_parent_id,''), revision_minor_edit = NULLIF(@revision_minor_edit,''), revision_deleted_parts = NULLIF(@revision_deleted_parts,''), revision_deleted_parts_are_suppressed = NULLIF(@revision_deleted_parts_are_suppressed,''), revision_text_bytes = NULLIF(@revision_text_bytes,''), revision_text_bytes_diff = NULLIF(@revision_text_bytes_diff,''), revision_text_sha1 = NULLIF(@revision_text_sha1,''), revision_content_model = NULLIF(@revision_content_model,''), revision_content_format = NULLIF(@revision_content_format,''), revision_is_deleted_by_page_deletion = NULLIF(@revision_is_deleted_by_page_deletion,''), revision_deleted_by_page_deletion_timestamp = NULLIF(@revision_deleted_by_page_deletion_timestamp,''), revision_is_identity_reverted = NULLIF(@revision_is_identity_reverted,''), revision_first_identity_reverting_revision_id = NULLIF(@revision_first_identity_reverting_revision_id,''), revision_seconds_to_identity_revert = NULLIF(@revision_seconds_to_identity_revert,''), revision_is_identity_revert = NULLIF(@revision_is_identity_revert,''), revision_is_from_before_page_creation = NULLIF(@revision_is_from_before_page_creation,''), revision_tags = NULLIF(@revision_tags,''), row_id = NULLIF(@row_id,'');\n",
    "```"
   ]
  },
  {
   "cell_type": "markdown",
   "id": "362edaae-fcb3-41bf-a214-27a76e950205",
   "metadata": {},
   "source": [
    "### load mysql connector"
   ]
  },
  {
   "cell_type": "code",
   "execution_count": null,
   "id": "ccf02cb8-86bb-4b61-814d-153f9effebf1",
   "metadata": {},
   "outputs": [],
   "source": []
  },
  {
   "cell_type": "markdown",
   "id": "62de0cc9-bd02-4c43-8c42-ca7f193f1160",
   "metadata": {},
   "source": [
    "### run load data"
   ]
  },
  {
   "cell_type": "markdown",
   "id": "0ae6c4b9-bf8b-4e3d-a1ec-73b04058f883",
   "metadata": {
    "jp-MarkdownHeadingCollapsed": true,
    "tags": []
   },
   "source": [
    "## preliminary eda in sql"
   ]
  },
  {
   "cell_type": "markdown",
   "id": "34834b81-eb01-4b76-8106-d66cd5d61799",
   "metadata": {
    "tags": []
   },
   "source": [
    "##### ```revision_minor_edit```"
   ]
  },
  {
   "cell_type": "markdown",
   "id": "40b3aac7-fb1d-4ef3-85b9-f411f6cd1741",
   "metadata": {},
   "source": [
    "```sql\n",
    "select revision_minor_edit, min(row_id), count(*) \n",
    "    from ja_hist \n",
    "    group by revision_minor_edit order by row_id;\n",
    "```"
   ]
  },
  {
   "cell_type": "raw",
   "id": "a5a7960f-2456-4476-8a53-0d1c8e838b48",
   "metadata": {},
   "source": [
    "+---------------------+-------------+----------+\n",
    "| revision_minor_edit | min(row_id) | count(*) |\n",
    "+---------------------+-------------+----------+\n",
    "| false               |           1 |  6196406 |\n",
    "| true                |           5 |  2132443 |\n",
    "| NULL                |          17 |   710853 |\n",
    "| text                |     7655907 |        1 |\n",
    "| 177                 |     8572611 |        1 |\n",
    "| 360                 |     8572647 |        1 |\n",
    "| 1                   |     8572651 |        1 |\n",
    "| 237                 |     8572713 |        1 |\n",
    "| 629                 |     8572741 |        1 |\n",
    "| 136                 |     8572820 |        1 |\n",
    "| 168                 |     8573015 |        1 |\n",
    "+---------------------+-------------+----------+\n",
    "11 rows in set (13.258 sec)\n"
   ]
  },
  {
   "cell_type": "markdown",
   "id": "d603dab0-b527-49c2-acdc-3a955ad9168e",
   "metadata": {
    "jp-MarkdownHeadingCollapsed": true,
    "tags": []
   },
   "source": [
    "##### ```user_is_anonymous```"
   ]
  },
  {
   "cell_type": "markdown",
   "id": "ba3206e6-ee1f-43fd-adfe-3df763ee5ff5",
   "metadata": {},
   "source": [
    "```sql\n",
    "select user_is_anonymous, min(row_id), count(*) \n",
    "    from ja_hist \n",
    "    group by user_is_anonymous order by row_id;\n",
    "```"
   ]
  },
  {
   "cell_type": "raw",
   "id": "6e019d4c-1f08-443e-8a6f-048ac208cf3b",
   "metadata": {},
   "source": [
    "+-------------------+-------------+----------+\n",
    "| user_is_anonymous | min(row_id) | count(*) |\n",
    "+-------------------+-------------+----------+\n",
    "| NULL              |           1 |  8802062 |\n",
    "| false             |          17 |   237640 |\n",
    "| 53505764          |     8572611 |        1 |\n",
    "| 53505797          |     8572647 |        1 |\n",
    "| 53505801          |     8572651 |        1 |\n",
    "| 53505858          |     8572713 |        1 |\n",
    "| 53505884          |     8572741 |        1 |\n",
    "| 53505960          |     8572820 |        1 |\n",
    "| 53506139          |     8573015 |        1 |\n",
    "| 2014-11-13        |     8573733 |        1 |\n",
    "+-------------------+-------------+----------+\n",
    "10 rows in set (11.623 sec)\n"
   ]
  },
  {
   "cell_type": "markdown",
   "id": "beb01f88-a9d1-4b6b-a0e0-ba8e93d06eee",
   "metadata": {
    "jp-MarkdownHeadingCollapsed": true,
    "tags": []
   },
   "source": [
    "##### ```user_text_historical```"
   ]
  },
  {
   "cell_type": "markdown",
   "id": "7e45cb5d-3c4a-49eb-a683-9c4a427eb901",
   "metadata": {},
   "source": [
    "```sql\n",
    "select user_text_historical, min(row_id), count(*) \n",
    "    from ja_hist \n",
    "    where user_text_historical regexp '^[0-9]*$' \n",
    "    group by user_text_historical order by row_id;\n",
    "```"
   ]
  },
  {
   "cell_type": "raw",
   "id": "daaa5561-298e-4dc5-b778-e3c5a5e8d4cf",
   "metadata": {},
   "source": [
    "+----------------------+-------------+----------+\n",
    "| user_text_historical | min(row_id) | count(*) |\n",
    "+----------------------+-------------+----------+\n",
    "| 80686                |     1719492 |        1 |\n",
    "| 560889223            |     1816793 |        1 |\n",
    "| 8596                 |     2616687 |        1 |\n",
    "| 67781530             |     3526969 |        1 |\n",
    "| 930310               |     5571549 |        1 |\n",
    "| 888344               |     6086476 |        1 |\n",
    "| 555                  |     6933543 |        1 |\n",
    "| 1989                 |     8755251 |        1 |\n",
    "| 9114619              |     8914891 |        1 |\n",
    "+----------------------+-------------+----------+\n",
    "9 rows in set (9.313 sec)"
   ]
  },
  {
   "cell_type": "markdown",
   "id": "523c4d87-078a-4dd8-b437-200af938e434",
   "metadata": {
    "jp-MarkdownHeadingCollapsed": true,
    "tags": []
   },
   "source": [
    "##### ```revision_content_model```"
   ]
  },
  {
   "cell_type": "raw",
   "id": "a9c982b5-994b-40e2-a8aa-1bb106257030",
   "metadata": {},
   "source": [
    "MariaDB [ja_hist]> select revision_content_model, min(row_id), count(*) from ja_hist group by revision_content_model order by row_id;\n",
    "+------------------------+-------------+----------+\n",
    "| revision_content_model | min(row_id) | count(*) |\n",
    "+------------------------+-------------+----------+\n",
    "| NULL                   |           1 |  9039683 |\n",
    "| false                  |       44048 |       27 |\n",
    "+------------------------+-------------+----------+\n",
    "2 rows in set (11.401 sec)"
   ]
  },
  {
   "cell_type": "markdown",
   "id": "fc677544-c9fb-4e28-9f1e-19939362c314",
   "metadata": {
    "jp-MarkdownHeadingCollapsed": true,
    "tags": []
   },
   "source": [
    "##### ```user_is_bot_by_historical```"
   ]
  },
  {
   "cell_type": "raw",
   "id": "77ab21ef-991a-43ea-8851-4cba50a912af",
   "metadata": {},
   "source": [
    "MariaDB [ja_hist]> select user_is_bot_by_historical, min(row_id), count(*) from ja_hist group by user_is_bot_by_historical order by row_id;\n",
    "+---------------------------+-------------+----------+\n",
    "| user_is_bot_by_historical | min(row_id) | count(*) |\n",
    "+---------------------------+-------------+----------+\n",
    "| NULL                      |           1 |  9039370 |\n",
    "| false                     |       43899 |        4 |\n",
    "| name                      |      255483 |      314 |\n",
    "| name,group                |      875311 |       18 |\n",
    "| group                     |     3511631 |        3 |\n",
    "| true                      |     8573733 |        1 |\n",
    "+---------------------------+-------------+----------+\n",
    "6 rows in set (11.498 sec)"
   ]
  },
  {
   "cell_type": "markdown",
   "id": "eb7ed052-37c9-4372-90b0-2eb990214de6",
   "metadata": {
    "jp-MarkdownHeadingCollapsed": true,
    "tags": []
   },
   "source": [
    "##### ```page_revision_count```"
   ]
  },
  {
   "cell_type": "raw",
   "id": "ed0278e2-ce26-45f6-952e-0cefdc2c5485",
   "metadata": {},
   "source": [
    "MariaDB [ja_hist]> select page_revision_count from ja_hist group by length(page_revision_count);\n",
    "+---------------------+\n",
    "| page_revision_count |\n",
    "+---------------------+\n",
    "|                NULL |\n",
    "|                   7 |\n",
    "|                  12 |\n",
    "|                 109 |\n",
    "|                1835 |\n",
    "|               10000 |\n",
    "|              694801 |\n",
    "|             3464244 |\n",
    "|            22929404 |\n",
    "+---------------------+\n",
    "9 rows in set (12.684 sec)\n"
   ]
  },
  {
   "cell_type": "markdown",
   "id": "394ef868-b1cc-44f0-8f21-4b90c1c63f60",
   "metadata": {
    "jp-MarkdownHeadingCollapsed": true,
    "tags": []
   },
   "source": [
    "## <mark>need to refactor/reorganize</mark>"
   ]
  },
  {
   "cell_type": "markdown",
   "id": "1504ee7c-c801-4b52-9634-c0baa7d4e16e",
   "metadata": {
    "jp-MarkdownHeadingCollapsed": true,
    "tags": []
   },
   "source": [
    "### head"
   ]
  },
  {
   "cell_type": "raw",
   "id": "6c144ed8-e5bc-4b3a-a889-81cf97f8d1db",
   "metadata": {},
   "source": [
    "with open(datapath+'2021-12.jawiki.2013.tsv', 'r') as file:\n",
    "    for i in range(3):\n",
    "        print(file.readline())"
   ]
  },
  {
   "cell_type": "markdown",
   "id": "8b769eb9-fbc0-44bd-95c5-076882ec7bdf",
   "metadata": {
    "jp-MarkdownHeadingCollapsed": true,
    "tags": []
   },
   "source": [
    "### split file so I can run csvsql to generate schema (now unused)"
   ]
  },
  {
   "cell_type": "raw",
   "id": "9e35b965-8707-462f-b2f5-6f13268ccfc8",
   "metadata": {
    "jp-MarkdownHeadingCollapsed": true,
    "tags": []
   },
   "source": [
    "#### copy 500 rows of the tsv"
   ]
  },
  {
   "cell_type": "raw",
   "id": "70a16d22-9f36-4570-b08f-7a19d36898d7",
   "metadata": {},
   "source": [
    "ct = 0\n",
    "with open(datapath+'2021-12.jawiki.2013.tsv', 'r') as infile:\n",
    "    with open('/home/bhrdwj/git/predwikt/data/processed/scratch_for_schema.tsv', 'w+') as outfile:\n",
    "        while ct < 3: #5*10**2:\n",
    "            outfile.write(infile.readline())\n",
    "            ct += 1\n",
    "print(ct)"
   ]
  },
  {
   "cell_type": "markdown",
   "id": "e0ef6b64-5a7a-421a-80c6-664af645a618",
   "metadata": {
    "tags": []
   },
   "source": [
    "#### confirm the rows were copied"
   ]
  },
  {
   "cell_type": "raw",
   "id": "95e86e17-2a68-4d42-bc4c-cbebe9e8027c",
   "metadata": {},
   "source": [
    "ct = 0\n",
    "with open('/home/bhrdwj/git/predwikt/data/processed/scratch_for_schema.tsv', 'r') as file:\n",
    "    for line in file:\n",
    "        ct += 1\n",
    "print(ct)"
   ]
  },
  {
   "cell_type": "markdown",
   "id": "076e083b-8346-4957-a4d1-4c9c744895d8",
   "metadata": {
    "tags": []
   },
   "source": [
    "#### hand-edited query"
   ]
  },
  {
   "cell_type": "raw",
   "id": "07920d75-ef0e-4977-bd74-bdc2bb4e4d2d",
   "metadata": {},
   "source": [
    "make_history_table = \"\"\"\n",
    "CREATE TABLE ja_hist ( \n",
    "wiki_db VARCHAR(20) NOT NULL,\n",
    "event_entity VARCHAR(20) NOT NULL,\n",
    "event_type VARCHAR(20) NOT NULL,\n",
    "event_timestamp VARCHAR(30) NOT NULL,\n",
    "event_comment TEXT,\n",
    "event_user_id BIGINT,\n",
    "event_user_text_historical VARCHAR(80),\n",
    "event_user_text VARCHAR(80),\n",
    "event_user_blocks_historical VARCHAR(30),\n",
    "event_user_blocks VARCHAR(60),\n",
    "event_user_groups_historical VARCHAR(60),\n",
    "event_user_groups VARCHAR(200),\n",
    "event_user_is_bot_by_historical VARCHAR(10),\n",
    "event_user_is_bot_by VARCHAR(10),\n",
    "event_user_is_created_by_self BOOL,\n",
    "event_user_is_created_by_system BOOL,\n",
    "event_user_is_created_by_peer BOOL,\n",
    "event_user_is_anonymous BOOL,\n",
    "event_user_registration_timestamp VARCHAR(30),\n",
    "event_user_creation_timestamp VARCHAR(30),\n",
    "event_user_first_edit_timestamp VARCHAR(30),\n",
    "event_user_revision_count BIGINT,\n",
    "event_user_seconds_since_previous_revision BIGINT,\n",
    "page_id BIGINT,\n",
    "page_title_historical VARCHAR(200),\n",
    "page_title VARCHAR(200),\n",
    "page_namespace_historical INT,\n",
    "page_namespace_is_content_historical BOOL,\n",
    "page_namespace INT,\n",
    "page_namespace_is_content BOOL,\n",
    "page_is_redirect BOOL,\n",
    "page_is_deleted BOOL,\n",
    "page_creation_timestamp VARCHAR(30),\n",
    "page_first_edit_timestamp VARCHAR(30),\n",
    "page_revision_count BIGINT,\n",
    "page_seconds_since_previous_revision BIGINT,\n",
    "user_id BIGINT,\n",
    "user_text_historical VARCHAR(100),\n",
    "user_text VARCHAR(100),\n",
    "user_blocks_historical VARCHAR(50),\n",
    "user_blocks VARCHAR(50),\n",
    "user_groups_historical VARCHAR(50),\n",
    "user_groups VARCHAR(50),\n",
    "user_is_bot_by_historical VARCHAR(50),\n",
    "user_is_bot_by VARCHAR(50),\n",
    "user_is_created_by_self BOOL,\n",
    "user_is_created_by_system BOOL,\n",
    "user_is_created_by_peer BOOL,\n",
    "user_is_anonymous BOOL,\n",
    "user_registration_timestamp VARCHAR(30),\n",
    "user_creation_timestamp VARCHAR(30),\n",
    "user_first_edit_timestamp VARCHAR(30),\n",
    "revision_id BIGINT,\n",
    "revision_parent_id BIGINT,\n",
    "revision_minor_edit BOOL,\n",
    "revision_deleted_parts VARCHAR(30),\n",
    "revision_deleted_parts_are_suppressed BOOL,\n",
    "revision_text_bytes BIGINT,\n",
    "revision_text_bytes_diff BIGINT,\n",
    "revision_text_sha1 VARCHAR(50),\n",
    "revision_content_model BOOL,\n",
    "revision_content_format BOOL,\n",
    "revision_is_deleted_by_page_deletion BOOL,\n",
    "revision_deleted_by_page_deletion_timestamp VARCHAR(30),\n",
    "revision_is_identity_reverted BOOL,\n",
    "revision_first_identity_reverting_revision_id BIGINT,\n",
    "revision_seconds_to_identity_revert BIGINT,\n",
    "revision_is_identity_revert BOOL,\n",
    "revision_is_from_before_page_creation BOOL,\n",
    "revision_tags VARCHAR(50),\n",
    "row_id BIGINT NOT NULL AUTO_INCREMENT,\n",
    "PRIMARY KEY (row_id)\n",
    ");\n",
    "\"\"\""
   ]
  },
  {
   "cell_type": "markdown",
   "id": "3b00547f-7d93-4e8e-88a0-c4006397a6ef",
   "metadata": {
    "tags": []
   },
   "source": [
    "#### simpler table"
   ]
  },
  {
   "cell_type": "raw",
   "id": "76fc661d-3f17-4740-bd28-b4b60ea49d6d",
   "metadata": {},
   "source": [
    "make_history_table = \"\"\"\n",
    "CREATE TABLE IF NOT EXISTS ja_hist (\n",
    "    task_id INT AUTO_INCREMENT PRIMARY KEY,\n",
    "    title VARCHAR(255) NOT NULL,\n",
    ")  \n",
    "\"\"\"\n",
    "\n",
    "\n",
    "    # start_date DATE,\n",
    "    # due_date DATE,\n",
    "    # status TINYINT NOT NULL,\n",
    "    # priority TINYINT NOT NULL,\n",
    "    # description TEXT,\n",
    "    # created_at TIMESTAMP DEFAULT CURRENT_TIMESTAMP\n",
    "\n",
    "    # ENGINE=INNODB;"
   ]
  },
  {
   "cell_type": "markdown",
   "id": "e16ddfbc-2dd4-4c03-a345-9d23f9490f00",
   "metadata": {
    "jp-MarkdownHeadingCollapsed": true,
    "tags": []
   },
   "source": [
    "### create table ja_hist"
   ]
  },
  {
   "cell_type": "markdown",
   "id": "2be0c43a-9c16-4a9c-9072-08617acb0165",
   "metadata": {
    "tags": []
   },
   "source": [
    "#### imports, login"
   ]
  },
  {
   "cell_type": "code",
   "execution_count": 36,
   "id": "46dea290-1d83-419c-9a52-c82b38f45ece",
   "metadata": {},
   "outputs": [],
   "source": [
    "import mysql.connector as mysql\n",
    "import sqlalchemy"
   ]
  },
  {
   "cell_type": "markdown",
   "id": "e796875a-bfb4-42cc-a744-2a08d1918cd1",
   "metadata": {},
   "source": [
    "```bash\n",
    "mysql --user=root --password=XXXXXXXX\n",
    "```\n",
    "\n",
    "```sql\n",
    "CREATE DATABASE ja_hist CHARACTER SET utf8 COLLATE utf8_bin;\n",
    "USE ja_wiki;\n",
    "GRANT ALL PRIVILEGES ON ja_hist TO bhrdwj@localhost IDENTIFIED BY XXXXXXX;\n",
    "GRANT ALL PRIVILEGES ON ja_hist.* TO bhrdwj@localhost IDENTIFIED BY XXXXXXX;\n",
    "EXIT\n",
    "```"
   ]
  },
  {
   "cell_type": "code",
   "execution_count": 14,
   "id": "f9110921-3cdf-4c0e-b3a6-72aab40ba045",
   "metadata": {},
   "outputs": [],
   "source": [
    "mysql_superuser = 'root'\n",
    "# mysql_su_pass = input(f'Enter the MySQL password for user {mysql_superuser}: ')"
   ]
  },
  {
   "cell_type": "markdown",
   "id": "cb468cc1-9acd-40a9-9014-dea6e42c33be",
   "metadata": {
    "tags": []
   },
   "source": [
    "#### connect to database"
   ]
  },
  {
   "cell_type": "code",
   "execution_count": 37,
   "id": "ef937aed-ca61-45a1-846e-540e601cab43",
   "metadata": {},
   "outputs": [
    {
     "data": {
      "text/plain": [
       "dict_keys(['ja_hist'])"
      ]
     },
     "execution_count": 37,
     "metadata": {},
     "output_type": "execute_result"
    }
   ],
   "source": [
    "host='localhost'; user=mysql_superuser; passwd=mysql_su_pass; dbname='ja_hist';\n",
    "cxn = mysql.connect(host=host,user=user,passwd=passwd, database=dbname)\n",
    "cur = cxn.cursor()\n",
    "\n",
    "connection_str = 'mysql+mysqlconnector://'+user+':'+passwd+'@'+host+'/'+dbname  # removed this after host +':'+dbport\n",
    "try:\n",
    "    engine1 = sqlalchemy.create_engine(connection_str)\n",
    "    conn1 = engine1.connect()\n",
    "except:\n",
    "    print('Database connection error - check creds')\n",
    "metadata = sqlalchemy.MetaData(conn1)\n",
    "metadata.reflect()\n",
    "metadata.tables.keys()"
   ]
  },
  {
   "cell_type": "markdown",
   "id": "0a506033-dc23-40a6-942a-17807b05ea56",
   "metadata": {
    "tags": []
   },
   "source": [
    "#### create table with schema"
   ]
  },
  {
   "cell_type": "code",
   "execution_count": 38,
   "id": "20bc72b5-866a-4209-9b55-b64518a62da3",
   "metadata": {},
   "outputs": [
    {
     "data": {
      "text/plain": [
       "<sqlalchemy.engine.cursor.LegacyCursorResult at 0x7f7456e72670>"
      ]
     },
     "execution_count": 38,
     "metadata": {},
     "output_type": "execute_result"
    }
   ],
   "source": [
    "conn1.execute('DROP TABLE IF EXISTS ja_hist;')\n",
    "conn1.execute(make_history_table)"
   ]
  },
  {
   "cell_type": "code",
   "execution_count": 41,
   "id": "bcafdd1f-d1d9-46bf-ba2e-323d7839e916",
   "metadata": {},
   "outputs": [],
   "source": [
    "a = conn1.execute('describe ja_hist;')\n",
    "a.all();"
   ]
  },
  {
   "cell_type": "markdown",
   "id": "4055aae0-82e1-4c5d-80d6-505189ee5c0e",
   "metadata": {
    "jp-MarkdownHeadingCollapsed": true,
    "tags": []
   },
   "source": [
    "### insert data"
   ]
  },
  {
   "cell_type": "markdown",
   "id": "b217220f-9849-4a44-98d6-9e5825bd73cb",
   "metadata": {},
   "source": [
    "Reference: ([link](https://mariadb.com/kb/en/load-data-infile/))  \n",
    "```sql\n",
    "LOAD DATA INFILE 'ld.txt' INTO TABLE ld (@i,v) SET i=@i*2;\n",
    "```"
   ]
  },
  {
   "cell_type": "code",
   "execution_count": 44,
   "id": "90561ba9-cdfb-4cd0-8360-adf0301266e8",
   "metadata": {},
   "outputs": [],
   "source": [
    "load_data_sql = \"\"\"\n",
    "LOAD DATA LOCAL INFILE '/home/bhrdwj/git/predwikt/data/raw/jawiki/dumps_unzipped/2021-12.jawiki.2013.tsv'\n",
    "INTO TABLE ja_hist \n",
    "CHARACTER SET utf8mb4\n",
    "FIELDS TERMINATED BY \"\\t\";\n",
    "\"\"\""
   ]
  },
  {
   "cell_type": "raw",
   "id": "bd09570f-930b-4d95-8e2c-3756a435ede9",
   "metadata": {},
   "source": [
    "load_data_sql = \"\"\"\n",
    "LOAD DATA LOCAL INFILE '/home/bhrdwj/git/predwikt/data/processed/scratch_for_schema.tsv'\n",
    "INTO TABLE ja_hist \n",
    "CHARACTER SET utf8mb4\n",
    "FIELDS TERMINATED BY \"\\t\";\n",
    "\"\"\""
   ]
  },
  {
   "cell_type": "code",
   "execution_count": 45,
   "id": "6a2e8eb4-b544-4de6-96c9-fb353be50180",
   "metadata": {},
   "outputs": [
    {
     "data": {
      "text/plain": [
       "<sqlalchemy.engine.cursor.LegacyCursorResult at 0x7f74574fed90>"
      ]
     },
     "execution_count": 45,
     "metadata": {},
     "output_type": "execute_result"
    }
   ],
   "source": [
    "conn1.execute(load_data_sql)"
   ]
  },
  {
   "cell_type": "markdown",
   "id": "0371fad7-20a1-4ae4-b790-b8075a8533f9",
   "metadata": {},
   "source": [
    "START 19:24PM"
   ]
  },
  {
   "cell_type": "code",
   "execution_count": 46,
   "id": "ec3073e1-c0bb-453a-8f4d-33a4d7e9f69f",
   "metadata": {},
   "outputs": [
    {
     "name": "stdout",
     "output_type": "stream",
     "text": [
      "2022-01-09 16:01:32.096460\n",
      "   count(*)\n",
      "0         0\n",
      "2022-01-09 16:01:35.371606\n"
     ]
    }
   ],
   "source": [
    "tblname='ja_hist'\n",
    "sql_eda2 = f'select count(*) from {tblname};'\n",
    "print(dt.now())\n",
    "sql_rows = pd.read_sql(sql_eda2,engine1)\n",
    "print(sql_rows)\n",
    "print(dt.now())"
   ]
  },
  {
   "cell_type": "code",
   "execution_count": 30,
   "id": "f6f3198e-2b33-4092-bcc6-6b4b96fe3ee4",
   "metadata": {},
   "outputs": [
    {
     "data": {
      "text/plain": [
       "[]"
      ]
     },
     "execution_count": 30,
     "metadata": {},
     "output_type": "execute_result"
    }
   ],
   "source": [
    "a = conn1.execute('select * from ja_hist;')\n",
    "a.fetchall()"
   ]
  },
  {
   "cell_type": "code",
   "execution_count": null,
   "id": "1576285e-778a-4e7f-aa75-8a09702ba9a0",
   "metadata": {},
   "outputs": [],
   "source": [
    "conn1.execute('insert ')"
   ]
  },
  {
   "cell_type": "code",
   "execution_count": null,
   "id": "5aa1f4ba-f3fa-465f-8efb-2922114a6c7d",
   "metadata": {},
   "outputs": [],
   "source": []
  },
  {
   "cell_type": "markdown",
   "id": "5f0938fe-8af4-4bde-8cc9-d96c30ce7f13",
   "metadata": {},
   "source": [
    "# end"
   ]
  }
 ],
 "metadata": {
  "kernelspec": {
   "display_name": "Python 3 (ipykernel)",
   "language": "python",
   "name": "python3"
  },
  "language_info": {
   "codemirror_mode": {
    "name": "ipython",
    "version": 3
   },
   "file_extension": ".py",
   "mimetype": "text/x-python",
   "name": "python",
   "nbconvert_exporter": "python",
   "pygments_lexer": "ipython3",
   "version": "3.9.7"
  }
 },
 "nbformat": 4,
 "nbformat_minor": 5
}
