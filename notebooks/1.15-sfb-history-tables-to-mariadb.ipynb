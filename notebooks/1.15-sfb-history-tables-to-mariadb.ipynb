{
 "cells": [
  {
   "cell_type": "markdown",
   "id": "cad2e7d2-c9c2-4d6d-9f9f-e592d6c029da",
   "metadata": {
    "tags": []
   },
   "source": [
    "# history dumps import to mariadb"
   ]
  },
  {
   "cell_type": "markdown",
   "id": "6fd81518-25c1-449d-906b-9efc108a31e4",
   "metadata": {
    "jp-MarkdownHeadingCollapsed": true,
    "tags": []
   },
   "source": [
    "#### Summary of notebook"
   ]
  },
  {
   "cell_type": "markdown",
   "id": "fdd3b13d-7fdb-47c5-b98a-21a18d2341f0",
   "metadata": {},
   "source": [
    "Imported the history dumps to mariadb, each dump as a separate table  \n",
    "\n",
    "- Used sqlalchemy/python as much as possible for easy replicability of process\n",
    "    - failed so-far to do ```LOAD DATA LOCAL INFILE``` in python\n",
    "    - did it in CLI with scripts generated and documented in this notebook\n",
    "- Tracked and monitored warnings during ```LOAD DATA LOCAL INFILE```\n",
    "    - adjusted the schema and repeated"
   ]
  },
  {
   "cell_type": "markdown",
   "id": "ca7d2bf4-8603-427a-9f35-2b0a1190174c",
   "metadata": {
    "jp-MarkdownHeadingCollapsed": true,
    "tags": []
   },
   "source": [
    "## Generate MySQL queries"
   ]
  },
  {
   "cell_type": "markdown",
   "id": "57df2efd-e534-41e6-b7f8-cc1b8f434b40",
   "metadata": {
    "jp-MarkdownHeadingCollapsed": true,
    "tags": []
   },
   "source": [
    "#### imports"
   ]
  },
  {
   "cell_type": "markdown",
   "id": "e15ff91d-43e9-4a17-9615-cde9c8b4e5c1",
   "metadata": {
    "jp-MarkdownHeadingCollapsed": true,
    "tags": []
   },
   "source": [
    "##### libraries, datapath, metadata"
   ]
  },
  {
   "cell_type": "code",
   "execution_count": 1,
   "id": "9c383cdf-aed7-4ac3-920c-3b2cc0b6c5e9",
   "metadata": {},
   "outputs": [],
   "source": [
    "import os, re, pyperclip, pandas as pd, numpy as np\n",
    "from datetime import datetime as dt\n",
    "\n",
    "datapath = '../data/raw/jawiki/dumps_unzipped/'\n",
    "\n",
    "mtdt = pd.read_csv('../references/metadata/history.tsv', sep='\\t')\n",
    "# print(mtdt.col_name.tolist())"
   ]
  },
  {
   "cell_type": "markdown",
   "id": "2bc52201-fa3f-4ee2-994d-c5bb1a958d58",
   "metadata": {
    "jp-MarkdownHeadingCollapsed": true,
    "tags": []
   },
   "source": [
    "##### list of years for history dumpfiles ```years```"
   ]
  },
  {
   "cell_type": "code",
   "execution_count": 2,
   "id": "0e51955e-e380-44d5-b6f9-4dbf258a0ce9",
   "metadata": {},
   "outputs": [],
   "source": [
    "years = list(range(2013,2022))"
   ]
  },
  {
   "cell_type": "markdown",
   "id": "08902f6d-3cfc-47d5-ba6f-e927e2cd8651",
   "metadata": {
    "jp-MarkdownHeadingCollapsed": true,
    "tags": []
   },
   "source": [
    "### code to make queries"
   ]
  },
  {
   "cell_type": "markdown",
   "id": "6a50fb69-cffd-4f0c-8402-a49851b2df23",
   "metadata": {
    "jp-MarkdownHeadingCollapsed": true,
    "tags": []
   },
   "source": [
    "#### make query list ```drop_table_query_list```"
   ]
  },
  {
   "cell_type": "code",
   "execution_count": 3,
   "id": "4edfebcf-547b-4c8b-9ed9-f192303f1d5a",
   "metadata": {},
   "outputs": [],
   "source": [
    "drop_table_query_list = ['DROP TABLE IF EXISTS ' + 't' + str(year) + ';' for year in years]"
   ]
  },
  {
   "cell_type": "markdown",
   "id": "f76d9921-0eda-4a45-b2c3-77938405425e",
   "metadata": {
    "jp-MarkdownHeadingCollapsed": true,
    "tags": []
   },
   "source": [
    "#### make query list ```create_table_query_list```"
   ]
  },
  {
   "cell_type": "markdown",
   "id": "0f127e8a-0532-4d5a-aebd-a9ac62b05173",
   "metadata": {
    "jp-MarkdownHeadingCollapsed": true,
    "tags": []
   },
   "source": [
    "##### store the query in variable"
   ]
  },
  {
   "cell_type": "code",
   "execution_count": 279,
   "id": "8a565048-8ca4-4f29-81d9-b4b9f42df86a",
   "metadata": {},
   "outputs": [],
   "source": [
    "def create_table(year):\n",
    "    create_table_1 = '''CREATE TABLE '''\n",
    "    create_table_2 = ''' (  wiki_db VARCHAR(20) NOT NULL, event_entity VARCHAR(20) NOT NULL, event_type VARCHAR(20) NOT NULL, event_timestamp VARCHAR(30) NOT NULL, event_comment TEXT, event_user_id BIGINT, event_user_text_historical TEXT, event_user_text TEXT, event_user_blocks_historical VARCHAR(30), event_user_blocks VARCHAR(60), event_user_groups_historical TEXT, event_user_groups TEXT, event_user_is_bot_by_historical VARCHAR(10), event_user_is_bot_by VARCHAR(10), event_user_is_created_by_self VARCHAR(10),  event_user_is_created_by_system VARCHAR(10),  event_user_is_created_by_peer VARCHAR(10),  event_user_is_anonymous VARCHAR(10),  event_user_registration_timestamp VARCHAR(30), event_user_creation_timestamp VARCHAR(30), event_user_first_edit_timestamp VARCHAR(30), event_user_revision_count BIGINT, event_user_seconds_since_previous_revision BIGINT, page_id BIGINT, page_title_historical TEXT, page_title TEXT, page_namespace_historical INT, page_namespace_is_content_historical VARCHAR(10),  page_namespace INT, page_namespace_is_content VARCHAR(10),  page_is_redirect VARCHAR(20),  page_is_deleted VARCHAR(20),  page_creation_timestamp VARCHAR(30), page_first_edit_timestamp VARCHAR(30), page_revision_count BIGINT, page_seconds_since_previous_revision BIGINT, user_id BIGINT, user_text_historical VARCHAR(100), user_text VARCHAR(100), user_blocks_historical VARCHAR(50), user_blocks VARCHAR(50), user_groups_historical VARCHAR(50), user_groups VARCHAR(50), user_is_bot_by_historical VARCHAR(50), user_is_bot_by VARCHAR(50), user_is_created_by_self VARCHAR(50),  user_is_created_by_system VARCHAR(50),  user_is_created_by_peer VARCHAR(50),  user_is_anonymous VARCHAR(10),  user_registration_timestamp VARCHAR(30), user_creation_timestamp VARCHAR(30), user_first_edit_timestamp VARCHAR(30), revision_id BIGINT, revision_parent_id BIGINT, revision_minor_edit VARCHAR(10),  revision_deleted_parts VARCHAR(30), revision_deleted_parts_are_suppressed VARCHAR(10),  revision_text_bytes BIGINT, revision_text_bytes_diff BIGINT, revision_text_sha1 VARCHAR(50), revision_content_model VARCHAR(10),  revision_content_format VARCHAR(10),  revision_is_deleted_by_page_deletion VARCHAR(10),  revision_deleted_by_page_deletion_timestamp VARCHAR(30), revision_is_identity_reverted VARCHAR(10),  revision_first_identity_reverting_revision_id BIGINT, revision_seconds_to_identity_revert BIGINT, revision_is_identity_revert VARCHAR(10),  revision_is_from_before_page_creation VARCHAR(10),  revision_tags TEXT, row_id BIGINT NOT NULL AUTO_INCREMENT, PRIMARY KEY (row_id) );'''\n",
    "    return create_table_1 + 't' + str(year) + create_table_2\n",
    "\n",
    "create_table_query_list = [create_table(year) for year in years]"
   ]
  },
  {
   "cell_type": "markdown",
   "id": "b59c89a4-9531-4a56-99c4-a08f29eb2fd2",
   "metadata": {
    "jp-MarkdownHeadingCollapsed": true,
    "tags": []
   },
   "source": [
    "##### formatted markdown of create table query"
   ]
  },
  {
   "cell_type": "markdown",
   "id": "f6788736-ff0d-4865-80b8-2edb530c737d",
   "metadata": {},
   "source": [
    "```sql\n",
    "CREATE TABLE ja_hist (  wiki_db VARCHAR(20) NOT NULL, event_entity VARCHAR(20) NOT NULL, event_type VARCHAR(20) NOT NULL, event_timestamp VARCHAR(30) NOT NULL, event_comment TEXT, event_user_id BIGINT, event_user_text_historical TEXT, event_user_text TEXT, event_user_blocks_historical VARCHAR(30), event_user_blocks VARCHAR(60), event_user_groups_historical TEXT, event_user_groups TEXT, event_user_is_bot_by_historical VARCHAR(10), event_user_is_bot_by VARCHAR(10), event_user_is_created_by_self VARCHAR(10),  event_user_is_created_by_system VARCHAR(10),  event_user_is_created_by_peer VARCHAR(10),  event_user_is_anonymous VARCHAR(10),  event_user_registration_timestamp VARCHAR(30), event_user_creation_timestamp VARCHAR(30), event_user_first_edit_timestamp VARCHAR(30), event_user_revision_count BIGINT, event_user_seconds_since_previous_revision BIGINT, page_id BIGINT, page_title_historical TEXT, page_title TEXT, page_namespace_historical INT, page_namespace_is_content_historical VARCHAR(10),  page_namespace INT, page_namespace_is_content VARCHAR(10),  page_is_redirect VARCHAR(20),  page_is_deleted VARCHAR(20),  page_creation_timestamp VARCHAR(30), page_first_edit_timestamp VARCHAR(30), page_revision_count BIGINT, page_seconds_since_previous_revision BIGINT, user_id BIGINT, user_text_historical VARCHAR(100), user_text VARCHAR(100), user_blocks_historical VARCHAR(50), user_blocks VARCHAR(50), user_groups_historical VARCHAR(50), user_groups VARCHAR(50), user_is_bot_by_historical VARCHAR(50), user_is_bot_by VARCHAR(50), user_is_created_by_self VARCHAR(50),  user_is_created_by_system VARCHAR(50),  user_is_created_by_peer VARCHAR(50),  user_is_anonymous VARCHAR(10),  user_registration_timestamp VARCHAR(30), user_creation_timestamp VARCHAR(30), user_first_edit_timestamp VARCHAR(30), revision_id BIGINT, revision_parent_id BIGINT, revision_minor_edit VARCHAR(10),  revision_deleted_parts VARCHAR(30), revision_deleted_parts_are_suppressed VARCHAR(10),  revision_text_bytes BIGINT, revision_text_bytes_diff BIGINT, revision_text_sha1 VARCHAR(50), revision_content_model VARCHAR(10),  revision_content_format VARCHAR(10),  revision_is_deleted_by_page_deletion VARCHAR(10),  revision_deleted_by_page_deletion_timestamp VARCHAR(30), revision_is_identity_reverted VARCHAR(10),  revision_first_identity_reverting_revision_id BIGINT, revision_seconds_to_identity_revert BIGINT, revision_is_identity_revert VARCHAR(10),  revision_is_from_before_page_creation VARCHAR(10),  revision_tags TEXT, row_id BIGINT NOT NULL AUTO_INCREMENT, PRIMARY KEY (row_id) );\n",
    "```"
   ]
  },
  {
   "cell_type": "markdown",
   "id": "3102c7a4-2bc4-4ac0-ab46-5af3e1297c75",
   "metadata": {
    "jp-MarkdownHeadingCollapsed": true,
    "tags": []
   },
   "source": [
    "#### make query list ```load_data_query_list```"
   ]
  },
  {
   "cell_type": "markdown",
   "id": "c661659a-9a7e-4960-8775-ee3f33e52ac4",
   "metadata": {},
   "source": [
    "*(list of multi-queries to paste into MySQL CLI)*"
   ]
  },
  {
   "cell_type": "markdown",
   "id": "1ca99c4e-3a1e-4a9b-8617-ddc8482e7a7c",
   "metadata": {
    "jp-MarkdownHeadingCollapsed": true,
    "tags": []
   },
   "source": [
    "##### store multi-queries in list/array variable"
   ]
  },
  {
   "cell_type": "code",
   "execution_count": 5,
   "id": "91ddefd5-e5ac-47c4-af24-02debe3a7c2e",
   "metadata": {},
   "outputs": [],
   "source": [
    "colnames = ['wiki_db', 'event_entity', 'event_type', 'event_timestamp', 'event_comment', 'event_user_id', 'event_user_text_historical', 'event_user_text', 'event_user_blocks_historical', 'event_user_blocks', 'event_user_groups_historical', 'event_user_groups', 'event_user_is_bot_by_historical', 'event_user_is_bot_by', 'event_user_is_created_by_self', 'event_user_is_created_by_system', 'event_user_is_created_by_peer', 'event_user_is_anonymous', 'event_user_registration_timestamp', 'event_user_creation_timestamp', 'event_user_first_edit_timestamp', 'event_user_revision_count', 'event_user_seconds_since_previous_revision', 'page_id', 'page_title_historical', 'page_title', 'page_namespace_historical', 'page_namespace_is_content_historical', 'page_namespace', 'page_namespace_is_content', 'page_is_redirect', 'page_is_deleted', 'page_creation_timestamp', 'page_first_edit_timestamp', 'page_revision_count', 'page_seconds_since_previous_revision', 'user_id', 'user_text_historical', 'user_text', 'user_blocks_historical', 'user_blocks', 'user_groups_historical', 'user_groups', 'user_is_bot_by_historical', 'user_is_bot_by', 'user_is_created_by_self', 'user_is_created_by_system', 'user_is_created_by_peer', 'user_is_anonymous', 'user_registration_timestamp', 'user_creation_timestamp', 'user_first_edit_timestamp', 'revision_id', 'revision_parent_id', 'revision_minor_edit', 'revision_deleted_parts', 'revision_deleted_parts_are_suppressed', 'revision_text_bytes', 'revision_text_bytes_diff', 'revision_text_sha1', 'revision_content_model', 'revision_content_format', 'revision_is_deleted_by_page_deletion', 'revision_deleted_by_page_deletion_timestamp', 'revision_is_identity_reverted', 'revision_first_identity_reverting_revision_id', 'revision_seconds_to_identity_revert', 'revision_is_identity_revert', 'revision_is_from_before_page_creation', 'revision_tags', 'row_id']"
   ]
  },
  {
   "cell_type": "code",
   "execution_count": 6,
   "id": "acdb88bf-70ae-4650-98a4-9e47458514d9",
   "metadata": {},
   "outputs": [],
   "source": [
    "def get_tsvpath(year):\n",
    "    return f'/home/bhrdwj/git/predwikt/data/raw/jawiki/dumps_unzipped/2021-12.jawiki.{str(year)}.tsv'"
   ]
  },
  {
   "cell_type": "code",
   "execution_count": 141,
   "id": "5a00da44-a8f1-4890-8bc7-e8fd0d988a7a",
   "metadata": {},
   "outputs": [],
   "source": [
    "load_data_query_list = ([\n",
    "r\"\"\"\n",
    "LOAD DATA LOCAL INFILE \"\"\" + f\"'{get_tsvpath(year)}' \" + \n",
    "r\"\"\"\n",
    "    INTO TABLE t\"\"\" + str(year) + r\"\"\" \n",
    "    CHARACTER SET utf8mb4 \n",
    "    FIELDS TERMINATED BY '\\t' \n",
    "    LINES TERMINATED BY '\\n'\n",
    "\n",
    "\"\"\" + '(@' + ',@'.join(colnames) + ')' +  # columns as @variables\n",
    "r\"\"\"\n",
    "\n",
    "SET\n",
    "\"\"\"\n",
    "+ ', '.join([f\"{i} = NULLIF(@{i},'')\" for i in colnames]) + ';' # recieve empty strings to NULL values\n",
    "+ f\"\"\"\n",
    "\n",
    "tee {'load_data_warnings/t' + str(year)}.log;\n",
    "show warnings;\n",
    "notee;\"\"\"\n",
    "\n",
    "for year in years\n",
    "])"
   ]
  },
  {
   "cell_type": "markdown",
   "id": "2ce7ecd8-14ae-4300-ba50-2fa04cc60bb5",
   "metadata": {
    "jp-MarkdownHeadingCollapsed": true,
    "tags": []
   },
   "source": [
    "##### previously-working text of load data local infile"
   ]
  },
  {
   "cell_type": "markdown",
   "id": "955f49ef-0655-4fc8-b6a7-59d538a37cc6",
   "metadata": {},
   "source": [
    "```sql\n",
    "LOAD DATA LOCAL INFILE '/home/bhrdwj/git/predwikt/data/raw/jawiki/dumps_unzipped/2021-12.jawiki.2014.tsv' \n",
    "    INTO TABLE ja_hist  \n",
    "    CHARACTER SET utf8mb4 \n",
    "    FIELDS TERMINATED BY '\\t' \n",
    "    LINES TERMINATED BY '\\n' \n",
    "    (@wiki_db,@event_entity,@event_type,@event_timestamp,@event_comment,@event_user_id,@event_user_text_historical,@event_user_text,@event_user_blocks_historical,@event_user_blocks,@event_user_groups_historical,@event_user_groups,@event_user_is_bot_by_historical,@event_user_is_bot_by,@event_user_is_created_by_self,@event_user_is_created_by_system,@event_user_is_created_by_peer,@event_user_is_anonymous,@event_user_registration_timestamp,@event_user_creation_timestamp,@event_user_first_edit_timestamp,@event_user_revision_count,@event_user_seconds_since_previous_revision,@page_id,@page_title_historical,@page_title,@page_namespace_historical,@page_namespace_is_content_historical,@page_namespace,@page_namespace_is_content,@page_is_redirect,@page_is_deleted,@page_creation_timestamp,@page_first_edit_timestamp,@page_revision_count,@page_seconds_since_previous_revision,@user_id,@user_text_historical,@user_text,@user_blocks_historical,@user_blocks,@user_groups_historical,@user_groups,@user_is_bot_by_historical,@user_is_bot_by,@user_is_created_by_self,@user_is_created_by_system,@user_is_created_by_peer,@user_is_anonymous,@user_registration_timestamp,@user_creation_timestamp,@user_first_edit_timestamp,@revision_id,@revision_parent_id,@revision_minor_edit,@revision_deleted_parts,@revision_deleted_parts_are_suppressed,@revision_text_bytes,@revision_text_bytes_diff,@revision_text_sha1,@revision_content_model,@revision_content_format,@revision_is_deleted_by_page_deletion,@revision_deleted_by_page_deletion_timestamp,@revision_is_identity_reverted,@revision_first_identity_reverting_revision_id,@revision_seconds_to_identity_revert,@revision_is_identity_revert,@revision_is_from_before_page_creation,@revision_tags,@row_id) \n",
    "\n",
    "SET wiki_db = NULLIF(@wiki_db,''), event_entity = NULLIF(@event_entity,''), event_type = NULLIF(@event_type,''), event_timestamp = NULLIF(@event_timestamp,''), event_comment = NULLIF(@event_comment,''), event_user_id = NULLIF(@event_user_id,''), event_user_text_historical = NULLIF(@event_user_text_historical,''), event_user_text = NULLIF(@event_user_text,''), event_user_blocks_historical = NULLIF(@event_user_blocks_historical,''), event_user_blocks = NULLIF(@event_user_blocks,''), event_user_groups_historical = NULLIF(@event_user_groups_historical,''), event_user_groups = NULLIF(@event_user_groups,''), event_user_is_bot_by_historical = NULLIF(@event_user_is_bot_by_historical,''), event_user_is_bot_by = NULLIF(@event_user_is_bot_by,''), event_user_is_created_by_self = NULLIF(@event_user_is_created_by_self,''), event_user_is_created_by_system = NULLIF(@event_user_is_created_by_system,''), event_user_is_created_by_peer = NULLIF(@event_user_is_created_by_peer,''), event_user_is_anonymous = NULLIF(@event_user_is_anonymous,''), event_user_registration_timestamp = NULLIF(@event_user_registration_timestamp,''), event_user_creation_timestamp = NULLIF(@event_user_creation_timestamp,''), event_user_first_edit_timestamp = NULLIF(@event_user_first_edit_timestamp,''), event_user_revision_count = NULLIF(@event_user_revision_count,''), event_user_seconds_since_previous_revision = NULLIF(@event_user_seconds_since_previous_revision,''), page_id = NULLIF(@page_id,''), page_title_historical = NULLIF(@page_title_historical,''), page_title = NULLIF(@page_title,''), page_namespace_historical = NULLIF(@page_namespace_historical,''), page_namespace_is_content_historical = NULLIF(@page_namespace_is_content_historical,''), page_namespace = NULLIF(@page_namespace,''), page_namespace_is_content = NULLIF(@page_namespace_is_content,''), page_is_redirect = NULLIF(@page_is_redirect,''), page_is_deleted = NULLIF(@page_is_deleted,''), page_creation_timestamp = NULLIF(@page_creation_timestamp,''), page_first_edit_timestamp = NULLIF(@page_first_edit_timestamp,''), page_revision_count = NULLIF(@page_revision_count,''), page_seconds_since_previous_revision = NULLIF(@page_seconds_since_previous_revision,''), user_id = NULLIF(@user_id,''), user_text_historical = NULLIF(@user_text_historical,''), user_text = NULLIF(@user_text,''), user_blocks_historical = NULLIF(@user_blocks_historical,''), user_blocks = NULLIF(@user_blocks,''), user_groups_historical = NULLIF(@user_groups_historical,''), user_groups = NULLIF(@user_groups,''), user_is_bot_by_historical = NULLIF(@user_is_bot_by_historical,''), user_is_bot_by = NULLIF(@user_is_bot_by,''), user_is_created_by_self = NULLIF(@user_is_created_by_self,''), user_is_created_by_system = NULLIF(@user_is_created_by_system,''), user_is_created_by_peer = NULLIF(@user_is_created_by_peer,''), user_is_anonymous = NULLIF(@user_is_anonymous,''), user_registration_timestamp = NULLIF(@user_registration_timestamp,''), user_creation_timestamp = NULLIF(@user_creation_timestamp,''), user_first_edit_timestamp = NULLIF(@user_first_edit_timestamp,''), revision_id = NULLIF(@revision_id,''), revision_parent_id = NULLIF(@revision_parent_id,''), revision_minor_edit = NULLIF(@revision_minor_edit,''), revision_deleted_parts = NULLIF(@revision_deleted_parts,''), revision_deleted_parts_are_suppressed = NULLIF(@revision_deleted_parts_are_suppressed,''), revision_text_bytes = NULLIF(@revision_text_bytes,''), revision_text_bytes_diff = NULLIF(@revision_text_bytes_diff,''), revision_text_sha1 = NULLIF(@revision_text_sha1,''), revision_content_model = NULLIF(@revision_content_model,''), revision_content_format = NULLIF(@revision_content_format,''), revision_is_deleted_by_page_deletion = NULLIF(@revision_is_deleted_by_page_deletion,''), revision_deleted_by_page_deletion_timestamp = NULLIF(@revision_deleted_by_page_deletion_timestamp,''), revision_is_identity_reverted = NULLIF(@revision_is_identity_reverted,''), revision_first_identity_reverting_revision_id = NULLIF(@revision_first_identity_reverting_revision_id,''), revision_seconds_to_identity_revert = NULLIF(@revision_seconds_to_identity_revert,''), revision_is_identity_revert = NULLIF(@revision_is_identity_revert,''), revision_is_from_before_page_creation = NULLIF(@revision_is_from_before_page_creation,''), revision_tags = NULLIF(@revision_tags,''), row_id = NULLIF(@row_id,'');\n",
    "```"
   ]
  },
  {
   "cell_type": "markdown",
   "id": "dd71af16-d32c-45ae-be2e-df637064d63f",
   "metadata": {
    "jp-MarkdownHeadingCollapsed": true,
    "tags": []
   },
   "source": [
    "##### get query to clipboard for pasting into mysql CLI"
   ]
  },
  {
   "cell_type": "code",
   "execution_count": 8,
   "id": "64c9769d-e20c-499d-9fd4-ace289b7463b",
   "metadata": {},
   "outputs": [],
   "source": [
    "gen = (i for i in range(len(years)))"
   ]
  },
  {
   "cell_type": "code",
   "execution_count": 9,
   "id": "67d909c9-1a8b-426c-bbf8-72007f0bc1d0",
   "metadata": {},
   "outputs": [
    {
     "data": {
      "text/plain": [
       "(0, 2013)"
      ]
     },
     "execution_count": 9,
     "metadata": {},
     "output_type": "execute_result"
    }
   ],
   "source": [
    "i = next(gen)\n",
    "i, years[i]"
   ]
  },
  {
   "cell_type": "code",
   "execution_count": 62,
   "id": "22f86a7e-1350-45e4-8cc7-34472fc45699",
   "metadata": {},
   "outputs": [],
   "source": [
    "pyperclip.copy(load_data_query_list[i]) # multiquery"
   ]
  },
  {
   "cell_type": "markdown",
   "id": "362edaae-fcb3-41bf-a214-27a76e950205",
   "metadata": {
    "jp-MarkdownHeadingCollapsed": true,
    "tags": []
   },
   "source": [
    "## Connect to SQLAlchemy"
   ]
  },
  {
   "cell_type": "markdown",
   "id": "5e33f0af-c3a3-4a27-89c8-8fb4d5f410da",
   "metadata": {
    "jp-MarkdownHeadingCollapsed": true,
    "tags": []
   },
   "source": [
    "#### imports"
   ]
  },
  {
   "cell_type": "code",
   "execution_count": 13,
   "id": "4a8533bd-1266-48f5-8152-3d29583b0e66",
   "metadata": {},
   "outputs": [],
   "source": [
    "import mysql.connector as mysql\n",
    "import sqlalchemy"
   ]
  },
  {
   "cell_type": "markdown",
   "id": "613f94d6-e2fb-4d19-82c9-ac51b0b16081",
   "metadata": {
    "jp-MarkdownHeadingCollapsed": true,
    "tags": []
   },
   "source": [
    "### login"
   ]
  },
  {
   "cell_type": "markdown",
   "id": "63de24d3-738d-4d4a-b655-efb947f60022",
   "metadata": {
    "jp-MarkdownHeadingCollapsed": true,
    "tags": []
   },
   "source": [
    "#### initialize mariadb"
   ]
  },
  {
   "cell_type": "markdown",
   "id": "6321f6de-32f4-4d0d-8482-0ebf653f2f8e",
   "metadata": {},
   "source": [
    "```bash\n",
    "# mysql --user=root --password=XXXXXXXX\n",
    "mysql -p\n",
    "```"
   ]
  },
  {
   "cell_type": "markdown",
   "id": "555c52a2-6d95-441a-b97c-3e16046c971d",
   "metadata": {
    "jp-MarkdownHeadingCollapsed": true,
    "tags": []
   },
   "source": [
    "#### get credentials into notebook"
   ]
  },
  {
   "cell_type": "code",
   "execution_count": 29,
   "id": "2b9e7eb9-6bc5-4491-ae3d-80c4bd2aa8a9",
   "metadata": {},
   "outputs": [],
   "source": [
    "mysql_user = 'bhrdwj'\n",
    "# mysql_pass = input(f'Enter the MySQL password for user {mysql_user}: ')"
   ]
  },
  {
   "cell_type": "markdown",
   "id": "6ed0e5ee-d64d-4ba7-8d9f-4226e417e744",
   "metadata": {
    "jp-MarkdownHeadingCollapsed": true,
    "tags": []
   },
   "source": [
    "#### connect to database"
   ]
  },
  {
   "cell_type": "code",
   "execution_count": 32,
   "id": "59d0ac01-1fe3-416d-a815-881c68cc2d5e",
   "metadata": {},
   "outputs": [],
   "source": [
    "host='localhost'; user=mysql_user; passwd=mysql_pass; dbname='jawiki';\n",
    "cxn = mysql.connect(host=host,user=user,passwd=passwd, database=dbname)\n",
    "cur = cxn.cursor()\n",
    "\n",
    "connection_str = 'mysql+mysqlconnector://'+user+':'+passwd+'@'+host+'/'+dbname  # removed this after host +':'+dbport\n",
    "try:\n",
    "    engine = sqlalchemy.create_engine(connection_str)\n",
    "    conn = engine.connect()\n",
    "except Exception as e:\n",
    "    print('Database connection error - check creds')\n",
    "    print(e)"
   ]
  },
  {
   "cell_type": "markdown",
   "id": "2ec25a80-6625-4b4c-bf10-becece35d7f8",
   "metadata": {
    "jp-MarkdownHeadingCollapsed": true,
    "tags": []
   },
   "source": [
    "#### get ```tablenames```"
   ]
  },
  {
   "cell_type": "code",
   "execution_count": 34,
   "id": "9708a50f-0735-442f-a436-3f4e61af33fa",
   "metadata": {},
   "outputs": [
    {
     "data": {
      "text/plain": [
       "['category', 'categorylinks', 'page']"
      ]
     },
     "execution_count": 34,
     "metadata": {},
     "output_type": "execute_result"
    }
   ],
   "source": [
    "metadata = sqlalchemy.MetaData(conn)\n",
    "metadata.reflect()\n",
    "current_tables = list(metadata.tables.keys())\n",
    "current_tables"
   ]
  },
  {
   "cell_type": "markdown",
   "id": "5383cca3-db8c-48a4-a778-b669e2eb45fe",
   "metadata": {
    "jp-MarkdownHeadingCollapsed": true,
    "tags": []
   },
   "source": [
    "## Load all tables to mariadb"
   ]
  },
  {
   "cell_type": "markdown",
   "id": "a0eb4b51-4aa3-474a-8704-f3fa1b159f55",
   "metadata": {
    "jp-MarkdownHeadingCollapsed": true,
    "tags": []
   },
   "source": [
    "### setup"
   ]
  },
  {
   "cell_type": "markdown",
   "id": "78835c8b-d2a3-47f5-9688-91c46bbcaaae",
   "metadata": {
    "tags": []
   },
   "source": [
    "#### define function ```jpr_sql```"
   ]
  },
  {
   "cell_type": "markdown",
   "id": "c2ffc0d6-4709-45c5-a8ad-4837b95ca821",
   "metadata": {
    "jp-MarkdownHeadingCollapsed": true,
    "tags": []
   },
   "source": [
    "##### jpr_sql"
   ]
  },
  {
   "cell_type": "code",
   "execution_count": 38,
   "id": "b6c5e47b-c789-43a9-8ece-68b10fe10d46",
   "metadata": {},
   "outputs": [],
   "source": [
    "def jpr_sql(query, conn=conn):\n",
    "    try: \n",
    "        a = conn.execute(query)\n",
    "    except Exception as e:\n",
    "        print('Printing execute error:')\n",
    "        print(e)\n",
    "        return None\n",
    "    \n",
    "    try:\n",
    "        return a.fetchall()\n",
    "    except Exception as e:\n",
    "        print('Printing results error:')\n",
    "        print(e)\n",
    "        print('Printing result')\n",
    "        return None"
   ]
  },
  {
   "cell_type": "markdown",
   "id": "9e46176e-d2a7-441a-a564-e688643f605a",
   "metadata": {
    "jp-MarkdownHeadingCollapsed": true,
    "tags": []
   },
   "source": [
    "#### check connection"
   ]
  },
  {
   "cell_type": "markdown",
   "id": "a4bdd916-a6ed-4395-ad20-a65ede9f01e4",
   "metadata": {
    "jp-MarkdownHeadingCollapsed": true,
    "tags": []
   },
   "source": [
    "##### reconnect to database"
   ]
  },
  {
   "cell_type": "code",
   "execution_count": 381,
   "id": "31bd1a8a-6a1c-40f9-8b0d-ea49c1cb8298",
   "metadata": {},
   "outputs": [],
   "source": [
    "host='localhost'; user=mysql_user; passwd=mysql_pass; dbname='jawiki';\n",
    "cxn = mysql.connect(host=host,user=user,passwd=passwd, database=dbname)\n",
    "cur = cxn.cursor()\n",
    "\n",
    "connection_str = 'mysql+mysqlconnector://'+user+':'+passwd+'@'+host+'/'+dbname  # removed this after host +':'+dbport\n",
    "try:\n",
    "    engine = sqlalchemy.create_engine(connection_str)\n",
    "    conn = engine.connect()\n",
    "except:\n",
    "    print('Database connection error - check creds')"
   ]
  },
  {
   "cell_type": "markdown",
   "id": "57351d2b-61b0-47c8-9a3d-505d47074f19",
   "metadata": {
    "jp-MarkdownHeadingCollapsed": true,
    "tags": []
   },
   "source": [
    "##### check it"
   ]
  },
  {
   "cell_type": "code",
   "execution_count": 355,
   "id": "d1f0167f-50e9-487d-b1ee-50292740e505",
   "metadata": {},
   "outputs": [
    {
     "data": {
      "text/plain": [
       "['category',\n",
       " 'categorylinks',\n",
       " 'page',\n",
       " 't2013',\n",
       " 't2014',\n",
       " 't2015',\n",
       " 't2016',\n",
       " 't2017',\n",
       " 't2018']"
      ]
     },
     "metadata": {},
     "output_type": "display_data"
    }
   ],
   "source": [
    "current_tables = jpr_sql(f'show tables;')\n",
    "current_tables = [i[0] for i in current_tables]\n",
    "display(current_tables)\n",
    "\n",
    "jpr_sql(f'select * from {current_tables[0]} limit 10;');\n",
    "jpr_sql(f'desc {current_tables[0]};');"
   ]
  },
  {
   "cell_type": "markdown",
   "id": "bc96dae1-de18-4e45-bc9e-e031edb288b4",
   "metadata": {
    "tags": []
   },
   "source": [
    "### babysit the load data loop"
   ]
  },
  {
   "cell_type": "markdown",
   "id": "beb6daaa-44c0-4459-83fd-62ecff97df2f",
   "metadata": {
    "jp-MarkdownHeadingCollapsed": true,
    "tags": []
   },
   "source": [
    "#### before starting"
   ]
  },
  {
   "cell_type": "code",
   "execution_count": 244,
   "id": "4fa5275e-d398-4320-98e3-88eee7a3fa0f",
   "metadata": {},
   "outputs": [
    {
     "name": "stdout",
     "output_type": "stream",
     "text": [
      "Printing execute error:\n",
      "(mysql.connector.errors.ProgrammingError) 1227 (42000): Access denied; you need (at least one of) the SUPER privilege(s) for this operation\n",
      "[SQL: set global max_error_count=100000;]\n",
      "(Background on this error at: https://sqlalche.me/e/14/f405)\n"
     ]
    }
   ],
   "source": [
    "jpr_sql('set global max_error_count=100000;')"
   ]
  },
  {
   "cell_type": "code",
   "execution_count": 245,
   "id": "af92bd65-5d24-41cd-817c-8a790b73d600",
   "metadata": {},
   "outputs": [
    {
     "data": {
      "text/plain": [
       "[('MAX_ERROR_COUNT', '65535', '65535')]"
      ]
     },
     "execution_count": 245,
     "metadata": {},
     "output_type": "execute_result"
    }
   ],
   "source": [
    "jpr_sql(\"\"\"\n",
    "SELECT VARIABLE_NAME, SESSION_VALUE, GLOBAL_VALUE FROM\n",
    "INFORMATION_SCHEMA.SYSTEM_VARIABLES WHERE \n",
    "VARIABLE_NAME IN ('max_error_count');\"\"\")"
   ]
  },
  {
   "cell_type": "code",
   "execution_count": 295,
   "id": "bed2b38a-acf1-4368-96ab-aa6f0c50887b",
   "metadata": {},
   "outputs": [],
   "source": [
    "gen = (i for i in range(len(years)))"
   ]
  },
  {
   "cell_type": "markdown",
   "id": "655afd52-dcdf-4f1e-93e5-3c75a94667d7",
   "metadata": {
    "jp-MarkdownHeadingCollapsed": true,
    "tags": []
   },
   "source": [
    "#### loop"
   ]
  },
  {
   "cell_type": "code",
   "execution_count": 391,
   "id": "d460b8e6-5882-4e74-a749-aa5f5c9273dd",
   "metadata": {},
   "outputs": [],
   "source": [
    "i = next(gen)"
   ]
  },
  {
   "cell_type": "code",
   "execution_count": 392,
   "id": "61efcf5f-3172-42be-a883-b72d101aaa2d",
   "metadata": {},
   "outputs": [
    {
     "data": {
      "text/plain": [
       "(8, 2021)"
      ]
     },
     "execution_count": 392,
     "metadata": {},
     "output_type": "execute_result"
    }
   ],
   "source": [
    "i, years[i]"
   ]
  },
  {
   "cell_type": "raw",
   "id": "3464bcca-aacb-42dd-a345-4981032cc123",
   "metadata": {
    "tags": []
   },
   "source": [
    "drop_table_query_list[i]"
   ]
  },
  {
   "cell_type": "code",
   "execution_count": 393,
   "id": "5bbd68fd-ef79-4e52-b80e-f1bdef8f38b9",
   "metadata": {},
   "outputs": [
    {
     "name": "stdout",
     "output_type": "stream",
     "text": [
      "Printing results error:\n",
      "This result object does not return rows. It has been closed automatically.\n",
      "Printing result\n"
     ]
    }
   ],
   "source": [
    "jpr_sql(drop_table_query_list[i])"
   ]
  },
  {
   "cell_type": "raw",
   "id": "3c147c3b-7743-4e67-b0a9-63e3b6fbf37d",
   "metadata": {
    "tags": []
   },
   "source": [
    "create_table_query_list[i]"
   ]
  },
  {
   "cell_type": "code",
   "execution_count": 394,
   "id": "45edb737-319d-49f4-9dc1-a6773c4f643b",
   "metadata": {},
   "outputs": [
    {
     "name": "stdout",
     "output_type": "stream",
     "text": [
      "Printing results error:\n",
      "This result object does not return rows. It has been closed automatically.\n",
      "Printing result\n"
     ]
    }
   ],
   "source": [
    "jpr_sql(create_table_query_list[i])"
   ]
  },
  {
   "cell_type": "code",
   "execution_count": 395,
   "id": "b84b3cab-9498-4f54-960b-629fe55188a4",
   "metadata": {},
   "outputs": [
    {
     "data": {
      "text/plain": [
       "[('category',),\n",
       " ('categorylinks',),\n",
       " ('page',),\n",
       " ('t2013',),\n",
       " ('t2014',),\n",
       " ('t2015',),\n",
       " ('t2016',),\n",
       " ('t2017',),\n",
       " ('t2018',),\n",
       " ('t2019',),\n",
       " ('t2020',),\n",
       " ('t2021',)]"
      ]
     },
     "execution_count": 395,
     "metadata": {},
     "output_type": "execute_result"
    }
   ],
   "source": [
    "jpr_sql('show tables;')"
   ]
  },
  {
   "cell_type": "raw",
   "id": "24f59722-3761-4c18-979d-4042750243d9",
   "metadata": {
    "tags": []
   },
   "source": [
    "load_data_query_list[i]"
   ]
  },
  {
   "cell_type": "code",
   "execution_count": 396,
   "id": "f3488853-7959-4f48-91e2-4c494932138d",
   "metadata": {},
   "outputs": [],
   "source": [
    "pyperclip.copy(load_data_query_list[i]) # multiquery"
   ]
  },
  {
   "cell_type": "markdown",
   "id": "b4edd28d-cca8-4a35-b55e-904d058c4f3e",
   "metadata": {},
   "source": [
    "*paste and run into mariadb cli*"
   ]
  },
  {
   "cell_type": "markdown",
   "id": "7aeae3d8-b7db-4523-ab50-36aaea71e198",
   "metadata": {
    "jp-MarkdownHeadingCollapsed": true,
    "tags": []
   },
   "source": [
    "#### check"
   ]
  },
  {
   "cell_type": "code",
   "execution_count": 389,
   "id": "e08621a8-afb5-450b-a35c-3d714e2531f2",
   "metadata": {},
   "outputs": [
    {
     "data": {
      "text/plain": [
       "2020"
      ]
     },
     "execution_count": 389,
     "metadata": {},
     "output_type": "execute_result"
    }
   ],
   "source": [
    "years[i]"
   ]
  },
  {
   "cell_type": "code",
   "execution_count": 382,
   "id": "cc58cd4b-7704-4ddc-bfad-922ee2bf83e7",
   "metadata": {},
   "outputs": [
    {
     "data": {
      "text/plain": [
       "[('category',),\n",
       " ('categorylinks',),\n",
       " ('page',),\n",
       " ('t2013',),\n",
       " ('t2014',),\n",
       " ('t2015',),\n",
       " ('t2016',),\n",
       " ('t2017',),\n",
       " ('t2018',),\n",
       " ('t2019',),\n",
       " ('t2020',)]"
      ]
     },
     "execution_count": 382,
     "metadata": {},
     "output_type": "execute_result"
    }
   ],
   "source": [
    "jpr_sql('show tables;')"
   ]
  },
  {
   "cell_type": "code",
   "execution_count": 388,
   "id": "95089cdb-1cb6-47d5-ad68-d306c132b6ce",
   "metadata": {},
   "outputs": [
    {
     "data": {
      "text/plain": [
       "[(4057210,),\n",
       " (4057210,),\n",
       " (4057210,),\n",
       " (1974801,),\n",
       " (4057211,),\n",
       " (4057211,),\n",
       " (4057211,),\n",
       " (3554070,),\n",
       " (4052485,),\n",
       " (1113014,)]"
      ]
     },
     "execution_count": 388,
     "metadata": {},
     "output_type": "execute_result"
    }
   ],
   "source": [
    "jpr_sql(f'select page_id from t{years[i]} limit 10;')"
   ]
  },
  {
   "cell_type": "code",
   "execution_count": 384,
   "id": "cf0cd13a-f450-4efc-b5a5-3cf7ba9a592c",
   "metadata": {},
   "outputs": [],
   "source": [
    "jpr_sql(f'desc t{years[i]};');"
   ]
  },
  {
   "cell_type": "code",
   "execution_count": null,
   "id": "4842fc61-9750-4322-88b8-c406a933869f",
   "metadata": {},
   "outputs": [],
   "source": [
    "jpr_sql(f'select count(*) from t{years[i]};')"
   ]
  },
  {
   "cell_type": "markdown",
   "id": "143f4194-80a4-4c62-a5d6-a1208c69aa17",
   "metadata": {
    "jp-MarkdownHeadingCollapsed": true,
    "tags": []
   },
   "source": [
    "## Restrict user bhrdwj to read-only access to raw data"
   ]
  },
  {
   "cell_type": "markdown",
   "id": "13517254-0e76-4096-9389-c0636d312646",
   "metadata": {
    "jp-MarkdownHeadingCollapsed": true,
    "tags": []
   },
   "source": [
    "### revoke"
   ]
  },
  {
   "cell_type": "code",
   "execution_count": 385,
   "id": "2c83ae87-1088-4483-9c18-99f8323ea9c3",
   "metadata": {},
   "outputs": [],
   "source": [
    "current_tables = jpr_sql(f'show tables;')\n",
    "current_tables = [i[0] for i in current_tables]"
   ]
  },
  {
   "cell_type": "code",
   "execution_count": 386,
   "id": "fbb0f10f-b1eb-42b8-9885-eaf8a0c86128",
   "metadata": {},
   "outputs": [],
   "source": [
    "restricted_tables = current_tables\n",
    "restricted_user = 'bhrdwj'"
   ]
  },
  {
   "cell_type": "code",
   "execution_count": 401,
   "id": "a538318d-4d33-470c-aa63-49a0cacc553a",
   "metadata": {},
   "outputs": [
    {
     "name": "stdout",
     "output_type": "stream",
     "text": [
      "REVOKE ALL ON jawiki.category FROM bhrdwj;\n",
      "REVOKE ALL ON jawiki.categorylinks FROM bhrdwj;\n",
      "REVOKE ALL ON jawiki.page FROM bhrdwj;\n",
      "REVOKE ALL ON jawiki.t2013 FROM bhrdwj;\n",
      "REVOKE ALL ON jawiki.t2014 FROM bhrdwj;\n",
      "REVOKE ALL ON jawiki.t2015 FROM bhrdwj;\n",
      "REVOKE ALL ON jawiki.t2016 FROM bhrdwj;\n",
      "REVOKE ALL ON jawiki.t2017 FROM bhrdwj;\n",
      "REVOKE ALL ON jawiki.t2018 FROM bhrdwj;\n",
      "REVOKE ALL ON jawiki.t2019 FROM bhrdwj;\n",
      "REVOKE ALL ON jawiki.t2020 FROM bhrdwj;\n"
     ]
    }
   ],
   "source": [
    "print('\\n'.join([f\"REVOKE ALL ON jawiki.{table} FROM {user};\" for table in current_tables]))"
   ]
  },
  {
   "cell_type": "markdown",
   "id": "5eb02ff0-afa3-45d2-95cf-419c3f81f5e2",
   "metadata": {
    "jp-MarkdownHeadingCollapsed": true,
    "tags": []
   },
   "source": [
    "### grant"
   ]
  },
  {
   "cell_type": "code",
   "execution_count": 397,
   "id": "7fecdba8-382b-4fc4-831d-c893a76b8467",
   "metadata": {},
   "outputs": [
    {
     "data": {
      "text/plain": [
       "'GRANT SELECT, SHOW VIEW, PROCESS, REPLICATION CLIENT ON *.* TO bhrdwj;'"
      ]
     },
     "execution_count": 397,
     "metadata": {},
     "output_type": "execute_result"
    }
   ],
   "source": [
    "'GRANT SELECT, SHOW VIEW, PROCESS, REPLICATION CLIENT ON *.* TO bhrdwj;'"
   ]
  },
  {
   "cell_type": "markdown",
   "id": "0ae6c4b9-bf8b-4e3d-a1ec-73b04058f883",
   "metadata": {
    "jp-MarkdownHeadingCollapsed": true,
    "tags": []
   },
   "source": [
    "## EDA for adjusting ```load data local infile``` settings"
   ]
  },
  {
   "cell_type": "markdown",
   "id": "34834b81-eb01-4b76-8106-d66cd5d61799",
   "metadata": {
    "jp-MarkdownHeadingCollapsed": true,
    "tags": []
   },
   "source": [
    "##### ```revision_minor_edit```"
   ]
  },
  {
   "cell_type": "markdown",
   "id": "40b3aac7-fb1d-4ef3-85b9-f411f6cd1741",
   "metadata": {},
   "source": [
    "```sql\n",
    "select revision_minor_edit, min(row_id), count(*) \n",
    "    from ja_hist \n",
    "    group by revision_minor_edit order by row_id;\n",
    "```"
   ]
  },
  {
   "cell_type": "raw",
   "id": "a5a7960f-2456-4476-8a53-0d1c8e838b48",
   "metadata": {},
   "source": [
    "+---------------------+-------------+----------+\n",
    "| revision_minor_edit | min(row_id) | count(*) |\n",
    "+---------------------+-------------+----------+\n",
    "| false               |           1 |  6196406 |\n",
    "| true                |           5 |  2132443 |\n",
    "| NULL                |          17 |   710853 |\n",
    "| text                |     7655907 |        1 |\n",
    "| 177                 |     8572611 |        1 |\n",
    "| 360                 |     8572647 |        1 |\n",
    "| 1                   |     8572651 |        1 |\n",
    "| 237                 |     8572713 |        1 |\n",
    "| 629                 |     8572741 |        1 |\n",
    "| 136                 |     8572820 |        1 |\n",
    "| 168                 |     8573015 |        1 |\n",
    "+---------------------+-------------+----------+\n",
    "11 rows in set (13.258 sec)\n"
   ]
  },
  {
   "cell_type": "markdown",
   "id": "d603dab0-b527-49c2-acdc-3a955ad9168e",
   "metadata": {
    "jp-MarkdownHeadingCollapsed": true,
    "tags": []
   },
   "source": [
    "##### ```user_is_anonymous```"
   ]
  },
  {
   "cell_type": "markdown",
   "id": "ba3206e6-ee1f-43fd-adfe-3df763ee5ff5",
   "metadata": {},
   "source": [
    "```sql\n",
    "select user_is_anonymous, min(row_id), count(*) \n",
    "    from ja_hist \n",
    "    group by user_is_anonymous order by row_id;\n",
    "```"
   ]
  },
  {
   "cell_type": "raw",
   "id": "6e019d4c-1f08-443e-8a6f-048ac208cf3b",
   "metadata": {},
   "source": [
    "+-------------------+-------------+----------+\n",
    "| user_is_anonymous | min(row_id) | count(*) |\n",
    "+-------------------+-------------+----------+\n",
    "| NULL              |           1 |  8802062 |\n",
    "| false             |          17 |   237640 |\n",
    "| 53505764          |     8572611 |        1 |\n",
    "| 53505797          |     8572647 |        1 |\n",
    "| 53505801          |     8572651 |        1 |\n",
    "| 53505858          |     8572713 |        1 |\n",
    "| 53505884          |     8572741 |        1 |\n",
    "| 53505960          |     8572820 |        1 |\n",
    "| 53506139          |     8573015 |        1 |\n",
    "| 2014-11-13        |     8573733 |        1 |\n",
    "+-------------------+-------------+----------+\n",
    "10 rows in set (11.623 sec)\n"
   ]
  },
  {
   "cell_type": "markdown",
   "id": "beb01f88-a9d1-4b6b-a0e0-ba8e93d06eee",
   "metadata": {
    "jp-MarkdownHeadingCollapsed": true,
    "tags": []
   },
   "source": [
    "##### ```user_text_historical```"
   ]
  },
  {
   "cell_type": "markdown",
   "id": "7e45cb5d-3c4a-49eb-a683-9c4a427eb901",
   "metadata": {},
   "source": [
    "```sql\n",
    "select user_text_historical, min(row_id), count(*) \n",
    "    from ja_hist \n",
    "    where user_text_historical regexp '^[0-9]*$' \n",
    "    group by user_text_historical order by row_id;\n",
    "```"
   ]
  },
  {
   "cell_type": "raw",
   "id": "daaa5561-298e-4dc5-b778-e3c5a5e8d4cf",
   "metadata": {},
   "source": [
    "+----------------------+-------------+----------+\n",
    "| user_text_historical | min(row_id) | count(*) |\n",
    "+----------------------+-------------+----------+\n",
    "| 80686                |     1719492 |        1 |\n",
    "| 560889223            |     1816793 |        1 |\n",
    "| 8596                 |     2616687 |        1 |\n",
    "| 67781530             |     3526969 |        1 |\n",
    "| 930310               |     5571549 |        1 |\n",
    "| 888344               |     6086476 |        1 |\n",
    "| 555                  |     6933543 |        1 |\n",
    "| 1989                 |     8755251 |        1 |\n",
    "| 9114619              |     8914891 |        1 |\n",
    "+----------------------+-------------+----------+\n",
    "9 rows in set (9.313 sec)"
   ]
  },
  {
   "cell_type": "markdown",
   "id": "523c4d87-078a-4dd8-b437-200af938e434",
   "metadata": {
    "jp-MarkdownHeadingCollapsed": true,
    "tags": []
   },
   "source": [
    "##### ```revision_content_model```"
   ]
  },
  {
   "cell_type": "raw",
   "id": "a9c982b5-994b-40e2-a8aa-1bb106257030",
   "metadata": {},
   "source": [
    "MariaDB [ja_hist]> select revision_content_model, min(row_id), count(*) from ja_hist group by revision_content_model order by row_id;\n",
    "+------------------------+-------------+----------+\n",
    "| revision_content_model | min(row_id) | count(*) |\n",
    "+------------------------+-------------+----------+\n",
    "| NULL                   |           1 |  9039683 |\n",
    "| false                  |       44048 |       27 |\n",
    "+------------------------+-------------+----------+\n",
    "2 rows in set (11.401 sec)"
   ]
  },
  {
   "cell_type": "markdown",
   "id": "fc677544-c9fb-4e28-9f1e-19939362c314",
   "metadata": {
    "jp-MarkdownHeadingCollapsed": true,
    "tags": []
   },
   "source": [
    "##### ```user_is_bot_by_historical```"
   ]
  },
  {
   "cell_type": "raw",
   "id": "77ab21ef-991a-43ea-8851-4cba50a912af",
   "metadata": {},
   "source": [
    "MariaDB [ja_hist]> select user_is_bot_by_historical, min(row_id), count(*) from ja_hist group by user_is_bot_by_historical order by row_id;\n",
    "+---------------------------+-------------+----------+\n",
    "| user_is_bot_by_historical | min(row_id) | count(*) |\n",
    "+---------------------------+-------------+----------+\n",
    "| NULL                      |           1 |  9039370 |\n",
    "| false                     |       43899 |        4 |\n",
    "| name                      |      255483 |      314 |\n",
    "| name,group                |      875311 |       18 |\n",
    "| group                     |     3511631 |        3 |\n",
    "| true                      |     8573733 |        1 |\n",
    "+---------------------------+-------------+----------+\n",
    "6 rows in set (11.498 sec)"
   ]
  },
  {
   "cell_type": "markdown",
   "id": "eb7ed052-37c9-4372-90b0-2eb990214de6",
   "metadata": {
    "jp-MarkdownHeadingCollapsed": true,
    "tags": []
   },
   "source": [
    "##### ```page_revision_count```"
   ]
  },
  {
   "cell_type": "raw",
   "id": "ed0278e2-ce26-45f6-952e-0cefdc2c5485",
   "metadata": {},
   "source": [
    "MariaDB [ja_hist]> select page_revision_count from ja_hist group by length(page_revision_count);\n",
    "+---------------------+\n",
    "| page_revision_count |\n",
    "+---------------------+\n",
    "|                NULL |\n",
    "|                   7 |\n",
    "|                  12 |\n",
    "|                 109 |\n",
    "|                1835 |\n",
    "|               10000 |\n",
    "|              694801 |\n",
    "|             3464244 |\n",
    "|            22929404 |\n",
    "+---------------------+\n",
    "9 rows in set (12.684 sec)\n"
   ]
  },
  {
   "cell_type": "markdown",
   "id": "6d22b5a1-460d-4845-99f9-403aca4539e1",
   "metadata": {},
   "source": [
    "# END"
   ]
  }
 ],
 "metadata": {
  "kernelspec": {
   "display_name": "Python 3 (ipykernel)",
   "language": "python",
   "name": "python3"
  },
  "language_info": {
   "codemirror_mode": {
    "name": "ipython",
    "version": 3
   },
   "file_extension": ".py",
   "mimetype": "text/x-python",
   "name": "python",
   "nbconvert_exporter": "python",
   "pygments_lexer": "ipython3",
   "version": "3.9.7"
  }
 },
 "nbformat": 4,
 "nbformat_minor": 5
}
