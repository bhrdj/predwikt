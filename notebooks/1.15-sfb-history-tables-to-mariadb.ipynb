{
 "cells": [
  {
   "cell_type": "markdown",
   "id": "cad2e7d2-c9c2-4d6d-9f9f-e592d6c029da",
   "metadata": {},
   "source": [
    "# History tables to mariadb"
   ]
  },
  {
   "cell_type": "markdown",
   "id": "5a2012b8-e73b-4607-b6ca-44f329a6c254",
   "metadata": {
    "jp-MarkdownHeadingCollapsed": true,
    "tags": []
   },
   "source": [
    "## peek"
   ]
  },
  {
   "cell_type": "markdown",
   "id": "c906e258-eb38-44ef-8bb9-74e104cf6cd0",
   "metadata": {
    "jp-MarkdownHeadingCollapsed": true,
    "tags": []
   },
   "source": [
    "### imports"
   ]
  },
  {
   "cell_type": "code",
   "execution_count": 2,
   "id": "ab8f76b0-bca7-4fd5-81ef-e80b98acb25e",
   "metadata": {},
   "outputs": [],
   "source": [
    "import os, pandas as pd, numpy as np\n",
    "from datetime import datetime as dt"
   ]
  },
  {
   "cell_type": "code",
   "execution_count": 3,
   "id": "b04a784e-c18d-43e6-bf9a-615ad0bffea3",
   "metadata": {},
   "outputs": [],
   "source": [
    "datapath = '../data/raw/jawiki/dumps_unzipped/'"
   ]
  },
  {
   "cell_type": "markdown",
   "id": "35abdf83-dc33-4cdf-b076-48347c2c2bad",
   "metadata": {},
   "source": [
    "#### metadata"
   ]
  },
  {
   "cell_type": "code",
   "execution_count": 4,
   "id": "dfbb7d10-6b66-4cec-914f-4a9038280c53",
   "metadata": {},
   "outputs": [
    {
     "name": "stdout",
     "output_type": "stream",
     "text": [
      "['wiki_db', 'event_entity', 'event_type', 'event_timestamp', 'event_comment', 'event_user_id', 'event_user_text_historical', 'event_user_text', 'event_user_blocks_historical', 'event_user_blocks', 'event_user_groups_historical', 'event_user_groups', 'event_user_is_bot_by_historical', 'event_user_is_bot_by', 'event_user_is_created_by_self', 'event_user_is_created_by_system', 'event_user_is_created_by_peer', 'event_user_is_anonymous', 'event_user_registration_timestamp', 'event_user_creation_timestamp', 'event_user_first_edit_timestamp', 'event_user_revision_count', 'event_user_seconds_since_previous_revision', 'page_id', 'page_title_historical', 'page_title', 'page_namespace_historical', 'page_namespace_is_content_historical', 'page_namespace', 'page_namespace_is_content', 'page_is_redirect', 'page_is_deleted', 'page_creation_timestamp', 'page_first_edit_timestamp', 'page_revision_count', 'page_seconds_since_previous_revision', 'user_id', 'user_text_historical', 'user_text', 'user_blocks_historical', 'user_blocks', 'user_groups_historical', 'user_groups', 'user_is_bot_by_historical', 'user_is_bot_by', 'user_is_created_by_self', 'user_is_created_by_system', 'user_is_created_by_peer', 'user_is_anonymous', 'user_registration_timestamp', 'user_creation_timestamp', 'user_first_edit_timestamp', 'revision_id', 'revision_parent_id', 'revision_minor_edit', 'revision_deleted_parts', 'revision_deleted_parts_are_suppressed', 'revision_text_bytes', 'revision_text_bytes_diff', 'revision_text_sha1', 'revision_content_model', 'revision_content_format', 'revision_is_deleted_by_page_deletion', 'revision_deleted_by_page_deletion_timestamp', 'revision_is_identity_reverted', 'revision_first_identity_reverting_revision_id', 'revision_seconds_to_identity_revert', 'revision_is_identity_revert', 'revision_is_from_before_page_creation', 'revision_tags', 'snapshot']\n"
     ]
    }
   ],
   "source": [
    "mtdt = pd.read_csv('../references/metadata/history.tsv', sep='\\t')\n",
    "print(mtdt.col_name.tolist())"
   ]
  },
  {
   "cell_type": "markdown",
   "id": "acd07807-8a90-454a-802b-20d66016b125",
   "metadata": {
    "jp-MarkdownHeadingCollapsed": true,
    "tags": []
   },
   "source": [
    "### head"
   ]
  },
  {
   "cell_type": "code",
   "execution_count": 5,
   "id": "ff283b84-db02-4577-a4d4-700996ee6d68",
   "metadata": {},
   "outputs": [
    {
     "name": "stdout",
     "output_type": "stream",
     "text": [
      "jawiki\trevision\tcreate\t2013-01-01 00:00:10.0\t/* 関連項目 */\t\t219.101.94.150\t219.101.94.150\t\t\t\t\t\t\t\t\t\ttrue\t\t\t\t\t\t2414774\t大間材木テレビ中継局\t大間材木テレビ中継局\t0\ttrue\t0\ttrue\ttrue\tfalse\t2011-08-23 15:00:28.0\t2011-08-23 15:00:28.0\t12\t6771598\t\t\t\t\t\t\t\t\t\t\t\t\t\t\t\t\t45611822\t44596655\tfalse\t\tfalse\t3283\t-1\th5njsxb8189dwoab2z5uh3wvsvn3dh0\t\t\tfalse\t\tfalse\t\t\tfalse\tfalse\t\n",
      "\n",
      "jawiki\trevision\tcreate\t2013-01-01 00:00:17.0\t/* 中継局概要 */\t\t219.101.94.150\t219.101.94.150\t\t\t\t\t\t\t\t\t\ttrue\t\t\t\t\t\t1185684\t片貝中継局\t片貝テレビ中継局\t0\ttrue\t0\ttrue\tfalse\tfalse\t2007-10-08 03:33:18.0\t2007-10-08 03:33:18.0\t32\t8974810\t\t\t\t\t\t\t\t\t\t\t\t\t\t\t\t\t45611823\t44232137\tfalse\t\tfalse\t3877\t-16\thwp0qzjrb7a9qp46qbcii8qnk9aie2e\t\t\tfalse\t\tfalse\t\t\tfalse\tfalse\t\n",
      "\n",
      "jawiki\trevision\tcreate\t2013-01-01 00:00:21.0\t\t\t219.101.94.150\t219.101.94.150\t\t\t\t\t\t\t\t\t\ttrue\t\t\t\t\t\t1202040\tNHK三陸テレビ中継局\tNHK三陸テレビ中継局\t0\ttrue\t0\ttrue\tfalse\tfalse\t2007-10-21 01:19:51.0\t2007-10-21 01:19:51.0\t14\t23793706\t\t\t\t\t\t\t\t\t\t\t\t\t\t\t\t\t45611824\t41882385\tfalse\t\tfalse\t2325\t12\trc01e5nzqdiqret0snpjqeqfwghpb9l\t\t\tfalse\t\tfalse\t\t\tfalse\tfalse\t\n",
      "\n"
     ]
    }
   ],
   "source": [
    "with open(datapath+'2021-12.jawiki.2013.tsv', 'r') as file:\n",
    "    for i in range(3):\n",
    "        print(file.readline())"
   ]
  },
  {
   "cell_type": "code",
   "execution_count": 7,
   "id": "5118e2b0-1dbe-40f3-a1b2-4fc8a5852fd0",
   "metadata": {},
   "outputs": [],
   "source": [
    "head = pd.read_csv(datapath+'2021-12.jawiki.2013.tsv', sep='\\t', nrows=10, header=None, names=mtdt.col_name.tolist())"
   ]
  },
  {
   "cell_type": "code",
   "execution_count": 8,
   "id": "5ef88b46-81e7-41a3-9f2a-5cb4b660340f",
   "metadata": {},
   "outputs": [
    {
     "data": {
      "text/plain": [
       "wiki_db                                                      jawiki\n",
       "event_entity                                               revision\n",
       "event_type                                                   create\n",
       "event_timestamp                               2013-01-01 00:00:10.0\n",
       "event_comment                                            /* 関連項目 */\n",
       "event_user_id                                                   NaN\n",
       "event_user_text_historical                           219.101.94.150\n",
       "event_user_text                                      219.101.94.150\n",
       "event_user_blocks_historical                                    NaN\n",
       "event_user_blocks                                               NaN\n",
       "event_user_groups_historical                                    NaN\n",
       "event_user_groups                                               NaN\n",
       "event_user_is_bot_by_historical                                 NaN\n",
       "event_user_is_bot_by                                            NaN\n",
       "event_user_is_created_by_self                                   NaN\n",
       "event_user_is_created_by_system                                 NaN\n",
       "event_user_is_created_by_peer                                   NaN\n",
       "event_user_is_anonymous                                        True\n",
       "event_user_registration_timestamp                               NaN\n",
       "event_user_creation_timestamp                                   NaN\n",
       "event_user_first_edit_timestamp                                 NaN\n",
       "event_user_revision_count                                       NaN\n",
       "event_user_seconds_since_previous_revision                      NaN\n",
       "page_id                                                     2414774\n",
       "page_title_historical                                    大間材木テレビ中継局\n",
       "page_title                                               大間材木テレビ中継局\n",
       "page_namespace_historical                                         0\n",
       "page_namespace_is_content_historical                           True\n",
       "page_namespace                                                    0\n",
       "page_namespace_is_content                                      True\n",
       "Name: 0, dtype: object"
      ]
     },
     "execution_count": 8,
     "metadata": {},
     "output_type": "execute_result"
    }
   ],
   "source": [
    "head.T.iloc[:30,0]"
   ]
  },
  {
   "cell_type": "code",
   "execution_count": 9,
   "id": "bff87a60-180f-482f-b8f8-70f1a6af481d",
   "metadata": {},
   "outputs": [
    {
     "data": {
      "text/html": [
       "<div>\n",
       "<style scoped>\n",
       "    .dataframe tbody tr th:only-of-type {\n",
       "        vertical-align: middle;\n",
       "    }\n",
       "\n",
       "    .dataframe tbody tr th {\n",
       "        vertical-align: top;\n",
       "    }\n",
       "\n",
       "    .dataframe thead th {\n",
       "        text-align: right;\n",
       "    }\n",
       "</style>\n",
       "<table border=\"1\" class=\"dataframe\">\n",
       "  <thead>\n",
       "    <tr style=\"text-align: right;\">\n",
       "      <th></th>\n",
       "      <th>wiki_db</th>\n",
       "      <th>event_entity</th>\n",
       "      <th>event_type</th>\n",
       "      <th>event_timestamp</th>\n",
       "      <th>event_comment</th>\n",
       "      <th>event_user_id</th>\n",
       "      <th>event_user_text_historical</th>\n",
       "      <th>event_user_text</th>\n",
       "      <th>event_user_blocks_historical</th>\n",
       "      <th>event_user_blocks</th>\n",
       "    </tr>\n",
       "  </thead>\n",
       "  <tbody>\n",
       "    <tr>\n",
       "      <th>0</th>\n",
       "      <td>jawiki</td>\n",
       "      <td>revision</td>\n",
       "      <td>create</td>\n",
       "      <td>2013-01-01 00:00:10.0</td>\n",
       "      <td>/* 関連項目 */</td>\n",
       "      <td>NaN</td>\n",
       "      <td>219.101.94.150</td>\n",
       "      <td>219.101.94.150</td>\n",
       "      <td>NaN</td>\n",
       "      <td>NaN</td>\n",
       "    </tr>\n",
       "    <tr>\n",
       "      <th>1</th>\n",
       "      <td>jawiki</td>\n",
       "      <td>revision</td>\n",
       "      <td>create</td>\n",
       "      <td>2013-01-01 00:00:17.0</td>\n",
       "      <td>/* 中継局概要 */</td>\n",
       "      <td>NaN</td>\n",
       "      <td>219.101.94.150</td>\n",
       "      <td>219.101.94.150</td>\n",
       "      <td>NaN</td>\n",
       "      <td>NaN</td>\n",
       "    </tr>\n",
       "    <tr>\n",
       "      <th>2</th>\n",
       "      <td>jawiki</td>\n",
       "      <td>revision</td>\n",
       "      <td>create</td>\n",
       "      <td>2013-01-01 00:00:21.0</td>\n",
       "      <td>NaN</td>\n",
       "      <td>NaN</td>\n",
       "      <td>219.101.94.150</td>\n",
       "      <td>219.101.94.150</td>\n",
       "      <td>NaN</td>\n",
       "      <td>NaN</td>\n",
       "    </tr>\n",
       "    <tr>\n",
       "      <th>3</th>\n",
       "      <td>jawiki</td>\n",
       "      <td>revision</td>\n",
       "      <td>create</td>\n",
       "      <td>2013-01-01 00:00:25.0</td>\n",
       "      <td>/* 関連項目 */</td>\n",
       "      <td>NaN</td>\n",
       "      <td>219.101.94.150</td>\n",
       "      <td>219.101.94.150</td>\n",
       "      <td>NaN</td>\n",
       "      <td>NaN</td>\n",
       "    </tr>\n",
       "    <tr>\n",
       "      <th>4</th>\n",
       "      <td>jawiki</td>\n",
       "      <td>revision</td>\n",
       "      <td>create</td>\n",
       "      <td>2013-01-01 00:00:25.0</td>\n",
       "      <td>カテゴリの一部変更</td>\n",
       "      <td>12357.0</td>\n",
       "      <td>Yamato-i</td>\n",
       "      <td>Yamato-i</td>\n",
       "      <td>NaN</td>\n",
       "      <td>NaN</td>\n",
       "    </tr>\n",
       "  </tbody>\n",
       "</table>\n",
       "</div>"
      ],
      "text/plain": [
       "  wiki_db event_entity event_type        event_timestamp event_comment  \\\n",
       "0  jawiki     revision     create  2013-01-01 00:00:10.0    /* 関連項目 */   \n",
       "1  jawiki     revision     create  2013-01-01 00:00:17.0   /* 中継局概要 */   \n",
       "2  jawiki     revision     create  2013-01-01 00:00:21.0           NaN   \n",
       "3  jawiki     revision     create  2013-01-01 00:00:25.0    /* 関連項目 */   \n",
       "4  jawiki     revision     create  2013-01-01 00:00:25.0     カテゴリの一部変更   \n",
       "\n",
       "   event_user_id event_user_text_historical event_user_text  \\\n",
       "0            NaN             219.101.94.150  219.101.94.150   \n",
       "1            NaN             219.101.94.150  219.101.94.150   \n",
       "2            NaN             219.101.94.150  219.101.94.150   \n",
       "3            NaN             219.101.94.150  219.101.94.150   \n",
       "4        12357.0                   Yamato-i        Yamato-i   \n",
       "\n",
       "   event_user_blocks_historical  event_user_blocks  \n",
       "0                           NaN                NaN  \n",
       "1                           NaN                NaN  \n",
       "2                           NaN                NaN  \n",
       "3                           NaN                NaN  \n",
       "4                           NaN                NaN  "
      ]
     },
     "execution_count": 9,
     "metadata": {},
     "output_type": "execute_result"
    }
   ],
   "source": [
    "head.iloc[:5,0:10]"
   ]
  },
  {
   "cell_type": "code",
   "execution_count": 10,
   "id": "fe376f2e-b730-48f3-bc0c-20e5beabd695",
   "metadata": {},
   "outputs": [
    {
     "data": {
      "text/html": [
       "<div>\n",
       "<style scoped>\n",
       "    .dataframe tbody tr th:only-of-type {\n",
       "        vertical-align: middle;\n",
       "    }\n",
       "\n",
       "    .dataframe tbody tr th {\n",
       "        vertical-align: top;\n",
       "    }\n",
       "\n",
       "    .dataframe thead th {\n",
       "        text-align: right;\n",
       "    }\n",
       "</style>\n",
       "<table border=\"1\" class=\"dataframe\">\n",
       "  <thead>\n",
       "    <tr style=\"text-align: right;\">\n",
       "      <th></th>\n",
       "      <th>event_user_groups_historical</th>\n",
       "      <th>event_user_groups</th>\n",
       "      <th>event_user_is_bot_by_historical</th>\n",
       "      <th>event_user_is_bot_by</th>\n",
       "      <th>event_user_is_created_by_self</th>\n",
       "      <th>event_user_is_created_by_system</th>\n",
       "      <th>event_user_is_created_by_peer</th>\n",
       "      <th>event_user_is_anonymous</th>\n",
       "      <th>event_user_registration_timestamp</th>\n",
       "      <th>event_user_creation_timestamp</th>\n",
       "    </tr>\n",
       "  </thead>\n",
       "  <tbody>\n",
       "    <tr>\n",
       "      <th>0</th>\n",
       "      <td>NaN</td>\n",
       "      <td>NaN</td>\n",
       "      <td>NaN</td>\n",
       "      <td>NaN</td>\n",
       "      <td>NaN</td>\n",
       "      <td>NaN</td>\n",
       "      <td>NaN</td>\n",
       "      <td>True</td>\n",
       "      <td>NaN</td>\n",
       "      <td>NaN</td>\n",
       "    </tr>\n",
       "    <tr>\n",
       "      <th>1</th>\n",
       "      <td>NaN</td>\n",
       "      <td>NaN</td>\n",
       "      <td>NaN</td>\n",
       "      <td>NaN</td>\n",
       "      <td>NaN</td>\n",
       "      <td>NaN</td>\n",
       "      <td>NaN</td>\n",
       "      <td>True</td>\n",
       "      <td>NaN</td>\n",
       "      <td>NaN</td>\n",
       "    </tr>\n",
       "    <tr>\n",
       "      <th>2</th>\n",
       "      <td>NaN</td>\n",
       "      <td>NaN</td>\n",
       "      <td>NaN</td>\n",
       "      <td>NaN</td>\n",
       "      <td>NaN</td>\n",
       "      <td>NaN</td>\n",
       "      <td>NaN</td>\n",
       "      <td>True</td>\n",
       "      <td>NaN</td>\n",
       "      <td>NaN</td>\n",
       "    </tr>\n",
       "    <tr>\n",
       "      <th>3</th>\n",
       "      <td>NaN</td>\n",
       "      <td>NaN</td>\n",
       "      <td>NaN</td>\n",
       "      <td>NaN</td>\n",
       "      <td>NaN</td>\n",
       "      <td>NaN</td>\n",
       "      <td>NaN</td>\n",
       "      <td>True</td>\n",
       "      <td>NaN</td>\n",
       "      <td>NaN</td>\n",
       "    </tr>\n",
       "    <tr>\n",
       "      <th>4</th>\n",
       "      <td>NaN</td>\n",
       "      <td>extendedconfirmed</td>\n",
       "      <td>NaN</td>\n",
       "      <td>NaN</td>\n",
       "      <td>False</td>\n",
       "      <td>False</td>\n",
       "      <td>False</td>\n",
       "      <td>False</td>\n",
       "      <td>NaN</td>\n",
       "      <td>NaN</td>\n",
       "    </tr>\n",
       "  </tbody>\n",
       "</table>\n",
       "</div>"
      ],
      "text/plain": [
       "  event_user_groups_historical  event_user_groups  \\\n",
       "0                          NaN                NaN   \n",
       "1                          NaN                NaN   \n",
       "2                          NaN                NaN   \n",
       "3                          NaN                NaN   \n",
       "4                          NaN  extendedconfirmed   \n",
       "\n",
       "  event_user_is_bot_by_historical event_user_is_bot_by  \\\n",
       "0                             NaN                  NaN   \n",
       "1                             NaN                  NaN   \n",
       "2                             NaN                  NaN   \n",
       "3                             NaN                  NaN   \n",
       "4                             NaN                  NaN   \n",
       "\n",
       "  event_user_is_created_by_self event_user_is_created_by_system  \\\n",
       "0                           NaN                             NaN   \n",
       "1                           NaN                             NaN   \n",
       "2                           NaN                             NaN   \n",
       "3                           NaN                             NaN   \n",
       "4                         False                           False   \n",
       "\n",
       "  event_user_is_created_by_peer  event_user_is_anonymous  \\\n",
       "0                           NaN                     True   \n",
       "1                           NaN                     True   \n",
       "2                           NaN                     True   \n",
       "3                           NaN                     True   \n",
       "4                         False                    False   \n",
       "\n",
       "  event_user_registration_timestamp event_user_creation_timestamp  \n",
       "0                               NaN                           NaN  \n",
       "1                               NaN                           NaN  \n",
       "2                               NaN                           NaN  \n",
       "3                               NaN                           NaN  \n",
       "4                               NaN                           NaN  "
      ]
     },
     "execution_count": 10,
     "metadata": {},
     "output_type": "execute_result"
    }
   ],
   "source": [
    "head.iloc[:5,10:20]"
   ]
  },
  {
   "cell_type": "code",
   "execution_count": 62,
   "id": "e6eebedf-e97e-4bbf-9e0d-4edbb573a13d",
   "metadata": {},
   "outputs": [
    {
     "data": {
      "text/html": [
       "<div>\n",
       "<style scoped>\n",
       "    .dataframe tbody tr th:only-of-type {\n",
       "        vertical-align: middle;\n",
       "    }\n",
       "\n",
       "    .dataframe tbody tr th {\n",
       "        vertical-align: top;\n",
       "    }\n",
       "\n",
       "    .dataframe thead th {\n",
       "        text-align: right;\n",
       "    }\n",
       "</style>\n",
       "<table border=\"1\" class=\"dataframe\">\n",
       "  <thead>\n",
       "    <tr style=\"text-align: right;\">\n",
       "      <th></th>\n",
       "      <th>event_user_first_edit_timestamp</th>\n",
       "      <th>event_user_revision_count</th>\n",
       "      <th>event_user_seconds_since_previous_revision</th>\n",
       "      <th>page_id</th>\n",
       "      <th>page_title_historical</th>\n",
       "      <th>page_title</th>\n",
       "      <th>page_namespace_historical</th>\n",
       "      <th>page_namespace_is_content_historical</th>\n",
       "      <th>page_namespace</th>\n",
       "      <th>page_namespace_is_content</th>\n",
       "    </tr>\n",
       "  </thead>\n",
       "  <tbody>\n",
       "    <tr>\n",
       "      <th>0</th>\n",
       "      <td>NaN</td>\n",
       "      <td>NaN</td>\n",
       "      <td>NaN</td>\n",
       "      <td>2414774</td>\n",
       "      <td>大間材木テレビ中継局</td>\n",
       "      <td>大間材木テレビ中継局</td>\n",
       "      <td>0</td>\n",
       "      <td>True</td>\n",
       "      <td>0</td>\n",
       "      <td>True</td>\n",
       "    </tr>\n",
       "    <tr>\n",
       "      <th>1</th>\n",
       "      <td>NaN</td>\n",
       "      <td>NaN</td>\n",
       "      <td>NaN</td>\n",
       "      <td>1185684</td>\n",
       "      <td>片貝中継局</td>\n",
       "      <td>片貝テレビ中継局</td>\n",
       "      <td>0</td>\n",
       "      <td>True</td>\n",
       "      <td>0</td>\n",
       "      <td>True</td>\n",
       "    </tr>\n",
       "    <tr>\n",
       "      <th>2</th>\n",
       "      <td>NaN</td>\n",
       "      <td>NaN</td>\n",
       "      <td>NaN</td>\n",
       "      <td>1202040</td>\n",
       "      <td>NHK三陸テレビ中継局</td>\n",
       "      <td>NHK三陸テレビ中継局</td>\n",
       "      <td>0</td>\n",
       "      <td>True</td>\n",
       "      <td>0</td>\n",
       "      <td>True</td>\n",
       "    </tr>\n",
       "    <tr>\n",
       "      <th>3</th>\n",
       "      <td>NaN</td>\n",
       "      <td>NaN</td>\n",
       "      <td>NaN</td>\n",
       "      <td>2078520</td>\n",
       "      <td>岩泉惣畑テレビ中継局</td>\n",
       "      <td>岩泉惣畑テレビ中継局</td>\n",
       "      <td>0</td>\n",
       "      <td>True</td>\n",
       "      <td>0</td>\n",
       "      <td>True</td>\n",
       "    </tr>\n",
       "    <tr>\n",
       "      <th>4</th>\n",
       "      <td>2004-10-09 14:57:01.0</td>\n",
       "      <td>25247.0</td>\n",
       "      <td>49.0</td>\n",
       "      <td>1414804</td>\n",
       "      <td>国鉄ホキ9500形貨車</td>\n",
       "      <td>国鉄ホキ9500形貨車</td>\n",
       "      <td>0</td>\n",
       "      <td>True</td>\n",
       "      <td>0</td>\n",
       "      <td>True</td>\n",
       "    </tr>\n",
       "  </tbody>\n",
       "</table>\n",
       "</div>"
      ],
      "text/plain": [
       "  event_user_first_edit_timestamp  event_user_revision_count  \\\n",
       "0                             NaN                        NaN   \n",
       "1                             NaN                        NaN   \n",
       "2                             NaN                        NaN   \n",
       "3                             NaN                        NaN   \n",
       "4           2004-10-09 14:57:01.0                    25247.0   \n",
       "\n",
       "   event_user_seconds_since_previous_revision  page_id page_title_historical  \\\n",
       "0                                         NaN  2414774            大間材木テレビ中継局   \n",
       "1                                         NaN  1185684                 片貝中継局   \n",
       "2                                         NaN  1202040           NHK三陸テレビ中継局   \n",
       "3                                         NaN  2078520            岩泉惣畑テレビ中継局   \n",
       "4                                        49.0  1414804           国鉄ホキ9500形貨車   \n",
       "\n",
       "    page_title  page_namespace_historical  \\\n",
       "0   大間材木テレビ中継局                          0   \n",
       "1     片貝テレビ中継局                          0   \n",
       "2  NHK三陸テレビ中継局                          0   \n",
       "3   岩泉惣畑テレビ中継局                          0   \n",
       "4  国鉄ホキ9500形貨車                          0   \n",
       "\n",
       "   page_namespace_is_content_historical  page_namespace  \\\n",
       "0                                  True               0   \n",
       "1                                  True               0   \n",
       "2                                  True               0   \n",
       "3                                  True               0   \n",
       "4                                  True               0   \n",
       "\n",
       "   page_namespace_is_content  \n",
       "0                       True  \n",
       "1                       True  \n",
       "2                       True  \n",
       "3                       True  \n",
       "4                       True  "
      ]
     },
     "execution_count": 62,
     "metadata": {},
     "output_type": "execute_result"
    }
   ],
   "source": [
    "head.iloc[:5,20:30]"
   ]
  },
  {
   "cell_type": "code",
   "execution_count": 61,
   "id": "27ba504e-a4bc-4955-a597-04539092fda7",
   "metadata": {},
   "outputs": [
    {
     "data": {
      "text/html": [
       "<div>\n",
       "<style scoped>\n",
       "    .dataframe tbody tr th:only-of-type {\n",
       "        vertical-align: middle;\n",
       "    }\n",
       "\n",
       "    .dataframe tbody tr th {\n",
       "        vertical-align: top;\n",
       "    }\n",
       "\n",
       "    .dataframe thead th {\n",
       "        text-align: right;\n",
       "    }\n",
       "</style>\n",
       "<table border=\"1\" class=\"dataframe\">\n",
       "  <thead>\n",
       "    <tr style=\"text-align: right;\">\n",
       "      <th></th>\n",
       "      <th>page_is_redirect</th>\n",
       "      <th>page_is_deleted</th>\n",
       "      <th>page_creation_timestamp</th>\n",
       "      <th>page_first_edit_timestamp</th>\n",
       "      <th>page_revision_count</th>\n",
       "      <th>page_seconds_since_previous_revision</th>\n",
       "      <th>user_id</th>\n",
       "      <th>user_text_historical</th>\n",
       "      <th>user_text</th>\n",
       "      <th>user_blocks_historical</th>\n",
       "    </tr>\n",
       "  </thead>\n",
       "  <tbody>\n",
       "    <tr>\n",
       "      <th>0</th>\n",
       "      <td>True</td>\n",
       "      <td>False</td>\n",
       "      <td>2011-08-23 15:00:28.0</td>\n",
       "      <td>2011-08-23 15:00:28.0</td>\n",
       "      <td>12</td>\n",
       "      <td>6771598</td>\n",
       "      <td>NaN</td>\n",
       "      <td>NaN</td>\n",
       "      <td>NaN</td>\n",
       "      <td>NaN</td>\n",
       "    </tr>\n",
       "    <tr>\n",
       "      <th>1</th>\n",
       "      <td>False</td>\n",
       "      <td>False</td>\n",
       "      <td>2007-10-08 03:33:18.0</td>\n",
       "      <td>2007-10-08 03:33:18.0</td>\n",
       "      <td>32</td>\n",
       "      <td>8974810</td>\n",
       "      <td>NaN</td>\n",
       "      <td>NaN</td>\n",
       "      <td>NaN</td>\n",
       "      <td>NaN</td>\n",
       "    </tr>\n",
       "    <tr>\n",
       "      <th>2</th>\n",
       "      <td>False</td>\n",
       "      <td>False</td>\n",
       "      <td>2007-10-21 01:19:51.0</td>\n",
       "      <td>2007-10-21 01:19:51.0</td>\n",
       "      <td>14</td>\n",
       "      <td>23793706</td>\n",
       "      <td>NaN</td>\n",
       "      <td>NaN</td>\n",
       "      <td>NaN</td>\n",
       "      <td>NaN</td>\n",
       "    </tr>\n",
       "    <tr>\n",
       "      <th>3</th>\n",
       "      <td>False</td>\n",
       "      <td>False</td>\n",
       "      <td>2010-05-02 14:04:34.0</td>\n",
       "      <td>2010-05-02 14:04:34.0</td>\n",
       "      <td>11</td>\n",
       "      <td>389</td>\n",
       "      <td>NaN</td>\n",
       "      <td>NaN</td>\n",
       "      <td>NaN</td>\n",
       "      <td>NaN</td>\n",
       "    </tr>\n",
       "    <tr>\n",
       "      <th>4</th>\n",
       "      <td>False</td>\n",
       "      <td>False</td>\n",
       "      <td>2008-04-14 11:48:50.0</td>\n",
       "      <td>2008-04-14 11:48:50.0</td>\n",
       "      <td>44</td>\n",
       "      <td>341692</td>\n",
       "      <td>NaN</td>\n",
       "      <td>NaN</td>\n",
       "      <td>NaN</td>\n",
       "      <td>NaN</td>\n",
       "    </tr>\n",
       "  </tbody>\n",
       "</table>\n",
       "</div>"
      ],
      "text/plain": [
       "   page_is_redirect  page_is_deleted page_creation_timestamp  \\\n",
       "0              True            False   2011-08-23 15:00:28.0   \n",
       "1             False            False   2007-10-08 03:33:18.0   \n",
       "2             False            False   2007-10-21 01:19:51.0   \n",
       "3             False            False   2010-05-02 14:04:34.0   \n",
       "4             False            False   2008-04-14 11:48:50.0   \n",
       "\n",
       "  page_first_edit_timestamp  page_revision_count  \\\n",
       "0     2011-08-23 15:00:28.0                   12   \n",
       "1     2007-10-08 03:33:18.0                   32   \n",
       "2     2007-10-21 01:19:51.0                   14   \n",
       "3     2010-05-02 14:04:34.0                   11   \n",
       "4     2008-04-14 11:48:50.0                   44   \n",
       "\n",
       "   page_seconds_since_previous_revision  user_id  user_text_historical  \\\n",
       "0                               6771598      NaN                   NaN   \n",
       "1                               8974810      NaN                   NaN   \n",
       "2                              23793706      NaN                   NaN   \n",
       "3                                   389      NaN                   NaN   \n",
       "4                                341692      NaN                   NaN   \n",
       "\n",
       "   user_text  user_blocks_historical  \n",
       "0        NaN                     NaN  \n",
       "1        NaN                     NaN  \n",
       "2        NaN                     NaN  \n",
       "3        NaN                     NaN  \n",
       "4        NaN                     NaN  "
      ]
     },
     "execution_count": 61,
     "metadata": {},
     "output_type": "execute_result"
    }
   ],
   "source": [
    "head.iloc[:5,30:40]"
   ]
  },
  {
   "cell_type": "code",
   "execution_count": 60,
   "id": "fe7bf0b3-88ac-4e06-ad5a-b88db600eba9",
   "metadata": {},
   "outputs": [
    {
     "data": {
      "text/html": [
       "<div>\n",
       "<style scoped>\n",
       "    .dataframe tbody tr th:only-of-type {\n",
       "        vertical-align: middle;\n",
       "    }\n",
       "\n",
       "    .dataframe tbody tr th {\n",
       "        vertical-align: top;\n",
       "    }\n",
       "\n",
       "    .dataframe thead th {\n",
       "        text-align: right;\n",
       "    }\n",
       "</style>\n",
       "<table border=\"1\" class=\"dataframe\">\n",
       "  <thead>\n",
       "    <tr style=\"text-align: right;\">\n",
       "      <th></th>\n",
       "      <th>user_blocks</th>\n",
       "      <th>user_groups_historical</th>\n",
       "      <th>user_groups</th>\n",
       "      <th>user_is_bot_by_historical</th>\n",
       "      <th>user_is_bot_by</th>\n",
       "      <th>user_is_created_by_self</th>\n",
       "      <th>user_is_created_by_system</th>\n",
       "      <th>user_is_created_by_peer</th>\n",
       "      <th>user_is_anonymous</th>\n",
       "      <th>user_registration_timestamp</th>\n",
       "    </tr>\n",
       "  </thead>\n",
       "  <tbody>\n",
       "    <tr>\n",
       "      <th>0</th>\n",
       "      <td>NaN</td>\n",
       "      <td>NaN</td>\n",
       "      <td>NaN</td>\n",
       "      <td>NaN</td>\n",
       "      <td>NaN</td>\n",
       "      <td>NaN</td>\n",
       "      <td>NaN</td>\n",
       "      <td>NaN</td>\n",
       "      <td>NaN</td>\n",
       "      <td>NaN</td>\n",
       "    </tr>\n",
       "    <tr>\n",
       "      <th>1</th>\n",
       "      <td>NaN</td>\n",
       "      <td>NaN</td>\n",
       "      <td>NaN</td>\n",
       "      <td>NaN</td>\n",
       "      <td>NaN</td>\n",
       "      <td>NaN</td>\n",
       "      <td>NaN</td>\n",
       "      <td>NaN</td>\n",
       "      <td>NaN</td>\n",
       "      <td>NaN</td>\n",
       "    </tr>\n",
       "    <tr>\n",
       "      <th>2</th>\n",
       "      <td>NaN</td>\n",
       "      <td>NaN</td>\n",
       "      <td>NaN</td>\n",
       "      <td>NaN</td>\n",
       "      <td>NaN</td>\n",
       "      <td>NaN</td>\n",
       "      <td>NaN</td>\n",
       "      <td>NaN</td>\n",
       "      <td>NaN</td>\n",
       "      <td>NaN</td>\n",
       "    </tr>\n",
       "    <tr>\n",
       "      <th>3</th>\n",
       "      <td>NaN</td>\n",
       "      <td>NaN</td>\n",
       "      <td>NaN</td>\n",
       "      <td>NaN</td>\n",
       "      <td>NaN</td>\n",
       "      <td>NaN</td>\n",
       "      <td>NaN</td>\n",
       "      <td>NaN</td>\n",
       "      <td>NaN</td>\n",
       "      <td>NaN</td>\n",
       "    </tr>\n",
       "    <tr>\n",
       "      <th>4</th>\n",
       "      <td>NaN</td>\n",
       "      <td>NaN</td>\n",
       "      <td>NaN</td>\n",
       "      <td>NaN</td>\n",
       "      <td>NaN</td>\n",
       "      <td>NaN</td>\n",
       "      <td>NaN</td>\n",
       "      <td>NaN</td>\n",
       "      <td>NaN</td>\n",
       "      <td>NaN</td>\n",
       "    </tr>\n",
       "  </tbody>\n",
       "</table>\n",
       "</div>"
      ],
      "text/plain": [
       "   user_blocks  user_groups_historical  user_groups  \\\n",
       "0          NaN                     NaN          NaN   \n",
       "1          NaN                     NaN          NaN   \n",
       "2          NaN                     NaN          NaN   \n",
       "3          NaN                     NaN          NaN   \n",
       "4          NaN                     NaN          NaN   \n",
       "\n",
       "   user_is_bot_by_historical  user_is_bot_by  user_is_created_by_self  \\\n",
       "0                        NaN             NaN                      NaN   \n",
       "1                        NaN             NaN                      NaN   \n",
       "2                        NaN             NaN                      NaN   \n",
       "3                        NaN             NaN                      NaN   \n",
       "4                        NaN             NaN                      NaN   \n",
       "\n",
       "   user_is_created_by_system  user_is_created_by_peer  user_is_anonymous  \\\n",
       "0                        NaN                      NaN                NaN   \n",
       "1                        NaN                      NaN                NaN   \n",
       "2                        NaN                      NaN                NaN   \n",
       "3                        NaN                      NaN                NaN   \n",
       "4                        NaN                      NaN                NaN   \n",
       "\n",
       "   user_registration_timestamp  \n",
       "0                          NaN  \n",
       "1                          NaN  \n",
       "2                          NaN  \n",
       "3                          NaN  \n",
       "4                          NaN  "
      ]
     },
     "execution_count": 60,
     "metadata": {},
     "output_type": "execute_result"
    }
   ],
   "source": [
    "head.iloc[:5,40:50]"
   ]
  },
  {
   "cell_type": "code",
   "execution_count": 59,
   "id": "c797e091-faa6-4685-bd02-e56f3e85e3d0",
   "metadata": {},
   "outputs": [
    {
     "data": {
      "text/html": [
       "<div>\n",
       "<style scoped>\n",
       "    .dataframe tbody tr th:only-of-type {\n",
       "        vertical-align: middle;\n",
       "    }\n",
       "\n",
       "    .dataframe tbody tr th {\n",
       "        vertical-align: top;\n",
       "    }\n",
       "\n",
       "    .dataframe thead th {\n",
       "        text-align: right;\n",
       "    }\n",
       "</style>\n",
       "<table border=\"1\" class=\"dataframe\">\n",
       "  <thead>\n",
       "    <tr style=\"text-align: right;\">\n",
       "      <th></th>\n",
       "      <th>user_creation_timestamp</th>\n",
       "      <th>user_first_edit_timestamp</th>\n",
       "      <th>revision_id</th>\n",
       "      <th>revision_parent_id</th>\n",
       "      <th>revision_minor_edit</th>\n",
       "      <th>revision_deleted_parts</th>\n",
       "      <th>revision_deleted_parts_are_suppressed</th>\n",
       "      <th>revision_text_bytes</th>\n",
       "      <th>revision_text_bytes_diff</th>\n",
       "      <th>revision_text_sha1</th>\n",
       "    </tr>\n",
       "  </thead>\n",
       "  <tbody>\n",
       "    <tr>\n",
       "      <th>0</th>\n",
       "      <td>NaN</td>\n",
       "      <td>NaN</td>\n",
       "      <td>45611822</td>\n",
       "      <td>44596655</td>\n",
       "      <td>False</td>\n",
       "      <td>NaN</td>\n",
       "      <td>False</td>\n",
       "      <td>3283</td>\n",
       "      <td>-1</td>\n",
       "      <td>h5njsxb8189dwoab2z5uh3wvsvn3dh0</td>\n",
       "    </tr>\n",
       "    <tr>\n",
       "      <th>1</th>\n",
       "      <td>NaN</td>\n",
       "      <td>NaN</td>\n",
       "      <td>45611823</td>\n",
       "      <td>44232137</td>\n",
       "      <td>False</td>\n",
       "      <td>NaN</td>\n",
       "      <td>False</td>\n",
       "      <td>3877</td>\n",
       "      <td>-16</td>\n",
       "      <td>hwp0qzjrb7a9qp46qbcii8qnk9aie2e</td>\n",
       "    </tr>\n",
       "    <tr>\n",
       "      <th>2</th>\n",
       "      <td>NaN</td>\n",
       "      <td>NaN</td>\n",
       "      <td>45611824</td>\n",
       "      <td>41882385</td>\n",
       "      <td>False</td>\n",
       "      <td>NaN</td>\n",
       "      <td>False</td>\n",
       "      <td>2325</td>\n",
       "      <td>12</td>\n",
       "      <td>rc01e5nzqdiqret0snpjqeqfwghpb9l</td>\n",
       "    </tr>\n",
       "    <tr>\n",
       "      <th>3</th>\n",
       "      <td>NaN</td>\n",
       "      <td>NaN</td>\n",
       "      <td>45611825</td>\n",
       "      <td>45611800</td>\n",
       "      <td>False</td>\n",
       "      <td>NaN</td>\n",
       "      <td>False</td>\n",
       "      <td>2147</td>\n",
       "      <td>1</td>\n",
       "      <td>hm3lj6sslfo2uy9ylvklty2i1pqnzyw</td>\n",
       "    </tr>\n",
       "    <tr>\n",
       "      <th>4</th>\n",
       "      <td>NaN</td>\n",
       "      <td>NaN</td>\n",
       "      <td>45611826</td>\n",
       "      <td>45554142</td>\n",
       "      <td>True</td>\n",
       "      <td>NaN</td>\n",
       "      <td>False</td>\n",
       "      <td>5080</td>\n",
       "      <td>-6</td>\n",
       "      <td>row3mb36wjvy2towqpqz2dlisf5y2fz</td>\n",
       "    </tr>\n",
       "  </tbody>\n",
       "</table>\n",
       "</div>"
      ],
      "text/plain": [
       "   user_creation_timestamp  user_first_edit_timestamp  revision_id  \\\n",
       "0                      NaN                        NaN     45611822   \n",
       "1                      NaN                        NaN     45611823   \n",
       "2                      NaN                        NaN     45611824   \n",
       "3                      NaN                        NaN     45611825   \n",
       "4                      NaN                        NaN     45611826   \n",
       "\n",
       "   revision_parent_id  revision_minor_edit  revision_deleted_parts  \\\n",
       "0            44596655                False                     NaN   \n",
       "1            44232137                False                     NaN   \n",
       "2            41882385                False                     NaN   \n",
       "3            45611800                False                     NaN   \n",
       "4            45554142                 True                     NaN   \n",
       "\n",
       "   revision_deleted_parts_are_suppressed  revision_text_bytes  \\\n",
       "0                                  False                 3283   \n",
       "1                                  False                 3877   \n",
       "2                                  False                 2325   \n",
       "3                                  False                 2147   \n",
       "4                                  False                 5080   \n",
       "\n",
       "   revision_text_bytes_diff               revision_text_sha1  \n",
       "0                        -1  h5njsxb8189dwoab2z5uh3wvsvn3dh0  \n",
       "1                       -16  hwp0qzjrb7a9qp46qbcii8qnk9aie2e  \n",
       "2                        12  rc01e5nzqdiqret0snpjqeqfwghpb9l  \n",
       "3                         1  hm3lj6sslfo2uy9ylvklty2i1pqnzyw  \n",
       "4                        -6  row3mb36wjvy2towqpqz2dlisf5y2fz  "
      ]
     },
     "execution_count": 59,
     "metadata": {},
     "output_type": "execute_result"
    }
   ],
   "source": [
    "head.iloc[:5,50:60]"
   ]
  },
  {
   "cell_type": "code",
   "execution_count": 58,
   "id": "40b7cbd0-e5bd-4ccc-9885-4c2c0f586060",
   "metadata": {},
   "outputs": [
    {
     "data": {
      "text/html": [
       "<div>\n",
       "<style scoped>\n",
       "    .dataframe tbody tr th:only-of-type {\n",
       "        vertical-align: middle;\n",
       "    }\n",
       "\n",
       "    .dataframe tbody tr th {\n",
       "        vertical-align: top;\n",
       "    }\n",
       "\n",
       "    .dataframe thead th {\n",
       "        text-align: right;\n",
       "    }\n",
       "</style>\n",
       "<table border=\"1\" class=\"dataframe\">\n",
       "  <thead>\n",
       "    <tr style=\"text-align: right;\">\n",
       "      <th></th>\n",
       "      <th>revision_content_model</th>\n",
       "      <th>revision_content_format</th>\n",
       "      <th>revision_is_deleted_by_page_deletion</th>\n",
       "      <th>revision_deleted_by_page_deletion_timestamp</th>\n",
       "      <th>revision_is_identity_reverted</th>\n",
       "      <th>revision_first_identity_reverting_revision_id</th>\n",
       "      <th>revision_seconds_to_identity_revert</th>\n",
       "      <th>revision_is_identity_revert</th>\n",
       "      <th>revision_is_from_before_page_creation</th>\n",
       "      <th>revision_tags</th>\n",
       "    </tr>\n",
       "  </thead>\n",
       "  <tbody>\n",
       "    <tr>\n",
       "      <th>0</th>\n",
       "      <td>NaN</td>\n",
       "      <td>NaN</td>\n",
       "      <td>False</td>\n",
       "      <td>NaN</td>\n",
       "      <td>False</td>\n",
       "      <td>NaN</td>\n",
       "      <td>NaN</td>\n",
       "      <td>False</td>\n",
       "      <td>False</td>\n",
       "      <td>NaN</td>\n",
       "    </tr>\n",
       "    <tr>\n",
       "      <th>1</th>\n",
       "      <td>NaN</td>\n",
       "      <td>NaN</td>\n",
       "      <td>False</td>\n",
       "      <td>NaN</td>\n",
       "      <td>False</td>\n",
       "      <td>NaN</td>\n",
       "      <td>NaN</td>\n",
       "      <td>False</td>\n",
       "      <td>False</td>\n",
       "      <td>NaN</td>\n",
       "    </tr>\n",
       "    <tr>\n",
       "      <th>2</th>\n",
       "      <td>NaN</td>\n",
       "      <td>NaN</td>\n",
       "      <td>False</td>\n",
       "      <td>NaN</td>\n",
       "      <td>False</td>\n",
       "      <td>NaN</td>\n",
       "      <td>NaN</td>\n",
       "      <td>False</td>\n",
       "      <td>False</td>\n",
       "      <td>NaN</td>\n",
       "    </tr>\n",
       "    <tr>\n",
       "      <th>3</th>\n",
       "      <td>NaN</td>\n",
       "      <td>NaN</td>\n",
       "      <td>False</td>\n",
       "      <td>NaN</td>\n",
       "      <td>False</td>\n",
       "      <td>NaN</td>\n",
       "      <td>NaN</td>\n",
       "      <td>True</td>\n",
       "      <td>False</td>\n",
       "      <td>NaN</td>\n",
       "    </tr>\n",
       "    <tr>\n",
       "      <th>4</th>\n",
       "      <td>NaN</td>\n",
       "      <td>NaN</td>\n",
       "      <td>False</td>\n",
       "      <td>NaN</td>\n",
       "      <td>False</td>\n",
       "      <td>NaN</td>\n",
       "      <td>NaN</td>\n",
       "      <td>False</td>\n",
       "      <td>False</td>\n",
       "      <td>NaN</td>\n",
       "    </tr>\n",
       "  </tbody>\n",
       "</table>\n",
       "</div>"
      ],
      "text/plain": [
       "   revision_content_model  revision_content_format  \\\n",
       "0                     NaN                      NaN   \n",
       "1                     NaN                      NaN   \n",
       "2                     NaN                      NaN   \n",
       "3                     NaN                      NaN   \n",
       "4                     NaN                      NaN   \n",
       "\n",
       "   revision_is_deleted_by_page_deletion  \\\n",
       "0                                 False   \n",
       "1                                 False   \n",
       "2                                 False   \n",
       "3                                 False   \n",
       "4                                 False   \n",
       "\n",
       "   revision_deleted_by_page_deletion_timestamp  revision_is_identity_reverted  \\\n",
       "0                                          NaN                          False   \n",
       "1                                          NaN                          False   \n",
       "2                                          NaN                          False   \n",
       "3                                          NaN                          False   \n",
       "4                                          NaN                          False   \n",
       "\n",
       "   revision_first_identity_reverting_revision_id  \\\n",
       "0                                            NaN   \n",
       "1                                            NaN   \n",
       "2                                            NaN   \n",
       "3                                            NaN   \n",
       "4                                            NaN   \n",
       "\n",
       "   revision_seconds_to_identity_revert  revision_is_identity_revert  \\\n",
       "0                                  NaN                        False   \n",
       "1                                  NaN                        False   \n",
       "2                                  NaN                        False   \n",
       "3                                  NaN                         True   \n",
       "4                                  NaN                        False   \n",
       "\n",
       "   revision_is_from_before_page_creation  revision_tags  \n",
       "0                                  False            NaN  \n",
       "1                                  False            NaN  \n",
       "2                                  False            NaN  \n",
       "3                                  False            NaN  \n",
       "4                                  False            NaN  "
      ]
     },
     "execution_count": 58,
     "metadata": {},
     "output_type": "execute_result"
    }
   ],
   "source": [
    "head.iloc[:5,60:70]"
   ]
  },
  {
   "cell_type": "code",
   "execution_count": 57,
   "id": "c30734e6-3a9b-448d-92e1-b26afeeb22bc",
   "metadata": {},
   "outputs": [
    {
     "data": {
      "text/html": [
       "<div>\n",
       "<style scoped>\n",
       "    .dataframe tbody tr th:only-of-type {\n",
       "        vertical-align: middle;\n",
       "    }\n",
       "\n",
       "    .dataframe tbody tr th {\n",
       "        vertical-align: top;\n",
       "    }\n",
       "\n",
       "    .dataframe thead th {\n",
       "        text-align: right;\n",
       "    }\n",
       "</style>\n",
       "<table border=\"1\" class=\"dataframe\">\n",
       "  <thead>\n",
       "    <tr style=\"text-align: right;\">\n",
       "      <th></th>\n",
       "      <th>snapshot</th>\n",
       "    </tr>\n",
       "  </thead>\n",
       "  <tbody>\n",
       "    <tr>\n",
       "      <th>0</th>\n",
       "      <td>NaN</td>\n",
       "    </tr>\n",
       "    <tr>\n",
       "      <th>1</th>\n",
       "      <td>NaN</td>\n",
       "    </tr>\n",
       "    <tr>\n",
       "      <th>2</th>\n",
       "      <td>NaN</td>\n",
       "    </tr>\n",
       "    <tr>\n",
       "      <th>3</th>\n",
       "      <td>NaN</td>\n",
       "    </tr>\n",
       "    <tr>\n",
       "      <th>4</th>\n",
       "      <td>NaN</td>\n",
       "    </tr>\n",
       "  </tbody>\n",
       "</table>\n",
       "</div>"
      ],
      "text/plain": [
       "   snapshot\n",
       "0       NaN\n",
       "1       NaN\n",
       "2       NaN\n",
       "3       NaN\n",
       "4       NaN"
      ]
     },
     "execution_count": 57,
     "metadata": {},
     "output_type": "execute_result"
    }
   ],
   "source": [
    "head.iloc[:5,70:]"
   ]
  },
  {
   "cell_type": "markdown",
   "id": "709cb5ef-c481-42c4-8394-4290d71b916c",
   "metadata": {
    "tags": []
   },
   "source": [
    "## go"
   ]
  },
  {
   "cell_type": "markdown",
   "id": "ece31a42-c8bf-405e-8533-f36452f48bcb",
   "metadata": {
    "tags": []
   },
   "source": [
    "### split file so I can run csvsql to generate schema script"
   ]
  },
  {
   "cell_type": "markdown",
   "id": "86e62bc0-b8e6-4e50-b7dd-fa6ca35510ac",
   "metadata": {},
   "source": [
    "schema reference from mediawiki: ([link](https://wikitech.wikimedia.org/wiki/Analytics/Data_Lake/Edits/MediaWiki_history#Schema))  \n",
    "(incomplete reference for mariadb etc)"
   ]
  },
  {
   "cell_type": "markdown",
   "id": "23c2cb9c-03a6-4953-84e7-4f1af1ef5e88",
   "metadata": {
    "jp-MarkdownHeadingCollapsed": true,
    "tags": []
   },
   "source": [
    "#### copy 500 rows of the tsv"
   ]
  },
  {
   "cell_type": "code",
   "execution_count": 181,
   "id": "907abef6-5e68-47f1-a805-247729d0c0a9",
   "metadata": {},
   "outputs": [
    {
     "name": "stdout",
     "output_type": "stream",
     "text": [
      "500\n"
     ]
    }
   ],
   "source": [
    "ct = 0\n",
    "with open(datapath+'2021-12.jawiki.2013.tsv', 'r') as infile:\n",
    "    with open('/home/bhrdwj/git/predwikt/data/processed/scratch_for_schema.tsv', 'w+') as outfile:\n",
    "        while ct < 5*10**2:\n",
    "            outfile.write(infile.readline())\n",
    "            ct += 1\n",
    "print(ct)"
   ]
  },
  {
   "cell_type": "markdown",
   "id": "28b20987-1f83-4537-ac95-8f7833c60f4f",
   "metadata": {
    "jp-MarkdownHeadingCollapsed": true,
    "tags": []
   },
   "source": [
    "#### confirm the rows were copied"
   ]
  },
  {
   "cell_type": "code",
   "execution_count": 182,
   "id": "33745bfb-3a20-4eb1-922a-a33eaefc11f8",
   "metadata": {},
   "outputs": [
    {
     "name": "stdout",
     "output_type": "stream",
     "text": [
      "500\n"
     ]
    }
   ],
   "source": [
    "ct = 0\n",
    "with open('/home/bhrdwj/git/predwikt/data/processed/scratch_for_schema.tsv', 'r') as file:\n",
    "    for line in file:\n",
    "        ct += 1\n",
    "print(ct)"
   ]
  },
  {
   "cell_type": "markdown",
   "id": "19ca8d95-c98b-4414-b66c-bd8ca53c17fb",
   "metadata": {
    "jp-MarkdownHeadingCollapsed": true,
    "tags": []
   },
   "source": [
    "#### hand-edited query"
   ]
  },
  {
   "cell_type": "code",
   "execution_count": 31,
   "id": "95898c25-3542-4128-b1e5-2204ae2ffaf9",
   "metadata": {},
   "outputs": [],
   "source": [
    "make_history_table = \"\"\"\n",
    "CREATE TABLE ja_hist (\t\n",
    "wiki_db\tVARCHAR(20) NOT NULL,\n",
    "event_entity\tVARCHAR(20) NOT NULL,\n",
    "event_type\tVARCHAR(20) NOT NULL,\n",
    "event_timestamp\tVARCHAR(30) NOT NULL,\n",
    "event_comment\tTEXT,\n",
    "event_user_id\tBIGINT,\n",
    "event_user_text_historical\tVARCHAR(80),\n",
    "event_user_text\tVARCHAR(80),\n",
    "event_user_blocks_historical\tVARCHAR(30),\n",
    "event_user_blocks\tVARCHAR(60),\n",
    "event_user_groups_historical\tVARCHAR(60),\n",
    "event_user_groups\tVARCHAR(200),\n",
    "event_user_is_bot_by_historical\tVARCHAR(10),\n",
    "event_user_is_bot_by\tVARCHAR(10),\n",
    "event_user_is_created_by_self\tBOOL,\n",
    "event_user_is_created_by_system\tBOOL,\n",
    "event_user_is_created_by_peer\tBOOL,\n",
    "event_user_is_anonymous\tBOOL,\n",
    "event_user_registration_timestamp\tVARCHAR(30),\n",
    "event_user_creation_timestamp\tVARCHAR(30),\n",
    "event_user_first_edit_timestamp\tVARCHAR(30),\n",
    "event_user_revision_count\tBIGINT,\n",
    "event_user_seconds_since_previous_revision\tBIGINT,\n",
    "page_id\tBIGINT,\n",
    "page_title_historical\tVARCHAR(200),\n",
    "page_title\tVARCHAR(200),\n",
    "page_namespace_historical\tINT,\n",
    "page_namespace_is_content_historical\tBOOL,\n",
    "page_namespace\tINT,\n",
    "page_namespace_is_content\tBOOL,\n",
    "page_is_redirect\tBOOL,\n",
    "page_is_deleted\tBOOL,\n",
    "page_creation_timestamp\tVARCHAR(30),\n",
    "page_first_edit_timestamp\tVARCHAR(30),\n",
    "page_revision_count\tBIGINT,\n",
    "page_seconds_since_previous_revision\tBIGINT,\n",
    "user_id\tBIGINT,\n",
    "user_text_historical\tVARCHAR(100),\n",
    "user_text\tVARCHAR(100),\n",
    "user_blocks_historical\tVARCHAR(50),\n",
    "user_blocks\tVARCHAR(50),\n",
    "user_groups_historical\tVARCHAR(50),\n",
    "user_groups\tVARCHAR(50),\n",
    "user_is_bot_by_historical\tVARCHAR(50),\n",
    "user_is_bot_by\tVARCHAR(50),\n",
    "user_is_created_by_self\tBOOL,\n",
    "user_is_created_by_system\tBOOL,\n",
    "user_is_created_by_peer\tBOOL,\n",
    "user_is_anonymous\tBOOL,\n",
    "user_registration_timestamp\tVARCHAR(30),\n",
    "user_creation_timestamp\tVARCHAR(30),\n",
    "user_first_edit_timestamp\tVARCHAR(30),\n",
    "revision_id\tBIGINT,\n",
    "revision_parent_id\tBIGINT,\n",
    "revision_minor_edit\tBOOL,\n",
    "revision_deleted_parts\tVARCHAR(30),\n",
    "revision_deleted_parts_are_suppressed\tBOOL,\n",
    "revision_text_bytes\tBIGINT,\n",
    "revision_text_bytes_diff\tBIGINT,\n",
    "revision_text_sha1\tVARCHAR(50),\n",
    "revision_content_model\tBOOL,\n",
    "revision_content_format\tBOOL,\n",
    "revision_is_deleted_by_page_deletion\tBOOL,\n",
    "revision_deleted_by_page_deletion_timestamp\tVARCHAR(30),\n",
    "revision_is_identity_reverted\tBOOL,\n",
    "revision_first_identity_reverting_revision_id\tBIGINT,\n",
    "revision_seconds_to_identity_revert\tBIGINT,\n",
    "revision_is_identity_revert\tBOOL,\n",
    "revision_is_from_before_page_creation\tBOOL,\n",
    "revision_tags\tVARCHAR(50),\n",
    "row_id   BIGINT NOT NULL AUTO_INCREMENT,\n",
    "PRIMARY KEY (row_id)\n",
    ");\n",
    "\"\"\""
   ]
  },
  {
   "cell_type": "markdown",
   "id": "9075eb53-48ca-4789-841b-2c0758b35f09",
   "metadata": {},
   "source": [
    "### create table ja_hist"
   ]
  },
  {
   "cell_type": "markdown",
   "id": "e60c666b-dba5-4df2-baad-ac807dbf34f5",
   "metadata": {},
   "source": [
    "#### imports, login"
   ]
  },
  {
   "cell_type": "code",
   "execution_count": 12,
   "id": "9c8835b6-1b89-4fc4-a5e7-288b03f0529f",
   "metadata": {},
   "outputs": [],
   "source": [
    "import mysql.connector as mysql\n",
    "import sqlalchemy"
   ]
  },
  {
   "cell_type": "markdown",
   "id": "cc3355f6-011c-48ee-8f6f-de528a365ad9",
   "metadata": {},
   "source": [
    "```bash\n",
    "mysql --user=root --password=XXXXXXXX\n",
    "```\n",
    "\n",
    "```sql\n",
    "CREATE DATABASE ja_hist CHARACTER SET utf8 COLLATE utf8_bin;\n",
    "USE jawiki;\n",
    "GRANT ALL PRIVILEGES ON ja_hist TO bhrdwj@localhost IDENTIFIED BY XXXXXXX;\n",
    "GRANT ALL PRIVILEGES ON ja_hist.* TO bhrdwj@localhost IDENTIFIED BY XXXXXXX;\n",
    "EXIT\n",
    "```"
   ]
  },
  {
   "cell_type": "code",
   "execution_count": 14,
   "id": "3af3a215-2d80-4bc0-9395-70fea8e1cad2",
   "metadata": {},
   "outputs": [],
   "source": [
    "mysql_superuser = 'root'\n",
    "# mysql_su_pass = input(f'Enter the MySQL password for user {mysql_superuser}: ')"
   ]
  },
  {
   "cell_type": "markdown",
   "id": "36a34ba0-3017-41c3-9dcd-01eef49acc38",
   "metadata": {},
   "source": [
    "#### connect to database"
   ]
  },
  {
   "cell_type": "code",
   "execution_count": 15,
   "id": "c82fbefe-1c73-4cf0-9587-e6a9ebdb1e6b",
   "metadata": {},
   "outputs": [
    {
     "data": {
      "text/plain": [
       "dict_keys(['ja_hist'])"
      ]
     },
     "execution_count": 15,
     "metadata": {},
     "output_type": "execute_result"
    }
   ],
   "source": [
    "host='localhost'; user=mysql_superuser; passwd=mysql_su_pass; dbname='ja_hist';\n",
    "cxn = mysql.connect(host=host,user=user,passwd=passwd, database=dbname)\n",
    "cur = cxn.cursor()\n",
    "\n",
    "connection_str = 'mysql+mysqlconnector://'+user+':'+passwd+'@'+host+'/'+dbname  # removed this after host +':'+dbport\n",
    "try:\n",
    "    engine1 = sqlalchemy.create_engine(connection_str)\n",
    "    conn1 = engine1.connect()\n",
    "except:\n",
    "    print('Database connection error - check creds')\n",
    "metadata = sqlalchemy.MetaData(conn1)\n",
    "metadata.reflect()\n",
    "metadata.tables.keys()"
   ]
  },
  {
   "cell_type": "markdown",
   "id": "9a19a422-6df0-4970-a5fd-61a4a4690fee",
   "metadata": {},
   "source": [
    "#### create table with schema"
   ]
  },
  {
   "cell_type": "code",
   "execution_count": 16,
   "id": "280e8ee6-87f1-4117-9285-2e4c62c18103",
   "metadata": {},
   "outputs": [
    {
     "data": {
      "text/plain": [
       "<sqlalchemy.engine.cursor.LegacyCursorResult at 0x7f816ac05fa0>"
      ]
     },
     "execution_count": 16,
     "metadata": {},
     "output_type": "execute_result"
    }
   ],
   "source": [
    "conn1.execute('DROP TABLE IF EXISTS ja_hist;')\n",
    "conn1.execute(make_history_table)"
   ]
  },
  {
   "cell_type": "code",
   "execution_count": 19,
   "id": "deda86d9-8051-419b-9cd8-2aa0e2d32c16",
   "metadata": {},
   "outputs": [],
   "source": [
    "a = conn1.execute('describe ja_hist;')\n",
    "a.all();"
   ]
  },
  {
   "cell_type": "markdown",
   "id": "279232b5-5f35-4d48-a248-4dafcb3663d6",
   "metadata": {},
   "source": [
    "### insert data"
   ]
  },
  {
   "cell_type": "markdown",
   "id": "295e46d8-e344-41da-9104-922455a59559",
   "metadata": {},
   "source": [
    "References:  \n",
    "([link 1](https://mariadb.com/kb/en/load-data-infile/))  \n",
    "([link 2](https://stackoverflow.com/questions/18437689/error-1148-the-used-command-is-not-allowed-with-this-mysql-version))\n",
    "\n",
    "```sql\n",
    "LOAD DATA INFILE 'ld.txt' INTO TABLE ld (@i,v) SET i=@i*2;\n",
    "```"
   ]
  },
  {
   "cell_type": "code",
   "execution_count": 22,
   "id": "5bfad218-04ee-4da1-a8d1-81b62d5dfb14",
   "metadata": {},
   "outputs": [],
   "source": [
    "load_data_sql = \"\"\"\n",
    "LOAD DATA LOCAL INFILE '/home/bhrdwj/git/predwikt/data/raw/jawiki/dumps_unzipped/2021-12.jawiki.2013.tsv'\n",
    "INTO TABLE ja_hist \n",
    "CHARACTER SET utf8mb4\n",
    "FIELDS TERMINATED BY \"\\t\";\n",
    "\"\"\""
   ]
  },
  {
   "cell_type": "raw",
   "id": "b99e5af7-3301-487e-a6a0-7ed012327798",
   "metadata": {},
   "source": [
    "load_data_sql = \"\"\"\n",
    "LOAD DATA LOCAL INFILE '/home/bhrdwj/git/predwikt/data/processed/scratch_for_schema.tsv'\n",
    "INTO TABLE ja_hist \n",
    "CHARACTER SET utf8mb4\n",
    "FIELDS TERMINATED BY \"\\t\";\n",
    "\"\"\""
   ]
  },
  {
   "cell_type": "code",
   "execution_count": 23,
   "id": "0e1bfd55-d2a4-42ee-b268-329a3ed543f4",
   "metadata": {},
   "outputs": [
    {
     "data": {
      "text/plain": [
       "<sqlalchemy.engine.cursor.LegacyCursorResult at 0x7f81a052a520>"
      ]
     },
     "execution_count": 23,
     "metadata": {},
     "output_type": "execute_result"
    }
   ],
   "source": [
    "conn1.execute(load_data_sql)"
   ]
  },
  {
   "cell_type": "code",
   "execution_count": 32,
   "id": "1f9a82d4-3a94-415a-8616-87fa7f785783",
   "metadata": {},
   "outputs": [
    {
     "ename": "ProgrammingError",
     "evalue": "(mysql.connector.errors.ProgrammingError) 1064 (42000): You have an error in your SQL syntax; check the manual that corresponds to your MariaDB server version for the right syntax to use near 'table ja_hist (1, 2, 3)' at line 1\n[SQL: insert into table ja_hist (1, 2, 3)]\n(Background on this error at: https://sqlalche.me/e/14/f405)",
     "output_type": "error",
     "traceback": [
      "\u001b[0;31m---------------------------------------------------------------------------\u001b[0m",
      "\u001b[0;31mProgrammingError\u001b[0m                          Traceback (most recent call last)",
      "\u001b[0;32m~/anaconda3/envs/py39/lib/python3.9/site-packages/sqlalchemy/engine/base.py\u001b[0m in \u001b[0;36m_execute_context\u001b[0;34m(self, dialect, constructor, statement, parameters, execution_options, *args, **kw)\u001b[0m\n\u001b[1;32m   1801\u001b[0m                 \u001b[0;32mif\u001b[0m \u001b[0;32mnot\u001b[0m \u001b[0mevt_handled\u001b[0m\u001b[0;34m:\u001b[0m\u001b[0;34m\u001b[0m\u001b[0;34m\u001b[0m\u001b[0m\n\u001b[0;32m-> 1802\u001b[0;31m                     self.dialect.do_execute(\n\u001b[0m\u001b[1;32m   1803\u001b[0m                         \u001b[0mcursor\u001b[0m\u001b[0;34m,\u001b[0m \u001b[0mstatement\u001b[0m\u001b[0;34m,\u001b[0m \u001b[0mparameters\u001b[0m\u001b[0;34m,\u001b[0m \u001b[0mcontext\u001b[0m\u001b[0;34m\u001b[0m\u001b[0;34m\u001b[0m\u001b[0m\n",
      "\u001b[0;32m~/anaconda3/envs/py39/lib/python3.9/site-packages/sqlalchemy/engine/default.py\u001b[0m in \u001b[0;36mdo_execute\u001b[0;34m(self, cursor, statement, parameters, context)\u001b[0m\n\u001b[1;32m    718\u001b[0m     \u001b[0;32mdef\u001b[0m \u001b[0mdo_execute\u001b[0m\u001b[0;34m(\u001b[0m\u001b[0mself\u001b[0m\u001b[0;34m,\u001b[0m \u001b[0mcursor\u001b[0m\u001b[0;34m,\u001b[0m \u001b[0mstatement\u001b[0m\u001b[0;34m,\u001b[0m \u001b[0mparameters\u001b[0m\u001b[0;34m,\u001b[0m \u001b[0mcontext\u001b[0m\u001b[0;34m=\u001b[0m\u001b[0;32mNone\u001b[0m\u001b[0;34m)\u001b[0m\u001b[0;34m:\u001b[0m\u001b[0;34m\u001b[0m\u001b[0;34m\u001b[0m\u001b[0m\n\u001b[0;32m--> 719\u001b[0;31m         \u001b[0mcursor\u001b[0m\u001b[0;34m.\u001b[0m\u001b[0mexecute\u001b[0m\u001b[0;34m(\u001b[0m\u001b[0mstatement\u001b[0m\u001b[0;34m,\u001b[0m \u001b[0mparameters\u001b[0m\u001b[0;34m)\u001b[0m\u001b[0;34m\u001b[0m\u001b[0;34m\u001b[0m\u001b[0m\n\u001b[0m\u001b[1;32m    720\u001b[0m \u001b[0;34m\u001b[0m\u001b[0m\n",
      "\u001b[0;32m~/anaconda3/envs/py39/lib/python3.9/site-packages/mysql/connector/cursor.py\u001b[0m in \u001b[0;36mexecute\u001b[0;34m(self, operation, params, multi)\u001b[0m\n\u001b[1;32m    550\u001b[0m             \u001b[0;32mtry\u001b[0m\u001b[0;34m:\u001b[0m\u001b[0;34m\u001b[0m\u001b[0;34m\u001b[0m\u001b[0m\n\u001b[0;32m--> 551\u001b[0;31m                 \u001b[0mself\u001b[0m\u001b[0;34m.\u001b[0m\u001b[0m_handle_result\u001b[0m\u001b[0;34m(\u001b[0m\u001b[0mself\u001b[0m\u001b[0;34m.\u001b[0m\u001b[0m_connection\u001b[0m\u001b[0;34m.\u001b[0m\u001b[0mcmd_query\u001b[0m\u001b[0;34m(\u001b[0m\u001b[0mstmt\u001b[0m\u001b[0;34m)\u001b[0m\u001b[0;34m)\u001b[0m\u001b[0;34m\u001b[0m\u001b[0;34m\u001b[0m\u001b[0m\n\u001b[0m\u001b[1;32m    552\u001b[0m             \u001b[0;32mexcept\u001b[0m \u001b[0merrors\u001b[0m\u001b[0;34m.\u001b[0m\u001b[0mInterfaceError\u001b[0m\u001b[0;34m:\u001b[0m\u001b[0;34m\u001b[0m\u001b[0;34m\u001b[0m\u001b[0m\n",
      "\u001b[0;32m~/anaconda3/envs/py39/lib/python3.9/site-packages/mysql/connector/connection.py\u001b[0m in \u001b[0;36mcmd_query\u001b[0;34m(self, query, raw, buffered, raw_as_string)\u001b[0m\n\u001b[1;32m    489\u001b[0m             \u001b[0mquery\u001b[0m \u001b[0;34m=\u001b[0m \u001b[0mquery\u001b[0m\u001b[0;34m.\u001b[0m\u001b[0mencode\u001b[0m\u001b[0;34m(\u001b[0m\u001b[0;34m'utf-8'\u001b[0m\u001b[0;34m)\u001b[0m\u001b[0;34m\u001b[0m\u001b[0;34m\u001b[0m\u001b[0m\n\u001b[0;32m--> 490\u001b[0;31m         \u001b[0mresult\u001b[0m \u001b[0;34m=\u001b[0m \u001b[0mself\u001b[0m\u001b[0;34m.\u001b[0m\u001b[0m_handle_result\u001b[0m\u001b[0;34m(\u001b[0m\u001b[0mself\u001b[0m\u001b[0;34m.\u001b[0m\u001b[0m_send_cmd\u001b[0m\u001b[0;34m(\u001b[0m\u001b[0mServerCmd\u001b[0m\u001b[0;34m.\u001b[0m\u001b[0mQUERY\u001b[0m\u001b[0;34m,\u001b[0m \u001b[0mquery\u001b[0m\u001b[0;34m)\u001b[0m\u001b[0;34m)\u001b[0m\u001b[0;34m\u001b[0m\u001b[0;34m\u001b[0m\u001b[0m\n\u001b[0m\u001b[1;32m    491\u001b[0m \u001b[0;34m\u001b[0m\u001b[0m\n",
      "\u001b[0;32m~/anaconda3/envs/py39/lib/python3.9/site-packages/mysql/connector/connection.py\u001b[0m in \u001b[0;36m_handle_result\u001b[0;34m(self, packet)\u001b[0m\n\u001b[1;32m    394\u001b[0m         \u001b[0;32melif\u001b[0m \u001b[0mpacket\u001b[0m\u001b[0;34m[\u001b[0m\u001b[0;36m4\u001b[0m\u001b[0;34m]\u001b[0m \u001b[0;34m==\u001b[0m \u001b[0;36m255\u001b[0m\u001b[0;34m:\u001b[0m\u001b[0;34m\u001b[0m\u001b[0;34m\u001b[0m\u001b[0m\n\u001b[0;32m--> 395\u001b[0;31m             \u001b[0;32mraise\u001b[0m \u001b[0merrors\u001b[0m\u001b[0;34m.\u001b[0m\u001b[0mget_exception\u001b[0m\u001b[0;34m(\u001b[0m\u001b[0mpacket\u001b[0m\u001b[0;34m)\u001b[0m\u001b[0;34m\u001b[0m\u001b[0;34m\u001b[0m\u001b[0m\n\u001b[0m\u001b[1;32m    396\u001b[0m \u001b[0;34m\u001b[0m\u001b[0m\n",
      "\u001b[0;31mProgrammingError\u001b[0m: 1064 (42000): You have an error in your SQL syntax; check the manual that corresponds to your MariaDB server version for the right syntax to use near 'table ja_hist (1, 2, 3)' at line 1",
      "\nThe above exception was the direct cause of the following exception:\n",
      "\u001b[0;31mProgrammingError\u001b[0m                          Traceback (most recent call last)",
      "\u001b[0;32m/tmp/ipykernel_4963/1228117358.py\u001b[0m in \u001b[0;36m<module>\u001b[0;34m\u001b[0m\n\u001b[0;32m----> 1\u001b[0;31m \u001b[0mconn1\u001b[0m\u001b[0;34m.\u001b[0m\u001b[0mexecute\u001b[0m\u001b[0;34m(\u001b[0m\u001b[0;34m'insert into table ja_hist (1, 2, 3)'\u001b[0m\u001b[0;34m)\u001b[0m\u001b[0;34m\u001b[0m\u001b[0;34m\u001b[0m\u001b[0m\n\u001b[0m",
      "\u001b[0;32m~/anaconda3/envs/py39/lib/python3.9/site-packages/sqlalchemy/engine/base.py\u001b[0m in \u001b[0;36mexecute\u001b[0;34m(self, statement, *multiparams, **params)\u001b[0m\n\u001b[1;32m   1272\u001b[0m             )\n\u001b[1;32m   1273\u001b[0m \u001b[0;34m\u001b[0m\u001b[0m\n\u001b[0;32m-> 1274\u001b[0;31m             return self._exec_driver_sql(\n\u001b[0m\u001b[1;32m   1275\u001b[0m                 \u001b[0mstatement\u001b[0m\u001b[0;34m,\u001b[0m\u001b[0;34m\u001b[0m\u001b[0;34m\u001b[0m\u001b[0m\n\u001b[1;32m   1276\u001b[0m                 \u001b[0mmultiparams\u001b[0m\u001b[0;34m,\u001b[0m\u001b[0;34m\u001b[0m\u001b[0;34m\u001b[0m\u001b[0m\n",
      "\u001b[0;32m~/anaconda3/envs/py39/lib/python3.9/site-packages/sqlalchemy/engine/base.py\u001b[0m in \u001b[0;36m_exec_driver_sql\u001b[0;34m(self, statement, multiparams, params, execution_options, future)\u001b[0m\n\u001b[1;32m   1576\u001b[0m \u001b[0;34m\u001b[0m\u001b[0m\n\u001b[1;32m   1577\u001b[0m         \u001b[0mdialect\u001b[0m \u001b[0;34m=\u001b[0m \u001b[0mself\u001b[0m\u001b[0;34m.\u001b[0m\u001b[0mdialect\u001b[0m\u001b[0;34m\u001b[0m\u001b[0;34m\u001b[0m\u001b[0m\n\u001b[0;32m-> 1578\u001b[0;31m         ret = self._execute_context(\n\u001b[0m\u001b[1;32m   1579\u001b[0m             \u001b[0mdialect\u001b[0m\u001b[0;34m,\u001b[0m\u001b[0;34m\u001b[0m\u001b[0;34m\u001b[0m\u001b[0m\n\u001b[1;32m   1580\u001b[0m             \u001b[0mdialect\u001b[0m\u001b[0;34m.\u001b[0m\u001b[0mexecution_ctx_cls\u001b[0m\u001b[0;34m.\u001b[0m\u001b[0m_init_statement\u001b[0m\u001b[0;34m,\u001b[0m\u001b[0;34m\u001b[0m\u001b[0;34m\u001b[0m\u001b[0m\n",
      "\u001b[0;32m~/anaconda3/envs/py39/lib/python3.9/site-packages/sqlalchemy/engine/base.py\u001b[0m in \u001b[0;36m_execute_context\u001b[0;34m(self, dialect, constructor, statement, parameters, execution_options, *args, **kw)\u001b[0m\n\u001b[1;32m   1843\u001b[0m \u001b[0;34m\u001b[0m\u001b[0m\n\u001b[1;32m   1844\u001b[0m         \u001b[0;32mexcept\u001b[0m \u001b[0mBaseException\u001b[0m \u001b[0;32mas\u001b[0m \u001b[0me\u001b[0m\u001b[0;34m:\u001b[0m\u001b[0;34m\u001b[0m\u001b[0;34m\u001b[0m\u001b[0m\n\u001b[0;32m-> 1845\u001b[0;31m             self._handle_dbapi_exception(\n\u001b[0m\u001b[1;32m   1846\u001b[0m                 \u001b[0me\u001b[0m\u001b[0;34m,\u001b[0m \u001b[0mstatement\u001b[0m\u001b[0;34m,\u001b[0m \u001b[0mparameters\u001b[0m\u001b[0;34m,\u001b[0m \u001b[0mcursor\u001b[0m\u001b[0;34m,\u001b[0m \u001b[0mcontext\u001b[0m\u001b[0;34m\u001b[0m\u001b[0;34m\u001b[0m\u001b[0m\n\u001b[1;32m   1847\u001b[0m             )\n",
      "\u001b[0;32m~/anaconda3/envs/py39/lib/python3.9/site-packages/sqlalchemy/engine/base.py\u001b[0m in \u001b[0;36m_handle_dbapi_exception\u001b[0;34m(self, e, statement, parameters, cursor, context)\u001b[0m\n\u001b[1;32m   2024\u001b[0m                 \u001b[0mutil\u001b[0m\u001b[0;34m.\u001b[0m\u001b[0mraise_\u001b[0m\u001b[0;34m(\u001b[0m\u001b[0mnewraise\u001b[0m\u001b[0;34m,\u001b[0m \u001b[0mwith_traceback\u001b[0m\u001b[0;34m=\u001b[0m\u001b[0mexc_info\u001b[0m\u001b[0;34m[\u001b[0m\u001b[0;36m2\u001b[0m\u001b[0;34m]\u001b[0m\u001b[0;34m,\u001b[0m \u001b[0mfrom_\u001b[0m\u001b[0;34m=\u001b[0m\u001b[0me\u001b[0m\u001b[0;34m)\u001b[0m\u001b[0;34m\u001b[0m\u001b[0;34m\u001b[0m\u001b[0m\n\u001b[1;32m   2025\u001b[0m             \u001b[0;32melif\u001b[0m \u001b[0mshould_wrap\u001b[0m\u001b[0;34m:\u001b[0m\u001b[0;34m\u001b[0m\u001b[0;34m\u001b[0m\u001b[0m\n\u001b[0;32m-> 2026\u001b[0;31m                 util.raise_(\n\u001b[0m\u001b[1;32m   2027\u001b[0m                     \u001b[0msqlalchemy_exception\u001b[0m\u001b[0;34m,\u001b[0m \u001b[0mwith_traceback\u001b[0m\u001b[0;34m=\u001b[0m\u001b[0mexc_info\u001b[0m\u001b[0;34m[\u001b[0m\u001b[0;36m2\u001b[0m\u001b[0;34m]\u001b[0m\u001b[0;34m,\u001b[0m \u001b[0mfrom_\u001b[0m\u001b[0;34m=\u001b[0m\u001b[0me\u001b[0m\u001b[0;34m\u001b[0m\u001b[0;34m\u001b[0m\u001b[0m\n\u001b[1;32m   2028\u001b[0m                 )\n",
      "\u001b[0;32m~/anaconda3/envs/py39/lib/python3.9/site-packages/sqlalchemy/util/compat.py\u001b[0m in \u001b[0;36mraise_\u001b[0;34m(***failed resolving arguments***)\u001b[0m\n\u001b[1;32m    205\u001b[0m \u001b[0;34m\u001b[0m\u001b[0m\n\u001b[1;32m    206\u001b[0m         \u001b[0;32mtry\u001b[0m\u001b[0;34m:\u001b[0m\u001b[0;34m\u001b[0m\u001b[0;34m\u001b[0m\u001b[0m\n\u001b[0;32m--> 207\u001b[0;31m             \u001b[0;32mraise\u001b[0m \u001b[0mexception\u001b[0m\u001b[0;34m\u001b[0m\u001b[0;34m\u001b[0m\u001b[0m\n\u001b[0m\u001b[1;32m    208\u001b[0m         \u001b[0;32mfinally\u001b[0m\u001b[0;34m:\u001b[0m\u001b[0;34m\u001b[0m\u001b[0;34m\u001b[0m\u001b[0m\n\u001b[1;32m    209\u001b[0m             \u001b[0;31m# credit to\u001b[0m\u001b[0;34m\u001b[0m\u001b[0;34m\u001b[0m\u001b[0m\n",
      "\u001b[0;32m~/anaconda3/envs/py39/lib/python3.9/site-packages/sqlalchemy/engine/base.py\u001b[0m in \u001b[0;36m_execute_context\u001b[0;34m(self, dialect, constructor, statement, parameters, execution_options, *args, **kw)\u001b[0m\n\u001b[1;32m   1800\u001b[0m                             \u001b[0;32mbreak\u001b[0m\u001b[0;34m\u001b[0m\u001b[0;34m\u001b[0m\u001b[0m\n\u001b[1;32m   1801\u001b[0m                 \u001b[0;32mif\u001b[0m \u001b[0;32mnot\u001b[0m \u001b[0mevt_handled\u001b[0m\u001b[0;34m:\u001b[0m\u001b[0;34m\u001b[0m\u001b[0;34m\u001b[0m\u001b[0m\n\u001b[0;32m-> 1802\u001b[0;31m                     self.dialect.do_execute(\n\u001b[0m\u001b[1;32m   1803\u001b[0m                         \u001b[0mcursor\u001b[0m\u001b[0;34m,\u001b[0m \u001b[0mstatement\u001b[0m\u001b[0;34m,\u001b[0m \u001b[0mparameters\u001b[0m\u001b[0;34m,\u001b[0m \u001b[0mcontext\u001b[0m\u001b[0;34m\u001b[0m\u001b[0;34m\u001b[0m\u001b[0m\n\u001b[1;32m   1804\u001b[0m                     )\n",
      "\u001b[0;32m~/anaconda3/envs/py39/lib/python3.9/site-packages/sqlalchemy/engine/default.py\u001b[0m in \u001b[0;36mdo_execute\u001b[0;34m(self, cursor, statement, parameters, context)\u001b[0m\n\u001b[1;32m    717\u001b[0m \u001b[0;34m\u001b[0m\u001b[0m\n\u001b[1;32m    718\u001b[0m     \u001b[0;32mdef\u001b[0m \u001b[0mdo_execute\u001b[0m\u001b[0;34m(\u001b[0m\u001b[0mself\u001b[0m\u001b[0;34m,\u001b[0m \u001b[0mcursor\u001b[0m\u001b[0;34m,\u001b[0m \u001b[0mstatement\u001b[0m\u001b[0;34m,\u001b[0m \u001b[0mparameters\u001b[0m\u001b[0;34m,\u001b[0m \u001b[0mcontext\u001b[0m\u001b[0;34m=\u001b[0m\u001b[0;32mNone\u001b[0m\u001b[0;34m)\u001b[0m\u001b[0;34m:\u001b[0m\u001b[0;34m\u001b[0m\u001b[0;34m\u001b[0m\u001b[0m\n\u001b[0;32m--> 719\u001b[0;31m         \u001b[0mcursor\u001b[0m\u001b[0;34m.\u001b[0m\u001b[0mexecute\u001b[0m\u001b[0;34m(\u001b[0m\u001b[0mstatement\u001b[0m\u001b[0;34m,\u001b[0m \u001b[0mparameters\u001b[0m\u001b[0;34m)\u001b[0m\u001b[0;34m\u001b[0m\u001b[0;34m\u001b[0m\u001b[0m\n\u001b[0m\u001b[1;32m    720\u001b[0m \u001b[0;34m\u001b[0m\u001b[0m\n\u001b[1;32m    721\u001b[0m     \u001b[0;32mdef\u001b[0m \u001b[0mdo_execute_no_params\u001b[0m\u001b[0;34m(\u001b[0m\u001b[0mself\u001b[0m\u001b[0;34m,\u001b[0m \u001b[0mcursor\u001b[0m\u001b[0;34m,\u001b[0m \u001b[0mstatement\u001b[0m\u001b[0;34m,\u001b[0m \u001b[0mcontext\u001b[0m\u001b[0;34m=\u001b[0m\u001b[0;32mNone\u001b[0m\u001b[0;34m)\u001b[0m\u001b[0;34m:\u001b[0m\u001b[0;34m\u001b[0m\u001b[0;34m\u001b[0m\u001b[0m\n",
      "\u001b[0;32m~/anaconda3/envs/py39/lib/python3.9/site-packages/mysql/connector/cursor.py\u001b[0m in \u001b[0;36mexecute\u001b[0;34m(self, operation, params, multi)\u001b[0m\n\u001b[1;32m    549\u001b[0m         \u001b[0;32melse\u001b[0m\u001b[0;34m:\u001b[0m\u001b[0;34m\u001b[0m\u001b[0;34m\u001b[0m\u001b[0m\n\u001b[1;32m    550\u001b[0m             \u001b[0;32mtry\u001b[0m\u001b[0;34m:\u001b[0m\u001b[0;34m\u001b[0m\u001b[0;34m\u001b[0m\u001b[0m\n\u001b[0;32m--> 551\u001b[0;31m                 \u001b[0mself\u001b[0m\u001b[0;34m.\u001b[0m\u001b[0m_handle_result\u001b[0m\u001b[0;34m(\u001b[0m\u001b[0mself\u001b[0m\u001b[0;34m.\u001b[0m\u001b[0m_connection\u001b[0m\u001b[0;34m.\u001b[0m\u001b[0mcmd_query\u001b[0m\u001b[0;34m(\u001b[0m\u001b[0mstmt\u001b[0m\u001b[0;34m)\u001b[0m\u001b[0;34m)\u001b[0m\u001b[0;34m\u001b[0m\u001b[0;34m\u001b[0m\u001b[0m\n\u001b[0m\u001b[1;32m    552\u001b[0m             \u001b[0;32mexcept\u001b[0m \u001b[0merrors\u001b[0m\u001b[0;34m.\u001b[0m\u001b[0mInterfaceError\u001b[0m\u001b[0;34m:\u001b[0m\u001b[0;34m\u001b[0m\u001b[0;34m\u001b[0m\u001b[0m\n\u001b[1;32m    553\u001b[0m                 \u001b[0;32mif\u001b[0m \u001b[0mself\u001b[0m\u001b[0;34m.\u001b[0m\u001b[0m_connection\u001b[0m\u001b[0;34m.\u001b[0m\u001b[0m_have_next_result\u001b[0m\u001b[0;34m:\u001b[0m  \u001b[0;31m# pylint: disable=W0212\u001b[0m\u001b[0;34m\u001b[0m\u001b[0;34m\u001b[0m\u001b[0m\n",
      "\u001b[0;32m~/anaconda3/envs/py39/lib/python3.9/site-packages/mysql/connector/connection.py\u001b[0m in \u001b[0;36mcmd_query\u001b[0;34m(self, query, raw, buffered, raw_as_string)\u001b[0m\n\u001b[1;32m    488\u001b[0m         \u001b[0;32mif\u001b[0m \u001b[0;32mnot\u001b[0m \u001b[0misinstance\u001b[0m\u001b[0;34m(\u001b[0m\u001b[0mquery\u001b[0m\u001b[0;34m,\u001b[0m \u001b[0mbytes\u001b[0m\u001b[0;34m)\u001b[0m\u001b[0;34m:\u001b[0m\u001b[0;34m\u001b[0m\u001b[0;34m\u001b[0m\u001b[0m\n\u001b[1;32m    489\u001b[0m             \u001b[0mquery\u001b[0m \u001b[0;34m=\u001b[0m \u001b[0mquery\u001b[0m\u001b[0;34m.\u001b[0m\u001b[0mencode\u001b[0m\u001b[0;34m(\u001b[0m\u001b[0;34m'utf-8'\u001b[0m\u001b[0;34m)\u001b[0m\u001b[0;34m\u001b[0m\u001b[0;34m\u001b[0m\u001b[0m\n\u001b[0;32m--> 490\u001b[0;31m         \u001b[0mresult\u001b[0m \u001b[0;34m=\u001b[0m \u001b[0mself\u001b[0m\u001b[0;34m.\u001b[0m\u001b[0m_handle_result\u001b[0m\u001b[0;34m(\u001b[0m\u001b[0mself\u001b[0m\u001b[0;34m.\u001b[0m\u001b[0m_send_cmd\u001b[0m\u001b[0;34m(\u001b[0m\u001b[0mServerCmd\u001b[0m\u001b[0;34m.\u001b[0m\u001b[0mQUERY\u001b[0m\u001b[0;34m,\u001b[0m \u001b[0mquery\u001b[0m\u001b[0;34m)\u001b[0m\u001b[0;34m)\u001b[0m\u001b[0;34m\u001b[0m\u001b[0;34m\u001b[0m\u001b[0m\n\u001b[0m\u001b[1;32m    491\u001b[0m \u001b[0;34m\u001b[0m\u001b[0m\n\u001b[1;32m    492\u001b[0m         \u001b[0;32mif\u001b[0m \u001b[0mself\u001b[0m\u001b[0;34m.\u001b[0m\u001b[0m_have_next_result\u001b[0m\u001b[0;34m:\u001b[0m\u001b[0;34m\u001b[0m\u001b[0;34m\u001b[0m\u001b[0m\n",
      "\u001b[0;32m~/anaconda3/envs/py39/lib/python3.9/site-packages/mysql/connector/connection.py\u001b[0m in \u001b[0;36m_handle_result\u001b[0;34m(self, packet)\u001b[0m\n\u001b[1;32m    393\u001b[0m             \u001b[0;32mreturn\u001b[0m \u001b[0mself\u001b[0m\u001b[0;34m.\u001b[0m\u001b[0m_handle_eof\u001b[0m\u001b[0;34m(\u001b[0m\u001b[0mpacket\u001b[0m\u001b[0;34m)\u001b[0m\u001b[0;34m\u001b[0m\u001b[0;34m\u001b[0m\u001b[0m\n\u001b[1;32m    394\u001b[0m         \u001b[0;32melif\u001b[0m \u001b[0mpacket\u001b[0m\u001b[0;34m[\u001b[0m\u001b[0;36m4\u001b[0m\u001b[0;34m]\u001b[0m \u001b[0;34m==\u001b[0m \u001b[0;36m255\u001b[0m\u001b[0;34m:\u001b[0m\u001b[0;34m\u001b[0m\u001b[0;34m\u001b[0m\u001b[0m\n\u001b[0;32m--> 395\u001b[0;31m             \u001b[0;32mraise\u001b[0m \u001b[0merrors\u001b[0m\u001b[0;34m.\u001b[0m\u001b[0mget_exception\u001b[0m\u001b[0;34m(\u001b[0m\u001b[0mpacket\u001b[0m\u001b[0;34m)\u001b[0m\u001b[0;34m\u001b[0m\u001b[0;34m\u001b[0m\u001b[0m\n\u001b[0m\u001b[1;32m    396\u001b[0m \u001b[0;34m\u001b[0m\u001b[0m\n\u001b[1;32m    397\u001b[0m         \u001b[0;31m# We have a text result set\u001b[0m\u001b[0;34m\u001b[0m\u001b[0;34m\u001b[0m\u001b[0m\n",
      "\u001b[0;31mProgrammingError\u001b[0m: (mysql.connector.errors.ProgrammingError) 1064 (42000): You have an error in your SQL syntax; check the manual that corresponds to your MariaDB server version for the right syntax to use near 'table ja_hist (1, 2, 3)' at line 1\n[SQL: insert into table ja_hist (1, 2, 3)]\n(Background on this error at: https://sqlalche.me/e/14/f405)"
     ]
    }
   ],
   "source": [
    "conn1.execute('insert into table ja_hist (1, 2, 3)')"
   ]
  },
  {
   "cell_type": "markdown",
   "id": "fa3f39d4-18b5-4944-9b9a-59bf8e422c58",
   "metadata": {},
   "source": [
    "START 19:24PM"
   ]
  },
  {
   "cell_type": "code",
   "execution_count": 24,
   "id": "07efe20d-3c05-4a18-b6f4-7be17587dd50",
   "metadata": {},
   "outputs": [
    {
     "name": "stdout",
     "output_type": "stream",
     "text": [
      "2022-01-09 15:29:23.785674\n",
      "   count(*)\n",
      "0         0\n",
      "2022-01-09 15:29:26.975744\n"
     ]
    }
   ],
   "source": [
    "tblname='ja_hist'\n",
    "sql_eda2 = f'select count(*) from {tblname};'\n",
    "print(dt.now())\n",
    "sql_rows = pd.read_sql(sql_eda2,engine1)\n",
    "print(sql_rows)\n",
    "print(dt.now())"
   ]
  },
  {
   "cell_type": "code",
   "execution_count": null,
   "id": "a05e45b0-f42b-41d4-81b1-e703955ea44c",
   "metadata": {},
   "outputs": [],
   "source": []
  }
 ],
 "metadata": {
  "kernelspec": {
   "display_name": "Python 3 (ipykernel)",
   "language": "python",
   "name": "python3"
  },
  "language_info": {
   "codemirror_mode": {
    "name": "ipython",
    "version": 3
   },
   "file_extension": ".py",
   "mimetype": "text/x-python",
   "name": "python",
   "nbconvert_exporter": "python",
   "pygments_lexer": "ipython3",
   "version": "3.9.7"
  }
 },
 "nbformat": 4,
 "nbformat_minor": 5
}
