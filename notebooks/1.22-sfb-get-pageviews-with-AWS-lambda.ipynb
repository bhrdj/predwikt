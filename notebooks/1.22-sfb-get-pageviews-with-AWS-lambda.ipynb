{
 "cells": [
  {
   "cell_type": "markdown",
   "id": "48660241-8117-4a73-b0b4-df969997b4ec",
   "metadata": {},
   "source": [
    "# get pageviews with AWS"
   ]
  },
  {
   "cell_type": "code",
   "execution_count": 6,
   "id": "17eba2f0-f33b-40f6-ae44-30c348ca5a6c",
   "metadata": {},
   "outputs": [],
   "source": [
    "import os, requests, bz2"
   ]
  },
  {
   "cell_type": "markdown",
   "id": "899ddcee-6006-4aa1-9219-877a34704748",
   "metadata": {},
   "source": [
    "##### function download_file"
   ]
  },
  {
   "cell_type": "code",
   "execution_count": 7,
   "id": "c1d5b0f9-df90-4710-8349-543a9723c17a",
   "metadata": {},
   "outputs": [],
   "source": [
    "def download_file(url, dirpath='./'):\n",
    "    local_filename = dirpath + url.split('/')[-1]\n",
    "    # NOTE the stream=True parameter below\n",
    "    with requests.get(url, stream=True) as r:\n",
    "        r.raise_for_status()\n",
    "        with open(local_filename, 'wb') as f:\n",
    "            for chunk in r.iter_content(chunk_size=131072):   #8192\n",
    "                # If you have chunk encoded response uncomment if\n",
    "                # and set chunk_size parameter to None.\n",
    "                #if chunk: \n",
    "                f.write(chunk)\n",
    "    return local_filename\n",
    "# https://stackoverflow.com/questions/16694907/download-large-file-in-python-with-requests"
   ]
  },
  {
   "cell_type": "markdown",
   "id": "22436e2d-f868-45c3-9371-a6d1f67c9c46",
   "metadata": {},
   "source": [
    "##### download many files"
   ]
  },
  {
   "cell_type": "code",
   "execution_count": 9,
   "id": "dc133509-4a97-4b65-b597-46a1ea2e243d",
   "metadata": {},
   "outputs": [],
   "source": [
    "urlpath = 'https://dumps.wikimedia.org/other/pageview_complete/2019/2019-10/'\n",
    "filenames = ['pageviews-20191001-user.bz2', 'pageviews-20191002-user.bz2']\n",
    "dirpath = '../data/raw/pageviews/'"
   ]
  },
  {
   "cell_type": "code",
   "execution_count": null,
   "id": "e249a7fc-04d6-4fa5-a00c-58f408a03743",
   "metadata": {},
   "outputs": [],
   "source": [
    "download_file()"
   ]
  },
  {
   "cell_type": "code",
   "execution_count": null,
   "id": "a6c117d0-ecba-4d58-895e-2d71e8d0a4a5",
   "metadata": {},
   "outputs": [],
   "source": [
    "for filename in filenames:\n",
    "    download_file(url=urlpath+filename, dirpath=dirpath)"
   ]
  },
  {
   "cell_type": "code",
   "execution_count": 5,
   "id": "ebd1e8c6-edfe-4e9d-94b5-47806c072bee",
   "metadata": {},
   "outputs": [
    {
     "name": "stdout",
     "output_type": "stream",
     "text": [
      "[NbConvertApp] Converting notebook 1.22-sfb-get-pageviews-with-AWS-lambda.ipynb to script\n",
      "[NbConvertApp] Writing 1256 bytes to 1.22-sfb-get-pageviews-with-AWS-lambda.py\n"
     ]
    }
   ],
   "source": [
    "# !jupyter nbconvert --to script '1.22-sfb-get-pageviews-with-AWS-lambda.ipynb'"
   ]
  },
  {
   "cell_type": "markdown",
   "id": "426c5806-a843-43a0-a655-a776e8fe2f49",
   "metadata": {
    "jp-MarkdownHeadingCollapsed": true,
    "tags": []
   },
   "source": [
    "##### -----"
   ]
  },
  {
   "cell_type": "markdown",
   "id": "14d36be5-731b-419b-93f7-8119a95682d4",
   "metadata": {},
   "source": [
    "###### ------"
   ]
  }
 ],
 "metadata": {
  "kernelspec": {
   "display_name": "Python 3 (ipykernel)",
   "language": "python",
   "name": "python3"
  },
  "language_info": {
   "codemirror_mode": {
    "name": "ipython",
    "version": 3
   },
   "file_extension": ".py",
   "mimetype": "text/x-python",
   "name": "python",
   "nbconvert_exporter": "python",
   "pygments_lexer": "ipython3",
   "version": "3.9.7"
  }
 },
 "nbformat": 4,
 "nbformat_minor": 5
}
