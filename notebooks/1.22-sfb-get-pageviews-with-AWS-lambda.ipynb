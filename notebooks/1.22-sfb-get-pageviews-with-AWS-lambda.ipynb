{
 "cells": [
  {
   "cell_type": "markdown",
   "id": "48660241-8117-4a73-b0b4-df969997b4ec",
   "metadata": {},
   "source": [
    "# get pageviews with AWS"
   ]
  },
  {
   "cell_type": "markdown",
   "id": "6efed6e0",
   "metadata": {},
   "source": [
    "#### how to do jupyter with aws"
   ]
  },
  {
   "cell_type": "markdown",
   "id": "00b3ed43",
   "metadata": {},
   "source": [
    "- https://dataschool.com/data-modeling-101/running-jupyter-notebook-on-an-ec2-server/\n",
    "    - except jupyter_notebook_config.py_ should be ...config.py instead\n",
    "- https://gist.github.com/J535D165/0e840291e7b2598ec157e13e9b9ca569\n",
    "    - trying this for how to use nohup\n",
    "- some medium [article](https://medium.com/@christinakouride/a-beginners-guide-to-running-jupyter-notebook-on-amazon-ec2-69e1b74e73cc#:~:text=Your%20Jupyter%20Notebook%20server%20will,for%20time%20not%20using%20it.)\n",
    "    - they pointed out that notebook will keep running, but didn't mention nohup"
   ]
  },
  {
   "cell_type": "code",
   "execution_count": 50,
   "id": "17eba2f0-f33b-40f6-ae44-30c348ca5a6c",
   "metadata": {},
   "outputs": [],
   "source": [
    "import os, requests, gzip, pickle\n",
    "import pandas as pd\n",
    "from datetime import datetime as dt"
   ]
  },
  {
   "cell_type": "code",
   "execution_count": 36,
   "id": "239986a0",
   "metadata": {},
   "outputs": [
    {
     "name": "stdout",
     "output_type": "stream",
     "text": [
      "3.9.7\n"
     ]
    }
   ],
   "source": [
    "from platform import python_version\n",
    "print(python_version())"
   ]
  },
  {
   "cell_type": "markdown",
   "id": "0623ad4c",
   "metadata": {},
   "source": [
    "## get page_titles and urls"
   ]
  },
  {
   "cell_type": "markdown",
   "id": "51db0b57",
   "metadata": {},
   "source": [
    "###### unpickle page title list"
   ]
  },
  {
   "cell_type": "code",
   "execution_count": null,
   "id": "1953a0a6",
   "metadata": {},
   "outputs": [],
   "source": [
    "with open(processed_path + 'disaster_descendants_raw.pickle', 'rb') as f:\n",
    "    disaster_descendants_raw = pickle.load(f)"
   ]
  },
  {
   "cell_type": "markdown",
   "id": "efeb4c9e",
   "metadata": {},
   "source": [
    "## functions"
   ]
  },
  {
   "cell_type": "markdown",
   "id": "899ddcee-6006-4aa1-9219-877a34704748",
   "metadata": {},
   "source": [
    "##### function download_file"
   ]
  },
  {
   "cell_type": "code",
   "execution_count": 26,
   "id": "c1d5b0f9-df90-4710-8349-543a9723c17a",
   "metadata": {},
   "outputs": [],
   "source": [
    "def download_file(url, dirpath='./'):\n",
    "    local_filepath = dirpath + url.split('/')[-1]\n",
    "    # NOTE the stream=True parameter below\n",
    "    with requests.get(url, stream=True) as r:\n",
    "        r.raise_for_status()\n",
    "        with open(local_filepath, 'wb') as f:\n",
    "            for chunk in r.iter_content(chunk_size=131072):   #8192\n",
    "                # If you have chunk encoded response uncomment if\n",
    "                # and set chunk_size parameter to None.\n",
    "                #if chunk: \n",
    "                f.write(chunk)\n",
    "    return local_filepath\n",
    "# https://stackoverflow.com/questions/16694907/download-large-file-in-python-with-requests"
   ]
  },
  {
   "cell_type": "markdown",
   "id": "b7843a92",
   "metadata": {},
   "source": [
    "###### function ```open_hour_file``` to provide the unzipped file to python"
   ]
  },
  {
   "cell_type": "code",
   "execution_count": 90,
   "id": "b992720d",
   "metadata": {},
   "outputs": [],
   "source": [
    "def open_hour_file(path:str):\n",
    "    if path[-3:] == \".gz\":\n",
    "        return gzip.open(path, mode=\"rt\", encoding=\"utf-8\", errors=\"replace\")\n",
    "    else:\n",
    "        return open(path, mode=\"rt\", encoding=\"utf-8\", errors=\"replace\")\n",
    "# https://github.com/mediawiki-utilities/python-mwviews/blob/main/src/mwviews/utilities/aggregate.py\n",
    "# https://stackoverflow.com/questions/30582162/creating-a-missing-directory-file-structure-python"
   ]
  },
  {
   "cell_type": "markdown",
   "id": "fe8091a2",
   "metadata": {},
   "source": [
    "###### function ```subset_pageviews_by_page_titles``` to clean and filter pageview records"
   ]
  },
  {
   "cell_type": "code",
   "execution_count": 94,
   "id": "c11c2de9",
   "metadata": {},
   "outputs": [],
   "source": [
    "def subset_pageviews_by_page_titles(fpath_in, fpath_out, page_titles, proj='ja'):\n",
    "    os.makedirs(os.path.dirname(fpath_out), exist_ok=True)\n",
    "    with (open_hour_file(fpath_in) as f_in, \n",
    "          open(fpath_out, 'w', encoding='utf-8') as f_out\n",
    "         ):\n",
    "        while (line := f_in.readline()):\n",
    "            if line[:3] != proj + ' ':\n",
    "                continue\n",
    "            lst = line.strip().split(sep=' ')\n",
    "            if lst[1] in page_titles:\n",
    "                f_out.write(line)"
   ]
  },
  {
   "cell_type": "markdown",
   "id": "7d2176f1",
   "metadata": {},
   "source": [
    "## get the files"
   ]
  },
  {
   "cell_type": "markdown",
   "id": "0845c6c8",
   "metadata": {},
   "source": []
  },
  {
   "cell_type": "markdown",
   "id": "1e61b3c7",
   "metadata": {},
   "source": [
    "###### get many urls"
   ]
  },
  {
   "cell_type": "code",
   "execution_count": null,
   "id": "5d838108",
   "metadata": {},
   "outputs": [],
   "source": [
    "'https://dumps.wikimedia.org/other/pageviews/2021/2021-01/pageviews-20210101-000000.gz'"
   ]
  },
  {
   "cell_type": "code",
   "execution_count": 96,
   "id": "3273d5ab",
   "metadata": {},
   "outputs": [],
   "source": [
    "ys = list(range(2021,2022))\n",
    "hour_strings = list(map(lambda x: str(x).zfill(2), range(0,24)))\n",
    "dates = pd.date_range(dt(ys[0],1,1), end=dt(ys[-1]+1,1,1), freq='D')  # , tz='Japan'\n",
    "hs = map(lambda x: str(x).zfill(2), range(0,24))\n",
    "base_url = 'https://dumps.wikimedia.org/other/pageviews/'\n",
    "out_dirpath = '../data/processed/pageviews/'\n",
    "\n",
    "urls = [f'{base_url}{d.year}/{d.year}-{str(d.month).zfill(2)}'\n",
    "        f'/pageviews-{d.year}{str(d.month).zfill(2)}{str(d.day).zfill(2)}-{h}0000.gz'\n",
    "        for d in dates for h in hour_strings]\n",
    "outpaths = [f'{out_dirpath}{d.year}/{d.year}-{str(d.month).zfill(2)}'\n",
    "        f'/pageviews-{d.year}{str(d.month).zfill(2)}{str(d.day).zfill(2)}-{h}0000.txt'\n",
    "        for d in dates for h in hour_strings]"
   ]
  },
  {
   "cell_type": "markdown",
   "id": "22436e2d-f868-45c3-9371-a6d1f67c9c46",
   "metadata": {},
   "source": [
    "##### download many files"
   ]
  },
  {
   "cell_type": "code",
   "execution_count": 98,
   "id": "949b4788",
   "metadata": {},
   "outputs": [
    {
     "data": {
      "text/plain": [
       "[]"
      ]
     },
     "execution_count": 98,
     "metadata": {},
     "output_type": "execute_result"
    }
   ],
   "source": [
    "os.listdir('../data/processed/pageviews/2021/2021-01/')"
   ]
  },
  {
   "cell_type": "code",
   "execution_count": null,
   "id": "392ba5d7",
   "metadata": {},
   "outputs": [],
   "source": [
    "start_time = datetime.datetime.now()\n",
    "for url, outpath in zip(urls, outpaths):\n",
    "    temp_fpath = download_file(url, dirpath=temp_dirpath)\n",
    "    subset_pageviews_by_page_titles(temp_fpath,outpath,['台風'])\n",
    "end_time = datetime.datetime.now()\n",
    "print(end_time - start_time)"
   ]
  },
  {
   "cell_type": "markdown",
   "id": "ac4ef089",
   "metadata": {},
   "source": [
    "###### peek"
   ]
  },
  {
   "cell_type": "code",
   "execution_count": null,
   "id": "ebd1e8c6-edfe-4e9d-94b5-47806c072bee",
   "metadata": {},
   "outputs": [],
   "source": [
    "# !jupyter nbconvert --to script '1.22-sfb-get-pageviews-with-AWS-lambda.ipynb'"
   ]
  },
  {
   "cell_type": "markdown",
   "id": "426c5806-a843-43a0-a655-a776e8fe2f49",
   "metadata": {
    "jp-MarkdownHeadingCollapsed": true,
    "tags": []
   },
   "source": [
    "##### -----"
   ]
  },
  {
   "cell_type": "markdown",
   "id": "14d36be5-731b-419b-93f7-8119a95682d4",
   "metadata": {},
   "source": [
    "###### ------"
   ]
  },
  {
   "cell_type": "markdown",
   "id": "8cdac068",
   "metadata": {},
   "source": [
    "##### test running cell while laptop sleeping"
   ]
  },
  {
   "cell_type": "markdown",
   "id": "a4629d60",
   "metadata": {},
   "source": [
    "###### idea"
   ]
  },
  {
   "cell_type": "markdown",
   "id": "018ec808",
   "metadata": {},
   "source": [
    "- consider the case where:\n",
    "    - i start the following cell's script as follows:\n",
    "        - on AWS from a ssh terminal \n",
    "        - via nohup jupyter on computer A\n",
    "    - then i disconnect the ssh from computer A\n",
    "        - so that the cell is still running in the instance\n",
    "- then i find the result that:\n",
    "    - i can reopen jupyter from another ssh terminal\n",
    "    - i can interrupt the script\n",
    "    - but i can't see its in-process results\n",
    "- strategy for now:\n",
    "    - develop the script on whatever computers\n",
    "    - then run it from a browser tab in my android phone\n",
    "        - that way i can keep \"tabs\" on it (😉)"
   ]
  },
  {
   "cell_type": "markdown",
   "id": "fb29c376",
   "metadata": {},
   "source": [
    "###### test code"
   ]
  },
  {
   "cell_type": "code",
   "execution_count": null,
   "id": "f2af2ef5",
   "metadata": {},
   "outputs": [],
   "source": [
    "from IPython.display import clear_output\n",
    "import time\n",
    "\n",
    "for i in range(600):\n",
    "    print(i)\n",
    "    time.sleep(1)\n",
    "    clear_output(wait=True)"
   ]
  }
 ],
 "metadata": {
  "kernelspec": {
   "display_name": "Python 3 (ipykernel)",
   "language": "python",
   "name": "python3"
  },
  "language_info": {
   "codemirror_mode": {
    "name": "ipython",
    "version": 3
   },
   "file_extension": ".py",
   "mimetype": "text/x-python",
   "name": "python",
   "nbconvert_exporter": "python",
   "pygments_lexer": "ipython3",
   "version": "3.9.7"
  }
 },
 "nbformat": 4,
 "nbformat_minor": 5
}
