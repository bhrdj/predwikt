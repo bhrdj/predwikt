{
 "cells": [
  {
   "cell_type": "markdown",
   "id": "48660241-8117-4a73-b0b4-df969997b4ec",
   "metadata": {},
   "source": [
    "# get pageviews with AWS"
   ]
  },
  {
   "cell_type": "code",
   "execution_count": 13,
   "id": "17eba2f0-f33b-40f6-ae44-30c348ca5a6c",
   "metadata": {},
   "outputs": [],
   "source": [
    "import os, requests, bz2\n",
    "import bz2"
   ]
  },
  {
   "cell_type": "markdown",
   "id": "899ddcee-6006-4aa1-9219-877a34704748",
   "metadata": {
    "jp-MarkdownHeadingCollapsed": true,
    "tags": []
   },
   "source": [
    "##### function download_file"
   ]
  },
  {
   "cell_type": "code",
   "execution_count": 7,
   "id": "c1d5b0f9-df90-4710-8349-543a9723c17a",
   "metadata": {},
   "outputs": [],
   "source": [
    "def download_file(url, dirpath='./'):\n",
    "    local_filename = dirpath + url.split('/')[-1]\n",
    "    # NOTE the stream=True parameter below\n",
    "    with requests.get(url, stream=True) as r:\n",
    "        r.raise_for_status()\n",
    "        with open(local_filename, 'wb') as f:\n",
    "            for chunk in r.iter_content(chunk_size=131072):   #8192\n",
    "                # If you have chunk encoded response uncomment if\n",
    "                # and set chunk_size parameter to None.\n",
    "                #if chunk: \n",
    "                f.write(chunk)\n",
    "    return local_filename\n",
    "# https://stackoverflow.com/questions/16694907/download-large-file-in-python-with-requests"
   ]
  },
  {
   "cell_type": "markdown",
   "id": "22436e2d-f868-45c3-9371-a6d1f67c9c46",
   "metadata": {},
   "source": [
    "##### download two files"
   ]
  },
  {
   "cell_type": "code",
   "execution_count": 9,
   "id": "dc133509-4a97-4b65-b597-46a1ea2e243d",
   "metadata": {},
   "outputs": [],
   "source": [
    "urlpath = 'https://dumps.wikimedia.org/other/pageview_complete/2019/2019-10/'\n",
    "filenames = ['pageviews-20191001-user.bz2', 'pageviews-20191002-user.bz2']\n",
    "dirpath = '../data/raw/pageviews/'"
   ]
  },
  {
   "cell_type": "code",
   "execution_count": null,
   "id": "efd61fbb-555f-4b11-b99f-c1f2c8c2cf48",
   "metadata": {},
   "outputs": [],
   "source": [
    "for filename in filenames:\n",
    "    download_file(url=urlpath+filename, dirpath=dirpath)"
   ]
  },
  {
   "cell_type": "markdown",
   "id": "7efb5f43-0196-4c74-ac68-1b1b55dbcae9",
   "metadata": {},
   "source": [
    "##### open the bz2"
   ]
  },
  {
   "cell_type": "code",
   "execution_count": 14,
   "id": "1355f0fd-89c0-4a5d-bc45-c7b38e57d689",
   "metadata": {},
   "outputs": [],
   "source": [
    "for filename in [filenames[0]]:\n",
    "    filepath = os.path.join(dirpath, filename)\n",
    "    newfilepath = os.path.join(dirpath, filename + '.decompressed')\n",
    "    with open(newfilepath, 'wb') as new_file, bz2.BZ2File(filepath, 'rb') as file:\n",
    "        for data in iter(lambda : file.read(100 * 1024), b''):\n",
    "            new_file.write(data)"
   ]
  },
  {
   "cell_type": "markdown",
   "id": "f01050a9-f155-4c65-9e58-d95c95a18ed7",
   "metadata": {},
   "source": [
    "##### peek at the bz2"
   ]
  },
  {
   "cell_type": "markdown",
   "id": "de93346e-0899-44ff-8acc-1ffb10f566ce",
   "metadata": {
    "tags": []
   },
   "source": [
    "###### function decode_if_it_can"
   ]
  },
  {
   "cell_type": "code",
   "execution_count": 17,
   "id": "f64e01f0-758c-467e-b5f7-80e7a6d3f89c",
   "metadata": {},
   "outputs": [],
   "source": [
    "def decode_if_it_can(value):\n",
    "    \"\"\"\n",
    "    Tries to decode a possible bytes object with utf-8. \n",
    "    If fails, silently returns input.\n",
    "    INPUTS: object\n",
    "    OUTPUTS: input or decoded string\n",
    "    \"\"\"\n",
    "    try:\n",
    "        value = value.decode('utf-8')\n",
    "    except (UnicodeDecodeError, AttributeError):\n",
    "        pass\n",
    "    finally:\n",
    "        return value"
   ]
  },
  {
   "cell_type": "markdown",
   "id": "0dcbfaf9-e32c-458c-b622-fd6d4209edb2",
   "metadata": {},
   "source": [
    "###### peek"
   ]
  },
  {
   "cell_type": "code",
   "execution_count": 33,
   "id": "8a3f0f50-281f-47f2-adb9-7153d2d2e56d",
   "metadata": {},
   "outputs": [],
   "source": [
    "d = {}\n",
    "with open(dirpath+filename, 'rb') as f:\n",
    "    for i in range(10):\n",
    "        d[i] = f.readline()\n",
    "        # print(f.readline().decode('utf-8'))\n",
    "        # print(decode_if_it_can(f.readline()))"
   ]
  },
  {
   "cell_type": "code",
   "execution_count": 87,
   "id": "8099ebe2-8474-48eb-8a97-ff4e83cc534a",
   "metadata": {},
   "outputs": [
    {
     "ename": "SyntaxError",
     "evalue": "invalid syntax (1964977328.py, line 1)",
     "output_type": "error",
     "traceback": [
      "\u001b[0;36m  File \u001b[0;32m\"/tmp/ipykernel_12214/1964977328.py\"\u001b[0;36m, line \u001b[0;32m1\u001b[0m\n\u001b[0;31m    d[2][(x:=):x+3].decode('utf-8')\u001b[0m\n\u001b[0m             ^\u001b[0m\n\u001b[0;31mSyntaxError\u001b[0m\u001b[0;31m:\u001b[0m invalid syntax\n"
     ]
    }
   ],
   "source": [
    "d[2][(x:=):x+3].decode('utf-8')"
   ]
  },
  {
   "cell_type": "code",
   "execution_count": null,
   "id": "70db7483-97ec-4a73-9eb4-2d5f9c077109",
   "metadata": {},
   "outputs": [],
   "source": []
  },
  {
   "cell_type": "code",
   "execution_count": null,
   "id": "ebd1e8c6-edfe-4e9d-94b5-47806c072bee",
   "metadata": {},
   "outputs": [],
   "source": [
    "# !jupyter nbconvert --to script '1.22-sfb-get-pageviews-with-AWS-lambda.ipynb'"
   ]
  },
  {
   "cell_type": "markdown",
   "id": "426c5806-a843-43a0-a655-a776e8fe2f49",
   "metadata": {
    "jp-MarkdownHeadingCollapsed": true,
    "tags": []
   },
   "source": [
    "##### -----"
   ]
  },
  {
   "cell_type": "markdown",
   "id": "14d36be5-731b-419b-93f7-8119a95682d4",
   "metadata": {},
   "source": [
    "###### ------"
   ]
  }
 ],
 "metadata": {
  "kernelspec": {
   "display_name": "Python 3 (ipykernel)",
   "language": "python",
   "name": "python3"
  },
  "language_info": {
   "codemirror_mode": {
    "name": "ipython",
    "version": 3
   },
   "file_extension": ".py",
   "mimetype": "text/x-python",
   "name": "python",
   "nbconvert_exporter": "python",
   "pygments_lexer": "ipython3",
   "version": "3.9.7"
  }
 },
 "nbformat": 4,
 "nbformat_minor": 5
}
